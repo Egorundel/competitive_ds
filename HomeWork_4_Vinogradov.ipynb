{
  "cells": [
    {
      "cell_type": "markdown",
      "metadata": {
        "id": "_Yx1Mi7abuht"
      },
      "source": [
        "# План домашних заданий"
      ]
    },
    {
      "cell_type": "markdown",
      "source": [
        "\n",
        "- Описание задачи и знакомство с данными\n",
        "- Домашнее задание 1. Генерация и фильтрация признаков\n",
        "- Домашнее задание 2. Прогноз времени и вида поломки машин, настройка ML-модели\n",
        "- Дополнительное задание. Визуализация прогнозов, ошибок модели и важности признаков\n",
        "- Домашнее задание 3. Оптимизация. Тюнинг гиперпараметров с помощью `Optuna`\n",
        "- Домашнее задание 4. Блендинг\n",
        "- Домашнее задание 5. Парсинг внешних данных и оптимизация памяти\n",
        "- Отправка финального решения на лидерборд на Kaggle"
      ],
      "metadata": {
        "id": "_HK3X8tveQhH"
      }
    },
    {
      "cell_type": "code",
      "execution_count": 123,
      "metadata": {
        "tags": [],
        "id": "cfomgq3Sbuht"
      },
      "outputs": [],
      "source": [
        "import pandas as pd\n",
        "import numpy as np\n",
        "import matplotlib.pyplot as plt\n",
        "import seaborn as sns\n",
        "import sklearn"
      ]
    },
    {
      "cell_type": "markdown",
      "metadata": {
        "id": "fkeIBE5Kbuht"
      },
      "source": [
        "# <center id=\"part0\"> Описание задачи"
      ]
    },
    {
      "cell_type": "markdown",
      "metadata": {
        "id": "MKmknPZbbuht"
      },
      "source": [
        "**Предыстория:**  мы работаем с каршеринговой компанией, которая управляет крупным автопарком машин. Наша цель — предотвратить длительные периоды простоя машин из-за поломок через своевременное обслуживание и ремонт.\n",
        "\n",
        "\n",
        "**Идея для решения проблемы:** создать приоритизированный список обхода машин. Этот список поможет технической бригаде сосредоточиться на автомобилях, которые наиболее вероятно выйдут из строя в ближайшее время.\n",
        "\n",
        "\n",
        "**Как компания решает задачу:**\n",
        "\n",
        "* Собирает данные о поездках и состоянии машин до поломок.\n",
        "\n",
        "* Нанимает Data Scientist, чтобы он смог использовать эти данные для анализа и прогнозирования характера поломок.\n",
        "\n",
        "**Важный момент**: задачи этого специалиста (Data Scientist) предстоит выполнять вам."
      ]
    },
    {
      "cell_type": "markdown",
      "metadata": {
        "id": "-VMB1MVpbuhu"
      },
      "source": [
        "## <center> Знакомство с данными"
      ]
    },
    {
      "cell_type": "markdown",
      "metadata": {
        "id": "TtZE_Frrbuhu"
      },
      "source": [
        "### Информация про машины с таргетом (основной датасет)"
      ]
    },
    {
      "cell_type": "code",
      "execution_count": 124,
      "metadata": {
        "tags": [],
        "id": "DhA6zYqebuhu",
        "outputId": "fc773c7c-3a93-4882-b595-83d77de525d3",
        "colab": {
          "base_uri": "https://localhost:8080/",
          "height": 206
        }
      },
      "outputs": [
        {
          "output_type": "execute_result",
          "data": {
            "text/plain": [
              "          car_id            model  car_type fuel_type  car_rating  \\\n",
              "175   a68025486E   Kia Rio X-line   economy    petrol        3.82   \n",
              "2321  e40587429i      Skoda Rapid   economy    petrol        3.64   \n",
              "806   v-1935966T  Hyundai Solaris   economy    petrol        4.70   \n",
              "1686  W-1536006u  Renault Sandero  standart    petrol        4.84   \n",
              "1392  U19913900a          Kia Rio   economy    petrol        4.38   \n",
              "\n",
              "      year_to_start  riders  year_to_work  target_reg     target_class  \n",
              "175            2013   44337          2017       25.35      electro_bug  \n",
              "2321           2017  125757          2018       42.03       gear_stick  \n",
              "806            2012   22882          2017       43.95  engine_overheat  \n",
              "1686           2014   64523          2021       37.03      engine_fuel  \n",
              "1392           2012   21139          2018       34.20        break_bug  "
            ],
            "text/html": [
              "\n",
              "  <div id=\"df-bded1bec-e583-492b-96fa-7839657cc5bc\" class=\"colab-df-container\">\n",
              "    <div>\n",
              "<style scoped>\n",
              "    .dataframe tbody tr th:only-of-type {\n",
              "        vertical-align: middle;\n",
              "    }\n",
              "\n",
              "    .dataframe tbody tr th {\n",
              "        vertical-align: top;\n",
              "    }\n",
              "\n",
              "    .dataframe thead th {\n",
              "        text-align: right;\n",
              "    }\n",
              "</style>\n",
              "<table border=\"1\" class=\"dataframe\">\n",
              "  <thead>\n",
              "    <tr style=\"text-align: right;\">\n",
              "      <th></th>\n",
              "      <th>car_id</th>\n",
              "      <th>model</th>\n",
              "      <th>car_type</th>\n",
              "      <th>fuel_type</th>\n",
              "      <th>car_rating</th>\n",
              "      <th>year_to_start</th>\n",
              "      <th>riders</th>\n",
              "      <th>year_to_work</th>\n",
              "      <th>target_reg</th>\n",
              "      <th>target_class</th>\n",
              "    </tr>\n",
              "  </thead>\n",
              "  <tbody>\n",
              "    <tr>\n",
              "      <th>175</th>\n",
              "      <td>a68025486E</td>\n",
              "      <td>Kia Rio X-line</td>\n",
              "      <td>economy</td>\n",
              "      <td>petrol</td>\n",
              "      <td>3.82</td>\n",
              "      <td>2013</td>\n",
              "      <td>44337</td>\n",
              "      <td>2017</td>\n",
              "      <td>25.35</td>\n",
              "      <td>electro_bug</td>\n",
              "    </tr>\n",
              "    <tr>\n",
              "      <th>2321</th>\n",
              "      <td>e40587429i</td>\n",
              "      <td>Skoda Rapid</td>\n",
              "      <td>economy</td>\n",
              "      <td>petrol</td>\n",
              "      <td>3.64</td>\n",
              "      <td>2017</td>\n",
              "      <td>125757</td>\n",
              "      <td>2018</td>\n",
              "      <td>42.03</td>\n",
              "      <td>gear_stick</td>\n",
              "    </tr>\n",
              "    <tr>\n",
              "      <th>806</th>\n",
              "      <td>v-1935966T</td>\n",
              "      <td>Hyundai Solaris</td>\n",
              "      <td>economy</td>\n",
              "      <td>petrol</td>\n",
              "      <td>4.70</td>\n",
              "      <td>2012</td>\n",
              "      <td>22882</td>\n",
              "      <td>2017</td>\n",
              "      <td>43.95</td>\n",
              "      <td>engine_overheat</td>\n",
              "    </tr>\n",
              "    <tr>\n",
              "      <th>1686</th>\n",
              "      <td>W-1536006u</td>\n",
              "      <td>Renault Sandero</td>\n",
              "      <td>standart</td>\n",
              "      <td>petrol</td>\n",
              "      <td>4.84</td>\n",
              "      <td>2014</td>\n",
              "      <td>64523</td>\n",
              "      <td>2021</td>\n",
              "      <td>37.03</td>\n",
              "      <td>engine_fuel</td>\n",
              "    </tr>\n",
              "    <tr>\n",
              "      <th>1392</th>\n",
              "      <td>U19913900a</td>\n",
              "      <td>Kia Rio</td>\n",
              "      <td>economy</td>\n",
              "      <td>petrol</td>\n",
              "      <td>4.38</td>\n",
              "      <td>2012</td>\n",
              "      <td>21139</td>\n",
              "      <td>2018</td>\n",
              "      <td>34.20</td>\n",
              "      <td>break_bug</td>\n",
              "    </tr>\n",
              "  </tbody>\n",
              "</table>\n",
              "</div>\n",
              "    <div class=\"colab-df-buttons\">\n",
              "\n",
              "  <div class=\"colab-df-container\">\n",
              "    <button class=\"colab-df-convert\" onclick=\"convertToInteractive('df-bded1bec-e583-492b-96fa-7839657cc5bc')\"\n",
              "            title=\"Convert this dataframe to an interactive table.\"\n",
              "            style=\"display:none;\">\n",
              "\n",
              "  <svg xmlns=\"http://www.w3.org/2000/svg\" height=\"24px\" viewBox=\"0 -960 960 960\">\n",
              "    <path d=\"M120-120v-720h720v720H120Zm60-500h600v-160H180v160Zm220 220h160v-160H400v160Zm0 220h160v-160H400v160ZM180-400h160v-160H180v160Zm440 0h160v-160H620v160ZM180-180h160v-160H180v160Zm440 0h160v-160H620v160Z\"/>\n",
              "  </svg>\n",
              "    </button>\n",
              "\n",
              "  <style>\n",
              "    .colab-df-container {\n",
              "      display:flex;\n",
              "      gap: 12px;\n",
              "    }\n",
              "\n",
              "    .colab-df-convert {\n",
              "      background-color: #E8F0FE;\n",
              "      border: none;\n",
              "      border-radius: 50%;\n",
              "      cursor: pointer;\n",
              "      display: none;\n",
              "      fill: #1967D2;\n",
              "      height: 32px;\n",
              "      padding: 0 0 0 0;\n",
              "      width: 32px;\n",
              "    }\n",
              "\n",
              "    .colab-df-convert:hover {\n",
              "      background-color: #E2EBFA;\n",
              "      box-shadow: 0px 1px 2px rgba(60, 64, 67, 0.3), 0px 1px 3px 1px rgba(60, 64, 67, 0.15);\n",
              "      fill: #174EA6;\n",
              "    }\n",
              "\n",
              "    .colab-df-buttons div {\n",
              "      margin-bottom: 4px;\n",
              "    }\n",
              "\n",
              "    [theme=dark] .colab-df-convert {\n",
              "      background-color: #3B4455;\n",
              "      fill: #D2E3FC;\n",
              "    }\n",
              "\n",
              "    [theme=dark] .colab-df-convert:hover {\n",
              "      background-color: #434B5C;\n",
              "      box-shadow: 0px 1px 3px 1px rgba(0, 0, 0, 0.15);\n",
              "      filter: drop-shadow(0px 1px 2px rgba(0, 0, 0, 0.3));\n",
              "      fill: #FFFFFF;\n",
              "    }\n",
              "  </style>\n",
              "\n",
              "    <script>\n",
              "      const buttonEl =\n",
              "        document.querySelector('#df-bded1bec-e583-492b-96fa-7839657cc5bc button.colab-df-convert');\n",
              "      buttonEl.style.display =\n",
              "        google.colab.kernel.accessAllowed ? 'block' : 'none';\n",
              "\n",
              "      async function convertToInteractive(key) {\n",
              "        const element = document.querySelector('#df-bded1bec-e583-492b-96fa-7839657cc5bc');\n",
              "        const dataTable =\n",
              "          await google.colab.kernel.invokeFunction('convertToInteractive',\n",
              "                                                    [key], {});\n",
              "        if (!dataTable) return;\n",
              "\n",
              "        const docLinkHtml = 'Like what you see? Visit the ' +\n",
              "          '<a target=\"_blank\" href=https://colab.research.google.com/notebooks/data_table.ipynb>data table notebook</a>'\n",
              "          + ' to learn more about interactive tables.';\n",
              "        element.innerHTML = '';\n",
              "        dataTable['output_type'] = 'display_data';\n",
              "        await google.colab.output.renderOutput(dataTable, element);\n",
              "        const docLink = document.createElement('div');\n",
              "        docLink.innerHTML = docLinkHtml;\n",
              "        element.appendChild(docLink);\n",
              "      }\n",
              "    </script>\n",
              "  </div>\n",
              "\n",
              "\n",
              "<div id=\"df-8b5f3cc2-61e4-4481-9d63-9eeba4aa98c1\">\n",
              "  <button class=\"colab-df-quickchart\" onclick=\"quickchart('df-8b5f3cc2-61e4-4481-9d63-9eeba4aa98c1')\"\n",
              "            title=\"Suggest charts\"\n",
              "            style=\"display:none;\">\n",
              "\n",
              "<svg xmlns=\"http://www.w3.org/2000/svg\" height=\"24px\"viewBox=\"0 0 24 24\"\n",
              "     width=\"24px\">\n",
              "    <g>\n",
              "        <path d=\"M19 3H5c-1.1 0-2 .9-2 2v14c0 1.1.9 2 2 2h14c1.1 0 2-.9 2-2V5c0-1.1-.9-2-2-2zM9 17H7v-7h2v7zm4 0h-2V7h2v10zm4 0h-2v-4h2v4z\"/>\n",
              "    </g>\n",
              "</svg>\n",
              "  </button>\n",
              "\n",
              "<style>\n",
              "  .colab-df-quickchart {\n",
              "      --bg-color: #E8F0FE;\n",
              "      --fill-color: #1967D2;\n",
              "      --hover-bg-color: #E2EBFA;\n",
              "      --hover-fill-color: #174EA6;\n",
              "      --disabled-fill-color: #AAA;\n",
              "      --disabled-bg-color: #DDD;\n",
              "  }\n",
              "\n",
              "  [theme=dark] .colab-df-quickchart {\n",
              "      --bg-color: #3B4455;\n",
              "      --fill-color: #D2E3FC;\n",
              "      --hover-bg-color: #434B5C;\n",
              "      --hover-fill-color: #FFFFFF;\n",
              "      --disabled-bg-color: #3B4455;\n",
              "      --disabled-fill-color: #666;\n",
              "  }\n",
              "\n",
              "  .colab-df-quickchart {\n",
              "    background-color: var(--bg-color);\n",
              "    border: none;\n",
              "    border-radius: 50%;\n",
              "    cursor: pointer;\n",
              "    display: none;\n",
              "    fill: var(--fill-color);\n",
              "    height: 32px;\n",
              "    padding: 0;\n",
              "    width: 32px;\n",
              "  }\n",
              "\n",
              "  .colab-df-quickchart:hover {\n",
              "    background-color: var(--hover-bg-color);\n",
              "    box-shadow: 0 1px 2px rgba(60, 64, 67, 0.3), 0 1px 3px 1px rgba(60, 64, 67, 0.15);\n",
              "    fill: var(--button-hover-fill-color);\n",
              "  }\n",
              "\n",
              "  .colab-df-quickchart-complete:disabled,\n",
              "  .colab-df-quickchart-complete:disabled:hover {\n",
              "    background-color: var(--disabled-bg-color);\n",
              "    fill: var(--disabled-fill-color);\n",
              "    box-shadow: none;\n",
              "  }\n",
              "\n",
              "  .colab-df-spinner {\n",
              "    border: 2px solid var(--fill-color);\n",
              "    border-color: transparent;\n",
              "    border-bottom-color: var(--fill-color);\n",
              "    animation:\n",
              "      spin 1s steps(1) infinite;\n",
              "  }\n",
              "\n",
              "  @keyframes spin {\n",
              "    0% {\n",
              "      border-color: transparent;\n",
              "      border-bottom-color: var(--fill-color);\n",
              "      border-left-color: var(--fill-color);\n",
              "    }\n",
              "    20% {\n",
              "      border-color: transparent;\n",
              "      border-left-color: var(--fill-color);\n",
              "      border-top-color: var(--fill-color);\n",
              "    }\n",
              "    30% {\n",
              "      border-color: transparent;\n",
              "      border-left-color: var(--fill-color);\n",
              "      border-top-color: var(--fill-color);\n",
              "      border-right-color: var(--fill-color);\n",
              "    }\n",
              "    40% {\n",
              "      border-color: transparent;\n",
              "      border-right-color: var(--fill-color);\n",
              "      border-top-color: var(--fill-color);\n",
              "    }\n",
              "    60% {\n",
              "      border-color: transparent;\n",
              "      border-right-color: var(--fill-color);\n",
              "    }\n",
              "    80% {\n",
              "      border-color: transparent;\n",
              "      border-right-color: var(--fill-color);\n",
              "      border-bottom-color: var(--fill-color);\n",
              "    }\n",
              "    90% {\n",
              "      border-color: transparent;\n",
              "      border-bottom-color: var(--fill-color);\n",
              "    }\n",
              "  }\n",
              "</style>\n",
              "\n",
              "  <script>\n",
              "    async function quickchart(key) {\n",
              "      const quickchartButtonEl =\n",
              "        document.querySelector('#' + key + ' button');\n",
              "      quickchartButtonEl.disabled = true;  // To prevent multiple clicks.\n",
              "      quickchartButtonEl.classList.add('colab-df-spinner');\n",
              "      try {\n",
              "        const charts = await google.colab.kernel.invokeFunction(\n",
              "            'suggestCharts', [key], {});\n",
              "      } catch (error) {\n",
              "        console.error('Error during call to suggestCharts:', error);\n",
              "      }\n",
              "      quickchartButtonEl.classList.remove('colab-df-spinner');\n",
              "      quickchartButtonEl.classList.add('colab-df-quickchart-complete');\n",
              "    }\n",
              "    (() => {\n",
              "      let quickchartButtonEl =\n",
              "        document.querySelector('#df-8b5f3cc2-61e4-4481-9d63-9eeba4aa98c1 button');\n",
              "      quickchartButtonEl.style.display =\n",
              "        google.colab.kernel.accessAllowed ? 'block' : 'none';\n",
              "    })();\n",
              "  </script>\n",
              "</div>\n",
              "    </div>\n",
              "  </div>\n"
            ],
            "application/vnd.google.colaboratory.intrinsic+json": {
              "type": "dataframe",
              "summary": "{\n  \"name\": \"car_train\",\n  \"rows\": 5,\n  \"fields\": [\n    {\n      \"column\": \"car_id\",\n      \"properties\": {\n        \"dtype\": \"string\",\n        \"num_unique_values\": 5,\n        \"samples\": [\n          \"e40587429i\",\n          \"U19913900a\",\n          \"v-1935966T\"\n        ],\n        \"semantic_type\": \"\",\n        \"description\": \"\"\n      }\n    },\n    {\n      \"column\": \"model\",\n      \"properties\": {\n        \"dtype\": \"string\",\n        \"num_unique_values\": 5,\n        \"samples\": [\n          \"Skoda Rapid\",\n          \"Kia Rio\",\n          \"Hyundai Solaris\"\n        ],\n        \"semantic_type\": \"\",\n        \"description\": \"\"\n      }\n    },\n    {\n      \"column\": \"car_type\",\n      \"properties\": {\n        \"dtype\": \"category\",\n        \"num_unique_values\": 2,\n        \"samples\": [\n          \"standart\",\n          \"economy\"\n        ],\n        \"semantic_type\": \"\",\n        \"description\": \"\"\n      }\n    },\n    {\n      \"column\": \"fuel_type\",\n      \"properties\": {\n        \"dtype\": \"category\",\n        \"num_unique_values\": 1,\n        \"samples\": [\n          \"petrol\"\n        ],\n        \"semantic_type\": \"\",\n        \"description\": \"\"\n      }\n    },\n    {\n      \"column\": \"car_rating\",\n      \"properties\": {\n        \"dtype\": \"number\",\n        \"std\": 0.529414771233293,\n        \"min\": 3.64,\n        \"max\": 4.84,\n        \"num_unique_values\": 5,\n        \"samples\": [\n          3.64\n        ],\n        \"semantic_type\": \"\",\n        \"description\": \"\"\n      }\n    },\n    {\n      \"column\": \"year_to_start\",\n      \"properties\": {\n        \"dtype\": \"number\",\n        \"std\": 2,\n        \"min\": 2012,\n        \"max\": 2017,\n        \"num_unique_values\": 4,\n        \"samples\": [\n          2017\n        ],\n        \"semantic_type\": \"\",\n        \"description\": \"\"\n      }\n    },\n    {\n      \"column\": \"riders\",\n      \"properties\": {\n        \"dtype\": \"number\",\n        \"std\": 42972,\n        \"min\": 21139,\n        \"max\": 125757,\n        \"num_unique_values\": 5,\n        \"samples\": [\n          125757\n        ],\n        \"semantic_type\": \"\",\n        \"description\": \"\"\n      }\n    },\n    {\n      \"column\": \"year_to_work\",\n      \"properties\": {\n        \"dtype\": \"number\",\n        \"std\": 1,\n        \"min\": 2017,\n        \"max\": 2021,\n        \"num_unique_values\": 3,\n        \"samples\": [\n          2017\n        ],\n        \"semantic_type\": \"\",\n        \"description\": \"\"\n      }\n    },\n    {\n      \"column\": \"target_reg\",\n      \"properties\": {\n        \"dtype\": \"number\",\n        \"std\": 7.348062329621327,\n        \"min\": 25.35,\n        \"max\": 43.95,\n        \"num_unique_values\": 5,\n        \"samples\": [\n          42.03\n        ],\n        \"semantic_type\": \"\",\n        \"description\": \"\"\n      }\n    },\n    {\n      \"column\": \"target_class\",\n      \"properties\": {\n        \"dtype\": \"string\",\n        \"num_unique_values\": 5,\n        \"samples\": [\n          \"gear_stick\"\n        ],\n        \"semantic_type\": \"\",\n        \"description\": \"\"\n      }\n    }\n  ]\n}"
            }
          },
          "metadata": {},
          "execution_count": 124
        }
      ],
      "source": [
        "car_train = pd.read_csv('https://raw.githubusercontent.com/a-milenkin/Competitive_Data_Science/main/data/car_train.csv')\n",
        "car_train.sample(5)"
      ]
    },
    {
      "cell_type": "markdown",
      "metadata": {
        "id": "AWvQSnafbuhu"
      },
      "source": [
        "- `car_id` — идентификатор машины\n",
        "- `model` / `car_type` / `fuel_type` — марка, класс и тип топлива машины\n",
        "- `car_rating` / `riders` — общий рейтинг и общее число поездок к концу 2021 года\n",
        "- `year_to_start` / `year_to_work` — год выпуска машины и год начала работы в автопарке\n",
        "- `target_reg` — количество дней до поломки\n",
        "- `target_class` — класс поломки (всего 9 видов)"
      ]
    },
    {
      "cell_type": "markdown",
      "metadata": {
        "id": "6KWf2LgObuhu"
      },
      "source": [
        "### Информация про поездки"
      ]
    },
    {
      "cell_type": "code",
      "execution_count": 125,
      "metadata": {
        "tags": [],
        "id": "pDc5gXzbbuhu",
        "outputId": "2185777d-4176-42b5-ab5d-be4da20c09c8",
        "colab": {
          "base_uri": "https://localhost:8080/",
          "height": 206
        }
      },
      "outputs": [
        {
          "output_type": "execute_result",
          "data": {
            "text/plain": [
              "           user_id      car_id ride_id   ride_date  rating  ride_duration  \\\n",
              "230142  w95907350L  Q-1888317Y     p1u  2020-03-01    2.49             79   \n",
              "663082  x10399607s  u22457924s     e1y  2020-03-16    5.44             33   \n",
              "135758  J12815306n  J15476551r     I1M  2020-01-21    6.80            157   \n",
              "326062  X14976161f  X-2032215W     m1c  2020-03-25    2.88             78   \n",
              "428432  Q69268694t  e-4777482n     s1E  2020-01-24    2.53            196   \n",
              "\n",
              "        ride_cost  speed_avg   speed_max  stop_times     distance  refueling  \\\n",
              "230142       1101         76  149.017577           2  3404.581482          0   \n",
              "663082        356         44   75.000000           1   952.562621          0   \n",
              "135758       2191         46   60.699899           0   215.704204          0   \n",
              "326062       1009         39   96.000000           1  2071.778926          0   \n",
              "428432       2345         42   76.000000          14  2037.895039          0   \n",
              "\n",
              "        user_ride_quality  deviation_normal  \n",
              "230142          -4.195618            -5.780  \n",
              "663082           1.153008           -10.002  \n",
              "135758          -4.036790            -0.000  \n",
              "326062          -0.844219           -27.873  \n",
              "428432           2.293223           -10.593  "
            ],
            "text/html": [
              "\n",
              "  <div id=\"df-23060354-fe46-4531-b54e-6e974e991fe8\" class=\"colab-df-container\">\n",
              "    <div>\n",
              "<style scoped>\n",
              "    .dataframe tbody tr th:only-of-type {\n",
              "        vertical-align: middle;\n",
              "    }\n",
              "\n",
              "    .dataframe tbody tr th {\n",
              "        vertical-align: top;\n",
              "    }\n",
              "\n",
              "    .dataframe thead th {\n",
              "        text-align: right;\n",
              "    }\n",
              "</style>\n",
              "<table border=\"1\" class=\"dataframe\">\n",
              "  <thead>\n",
              "    <tr style=\"text-align: right;\">\n",
              "      <th></th>\n",
              "      <th>user_id</th>\n",
              "      <th>car_id</th>\n",
              "      <th>ride_id</th>\n",
              "      <th>ride_date</th>\n",
              "      <th>rating</th>\n",
              "      <th>ride_duration</th>\n",
              "      <th>ride_cost</th>\n",
              "      <th>speed_avg</th>\n",
              "      <th>speed_max</th>\n",
              "      <th>stop_times</th>\n",
              "      <th>distance</th>\n",
              "      <th>refueling</th>\n",
              "      <th>user_ride_quality</th>\n",
              "      <th>deviation_normal</th>\n",
              "    </tr>\n",
              "  </thead>\n",
              "  <tbody>\n",
              "    <tr>\n",
              "      <th>230142</th>\n",
              "      <td>w95907350L</td>\n",
              "      <td>Q-1888317Y</td>\n",
              "      <td>p1u</td>\n",
              "      <td>2020-03-01</td>\n",
              "      <td>2.49</td>\n",
              "      <td>79</td>\n",
              "      <td>1101</td>\n",
              "      <td>76</td>\n",
              "      <td>149.017577</td>\n",
              "      <td>2</td>\n",
              "      <td>3404.581482</td>\n",
              "      <td>0</td>\n",
              "      <td>-4.195618</td>\n",
              "      <td>-5.780</td>\n",
              "    </tr>\n",
              "    <tr>\n",
              "      <th>663082</th>\n",
              "      <td>x10399607s</td>\n",
              "      <td>u22457924s</td>\n",
              "      <td>e1y</td>\n",
              "      <td>2020-03-16</td>\n",
              "      <td>5.44</td>\n",
              "      <td>33</td>\n",
              "      <td>356</td>\n",
              "      <td>44</td>\n",
              "      <td>75.000000</td>\n",
              "      <td>1</td>\n",
              "      <td>952.562621</td>\n",
              "      <td>0</td>\n",
              "      <td>1.153008</td>\n",
              "      <td>-10.002</td>\n",
              "    </tr>\n",
              "    <tr>\n",
              "      <th>135758</th>\n",
              "      <td>J12815306n</td>\n",
              "      <td>J15476551r</td>\n",
              "      <td>I1M</td>\n",
              "      <td>2020-01-21</td>\n",
              "      <td>6.80</td>\n",
              "      <td>157</td>\n",
              "      <td>2191</td>\n",
              "      <td>46</td>\n",
              "      <td>60.699899</td>\n",
              "      <td>0</td>\n",
              "      <td>215.704204</td>\n",
              "      <td>0</td>\n",
              "      <td>-4.036790</td>\n",
              "      <td>-0.000</td>\n",
              "    </tr>\n",
              "    <tr>\n",
              "      <th>326062</th>\n",
              "      <td>X14976161f</td>\n",
              "      <td>X-2032215W</td>\n",
              "      <td>m1c</td>\n",
              "      <td>2020-03-25</td>\n",
              "      <td>2.88</td>\n",
              "      <td>78</td>\n",
              "      <td>1009</td>\n",
              "      <td>39</td>\n",
              "      <td>96.000000</td>\n",
              "      <td>1</td>\n",
              "      <td>2071.778926</td>\n",
              "      <td>0</td>\n",
              "      <td>-0.844219</td>\n",
              "      <td>-27.873</td>\n",
              "    </tr>\n",
              "    <tr>\n",
              "      <th>428432</th>\n",
              "      <td>Q69268694t</td>\n",
              "      <td>e-4777482n</td>\n",
              "      <td>s1E</td>\n",
              "      <td>2020-01-24</td>\n",
              "      <td>2.53</td>\n",
              "      <td>196</td>\n",
              "      <td>2345</td>\n",
              "      <td>42</td>\n",
              "      <td>76.000000</td>\n",
              "      <td>14</td>\n",
              "      <td>2037.895039</td>\n",
              "      <td>0</td>\n",
              "      <td>2.293223</td>\n",
              "      <td>-10.593</td>\n",
              "    </tr>\n",
              "  </tbody>\n",
              "</table>\n",
              "</div>\n",
              "    <div class=\"colab-df-buttons\">\n",
              "\n",
              "  <div class=\"colab-df-container\">\n",
              "    <button class=\"colab-df-convert\" onclick=\"convertToInteractive('df-23060354-fe46-4531-b54e-6e974e991fe8')\"\n",
              "            title=\"Convert this dataframe to an interactive table.\"\n",
              "            style=\"display:none;\">\n",
              "\n",
              "  <svg xmlns=\"http://www.w3.org/2000/svg\" height=\"24px\" viewBox=\"0 -960 960 960\">\n",
              "    <path d=\"M120-120v-720h720v720H120Zm60-500h600v-160H180v160Zm220 220h160v-160H400v160Zm0 220h160v-160H400v160ZM180-400h160v-160H180v160Zm440 0h160v-160H620v160ZM180-180h160v-160H180v160Zm440 0h160v-160H620v160Z\"/>\n",
              "  </svg>\n",
              "    </button>\n",
              "\n",
              "  <style>\n",
              "    .colab-df-container {\n",
              "      display:flex;\n",
              "      gap: 12px;\n",
              "    }\n",
              "\n",
              "    .colab-df-convert {\n",
              "      background-color: #E8F0FE;\n",
              "      border: none;\n",
              "      border-radius: 50%;\n",
              "      cursor: pointer;\n",
              "      display: none;\n",
              "      fill: #1967D2;\n",
              "      height: 32px;\n",
              "      padding: 0 0 0 0;\n",
              "      width: 32px;\n",
              "    }\n",
              "\n",
              "    .colab-df-convert:hover {\n",
              "      background-color: #E2EBFA;\n",
              "      box-shadow: 0px 1px 2px rgba(60, 64, 67, 0.3), 0px 1px 3px 1px rgba(60, 64, 67, 0.15);\n",
              "      fill: #174EA6;\n",
              "    }\n",
              "\n",
              "    .colab-df-buttons div {\n",
              "      margin-bottom: 4px;\n",
              "    }\n",
              "\n",
              "    [theme=dark] .colab-df-convert {\n",
              "      background-color: #3B4455;\n",
              "      fill: #D2E3FC;\n",
              "    }\n",
              "\n",
              "    [theme=dark] .colab-df-convert:hover {\n",
              "      background-color: #434B5C;\n",
              "      box-shadow: 0px 1px 3px 1px rgba(0, 0, 0, 0.15);\n",
              "      filter: drop-shadow(0px 1px 2px rgba(0, 0, 0, 0.3));\n",
              "      fill: #FFFFFF;\n",
              "    }\n",
              "  </style>\n",
              "\n",
              "    <script>\n",
              "      const buttonEl =\n",
              "        document.querySelector('#df-23060354-fe46-4531-b54e-6e974e991fe8 button.colab-df-convert');\n",
              "      buttonEl.style.display =\n",
              "        google.colab.kernel.accessAllowed ? 'block' : 'none';\n",
              "\n",
              "      async function convertToInteractive(key) {\n",
              "        const element = document.querySelector('#df-23060354-fe46-4531-b54e-6e974e991fe8');\n",
              "        const dataTable =\n",
              "          await google.colab.kernel.invokeFunction('convertToInteractive',\n",
              "                                                    [key], {});\n",
              "        if (!dataTable) return;\n",
              "\n",
              "        const docLinkHtml = 'Like what you see? Visit the ' +\n",
              "          '<a target=\"_blank\" href=https://colab.research.google.com/notebooks/data_table.ipynb>data table notebook</a>'\n",
              "          + ' to learn more about interactive tables.';\n",
              "        element.innerHTML = '';\n",
              "        dataTable['output_type'] = 'display_data';\n",
              "        await google.colab.output.renderOutput(dataTable, element);\n",
              "        const docLink = document.createElement('div');\n",
              "        docLink.innerHTML = docLinkHtml;\n",
              "        element.appendChild(docLink);\n",
              "      }\n",
              "    </script>\n",
              "  </div>\n",
              "\n",
              "\n",
              "<div id=\"df-0520b3ff-cbff-4342-a6f5-83d3cc79815d\">\n",
              "  <button class=\"colab-df-quickchart\" onclick=\"quickchart('df-0520b3ff-cbff-4342-a6f5-83d3cc79815d')\"\n",
              "            title=\"Suggest charts\"\n",
              "            style=\"display:none;\">\n",
              "\n",
              "<svg xmlns=\"http://www.w3.org/2000/svg\" height=\"24px\"viewBox=\"0 0 24 24\"\n",
              "     width=\"24px\">\n",
              "    <g>\n",
              "        <path d=\"M19 3H5c-1.1 0-2 .9-2 2v14c0 1.1.9 2 2 2h14c1.1 0 2-.9 2-2V5c0-1.1-.9-2-2-2zM9 17H7v-7h2v7zm4 0h-2V7h2v10zm4 0h-2v-4h2v4z\"/>\n",
              "    </g>\n",
              "</svg>\n",
              "  </button>\n",
              "\n",
              "<style>\n",
              "  .colab-df-quickchart {\n",
              "      --bg-color: #E8F0FE;\n",
              "      --fill-color: #1967D2;\n",
              "      --hover-bg-color: #E2EBFA;\n",
              "      --hover-fill-color: #174EA6;\n",
              "      --disabled-fill-color: #AAA;\n",
              "      --disabled-bg-color: #DDD;\n",
              "  }\n",
              "\n",
              "  [theme=dark] .colab-df-quickchart {\n",
              "      --bg-color: #3B4455;\n",
              "      --fill-color: #D2E3FC;\n",
              "      --hover-bg-color: #434B5C;\n",
              "      --hover-fill-color: #FFFFFF;\n",
              "      --disabled-bg-color: #3B4455;\n",
              "      --disabled-fill-color: #666;\n",
              "  }\n",
              "\n",
              "  .colab-df-quickchart {\n",
              "    background-color: var(--bg-color);\n",
              "    border: none;\n",
              "    border-radius: 50%;\n",
              "    cursor: pointer;\n",
              "    display: none;\n",
              "    fill: var(--fill-color);\n",
              "    height: 32px;\n",
              "    padding: 0;\n",
              "    width: 32px;\n",
              "  }\n",
              "\n",
              "  .colab-df-quickchart:hover {\n",
              "    background-color: var(--hover-bg-color);\n",
              "    box-shadow: 0 1px 2px rgba(60, 64, 67, 0.3), 0 1px 3px 1px rgba(60, 64, 67, 0.15);\n",
              "    fill: var(--button-hover-fill-color);\n",
              "  }\n",
              "\n",
              "  .colab-df-quickchart-complete:disabled,\n",
              "  .colab-df-quickchart-complete:disabled:hover {\n",
              "    background-color: var(--disabled-bg-color);\n",
              "    fill: var(--disabled-fill-color);\n",
              "    box-shadow: none;\n",
              "  }\n",
              "\n",
              "  .colab-df-spinner {\n",
              "    border: 2px solid var(--fill-color);\n",
              "    border-color: transparent;\n",
              "    border-bottom-color: var(--fill-color);\n",
              "    animation:\n",
              "      spin 1s steps(1) infinite;\n",
              "  }\n",
              "\n",
              "  @keyframes spin {\n",
              "    0% {\n",
              "      border-color: transparent;\n",
              "      border-bottom-color: var(--fill-color);\n",
              "      border-left-color: var(--fill-color);\n",
              "    }\n",
              "    20% {\n",
              "      border-color: transparent;\n",
              "      border-left-color: var(--fill-color);\n",
              "      border-top-color: var(--fill-color);\n",
              "    }\n",
              "    30% {\n",
              "      border-color: transparent;\n",
              "      border-left-color: var(--fill-color);\n",
              "      border-top-color: var(--fill-color);\n",
              "      border-right-color: var(--fill-color);\n",
              "    }\n",
              "    40% {\n",
              "      border-color: transparent;\n",
              "      border-right-color: var(--fill-color);\n",
              "      border-top-color: var(--fill-color);\n",
              "    }\n",
              "    60% {\n",
              "      border-color: transparent;\n",
              "      border-right-color: var(--fill-color);\n",
              "    }\n",
              "    80% {\n",
              "      border-color: transparent;\n",
              "      border-right-color: var(--fill-color);\n",
              "      border-bottom-color: var(--fill-color);\n",
              "    }\n",
              "    90% {\n",
              "      border-color: transparent;\n",
              "      border-bottom-color: var(--fill-color);\n",
              "    }\n",
              "  }\n",
              "</style>\n",
              "\n",
              "  <script>\n",
              "    async function quickchart(key) {\n",
              "      const quickchartButtonEl =\n",
              "        document.querySelector('#' + key + ' button');\n",
              "      quickchartButtonEl.disabled = true;  // To prevent multiple clicks.\n",
              "      quickchartButtonEl.classList.add('colab-df-spinner');\n",
              "      try {\n",
              "        const charts = await google.colab.kernel.invokeFunction(\n",
              "            'suggestCharts', [key], {});\n",
              "      } catch (error) {\n",
              "        console.error('Error during call to suggestCharts:', error);\n",
              "      }\n",
              "      quickchartButtonEl.classList.remove('colab-df-spinner');\n",
              "      quickchartButtonEl.classList.add('colab-df-quickchart-complete');\n",
              "    }\n",
              "    (() => {\n",
              "      let quickchartButtonEl =\n",
              "        document.querySelector('#df-0520b3ff-cbff-4342-a6f5-83d3cc79815d button');\n",
              "      quickchartButtonEl.style.display =\n",
              "        google.colab.kernel.accessAllowed ? 'block' : 'none';\n",
              "    })();\n",
              "  </script>\n",
              "</div>\n",
              "    </div>\n",
              "  </div>\n"
            ],
            "application/vnd.google.colaboratory.intrinsic+json": {
              "type": "dataframe",
              "repr_error": "0"
            }
          },
          "metadata": {},
          "execution_count": 125
        }
      ],
      "source": [
        "rides_info = pd.read_csv('https://raw.githubusercontent.com/a-milenkin/Competitive_Data_Science/main/data/rides_info.csv')\n",
        "rides_info.sample(5)"
      ]
    },
    {
      "cell_type": "markdown",
      "metadata": {
        "id": "ZAn8S24sbuhv"
      },
      "source": [
        "- `user_id` / `car_id` / `ride_id` — идентификаторы водителя, машины, поездки соответственно\n",
        "- `ride_date` / `rating` — дата поездки и рейтинг, поставленный водителем\n",
        "- `ride_duration` / `distance` / `ride_cost` —  длительность (время),  пройденное расстояние, стоимость поездки\n",
        "- `speed_avg` / `speed_max` — средняя и максимальная скорости поездки соответственно\n",
        "- `stop_times` / `refueling` — количество остановок (паузы) и флаг: была ли дозаправка\n",
        "- `user_ride_quality` — оценка манеры вождения водителя машины, определенная скоринговой ML-системой сервиса\n",
        "- `deviation_normal` — общий показатель датчиков о состоянии машины, относительно эталонных показателей (нормы)"
      ]
    },
    {
      "cell_type": "markdown",
      "metadata": {
        "id": "O0Onuz4ybuhv"
      },
      "source": [
        "### Информация про водителей"
      ]
    },
    {
      "cell_type": "code",
      "execution_count": 126,
      "metadata": {
        "tags": [],
        "id": "WBEvQXhxbuhv",
        "outputId": "0d4ef812-9049-4b7d-b937-33817f8afb31",
        "colab": {
          "base_uri": "https://localhost:8080/",
          "height": 206
        }
      },
      "outputs": [
        {
          "output_type": "execute_result",
          "data": {
            "text/plain": [
              "       age  user_rating  user_rides  user_time_accident     user_id  sex  \\\n",
              "12748   29          8.1        1847                 8.0  I13414407w    1   \n",
              "2041    41          8.6        1575                11.0  I14835984M    0   \n",
              "10846   29          8.8         869                15.0  E99024906u    1   \n",
              "7362    32          7.0        1438                 4.0  T19970480A    0   \n",
              "1353    33          6.8        1180                 2.0  s58681928b    1   \n",
              "\n",
              "      first_ride_date  \n",
              "12748       2018-4-18  \n",
              "2041        2021-6-27  \n",
              "10846        2019-4-1  \n",
              "7362        2021-5-22  \n",
              "1353       2020-12-19  "
            ],
            "text/html": [
              "\n",
              "  <div id=\"df-f3f5a47e-b1f2-4402-bc31-6ebccd22deb9\" class=\"colab-df-container\">\n",
              "    <div>\n",
              "<style scoped>\n",
              "    .dataframe tbody tr th:only-of-type {\n",
              "        vertical-align: middle;\n",
              "    }\n",
              "\n",
              "    .dataframe tbody tr th {\n",
              "        vertical-align: top;\n",
              "    }\n",
              "\n",
              "    .dataframe thead th {\n",
              "        text-align: right;\n",
              "    }\n",
              "</style>\n",
              "<table border=\"1\" class=\"dataframe\">\n",
              "  <thead>\n",
              "    <tr style=\"text-align: right;\">\n",
              "      <th></th>\n",
              "      <th>age</th>\n",
              "      <th>user_rating</th>\n",
              "      <th>user_rides</th>\n",
              "      <th>user_time_accident</th>\n",
              "      <th>user_id</th>\n",
              "      <th>sex</th>\n",
              "      <th>first_ride_date</th>\n",
              "    </tr>\n",
              "  </thead>\n",
              "  <tbody>\n",
              "    <tr>\n",
              "      <th>12748</th>\n",
              "      <td>29</td>\n",
              "      <td>8.1</td>\n",
              "      <td>1847</td>\n",
              "      <td>8.0</td>\n",
              "      <td>I13414407w</td>\n",
              "      <td>1</td>\n",
              "      <td>2018-4-18</td>\n",
              "    </tr>\n",
              "    <tr>\n",
              "      <th>2041</th>\n",
              "      <td>41</td>\n",
              "      <td>8.6</td>\n",
              "      <td>1575</td>\n",
              "      <td>11.0</td>\n",
              "      <td>I14835984M</td>\n",
              "      <td>0</td>\n",
              "      <td>2021-6-27</td>\n",
              "    </tr>\n",
              "    <tr>\n",
              "      <th>10846</th>\n",
              "      <td>29</td>\n",
              "      <td>8.8</td>\n",
              "      <td>869</td>\n",
              "      <td>15.0</td>\n",
              "      <td>E99024906u</td>\n",
              "      <td>1</td>\n",
              "      <td>2019-4-1</td>\n",
              "    </tr>\n",
              "    <tr>\n",
              "      <th>7362</th>\n",
              "      <td>32</td>\n",
              "      <td>7.0</td>\n",
              "      <td>1438</td>\n",
              "      <td>4.0</td>\n",
              "      <td>T19970480A</td>\n",
              "      <td>0</td>\n",
              "      <td>2021-5-22</td>\n",
              "    </tr>\n",
              "    <tr>\n",
              "      <th>1353</th>\n",
              "      <td>33</td>\n",
              "      <td>6.8</td>\n",
              "      <td>1180</td>\n",
              "      <td>2.0</td>\n",
              "      <td>s58681928b</td>\n",
              "      <td>1</td>\n",
              "      <td>2020-12-19</td>\n",
              "    </tr>\n",
              "  </tbody>\n",
              "</table>\n",
              "</div>\n",
              "    <div class=\"colab-df-buttons\">\n",
              "\n",
              "  <div class=\"colab-df-container\">\n",
              "    <button class=\"colab-df-convert\" onclick=\"convertToInteractive('df-f3f5a47e-b1f2-4402-bc31-6ebccd22deb9')\"\n",
              "            title=\"Convert this dataframe to an interactive table.\"\n",
              "            style=\"display:none;\">\n",
              "\n",
              "  <svg xmlns=\"http://www.w3.org/2000/svg\" height=\"24px\" viewBox=\"0 -960 960 960\">\n",
              "    <path d=\"M120-120v-720h720v720H120Zm60-500h600v-160H180v160Zm220 220h160v-160H400v160Zm0 220h160v-160H400v160ZM180-400h160v-160H180v160Zm440 0h160v-160H620v160ZM180-180h160v-160H180v160Zm440 0h160v-160H620v160Z\"/>\n",
              "  </svg>\n",
              "    </button>\n",
              "\n",
              "  <style>\n",
              "    .colab-df-container {\n",
              "      display:flex;\n",
              "      gap: 12px;\n",
              "    }\n",
              "\n",
              "    .colab-df-convert {\n",
              "      background-color: #E8F0FE;\n",
              "      border: none;\n",
              "      border-radius: 50%;\n",
              "      cursor: pointer;\n",
              "      display: none;\n",
              "      fill: #1967D2;\n",
              "      height: 32px;\n",
              "      padding: 0 0 0 0;\n",
              "      width: 32px;\n",
              "    }\n",
              "\n",
              "    .colab-df-convert:hover {\n",
              "      background-color: #E2EBFA;\n",
              "      box-shadow: 0px 1px 2px rgba(60, 64, 67, 0.3), 0px 1px 3px 1px rgba(60, 64, 67, 0.15);\n",
              "      fill: #174EA6;\n",
              "    }\n",
              "\n",
              "    .colab-df-buttons div {\n",
              "      margin-bottom: 4px;\n",
              "    }\n",
              "\n",
              "    [theme=dark] .colab-df-convert {\n",
              "      background-color: #3B4455;\n",
              "      fill: #D2E3FC;\n",
              "    }\n",
              "\n",
              "    [theme=dark] .colab-df-convert:hover {\n",
              "      background-color: #434B5C;\n",
              "      box-shadow: 0px 1px 3px 1px rgba(0, 0, 0, 0.15);\n",
              "      filter: drop-shadow(0px 1px 2px rgba(0, 0, 0, 0.3));\n",
              "      fill: #FFFFFF;\n",
              "    }\n",
              "  </style>\n",
              "\n",
              "    <script>\n",
              "      const buttonEl =\n",
              "        document.querySelector('#df-f3f5a47e-b1f2-4402-bc31-6ebccd22deb9 button.colab-df-convert');\n",
              "      buttonEl.style.display =\n",
              "        google.colab.kernel.accessAllowed ? 'block' : 'none';\n",
              "\n",
              "      async function convertToInteractive(key) {\n",
              "        const element = document.querySelector('#df-f3f5a47e-b1f2-4402-bc31-6ebccd22deb9');\n",
              "        const dataTable =\n",
              "          await google.colab.kernel.invokeFunction('convertToInteractive',\n",
              "                                                    [key], {});\n",
              "        if (!dataTable) return;\n",
              "\n",
              "        const docLinkHtml = 'Like what you see? Visit the ' +\n",
              "          '<a target=\"_blank\" href=https://colab.research.google.com/notebooks/data_table.ipynb>data table notebook</a>'\n",
              "          + ' to learn more about interactive tables.';\n",
              "        element.innerHTML = '';\n",
              "        dataTable['output_type'] = 'display_data';\n",
              "        await google.colab.output.renderOutput(dataTable, element);\n",
              "        const docLink = document.createElement('div');\n",
              "        docLink.innerHTML = docLinkHtml;\n",
              "        element.appendChild(docLink);\n",
              "      }\n",
              "    </script>\n",
              "  </div>\n",
              "\n",
              "\n",
              "<div id=\"df-f859498f-2117-475f-aed5-b12cf6542699\">\n",
              "  <button class=\"colab-df-quickchart\" onclick=\"quickchart('df-f859498f-2117-475f-aed5-b12cf6542699')\"\n",
              "            title=\"Suggest charts\"\n",
              "            style=\"display:none;\">\n",
              "\n",
              "<svg xmlns=\"http://www.w3.org/2000/svg\" height=\"24px\"viewBox=\"0 0 24 24\"\n",
              "     width=\"24px\">\n",
              "    <g>\n",
              "        <path d=\"M19 3H5c-1.1 0-2 .9-2 2v14c0 1.1.9 2 2 2h14c1.1 0 2-.9 2-2V5c0-1.1-.9-2-2-2zM9 17H7v-7h2v7zm4 0h-2V7h2v10zm4 0h-2v-4h2v4z\"/>\n",
              "    </g>\n",
              "</svg>\n",
              "  </button>\n",
              "\n",
              "<style>\n",
              "  .colab-df-quickchart {\n",
              "      --bg-color: #E8F0FE;\n",
              "      --fill-color: #1967D2;\n",
              "      --hover-bg-color: #E2EBFA;\n",
              "      --hover-fill-color: #174EA6;\n",
              "      --disabled-fill-color: #AAA;\n",
              "      --disabled-bg-color: #DDD;\n",
              "  }\n",
              "\n",
              "  [theme=dark] .colab-df-quickchart {\n",
              "      --bg-color: #3B4455;\n",
              "      --fill-color: #D2E3FC;\n",
              "      --hover-bg-color: #434B5C;\n",
              "      --hover-fill-color: #FFFFFF;\n",
              "      --disabled-bg-color: #3B4455;\n",
              "      --disabled-fill-color: #666;\n",
              "  }\n",
              "\n",
              "  .colab-df-quickchart {\n",
              "    background-color: var(--bg-color);\n",
              "    border: none;\n",
              "    border-radius: 50%;\n",
              "    cursor: pointer;\n",
              "    display: none;\n",
              "    fill: var(--fill-color);\n",
              "    height: 32px;\n",
              "    padding: 0;\n",
              "    width: 32px;\n",
              "  }\n",
              "\n",
              "  .colab-df-quickchart:hover {\n",
              "    background-color: var(--hover-bg-color);\n",
              "    box-shadow: 0 1px 2px rgba(60, 64, 67, 0.3), 0 1px 3px 1px rgba(60, 64, 67, 0.15);\n",
              "    fill: var(--button-hover-fill-color);\n",
              "  }\n",
              "\n",
              "  .colab-df-quickchart-complete:disabled,\n",
              "  .colab-df-quickchart-complete:disabled:hover {\n",
              "    background-color: var(--disabled-bg-color);\n",
              "    fill: var(--disabled-fill-color);\n",
              "    box-shadow: none;\n",
              "  }\n",
              "\n",
              "  .colab-df-spinner {\n",
              "    border: 2px solid var(--fill-color);\n",
              "    border-color: transparent;\n",
              "    border-bottom-color: var(--fill-color);\n",
              "    animation:\n",
              "      spin 1s steps(1) infinite;\n",
              "  }\n",
              "\n",
              "  @keyframes spin {\n",
              "    0% {\n",
              "      border-color: transparent;\n",
              "      border-bottom-color: var(--fill-color);\n",
              "      border-left-color: var(--fill-color);\n",
              "    }\n",
              "    20% {\n",
              "      border-color: transparent;\n",
              "      border-left-color: var(--fill-color);\n",
              "      border-top-color: var(--fill-color);\n",
              "    }\n",
              "    30% {\n",
              "      border-color: transparent;\n",
              "      border-left-color: var(--fill-color);\n",
              "      border-top-color: var(--fill-color);\n",
              "      border-right-color: var(--fill-color);\n",
              "    }\n",
              "    40% {\n",
              "      border-color: transparent;\n",
              "      border-right-color: var(--fill-color);\n",
              "      border-top-color: var(--fill-color);\n",
              "    }\n",
              "    60% {\n",
              "      border-color: transparent;\n",
              "      border-right-color: var(--fill-color);\n",
              "    }\n",
              "    80% {\n",
              "      border-color: transparent;\n",
              "      border-right-color: var(--fill-color);\n",
              "      border-bottom-color: var(--fill-color);\n",
              "    }\n",
              "    90% {\n",
              "      border-color: transparent;\n",
              "      border-bottom-color: var(--fill-color);\n",
              "    }\n",
              "  }\n",
              "</style>\n",
              "\n",
              "  <script>\n",
              "    async function quickchart(key) {\n",
              "      const quickchartButtonEl =\n",
              "        document.querySelector('#' + key + ' button');\n",
              "      quickchartButtonEl.disabled = true;  // To prevent multiple clicks.\n",
              "      quickchartButtonEl.classList.add('colab-df-spinner');\n",
              "      try {\n",
              "        const charts = await google.colab.kernel.invokeFunction(\n",
              "            'suggestCharts', [key], {});\n",
              "      } catch (error) {\n",
              "        console.error('Error during call to suggestCharts:', error);\n",
              "      }\n",
              "      quickchartButtonEl.classList.remove('colab-df-spinner');\n",
              "      quickchartButtonEl.classList.add('colab-df-quickchart-complete');\n",
              "    }\n",
              "    (() => {\n",
              "      let quickchartButtonEl =\n",
              "        document.querySelector('#df-f859498f-2117-475f-aed5-b12cf6542699 button');\n",
              "      quickchartButtonEl.style.display =\n",
              "        google.colab.kernel.accessAllowed ? 'block' : 'none';\n",
              "    })();\n",
              "  </script>\n",
              "</div>\n",
              "    </div>\n",
              "  </div>\n"
            ],
            "application/vnd.google.colaboratory.intrinsic+json": {
              "type": "dataframe",
              "repr_error": "0"
            }
          },
          "metadata": {},
          "execution_count": 126
        }
      ],
      "source": [
        "driver_info = pd.read_csv('https://raw.githubusercontent.com/a-milenkin/Competitive_Data_Science/main/data/driver_info.csv')\n",
        "driver_info.sample(5)"
      ]
    },
    {
      "cell_type": "markdown",
      "metadata": {
        "id": "ubFE8w-Kbuhv"
      },
      "source": [
        "- `user_id` / `age` / `sex` — идентификатор, возраст и пол водителя, соответственно\n",
        "- `user_rating` — общий рейтинг пользователя за все поездки к концу 2021 года\n",
        "- `user_rides` — общее количество поездок к концу 2021 года\n",
        "- `user_time_accident` — число инцидентов (это могли быть аварии/штрафы/эвакуация машины)  \n",
        "- `first_ride_date` — дата первой поездки"
      ]
    },
    {
      "cell_type": "markdown",
      "metadata": {
        "id": "cXDdvlHYbuhv"
      },
      "source": [
        "### Информация про ремонт машин"
      ]
    },
    {
      "cell_type": "code",
      "execution_count": 127,
      "metadata": {
        "tags": [],
        "id": "eVTjvBspbuhv",
        "outputId": "7aa0125c-e291-4cd7-fedf-18923ba641b9",
        "colab": {
          "base_uri": "https://localhost:8080/",
          "height": 206
        }
      },
      "outputs": [
        {
          "output_type": "execute_result",
          "data": {
            "text/plain": [
              "            car_id worker_id          fix_date  work_type  destroy_degree  \\\n",
              "29531   d-2262674v        XZ  2019-10-11 16:27     refuel             8.0   \n",
              "36089   s18773736B        WC   2020-12-22 15:3  reparking             1.0   \n",
              "127946  w-1247054B        YV  2019-11-24 11:57  reparking             1.0   \n",
              "100157  j-2299409Z        HT      2019-4-5 5:3  reparking             1.0   \n",
              "124642  a61936474Y        WY     2020-6-2 1:45  reparking             1.0   \n",
              "\n",
              "        work_duration  \n",
              "29531              34  \n",
              "36089              33  \n",
              "127946             27  \n",
              "100157             22  \n",
              "124642             18  "
            ],
            "text/html": [
              "\n",
              "  <div id=\"df-acd898bb-8840-4781-bcaa-8f7024e06cb4\" class=\"colab-df-container\">\n",
              "    <div>\n",
              "<style scoped>\n",
              "    .dataframe tbody tr th:only-of-type {\n",
              "        vertical-align: middle;\n",
              "    }\n",
              "\n",
              "    .dataframe tbody tr th {\n",
              "        vertical-align: top;\n",
              "    }\n",
              "\n",
              "    .dataframe thead th {\n",
              "        text-align: right;\n",
              "    }\n",
              "</style>\n",
              "<table border=\"1\" class=\"dataframe\">\n",
              "  <thead>\n",
              "    <tr style=\"text-align: right;\">\n",
              "      <th></th>\n",
              "      <th>car_id</th>\n",
              "      <th>worker_id</th>\n",
              "      <th>fix_date</th>\n",
              "      <th>work_type</th>\n",
              "      <th>destroy_degree</th>\n",
              "      <th>work_duration</th>\n",
              "    </tr>\n",
              "  </thead>\n",
              "  <tbody>\n",
              "    <tr>\n",
              "      <th>29531</th>\n",
              "      <td>d-2262674v</td>\n",
              "      <td>XZ</td>\n",
              "      <td>2019-10-11 16:27</td>\n",
              "      <td>refuel</td>\n",
              "      <td>8.0</td>\n",
              "      <td>34</td>\n",
              "    </tr>\n",
              "    <tr>\n",
              "      <th>36089</th>\n",
              "      <td>s18773736B</td>\n",
              "      <td>WC</td>\n",
              "      <td>2020-12-22 15:3</td>\n",
              "      <td>reparking</td>\n",
              "      <td>1.0</td>\n",
              "      <td>33</td>\n",
              "    </tr>\n",
              "    <tr>\n",
              "      <th>127946</th>\n",
              "      <td>w-1247054B</td>\n",
              "      <td>YV</td>\n",
              "      <td>2019-11-24 11:57</td>\n",
              "      <td>reparking</td>\n",
              "      <td>1.0</td>\n",
              "      <td>27</td>\n",
              "    </tr>\n",
              "    <tr>\n",
              "      <th>100157</th>\n",
              "      <td>j-2299409Z</td>\n",
              "      <td>HT</td>\n",
              "      <td>2019-4-5 5:3</td>\n",
              "      <td>reparking</td>\n",
              "      <td>1.0</td>\n",
              "      <td>22</td>\n",
              "    </tr>\n",
              "    <tr>\n",
              "      <th>124642</th>\n",
              "      <td>a61936474Y</td>\n",
              "      <td>WY</td>\n",
              "      <td>2020-6-2 1:45</td>\n",
              "      <td>reparking</td>\n",
              "      <td>1.0</td>\n",
              "      <td>18</td>\n",
              "    </tr>\n",
              "  </tbody>\n",
              "</table>\n",
              "</div>\n",
              "    <div class=\"colab-df-buttons\">\n",
              "\n",
              "  <div class=\"colab-df-container\">\n",
              "    <button class=\"colab-df-convert\" onclick=\"convertToInteractive('df-acd898bb-8840-4781-bcaa-8f7024e06cb4')\"\n",
              "            title=\"Convert this dataframe to an interactive table.\"\n",
              "            style=\"display:none;\">\n",
              "\n",
              "  <svg xmlns=\"http://www.w3.org/2000/svg\" height=\"24px\" viewBox=\"0 -960 960 960\">\n",
              "    <path d=\"M120-120v-720h720v720H120Zm60-500h600v-160H180v160Zm220 220h160v-160H400v160Zm0 220h160v-160H400v160ZM180-400h160v-160H180v160Zm440 0h160v-160H620v160ZM180-180h160v-160H180v160Zm440 0h160v-160H620v160Z\"/>\n",
              "  </svg>\n",
              "    </button>\n",
              "\n",
              "  <style>\n",
              "    .colab-df-container {\n",
              "      display:flex;\n",
              "      gap: 12px;\n",
              "    }\n",
              "\n",
              "    .colab-df-convert {\n",
              "      background-color: #E8F0FE;\n",
              "      border: none;\n",
              "      border-radius: 50%;\n",
              "      cursor: pointer;\n",
              "      display: none;\n",
              "      fill: #1967D2;\n",
              "      height: 32px;\n",
              "      padding: 0 0 0 0;\n",
              "      width: 32px;\n",
              "    }\n",
              "\n",
              "    .colab-df-convert:hover {\n",
              "      background-color: #E2EBFA;\n",
              "      box-shadow: 0px 1px 2px rgba(60, 64, 67, 0.3), 0px 1px 3px 1px rgba(60, 64, 67, 0.15);\n",
              "      fill: #174EA6;\n",
              "    }\n",
              "\n",
              "    .colab-df-buttons div {\n",
              "      margin-bottom: 4px;\n",
              "    }\n",
              "\n",
              "    [theme=dark] .colab-df-convert {\n",
              "      background-color: #3B4455;\n",
              "      fill: #D2E3FC;\n",
              "    }\n",
              "\n",
              "    [theme=dark] .colab-df-convert:hover {\n",
              "      background-color: #434B5C;\n",
              "      box-shadow: 0px 1px 3px 1px rgba(0, 0, 0, 0.15);\n",
              "      filter: drop-shadow(0px 1px 2px rgba(0, 0, 0, 0.3));\n",
              "      fill: #FFFFFF;\n",
              "    }\n",
              "  </style>\n",
              "\n",
              "    <script>\n",
              "      const buttonEl =\n",
              "        document.querySelector('#df-acd898bb-8840-4781-bcaa-8f7024e06cb4 button.colab-df-convert');\n",
              "      buttonEl.style.display =\n",
              "        google.colab.kernel.accessAllowed ? 'block' : 'none';\n",
              "\n",
              "      async function convertToInteractive(key) {\n",
              "        const element = document.querySelector('#df-acd898bb-8840-4781-bcaa-8f7024e06cb4');\n",
              "        const dataTable =\n",
              "          await google.colab.kernel.invokeFunction('convertToInteractive',\n",
              "                                                    [key], {});\n",
              "        if (!dataTable) return;\n",
              "\n",
              "        const docLinkHtml = 'Like what you see? Visit the ' +\n",
              "          '<a target=\"_blank\" href=https://colab.research.google.com/notebooks/data_table.ipynb>data table notebook</a>'\n",
              "          + ' to learn more about interactive tables.';\n",
              "        element.innerHTML = '';\n",
              "        dataTable['output_type'] = 'display_data';\n",
              "        await google.colab.output.renderOutput(dataTable, element);\n",
              "        const docLink = document.createElement('div');\n",
              "        docLink.innerHTML = docLinkHtml;\n",
              "        element.appendChild(docLink);\n",
              "      }\n",
              "    </script>\n",
              "  </div>\n",
              "\n",
              "\n",
              "<div id=\"df-dd6e862f-7123-4107-894b-ea3cb9370e73\">\n",
              "  <button class=\"colab-df-quickchart\" onclick=\"quickchart('df-dd6e862f-7123-4107-894b-ea3cb9370e73')\"\n",
              "            title=\"Suggest charts\"\n",
              "            style=\"display:none;\">\n",
              "\n",
              "<svg xmlns=\"http://www.w3.org/2000/svg\" height=\"24px\"viewBox=\"0 0 24 24\"\n",
              "     width=\"24px\">\n",
              "    <g>\n",
              "        <path d=\"M19 3H5c-1.1 0-2 .9-2 2v14c0 1.1.9 2 2 2h14c1.1 0 2-.9 2-2V5c0-1.1-.9-2-2-2zM9 17H7v-7h2v7zm4 0h-2V7h2v10zm4 0h-2v-4h2v4z\"/>\n",
              "    </g>\n",
              "</svg>\n",
              "  </button>\n",
              "\n",
              "<style>\n",
              "  .colab-df-quickchart {\n",
              "      --bg-color: #E8F0FE;\n",
              "      --fill-color: #1967D2;\n",
              "      --hover-bg-color: #E2EBFA;\n",
              "      --hover-fill-color: #174EA6;\n",
              "      --disabled-fill-color: #AAA;\n",
              "      --disabled-bg-color: #DDD;\n",
              "  }\n",
              "\n",
              "  [theme=dark] .colab-df-quickchart {\n",
              "      --bg-color: #3B4455;\n",
              "      --fill-color: #D2E3FC;\n",
              "      --hover-bg-color: #434B5C;\n",
              "      --hover-fill-color: #FFFFFF;\n",
              "      --disabled-bg-color: #3B4455;\n",
              "      --disabled-fill-color: #666;\n",
              "  }\n",
              "\n",
              "  .colab-df-quickchart {\n",
              "    background-color: var(--bg-color);\n",
              "    border: none;\n",
              "    border-radius: 50%;\n",
              "    cursor: pointer;\n",
              "    display: none;\n",
              "    fill: var(--fill-color);\n",
              "    height: 32px;\n",
              "    padding: 0;\n",
              "    width: 32px;\n",
              "  }\n",
              "\n",
              "  .colab-df-quickchart:hover {\n",
              "    background-color: var(--hover-bg-color);\n",
              "    box-shadow: 0 1px 2px rgba(60, 64, 67, 0.3), 0 1px 3px 1px rgba(60, 64, 67, 0.15);\n",
              "    fill: var(--button-hover-fill-color);\n",
              "  }\n",
              "\n",
              "  .colab-df-quickchart-complete:disabled,\n",
              "  .colab-df-quickchart-complete:disabled:hover {\n",
              "    background-color: var(--disabled-bg-color);\n",
              "    fill: var(--disabled-fill-color);\n",
              "    box-shadow: none;\n",
              "  }\n",
              "\n",
              "  .colab-df-spinner {\n",
              "    border: 2px solid var(--fill-color);\n",
              "    border-color: transparent;\n",
              "    border-bottom-color: var(--fill-color);\n",
              "    animation:\n",
              "      spin 1s steps(1) infinite;\n",
              "  }\n",
              "\n",
              "  @keyframes spin {\n",
              "    0% {\n",
              "      border-color: transparent;\n",
              "      border-bottom-color: var(--fill-color);\n",
              "      border-left-color: var(--fill-color);\n",
              "    }\n",
              "    20% {\n",
              "      border-color: transparent;\n",
              "      border-left-color: var(--fill-color);\n",
              "      border-top-color: var(--fill-color);\n",
              "    }\n",
              "    30% {\n",
              "      border-color: transparent;\n",
              "      border-left-color: var(--fill-color);\n",
              "      border-top-color: var(--fill-color);\n",
              "      border-right-color: var(--fill-color);\n",
              "    }\n",
              "    40% {\n",
              "      border-color: transparent;\n",
              "      border-right-color: var(--fill-color);\n",
              "      border-top-color: var(--fill-color);\n",
              "    }\n",
              "    60% {\n",
              "      border-color: transparent;\n",
              "      border-right-color: var(--fill-color);\n",
              "    }\n",
              "    80% {\n",
              "      border-color: transparent;\n",
              "      border-right-color: var(--fill-color);\n",
              "      border-bottom-color: var(--fill-color);\n",
              "    }\n",
              "    90% {\n",
              "      border-color: transparent;\n",
              "      border-bottom-color: var(--fill-color);\n",
              "    }\n",
              "  }\n",
              "</style>\n",
              "\n",
              "  <script>\n",
              "    async function quickchart(key) {\n",
              "      const quickchartButtonEl =\n",
              "        document.querySelector('#' + key + ' button');\n",
              "      quickchartButtonEl.disabled = true;  // To prevent multiple clicks.\n",
              "      quickchartButtonEl.classList.add('colab-df-spinner');\n",
              "      try {\n",
              "        const charts = await google.colab.kernel.invokeFunction(\n",
              "            'suggestCharts', [key], {});\n",
              "      } catch (error) {\n",
              "        console.error('Error during call to suggestCharts:', error);\n",
              "      }\n",
              "      quickchartButtonEl.classList.remove('colab-df-spinner');\n",
              "      quickchartButtonEl.classList.add('colab-df-quickchart-complete');\n",
              "    }\n",
              "    (() => {\n",
              "      let quickchartButtonEl =\n",
              "        document.querySelector('#df-dd6e862f-7123-4107-894b-ea3cb9370e73 button');\n",
              "      quickchartButtonEl.style.display =\n",
              "        google.colab.kernel.accessAllowed ? 'block' : 'none';\n",
              "    })();\n",
              "  </script>\n",
              "</div>\n",
              "    </div>\n",
              "  </div>\n"
            ],
            "application/vnd.google.colaboratory.intrinsic+json": {
              "type": "dataframe",
              "repr_error": "0"
            }
          },
          "metadata": {},
          "execution_count": 127
        }
      ],
      "source": [
        "fix_info = pd.read_csv('https://raw.githubusercontent.com/a-milenkin/Competitive_Data_Science/main/data/fix_info.csv')\n",
        "fix_info.sample(5)"
      ]
    },
    {
      "cell_type": "markdown",
      "metadata": {
        "id": "H01U-FFAbuhv"
      },
      "source": [
        "- `worker_id` / `car_id` — идентификатор работника и машины\n",
        "- `work_type` / `work_duration` — тип и длительность (в часах) проводимой работы\n",
        "- `destroy_degree` — степень износа/поврежденности машины в случае поломки\n",
        "- `fix_date` — время начала ремонта (снятия машины с линии)"
      ]
    },
    {
      "cell_type": "markdown",
      "metadata": {
        "id": "qY-lAjlhbuhv"
      },
      "source": [
        "# Домашнее задание 1. Генерация и фильтрация признаков"
      ]
    },
    {
      "cell_type": "markdown",
      "metadata": {
        "id": "9E2N9m5Cbuhv"
      },
      "source": [
        "<center> <img src=\"https://ucarecdn.com/bf4c772d-b67a-42ae-a48b-cfd83910b0a2/\" width=700>"
      ]
    },
    {
      "cell_type": "markdown",
      "metadata": {
        "id": "HaroHWSBbuhw"
      },
      "source": [
        "<div class=\"alert alert-info\">\n",
        "\n",
        "**Цель блока** — сгенерировать признаки из дополнительных датасетов и добавить их к основному датасету, произвести фильтрацию признаков."
      ]
    },
    {
      "cell_type": "markdown",
      "metadata": {
        "id": "wev7E_qlbuhw"
      },
      "source": [
        "    \n",
        "## Задание 1. Генерация признаков из дополнительных датасетов (6 баллов)"
      ]
    },
    {
      "cell_type": "markdown",
      "metadata": {
        "id": "CSX4pA5Kbuhw"
      },
      "source": [
        "<div class=\"alert alert-info\">\n",
        "\n",
        "1. Возьмите датасет `rides_info` с информацией о поездках и проведите группировку по каждой машине отдельно.\n",
        "\n",
        "2. Для каждой машины (то есть для каждого `car_id`) подсчитайте несколько признаков:\n",
        "  - минимальный рейтинг за все поездки;\n",
        "  - средний рейтинг за все поездки;\n",
        "  - общее количество километров, которое машина проехала;\n",
        "  - максимальная скорость;\n",
        "  - общее количество поездок для каждой машины.\n",
        "\n",
        "3. Добавьте минимум 3 признака на свой выбор.\n",
        "\n",
        "4. Сделайте соединение таблиц — вспомните про методы соединения и выберите подходящий для этого случая.\n",
        "\n",
        "5. Подключите информацию про водителей (`driver_info`) и про ремонт машин (`fix_info`). Добавьте минимум 3 любых признака с каждого датасета.\n",
        "\n",
        "\n",
        "<h4> Критерии оценивания </h4>\n",
        "    \n",
        "- Добавлены 5 обязательных и минимум 3 любых признака из датасета `rides_info` — 2 балла.\n",
        "- Добавлены минимум 3 любых признака из датасета `driver_info` — 2 балла.\n",
        "- Добавлены минимум 3 любых признака из датасета `fix_info` — 2 балла.\n",
        "\n",
        "</div>"
      ]
    },
    {
      "cell_type": "markdown",
      "metadata": {
        "id": "kfAs9dZHbuhw"
      },
      "source": [
        "<div class=\"alert alert-success\">\n",
        "    \n",
        "<h4> Советы по Feature Engineering</h4>\n",
        "    \n",
        "- Начинайте с сырых данных.\n",
        "- Используйте все доступные данные. Покрывайте признаками всю имеющуюся информацию в данных.\n",
        "- Формулируйте предположения: от чего зависит таргет?\n",
        "- Смотрите визуально на классы/ошибки и делайте предположения. Какие полезны?\n",
        "- Помните, что слишком много признаков может быть вредно. Потом придется отфильтровывать.\n",
        "    \n",
        "<h4> Полезные источники </h4>\n",
        "    \n",
        "- Занятие про Feature Engineering.\n",
        "- Занятие про Feature Selection.\n",
        "- [Max Kuhn and Kjell Johnson. Feature Engineering and Selection: A Practical Approach for Predictive Models](http://www.feat.engineering/)."
      ]
    },
    {
      "cell_type": "markdown",
      "source": [
        "## **Решение 1 задания**"
      ],
      "metadata": {
        "id": "9rezLBkBcAni"
      }
    },
    {
      "cell_type": "markdown",
      "source": [
        "### Для каждой машины (то есть для каждого car_id) подсчитайте несколько признаков:\n",
        "\n",
        "- минимальный рейтинг за все поездки;\n",
        "- средний рейтинг за все поездки;\n",
        "- общее количество километров, которое машина проехала;\n",
        "- максимальная скорость;\n",
        "- общее количество поездок для каждой машины."
      ],
      "metadata": {
        "id": "eJrnTgrgZ1sT"
      }
    },
    {
      "cell_type": "code",
      "execution_count": 128,
      "metadata": {
        "id": "CYaNVDLTbuhw"
      },
      "outputs": [],
      "source": [
        "group_of_rides = rides_info.groupby('car_id', as_index=False).agg(\n",
        "    min_rating = ('rating', 'min'),\n",
        "    mean_rating = ('rating', 'mean'),\n",
        "    sum_distance = ('distance', 'sum'),\n",
        "    speed_max = ('speed_max', 'max'),\n",
        "    count_rides = ('ride_id', 'count')\n",
        ")"
      ]
    },
    {
      "cell_type": "code",
      "source": [
        "group_of_rides.head()"
      ],
      "metadata": {
        "colab": {
          "base_uri": "https://localhost:8080/",
          "height": 206
        },
        "id": "PYxGRWmwZdTD",
        "outputId": "15bcb5f9-e10c-4b2a-fa83-a1fd9dc73f80"
      },
      "execution_count": 129,
      "outputs": [
        {
          "output_type": "execute_result",
          "data": {
            "text/plain": [
              "       car_id  min_rating  mean_rating  sum_distance   speed_max  count_rides\n",
              "0  A-1049127W         0.1     4.255172  1.125753e+07  179.729652          174\n",
              "1  A-1079539w         0.1     4.088046  1.912765e+07  184.505566          174\n",
              "2  A-1162143G         0.1     4.662299  2.995194e+06  180.000000          174\n",
              "3  A-1228282M         0.1     4.225172  1.793685e+07  182.446070          174\n",
              "4  A-1339912r         0.1     4.690115  1.202552e+07  152.000000          174"
            ],
            "text/html": [
              "\n",
              "  <div id=\"df-66131826-7aa5-4e81-8dc0-c5a11553c885\" class=\"colab-df-container\">\n",
              "    <div>\n",
              "<style scoped>\n",
              "    .dataframe tbody tr th:only-of-type {\n",
              "        vertical-align: middle;\n",
              "    }\n",
              "\n",
              "    .dataframe tbody tr th {\n",
              "        vertical-align: top;\n",
              "    }\n",
              "\n",
              "    .dataframe thead th {\n",
              "        text-align: right;\n",
              "    }\n",
              "</style>\n",
              "<table border=\"1\" class=\"dataframe\">\n",
              "  <thead>\n",
              "    <tr style=\"text-align: right;\">\n",
              "      <th></th>\n",
              "      <th>car_id</th>\n",
              "      <th>min_rating</th>\n",
              "      <th>mean_rating</th>\n",
              "      <th>sum_distance</th>\n",
              "      <th>speed_max</th>\n",
              "      <th>count_rides</th>\n",
              "    </tr>\n",
              "  </thead>\n",
              "  <tbody>\n",
              "    <tr>\n",
              "      <th>0</th>\n",
              "      <td>A-1049127W</td>\n",
              "      <td>0.1</td>\n",
              "      <td>4.255172</td>\n",
              "      <td>1.125753e+07</td>\n",
              "      <td>179.729652</td>\n",
              "      <td>174</td>\n",
              "    </tr>\n",
              "    <tr>\n",
              "      <th>1</th>\n",
              "      <td>A-1079539w</td>\n",
              "      <td>0.1</td>\n",
              "      <td>4.088046</td>\n",
              "      <td>1.912765e+07</td>\n",
              "      <td>184.505566</td>\n",
              "      <td>174</td>\n",
              "    </tr>\n",
              "    <tr>\n",
              "      <th>2</th>\n",
              "      <td>A-1162143G</td>\n",
              "      <td>0.1</td>\n",
              "      <td>4.662299</td>\n",
              "      <td>2.995194e+06</td>\n",
              "      <td>180.000000</td>\n",
              "      <td>174</td>\n",
              "    </tr>\n",
              "    <tr>\n",
              "      <th>3</th>\n",
              "      <td>A-1228282M</td>\n",
              "      <td>0.1</td>\n",
              "      <td>4.225172</td>\n",
              "      <td>1.793685e+07</td>\n",
              "      <td>182.446070</td>\n",
              "      <td>174</td>\n",
              "    </tr>\n",
              "    <tr>\n",
              "      <th>4</th>\n",
              "      <td>A-1339912r</td>\n",
              "      <td>0.1</td>\n",
              "      <td>4.690115</td>\n",
              "      <td>1.202552e+07</td>\n",
              "      <td>152.000000</td>\n",
              "      <td>174</td>\n",
              "    </tr>\n",
              "  </tbody>\n",
              "</table>\n",
              "</div>\n",
              "    <div class=\"colab-df-buttons\">\n",
              "\n",
              "  <div class=\"colab-df-container\">\n",
              "    <button class=\"colab-df-convert\" onclick=\"convertToInteractive('df-66131826-7aa5-4e81-8dc0-c5a11553c885')\"\n",
              "            title=\"Convert this dataframe to an interactive table.\"\n",
              "            style=\"display:none;\">\n",
              "\n",
              "  <svg xmlns=\"http://www.w3.org/2000/svg\" height=\"24px\" viewBox=\"0 -960 960 960\">\n",
              "    <path d=\"M120-120v-720h720v720H120Zm60-500h600v-160H180v160Zm220 220h160v-160H400v160Zm0 220h160v-160H400v160ZM180-400h160v-160H180v160Zm440 0h160v-160H620v160ZM180-180h160v-160H180v160Zm440 0h160v-160H620v160Z\"/>\n",
              "  </svg>\n",
              "    </button>\n",
              "\n",
              "  <style>\n",
              "    .colab-df-container {\n",
              "      display:flex;\n",
              "      gap: 12px;\n",
              "    }\n",
              "\n",
              "    .colab-df-convert {\n",
              "      background-color: #E8F0FE;\n",
              "      border: none;\n",
              "      border-radius: 50%;\n",
              "      cursor: pointer;\n",
              "      display: none;\n",
              "      fill: #1967D2;\n",
              "      height: 32px;\n",
              "      padding: 0 0 0 0;\n",
              "      width: 32px;\n",
              "    }\n",
              "\n",
              "    .colab-df-convert:hover {\n",
              "      background-color: #E2EBFA;\n",
              "      box-shadow: 0px 1px 2px rgba(60, 64, 67, 0.3), 0px 1px 3px 1px rgba(60, 64, 67, 0.15);\n",
              "      fill: #174EA6;\n",
              "    }\n",
              "\n",
              "    .colab-df-buttons div {\n",
              "      margin-bottom: 4px;\n",
              "    }\n",
              "\n",
              "    [theme=dark] .colab-df-convert {\n",
              "      background-color: #3B4455;\n",
              "      fill: #D2E3FC;\n",
              "    }\n",
              "\n",
              "    [theme=dark] .colab-df-convert:hover {\n",
              "      background-color: #434B5C;\n",
              "      box-shadow: 0px 1px 3px 1px rgba(0, 0, 0, 0.15);\n",
              "      filter: drop-shadow(0px 1px 2px rgba(0, 0, 0, 0.3));\n",
              "      fill: #FFFFFF;\n",
              "    }\n",
              "  </style>\n",
              "\n",
              "    <script>\n",
              "      const buttonEl =\n",
              "        document.querySelector('#df-66131826-7aa5-4e81-8dc0-c5a11553c885 button.colab-df-convert');\n",
              "      buttonEl.style.display =\n",
              "        google.colab.kernel.accessAllowed ? 'block' : 'none';\n",
              "\n",
              "      async function convertToInteractive(key) {\n",
              "        const element = document.querySelector('#df-66131826-7aa5-4e81-8dc0-c5a11553c885');\n",
              "        const dataTable =\n",
              "          await google.colab.kernel.invokeFunction('convertToInteractive',\n",
              "                                                    [key], {});\n",
              "        if (!dataTable) return;\n",
              "\n",
              "        const docLinkHtml = 'Like what you see? Visit the ' +\n",
              "          '<a target=\"_blank\" href=https://colab.research.google.com/notebooks/data_table.ipynb>data table notebook</a>'\n",
              "          + ' to learn more about interactive tables.';\n",
              "        element.innerHTML = '';\n",
              "        dataTable['output_type'] = 'display_data';\n",
              "        await google.colab.output.renderOutput(dataTable, element);\n",
              "        const docLink = document.createElement('div');\n",
              "        docLink.innerHTML = docLinkHtml;\n",
              "        element.appendChild(docLink);\n",
              "      }\n",
              "    </script>\n",
              "  </div>\n",
              "\n",
              "\n",
              "<div id=\"df-1f86d92b-3758-4c4b-830c-5beed2a81ae3\">\n",
              "  <button class=\"colab-df-quickchart\" onclick=\"quickchart('df-1f86d92b-3758-4c4b-830c-5beed2a81ae3')\"\n",
              "            title=\"Suggest charts\"\n",
              "            style=\"display:none;\">\n",
              "\n",
              "<svg xmlns=\"http://www.w3.org/2000/svg\" height=\"24px\"viewBox=\"0 0 24 24\"\n",
              "     width=\"24px\">\n",
              "    <g>\n",
              "        <path d=\"M19 3H5c-1.1 0-2 .9-2 2v14c0 1.1.9 2 2 2h14c1.1 0 2-.9 2-2V5c0-1.1-.9-2-2-2zM9 17H7v-7h2v7zm4 0h-2V7h2v10zm4 0h-2v-4h2v4z\"/>\n",
              "    </g>\n",
              "</svg>\n",
              "  </button>\n",
              "\n",
              "<style>\n",
              "  .colab-df-quickchart {\n",
              "      --bg-color: #E8F0FE;\n",
              "      --fill-color: #1967D2;\n",
              "      --hover-bg-color: #E2EBFA;\n",
              "      --hover-fill-color: #174EA6;\n",
              "      --disabled-fill-color: #AAA;\n",
              "      --disabled-bg-color: #DDD;\n",
              "  }\n",
              "\n",
              "  [theme=dark] .colab-df-quickchart {\n",
              "      --bg-color: #3B4455;\n",
              "      --fill-color: #D2E3FC;\n",
              "      --hover-bg-color: #434B5C;\n",
              "      --hover-fill-color: #FFFFFF;\n",
              "      --disabled-bg-color: #3B4455;\n",
              "      --disabled-fill-color: #666;\n",
              "  }\n",
              "\n",
              "  .colab-df-quickchart {\n",
              "    background-color: var(--bg-color);\n",
              "    border: none;\n",
              "    border-radius: 50%;\n",
              "    cursor: pointer;\n",
              "    display: none;\n",
              "    fill: var(--fill-color);\n",
              "    height: 32px;\n",
              "    padding: 0;\n",
              "    width: 32px;\n",
              "  }\n",
              "\n",
              "  .colab-df-quickchart:hover {\n",
              "    background-color: var(--hover-bg-color);\n",
              "    box-shadow: 0 1px 2px rgba(60, 64, 67, 0.3), 0 1px 3px 1px rgba(60, 64, 67, 0.15);\n",
              "    fill: var(--button-hover-fill-color);\n",
              "  }\n",
              "\n",
              "  .colab-df-quickchart-complete:disabled,\n",
              "  .colab-df-quickchart-complete:disabled:hover {\n",
              "    background-color: var(--disabled-bg-color);\n",
              "    fill: var(--disabled-fill-color);\n",
              "    box-shadow: none;\n",
              "  }\n",
              "\n",
              "  .colab-df-spinner {\n",
              "    border: 2px solid var(--fill-color);\n",
              "    border-color: transparent;\n",
              "    border-bottom-color: var(--fill-color);\n",
              "    animation:\n",
              "      spin 1s steps(1) infinite;\n",
              "  }\n",
              "\n",
              "  @keyframes spin {\n",
              "    0% {\n",
              "      border-color: transparent;\n",
              "      border-bottom-color: var(--fill-color);\n",
              "      border-left-color: var(--fill-color);\n",
              "    }\n",
              "    20% {\n",
              "      border-color: transparent;\n",
              "      border-left-color: var(--fill-color);\n",
              "      border-top-color: var(--fill-color);\n",
              "    }\n",
              "    30% {\n",
              "      border-color: transparent;\n",
              "      border-left-color: var(--fill-color);\n",
              "      border-top-color: var(--fill-color);\n",
              "      border-right-color: var(--fill-color);\n",
              "    }\n",
              "    40% {\n",
              "      border-color: transparent;\n",
              "      border-right-color: var(--fill-color);\n",
              "      border-top-color: var(--fill-color);\n",
              "    }\n",
              "    60% {\n",
              "      border-color: transparent;\n",
              "      border-right-color: var(--fill-color);\n",
              "    }\n",
              "    80% {\n",
              "      border-color: transparent;\n",
              "      border-right-color: var(--fill-color);\n",
              "      border-bottom-color: var(--fill-color);\n",
              "    }\n",
              "    90% {\n",
              "      border-color: transparent;\n",
              "      border-bottom-color: var(--fill-color);\n",
              "    }\n",
              "  }\n",
              "</style>\n",
              "\n",
              "  <script>\n",
              "    async function quickchart(key) {\n",
              "      const quickchartButtonEl =\n",
              "        document.querySelector('#' + key + ' button');\n",
              "      quickchartButtonEl.disabled = true;  // To prevent multiple clicks.\n",
              "      quickchartButtonEl.classList.add('colab-df-spinner');\n",
              "      try {\n",
              "        const charts = await google.colab.kernel.invokeFunction(\n",
              "            'suggestCharts', [key], {});\n",
              "      } catch (error) {\n",
              "        console.error('Error during call to suggestCharts:', error);\n",
              "      }\n",
              "      quickchartButtonEl.classList.remove('colab-df-spinner');\n",
              "      quickchartButtonEl.classList.add('colab-df-quickchart-complete');\n",
              "    }\n",
              "    (() => {\n",
              "      let quickchartButtonEl =\n",
              "        document.querySelector('#df-1f86d92b-3758-4c4b-830c-5beed2a81ae3 button');\n",
              "      quickchartButtonEl.style.display =\n",
              "        google.colab.kernel.accessAllowed ? 'block' : 'none';\n",
              "    })();\n",
              "  </script>\n",
              "</div>\n",
              "    </div>\n",
              "  </div>\n"
            ],
            "application/vnd.google.colaboratory.intrinsic+json": {
              "type": "dataframe",
              "variable_name": "group_of_rides",
              "summary": "{\n  \"name\": \"group_of_rides\",\n  \"rows\": 4250,\n  \"fields\": [\n    {\n      \"column\": \"car_id\",\n      \"properties\": {\n        \"dtype\": \"string\",\n        \"num_unique_values\": 4250,\n        \"samples\": [\n          \"M22148410M\",\n          \"b-1050475p\",\n          \"R15749283D\"\n        ],\n        \"semantic_type\": \"\",\n        \"description\": \"\"\n      }\n    },\n    {\n      \"column\": \"min_rating\",\n      \"properties\": {\n        \"dtype\": \"number\",\n        \"std\": 0.16721240795251452,\n        \"min\": 0.0,\n        \"max\": 1.5,\n        \"num_unique_values\": 107,\n        \"samples\": [\n          0.73,\n          0.38,\n          0.34\n        ],\n        \"semantic_type\": \"\",\n        \"description\": \"\"\n      }\n    },\n    {\n      \"column\": \"mean_rating\",\n      \"properties\": {\n        \"dtype\": \"number\",\n        \"std\": 0.42196425473707544,\n        \"min\": 3.529885057471265,\n        \"max\": 5.768793103448275,\n        \"num_unique_values\": 3892,\n        \"samples\": [\n          3.98367816091954,\n          4.307241379310345,\n          3.931551724137931\n        ],\n        \"semantic_type\": \"\",\n        \"description\": \"\"\n      }\n    },\n    {\n      \"column\": \"sum_distance\",\n      \"properties\": {\n        \"dtype\": \"number\",\n        \"std\": 4207363.123978569,\n        \"min\": 1478866.3194710591,\n        \"max\": 32563653.0931651,\n        \"num_unique_values\": 4250,\n        \"samples\": [\n          8774392.789613284,\n          8423997.057547713,\n          16368396.940277258\n        ],\n        \"semantic_type\": \"\",\n        \"description\": \"\"\n      }\n    },\n    {\n      \"column\": \"speed_max\",\n      \"properties\": {\n        \"dtype\": \"number\",\n        \"std\": 32.909557285136536,\n        \"min\": 91.17291258259658,\n        \"max\": 209.98283950882248,\n        \"num_unique_values\": 3495,\n        \"samples\": [\n          180.13207820463953,\n          118.2603093332132,\n          182.69967588622168\n        ],\n        \"semantic_type\": \"\",\n        \"description\": \"\"\n      }\n    },\n    {\n      \"column\": \"count_rides\",\n      \"properties\": {\n        \"dtype\": \"number\",\n        \"std\": 0,\n        \"min\": 174,\n        \"max\": 174,\n        \"num_unique_values\": 1,\n        \"samples\": [\n          174\n        ],\n        \"semantic_type\": \"\",\n        \"description\": \"\"\n      }\n    }\n  ]\n}"
            }
          },
          "metadata": {},
          "execution_count": 129
        }
      ]
    },
    {
      "cell_type": "markdown",
      "source": [
        "### Добавьте минимум 3 признака на свой выбор."
      ],
      "metadata": {
        "id": "vnBbaNWLZ5h0"
      }
    },
    {
      "cell_type": "code",
      "source": [
        "group_of_rides = rides_info.groupby('car_id', as_index=False).agg(\n",
        "    min_rating = ('rating', 'min'),\n",
        "    mean_rating = ('rating', 'mean'),\n",
        "    sum_distance = ('distance', 'sum'),\n",
        "    speed_max = ('speed_max', 'max'),\n",
        "    count_rides = ('ride_id', 'count'),\n",
        "\n",
        "    speed_mean = ('speed_avg', 'mean'),\n",
        "    user_ride_quality_max = ('user_ride_quality', 'max'),\n",
        "    ride_cost_mean = ('ride_cost', 'mean'),\n",
        ")"
      ],
      "metadata": {
        "id": "udSxlI9HZoSL"
      },
      "execution_count": 130,
      "outputs": []
    },
    {
      "cell_type": "code",
      "source": [
        "group_of_rides.head()"
      ],
      "metadata": {
        "colab": {
          "base_uri": "https://localhost:8080/",
          "height": 206
        },
        "id": "VcaMMoXnamTs",
        "outputId": "9049fa85-ab64-4f1e-8415-6f16e0ac1522"
      },
      "execution_count": 131,
      "outputs": [
        {
          "output_type": "execute_result",
          "data": {
            "text/plain": [
              "       car_id  min_rating  mean_rating  sum_distance   speed_max  count_rides  \\\n",
              "0  A-1049127W         0.1     4.255172  1.125753e+07  179.729652          174   \n",
              "1  A-1079539w         0.1     4.088046  1.912765e+07  184.505566          174   \n",
              "2  A-1162143G         0.1     4.662299  2.995194e+06  180.000000          174   \n",
              "3  A-1228282M         0.1     4.225172  1.793685e+07  182.446070          174   \n",
              "4  A-1339912r         0.1     4.690115  1.202552e+07  152.000000          174   \n",
              "\n",
              "   speed_mean  user_ride_quality_max  ride_cost_mean  \n",
              "0   49.459770               8.556052    15201.436782  \n",
              "1   49.591954              19.324837    27007.477011  \n",
              "2   43.448276              10.915018     4599.678161  \n",
              "3   49.379310               4.188281    27379.522989  \n",
              "4   44.149425               1.038861    16185.545977  "
            ],
            "text/html": [
              "\n",
              "  <div id=\"df-31f216b7-0349-4364-bd0a-810bd88c5c8f\" class=\"colab-df-container\">\n",
              "    <div>\n",
              "<style scoped>\n",
              "    .dataframe tbody tr th:only-of-type {\n",
              "        vertical-align: middle;\n",
              "    }\n",
              "\n",
              "    .dataframe tbody tr th {\n",
              "        vertical-align: top;\n",
              "    }\n",
              "\n",
              "    .dataframe thead th {\n",
              "        text-align: right;\n",
              "    }\n",
              "</style>\n",
              "<table border=\"1\" class=\"dataframe\">\n",
              "  <thead>\n",
              "    <tr style=\"text-align: right;\">\n",
              "      <th></th>\n",
              "      <th>car_id</th>\n",
              "      <th>min_rating</th>\n",
              "      <th>mean_rating</th>\n",
              "      <th>sum_distance</th>\n",
              "      <th>speed_max</th>\n",
              "      <th>count_rides</th>\n",
              "      <th>speed_mean</th>\n",
              "      <th>user_ride_quality_max</th>\n",
              "      <th>ride_cost_mean</th>\n",
              "    </tr>\n",
              "  </thead>\n",
              "  <tbody>\n",
              "    <tr>\n",
              "      <th>0</th>\n",
              "      <td>A-1049127W</td>\n",
              "      <td>0.1</td>\n",
              "      <td>4.255172</td>\n",
              "      <td>1.125753e+07</td>\n",
              "      <td>179.729652</td>\n",
              "      <td>174</td>\n",
              "      <td>49.459770</td>\n",
              "      <td>8.556052</td>\n",
              "      <td>15201.436782</td>\n",
              "    </tr>\n",
              "    <tr>\n",
              "      <th>1</th>\n",
              "      <td>A-1079539w</td>\n",
              "      <td>0.1</td>\n",
              "      <td>4.088046</td>\n",
              "      <td>1.912765e+07</td>\n",
              "      <td>184.505566</td>\n",
              "      <td>174</td>\n",
              "      <td>49.591954</td>\n",
              "      <td>19.324837</td>\n",
              "      <td>27007.477011</td>\n",
              "    </tr>\n",
              "    <tr>\n",
              "      <th>2</th>\n",
              "      <td>A-1162143G</td>\n",
              "      <td>0.1</td>\n",
              "      <td>4.662299</td>\n",
              "      <td>2.995194e+06</td>\n",
              "      <td>180.000000</td>\n",
              "      <td>174</td>\n",
              "      <td>43.448276</td>\n",
              "      <td>10.915018</td>\n",
              "      <td>4599.678161</td>\n",
              "    </tr>\n",
              "    <tr>\n",
              "      <th>3</th>\n",
              "      <td>A-1228282M</td>\n",
              "      <td>0.1</td>\n",
              "      <td>4.225172</td>\n",
              "      <td>1.793685e+07</td>\n",
              "      <td>182.446070</td>\n",
              "      <td>174</td>\n",
              "      <td>49.379310</td>\n",
              "      <td>4.188281</td>\n",
              "      <td>27379.522989</td>\n",
              "    </tr>\n",
              "    <tr>\n",
              "      <th>4</th>\n",
              "      <td>A-1339912r</td>\n",
              "      <td>0.1</td>\n",
              "      <td>4.690115</td>\n",
              "      <td>1.202552e+07</td>\n",
              "      <td>152.000000</td>\n",
              "      <td>174</td>\n",
              "      <td>44.149425</td>\n",
              "      <td>1.038861</td>\n",
              "      <td>16185.545977</td>\n",
              "    </tr>\n",
              "  </tbody>\n",
              "</table>\n",
              "</div>\n",
              "    <div class=\"colab-df-buttons\">\n",
              "\n",
              "  <div class=\"colab-df-container\">\n",
              "    <button class=\"colab-df-convert\" onclick=\"convertToInteractive('df-31f216b7-0349-4364-bd0a-810bd88c5c8f')\"\n",
              "            title=\"Convert this dataframe to an interactive table.\"\n",
              "            style=\"display:none;\">\n",
              "\n",
              "  <svg xmlns=\"http://www.w3.org/2000/svg\" height=\"24px\" viewBox=\"0 -960 960 960\">\n",
              "    <path d=\"M120-120v-720h720v720H120Zm60-500h600v-160H180v160Zm220 220h160v-160H400v160Zm0 220h160v-160H400v160ZM180-400h160v-160H180v160Zm440 0h160v-160H620v160ZM180-180h160v-160H180v160Zm440 0h160v-160H620v160Z\"/>\n",
              "  </svg>\n",
              "    </button>\n",
              "\n",
              "  <style>\n",
              "    .colab-df-container {\n",
              "      display:flex;\n",
              "      gap: 12px;\n",
              "    }\n",
              "\n",
              "    .colab-df-convert {\n",
              "      background-color: #E8F0FE;\n",
              "      border: none;\n",
              "      border-radius: 50%;\n",
              "      cursor: pointer;\n",
              "      display: none;\n",
              "      fill: #1967D2;\n",
              "      height: 32px;\n",
              "      padding: 0 0 0 0;\n",
              "      width: 32px;\n",
              "    }\n",
              "\n",
              "    .colab-df-convert:hover {\n",
              "      background-color: #E2EBFA;\n",
              "      box-shadow: 0px 1px 2px rgba(60, 64, 67, 0.3), 0px 1px 3px 1px rgba(60, 64, 67, 0.15);\n",
              "      fill: #174EA6;\n",
              "    }\n",
              "\n",
              "    .colab-df-buttons div {\n",
              "      margin-bottom: 4px;\n",
              "    }\n",
              "\n",
              "    [theme=dark] .colab-df-convert {\n",
              "      background-color: #3B4455;\n",
              "      fill: #D2E3FC;\n",
              "    }\n",
              "\n",
              "    [theme=dark] .colab-df-convert:hover {\n",
              "      background-color: #434B5C;\n",
              "      box-shadow: 0px 1px 3px 1px rgba(0, 0, 0, 0.15);\n",
              "      filter: drop-shadow(0px 1px 2px rgba(0, 0, 0, 0.3));\n",
              "      fill: #FFFFFF;\n",
              "    }\n",
              "  </style>\n",
              "\n",
              "    <script>\n",
              "      const buttonEl =\n",
              "        document.querySelector('#df-31f216b7-0349-4364-bd0a-810bd88c5c8f button.colab-df-convert');\n",
              "      buttonEl.style.display =\n",
              "        google.colab.kernel.accessAllowed ? 'block' : 'none';\n",
              "\n",
              "      async function convertToInteractive(key) {\n",
              "        const element = document.querySelector('#df-31f216b7-0349-4364-bd0a-810bd88c5c8f');\n",
              "        const dataTable =\n",
              "          await google.colab.kernel.invokeFunction('convertToInteractive',\n",
              "                                                    [key], {});\n",
              "        if (!dataTable) return;\n",
              "\n",
              "        const docLinkHtml = 'Like what you see? Visit the ' +\n",
              "          '<a target=\"_blank\" href=https://colab.research.google.com/notebooks/data_table.ipynb>data table notebook</a>'\n",
              "          + ' to learn more about interactive tables.';\n",
              "        element.innerHTML = '';\n",
              "        dataTable['output_type'] = 'display_data';\n",
              "        await google.colab.output.renderOutput(dataTable, element);\n",
              "        const docLink = document.createElement('div');\n",
              "        docLink.innerHTML = docLinkHtml;\n",
              "        element.appendChild(docLink);\n",
              "      }\n",
              "    </script>\n",
              "  </div>\n",
              "\n",
              "\n",
              "<div id=\"df-64a5467b-ed5a-4ece-b026-1ad55ac3d6c5\">\n",
              "  <button class=\"colab-df-quickchart\" onclick=\"quickchart('df-64a5467b-ed5a-4ece-b026-1ad55ac3d6c5')\"\n",
              "            title=\"Suggest charts\"\n",
              "            style=\"display:none;\">\n",
              "\n",
              "<svg xmlns=\"http://www.w3.org/2000/svg\" height=\"24px\"viewBox=\"0 0 24 24\"\n",
              "     width=\"24px\">\n",
              "    <g>\n",
              "        <path d=\"M19 3H5c-1.1 0-2 .9-2 2v14c0 1.1.9 2 2 2h14c1.1 0 2-.9 2-2V5c0-1.1-.9-2-2-2zM9 17H7v-7h2v7zm4 0h-2V7h2v10zm4 0h-2v-4h2v4z\"/>\n",
              "    </g>\n",
              "</svg>\n",
              "  </button>\n",
              "\n",
              "<style>\n",
              "  .colab-df-quickchart {\n",
              "      --bg-color: #E8F0FE;\n",
              "      --fill-color: #1967D2;\n",
              "      --hover-bg-color: #E2EBFA;\n",
              "      --hover-fill-color: #174EA6;\n",
              "      --disabled-fill-color: #AAA;\n",
              "      --disabled-bg-color: #DDD;\n",
              "  }\n",
              "\n",
              "  [theme=dark] .colab-df-quickchart {\n",
              "      --bg-color: #3B4455;\n",
              "      --fill-color: #D2E3FC;\n",
              "      --hover-bg-color: #434B5C;\n",
              "      --hover-fill-color: #FFFFFF;\n",
              "      --disabled-bg-color: #3B4455;\n",
              "      --disabled-fill-color: #666;\n",
              "  }\n",
              "\n",
              "  .colab-df-quickchart {\n",
              "    background-color: var(--bg-color);\n",
              "    border: none;\n",
              "    border-radius: 50%;\n",
              "    cursor: pointer;\n",
              "    display: none;\n",
              "    fill: var(--fill-color);\n",
              "    height: 32px;\n",
              "    padding: 0;\n",
              "    width: 32px;\n",
              "  }\n",
              "\n",
              "  .colab-df-quickchart:hover {\n",
              "    background-color: var(--hover-bg-color);\n",
              "    box-shadow: 0 1px 2px rgba(60, 64, 67, 0.3), 0 1px 3px 1px rgba(60, 64, 67, 0.15);\n",
              "    fill: var(--button-hover-fill-color);\n",
              "  }\n",
              "\n",
              "  .colab-df-quickchart-complete:disabled,\n",
              "  .colab-df-quickchart-complete:disabled:hover {\n",
              "    background-color: var(--disabled-bg-color);\n",
              "    fill: var(--disabled-fill-color);\n",
              "    box-shadow: none;\n",
              "  }\n",
              "\n",
              "  .colab-df-spinner {\n",
              "    border: 2px solid var(--fill-color);\n",
              "    border-color: transparent;\n",
              "    border-bottom-color: var(--fill-color);\n",
              "    animation:\n",
              "      spin 1s steps(1) infinite;\n",
              "  }\n",
              "\n",
              "  @keyframes spin {\n",
              "    0% {\n",
              "      border-color: transparent;\n",
              "      border-bottom-color: var(--fill-color);\n",
              "      border-left-color: var(--fill-color);\n",
              "    }\n",
              "    20% {\n",
              "      border-color: transparent;\n",
              "      border-left-color: var(--fill-color);\n",
              "      border-top-color: var(--fill-color);\n",
              "    }\n",
              "    30% {\n",
              "      border-color: transparent;\n",
              "      border-left-color: var(--fill-color);\n",
              "      border-top-color: var(--fill-color);\n",
              "      border-right-color: var(--fill-color);\n",
              "    }\n",
              "    40% {\n",
              "      border-color: transparent;\n",
              "      border-right-color: var(--fill-color);\n",
              "      border-top-color: var(--fill-color);\n",
              "    }\n",
              "    60% {\n",
              "      border-color: transparent;\n",
              "      border-right-color: var(--fill-color);\n",
              "    }\n",
              "    80% {\n",
              "      border-color: transparent;\n",
              "      border-right-color: var(--fill-color);\n",
              "      border-bottom-color: var(--fill-color);\n",
              "    }\n",
              "    90% {\n",
              "      border-color: transparent;\n",
              "      border-bottom-color: var(--fill-color);\n",
              "    }\n",
              "  }\n",
              "</style>\n",
              "\n",
              "  <script>\n",
              "    async function quickchart(key) {\n",
              "      const quickchartButtonEl =\n",
              "        document.querySelector('#' + key + ' button');\n",
              "      quickchartButtonEl.disabled = true;  // To prevent multiple clicks.\n",
              "      quickchartButtonEl.classList.add('colab-df-spinner');\n",
              "      try {\n",
              "        const charts = await google.colab.kernel.invokeFunction(\n",
              "            'suggestCharts', [key], {});\n",
              "      } catch (error) {\n",
              "        console.error('Error during call to suggestCharts:', error);\n",
              "      }\n",
              "      quickchartButtonEl.classList.remove('colab-df-spinner');\n",
              "      quickchartButtonEl.classList.add('colab-df-quickchart-complete');\n",
              "    }\n",
              "    (() => {\n",
              "      let quickchartButtonEl =\n",
              "        document.querySelector('#df-64a5467b-ed5a-4ece-b026-1ad55ac3d6c5 button');\n",
              "      quickchartButtonEl.style.display =\n",
              "        google.colab.kernel.accessAllowed ? 'block' : 'none';\n",
              "    })();\n",
              "  </script>\n",
              "</div>\n",
              "    </div>\n",
              "  </div>\n"
            ],
            "application/vnd.google.colaboratory.intrinsic+json": {
              "type": "dataframe",
              "variable_name": "group_of_rides",
              "summary": "{\n  \"name\": \"group_of_rides\",\n  \"rows\": 4250,\n  \"fields\": [\n    {\n      \"column\": \"car_id\",\n      \"properties\": {\n        \"dtype\": \"string\",\n        \"num_unique_values\": 4250,\n        \"samples\": [\n          \"M22148410M\",\n          \"b-1050475p\",\n          \"R15749283D\"\n        ],\n        \"semantic_type\": \"\",\n        \"description\": \"\"\n      }\n    },\n    {\n      \"column\": \"min_rating\",\n      \"properties\": {\n        \"dtype\": \"number\",\n        \"std\": 0.16721240795251452,\n        \"min\": 0.0,\n        \"max\": 1.5,\n        \"num_unique_values\": 107,\n        \"samples\": [\n          0.73,\n          0.38,\n          0.34\n        ],\n        \"semantic_type\": \"\",\n        \"description\": \"\"\n      }\n    },\n    {\n      \"column\": \"mean_rating\",\n      \"properties\": {\n        \"dtype\": \"number\",\n        \"std\": 0.42196425473707544,\n        \"min\": 3.529885057471265,\n        \"max\": 5.768793103448275,\n        \"num_unique_values\": 3892,\n        \"samples\": [\n          3.98367816091954,\n          4.307241379310345,\n          3.931551724137931\n        ],\n        \"semantic_type\": \"\",\n        \"description\": \"\"\n      }\n    },\n    {\n      \"column\": \"sum_distance\",\n      \"properties\": {\n        \"dtype\": \"number\",\n        \"std\": 4207363.123978569,\n        \"min\": 1478866.3194710591,\n        \"max\": 32563653.0931651,\n        \"num_unique_values\": 4250,\n        \"samples\": [\n          8774392.789613284,\n          8423997.057547713,\n          16368396.940277258\n        ],\n        \"semantic_type\": \"\",\n        \"description\": \"\"\n      }\n    },\n    {\n      \"column\": \"speed_max\",\n      \"properties\": {\n        \"dtype\": \"number\",\n        \"std\": 32.909557285136536,\n        \"min\": 91.17291258259658,\n        \"max\": 209.98283950882248,\n        \"num_unique_values\": 3495,\n        \"samples\": [\n          180.13207820463953,\n          118.2603093332132,\n          182.69967588622168\n        ],\n        \"semantic_type\": \"\",\n        \"description\": \"\"\n      }\n    },\n    {\n      \"column\": \"count_rides\",\n      \"properties\": {\n        \"dtype\": \"number\",\n        \"std\": 0,\n        \"min\": 174,\n        \"max\": 174,\n        \"num_unique_values\": 1,\n        \"samples\": [\n          174\n        ],\n        \"semantic_type\": \"\",\n        \"description\": \"\"\n      }\n    },\n    {\n      \"column\": \"speed_mean\",\n      \"properties\": {\n        \"dtype\": \"number\",\n        \"std\": 2.7720297750572755,\n        \"min\": 42.0632183908046,\n        \"max\": 53.132183908045974,\n        \"num_unique_values\": 1290,\n        \"samples\": [\n          48.747126436781606\n        ],\n        \"semantic_type\": \"\",\n        \"description\": \"\"\n      }\n    },\n    {\n      \"column\": \"user_ride_quality_max\",\n      \"properties\": {\n        \"dtype\": \"number\",\n        \"std\": 9.86693054126782,\n        \"min\": -3.814874015852011,\n        \"max\": 69.57464979309526,\n        \"num_unique_values\": 4250,\n        \"samples\": [\n          3.0976038186749024\n        ],\n        \"semantic_type\": \"\",\n        \"description\": \"\"\n      }\n    },\n    {\n      \"column\": \"ride_cost_mean\",\n      \"properties\": {\n        \"dtype\": \"number\",\n        \"std\": 8289.434551059148,\n        \"min\": 2302.6609195402298,\n        \"max\": 82364.7643678161,\n        \"num_unique_values\": 4250,\n        \"samples\": [\n          15115.66091954023\n        ],\n        \"semantic_type\": \"\",\n        \"description\": \"\"\n      }\n    }\n  ]\n}"
            }
          },
          "metadata": {},
          "execution_count": 131
        }
      ]
    },
    {
      "cell_type": "markdown",
      "source": [
        "### Сделайте соединение таблиц — вспомните про методы соединения и выберите подходящий для этого случая."
      ],
      "metadata": {
        "id": "P4RCLbwfa-es"
      }
    },
    {
      "cell_type": "code",
      "source": [
        "df = pd.merge(car_train, group_of_rides, on='car_id')"
      ],
      "metadata": {
        "id": "xcUlvk6KbAAz"
      },
      "execution_count": 132,
      "outputs": []
    },
    {
      "cell_type": "code",
      "source": [
        "df.head()"
      ],
      "metadata": {
        "colab": {
          "base_uri": "https://localhost:8080/",
          "height": 313
        },
        "id": "YTr63H1sbgw0",
        "outputId": "d6ee99f8-fafc-4d38-aae6-1b586b974bab"
      },
      "execution_count": 133,
      "outputs": [
        {
          "output_type": "execute_result",
          "data": {
            "text/plain": [
              "       car_id              model  car_type fuel_type  car_rating  \\\n",
              "0  y13744087j     Kia Rio X-line   economy    petrol        3.78   \n",
              "1  O41613818T         VW Polo VI   economy    petrol        3.90   \n",
              "2  d-2109686j    Renault Sandero  standart    petrol        6.30   \n",
              "3  u29695600e  Mercedes-Benz GLC  business    petrol        4.04   \n",
              "4  N-8915870N    Renault Sandero  standart    petrol        4.70   \n",
              "\n",
              "   year_to_start  riders  year_to_work  target_reg target_class  min_rating  \\\n",
              "0           2015   76163          2021      108.53  another_bug         0.1   \n",
              "1           2015   78218          2021       35.20  electro_bug         0.0   \n",
              "2           2012   23340          2017       38.62   gear_stick         0.1   \n",
              "3           2011    1263          2020       30.34  engine_fuel         0.1   \n",
              "4           2012   26428          2017       30.45  engine_fuel         0.1   \n",
              "\n",
              "   mean_rating  sum_distance   speed_max  count_rides  speed_mean  \\\n",
              "0     4.737759  1.214131e+07  180.855726          174   44.660920   \n",
              "1     4.480517  1.803909e+07  187.862734          174   49.862069   \n",
              "2     4.768391  1.588366e+07  102.382857          174   44.005747   \n",
              "3     3.880920  1.651883e+07  172.793237          174   49.344828   \n",
              "4     4.181149  1.398317e+07  203.462289          174   50.603448   \n",
              "\n",
              "   user_ride_quality_max  ride_cost_mean  \n",
              "0              11.035871    20106.873563  \n",
              "1              32.610351    26813.614943  \n",
              "2              11.766087    23987.793103  \n",
              "3               3.931040    37839.086207  \n",
              "4               3.344463    19888.431034  "
            ],
            "text/html": [
              "\n",
              "  <div id=\"df-fba6dad6-e96d-497e-8198-9b624e4f23ec\" class=\"colab-df-container\">\n",
              "    <div>\n",
              "<style scoped>\n",
              "    .dataframe tbody tr th:only-of-type {\n",
              "        vertical-align: middle;\n",
              "    }\n",
              "\n",
              "    .dataframe tbody tr th {\n",
              "        vertical-align: top;\n",
              "    }\n",
              "\n",
              "    .dataframe thead th {\n",
              "        text-align: right;\n",
              "    }\n",
              "</style>\n",
              "<table border=\"1\" class=\"dataframe\">\n",
              "  <thead>\n",
              "    <tr style=\"text-align: right;\">\n",
              "      <th></th>\n",
              "      <th>car_id</th>\n",
              "      <th>model</th>\n",
              "      <th>car_type</th>\n",
              "      <th>fuel_type</th>\n",
              "      <th>car_rating</th>\n",
              "      <th>year_to_start</th>\n",
              "      <th>riders</th>\n",
              "      <th>year_to_work</th>\n",
              "      <th>target_reg</th>\n",
              "      <th>target_class</th>\n",
              "      <th>min_rating</th>\n",
              "      <th>mean_rating</th>\n",
              "      <th>sum_distance</th>\n",
              "      <th>speed_max</th>\n",
              "      <th>count_rides</th>\n",
              "      <th>speed_mean</th>\n",
              "      <th>user_ride_quality_max</th>\n",
              "      <th>ride_cost_mean</th>\n",
              "    </tr>\n",
              "  </thead>\n",
              "  <tbody>\n",
              "    <tr>\n",
              "      <th>0</th>\n",
              "      <td>y13744087j</td>\n",
              "      <td>Kia Rio X-line</td>\n",
              "      <td>economy</td>\n",
              "      <td>petrol</td>\n",
              "      <td>3.78</td>\n",
              "      <td>2015</td>\n",
              "      <td>76163</td>\n",
              "      <td>2021</td>\n",
              "      <td>108.53</td>\n",
              "      <td>another_bug</td>\n",
              "      <td>0.1</td>\n",
              "      <td>4.737759</td>\n",
              "      <td>1.214131e+07</td>\n",
              "      <td>180.855726</td>\n",
              "      <td>174</td>\n",
              "      <td>44.660920</td>\n",
              "      <td>11.035871</td>\n",
              "      <td>20106.873563</td>\n",
              "    </tr>\n",
              "    <tr>\n",
              "      <th>1</th>\n",
              "      <td>O41613818T</td>\n",
              "      <td>VW Polo VI</td>\n",
              "      <td>economy</td>\n",
              "      <td>petrol</td>\n",
              "      <td>3.90</td>\n",
              "      <td>2015</td>\n",
              "      <td>78218</td>\n",
              "      <td>2021</td>\n",
              "      <td>35.20</td>\n",
              "      <td>electro_bug</td>\n",
              "      <td>0.0</td>\n",
              "      <td>4.480517</td>\n",
              "      <td>1.803909e+07</td>\n",
              "      <td>187.862734</td>\n",
              "      <td>174</td>\n",
              "      <td>49.862069</td>\n",
              "      <td>32.610351</td>\n",
              "      <td>26813.614943</td>\n",
              "    </tr>\n",
              "    <tr>\n",
              "      <th>2</th>\n",
              "      <td>d-2109686j</td>\n",
              "      <td>Renault Sandero</td>\n",
              "      <td>standart</td>\n",
              "      <td>petrol</td>\n",
              "      <td>6.30</td>\n",
              "      <td>2012</td>\n",
              "      <td>23340</td>\n",
              "      <td>2017</td>\n",
              "      <td>38.62</td>\n",
              "      <td>gear_stick</td>\n",
              "      <td>0.1</td>\n",
              "      <td>4.768391</td>\n",
              "      <td>1.588366e+07</td>\n",
              "      <td>102.382857</td>\n",
              "      <td>174</td>\n",
              "      <td>44.005747</td>\n",
              "      <td>11.766087</td>\n",
              "      <td>23987.793103</td>\n",
              "    </tr>\n",
              "    <tr>\n",
              "      <th>3</th>\n",
              "      <td>u29695600e</td>\n",
              "      <td>Mercedes-Benz GLC</td>\n",
              "      <td>business</td>\n",
              "      <td>petrol</td>\n",
              "      <td>4.04</td>\n",
              "      <td>2011</td>\n",
              "      <td>1263</td>\n",
              "      <td>2020</td>\n",
              "      <td>30.34</td>\n",
              "      <td>engine_fuel</td>\n",
              "      <td>0.1</td>\n",
              "      <td>3.880920</td>\n",
              "      <td>1.651883e+07</td>\n",
              "      <td>172.793237</td>\n",
              "      <td>174</td>\n",
              "      <td>49.344828</td>\n",
              "      <td>3.931040</td>\n",
              "      <td>37839.086207</td>\n",
              "    </tr>\n",
              "    <tr>\n",
              "      <th>4</th>\n",
              "      <td>N-8915870N</td>\n",
              "      <td>Renault Sandero</td>\n",
              "      <td>standart</td>\n",
              "      <td>petrol</td>\n",
              "      <td>4.70</td>\n",
              "      <td>2012</td>\n",
              "      <td>26428</td>\n",
              "      <td>2017</td>\n",
              "      <td>30.45</td>\n",
              "      <td>engine_fuel</td>\n",
              "      <td>0.1</td>\n",
              "      <td>4.181149</td>\n",
              "      <td>1.398317e+07</td>\n",
              "      <td>203.462289</td>\n",
              "      <td>174</td>\n",
              "      <td>50.603448</td>\n",
              "      <td>3.344463</td>\n",
              "      <td>19888.431034</td>\n",
              "    </tr>\n",
              "  </tbody>\n",
              "</table>\n",
              "</div>\n",
              "    <div class=\"colab-df-buttons\">\n",
              "\n",
              "  <div class=\"colab-df-container\">\n",
              "    <button class=\"colab-df-convert\" onclick=\"convertToInteractive('df-fba6dad6-e96d-497e-8198-9b624e4f23ec')\"\n",
              "            title=\"Convert this dataframe to an interactive table.\"\n",
              "            style=\"display:none;\">\n",
              "\n",
              "  <svg xmlns=\"http://www.w3.org/2000/svg\" height=\"24px\" viewBox=\"0 -960 960 960\">\n",
              "    <path d=\"M120-120v-720h720v720H120Zm60-500h600v-160H180v160Zm220 220h160v-160H400v160Zm0 220h160v-160H400v160ZM180-400h160v-160H180v160Zm440 0h160v-160H620v160ZM180-180h160v-160H180v160Zm440 0h160v-160H620v160Z\"/>\n",
              "  </svg>\n",
              "    </button>\n",
              "\n",
              "  <style>\n",
              "    .colab-df-container {\n",
              "      display:flex;\n",
              "      gap: 12px;\n",
              "    }\n",
              "\n",
              "    .colab-df-convert {\n",
              "      background-color: #E8F0FE;\n",
              "      border: none;\n",
              "      border-radius: 50%;\n",
              "      cursor: pointer;\n",
              "      display: none;\n",
              "      fill: #1967D2;\n",
              "      height: 32px;\n",
              "      padding: 0 0 0 0;\n",
              "      width: 32px;\n",
              "    }\n",
              "\n",
              "    .colab-df-convert:hover {\n",
              "      background-color: #E2EBFA;\n",
              "      box-shadow: 0px 1px 2px rgba(60, 64, 67, 0.3), 0px 1px 3px 1px rgba(60, 64, 67, 0.15);\n",
              "      fill: #174EA6;\n",
              "    }\n",
              "\n",
              "    .colab-df-buttons div {\n",
              "      margin-bottom: 4px;\n",
              "    }\n",
              "\n",
              "    [theme=dark] .colab-df-convert {\n",
              "      background-color: #3B4455;\n",
              "      fill: #D2E3FC;\n",
              "    }\n",
              "\n",
              "    [theme=dark] .colab-df-convert:hover {\n",
              "      background-color: #434B5C;\n",
              "      box-shadow: 0px 1px 3px 1px rgba(0, 0, 0, 0.15);\n",
              "      filter: drop-shadow(0px 1px 2px rgba(0, 0, 0, 0.3));\n",
              "      fill: #FFFFFF;\n",
              "    }\n",
              "  </style>\n",
              "\n",
              "    <script>\n",
              "      const buttonEl =\n",
              "        document.querySelector('#df-fba6dad6-e96d-497e-8198-9b624e4f23ec button.colab-df-convert');\n",
              "      buttonEl.style.display =\n",
              "        google.colab.kernel.accessAllowed ? 'block' : 'none';\n",
              "\n",
              "      async function convertToInteractive(key) {\n",
              "        const element = document.querySelector('#df-fba6dad6-e96d-497e-8198-9b624e4f23ec');\n",
              "        const dataTable =\n",
              "          await google.colab.kernel.invokeFunction('convertToInteractive',\n",
              "                                                    [key], {});\n",
              "        if (!dataTable) return;\n",
              "\n",
              "        const docLinkHtml = 'Like what you see? Visit the ' +\n",
              "          '<a target=\"_blank\" href=https://colab.research.google.com/notebooks/data_table.ipynb>data table notebook</a>'\n",
              "          + ' to learn more about interactive tables.';\n",
              "        element.innerHTML = '';\n",
              "        dataTable['output_type'] = 'display_data';\n",
              "        await google.colab.output.renderOutput(dataTable, element);\n",
              "        const docLink = document.createElement('div');\n",
              "        docLink.innerHTML = docLinkHtml;\n",
              "        element.appendChild(docLink);\n",
              "      }\n",
              "    </script>\n",
              "  </div>\n",
              "\n",
              "\n",
              "<div id=\"df-6e48c324-d517-4c29-b010-b33466ee3dda\">\n",
              "  <button class=\"colab-df-quickchart\" onclick=\"quickchart('df-6e48c324-d517-4c29-b010-b33466ee3dda')\"\n",
              "            title=\"Suggest charts\"\n",
              "            style=\"display:none;\">\n",
              "\n",
              "<svg xmlns=\"http://www.w3.org/2000/svg\" height=\"24px\"viewBox=\"0 0 24 24\"\n",
              "     width=\"24px\">\n",
              "    <g>\n",
              "        <path d=\"M19 3H5c-1.1 0-2 .9-2 2v14c0 1.1.9 2 2 2h14c1.1 0 2-.9 2-2V5c0-1.1-.9-2-2-2zM9 17H7v-7h2v7zm4 0h-2V7h2v10zm4 0h-2v-4h2v4z\"/>\n",
              "    </g>\n",
              "</svg>\n",
              "  </button>\n",
              "\n",
              "<style>\n",
              "  .colab-df-quickchart {\n",
              "      --bg-color: #E8F0FE;\n",
              "      --fill-color: #1967D2;\n",
              "      --hover-bg-color: #E2EBFA;\n",
              "      --hover-fill-color: #174EA6;\n",
              "      --disabled-fill-color: #AAA;\n",
              "      --disabled-bg-color: #DDD;\n",
              "  }\n",
              "\n",
              "  [theme=dark] .colab-df-quickchart {\n",
              "      --bg-color: #3B4455;\n",
              "      --fill-color: #D2E3FC;\n",
              "      --hover-bg-color: #434B5C;\n",
              "      --hover-fill-color: #FFFFFF;\n",
              "      --disabled-bg-color: #3B4455;\n",
              "      --disabled-fill-color: #666;\n",
              "  }\n",
              "\n",
              "  .colab-df-quickchart {\n",
              "    background-color: var(--bg-color);\n",
              "    border: none;\n",
              "    border-radius: 50%;\n",
              "    cursor: pointer;\n",
              "    display: none;\n",
              "    fill: var(--fill-color);\n",
              "    height: 32px;\n",
              "    padding: 0;\n",
              "    width: 32px;\n",
              "  }\n",
              "\n",
              "  .colab-df-quickchart:hover {\n",
              "    background-color: var(--hover-bg-color);\n",
              "    box-shadow: 0 1px 2px rgba(60, 64, 67, 0.3), 0 1px 3px 1px rgba(60, 64, 67, 0.15);\n",
              "    fill: var(--button-hover-fill-color);\n",
              "  }\n",
              "\n",
              "  .colab-df-quickchart-complete:disabled,\n",
              "  .colab-df-quickchart-complete:disabled:hover {\n",
              "    background-color: var(--disabled-bg-color);\n",
              "    fill: var(--disabled-fill-color);\n",
              "    box-shadow: none;\n",
              "  }\n",
              "\n",
              "  .colab-df-spinner {\n",
              "    border: 2px solid var(--fill-color);\n",
              "    border-color: transparent;\n",
              "    border-bottom-color: var(--fill-color);\n",
              "    animation:\n",
              "      spin 1s steps(1) infinite;\n",
              "  }\n",
              "\n",
              "  @keyframes spin {\n",
              "    0% {\n",
              "      border-color: transparent;\n",
              "      border-bottom-color: var(--fill-color);\n",
              "      border-left-color: var(--fill-color);\n",
              "    }\n",
              "    20% {\n",
              "      border-color: transparent;\n",
              "      border-left-color: var(--fill-color);\n",
              "      border-top-color: var(--fill-color);\n",
              "    }\n",
              "    30% {\n",
              "      border-color: transparent;\n",
              "      border-left-color: var(--fill-color);\n",
              "      border-top-color: var(--fill-color);\n",
              "      border-right-color: var(--fill-color);\n",
              "    }\n",
              "    40% {\n",
              "      border-color: transparent;\n",
              "      border-right-color: var(--fill-color);\n",
              "      border-top-color: var(--fill-color);\n",
              "    }\n",
              "    60% {\n",
              "      border-color: transparent;\n",
              "      border-right-color: var(--fill-color);\n",
              "    }\n",
              "    80% {\n",
              "      border-color: transparent;\n",
              "      border-right-color: var(--fill-color);\n",
              "      border-bottom-color: var(--fill-color);\n",
              "    }\n",
              "    90% {\n",
              "      border-color: transparent;\n",
              "      border-bottom-color: var(--fill-color);\n",
              "    }\n",
              "  }\n",
              "</style>\n",
              "\n",
              "  <script>\n",
              "    async function quickchart(key) {\n",
              "      const quickchartButtonEl =\n",
              "        document.querySelector('#' + key + ' button');\n",
              "      quickchartButtonEl.disabled = true;  // To prevent multiple clicks.\n",
              "      quickchartButtonEl.classList.add('colab-df-spinner');\n",
              "      try {\n",
              "        const charts = await google.colab.kernel.invokeFunction(\n",
              "            'suggestCharts', [key], {});\n",
              "      } catch (error) {\n",
              "        console.error('Error during call to suggestCharts:', error);\n",
              "      }\n",
              "      quickchartButtonEl.classList.remove('colab-df-spinner');\n",
              "      quickchartButtonEl.classList.add('colab-df-quickchart-complete');\n",
              "    }\n",
              "    (() => {\n",
              "      let quickchartButtonEl =\n",
              "        document.querySelector('#df-6e48c324-d517-4c29-b010-b33466ee3dda button');\n",
              "      quickchartButtonEl.style.display =\n",
              "        google.colab.kernel.accessAllowed ? 'block' : 'none';\n",
              "    })();\n",
              "  </script>\n",
              "</div>\n",
              "    </div>\n",
              "  </div>\n"
            ],
            "application/vnd.google.colaboratory.intrinsic+json": {
              "type": "dataframe",
              "variable_name": "df",
              "summary": "{\n  \"name\": \"df\",\n  \"rows\": 2337,\n  \"fields\": [\n    {\n      \"column\": \"car_id\",\n      \"properties\": {\n        \"dtype\": \"string\",\n        \"num_unique_values\": 2337,\n        \"samples\": [\n          \"z14411100u\",\n          \"n-6604555n\",\n          \"d-1051262p\"\n        ],\n        \"semantic_type\": \"\",\n        \"description\": \"\"\n      }\n    },\n    {\n      \"column\": \"model\",\n      \"properties\": {\n        \"dtype\": \"category\",\n        \"num_unique_values\": 26,\n        \"samples\": [\n          \"Smart ForFour\",\n          \"Renault Kaptur\",\n          \"Kia Rio X-line\"\n        ],\n        \"semantic_type\": \"\",\n        \"description\": \"\"\n      }\n    },\n    {\n      \"column\": \"car_type\",\n      \"properties\": {\n        \"dtype\": \"category\",\n        \"num_unique_values\": 4,\n        \"samples\": [\n          \"standart\",\n          \"premium\",\n          \"economy\"\n        ],\n        \"semantic_type\": \"\",\n        \"description\": \"\"\n      }\n    },\n    {\n      \"column\": \"fuel_type\",\n      \"properties\": {\n        \"dtype\": \"category\",\n        \"num_unique_values\": 2,\n        \"samples\": [\n          \"electro\",\n          \"petrol\"\n        ],\n        \"semantic_type\": \"\",\n        \"description\": \"\"\n      }\n    },\n    {\n      \"column\": \"car_rating\",\n      \"properties\": {\n        \"dtype\": \"number\",\n        \"std\": 0.9969539766615568,\n        \"min\": 0.98,\n        \"max\": 8.9,\n        \"num_unique_values\": 269,\n        \"samples\": [\n          2.78,\n          2.1\n        ],\n        \"semantic_type\": \"\",\n        \"description\": \"\"\n      }\n    },\n    {\n      \"column\": \"year_to_start\",\n      \"properties\": {\n        \"dtype\": \"number\",\n        \"std\": 1,\n        \"min\": 2011,\n        \"max\": 2017,\n        \"num_unique_values\": 7,\n        \"samples\": [\n          2015,\n          2012\n        ],\n        \"semantic_type\": \"\",\n        \"description\": \"\"\n      }\n    },\n    {\n      \"column\": \"riders\",\n      \"properties\": {\n        \"dtype\": \"number\",\n        \"std\": 33755,\n        \"min\": 23,\n        \"max\": 142862,\n        \"num_unique_values\": 2306,\n        \"samples\": [\n          61719,\n          100108\n        ],\n        \"semantic_type\": \"\",\n        \"description\": \"\"\n      }\n    },\n    {\n      \"column\": \"year_to_work\",\n      \"properties\": {\n        \"dtype\": \"number\",\n        \"std\": 2,\n        \"min\": 2014,\n        \"max\": 2022,\n        \"num_unique_values\": 9,\n        \"samples\": [\n          2022,\n          2017\n        ],\n        \"semantic_type\": \"\",\n        \"description\": \"\"\n      }\n    },\n    {\n      \"column\": \"target_reg\",\n      \"properties\": {\n        \"dtype\": \"number\",\n        \"std\": 17.579568125863787,\n        \"min\": 18.92,\n        \"max\": 141.63,\n        \"num_unique_values\": 1891,\n        \"samples\": [\n          37.98,\n          58.11\n        ],\n        \"semantic_type\": \"\",\n        \"description\": \"\"\n      }\n    },\n    {\n      \"column\": \"target_class\",\n      \"properties\": {\n        \"dtype\": \"category\",\n        \"num_unique_values\": 9,\n        \"samples\": [\n          \"wheel_shake\",\n          \"electro_bug\"\n        ],\n        \"semantic_type\": \"\",\n        \"description\": \"\"\n      }\n    },\n    {\n      \"column\": \"min_rating\",\n      \"properties\": {\n        \"dtype\": \"number\",\n        \"std\": 0.16397828346003004,\n        \"min\": 0.0,\n        \"max\": 1.5,\n        \"num_unique_values\": 91,\n        \"samples\": [\n          0.67,\n          0.5\n        ],\n        \"semantic_type\": \"\",\n        \"description\": \"\"\n      }\n    },\n    {\n      \"column\": \"mean_rating\",\n      \"properties\": {\n        \"dtype\": \"number\",\n        \"std\": 0.4185875181615076,\n        \"min\": 3.529885057471265,\n        \"max\": 5.700747126436782,\n        \"num_unique_values\": 2223,\n        \"samples\": [\n          4.938505747126436,\n          4.750402298850575\n        ],\n        \"semantic_type\": \"\",\n        \"description\": \"\"\n      }\n    },\n    {\n      \"column\": \"sum_distance\",\n      \"properties\": {\n        \"dtype\": \"number\",\n        \"std\": 4253208.772370099,\n        \"min\": 1478866.3194710591,\n        \"max\": 31197854.66144909,\n        \"num_unique_values\": 2337,\n        \"samples\": [\n          11634739.066408757,\n          17976546.948301077\n        ],\n        \"semantic_type\": \"\",\n        \"description\": \"\"\n      }\n    },\n    {\n      \"column\": \"speed_max\",\n      \"properties\": {\n        \"dtype\": \"number\",\n        \"std\": 33.211160987028705,\n        \"min\": 91.4235081222183,\n        \"max\": 209.98283950882248,\n        \"num_unique_values\": 1938,\n        \"samples\": [\n          109.38343955827206,\n          196.76859522747992\n        ],\n        \"semantic_type\": \"\",\n        \"description\": \"\"\n      }\n    },\n    {\n      \"column\": \"count_rides\",\n      \"properties\": {\n        \"dtype\": \"number\",\n        \"std\": 0,\n        \"min\": 174,\n        \"max\": 174,\n        \"num_unique_values\": 1,\n        \"samples\": [\n          174\n        ],\n        \"semantic_type\": \"\",\n        \"description\": \"\"\n      }\n    },\n    {\n      \"column\": \"speed_mean\",\n      \"properties\": {\n        \"dtype\": \"number\",\n        \"std\": 2.761201815368068,\n        \"min\": 42.4367816091954,\n        \"max\": 53.132183908045974,\n        \"num_unique_values\": 1035,\n        \"samples\": [\n          51.14942528735632\n        ],\n        \"semantic_type\": \"\",\n        \"description\": \"\"\n      }\n    },\n    {\n      \"column\": \"user_ride_quality_max\",\n      \"properties\": {\n        \"dtype\": \"number\",\n        \"std\": 9.895718804375633,\n        \"min\": -3.814874015852011,\n        \"max\": 69.57464979309526,\n        \"num_unique_values\": 2337,\n        \"samples\": [\n          7.385791891764447\n        ],\n        \"semantic_type\": \"\",\n        \"description\": \"\"\n      }\n    },\n    {\n      \"column\": \"ride_cost_mean\",\n      \"properties\": {\n        \"dtype\": \"number\",\n        \"std\": 8116.641364427624,\n        \"min\": 2302.6609195402298,\n        \"max\": 76800.83333333333,\n        \"num_unique_values\": 2337,\n        \"samples\": [\n          32568.505747126437\n        ],\n        \"semantic_type\": \"\",\n        \"description\": \"\"\n      }\n    }\n  ]\n}"
            }
          },
          "metadata": {},
          "execution_count": 133
        }
      ]
    },
    {
      "cell_type": "markdown",
      "source": [
        "### Подключите информацию про водителей (driver_info) и про ремонт машин (fix_info). Добавьте минимум 3 любых признака с каждого датасета."
      ],
      "metadata": {
        "id": "H6X6PN60cIJR"
      }
    },
    {
      "cell_type": "code",
      "source": [
        "# driver_info.head(1)"
      ],
      "metadata": {
        "id": "M9wb959TvUrX"
      },
      "execution_count": 12,
      "outputs": []
    },
    {
      "cell_type": "code",
      "source": [
        "# fix_info.head(1)"
      ],
      "metadata": {
        "id": "O3CuFB25vYP4"
      },
      "execution_count": 13,
      "outputs": []
    },
    {
      "cell_type": "code",
      "source": [
        "# df = pd.merge(df, rides_info, on='car_id')\n",
        "# df = pd.merge(df, driver_info[['user_id', 'age', 'user_rides', 'user_rating']], on='user_id')\n",
        "# df = pd.merge(df, fix_info[['car_id', 'fix_date', 'work_type', 'work_duration']], on='car_id')"
      ],
      "metadata": {
        "id": "THb4sZxUeq5E"
      },
      "execution_count": 14,
      "outputs": []
    },
    {
      "cell_type": "code",
      "source": [
        "# df.head()"
      ],
      "metadata": {
        "id": "4vex34eOf2LO"
      },
      "execution_count": 15,
      "outputs": []
    },
    {
      "cell_type": "markdown",
      "metadata": {
        "id": "Q6Fa0zupbuhw"
      },
      "source": [
        "## Задание 2. Применение методов фильтрации признаков (4 балла)\n",
        "\n",
        "<center> <img src=\"https://ucarecdn.com/d1b4bc78-fd04-44fb-bdbf-0a63355b7384/\" width=700>"
      ]
    },
    {
      "cell_type": "markdown",
      "metadata": {
        "id": "c910L9jubuhx"
      },
      "source": [
        "1. Выберите и примените любые 3 (можно и больше) метода фильтрации, которые указаны выше или в ноутбуке по фильтрации из полезных ссылок.\n",
        "2. Проинтерпретируйте результаты и сделайте выводы.\n",
        "\n",
        "\n",
        "<h4> Критерии оценивания </h4>\n",
        "    \n",
        "- Применены методы фильтрации — 1 балл за каждый метод, максимум 3 балла.\n",
        "- Сделаны выводы на основе примененных методов —1 балл.\n",
        "</div>"
      ]
    },
    {
      "cell_type": "markdown",
      "source": [
        "### Советы по Feature Selection"
      ],
      "metadata": {
        "id": "9flWgKVxf9Q1"
      }
    },
    {
      "cell_type": "markdown",
      "metadata": {
        "id": "vYr9VNS5buhw"
      },
      "source": [
        "<div class=\"alert alert-info\">\n",
        "\n",
        "<h3><center>Зачем отбирать признаки</center></h3>\n",
        "    \n",
        "**Основные причины**:\n",
        "    \n",
        "- Главная причина: с увеличением количества признаков часто падает точность предсказания модели, а некоторые модели и вовсе перестают адекватно работать. Так происходит, если в данных большое количество мусорных фичей (почти не коррелирующих с таргетом).\n",
        "\n",
        "- Если фичей очень много, то данные перестают помещаться в память и существенно увеличивают время обучения модели, особенно если мы тестируем несколько алгоритмов или ансамбль. Также важно учитывать, что платформы имеют ограничения на длительность одной сессии (в Kaggle — 12 часов) и лимиты по потребляемой памяти.\n",
        "\n",
        "- Даже если точность не снижается, есть риск, что модель опирается на шумные фичи, что снизит стабильность прогноза на приватной выборке.\n"
      ]
    },
    {
      "cell_type": "markdown",
      "metadata": {
        "id": "P4JQwUS3buhw"
      },
      "source": [
        "<b>Что удалить сразу:</b>\n",
        "    \n",
        "- константы;\n",
        "- уникальные значения (в том числе в тесте; как правило, это ID-шники по типу `car_id`).\n",
        "    \n",
        "<b>Какие методы использовать:</b>\n",
        "    \n",
        "- `Линейная корреляция`.\n",
        "- `Phik` — тоже корреляция, но на стероидах ([туториал на Medium](https://towardsdatascience.com/phik-k-get-familiar-with-the-latest-correlation-coefficient-9ba0032b37e7)).\n",
        "- `Permutation importance` (из `scikit-learn`).\n",
        "- `SHAP values` (из библиотеки `shap`).\n",
        "- `CatBoost Feature Selection` (рекурсивные методы).\n",
        "    "
      ]
    },
    {
      "cell_type": "markdown",
      "source": [
        "## **Решение 2 задания**"
      ],
      "metadata": {
        "id": "nkxG68anhvXU"
      }
    },
    {
      "cell_type": "markdown",
      "source": [
        "<b>Что удалить сразу:</b>\n",
        "    \n",
        "- константы;\n",
        "- уникальные значения (в том числе в тесте; как правило, это ID-шники по типу `car_id`)."
      ],
      "metadata": {
        "id": "VkH4c9axhuGm"
      }
    },
    {
      "cell_type": "code",
      "execution_count": 134,
      "metadata": {
        "id": "UT2ndUSHbuhx"
      },
      "outputs": [],
      "source": [
        "cols_for_delete = [col for col in df.columns if df[col].nunique() == 1\n",
        "                   or df[col].nunique() == df.shape[0]\n",
        "                   or col in ['ride_id', 'car_id', 'user_id']]"
      ]
    },
    {
      "cell_type": "code",
      "source": [
        "cols_for_delete"
      ],
      "metadata": {
        "colab": {
          "base_uri": "https://localhost:8080/"
        },
        "id": "O_w_JQm2iUuB",
        "outputId": "50a1fbad-2999-469a-8400-2f45795732dc"
      },
      "execution_count": 135,
      "outputs": [
        {
          "output_type": "execute_result",
          "data": {
            "text/plain": [
              "['car_id',\n",
              " 'sum_distance',\n",
              " 'count_rides',\n",
              " 'user_ride_quality_max',\n",
              " 'ride_cost_mean']"
            ]
          },
          "metadata": {},
          "execution_count": 135
        }
      ]
    },
    {
      "cell_type": "code",
      "source": [
        "df = df.drop(columns=cols_for_delete)"
      ],
      "metadata": {
        "id": "9vuJpEf-ihMk"
      },
      "execution_count": 136,
      "outputs": []
    },
    {
      "cell_type": "code",
      "source": [
        "df.head()"
      ],
      "metadata": {
        "colab": {
          "base_uri": "https://localhost:8080/",
          "height": 206
        },
        "id": "2bjGencBinO3",
        "outputId": "e9ed8802-8b65-4f4b-8ee2-8057b37193e0"
      },
      "execution_count": 137,
      "outputs": [
        {
          "output_type": "execute_result",
          "data": {
            "text/plain": [
              "               model  car_type fuel_type  car_rating  year_to_start  riders  \\\n",
              "0     Kia Rio X-line   economy    petrol        3.78           2015   76163   \n",
              "1         VW Polo VI   economy    petrol        3.90           2015   78218   \n",
              "2    Renault Sandero  standart    petrol        6.30           2012   23340   \n",
              "3  Mercedes-Benz GLC  business    petrol        4.04           2011    1263   \n",
              "4    Renault Sandero  standart    petrol        4.70           2012   26428   \n",
              "\n",
              "   year_to_work  target_reg target_class  min_rating  mean_rating   speed_max  \\\n",
              "0          2021      108.53  another_bug         0.1     4.737759  180.855726   \n",
              "1          2021       35.20  electro_bug         0.0     4.480517  187.862734   \n",
              "2          2017       38.62   gear_stick         0.1     4.768391  102.382857   \n",
              "3          2020       30.34  engine_fuel         0.1     3.880920  172.793237   \n",
              "4          2017       30.45  engine_fuel         0.1     4.181149  203.462289   \n",
              "\n",
              "   speed_mean  \n",
              "0   44.660920  \n",
              "1   49.862069  \n",
              "2   44.005747  \n",
              "3   49.344828  \n",
              "4   50.603448  "
            ],
            "text/html": [
              "\n",
              "  <div id=\"df-ce76ad63-bf7c-4262-88ba-c2126a2cba2c\" class=\"colab-df-container\">\n",
              "    <div>\n",
              "<style scoped>\n",
              "    .dataframe tbody tr th:only-of-type {\n",
              "        vertical-align: middle;\n",
              "    }\n",
              "\n",
              "    .dataframe tbody tr th {\n",
              "        vertical-align: top;\n",
              "    }\n",
              "\n",
              "    .dataframe thead th {\n",
              "        text-align: right;\n",
              "    }\n",
              "</style>\n",
              "<table border=\"1\" class=\"dataframe\">\n",
              "  <thead>\n",
              "    <tr style=\"text-align: right;\">\n",
              "      <th></th>\n",
              "      <th>model</th>\n",
              "      <th>car_type</th>\n",
              "      <th>fuel_type</th>\n",
              "      <th>car_rating</th>\n",
              "      <th>year_to_start</th>\n",
              "      <th>riders</th>\n",
              "      <th>year_to_work</th>\n",
              "      <th>target_reg</th>\n",
              "      <th>target_class</th>\n",
              "      <th>min_rating</th>\n",
              "      <th>mean_rating</th>\n",
              "      <th>speed_max</th>\n",
              "      <th>speed_mean</th>\n",
              "    </tr>\n",
              "  </thead>\n",
              "  <tbody>\n",
              "    <tr>\n",
              "      <th>0</th>\n",
              "      <td>Kia Rio X-line</td>\n",
              "      <td>economy</td>\n",
              "      <td>petrol</td>\n",
              "      <td>3.78</td>\n",
              "      <td>2015</td>\n",
              "      <td>76163</td>\n",
              "      <td>2021</td>\n",
              "      <td>108.53</td>\n",
              "      <td>another_bug</td>\n",
              "      <td>0.1</td>\n",
              "      <td>4.737759</td>\n",
              "      <td>180.855726</td>\n",
              "      <td>44.660920</td>\n",
              "    </tr>\n",
              "    <tr>\n",
              "      <th>1</th>\n",
              "      <td>VW Polo VI</td>\n",
              "      <td>economy</td>\n",
              "      <td>petrol</td>\n",
              "      <td>3.90</td>\n",
              "      <td>2015</td>\n",
              "      <td>78218</td>\n",
              "      <td>2021</td>\n",
              "      <td>35.20</td>\n",
              "      <td>electro_bug</td>\n",
              "      <td>0.0</td>\n",
              "      <td>4.480517</td>\n",
              "      <td>187.862734</td>\n",
              "      <td>49.862069</td>\n",
              "    </tr>\n",
              "    <tr>\n",
              "      <th>2</th>\n",
              "      <td>Renault Sandero</td>\n",
              "      <td>standart</td>\n",
              "      <td>petrol</td>\n",
              "      <td>6.30</td>\n",
              "      <td>2012</td>\n",
              "      <td>23340</td>\n",
              "      <td>2017</td>\n",
              "      <td>38.62</td>\n",
              "      <td>gear_stick</td>\n",
              "      <td>0.1</td>\n",
              "      <td>4.768391</td>\n",
              "      <td>102.382857</td>\n",
              "      <td>44.005747</td>\n",
              "    </tr>\n",
              "    <tr>\n",
              "      <th>3</th>\n",
              "      <td>Mercedes-Benz GLC</td>\n",
              "      <td>business</td>\n",
              "      <td>petrol</td>\n",
              "      <td>4.04</td>\n",
              "      <td>2011</td>\n",
              "      <td>1263</td>\n",
              "      <td>2020</td>\n",
              "      <td>30.34</td>\n",
              "      <td>engine_fuel</td>\n",
              "      <td>0.1</td>\n",
              "      <td>3.880920</td>\n",
              "      <td>172.793237</td>\n",
              "      <td>49.344828</td>\n",
              "    </tr>\n",
              "    <tr>\n",
              "      <th>4</th>\n",
              "      <td>Renault Sandero</td>\n",
              "      <td>standart</td>\n",
              "      <td>petrol</td>\n",
              "      <td>4.70</td>\n",
              "      <td>2012</td>\n",
              "      <td>26428</td>\n",
              "      <td>2017</td>\n",
              "      <td>30.45</td>\n",
              "      <td>engine_fuel</td>\n",
              "      <td>0.1</td>\n",
              "      <td>4.181149</td>\n",
              "      <td>203.462289</td>\n",
              "      <td>50.603448</td>\n",
              "    </tr>\n",
              "  </tbody>\n",
              "</table>\n",
              "</div>\n",
              "    <div class=\"colab-df-buttons\">\n",
              "\n",
              "  <div class=\"colab-df-container\">\n",
              "    <button class=\"colab-df-convert\" onclick=\"convertToInteractive('df-ce76ad63-bf7c-4262-88ba-c2126a2cba2c')\"\n",
              "            title=\"Convert this dataframe to an interactive table.\"\n",
              "            style=\"display:none;\">\n",
              "\n",
              "  <svg xmlns=\"http://www.w3.org/2000/svg\" height=\"24px\" viewBox=\"0 -960 960 960\">\n",
              "    <path d=\"M120-120v-720h720v720H120Zm60-500h600v-160H180v160Zm220 220h160v-160H400v160Zm0 220h160v-160H400v160ZM180-400h160v-160H180v160Zm440 0h160v-160H620v160ZM180-180h160v-160H180v160Zm440 0h160v-160H620v160Z\"/>\n",
              "  </svg>\n",
              "    </button>\n",
              "\n",
              "  <style>\n",
              "    .colab-df-container {\n",
              "      display:flex;\n",
              "      gap: 12px;\n",
              "    }\n",
              "\n",
              "    .colab-df-convert {\n",
              "      background-color: #E8F0FE;\n",
              "      border: none;\n",
              "      border-radius: 50%;\n",
              "      cursor: pointer;\n",
              "      display: none;\n",
              "      fill: #1967D2;\n",
              "      height: 32px;\n",
              "      padding: 0 0 0 0;\n",
              "      width: 32px;\n",
              "    }\n",
              "\n",
              "    .colab-df-convert:hover {\n",
              "      background-color: #E2EBFA;\n",
              "      box-shadow: 0px 1px 2px rgba(60, 64, 67, 0.3), 0px 1px 3px 1px rgba(60, 64, 67, 0.15);\n",
              "      fill: #174EA6;\n",
              "    }\n",
              "\n",
              "    .colab-df-buttons div {\n",
              "      margin-bottom: 4px;\n",
              "    }\n",
              "\n",
              "    [theme=dark] .colab-df-convert {\n",
              "      background-color: #3B4455;\n",
              "      fill: #D2E3FC;\n",
              "    }\n",
              "\n",
              "    [theme=dark] .colab-df-convert:hover {\n",
              "      background-color: #434B5C;\n",
              "      box-shadow: 0px 1px 3px 1px rgba(0, 0, 0, 0.15);\n",
              "      filter: drop-shadow(0px 1px 2px rgba(0, 0, 0, 0.3));\n",
              "      fill: #FFFFFF;\n",
              "    }\n",
              "  </style>\n",
              "\n",
              "    <script>\n",
              "      const buttonEl =\n",
              "        document.querySelector('#df-ce76ad63-bf7c-4262-88ba-c2126a2cba2c button.colab-df-convert');\n",
              "      buttonEl.style.display =\n",
              "        google.colab.kernel.accessAllowed ? 'block' : 'none';\n",
              "\n",
              "      async function convertToInteractive(key) {\n",
              "        const element = document.querySelector('#df-ce76ad63-bf7c-4262-88ba-c2126a2cba2c');\n",
              "        const dataTable =\n",
              "          await google.colab.kernel.invokeFunction('convertToInteractive',\n",
              "                                                    [key], {});\n",
              "        if (!dataTable) return;\n",
              "\n",
              "        const docLinkHtml = 'Like what you see? Visit the ' +\n",
              "          '<a target=\"_blank\" href=https://colab.research.google.com/notebooks/data_table.ipynb>data table notebook</a>'\n",
              "          + ' to learn more about interactive tables.';\n",
              "        element.innerHTML = '';\n",
              "        dataTable['output_type'] = 'display_data';\n",
              "        await google.colab.output.renderOutput(dataTable, element);\n",
              "        const docLink = document.createElement('div');\n",
              "        docLink.innerHTML = docLinkHtml;\n",
              "        element.appendChild(docLink);\n",
              "      }\n",
              "    </script>\n",
              "  </div>\n",
              "\n",
              "\n",
              "<div id=\"df-0286c786-63ec-44dd-a24b-b81b32a2eccb\">\n",
              "  <button class=\"colab-df-quickchart\" onclick=\"quickchart('df-0286c786-63ec-44dd-a24b-b81b32a2eccb')\"\n",
              "            title=\"Suggest charts\"\n",
              "            style=\"display:none;\">\n",
              "\n",
              "<svg xmlns=\"http://www.w3.org/2000/svg\" height=\"24px\"viewBox=\"0 0 24 24\"\n",
              "     width=\"24px\">\n",
              "    <g>\n",
              "        <path d=\"M19 3H5c-1.1 0-2 .9-2 2v14c0 1.1.9 2 2 2h14c1.1 0 2-.9 2-2V5c0-1.1-.9-2-2-2zM9 17H7v-7h2v7zm4 0h-2V7h2v10zm4 0h-2v-4h2v4z\"/>\n",
              "    </g>\n",
              "</svg>\n",
              "  </button>\n",
              "\n",
              "<style>\n",
              "  .colab-df-quickchart {\n",
              "      --bg-color: #E8F0FE;\n",
              "      --fill-color: #1967D2;\n",
              "      --hover-bg-color: #E2EBFA;\n",
              "      --hover-fill-color: #174EA6;\n",
              "      --disabled-fill-color: #AAA;\n",
              "      --disabled-bg-color: #DDD;\n",
              "  }\n",
              "\n",
              "  [theme=dark] .colab-df-quickchart {\n",
              "      --bg-color: #3B4455;\n",
              "      --fill-color: #D2E3FC;\n",
              "      --hover-bg-color: #434B5C;\n",
              "      --hover-fill-color: #FFFFFF;\n",
              "      --disabled-bg-color: #3B4455;\n",
              "      --disabled-fill-color: #666;\n",
              "  }\n",
              "\n",
              "  .colab-df-quickchart {\n",
              "    background-color: var(--bg-color);\n",
              "    border: none;\n",
              "    border-radius: 50%;\n",
              "    cursor: pointer;\n",
              "    display: none;\n",
              "    fill: var(--fill-color);\n",
              "    height: 32px;\n",
              "    padding: 0;\n",
              "    width: 32px;\n",
              "  }\n",
              "\n",
              "  .colab-df-quickchart:hover {\n",
              "    background-color: var(--hover-bg-color);\n",
              "    box-shadow: 0 1px 2px rgba(60, 64, 67, 0.3), 0 1px 3px 1px rgba(60, 64, 67, 0.15);\n",
              "    fill: var(--button-hover-fill-color);\n",
              "  }\n",
              "\n",
              "  .colab-df-quickchart-complete:disabled,\n",
              "  .colab-df-quickchart-complete:disabled:hover {\n",
              "    background-color: var(--disabled-bg-color);\n",
              "    fill: var(--disabled-fill-color);\n",
              "    box-shadow: none;\n",
              "  }\n",
              "\n",
              "  .colab-df-spinner {\n",
              "    border: 2px solid var(--fill-color);\n",
              "    border-color: transparent;\n",
              "    border-bottom-color: var(--fill-color);\n",
              "    animation:\n",
              "      spin 1s steps(1) infinite;\n",
              "  }\n",
              "\n",
              "  @keyframes spin {\n",
              "    0% {\n",
              "      border-color: transparent;\n",
              "      border-bottom-color: var(--fill-color);\n",
              "      border-left-color: var(--fill-color);\n",
              "    }\n",
              "    20% {\n",
              "      border-color: transparent;\n",
              "      border-left-color: var(--fill-color);\n",
              "      border-top-color: var(--fill-color);\n",
              "    }\n",
              "    30% {\n",
              "      border-color: transparent;\n",
              "      border-left-color: var(--fill-color);\n",
              "      border-top-color: var(--fill-color);\n",
              "      border-right-color: var(--fill-color);\n",
              "    }\n",
              "    40% {\n",
              "      border-color: transparent;\n",
              "      border-right-color: var(--fill-color);\n",
              "      border-top-color: var(--fill-color);\n",
              "    }\n",
              "    60% {\n",
              "      border-color: transparent;\n",
              "      border-right-color: var(--fill-color);\n",
              "    }\n",
              "    80% {\n",
              "      border-color: transparent;\n",
              "      border-right-color: var(--fill-color);\n",
              "      border-bottom-color: var(--fill-color);\n",
              "    }\n",
              "    90% {\n",
              "      border-color: transparent;\n",
              "      border-bottom-color: var(--fill-color);\n",
              "    }\n",
              "  }\n",
              "</style>\n",
              "\n",
              "  <script>\n",
              "    async function quickchart(key) {\n",
              "      const quickchartButtonEl =\n",
              "        document.querySelector('#' + key + ' button');\n",
              "      quickchartButtonEl.disabled = true;  // To prevent multiple clicks.\n",
              "      quickchartButtonEl.classList.add('colab-df-spinner');\n",
              "      try {\n",
              "        const charts = await google.colab.kernel.invokeFunction(\n",
              "            'suggestCharts', [key], {});\n",
              "      } catch (error) {\n",
              "        console.error('Error during call to suggestCharts:', error);\n",
              "      }\n",
              "      quickchartButtonEl.classList.remove('colab-df-spinner');\n",
              "      quickchartButtonEl.classList.add('colab-df-quickchart-complete');\n",
              "    }\n",
              "    (() => {\n",
              "      let quickchartButtonEl =\n",
              "        document.querySelector('#df-0286c786-63ec-44dd-a24b-b81b32a2eccb button');\n",
              "      quickchartButtonEl.style.display =\n",
              "        google.colab.kernel.accessAllowed ? 'block' : 'none';\n",
              "    })();\n",
              "  </script>\n",
              "</div>\n",
              "    </div>\n",
              "  </div>\n"
            ],
            "application/vnd.google.colaboratory.intrinsic+json": {
              "type": "dataframe",
              "variable_name": "df",
              "summary": "{\n  \"name\": \"df\",\n  \"rows\": 2337,\n  \"fields\": [\n    {\n      \"column\": \"model\",\n      \"properties\": {\n        \"dtype\": \"category\",\n        \"num_unique_values\": 26,\n        \"samples\": [\n          \"Smart ForFour\",\n          \"Renault Kaptur\",\n          \"Kia Rio X-line\"\n        ],\n        \"semantic_type\": \"\",\n        \"description\": \"\"\n      }\n    },\n    {\n      \"column\": \"car_type\",\n      \"properties\": {\n        \"dtype\": \"category\",\n        \"num_unique_values\": 4,\n        \"samples\": [\n          \"standart\",\n          \"premium\",\n          \"economy\"\n        ],\n        \"semantic_type\": \"\",\n        \"description\": \"\"\n      }\n    },\n    {\n      \"column\": \"fuel_type\",\n      \"properties\": {\n        \"dtype\": \"category\",\n        \"num_unique_values\": 2,\n        \"samples\": [\n          \"electro\",\n          \"petrol\"\n        ],\n        \"semantic_type\": \"\",\n        \"description\": \"\"\n      }\n    },\n    {\n      \"column\": \"car_rating\",\n      \"properties\": {\n        \"dtype\": \"number\",\n        \"std\": 0.9969539766615568,\n        \"min\": 0.98,\n        \"max\": 8.9,\n        \"num_unique_values\": 269,\n        \"samples\": [\n          2.78,\n          2.1\n        ],\n        \"semantic_type\": \"\",\n        \"description\": \"\"\n      }\n    },\n    {\n      \"column\": \"year_to_start\",\n      \"properties\": {\n        \"dtype\": \"number\",\n        \"std\": 1,\n        \"min\": 2011,\n        \"max\": 2017,\n        \"num_unique_values\": 7,\n        \"samples\": [\n          2015,\n          2012\n        ],\n        \"semantic_type\": \"\",\n        \"description\": \"\"\n      }\n    },\n    {\n      \"column\": \"riders\",\n      \"properties\": {\n        \"dtype\": \"number\",\n        \"std\": 33755,\n        \"min\": 23,\n        \"max\": 142862,\n        \"num_unique_values\": 2306,\n        \"samples\": [\n          61719,\n          100108\n        ],\n        \"semantic_type\": \"\",\n        \"description\": \"\"\n      }\n    },\n    {\n      \"column\": \"year_to_work\",\n      \"properties\": {\n        \"dtype\": \"number\",\n        \"std\": 2,\n        \"min\": 2014,\n        \"max\": 2022,\n        \"num_unique_values\": 9,\n        \"samples\": [\n          2022,\n          2017\n        ],\n        \"semantic_type\": \"\",\n        \"description\": \"\"\n      }\n    },\n    {\n      \"column\": \"target_reg\",\n      \"properties\": {\n        \"dtype\": \"number\",\n        \"std\": 17.579568125863787,\n        \"min\": 18.92,\n        \"max\": 141.63,\n        \"num_unique_values\": 1891,\n        \"samples\": [\n          37.98,\n          58.11\n        ],\n        \"semantic_type\": \"\",\n        \"description\": \"\"\n      }\n    },\n    {\n      \"column\": \"target_class\",\n      \"properties\": {\n        \"dtype\": \"category\",\n        \"num_unique_values\": 9,\n        \"samples\": [\n          \"wheel_shake\",\n          \"electro_bug\"\n        ],\n        \"semantic_type\": \"\",\n        \"description\": \"\"\n      }\n    },\n    {\n      \"column\": \"min_rating\",\n      \"properties\": {\n        \"dtype\": \"number\",\n        \"std\": 0.16397828346003004,\n        \"min\": 0.0,\n        \"max\": 1.5,\n        \"num_unique_values\": 91,\n        \"samples\": [\n          0.67,\n          0.5\n        ],\n        \"semantic_type\": \"\",\n        \"description\": \"\"\n      }\n    },\n    {\n      \"column\": \"mean_rating\",\n      \"properties\": {\n        \"dtype\": \"number\",\n        \"std\": 0.4185875181615076,\n        \"min\": 3.529885057471265,\n        \"max\": 5.700747126436782,\n        \"num_unique_values\": 2223,\n        \"samples\": [\n          4.938505747126436,\n          4.750402298850575\n        ],\n        \"semantic_type\": \"\",\n        \"description\": \"\"\n      }\n    },\n    {\n      \"column\": \"speed_max\",\n      \"properties\": {\n        \"dtype\": \"number\",\n        \"std\": 33.211160987028705,\n        \"min\": 91.4235081222183,\n        \"max\": 209.98283950882248,\n        \"num_unique_values\": 1938,\n        \"samples\": [\n          109.38343955827206,\n          196.76859522747992\n        ],\n        \"semantic_type\": \"\",\n        \"description\": \"\"\n      }\n    },\n    {\n      \"column\": \"speed_mean\",\n      \"properties\": {\n        \"dtype\": \"number\",\n        \"std\": 2.761201815368068,\n        \"min\": 42.4367816091954,\n        \"max\": 53.132183908045974,\n        \"num_unique_values\": 1035,\n        \"samples\": [\n          51.14942528735632,\n          48.10344827586207\n        ],\n        \"semantic_type\": \"\",\n        \"description\": \"\"\n      }\n    }\n  ]\n}"
            }
          },
          "metadata": {},
          "execution_count": 137
        }
      ]
    },
    {
      "cell_type": "code",
      "source": [
        "df.shape"
      ],
      "metadata": {
        "colab": {
          "base_uri": "https://localhost:8080/"
        },
        "id": "_11VoM20i1_d",
        "outputId": "75e327bd-617f-4b87-d673-a02dc4908f34"
      },
      "execution_count": 138,
      "outputs": [
        {
          "output_type": "execute_result",
          "data": {
            "text/plain": [
              "(2337, 13)"
            ]
          },
          "metadata": {},
          "execution_count": 138
        }
      ]
    },
    {
      "cell_type": "code",
      "source": [
        "df.info()"
      ],
      "metadata": {
        "colab": {
          "base_uri": "https://localhost:8080/"
        },
        "id": "tfllsRgti-F1",
        "outputId": "bf888451-2d93-4530-e9fb-e390334475a0"
      },
      "execution_count": 139,
      "outputs": [
        {
          "output_type": "stream",
          "name": "stdout",
          "text": [
            "<class 'pandas.core.frame.DataFrame'>\n",
            "Int64Index: 2337 entries, 0 to 2336\n",
            "Data columns (total 13 columns):\n",
            " #   Column         Non-Null Count  Dtype  \n",
            "---  ------         --------------  -----  \n",
            " 0   model          2337 non-null   object \n",
            " 1   car_type       2337 non-null   object \n",
            " 2   fuel_type      2337 non-null   object \n",
            " 3   car_rating     2337 non-null   float64\n",
            " 4   year_to_start  2337 non-null   int64  \n",
            " 5   riders         2337 non-null   int64  \n",
            " 6   year_to_work   2337 non-null   int64  \n",
            " 7   target_reg     2337 non-null   float64\n",
            " 8   target_class   2337 non-null   object \n",
            " 9   min_rating     2337 non-null   float64\n",
            " 10  mean_rating    2337 non-null   float64\n",
            " 11  speed_max      2337 non-null   float64\n",
            " 12  speed_mean     2337 non-null   float64\n",
            "dtypes: float64(6), int64(3), object(4)\n",
            "memory usage: 255.6+ KB\n"
          ]
        }
      ]
    },
    {
      "cell_type": "markdown",
      "source": [
        "### Линейная корреляция"
      ],
      "metadata": {
        "id": "iHhFYItIjIZ1"
      }
    },
    {
      "cell_type": "code",
      "source": [
        "# df.corr()"
      ],
      "metadata": {
        "id": "8dIXIESyjNy2"
      },
      "execution_count": null,
      "outputs": []
    },
    {
      "cell_type": "markdown",
      "source": [
        "# **У меня переполняется оперативная память при применении функции `df.corr()` из-за большого количества данных, поэтому я перезапустил первые несколько ячеек без merge. Но само первое задание выполнил.**"
      ],
      "metadata": {
        "id": "JzA4wguCvuLp"
      }
    },
    {
      "cell_type": "code",
      "source": [
        "# df.shape"
      ],
      "metadata": {
        "id": "Krcqf3icv9iu"
      },
      "execution_count": null,
      "outputs": []
    },
    {
      "cell_type": "code",
      "source": [
        "# df.corr()"
      ],
      "metadata": {
        "id": "dcr8iD4c8MAH"
      },
      "execution_count": null,
      "outputs": []
    },
    {
      "cell_type": "code",
      "source": [
        "# plt.figure(figsize=(16, 10))\n",
        "# sns.heatmap(df.corr(), annot=True)\n",
        "# plt.show();"
      ],
      "metadata": {
        "id": "Ts5dEX_s8vRN"
      },
      "execution_count": null,
      "outputs": []
    },
    {
      "cell_type": "markdown",
      "source": [
        "### Phik"
      ],
      "metadata": {
        "id": "kFs97jp19YXn"
      }
    },
    {
      "cell_type": "code",
      "source": [
        "# !pip install phik"
      ],
      "metadata": {
        "id": "2pCjVVFt9Ycm"
      },
      "execution_count": null,
      "outputs": []
    },
    {
      "cell_type": "code",
      "source": [
        "# import phik\n",
        "# from phik import report"
      ],
      "metadata": {
        "id": "e5zxPfHxgZQt"
      },
      "execution_count": null,
      "outputs": []
    },
    {
      "cell_type": "code",
      "source": [
        "# phik_matrix = df.phik_matrix()"
      ],
      "metadata": {
        "id": "MXyKNTkMiwH8"
      },
      "execution_count": null,
      "outputs": []
    },
    {
      "cell_type": "code",
      "source": [
        "# print(phik_matrix)"
      ],
      "metadata": {
        "id": "V3JrTaCoi_Lm"
      },
      "execution_count": null,
      "outputs": []
    },
    {
      "cell_type": "code",
      "source": [
        "# plt.figure(figsize=(16, 10))\n",
        "# sns.heatmap(phik_matrix, annot=True)\n",
        "# plt.show();"
      ],
      "metadata": {
        "id": "m22DwPOxk3tU"
      },
      "execution_count": null,
      "outputs": []
    },
    {
      "cell_type": "markdown",
      "source": [
        "### Permutation importance"
      ],
      "metadata": {
        "id": "hOb74ovdq_6j"
      }
    },
    {
      "cell_type": "code",
      "source": [
        "# Нужна обученная модель, возьму для обучения решающее дерево\n",
        "# from sklearn.ensemble import RandomForestClassifier"
      ],
      "metadata": {
        "id": "JrY9411Sq_-m"
      },
      "execution_count": null,
      "outputs": []
    },
    {
      "cell_type": "code",
      "source": [
        "# df.head()"
      ],
      "metadata": {
        "id": "CLr7wg8wsUl0"
      },
      "execution_count": null,
      "outputs": []
    },
    {
      "cell_type": "code",
      "source": [
        "# df['model'].unique()"
      ],
      "metadata": {
        "id": "NxcuZFL5s4Ic"
      },
      "execution_count": null,
      "outputs": []
    },
    {
      "cell_type": "code",
      "source": [
        "# df['fuel_type'].unique()"
      ],
      "metadata": {
        "id": "eWzq59_1wH89"
      },
      "execution_count": null,
      "outputs": []
    },
    {
      "cell_type": "code",
      "source": [
        "# !pip install category_encoders"
      ],
      "metadata": {
        "id": "UZdFSZZ-urxe"
      },
      "execution_count": null,
      "outputs": []
    },
    {
      "cell_type": "code",
      "source": [
        "# from sklearn.preprocessing import OneHotEncoder\n",
        "# import category_encoders as ce\n",
        "\n",
        "# ohe = OneHotEncoder(sparse=False)\n",
        "# be = ce.BinaryEncoder()\n",
        "\n",
        "# categorical_cols = df.select_dtypes(include=['object']).columns"
      ],
      "metadata": {
        "id": "HdL7v4UcuiQF"
      },
      "execution_count": null,
      "outputs": []
    },
    {
      "cell_type": "code",
      "source": [
        "# categorical_cols"
      ],
      "metadata": {
        "id": "VZqSzu-_u-1s"
      },
      "execution_count": null,
      "outputs": []
    },
    {
      "cell_type": "code",
      "source": [
        "# for col in categorical_cols:\n",
        "#     if df[col].nunique() <= 2:\n",
        "#       print(col)"
      ],
      "metadata": {
        "id": "KPNgYEH6wyLp"
      },
      "execution_count": null,
      "outputs": []
    },
    {
      "cell_type": "code",
      "source": [
        "# categorical_cols"
      ],
      "metadata": {
        "id": "_IgRKrzYz5-j"
      },
      "execution_count": null,
      "outputs": []
    },
    {
      "cell_type": "markdown",
      "source": [
        "Для столбцов, где больше 2 уникальных значений применяю BinaryEncoding, а для тех, где меньше или равно, то One-Hot Encoding"
      ],
      "metadata": {
        "id": "yqAQLyNb1qMS"
      }
    },
    {
      "cell_type": "code",
      "source": [
        "# for col in categorical_cols:\n",
        "#     if df[col].nunique() <= 2:\n",
        "#         transformed = ohe.fit_transform(df[[col]])\n",
        "#         transformed_df = pd.DataFrame(transformed, columns=[col+'_'+str(i) for i in range(transformed.shape[1])])\n",
        "#         df = df.join(transformed_df)\n",
        "#         df = df.drop(col, axis=1)\n",
        "\n",
        "# categorical_cols = df.select_dtypes(include=['object']).columns\n",
        "\n",
        "# for col in categorical_cols:\n",
        "#     transformed = be.fit_transform(df[[col]])\n",
        "#     transformed_df = pd.DataFrame(transformed, columns=[col+'_'+str(i) for i in range(transformed.shape[1])])\n",
        "#     df = df.join(transformed_df)\n",
        "#     df = df.drop(col, axis=1)\n",
        "\n",
        "# df.head()"
      ],
      "metadata": {
        "id": "QzmAUa69vCbb"
      },
      "execution_count": null,
      "outputs": []
    },
    {
      "cell_type": "markdown",
      "source": [
        "#### К сожалению, у меня очень долго считался permutation_importance, поэтому я удалю несколько столбцов для ускорения и демонстрации того, что я всё же воспользовался permutation_importance"
      ],
      "metadata": {
        "id": "B5pcBNXv45wI"
      }
    },
    {
      "cell_type": "code",
      "source": [
        "# cols_for_delete = ['fuel_type_1',\n",
        "#                    'model_0',\n",
        "#                    'model_1',\n",
        "#                    'model_2',\n",
        "#                    'model_3',\n",
        "#                    'model_4',\n",
        "#                    'car_type_0',\n",
        "#                    'car_type_1',\n",
        "#                    'car_type_2',\n",
        "#                    'target_class_0',\n",
        "#                    'target_class_1',\n",
        "#                    'target_class_2',\n",
        "#                    'target_class_3'\n",
        "# ]"
      ],
      "metadata": {
        "id": "X9q4sOw345P1"
      },
      "execution_count": null,
      "outputs": []
    },
    {
      "cell_type": "code",
      "source": [
        "# df.drop(columns=cols_for_delete)"
      ],
      "metadata": {
        "id": "tEdfmfzZ5v-z"
      },
      "execution_count": null,
      "outputs": []
    },
    {
      "cell_type": "code",
      "source": [
        "# model = RandomForestClassifier().fit(df.drop('riders', axis=1), df['riders'])"
      ],
      "metadata": {
        "id": "IjMPsnYKsIfE"
      },
      "execution_count": null,
      "outputs": []
    },
    {
      "cell_type": "code",
      "source": [
        "# from sklearn.inspection import permutation_importance"
      ],
      "metadata": {
        "id": "ifFdZ9fe2CnV"
      },
      "execution_count": null,
      "outputs": []
    },
    {
      "cell_type": "code",
      "source": [
        "# res = permutation_importance(model, df.drop('riders', axis=1), df['riders'], n_repeats=10)"
      ],
      "metadata": {
        "id": "qM_7Psdu2QGI"
      },
      "execution_count": null,
      "outputs": []
    },
    {
      "cell_type": "code",
      "source": [
        "# res_sorted_idx = res.importances_mean.argsort()"
      ],
      "metadata": {
        "id": "pO120km03PqP"
      },
      "execution_count": null,
      "outputs": []
    },
    {
      "cell_type": "code",
      "source": [
        "# res_sorted_idx_flip = np.flip(res_sorted_idx)"
      ],
      "metadata": {
        "id": "Ox8IQvEH9pqU"
      },
      "execution_count": null,
      "outputs": []
    },
    {
      "cell_type": "markdown",
      "source": [
        "#### Визуализация"
      ],
      "metadata": {
        "id": "cEhAOU3D3qmV"
      }
    },
    {
      "cell_type": "code",
      "source": [
        "# fig, ax = plt.subplots(figsize=(16, 10))\n",
        "# sns.barplot(x=res.importances_mean[res_sorted_idx_flip], y=np.array(df.drop('riders', axis=1).columns)[res_sorted_idx_flip], orient='h', ax=ax)\n",
        "# ax.set_title('Permutation Importance')\n",
        "# plt.show();"
      ],
      "metadata": {
        "id": "3R9DUvc83qKn"
      },
      "execution_count": null,
      "outputs": []
    },
    {
      "cell_type": "markdown",
      "metadata": {
        "id": "iSjuXdlcbuhx"
      },
      "source": [
        "# Домашнее задание 2. Прогноз времени и вида поломки машин. Настройка ML-модели"
      ]
    },
    {
      "cell_type": "markdown",
      "metadata": {
        "id": "2qoVlxvUbuhx"
      },
      "source": [
        "<div class=\"alert alert-info\">\n",
        "\n",
        "**Цель блока** — составить тренировочную и валидационную выборки, произвести обучение модели `CatBoostClassifier` на тренировочной части и оценить качество на валидационной."
      ]
    },
    {
      "cell_type": "markdown",
      "metadata": {
        "id": "OfqcanLLbuhx"
      },
      "source": [
        "##Обучение первой модели (5 баллов)"
      ]
    },
    {
      "cell_type": "markdown",
      "metadata": {
        "id": "ZXhXYJt6buhx"
      },
      "source": [
        "1. Классифицируйте признаки на типы (категориальные, числовые, таргеты).\n",
        "\n",
        "2. Выделите в `X` только признаки, а в `Y` — таргет (для задачи классификации).\n",
        "\n",
        "3. Сделайте разделение данных на *обучающую* и *валидационную* выборки (не забывайте про воспроизводимость результатов).\n",
        "\n",
        "4. Создайте и обучите `CatBoostClassifier` модель (настраивать гиперпараметры сейчас не обязательно).\n",
        "\n",
        "5. Проведите оценку вашей модели, используя метрику `accuracy`.\n",
        "\n",
        "\n",
        "<h4> Критерии оценивания </h4>\n",
        "    \n",
        "- По 1 баллу за каждый корректно выполненный пункт.\n",
        "\n",
        "</div>"
      ]
    },
    {
      "cell_type": "markdown",
      "source": [
        "### **Уважаемый Иван, здравствуйте.**\n",
        "\n",
        "#### У меня проблемы с большим объемом данных, поэтому я снова, как и в первом ДЗ буду работать с ограниченным датасетом без merge большого количества столбцов."
      ],
      "metadata": {
        "id": "U7U-atS91K04"
      }
    },
    {
      "cell_type": "code",
      "source": [
        "!pip install catboost"
      ],
      "metadata": {
        "colab": {
          "base_uri": "https://localhost:8080/"
        },
        "id": "QCHNyLM8yqzb",
        "outputId": "f1d79500-5e18-48fb-ecaf-63a1d6b23d33"
      },
      "execution_count": 22,
      "outputs": [
        {
          "output_type": "stream",
          "name": "stdout",
          "text": [
            "Collecting catboost\n",
            "  Downloading catboost-1.2.3-cp310-cp310-manylinux2014_x86_64.whl (98.5 MB)\n",
            "\u001b[2K     \u001b[90m━━━━━━━━━━━━━━━━━━━━━━━━━━━━━━━━━━━━━━━━\u001b[0m \u001b[32m98.5/98.5 MB\u001b[0m \u001b[31m9.1 MB/s\u001b[0m eta \u001b[36m0:00:00\u001b[0m\n",
            "\u001b[?25hRequirement already satisfied: graphviz in /usr/local/lib/python3.10/dist-packages (from catboost) (0.20.3)\n",
            "Requirement already satisfied: matplotlib in /usr/local/lib/python3.10/dist-packages (from catboost) (3.7.1)\n",
            "Requirement already satisfied: numpy>=1.16.0 in /usr/local/lib/python3.10/dist-packages (from catboost) (1.25.2)\n",
            "Requirement already satisfied: pandas>=0.24 in /usr/local/lib/python3.10/dist-packages (from catboost) (1.5.3)\n",
            "Requirement already satisfied: scipy in /usr/local/lib/python3.10/dist-packages (from catboost) (1.11.4)\n",
            "Requirement already satisfied: plotly in /usr/local/lib/python3.10/dist-packages (from catboost) (5.15.0)\n",
            "Requirement already satisfied: six in /usr/local/lib/python3.10/dist-packages (from catboost) (1.16.0)\n",
            "Requirement already satisfied: python-dateutil>=2.8.1 in /usr/local/lib/python3.10/dist-packages (from pandas>=0.24->catboost) (2.8.2)\n",
            "Requirement already satisfied: pytz>=2020.1 in /usr/local/lib/python3.10/dist-packages (from pandas>=0.24->catboost) (2023.4)\n",
            "Requirement already satisfied: contourpy>=1.0.1 in /usr/local/lib/python3.10/dist-packages (from matplotlib->catboost) (1.2.0)\n",
            "Requirement already satisfied: cycler>=0.10 in /usr/local/lib/python3.10/dist-packages (from matplotlib->catboost) (0.12.1)\n",
            "Requirement already satisfied: fonttools>=4.22.0 in /usr/local/lib/python3.10/dist-packages (from matplotlib->catboost) (4.50.0)\n",
            "Requirement already satisfied: kiwisolver>=1.0.1 in /usr/local/lib/python3.10/dist-packages (from matplotlib->catboost) (1.4.5)\n",
            "Requirement already satisfied: packaging>=20.0 in /usr/local/lib/python3.10/dist-packages (from matplotlib->catboost) (24.0)\n",
            "Requirement already satisfied: pillow>=6.2.0 in /usr/local/lib/python3.10/dist-packages (from matplotlib->catboost) (9.4.0)\n",
            "Requirement already satisfied: pyparsing>=2.3.1 in /usr/local/lib/python3.10/dist-packages (from matplotlib->catboost) (3.1.2)\n",
            "Requirement already satisfied: tenacity>=6.2.0 in /usr/local/lib/python3.10/dist-packages (from plotly->catboost) (8.2.3)\n",
            "Installing collected packages: catboost\n",
            "Successfully installed catboost-1.2.3\n"
          ]
        }
      ]
    },
    {
      "cell_type": "code",
      "execution_count": 23,
      "metadata": {
        "id": "klrOFoVpbuhx"
      },
      "outputs": [],
      "source": [
        "from catboost import CatBoostClassifier\n",
        "from sklearn.model_selection import train_test_split\n",
        "from sklearn.metrics import accuracy_score"
      ]
    },
    {
      "cell_type": "code",
      "source": [
        "df.head()"
      ],
      "metadata": {
        "colab": {
          "base_uri": "https://localhost:8080/",
          "height": 206
        },
        "id": "OJIL8WzDzmZx",
        "outputId": "2df91765-cdca-4e48-e39b-8ce65ea73276"
      },
      "execution_count": 140,
      "outputs": [
        {
          "output_type": "execute_result",
          "data": {
            "text/plain": [
              "               model  car_type fuel_type  car_rating  year_to_start  riders  \\\n",
              "0     Kia Rio X-line   economy    petrol        3.78           2015   76163   \n",
              "1         VW Polo VI   economy    petrol        3.90           2015   78218   \n",
              "2    Renault Sandero  standart    petrol        6.30           2012   23340   \n",
              "3  Mercedes-Benz GLC  business    petrol        4.04           2011    1263   \n",
              "4    Renault Sandero  standart    petrol        4.70           2012   26428   \n",
              "\n",
              "   year_to_work  target_reg target_class  min_rating  mean_rating   speed_max  \\\n",
              "0          2021      108.53  another_bug         0.1     4.737759  180.855726   \n",
              "1          2021       35.20  electro_bug         0.0     4.480517  187.862734   \n",
              "2          2017       38.62   gear_stick         0.1     4.768391  102.382857   \n",
              "3          2020       30.34  engine_fuel         0.1     3.880920  172.793237   \n",
              "4          2017       30.45  engine_fuel         0.1     4.181149  203.462289   \n",
              "\n",
              "   speed_mean  \n",
              "0   44.660920  \n",
              "1   49.862069  \n",
              "2   44.005747  \n",
              "3   49.344828  \n",
              "4   50.603448  "
            ],
            "text/html": [
              "\n",
              "  <div id=\"df-83a9b2e9-133a-4530-88bc-15cfe42daa4e\" class=\"colab-df-container\">\n",
              "    <div>\n",
              "<style scoped>\n",
              "    .dataframe tbody tr th:only-of-type {\n",
              "        vertical-align: middle;\n",
              "    }\n",
              "\n",
              "    .dataframe tbody tr th {\n",
              "        vertical-align: top;\n",
              "    }\n",
              "\n",
              "    .dataframe thead th {\n",
              "        text-align: right;\n",
              "    }\n",
              "</style>\n",
              "<table border=\"1\" class=\"dataframe\">\n",
              "  <thead>\n",
              "    <tr style=\"text-align: right;\">\n",
              "      <th></th>\n",
              "      <th>model</th>\n",
              "      <th>car_type</th>\n",
              "      <th>fuel_type</th>\n",
              "      <th>car_rating</th>\n",
              "      <th>year_to_start</th>\n",
              "      <th>riders</th>\n",
              "      <th>year_to_work</th>\n",
              "      <th>target_reg</th>\n",
              "      <th>target_class</th>\n",
              "      <th>min_rating</th>\n",
              "      <th>mean_rating</th>\n",
              "      <th>speed_max</th>\n",
              "      <th>speed_mean</th>\n",
              "    </tr>\n",
              "  </thead>\n",
              "  <tbody>\n",
              "    <tr>\n",
              "      <th>0</th>\n",
              "      <td>Kia Rio X-line</td>\n",
              "      <td>economy</td>\n",
              "      <td>petrol</td>\n",
              "      <td>3.78</td>\n",
              "      <td>2015</td>\n",
              "      <td>76163</td>\n",
              "      <td>2021</td>\n",
              "      <td>108.53</td>\n",
              "      <td>another_bug</td>\n",
              "      <td>0.1</td>\n",
              "      <td>4.737759</td>\n",
              "      <td>180.855726</td>\n",
              "      <td>44.660920</td>\n",
              "    </tr>\n",
              "    <tr>\n",
              "      <th>1</th>\n",
              "      <td>VW Polo VI</td>\n",
              "      <td>economy</td>\n",
              "      <td>petrol</td>\n",
              "      <td>3.90</td>\n",
              "      <td>2015</td>\n",
              "      <td>78218</td>\n",
              "      <td>2021</td>\n",
              "      <td>35.20</td>\n",
              "      <td>electro_bug</td>\n",
              "      <td>0.0</td>\n",
              "      <td>4.480517</td>\n",
              "      <td>187.862734</td>\n",
              "      <td>49.862069</td>\n",
              "    </tr>\n",
              "    <tr>\n",
              "      <th>2</th>\n",
              "      <td>Renault Sandero</td>\n",
              "      <td>standart</td>\n",
              "      <td>petrol</td>\n",
              "      <td>6.30</td>\n",
              "      <td>2012</td>\n",
              "      <td>23340</td>\n",
              "      <td>2017</td>\n",
              "      <td>38.62</td>\n",
              "      <td>gear_stick</td>\n",
              "      <td>0.1</td>\n",
              "      <td>4.768391</td>\n",
              "      <td>102.382857</td>\n",
              "      <td>44.005747</td>\n",
              "    </tr>\n",
              "    <tr>\n",
              "      <th>3</th>\n",
              "      <td>Mercedes-Benz GLC</td>\n",
              "      <td>business</td>\n",
              "      <td>petrol</td>\n",
              "      <td>4.04</td>\n",
              "      <td>2011</td>\n",
              "      <td>1263</td>\n",
              "      <td>2020</td>\n",
              "      <td>30.34</td>\n",
              "      <td>engine_fuel</td>\n",
              "      <td>0.1</td>\n",
              "      <td>3.880920</td>\n",
              "      <td>172.793237</td>\n",
              "      <td>49.344828</td>\n",
              "    </tr>\n",
              "    <tr>\n",
              "      <th>4</th>\n",
              "      <td>Renault Sandero</td>\n",
              "      <td>standart</td>\n",
              "      <td>petrol</td>\n",
              "      <td>4.70</td>\n",
              "      <td>2012</td>\n",
              "      <td>26428</td>\n",
              "      <td>2017</td>\n",
              "      <td>30.45</td>\n",
              "      <td>engine_fuel</td>\n",
              "      <td>0.1</td>\n",
              "      <td>4.181149</td>\n",
              "      <td>203.462289</td>\n",
              "      <td>50.603448</td>\n",
              "    </tr>\n",
              "  </tbody>\n",
              "</table>\n",
              "</div>\n",
              "    <div class=\"colab-df-buttons\">\n",
              "\n",
              "  <div class=\"colab-df-container\">\n",
              "    <button class=\"colab-df-convert\" onclick=\"convertToInteractive('df-83a9b2e9-133a-4530-88bc-15cfe42daa4e')\"\n",
              "            title=\"Convert this dataframe to an interactive table.\"\n",
              "            style=\"display:none;\">\n",
              "\n",
              "  <svg xmlns=\"http://www.w3.org/2000/svg\" height=\"24px\" viewBox=\"0 -960 960 960\">\n",
              "    <path d=\"M120-120v-720h720v720H120Zm60-500h600v-160H180v160Zm220 220h160v-160H400v160Zm0 220h160v-160H400v160ZM180-400h160v-160H180v160Zm440 0h160v-160H620v160ZM180-180h160v-160H180v160Zm440 0h160v-160H620v160Z\"/>\n",
              "  </svg>\n",
              "    </button>\n",
              "\n",
              "  <style>\n",
              "    .colab-df-container {\n",
              "      display:flex;\n",
              "      gap: 12px;\n",
              "    }\n",
              "\n",
              "    .colab-df-convert {\n",
              "      background-color: #E8F0FE;\n",
              "      border: none;\n",
              "      border-radius: 50%;\n",
              "      cursor: pointer;\n",
              "      display: none;\n",
              "      fill: #1967D2;\n",
              "      height: 32px;\n",
              "      padding: 0 0 0 0;\n",
              "      width: 32px;\n",
              "    }\n",
              "\n",
              "    .colab-df-convert:hover {\n",
              "      background-color: #E2EBFA;\n",
              "      box-shadow: 0px 1px 2px rgba(60, 64, 67, 0.3), 0px 1px 3px 1px rgba(60, 64, 67, 0.15);\n",
              "      fill: #174EA6;\n",
              "    }\n",
              "\n",
              "    .colab-df-buttons div {\n",
              "      margin-bottom: 4px;\n",
              "    }\n",
              "\n",
              "    [theme=dark] .colab-df-convert {\n",
              "      background-color: #3B4455;\n",
              "      fill: #D2E3FC;\n",
              "    }\n",
              "\n",
              "    [theme=dark] .colab-df-convert:hover {\n",
              "      background-color: #434B5C;\n",
              "      box-shadow: 0px 1px 3px 1px rgba(0, 0, 0, 0.15);\n",
              "      filter: drop-shadow(0px 1px 2px rgba(0, 0, 0, 0.3));\n",
              "      fill: #FFFFFF;\n",
              "    }\n",
              "  </style>\n",
              "\n",
              "    <script>\n",
              "      const buttonEl =\n",
              "        document.querySelector('#df-83a9b2e9-133a-4530-88bc-15cfe42daa4e button.colab-df-convert');\n",
              "      buttonEl.style.display =\n",
              "        google.colab.kernel.accessAllowed ? 'block' : 'none';\n",
              "\n",
              "      async function convertToInteractive(key) {\n",
              "        const element = document.querySelector('#df-83a9b2e9-133a-4530-88bc-15cfe42daa4e');\n",
              "        const dataTable =\n",
              "          await google.colab.kernel.invokeFunction('convertToInteractive',\n",
              "                                                    [key], {});\n",
              "        if (!dataTable) return;\n",
              "\n",
              "        const docLinkHtml = 'Like what you see? Visit the ' +\n",
              "          '<a target=\"_blank\" href=https://colab.research.google.com/notebooks/data_table.ipynb>data table notebook</a>'\n",
              "          + ' to learn more about interactive tables.';\n",
              "        element.innerHTML = '';\n",
              "        dataTable['output_type'] = 'display_data';\n",
              "        await google.colab.output.renderOutput(dataTable, element);\n",
              "        const docLink = document.createElement('div');\n",
              "        docLink.innerHTML = docLinkHtml;\n",
              "        element.appendChild(docLink);\n",
              "      }\n",
              "    </script>\n",
              "  </div>\n",
              "\n",
              "\n",
              "<div id=\"df-fc02ff66-26af-41ba-b1be-9a951a9f0946\">\n",
              "  <button class=\"colab-df-quickchart\" onclick=\"quickchart('df-fc02ff66-26af-41ba-b1be-9a951a9f0946')\"\n",
              "            title=\"Suggest charts\"\n",
              "            style=\"display:none;\">\n",
              "\n",
              "<svg xmlns=\"http://www.w3.org/2000/svg\" height=\"24px\"viewBox=\"0 0 24 24\"\n",
              "     width=\"24px\">\n",
              "    <g>\n",
              "        <path d=\"M19 3H5c-1.1 0-2 .9-2 2v14c0 1.1.9 2 2 2h14c1.1 0 2-.9 2-2V5c0-1.1-.9-2-2-2zM9 17H7v-7h2v7zm4 0h-2V7h2v10zm4 0h-2v-4h2v4z\"/>\n",
              "    </g>\n",
              "</svg>\n",
              "  </button>\n",
              "\n",
              "<style>\n",
              "  .colab-df-quickchart {\n",
              "      --bg-color: #E8F0FE;\n",
              "      --fill-color: #1967D2;\n",
              "      --hover-bg-color: #E2EBFA;\n",
              "      --hover-fill-color: #174EA6;\n",
              "      --disabled-fill-color: #AAA;\n",
              "      --disabled-bg-color: #DDD;\n",
              "  }\n",
              "\n",
              "  [theme=dark] .colab-df-quickchart {\n",
              "      --bg-color: #3B4455;\n",
              "      --fill-color: #D2E3FC;\n",
              "      --hover-bg-color: #434B5C;\n",
              "      --hover-fill-color: #FFFFFF;\n",
              "      --disabled-bg-color: #3B4455;\n",
              "      --disabled-fill-color: #666;\n",
              "  }\n",
              "\n",
              "  .colab-df-quickchart {\n",
              "    background-color: var(--bg-color);\n",
              "    border: none;\n",
              "    border-radius: 50%;\n",
              "    cursor: pointer;\n",
              "    display: none;\n",
              "    fill: var(--fill-color);\n",
              "    height: 32px;\n",
              "    padding: 0;\n",
              "    width: 32px;\n",
              "  }\n",
              "\n",
              "  .colab-df-quickchart:hover {\n",
              "    background-color: var(--hover-bg-color);\n",
              "    box-shadow: 0 1px 2px rgba(60, 64, 67, 0.3), 0 1px 3px 1px rgba(60, 64, 67, 0.15);\n",
              "    fill: var(--button-hover-fill-color);\n",
              "  }\n",
              "\n",
              "  .colab-df-quickchart-complete:disabled,\n",
              "  .colab-df-quickchart-complete:disabled:hover {\n",
              "    background-color: var(--disabled-bg-color);\n",
              "    fill: var(--disabled-fill-color);\n",
              "    box-shadow: none;\n",
              "  }\n",
              "\n",
              "  .colab-df-spinner {\n",
              "    border: 2px solid var(--fill-color);\n",
              "    border-color: transparent;\n",
              "    border-bottom-color: var(--fill-color);\n",
              "    animation:\n",
              "      spin 1s steps(1) infinite;\n",
              "  }\n",
              "\n",
              "  @keyframes spin {\n",
              "    0% {\n",
              "      border-color: transparent;\n",
              "      border-bottom-color: var(--fill-color);\n",
              "      border-left-color: var(--fill-color);\n",
              "    }\n",
              "    20% {\n",
              "      border-color: transparent;\n",
              "      border-left-color: var(--fill-color);\n",
              "      border-top-color: var(--fill-color);\n",
              "    }\n",
              "    30% {\n",
              "      border-color: transparent;\n",
              "      border-left-color: var(--fill-color);\n",
              "      border-top-color: var(--fill-color);\n",
              "      border-right-color: var(--fill-color);\n",
              "    }\n",
              "    40% {\n",
              "      border-color: transparent;\n",
              "      border-right-color: var(--fill-color);\n",
              "      border-top-color: var(--fill-color);\n",
              "    }\n",
              "    60% {\n",
              "      border-color: transparent;\n",
              "      border-right-color: var(--fill-color);\n",
              "    }\n",
              "    80% {\n",
              "      border-color: transparent;\n",
              "      border-right-color: var(--fill-color);\n",
              "      border-bottom-color: var(--fill-color);\n",
              "    }\n",
              "    90% {\n",
              "      border-color: transparent;\n",
              "      border-bottom-color: var(--fill-color);\n",
              "    }\n",
              "  }\n",
              "</style>\n",
              "\n",
              "  <script>\n",
              "    async function quickchart(key) {\n",
              "      const quickchartButtonEl =\n",
              "        document.querySelector('#' + key + ' button');\n",
              "      quickchartButtonEl.disabled = true;  // To prevent multiple clicks.\n",
              "      quickchartButtonEl.classList.add('colab-df-spinner');\n",
              "      try {\n",
              "        const charts = await google.colab.kernel.invokeFunction(\n",
              "            'suggestCharts', [key], {});\n",
              "      } catch (error) {\n",
              "        console.error('Error during call to suggestCharts:', error);\n",
              "      }\n",
              "      quickchartButtonEl.classList.remove('colab-df-spinner');\n",
              "      quickchartButtonEl.classList.add('colab-df-quickchart-complete');\n",
              "    }\n",
              "    (() => {\n",
              "      let quickchartButtonEl =\n",
              "        document.querySelector('#df-fc02ff66-26af-41ba-b1be-9a951a9f0946 button');\n",
              "      quickchartButtonEl.style.display =\n",
              "        google.colab.kernel.accessAllowed ? 'block' : 'none';\n",
              "    })();\n",
              "  </script>\n",
              "</div>\n",
              "    </div>\n",
              "  </div>\n"
            ],
            "application/vnd.google.colaboratory.intrinsic+json": {
              "type": "dataframe",
              "variable_name": "df",
              "summary": "{\n  \"name\": \"df\",\n  \"rows\": 2337,\n  \"fields\": [\n    {\n      \"column\": \"model\",\n      \"properties\": {\n        \"dtype\": \"category\",\n        \"num_unique_values\": 26,\n        \"samples\": [\n          \"Smart ForFour\",\n          \"Renault Kaptur\",\n          \"Kia Rio X-line\"\n        ],\n        \"semantic_type\": \"\",\n        \"description\": \"\"\n      }\n    },\n    {\n      \"column\": \"car_type\",\n      \"properties\": {\n        \"dtype\": \"category\",\n        \"num_unique_values\": 4,\n        \"samples\": [\n          \"standart\",\n          \"premium\",\n          \"economy\"\n        ],\n        \"semantic_type\": \"\",\n        \"description\": \"\"\n      }\n    },\n    {\n      \"column\": \"fuel_type\",\n      \"properties\": {\n        \"dtype\": \"category\",\n        \"num_unique_values\": 2,\n        \"samples\": [\n          \"electro\",\n          \"petrol\"\n        ],\n        \"semantic_type\": \"\",\n        \"description\": \"\"\n      }\n    },\n    {\n      \"column\": \"car_rating\",\n      \"properties\": {\n        \"dtype\": \"number\",\n        \"std\": 0.9969539766615568,\n        \"min\": 0.98,\n        \"max\": 8.9,\n        \"num_unique_values\": 269,\n        \"samples\": [\n          2.78,\n          2.1\n        ],\n        \"semantic_type\": \"\",\n        \"description\": \"\"\n      }\n    },\n    {\n      \"column\": \"year_to_start\",\n      \"properties\": {\n        \"dtype\": \"number\",\n        \"std\": 1,\n        \"min\": 2011,\n        \"max\": 2017,\n        \"num_unique_values\": 7,\n        \"samples\": [\n          2015,\n          2012\n        ],\n        \"semantic_type\": \"\",\n        \"description\": \"\"\n      }\n    },\n    {\n      \"column\": \"riders\",\n      \"properties\": {\n        \"dtype\": \"number\",\n        \"std\": 33755,\n        \"min\": 23,\n        \"max\": 142862,\n        \"num_unique_values\": 2306,\n        \"samples\": [\n          61719,\n          100108\n        ],\n        \"semantic_type\": \"\",\n        \"description\": \"\"\n      }\n    },\n    {\n      \"column\": \"year_to_work\",\n      \"properties\": {\n        \"dtype\": \"number\",\n        \"std\": 2,\n        \"min\": 2014,\n        \"max\": 2022,\n        \"num_unique_values\": 9,\n        \"samples\": [\n          2022,\n          2017\n        ],\n        \"semantic_type\": \"\",\n        \"description\": \"\"\n      }\n    },\n    {\n      \"column\": \"target_reg\",\n      \"properties\": {\n        \"dtype\": \"number\",\n        \"std\": 17.579568125863787,\n        \"min\": 18.92,\n        \"max\": 141.63,\n        \"num_unique_values\": 1891,\n        \"samples\": [\n          37.98,\n          58.11\n        ],\n        \"semantic_type\": \"\",\n        \"description\": \"\"\n      }\n    },\n    {\n      \"column\": \"target_class\",\n      \"properties\": {\n        \"dtype\": \"category\",\n        \"num_unique_values\": 9,\n        \"samples\": [\n          \"wheel_shake\",\n          \"electro_bug\"\n        ],\n        \"semantic_type\": \"\",\n        \"description\": \"\"\n      }\n    },\n    {\n      \"column\": \"min_rating\",\n      \"properties\": {\n        \"dtype\": \"number\",\n        \"std\": 0.16397828346003004,\n        \"min\": 0.0,\n        \"max\": 1.5,\n        \"num_unique_values\": 91,\n        \"samples\": [\n          0.67,\n          0.5\n        ],\n        \"semantic_type\": \"\",\n        \"description\": \"\"\n      }\n    },\n    {\n      \"column\": \"mean_rating\",\n      \"properties\": {\n        \"dtype\": \"number\",\n        \"std\": 0.4185875181615076,\n        \"min\": 3.529885057471265,\n        \"max\": 5.700747126436782,\n        \"num_unique_values\": 2223,\n        \"samples\": [\n          4.938505747126436,\n          4.750402298850575\n        ],\n        \"semantic_type\": \"\",\n        \"description\": \"\"\n      }\n    },\n    {\n      \"column\": \"speed_max\",\n      \"properties\": {\n        \"dtype\": \"number\",\n        \"std\": 33.211160987028705,\n        \"min\": 91.4235081222183,\n        \"max\": 209.98283950882248,\n        \"num_unique_values\": 1938,\n        \"samples\": [\n          109.38343955827206,\n          196.76859522747992\n        ],\n        \"semantic_type\": \"\",\n        \"description\": \"\"\n      }\n    },\n    {\n      \"column\": \"speed_mean\",\n      \"properties\": {\n        \"dtype\": \"number\",\n        \"std\": 2.761201815368068,\n        \"min\": 42.4367816091954,\n        \"max\": 53.132183908045974,\n        \"num_unique_values\": 1035,\n        \"samples\": [\n          51.14942528735632,\n          48.10344827586207\n        ],\n        \"semantic_type\": \"\",\n        \"description\": \"\"\n      }\n    }\n  ]\n}"
            }
          },
          "metadata": {},
          "execution_count": 140
        }
      ]
    },
    {
      "cell_type": "code",
      "source": [
        "df.info()"
      ],
      "metadata": {
        "colab": {
          "base_uri": "https://localhost:8080/"
        },
        "id": "5O0X6Ld30H7A",
        "outputId": "8e0261b8-c9af-4a21-e9d3-765a2168aefa"
      },
      "execution_count": 141,
      "outputs": [
        {
          "output_type": "stream",
          "name": "stdout",
          "text": [
            "<class 'pandas.core.frame.DataFrame'>\n",
            "Int64Index: 2337 entries, 0 to 2336\n",
            "Data columns (total 13 columns):\n",
            " #   Column         Non-Null Count  Dtype  \n",
            "---  ------         --------------  -----  \n",
            " 0   model          2337 non-null   object \n",
            " 1   car_type       2337 non-null   object \n",
            " 2   fuel_type      2337 non-null   object \n",
            " 3   car_rating     2337 non-null   float64\n",
            " 4   year_to_start  2337 non-null   int64  \n",
            " 5   riders         2337 non-null   int64  \n",
            " 6   year_to_work   2337 non-null   int64  \n",
            " 7   target_reg     2337 non-null   float64\n",
            " 8   target_class   2337 non-null   object \n",
            " 9   min_rating     2337 non-null   float64\n",
            " 10  mean_rating    2337 non-null   float64\n",
            " 11  speed_max      2337 non-null   float64\n",
            " 12  speed_mean     2337 non-null   float64\n",
            "dtypes: float64(6), int64(3), object(4)\n",
            "memory usage: 255.6+ KB\n"
          ]
        }
      ]
    },
    {
      "cell_type": "code",
      "source": [
        "categorical_cols = list(df.select_dtypes(include=['object']).columns)\n",
        "categorical_cols.remove('target_class')\n",
        "categorical_cols"
      ],
      "metadata": {
        "colab": {
          "base_uri": "https://localhost:8080/"
        },
        "id": "DNLKlUhEz03a",
        "outputId": "f7ec1e51-2aa3-4c68-81f4-f263857e5c92"
      },
      "execution_count": 142,
      "outputs": [
        {
          "output_type": "execute_result",
          "data": {
            "text/plain": [
              "['model', 'car_type', 'fuel_type']"
            ]
          },
          "metadata": {},
          "execution_count": 142
        }
      ]
    },
    {
      "cell_type": "code",
      "source": [
        "numerical_cols = list(df.select_dtypes(exclude=['object']).columns)\n",
        "numerical_cols"
      ],
      "metadata": {
        "colab": {
          "base_uri": "https://localhost:8080/"
        },
        "id": "12dQYXJf0Nbh",
        "outputId": "ced70385-701c-43c0-f635-f1869372e4aa"
      },
      "execution_count": 143,
      "outputs": [
        {
          "output_type": "execute_result",
          "data": {
            "text/plain": [
              "['car_rating',\n",
              " 'year_to_start',\n",
              " 'riders',\n",
              " 'year_to_work',\n",
              " 'target_reg',\n",
              " 'min_rating',\n",
              " 'mean_rating',\n",
              " 'speed_max',\n",
              " 'speed_mean']"
            ]
          },
          "metadata": {},
          "execution_count": 143
        }
      ]
    },
    {
      "cell_type": "code",
      "execution_count": 144,
      "metadata": {
        "id": "lqwlTU2gbuhz",
        "colab": {
          "base_uri": "https://localhost:8080/"
        },
        "outputId": "aacb5e63-3050-42bf-ffc3-2d4721f1cb8c"
      },
      "outputs": [
        {
          "output_type": "stream",
          "name": "stdout",
          "text": [
            "Категориальные признаки: 3 ['model', 'car_type', 'fuel_type']\n",
            "Числовые признаки: 9 ['car_rating', 'year_to_start', 'riders', 'year_to_work', 'target_reg', 'min_rating', 'mean_rating', 'speed_max', 'speed_mean']\n",
            "Целевые переменные ['target_class']\n"
          ]
        }
      ],
      "source": [
        "features2drop = [...] # то, что надо выбросить\n",
        "targets = ['target_class'] # таргеты\n",
        "cat_features = categorical_cols # категориальные признаки\n",
        "\n",
        "num_features = numerical_cols # числовые признаки\n",
        "\n",
        "print('Категориальные признаки:', len(cat_features), cat_features)\n",
        "print('Числовые признаки:', len(num_features), num_features)\n",
        "print('Целевые переменные', targets)"
      ]
    },
    {
      "cell_type": "markdown",
      "source": [
        "#### Ссылка для рассмотрения функционала `CatBoostClassifier`\n",
        "\n",
        "[https://catboost.ai/en/docs/concepts/python-reference_catboostclassifier](https://catboost.ai/en/docs/concepts/python-reference_catboostclassifier)"
      ],
      "metadata": {
        "id": "Jd_F2sdm2Dx1"
      }
    },
    {
      "cell_type": "code",
      "execution_count": 145,
      "metadata": {
        "id": "tGK5sgaQbuhz",
        "colab": {
          "base_uri": "https://localhost:8080/",
          "height": 225,
          "referenced_widgets": [
            "22fd04fc9ffc4cb5b36ef011e2ff0035"
          ]
        },
        "outputId": "b051848f-8b0c-43c8-911b-92516fddf4c8"
      },
      "outputs": [
        {
          "output_type": "display_data",
          "data": {
            "text/plain": [
              "MetricVisualizer(layout=Layout(align_self='stretch', height='500px'))"
            ],
            "application/vnd.jupyter.widget-view+json": {
              "version_major": 2,
              "version_minor": 0,
              "model_id": "22fd04fc9ffc4cb5b36ef011e2ff0035"
            }
          },
          "metadata": {}
        },
        {
          "output_type": "stream",
          "name": "stdout",
          "text": [
            "Learning rate set to 0.071862\n",
            "0:\tlearn: 1.9169541\ttest: 1.9088581\tbest: 1.9088581 (0)\ttotal: 11.7ms\tremaining: 35s\n",
            "100:\tlearn: 0.2762319\ttest: 0.3197549\tbest: 0.3197549 (100)\ttotal: 1.05s\tremaining: 30.1s\n",
            "200:\tlearn: 0.2034405\ttest: 0.2933275\tbest: 0.2933275 (200)\ttotal: 2.15s\tremaining: 29.9s\n",
            "300:\tlearn: 0.1628751\ttest: 0.2941727\tbest: 0.2930016 (221)\ttotal: 3.95s\tremaining: 35.4s\n",
            "Stopped by overfitting detector  (100 iterations wait)\n",
            "\n",
            "bestTest = 0.2930015707\n",
            "bestIteration = 221\n",
            "\n",
            "Shrink model to first 222 iterations.\n"
          ]
        },
        {
          "output_type": "execute_result",
          "data": {
            "text/plain": [
              "<catboost.core.CatBoostClassifier at 0x7ac29c389030>"
            ]
          },
          "metadata": {},
          "execution_count": 145
        }
      ],
      "source": [
        "X = df[num_features]\n",
        "y = df[targets]\n",
        "\n",
        "X_train, X_test, y_train, y_test = train_test_split(X, y, test_size=0.2, random_state=4)\n",
        "\n",
        "model = CatBoostClassifier(iterations=3000, verbose=100, early_stopping_rounds=100)\n",
        "model.fit(X_train, y_train, plot=True, eval_set=(X_test, y_test))"
      ]
    },
    {
      "cell_type": "code",
      "source": [
        "predictions = model.predict(X_test)\n",
        "accuracy_score = sklearn.metrics.accuracy_score(y_test, predictions)\n",
        "round(accuracy_score, 3)"
      ],
      "metadata": {
        "colab": {
          "base_uri": "https://localhost:8080/"
        },
        "id": "yNC-rNbm3Z2I",
        "outputId": "33d9ab16-a677-4779-cbab-d09f5a548eef"
      },
      "execution_count": 146,
      "outputs": [
        {
          "output_type": "execute_result",
          "data": {
            "text/plain": [
              "0.9"
            ]
          },
          "metadata": {},
          "execution_count": 146
        }
      ]
    },
    {
      "cell_type": "markdown",
      "source": [
        "#### **Вывод:**\n",
        "\n",
        "Метрика Accuracy порядка 90%, на мой взгляд, это довольно много, но возможно можно и лучше 😀"
      ],
      "metadata": {
        "id": "2vBJMb9-5Q0x"
      }
    },
    {
      "cell_type": "markdown",
      "metadata": {
        "id": "pWAOjGCIbuhz"
      },
      "source": [
        "# Дополнительное задание. Визуализация прогнозов, ошибок модели и важности признаков"
      ]
    },
    {
      "cell_type": "markdown",
      "metadata": {
        "id": "oCvZU_ksbuhz"
      },
      "source": [
        "<div class=\"alert alert-info\">\n",
        "\n",
        "**Цель блока** — визуализировать результаты прогнозирования, ошибки модели и важность признаков для лучшего понимания и анализа модели."
      ]
    },
    {
      "cell_type": "markdown",
      "metadata": {
        "id": "onsptUygbuhz"
      },
      "source": [
        "## Визуализация (5 баллов)"
      ]
    },
    {
      "cell_type": "markdown",
      "metadata": {
        "id": "t3gAT3YHbuhz"
      },
      "source": [
        "   \n",
        "1. Визуализируйте важность признаков встроенным методом в `CatBoost`  (помните, что не стоит сильно доверять этому рейтингу важности, т. к. для сильно скоррелированных признаков важность делится пополам — оба признака могут улететь вниз).\n",
        "\n",
        "2. Постройте `waterfall_plot` из библиотеки `SHAP` (подробнее во втором ноутбуке из полезных ссылок ниже).\n",
        "    \n",
        "3. Постройте `classification_report` из библиотеки `scikit-learn`.\n",
        "\n",
        "4. Постройте и визуализируйте матрицу смежности (`confusion_matrix`), посмотрите, в каких классах модель больше всего ошибается.\n",
        "    \n",
        "5. Для каждого графика/примененного метода проинтерпретируйте результаты и сделайте выводы.\n",
        "\n",
        "\n",
        "<h4> Критерии оценивания </h4>\n",
        "    \n",
        "- По 1 баллу за каждый корректно выполненный пункт.\n",
        "    \n",
        "</div>\n",
        "\n",
        "<div class=\"alert alert-success\">\n",
        "\n",
        "Визуализация может помочь даже после того, как мы **уже обучили** какую-нибудь модель. Например:\n",
        "\n",
        "- Понять, что мешает модели или чего не хватает, чтобы не допускать ошибки.\n",
        "- Сделать выводы, как можно улучшить точность в последующих экспериментах.\n",
        "- Визуализировать ошибки модели.\n",
        "- Отсеять лишние признаки.\n",
        "- Найти идеи для новых признаков.\n",
        "- Все зависит от типа ваших данных.\n",
        "\n",
        "<h3> Полезные источники </h3>\n",
        "    \n",
        "- Занятие про визуализацию и Seaborn.\n",
        "- Занятие про продвинутую визуализацию и анализ ошибок модели.\n",
        "\n",
        "</div>    "
      ]
    },
    {
      "cell_type": "markdown",
      "source": [
        "#### **Встроенный метод в CatBoost:**"
      ],
      "metadata": {
        "id": "ec4NoqB97IzH"
      }
    },
    {
      "cell_type": "code",
      "source": [
        "feature_importances = model.get_feature_importance(prettified=True)\n",
        "feature_importances"
      ],
      "metadata": {
        "colab": {
          "base_uri": "https://localhost:8080/",
          "height": 332
        },
        "id": "QZemlpdx7npu",
        "outputId": "9c846d17-f532-4c2e-c3de-e565b6baecf5"
      },
      "execution_count": 147,
      "outputs": [
        {
          "output_type": "execute_result",
          "data": {
            "text/plain": [
              "      Feature Id  Importances\n",
              "0      speed_max    21.855770\n",
              "1    mean_rating    21.572492\n",
              "2     speed_mean    19.815566\n",
              "3     target_reg    18.843667\n",
              "4     min_rating    12.781436\n",
              "5     car_rating     1.784598\n",
              "6         riders     1.443606\n",
              "7   year_to_work     1.296165\n",
              "8  year_to_start     0.606700"
            ],
            "text/html": [
              "\n",
              "  <div id=\"df-7f0c0aac-f43f-42b3-95d8-d2122a928c97\" class=\"colab-df-container\">\n",
              "    <div>\n",
              "<style scoped>\n",
              "    .dataframe tbody tr th:only-of-type {\n",
              "        vertical-align: middle;\n",
              "    }\n",
              "\n",
              "    .dataframe tbody tr th {\n",
              "        vertical-align: top;\n",
              "    }\n",
              "\n",
              "    .dataframe thead th {\n",
              "        text-align: right;\n",
              "    }\n",
              "</style>\n",
              "<table border=\"1\" class=\"dataframe\">\n",
              "  <thead>\n",
              "    <tr style=\"text-align: right;\">\n",
              "      <th></th>\n",
              "      <th>Feature Id</th>\n",
              "      <th>Importances</th>\n",
              "    </tr>\n",
              "  </thead>\n",
              "  <tbody>\n",
              "    <tr>\n",
              "      <th>0</th>\n",
              "      <td>speed_max</td>\n",
              "      <td>21.855770</td>\n",
              "    </tr>\n",
              "    <tr>\n",
              "      <th>1</th>\n",
              "      <td>mean_rating</td>\n",
              "      <td>21.572492</td>\n",
              "    </tr>\n",
              "    <tr>\n",
              "      <th>2</th>\n",
              "      <td>speed_mean</td>\n",
              "      <td>19.815566</td>\n",
              "    </tr>\n",
              "    <tr>\n",
              "      <th>3</th>\n",
              "      <td>target_reg</td>\n",
              "      <td>18.843667</td>\n",
              "    </tr>\n",
              "    <tr>\n",
              "      <th>4</th>\n",
              "      <td>min_rating</td>\n",
              "      <td>12.781436</td>\n",
              "    </tr>\n",
              "    <tr>\n",
              "      <th>5</th>\n",
              "      <td>car_rating</td>\n",
              "      <td>1.784598</td>\n",
              "    </tr>\n",
              "    <tr>\n",
              "      <th>6</th>\n",
              "      <td>riders</td>\n",
              "      <td>1.443606</td>\n",
              "    </tr>\n",
              "    <tr>\n",
              "      <th>7</th>\n",
              "      <td>year_to_work</td>\n",
              "      <td>1.296165</td>\n",
              "    </tr>\n",
              "    <tr>\n",
              "      <th>8</th>\n",
              "      <td>year_to_start</td>\n",
              "      <td>0.606700</td>\n",
              "    </tr>\n",
              "  </tbody>\n",
              "</table>\n",
              "</div>\n",
              "    <div class=\"colab-df-buttons\">\n",
              "\n",
              "  <div class=\"colab-df-container\">\n",
              "    <button class=\"colab-df-convert\" onclick=\"convertToInteractive('df-7f0c0aac-f43f-42b3-95d8-d2122a928c97')\"\n",
              "            title=\"Convert this dataframe to an interactive table.\"\n",
              "            style=\"display:none;\">\n",
              "\n",
              "  <svg xmlns=\"http://www.w3.org/2000/svg\" height=\"24px\" viewBox=\"0 -960 960 960\">\n",
              "    <path d=\"M120-120v-720h720v720H120Zm60-500h600v-160H180v160Zm220 220h160v-160H400v160Zm0 220h160v-160H400v160ZM180-400h160v-160H180v160Zm440 0h160v-160H620v160ZM180-180h160v-160H180v160Zm440 0h160v-160H620v160Z\"/>\n",
              "  </svg>\n",
              "    </button>\n",
              "\n",
              "  <style>\n",
              "    .colab-df-container {\n",
              "      display:flex;\n",
              "      gap: 12px;\n",
              "    }\n",
              "\n",
              "    .colab-df-convert {\n",
              "      background-color: #E8F0FE;\n",
              "      border: none;\n",
              "      border-radius: 50%;\n",
              "      cursor: pointer;\n",
              "      display: none;\n",
              "      fill: #1967D2;\n",
              "      height: 32px;\n",
              "      padding: 0 0 0 0;\n",
              "      width: 32px;\n",
              "    }\n",
              "\n",
              "    .colab-df-convert:hover {\n",
              "      background-color: #E2EBFA;\n",
              "      box-shadow: 0px 1px 2px rgba(60, 64, 67, 0.3), 0px 1px 3px 1px rgba(60, 64, 67, 0.15);\n",
              "      fill: #174EA6;\n",
              "    }\n",
              "\n",
              "    .colab-df-buttons div {\n",
              "      margin-bottom: 4px;\n",
              "    }\n",
              "\n",
              "    [theme=dark] .colab-df-convert {\n",
              "      background-color: #3B4455;\n",
              "      fill: #D2E3FC;\n",
              "    }\n",
              "\n",
              "    [theme=dark] .colab-df-convert:hover {\n",
              "      background-color: #434B5C;\n",
              "      box-shadow: 0px 1px 3px 1px rgba(0, 0, 0, 0.15);\n",
              "      filter: drop-shadow(0px 1px 2px rgba(0, 0, 0, 0.3));\n",
              "      fill: #FFFFFF;\n",
              "    }\n",
              "  </style>\n",
              "\n",
              "    <script>\n",
              "      const buttonEl =\n",
              "        document.querySelector('#df-7f0c0aac-f43f-42b3-95d8-d2122a928c97 button.colab-df-convert');\n",
              "      buttonEl.style.display =\n",
              "        google.colab.kernel.accessAllowed ? 'block' : 'none';\n",
              "\n",
              "      async function convertToInteractive(key) {\n",
              "        const element = document.querySelector('#df-7f0c0aac-f43f-42b3-95d8-d2122a928c97');\n",
              "        const dataTable =\n",
              "          await google.colab.kernel.invokeFunction('convertToInteractive',\n",
              "                                                    [key], {});\n",
              "        if (!dataTable) return;\n",
              "\n",
              "        const docLinkHtml = 'Like what you see? Visit the ' +\n",
              "          '<a target=\"_blank\" href=https://colab.research.google.com/notebooks/data_table.ipynb>data table notebook</a>'\n",
              "          + ' to learn more about interactive tables.';\n",
              "        element.innerHTML = '';\n",
              "        dataTable['output_type'] = 'display_data';\n",
              "        await google.colab.output.renderOutput(dataTable, element);\n",
              "        const docLink = document.createElement('div');\n",
              "        docLink.innerHTML = docLinkHtml;\n",
              "        element.appendChild(docLink);\n",
              "      }\n",
              "    </script>\n",
              "  </div>\n",
              "\n",
              "\n",
              "<div id=\"df-4069ccc2-6ac0-4a77-8757-a7833620d948\">\n",
              "  <button class=\"colab-df-quickchart\" onclick=\"quickchart('df-4069ccc2-6ac0-4a77-8757-a7833620d948')\"\n",
              "            title=\"Suggest charts\"\n",
              "            style=\"display:none;\">\n",
              "\n",
              "<svg xmlns=\"http://www.w3.org/2000/svg\" height=\"24px\"viewBox=\"0 0 24 24\"\n",
              "     width=\"24px\">\n",
              "    <g>\n",
              "        <path d=\"M19 3H5c-1.1 0-2 .9-2 2v14c0 1.1.9 2 2 2h14c1.1 0 2-.9 2-2V5c0-1.1-.9-2-2-2zM9 17H7v-7h2v7zm4 0h-2V7h2v10zm4 0h-2v-4h2v4z\"/>\n",
              "    </g>\n",
              "</svg>\n",
              "  </button>\n",
              "\n",
              "<style>\n",
              "  .colab-df-quickchart {\n",
              "      --bg-color: #E8F0FE;\n",
              "      --fill-color: #1967D2;\n",
              "      --hover-bg-color: #E2EBFA;\n",
              "      --hover-fill-color: #174EA6;\n",
              "      --disabled-fill-color: #AAA;\n",
              "      --disabled-bg-color: #DDD;\n",
              "  }\n",
              "\n",
              "  [theme=dark] .colab-df-quickchart {\n",
              "      --bg-color: #3B4455;\n",
              "      --fill-color: #D2E3FC;\n",
              "      --hover-bg-color: #434B5C;\n",
              "      --hover-fill-color: #FFFFFF;\n",
              "      --disabled-bg-color: #3B4455;\n",
              "      --disabled-fill-color: #666;\n",
              "  }\n",
              "\n",
              "  .colab-df-quickchart {\n",
              "    background-color: var(--bg-color);\n",
              "    border: none;\n",
              "    border-radius: 50%;\n",
              "    cursor: pointer;\n",
              "    display: none;\n",
              "    fill: var(--fill-color);\n",
              "    height: 32px;\n",
              "    padding: 0;\n",
              "    width: 32px;\n",
              "  }\n",
              "\n",
              "  .colab-df-quickchart:hover {\n",
              "    background-color: var(--hover-bg-color);\n",
              "    box-shadow: 0 1px 2px rgba(60, 64, 67, 0.3), 0 1px 3px 1px rgba(60, 64, 67, 0.15);\n",
              "    fill: var(--button-hover-fill-color);\n",
              "  }\n",
              "\n",
              "  .colab-df-quickchart-complete:disabled,\n",
              "  .colab-df-quickchart-complete:disabled:hover {\n",
              "    background-color: var(--disabled-bg-color);\n",
              "    fill: var(--disabled-fill-color);\n",
              "    box-shadow: none;\n",
              "  }\n",
              "\n",
              "  .colab-df-spinner {\n",
              "    border: 2px solid var(--fill-color);\n",
              "    border-color: transparent;\n",
              "    border-bottom-color: var(--fill-color);\n",
              "    animation:\n",
              "      spin 1s steps(1) infinite;\n",
              "  }\n",
              "\n",
              "  @keyframes spin {\n",
              "    0% {\n",
              "      border-color: transparent;\n",
              "      border-bottom-color: var(--fill-color);\n",
              "      border-left-color: var(--fill-color);\n",
              "    }\n",
              "    20% {\n",
              "      border-color: transparent;\n",
              "      border-left-color: var(--fill-color);\n",
              "      border-top-color: var(--fill-color);\n",
              "    }\n",
              "    30% {\n",
              "      border-color: transparent;\n",
              "      border-left-color: var(--fill-color);\n",
              "      border-top-color: var(--fill-color);\n",
              "      border-right-color: var(--fill-color);\n",
              "    }\n",
              "    40% {\n",
              "      border-color: transparent;\n",
              "      border-right-color: var(--fill-color);\n",
              "      border-top-color: var(--fill-color);\n",
              "    }\n",
              "    60% {\n",
              "      border-color: transparent;\n",
              "      border-right-color: var(--fill-color);\n",
              "    }\n",
              "    80% {\n",
              "      border-color: transparent;\n",
              "      border-right-color: var(--fill-color);\n",
              "      border-bottom-color: var(--fill-color);\n",
              "    }\n",
              "    90% {\n",
              "      border-color: transparent;\n",
              "      border-bottom-color: var(--fill-color);\n",
              "    }\n",
              "  }\n",
              "</style>\n",
              "\n",
              "  <script>\n",
              "    async function quickchart(key) {\n",
              "      const quickchartButtonEl =\n",
              "        document.querySelector('#' + key + ' button');\n",
              "      quickchartButtonEl.disabled = true;  // To prevent multiple clicks.\n",
              "      quickchartButtonEl.classList.add('colab-df-spinner');\n",
              "      try {\n",
              "        const charts = await google.colab.kernel.invokeFunction(\n",
              "            'suggestCharts', [key], {});\n",
              "      } catch (error) {\n",
              "        console.error('Error during call to suggestCharts:', error);\n",
              "      }\n",
              "      quickchartButtonEl.classList.remove('colab-df-spinner');\n",
              "      quickchartButtonEl.classList.add('colab-df-quickchart-complete');\n",
              "    }\n",
              "    (() => {\n",
              "      let quickchartButtonEl =\n",
              "        document.querySelector('#df-4069ccc2-6ac0-4a77-8757-a7833620d948 button');\n",
              "      quickchartButtonEl.style.display =\n",
              "        google.colab.kernel.accessAllowed ? 'block' : 'none';\n",
              "    })();\n",
              "  </script>\n",
              "</div>\n",
              "    </div>\n",
              "  </div>\n"
            ],
            "application/vnd.google.colaboratory.intrinsic+json": {
              "type": "dataframe",
              "variable_name": "feature_importances",
              "summary": "{\n  \"name\": \"feature_importances\",\n  \"rows\": 9,\n  \"fields\": [\n    {\n      \"column\": \"Feature Id\",\n      \"properties\": {\n        \"dtype\": \"string\",\n        \"num_unique_values\": 9,\n        \"samples\": [\n          \"year_to_work\",\n          \"mean_rating\",\n          \"car_rating\"\n        ],\n        \"semantic_type\": \"\",\n        \"description\": \"\"\n      }\n    },\n    {\n      \"column\": \"Importances\",\n      \"properties\": {\n        \"dtype\": \"number\",\n        \"std\": 9.684771992070916,\n        \"min\": 0.606700457395559,\n        \"max\": 21.85577027293923,\n        \"num_unique_values\": 9,\n        \"samples\": [\n          1.2961645940386946,\n          21.572492200653638,\n          1.7845978274144112\n        ],\n        \"semantic_type\": \"\",\n        \"description\": \"\"\n      }\n    }\n  ]\n}"
            }
          },
          "metadata": {},
          "execution_count": 147
        }
      ]
    },
    {
      "cell_type": "code",
      "execution_count": 148,
      "metadata": {
        "id": "EYvkiOcrbuh0",
        "colab": {
          "base_uri": "https://localhost:8080/",
          "height": 522
        },
        "outputId": "222dc04c-6fa9-4f4a-a9ff-b6bd11992b7f"
      },
      "outputs": [
        {
          "output_type": "display_data",
          "data": {
            "text/plain": [
              "<Figure size 1000x600 with 1 Axes>"
            ],
            "image/png": "[encoded data removed]"
          },
          "metadata": {}
        }
      ],
      "source": [
        "# Получение важности признаков\n",
        "feature_importances = model.get_feature_importance()\n",
        "sorted_indices = np.argsort(feature_importances)\n",
        "\n",
        "# Визуализация важности признаков\n",
        "plt.figure(figsize=(10, 6))\n",
        "plt.barh(range(len(feature_importances)), feature_importances[sorted_indices])\n",
        "plt.yticks(range(len(feature_importances)), X_train.columns[sorted_indices])\n",
        "plt.show()"
      ]
    },
    {
      "cell_type": "markdown",
      "source": [
        "#### **Waterfall Plot:**"
      ],
      "metadata": {
        "id": "AZ6yEQ1e8woB"
      }
    },
    {
      "cell_type": "code",
      "source": [
        "!pip install shap"
      ],
      "metadata": {
        "colab": {
          "base_uri": "https://localhost:8080/"
        },
        "id": "q0GVRe688sB5",
        "outputId": "f34f9a9e-fee1-4919-f62d-4c7de942f3ae"
      },
      "execution_count": 33,
      "outputs": [
        {
          "output_type": "stream",
          "name": "stdout",
          "text": [
            "Collecting shap\n",
            "  Downloading shap-0.45.0-cp310-cp310-manylinux_2_12_x86_64.manylinux2010_x86_64.manylinux_2_17_x86_64.manylinux2014_x86_64.whl (538 kB)\n",
            "\u001b[2K     \u001b[90m━━━━━━━━━━━━━━━━━━━━━━━━━━━━━━━━━━━━━━━━\u001b[0m \u001b[32m538.2/538.2 kB\u001b[0m \u001b[31m8.1 MB/s\u001b[0m eta \u001b[36m0:00:00\u001b[0m\n",
            "\u001b[?25hRequirement already satisfied: numpy in /usr/local/lib/python3.10/dist-packages (from shap) (1.25.2)\n",
            "Requirement already satisfied: scipy in /usr/local/lib/python3.10/dist-packages (from shap) (1.11.4)\n",
            "Requirement already satisfied: scikit-learn in /usr/local/lib/python3.10/dist-packages (from shap) (1.2.2)\n",
            "Requirement already satisfied: pandas in /usr/local/lib/python3.10/dist-packages (from shap) (1.5.3)\n",
            "Requirement already satisfied: tqdm>=4.27.0 in /usr/local/lib/python3.10/dist-packages (from shap) (4.66.2)\n",
            "Requirement already satisfied: packaging>20.9 in /usr/local/lib/python3.10/dist-packages (from shap) (24.0)\n",
            "Collecting slicer==0.0.7 (from shap)\n",
            "  Downloading slicer-0.0.7-py3-none-any.whl (14 kB)\n",
            "Requirement already satisfied: numba in /usr/local/lib/python3.10/dist-packages (from shap) (0.58.1)\n",
            "Requirement already satisfied: cloudpickle in /usr/local/lib/python3.10/dist-packages (from shap) (2.2.1)\n",
            "Requirement already satisfied: llvmlite<0.42,>=0.41.0dev0 in /usr/local/lib/python3.10/dist-packages (from numba->shap) (0.41.1)\n",
            "Requirement already satisfied: python-dateutil>=2.8.1 in /usr/local/lib/python3.10/dist-packages (from pandas->shap) (2.8.2)\n",
            "Requirement already satisfied: pytz>=2020.1 in /usr/local/lib/python3.10/dist-packages (from pandas->shap) (2023.4)\n",
            "Requirement already satisfied: joblib>=1.1.1 in /usr/local/lib/python3.10/dist-packages (from scikit-learn->shap) (1.3.2)\n",
            "Requirement already satisfied: threadpoolctl>=2.0.0 in /usr/local/lib/python3.10/dist-packages (from scikit-learn->shap) (3.4.0)\n",
            "Requirement already satisfied: six>=1.5 in /usr/local/lib/python3.10/dist-packages (from python-dateutil>=2.8.1->pandas->shap) (1.16.0)\n",
            "Installing collected packages: slicer, shap\n",
            "Successfully installed shap-0.45.0 slicer-0.0.7\n"
          ]
        }
      ]
    },
    {
      "cell_type": "code",
      "source": [
        "import shap\n",
        "\n",
        "explainer = shap.Explainer(model=model)\n",
        "shap_values = explainer(X_test)\n",
        "\n",
        "shap.plots.waterfall(shap_values[0,:,1])"
      ],
      "metadata": {
        "colab": {
          "base_uri": "https://localhost:8080/",
          "height": 579
        },
        "id": "0WAjRA7BCp5a",
        "outputId": "a10e8fc3-13f8-47eb-fda9-eeb480106189"
      },
      "execution_count": 149,
      "outputs": [
        {
          "output_type": "display_data",
          "data": {
            "text/plain": [
              "<Figure size 800x600 with 3 Axes>"
            ],
            "image/png": "[encoded data removed]"
          },
          "metadata": {}
        }
      ]
    },
    {
      "cell_type": "markdown",
      "source": [
        "#### **Classification Report**"
      ],
      "metadata": {
        "id": "BdtowXDuE_zi"
      }
    },
    {
      "cell_type": "code",
      "source": [
        "from sklearn.metrics import classification_report\n",
        "report = classification_report(y_test, predictions)\n",
        "print(report)"
      ],
      "metadata": {
        "colab": {
          "base_uri": "https://localhost:8080/"
        },
        "id": "KdCuQsahFAFh",
        "outputId": "5d679cc9-0f15-4613-c722-71114937e06d"
      },
      "execution_count": 150,
      "outputs": [
        {
          "output_type": "stream",
          "name": "stdout",
          "text": [
            "                 precision    recall  f1-score   support\n",
            "\n",
            "    another_bug       0.90      0.97      0.93        58\n",
            "      break_bug       1.00      1.00      1.00        60\n",
            "    electro_bug       1.00      1.00      1.00        47\n",
            "   engine_check       0.90      0.88      0.89        42\n",
            "    engine_fuel       0.85      0.77      0.81        52\n",
            "engine_ignition       0.84      0.78      0.81        59\n",
            "engine_overheat       0.71      0.81      0.76        52\n",
            "     gear_stick       0.98      0.95      0.97        62\n",
            "    wheel_shake       0.92      0.94      0.93        36\n",
            "\n",
            "       accuracy                           0.90       468\n",
            "      macro avg       0.90      0.90      0.90       468\n",
            "   weighted avg       0.90      0.90      0.90       468\n",
            "\n"
          ]
        }
      ]
    },
    {
      "cell_type": "markdown",
      "source": [
        "#### **Confusion Matrix**"
      ],
      "metadata": {
        "id": "1K0rfbdBFZVa"
      }
    },
    {
      "cell_type": "code",
      "source": [
        "from sklearn.metrics import confusion_matrix\n",
        "confusion_matrix = sklearn.metrics.confusion_matrix(y_test, predictions)\n",
        "\n",
        "plt.figure(figsize=(10, 6))\n",
        "sns.heatmap(confusion_matrix, annot=True)\n",
        "plt.xlabel('Предсказанные данные')\n",
        "plt.ylabel('Настоящие данные')\n",
        "plt.show();"
      ],
      "metadata": {
        "colab": {
          "base_uri": "https://localhost:8080/",
          "height": 547
        },
        "id": "7dmMnL1gFZaq",
        "outputId": "05ddaefd-764d-4ceb-d1cf-1fec45096a5d"
      },
      "execution_count": 151,
      "outputs": [
        {
          "output_type": "display_data",
          "data": {
            "text/plain": [
              "<Figure size 1000x600 with 2 Axes>"
            ],
            "image/png": "[encoded data removed]"
          },
          "metadata": {}
        }
      ]
    },
    {
      "cell_type": "markdown",
      "metadata": {
        "id": "pL8evJIMbuh0"
      },
      "source": [
        "# Домашнее задание 3. Оптимизация. Тюнинг гиперпараметров с помощью `Optuna`"
      ]
    },
    {
      "cell_type": "markdown",
      "metadata": {
        "id": "ZmanV8V8buh0"
      },
      "source": [
        "<div class=\"alert alert-info\">\n",
        "\n",
        "**Цель блока** — улучшить качество предсказания, произведя подбор гиперпараметров для модели с помощью `Optuna`."
      ]
    },
    {
      "cell_type": "markdown",
      "metadata": {
        "id": "qEbxkZf8buh1"
      },
      "source": [
        "## Подбор гиперпараметров (3 балла)"
      ]
    },
    {
      "cell_type": "markdown",
      "metadata": {
        "id": "XogayH7Hbuh1"
      },
      "source": [
        "1. Напишите `objective` функцию и запустите `Optuna`.\n",
        "2. Подберите гиперпараметры для `CatBoostClassifier` (минимум 3).\n",
        "3. Обучите модель с новыми гиперпараметрами, сравните качество и сделайте выводы.\n",
        "\n",
        "    \n",
        "<h4> Критерии оценивания </h4>\n",
        "    \n",
        "- 1 балл за каждый корректно выполненный пункт.\n",
        "    \n",
        "</div>"
      ]
    },
    {
      "cell_type": "code",
      "execution_count": 37,
      "metadata": {
        "id": "UrNbom9qbuh1",
        "colab": {
          "base_uri": "https://localhost:8080/"
        },
        "outputId": "d4d5d17e-ee0d-4d93-dd1b-b1e1b7ada1ab"
      },
      "outputs": [
        {
          "output_type": "stream",
          "name": "stdout",
          "text": [
            "<class 'pandas.core.frame.DataFrame'>\n",
            "Int64Index: 2337 entries, 0 to 2336\n",
            "Data columns (total 13 columns):\n",
            " #   Column         Non-Null Count  Dtype  \n",
            "---  ------         --------------  -----  \n",
            " 0   model          2337 non-null   object \n",
            " 1   car_type       2337 non-null   object \n",
            " 2   fuel_type      2337 non-null   object \n",
            " 3   car_rating     2337 non-null   float64\n",
            " 4   year_to_start  2337 non-null   int64  \n",
            " 5   riders         2337 non-null   int64  \n",
            " 6   year_to_work   2337 non-null   int64  \n",
            " 7   target_reg     2337 non-null   float64\n",
            " 8   target_class   2337 non-null   object \n",
            " 9   min_rating     2337 non-null   float64\n",
            " 10  mean_rating    2337 non-null   float64\n",
            " 11  speed_max      2337 non-null   float64\n",
            " 12  speed_mean     2337 non-null   float64\n",
            "dtypes: float64(6), int64(3), object(4)\n",
            "memory usage: 255.6+ KB\n"
          ]
        }
      ],
      "source": [
        "df.info()"
      ]
    },
    {
      "cell_type": "code",
      "source": [
        "!pip install optuna"
      ],
      "metadata": {
        "colab": {
          "base_uri": "https://localhost:8080/"
        },
        "id": "IoIoek9S3DRx",
        "outputId": "c51fbbbf-b5fa-4e8b-a6e9-969799fce69f"
      },
      "execution_count": 38,
      "outputs": [
        {
          "output_type": "stream",
          "name": "stdout",
          "text": [
            "Collecting optuna\n",
            "  Downloading optuna-3.6.1-py3-none-any.whl (380 kB)\n",
            "\u001b[2K     \u001b[90m━━━━━━━━━━━━━━━━━━━━━━━━━━━━━━━━━━━━━━━━\u001b[0m \u001b[32m380.1/380.1 kB\u001b[0m \u001b[31m4.5 MB/s\u001b[0m eta \u001b[36m0:00:00\u001b[0m\n",
            "\u001b[?25hCollecting alembic>=1.5.0 (from optuna)\n",
            "  Downloading alembic-1.13.1-py3-none-any.whl (233 kB)\n",
            "\u001b[2K     \u001b[90m━━━━━━━━━━━━━━━━━━━━━━━━━━━━━━━━━━━━━━━━\u001b[0m \u001b[32m233.4/233.4 kB\u001b[0m \u001b[31m7.8 MB/s\u001b[0m eta \u001b[36m0:00:00\u001b[0m\n",
            "\u001b[?25hCollecting colorlog (from optuna)\n",
            "  Downloading colorlog-6.8.2-py3-none-any.whl (11 kB)\n",
            "Requirement already satisfied: numpy in /usr/local/lib/python3.10/dist-packages (from optuna) (1.25.2)\n",
            "Requirement already satisfied: packaging>=20.0 in /usr/local/lib/python3.10/dist-packages (from optuna) (24.0)\n",
            "Requirement already satisfied: sqlalchemy>=1.3.0 in /usr/local/lib/python3.10/dist-packages (from optuna) (2.0.29)\n",
            "Requirement already satisfied: tqdm in /usr/local/lib/python3.10/dist-packages (from optuna) (4.66.2)\n",
            "Requirement already satisfied: PyYAML in /usr/local/lib/python3.10/dist-packages (from optuna) (6.0.1)\n",
            "Collecting Mako (from alembic>=1.5.0->optuna)\n",
            "  Downloading Mako-1.3.2-py3-none-any.whl (78 kB)\n",
            "\u001b[2K     \u001b[90m━━━━━━━━━━━━━━━━━━━━━━━━━━━━━━━━━━━━━━━━\u001b[0m \u001b[32m78.7/78.7 kB\u001b[0m \u001b[31m11.0 MB/s\u001b[0m eta \u001b[36m0:00:00\u001b[0m\n",
            "\u001b[?25hRequirement already satisfied: typing-extensions>=4 in /usr/local/lib/python3.10/dist-packages (from alembic>=1.5.0->optuna) (4.10.0)\n",
            "Requirement already satisfied: greenlet!=0.4.17 in /usr/local/lib/python3.10/dist-packages (from sqlalchemy>=1.3.0->optuna) (3.0.3)\n",
            "Requirement already satisfied: MarkupSafe>=0.9.2 in /usr/local/lib/python3.10/dist-packages (from Mako->alembic>=1.5.0->optuna) (2.1.5)\n",
            "Installing collected packages: Mako, colorlog, alembic, optuna\n",
            "Successfully installed Mako-1.3.2 alembic-1.13.1 colorlog-6.8.2 optuna-3.6.1\n"
          ]
        }
      ]
    },
    {
      "cell_type": "code",
      "source": [
        "import optuna"
      ],
      "metadata": {
        "id": "LfcLG-Ro7MRC"
      },
      "execution_count": 39,
      "outputs": []
    },
    {
      "cell_type": "code",
      "source": [
        "def objective(trial):\n",
        "    X_train, X_test, y_train, y_test = train_test_split(X, y, test_size=0.2, random_state=4)\n",
        "\n",
        "    params = {\n",
        "        'iterations': trial.suggest_int('iterations', 100, 1000),\n",
        "        'learning_rate': trial.suggest_float('learning_rate', 0.01, 0.3),\n",
        "        'depth': trial.suggest_int('depth', 3, 10),\n",
        "        'l2_leaf_reg': trial.suggest_float('l2_leaf_reg', 1e-9, 10),\n",
        "    }\n",
        "\n",
        "    model = CatBoostClassifier(**params, random_state=4)\n",
        "    model.fit(X_train, y_train, verbose=100)\n",
        "\n",
        "    predictions = model.predict(X_test)\n",
        "\n",
        "    acc_score_value = sklearn.metrics.accuracy_score(y_test, predictions)\n",
        "\n",
        "    return acc_score_value"
      ],
      "metadata": {
        "id": "EvVSNBew7OXp"
      },
      "execution_count": 47,
      "outputs": []
    },
    {
      "cell_type": "code",
      "source": [
        "# study = optuna.create_study(direction='maximize')\n",
        "# study.optimize(objective, n_trials=100)"
      ],
      "metadata": {
        "id": "EKIZdJ2181FJ"
      },
      "execution_count": 43,
      "outputs": []
    },
    {
      "cell_type": "code",
      "source": [
        "best_params = study.best_params\n",
        "best_params"
      ],
      "metadata": {
        "colab": {
          "base_uri": "https://localhost:8080/"
        },
        "id": "M7nB9d9uFnBe",
        "outputId": "3922c12c-990d-4e4c-acc1-334af45b2ef8"
      },
      "execution_count": null,
      "outputs": [
        {
          "output_type": "execute_result",
          "data": {
            "text/plain": [
              "{'iterations': 711,\n",
              " 'learning_rate': 0.0905851314864452,\n",
              " 'depth': 4,\n",
              " 'l2_leaf_reg': 9.65082702367431}"
            ]
          },
          "metadata": {},
          "execution_count": 97
        }
      ]
    },
    {
      "cell_type": "code",
      "source": [
        "best_model = CatBoostClassifier(**best_params, random_state=4)\n",
        "best_model.fit(X_train, y_train, verbose=100)"
      ],
      "metadata": {
        "colab": {
          "base_uri": "https://localhost:8080/"
        },
        "id": "c75otMoBFwPx",
        "outputId": "4582c4e1-73c6-4d4b-df9f-12a916ddbb5a"
      },
      "execution_count": null,
      "outputs": [
        {
          "output_type": "stream",
          "name": "stdout",
          "text": [
            "0:\tlearn: 1.9372116\ttotal: 4.29ms\tremaining: 3.04s\n",
            "100:\tlearn: 0.3153528\ttotal: 379ms\tremaining: 2.29s\n",
            "200:\tlearn: 0.2632571\ttotal: 756ms\tremaining: 1.92s\n",
            "300:\tlearn: 0.2359854\ttotal: 1.14s\tremaining: 1.55s\n",
            "400:\tlearn: 0.2159646\ttotal: 1.56s\tremaining: 1.21s\n",
            "500:\tlearn: 0.2011868\ttotal: 1.97s\tremaining: 826ms\n",
            "600:\tlearn: 0.1875347\ttotal: 2.38s\tremaining: 435ms\n",
            "700:\tlearn: 0.1749521\ttotal: 2.77s\tremaining: 39.4ms\n",
            "710:\tlearn: 0.1735758\ttotal: 2.81s\tremaining: 0us\n"
          ]
        },
        {
          "output_type": "execute_result",
          "data": {
            "text/plain": [
              "<catboost.core.CatBoostClassifier at 0x78e7e828fa30>"
            ]
          },
          "metadata": {},
          "execution_count": 98
        }
      ]
    },
    {
      "cell_type": "code",
      "source": [
        "predicts = best_model.predict(X_test)\n",
        "accuracy2 = sklearn.metrics.accuracy_score(y_test, predicts)\n",
        "round(accuracy2, 3)"
      ],
      "metadata": {
        "colab": {
          "base_uri": "https://localhost:8080/"
        },
        "id": "Z4ojFP_luKlr",
        "outputId": "80601c1c-6e18-4457-9d7a-c83fd871f02f"
      },
      "execution_count": null,
      "outputs": [
        {
          "output_type": "execute_result",
          "data": {
            "text/plain": [
              "0.91"
            ]
          },
          "metadata": {},
          "execution_count": 99
        }
      ]
    },
    {
      "cell_type": "markdown",
      "source": [
        "#### **Вывод:**\n",
        "Метрика Accuracy стала выше, что выглядит отлично. Однако, как бы я еще не менял параметры для перебора - лучше, чем ~0.91 сделать у меня не получалось. В целом, я рад, что получилось увеличить метрику, даже на 0.01."
      ],
      "metadata": {
        "id": "ujEaXO7EDxke"
      }
    },
    {
      "cell_type": "markdown",
      "source": [
        "### Общая информация по `Optuna`"
      ],
      "metadata": {
        "id": "ayIdErsgjayi"
      }
    },
    {
      "cell_type": "markdown",
      "metadata": {
        "tags": [],
        "id": "a6Y35ioqbuh0"
      },
      "source": [
        "#### Ключевые особенности <code>Optuna</code>\n",
        "\n"
      ]
    },
    {
      "cell_type": "markdown",
      "source": [
        "- Легковесность и универсальность — можно подбирать оптимальные параметры под любые функции и метрики.\n",
        "- SOTA-алгоритмы, адаптированные для поиска гиперпараметров.\n",
        "- Параллелизация и различные методы прунинга.\n",
        "- Встроенная визуализация.\n",
        "- Интеграция со множеством популярных библиотек (бустинги, sklearn, PyTorch, W&B и другие).\n",
        "\n",
        "Разберем Optuna по частям, чтобы понять, как ее использовать."
      ],
      "metadata": {
        "id": "EFwQ3_NStdFY"
      }
    },
    {
      "cell_type": "markdown",
      "source": [
        "#### <code>Study</code>: оптимизация, базирующаяся на <code>Objective</code> функции"
      ],
      "metadata": {
        "id": "GIT2J4INtxaf"
      }
    },
    {
      "cell_type": "markdown",
      "metadata": {
        "id": "wqPh6XVybuh0"
      },
      "source": [
        "\n",
        "\n",
        "В `Objective`-функцию нужно написать код подсчета метрики, которую возвращаем. `Objective` вызывается Optuna много раз для подбора лучших параметров.\n",
        "```python\n",
        "def objective(trial, ...):\n",
        "    # calculate score...\n",
        "    return score\n",
        "```\n",
        "\n",
        "<h4> <code>Trial</code> — одно выполнение <code>Objective</code>-функции</h4>\n",
        "\n",
        "В `trial`-объекте мы передаем параметры для «перебора», используя для каждого типа свой метод. Например:\n",
        "\n",
        "```python\n",
        "# метод `suggest_float` показывает, что перебираем `float` значения, от 0 и до 1.5 границы\n",
        "param = trial.suggest_float('param', 0, 1.5)\n",
        "\n",
        "# Категориальное значение\n",
        "loss_function = trial.suggest_categorical('loss', ['Logloss', 'CrossEntropy'])\n",
        "\n",
        "# Целочисленное значение\n",
        "depth = trial.suggest_int('depth', 5, 8)\n",
        "\n",
        "# Равномерное распределение\n",
        "learning_rate = trial.suggest_uniform('learning_rate', 0.0, 1.0)\n",
        "```"
      ]
    },
    {
      "cell_type": "markdown",
      "source": [
        "#### `Study` parameters"
      ],
      "metadata": {
        "id": "4huC_vW7uI4o"
      }
    },
    {
      "cell_type": "markdown",
      "metadata": {
        "id": "Cq94BjhWbuh0"
      },
      "source": [
        "Инициализируем объект `study`, который начнет перебор и сохранит в себе историю результатов.\n",
        "Если мы стараемся увеличить метрику, а не уменьшить ошибку, то используем `create_study(direction='maximize')`.\n",
        "```python\n",
        "study = optuna.create_study()\n",
        "study.optimize(objective, n_trials=10)\n",
        "```"
      ]
    },
    {
      "cell_type": "markdown",
      "metadata": {
        "id": "x9AvfTv4buh0"
      },
      "source": [
        "<div class=\"alert alert-info\">\n",
        "    \n",
        "В [`Optuna`](https://optuna.readthedocs.io/en/stable/index.html) реализовано несколько методов (`sampler`) подбора параметров (в том числе классические):\n",
        "* `GridSampler`\n",
        "* `RandomSampler`\n",
        "* `Tree-Structed Parzen Estimator` (`TPESampler` — самый популярный, дефолтный)\n",
        "* `BruteForceSampler`\n",
        "* [Другие 4 метода](https://optuna.readthedocs.io/en/stable/reference/samplers/index.html#module-optuna.samplers) (можно написать собственный семплер)"
      ]
    },
    {
      "cell_type": "markdown",
      "metadata": {
        "tags": [],
        "id": "3g4-aEHabuh0"
      },
      "source": [
        "### Советы по перебору параметров"
      ]
    },
    {
      "cell_type": "markdown",
      "source": [
        "- Иметь понимание важности параметров.\n",
        "- Число `iterations` лучше взять с запасом и зафиксировать, при этом ограничив через `early_stopping_rounds`.\n",
        "- Подсмотреть или чувствовать диапазоны и шаг значений.\n",
        "- Исключить то, что перебирать не нужно (`random_seed` , `eval_metric`, `thread_count` и прочее).\n",
        "- Используйте информацию с прошлых попыток."
      ],
      "metadata": {
        "id": "g3b8cs4Mt7pq"
      }
    },
    {
      "cell_type": "markdown",
      "metadata": {
        "id": "dXv8NCp_buh1"
      },
      "source": [
        "# Домашнее задание 4. Блендинг"
      ]
    },
    {
      "cell_type": "markdown",
      "metadata": {
        "id": "8-bhQKWGbuh1"
      },
      "source": [
        "<div class=\"alert alert-info\">\n",
        "\n",
        "**Цель блока** — улучшить качество предсказания, объединив несколько моделей вместе методом блендинга."
      ]
    },
    {
      "cell_type": "markdown",
      "metadata": {
        "id": "ZtI-eK3xbuh1"
      },
      "source": [
        "## Задание 6. Блендинг (10 баллов)"
      ]
    },
    {
      "cell_type": "markdown",
      "metadata": {
        "id": "8v9Onoo9buh1"
      },
      "source": [
        "1. Построить и обучить модели:\n",
        "    - `CatBoostClassifier`,\n",
        "    - `LightGBMClassifier (goss)`,\n",
        "    - `XGBoostClassifier (dart)`,\n",
        "    - `RandomForestClassifier`.\n",
        "2. Сделать предсказания каждой моделью, оценить качество.\n",
        "3. Реализовать блендинг двумя способами, оценить качество и сравнить с предыдущим пунктом:\n",
        "    - `Hard Voting` —  метод, при котором делаем голосование всех моделей и выбираем самый популярный класс.\n",
        "    - `Soft Voting` —  метод, при котором мы складываем вероятности предсказания всех моделей по каждому классу и потом выбираем самый класс с максимальной суммой.\n",
        "    \n",
        "<h4> Критерии оценивания </h4>\n",
        "    \n",
        "- Обучены 4 модели — 1 балл за каждую обученную модель, всего 4 балла.\n",
        "- Для модели проведен подбор гиперпараметров — 0,5 балла за каждый параметр, всего 2 балла.\n",
        "- Сделаны предсказания каждой модели и оценено качество — 1 балл.\n",
        "- Реализован `Hard Voting` — 1 балл.\n",
        "- Реализован `Soft Voting` — 1 балл.\n",
        "- Сделаны выводы — 1 балл.\n",
        "    \n",
        "</div>"
      ]
    },
    {
      "cell_type": "markdown",
      "source": [
        "# **CatBoostClassifier**"
      ],
      "metadata": {
        "id": "8rGhLu_0u-Js"
      }
    },
    {
      "cell_type": "code",
      "execution_count": 77,
      "metadata": {
        "id": "Mfi_sxnjbuh2"
      },
      "outputs": [],
      "source": [
        "import optuna"
      ]
    },
    {
      "cell_type": "code",
      "source": [
        "from catboost import CatBoostClassifier\n",
        "from sklearn.model_selection import train_test_split\n",
        "from sklearn.metrics import accuracy_score\n",
        "\n",
        "def objective_CBC(trial):\n",
        "    X_train, X_test, y_train, y_test = train_test_split(X, y, test_size=0.2, random_state=4)\n",
        "\n",
        "    params = {\n",
        "        'iterations': trial.suggest_int('iterations', 100, 1000),\n",
        "        'depth': trial.suggest_int('depth', 3, 10),\n",
        "    }\n",
        "\n",
        "    model = CatBoostClassifier(**params, random_state=4)\n",
        "    model.fit(X_train, y_train, verbose=100)\n",
        "\n",
        "    predictions = model.predict(X_test)\n",
        "\n",
        "    acc_score_value = sklearn.metrics.accuracy_score(y_test, predictions)\n",
        "\n",
        "    return acc_score_value"
      ],
      "metadata": {
        "id": "4tmccvR8sfqS"
      },
      "execution_count": 80,
      "outputs": []
    },
    {
      "cell_type": "code",
      "source": [
        "study = optuna.create_study(direction='maximize')\n",
        "study.optimize(objective_CBC, n_trials=10)"
      ],
      "metadata": {
        "id": "PKbRp6jsuFa8"
      },
      "execution_count": null,
      "outputs": []
    },
    {
      "cell_type": "code",
      "source": [
        "best_params_CBC = study.best_params\n",
        "best_params_CBC"
      ],
      "metadata": {
        "colab": {
          "base_uri": "https://localhost:8080/"
        },
        "id": "kN0QX64MuNz6",
        "outputId": "3ed1fdbc-debc-4a2a-ab1d-cc04bf4d33c7"
      },
      "execution_count": 87,
      "outputs": [
        {
          "output_type": "execute_result",
          "data": {
            "text/plain": [
              "{'iterations': 939, 'depth': 3}"
            ]
          },
          "metadata": {},
          "execution_count": 87
        }
      ]
    },
    {
      "cell_type": "code",
      "source": [
        "best_model_CBC = CatBoostClassifier(**best_params_CBC, random_state=4)\n",
        "best_model_CBC.fit(X_train, y_train, verbose=100)"
      ],
      "metadata": {
        "colab": {
          "base_uri": "https://localhost:8080/"
        },
        "id": "Tf4kh3OcuP3e",
        "outputId": "12b09264-43da-45f8-e84a-aecc33eef59d"
      },
      "execution_count": 88,
      "outputs": [
        {
          "output_type": "stream",
          "name": "stdout",
          "text": [
            "Learning rate set to 0.086153\n",
            "0:\tlearn: 1.9708435\ttotal: 2.76ms\tremaining: 2.59s\n",
            "100:\tlearn: 0.3141346\ttotal: 254ms\tremaining: 2.1s\n",
            "200:\tlearn: 0.2605303\ttotal: 553ms\tremaining: 2.03s\n",
            "300:\tlearn: 0.2321351\ttotal: 953ms\tremaining: 2.02s\n",
            "400:\tlearn: 0.2091547\ttotal: 1.43s\tremaining: 1.92s\n",
            "500:\tlearn: 0.1920936\ttotal: 1.85s\tremaining: 1.62s\n",
            "600:\tlearn: 0.1793911\ttotal: 2.32s\tremaining: 1.3s\n",
            "700:\tlearn: 0.1672734\ttotal: 2.82s\tremaining: 958ms\n",
            "800:\tlearn: 0.1561628\ttotal: 3.09s\tremaining: 533ms\n",
            "900:\tlearn: 0.1457885\ttotal: 3.36s\tremaining: 142ms\n",
            "938:\tlearn: 0.1422642\ttotal: 3.46s\tremaining: 0us\n"
          ]
        },
        {
          "output_type": "execute_result",
          "data": {
            "text/plain": [
              "<catboost.core.CatBoostClassifier at 0x7ac312497310>"
            ]
          },
          "metadata": {},
          "execution_count": 88
        }
      ]
    },
    {
      "cell_type": "code",
      "source": [
        "predicts_CBC = best_model_CBC.predict(X_test)\n",
        "accuracy_CBC = sklearn.metrics.accuracy_score(y_test, predicts_CBC)\n",
        "round(accuracy_CBC, 3)"
      ],
      "metadata": {
        "colab": {
          "base_uri": "https://localhost:8080/"
        },
        "id": "IXQ4rqpcuRmc",
        "outputId": "b290ae11-ca63-451f-f062-0e22843a0b90"
      },
      "execution_count": 89,
      "outputs": [
        {
          "output_type": "execute_result",
          "data": {
            "text/plain": [
              "0.902"
            ]
          },
          "metadata": {},
          "execution_count": 89
        }
      ]
    },
    {
      "cell_type": "markdown",
      "source": [
        "# **LightGBMClassifier**"
      ],
      "metadata": {
        "id": "6GbqDEoTvDB-"
      }
    },
    {
      "cell_type": "code",
      "source": [
        "!pip install lightgbm"
      ],
      "metadata": {
        "colab": {
          "base_uri": "https://localhost:8080/"
        },
        "id": "vJAljhGVvIql",
        "outputId": "12d111b0-0726-443e-a05a-1590ae70b2c9"
      },
      "execution_count": 90,
      "outputs": [
        {
          "output_type": "stream",
          "name": "stdout",
          "text": [
            "Requirement already satisfied: lightgbm in /usr/local/lib/python3.10/dist-packages (4.1.0)\n",
            "Requirement already satisfied: numpy in /usr/local/lib/python3.10/dist-packages (from lightgbm) (1.25.2)\n",
            "Requirement already satisfied: scipy in /usr/local/lib/python3.10/dist-packages (from lightgbm) (1.11.4)\n"
          ]
        }
      ]
    },
    {
      "cell_type": "code",
      "source": [
        "from lightgbm import LGBMClassifier"
      ],
      "metadata": {
        "id": "ej1YyhR3vU5U"
      },
      "execution_count": 91,
      "outputs": []
    },
    {
      "cell_type": "code",
      "source": [
        "def objective_LGBMC(trial):\n",
        "    X_train, X_test, y_train, y_test = train_test_split(X, y, test_size=0.2, random_state=4)\n",
        "\n",
        "    params = {\n",
        "        'num_leaves': trial.suggest_int('num_leaves', 20, 50),\n",
        "        'max_depth ': trial.suggest_int('max_depth', -1, 10),\n",
        "    }\n",
        "\n",
        "    model = LGBMClassifier(**params, random_state=4, silent=True)\n",
        "    model.fit(X_train, y_train)\n",
        "\n",
        "    predictions = model.predict(X_test)\n",
        "\n",
        "    acc_score_value = sklearn.metrics.accuracy_score(y_test, predictions)\n",
        "\n",
        "    return acc_score_value"
      ],
      "metadata": {
        "id": "zN1HdV1mtfFU"
      },
      "execution_count": 92,
      "outputs": []
    },
    {
      "cell_type": "code",
      "source": [
        "study = optuna.create_study(direction='maximize')\n",
        "study.optimize(objective_LGBMC, n_trials=10)"
      ],
      "metadata": {
        "id": "nx-0rqaLwrdW"
      },
      "execution_count": null,
      "outputs": []
    },
    {
      "cell_type": "code",
      "source": [
        "best_params_LGBMC = study.best_params\n",
        "best_params_LGBMC"
      ],
      "metadata": {
        "colab": {
          "base_uri": "https://localhost:8080/"
        },
        "id": "ExwGpFI9w4MV",
        "outputId": "52c66bc6-f7b4-432f-ed65-f58c723af8af"
      },
      "execution_count": 94,
      "outputs": [
        {
          "output_type": "execute_result",
          "data": {
            "text/plain": [
              "{'num_leaves': 32, 'max_depth': 10}"
            ]
          },
          "metadata": {},
          "execution_count": 94
        }
      ]
    },
    {
      "cell_type": "code",
      "source": [
        "best_model_LGBMC = LGBMClassifier(**best_params_LGBMC, random_state=4)\n",
        "best_model_LGBMC.fit(X_train, y_train)"
      ],
      "metadata": {
        "id": "eEGq5c4fw94c"
      },
      "execution_count": null,
      "outputs": []
    },
    {
      "cell_type": "code",
      "source": [
        "predicts_LGBMC = best_model_LGBMC.predict(X_test)\n",
        "accuracy_LGBMC = sklearn.metrics.accuracy_score(y_test, predicts_LGBMC)\n",
        "round(accuracy_LGBMC, 3)"
      ],
      "metadata": {
        "colab": {
          "base_uri": "https://localhost:8080/"
        },
        "id": "B5B7hkhcxdf2",
        "outputId": "68dfe8de-e029-4841-c7e0-3fa5492eb5b1"
      },
      "execution_count": 96,
      "outputs": [
        {
          "output_type": "execute_result",
          "data": {
            "text/plain": [
              "0.882"
            ]
          },
          "metadata": {},
          "execution_count": 96
        }
      ]
    },
    {
      "cell_type": "markdown",
      "source": [
        "# **XGBoostClassifier**"
      ],
      "metadata": {
        "id": "w_mpblQ92ipE"
      }
    },
    {
      "cell_type": "code",
      "source": [
        "!pip install xgboost"
      ],
      "metadata": {
        "colab": {
          "base_uri": "https://localhost:8080/"
        },
        "id": "-Y5rT_w3ztlO",
        "outputId": "a439ce75-0145-4a48-d82c-a14f59e83142"
      },
      "execution_count": 97,
      "outputs": [
        {
          "output_type": "stream",
          "name": "stdout",
          "text": [
            "Requirement already satisfied: xgboost in /usr/local/lib/python3.10/dist-packages (2.0.3)\n",
            "Requirement already satisfied: numpy in /usr/local/lib/python3.10/dist-packages (from xgboost) (1.25.2)\n",
            "Requirement already satisfied: scipy in /usr/local/lib/python3.10/dist-packages (from xgboost) (1.11.4)\n"
          ]
        }
      ]
    },
    {
      "cell_type": "code",
      "source": [
        "from xgboost import XGBClassifier"
      ],
      "metadata": {
        "id": "dzGECsyyzwKh"
      },
      "execution_count": 152,
      "outputs": []
    },
    {
      "cell_type": "code",
      "source": [
        "from sklearn.preprocessing import LabelEncoder\n",
        "le = LabelEncoder()\n",
        "y2 = le.fit_transform(y)"
      ],
      "metadata": {
        "colab": {
          "base_uri": "https://localhost:8080/"
        },
        "id": "10o5guzH22Wj",
        "outputId": "8116b2bc-e71d-4900-b016-631c5307ab52"
      },
      "execution_count": 159,
      "outputs": [
        {
          "output_type": "stream",
          "name": "stderr",
          "text": [
            "/usr/local/lib/python3.10/dist-packages/sklearn/preprocessing/_label.py:116: DataConversionWarning: A column-vector y was passed when a 1d array was expected. Please change the shape of y to (n_samples, ), for example using ravel().\n",
            "  y = column_or_1d(y, warn=True)\n"
          ]
        }
      ]
    },
    {
      "cell_type": "code",
      "source": [
        "def objective_XGBC(trial):\n",
        "    X_train, X_test, y_train, y_test = train_test_split(X, y2, test_size=0.2, random_state=4)\n",
        "\n",
        "    params = {\n",
        "        'learning_rate': trial.suggest_float('learning_rate', 0.01, 0.5),\n",
        "        'max_depth': trial.suggest_int('max_depth', 1, 8),\n",
        "    }\n",
        "\n",
        "    model = XGBClassifier(**params, random_state=4, booster='dart')\n",
        "    model.fit(X_train, y_train)\n",
        "\n",
        "    predictions = model.predict(X_test)\n",
        "\n",
        "    acc_score_value = sklearn.metrics.accuracy_score(y_test, predictions)\n",
        "\n",
        "    return acc_score_value"
      ],
      "metadata": {
        "id": "ZjsjryX-0SUv"
      },
      "execution_count": 179,
      "outputs": []
    },
    {
      "cell_type": "code",
      "source": [
        "study = optuna.create_study(direction='maximize')\n",
        "study.optimize(objective_XGBC, n_trials=10)"
      ],
      "metadata": {
        "colab": {
          "base_uri": "https://localhost:8080/"
        },
        "id": "IitM-6Va0mNE",
        "outputId": "e395959e-c1ec-40ee-8bd2-3d8fd55a4125"
      },
      "execution_count": 180,
      "outputs": [
        {
          "output_type": "stream",
          "name": "stderr",
          "text": [
            "[I 2024-04-03 17:08:55,090] A new study created in memory with name: no-name-11766b96-37d2-4d87-a6f5-bb2da95fbeb8\n",
            "[I 2024-04-03 17:09:03,868] Trial 0 finished with value: 0.8952991452991453 and parameters: {'learning_rate': 0.09477418779709146, 'max_depth': 1}. Best is trial 0 with value: 0.8952991452991453.\n",
            "[I 2024-04-03 17:09:14,865] Trial 1 finished with value: 0.8867521367521367 and parameters: {'learning_rate': 0.0342096276462872, 'max_depth': 7}. Best is trial 0 with value: 0.8952991452991453.\n",
            "[I 2024-04-03 17:09:24,974] Trial 2 finished with value: 0.8995726495726496 and parameters: {'learning_rate': 0.04840919454449947, 'max_depth': 2}. Best is trial 2 with value: 0.8995726495726496.\n",
            "[I 2024-04-03 17:09:35,233] Trial 3 finished with value: 0.8803418803418803 and parameters: {'learning_rate': 0.35690050422765296, 'max_depth': 3}. Best is trial 2 with value: 0.8995726495726496.\n",
            "[I 2024-04-03 17:09:46,318] Trial 4 finished with value: 0.8824786324786325 and parameters: {'learning_rate': 0.06197134893025832, 'max_depth': 8}. Best is trial 2 with value: 0.8995726495726496.\n",
            "[I 2024-04-03 17:09:57,707] Trial 5 finished with value: 0.8803418803418803 and parameters: {'learning_rate': 0.4790103532744713, 'max_depth': 7}. Best is trial 2 with value: 0.8995726495726496.\n",
            "[I 2024-04-03 17:10:10,588] Trial 6 finished with value: 0.8995726495726496 and parameters: {'learning_rate': 0.011820660060244657, 'max_depth': 7}. Best is trial 2 with value: 0.8995726495726496.\n",
            "[I 2024-04-03 17:10:21,184] Trial 7 finished with value: 0.8739316239316239 and parameters: {'learning_rate': 0.34408419967775167, 'max_depth': 4}. Best is trial 2 with value: 0.8995726495726496.\n",
            "[I 2024-04-03 17:10:33,060] Trial 8 finished with value: 0.8803418803418803 and parameters: {'learning_rate': 0.19126272027532573, 'max_depth': 4}. Best is trial 2 with value: 0.8995726495726496.\n",
            "[I 2024-04-03 17:10:45,763] Trial 9 finished with value: 0.8803418803418803 and parameters: {'learning_rate': 0.3740742851589449, 'max_depth': 2}. Best is trial 2 with value: 0.8995726495726496.\n"
          ]
        }
      ]
    },
    {
      "cell_type": "code",
      "source": [
        "best_params_XGBC= study.best_params\n",
        "best_params_XGBC"
      ],
      "metadata": {
        "colab": {
          "base_uri": "https://localhost:8080/"
        },
        "id": "gy9Xth6f3bS-",
        "outputId": "de5c0f7b-3e2d-45f4-9acc-ff3bc5423d07"
      },
      "execution_count": 181,
      "outputs": [
        {
          "output_type": "execute_result",
          "data": {
            "text/plain": [
              "{'learning_rate': 0.04840919454449947, 'max_depth': 2}"
            ]
          },
          "metadata": {},
          "execution_count": 181
        }
      ]
    },
    {
      "cell_type": "code",
      "source": [
        "X_train, X_test, y_train, y_test = train_test_split(X, y2, test_size=0.2, random_state=4)\n",
        "best_model_XGBC = XGBClassifier(**best_params_XGBC, random_state=4)\n",
        "best_model_XGBC.fit(X_train, y_train)"
      ],
      "metadata": {
        "colab": {
          "base_uri": "https://localhost:8080/",
          "height": 248
        },
        "id": "HOI_Bhxn3jA6",
        "outputId": "3ef4fe68-81a1-488e-fed6-e2e7d3f60677"
      },
      "execution_count": 182,
      "outputs": [
        {
          "output_type": "execute_result",
          "data": {
            "text/plain": [
              "XGBClassifier(base_score=None, booster=None, callbacks=None,\n",
              "              colsample_bylevel=None, colsample_bynode=None,\n",
              "              colsample_bytree=None, device=None, early_stopping_rounds=None,\n",
              "              enable_categorical=False, eval_metric=None, feature_types=None,\n",
              "              gamma=None, grow_policy=None, importance_type=None,\n",
              "              interaction_constraints=None, learning_rate=0.04840919454449947,\n",
              "              max_bin=None, max_cat_threshold=None, max_cat_to_onehot=None,\n",
              "              max_delta_step=None, max_depth=2, max_leaves=None,\n",
              "              min_child_weight=None, missing=nan, monotone_constraints=None,\n",
              "              multi_strategy=None, n_estimators=None, n_jobs=None,\n",
              "              num_parallel_tree=None, objective='multi:softprob', ...)"
            ],
            "text/html": [
              "<style>#sk-container-id-5 {color: black;background-color: white;}#sk-container-id-5 pre{padding: 0;}#sk-container-id-5 div.sk-toggleable {background-color: white;}#sk-container-id-5 label.sk-toggleable__label {cursor: pointer;display: block;width: 100%;margin-bottom: 0;padding: 0.3em;box-sizing: border-box;text-align: center;}#sk-container-id-5 label.sk-toggleable__label-arrow:before {content: \"▸\";float: left;margin-right: 0.25em;color: #696969;}#sk-container-id-5 label.sk-toggleable__label-arrow:hover:before {color: black;}#sk-container-id-5 div.sk-estimator:hover label.sk-toggleable__label-arrow:before {color: black;}#sk-container-id-5 div.sk-toggleable__content {max-height: 0;max-width: 0;overflow: hidden;text-align: left;background-color: #f0f8ff;}#sk-container-id-5 div.sk-toggleable__content pre {margin: 0.2em;color: black;border-radius: 0.25em;background-color: #f0f8ff;}#sk-container-id-5 input.sk-toggleable__control:checked~div.sk-toggleable__content {max-height: 200px;max-width: 100%;overflow: auto;}#sk-container-id-5 input.sk-toggleable__control:checked~label.sk-toggleable__label-arrow:before {content: \"▾\";}#sk-container-id-5 div.sk-estimator input.sk-toggleable__control:checked~label.sk-toggleable__label {background-color: #d4ebff;}#sk-container-id-5 div.sk-label input.sk-toggleable__control:checked~label.sk-toggleable__label {background-color: #d4ebff;}#sk-container-id-5 input.sk-hidden--visually {border: 0;clip: rect(1px 1px 1px 1px);clip: rect(1px, 1px, 1px, 1px);height: 1px;margin: -1px;overflow: hidden;padding: 0;position: absolute;width: 1px;}#sk-container-id-5 div.sk-estimator {font-family: monospace;background-color: #f0f8ff;border: 1px dotted black;border-radius: 0.25em;box-sizing: border-box;margin-bottom: 0.5em;}#sk-container-id-5 div.sk-estimator:hover {background-color: #d4ebff;}#sk-container-id-5 div.sk-parallel-item::after {content: \"\";width: 100%;border-bottom: 1px solid gray;flex-grow: 1;}#sk-container-id-5 div.sk-label:hover label.sk-toggleable__label {background-color: #d4ebff;}#sk-container-id-5 div.sk-serial::before {content: \"\";position: absolute;border-left: 1px solid gray;box-sizing: border-box;top: 0;bottom: 0;left: 50%;z-index: 0;}#sk-container-id-5 div.sk-serial {display: flex;flex-direction: column;align-items: center;background-color: white;padding-right: 0.2em;padding-left: 0.2em;position: relative;}#sk-container-id-5 div.sk-item {position: relative;z-index: 1;}#sk-container-id-5 div.sk-parallel {display: flex;align-items: stretch;justify-content: center;background-color: white;position: relative;}#sk-container-id-5 div.sk-item::before, #sk-container-id-5 div.sk-parallel-item::before {content: \"\";position: absolute;border-left: 1px solid gray;box-sizing: border-box;top: 0;bottom: 0;left: 50%;z-index: -1;}#sk-container-id-5 div.sk-parallel-item {display: flex;flex-direction: column;z-index: 1;position: relative;background-color: white;}#sk-container-id-5 div.sk-parallel-item:first-child::after {align-self: flex-end;width: 50%;}#sk-container-id-5 div.sk-parallel-item:last-child::after {align-self: flex-start;width: 50%;}#sk-container-id-5 div.sk-parallel-item:only-child::after {width: 0;}#sk-container-id-5 div.sk-dashed-wrapped {border: 1px dashed gray;margin: 0 0.4em 0.5em 0.4em;box-sizing: border-box;padding-bottom: 0.4em;background-color: white;}#sk-container-id-5 div.sk-label label {font-family: monospace;font-weight: bold;display: inline-block;line-height: 1.2em;}#sk-container-id-5 div.sk-label-container {text-align: center;}#sk-container-id-5 div.sk-container {/* jupyter's `normalize.less` sets `[hidden] { display: none; }` but bootstrap.min.css set `[hidden] { display: none !important; }` so we also need the `!important` here to be able to override the default hidden behavior on the sphinx rendered scikit-learn.org. See: https://github.com/scikit-learn/scikit-learn/issues/21755 */display: inline-block !important;position: relative;}#sk-container-id-5 div.sk-text-repr-fallback {display: none;}</style><div id=\"sk-container-id-5\" class=\"sk-top-container\"><div class=\"sk-text-repr-fallback\"><pre>XGBClassifier(base_score=None, booster=None, callbacks=None,\n",
              "              colsample_bylevel=None, colsample_bynode=None,\n",
              "              colsample_bytree=None, device=None, early_stopping_rounds=None,\n",
              "              enable_categorical=False, eval_metric=None, feature_types=None,\n",
              "              gamma=None, grow_policy=None, importance_type=None,\n",
              "              interaction_constraints=None, learning_rate=0.04840919454449947,\n",
              "              max_bin=None, max_cat_threshold=None, max_cat_to_onehot=None,\n",
              "              max_delta_step=None, max_depth=2, max_leaves=None,\n",
              "              min_child_weight=None, missing=nan, monotone_constraints=None,\n",
              "              multi_strategy=None, n_estimators=None, n_jobs=None,\n",
              "              num_parallel_tree=None, objective=&#x27;multi:softprob&#x27;, ...)</pre><b>In a Jupyter environment, please rerun this cell to show the HTML representation or trust the notebook. <br />On GitHub, the HTML representation is unable to render, please try loading this page with nbviewer.org.</b></div><div class=\"sk-container\" hidden><div class=\"sk-item\"><div class=\"sk-estimator sk-toggleable\"><input class=\"sk-toggleable__control sk-hidden--visually\" id=\"sk-estimator-id-5\" type=\"checkbox\" checked><label for=\"sk-estimator-id-5\" class=\"sk-toggleable__label sk-toggleable__label-arrow\">XGBClassifier</label><div class=\"sk-toggleable__content\"><pre>XGBClassifier(base_score=None, booster=None, callbacks=None,\n",
              "              colsample_bylevel=None, colsample_bynode=None,\n",
              "              colsample_bytree=None, device=None, early_stopping_rounds=None,\n",
              "              enable_categorical=False, eval_metric=None, feature_types=None,\n",
              "              gamma=None, grow_policy=None, importance_type=None,\n",
              "              interaction_constraints=None, learning_rate=0.04840919454449947,\n",
              "              max_bin=None, max_cat_threshold=None, max_cat_to_onehot=None,\n",
              "              max_delta_step=None, max_depth=2, max_leaves=None,\n",
              "              min_child_weight=None, missing=nan, monotone_constraints=None,\n",
              "              multi_strategy=None, n_estimators=None, n_jobs=None,\n",
              "              num_parallel_tree=None, objective=&#x27;multi:softprob&#x27;, ...)</pre></div></div></div></div></div>"
            ]
          },
          "metadata": {},
          "execution_count": 182
        }
      ]
    },
    {
      "cell_type": "code",
      "source": [
        "predicts_XGBC = best_model_XGBC.predict(X_test)\n",
        "accuracy_XGBC = sklearn.metrics.accuracy_score(y_test, predicts_XGBC)\n",
        "round(accuracy_XGBC, 3)"
      ],
      "metadata": {
        "colab": {
          "base_uri": "https://localhost:8080/"
        },
        "id": "dWPBJdSy3wGl",
        "outputId": "899e52c5-3023-40d5-fa2d-0ca88c126ff0"
      },
      "execution_count": 183,
      "outputs": [
        {
          "output_type": "execute_result",
          "data": {
            "text/plain": [
              "0.9"
            ]
          },
          "metadata": {},
          "execution_count": 183
        }
      ]
    },
    {
      "cell_type": "markdown",
      "source": [
        "# **RandomForestClassifier**"
      ],
      "metadata": {
        "id": "T4MJoiAP4aJo"
      }
    },
    {
      "cell_type": "code",
      "source": [
        "from sklearn.ensemble import RandomForestClassifier"
      ],
      "metadata": {
        "id": "YP30GJWT4Zfs"
      },
      "execution_count": 173,
      "outputs": []
    },
    {
      "cell_type": "code",
      "source": [
        "def objective_RFC(trial):\n",
        "    X_train, X_test, y_train, y_test = train_test_split(X, y2, test_size=0.2, random_state=4)\n",
        "\n",
        "    params = {\n",
        "        'n_estimators': trial.suggest_int('n_estimators', 10, 50),\n",
        "        'max_depth': trial.suggest_int('max_depth', 1, 8),\n",
        "    }\n",
        "\n",
        "    model = RandomForestClassifier(**params, random_state=4)\n",
        "    model.fit(X_train, y_train)\n",
        "\n",
        "    predictions = model.predict(X_test)\n",
        "\n",
        "    acc_score_value = sklearn.metrics.accuracy_score(y_test, predictions)\n",
        "\n",
        "    return acc_score_value"
      ],
      "metadata": {
        "id": "L83NvMEv5na6"
      },
      "execution_count": 174,
      "outputs": []
    },
    {
      "cell_type": "code",
      "source": [
        "study = optuna.create_study(direction='maximize')\n",
        "study.optimize(objective_RFC, n_trials=10)"
      ],
      "metadata": {
        "colab": {
          "base_uri": "https://localhost:8080/"
        },
        "id": "7Z4xtX1N551U",
        "outputId": "90c22ca2-e1d3-49d2-e37f-f05a6dd44a5f"
      },
      "execution_count": 175,
      "outputs": [
        {
          "output_type": "stream",
          "name": "stderr",
          "text": [
            "[I 2024-04-03 17:00:41,006] A new study created in memory with name: no-name-4a53153a-aee9-4c93-99fc-57678be02823\n",
            "[I 2024-04-03 17:00:41,151] Trial 0 finished with value: 0.8333333333333334 and parameters: {'n_estimators': 46, 'max_depth': 3}. Best is trial 0 with value: 0.8333333333333334.\n",
            "[I 2024-04-03 17:00:41,413] Trial 1 finished with value: 0.8910256410256411 and parameters: {'n_estimators': 48, 'max_depth': 6}. Best is trial 1 with value: 0.8910256410256411.\n",
            "[I 2024-04-03 17:00:41,562] Trial 2 finished with value: 0.7115384615384616 and parameters: {'n_estimators': 21, 'max_depth': 2}. Best is trial 1 with value: 0.8910256410256411.\n",
            "[I 2024-04-03 17:00:41,718] Trial 3 finished with value: 0.8333333333333334 and parameters: {'n_estimators': 36, 'max_depth': 3}. Best is trial 1 with value: 0.8910256410256411.\n",
            "[I 2024-04-03 17:00:42,000] Trial 4 finished with value: 0.8910256410256411 and parameters: {'n_estimators': 44, 'max_depth': 8}. Best is trial 1 with value: 0.8910256410256411.\n",
            "[I 2024-04-03 17:00:42,079] Trial 5 finished with value: 0.8888888888888888 and parameters: {'n_estimators': 12, 'max_depth': 8}. Best is trial 1 with value: 0.8910256410256411.\n",
            "[I 2024-04-03 17:00:42,153] Trial 6 finished with value: 0.8247863247863247 and parameters: {'n_estimators': 16, 'max_depth': 3}. Best is trial 1 with value: 0.8910256410256411.\n",
            "[I 2024-04-03 17:00:42,316] Trial 7 finished with value: 0.8269230769230769 and parameters: {'n_estimators': 38, 'max_depth': 3}. Best is trial 1 with value: 0.8910256410256411.\n",
            "[I 2024-04-03 17:00:42,415] Trial 8 finished with value: 0.8888888888888888 and parameters: {'n_estimators': 18, 'max_depth': 6}. Best is trial 1 with value: 0.8910256410256411.\n",
            "[I 2024-04-03 17:00:42,564] Trial 9 finished with value: 0.8589743589743589 and parameters: {'n_estimators': 32, 'max_depth': 4}. Best is trial 1 with value: 0.8910256410256411.\n"
          ]
        }
      ]
    },
    {
      "cell_type": "code",
      "source": [
        "best_params_RFC= study.best_params\n",
        "best_params_RFC"
      ],
      "metadata": {
        "colab": {
          "base_uri": "https://localhost:8080/"
        },
        "id": "5YfCczB55-e4",
        "outputId": "53abc7f7-f159-47d4-d9e7-fed8f6819e32"
      },
      "execution_count": 176,
      "outputs": [
        {
          "output_type": "execute_result",
          "data": {
            "text/plain": [
              "{'n_estimators': 48, 'max_depth': 6}"
            ]
          },
          "metadata": {},
          "execution_count": 176
        }
      ]
    },
    {
      "cell_type": "code",
      "source": [
        "best_model_RFC = RandomForestClassifier(**best_params_RFC, random_state=4)\n",
        "best_model_RFC.fit(X_train, y_train)"
      ],
      "metadata": {
        "colab": {
          "base_uri": "https://localhost:8080/",
          "height": 75
        },
        "id": "PFDiu3Gk7kHf",
        "outputId": "21918dff-6def-4557-a9a8-5ce015e77290"
      },
      "execution_count": 177,
      "outputs": [
        {
          "output_type": "execute_result",
          "data": {
            "text/plain": [
              "RandomForestClassifier(max_depth=6, n_estimators=48, random_state=4)"
            ],
            "text/html": [
              "<style>#sk-container-id-4 {color: black;background-color: white;}#sk-container-id-4 pre{padding: 0;}#sk-container-id-4 div.sk-toggleable {background-color: white;}#sk-container-id-4 label.sk-toggleable__label {cursor: pointer;display: block;width: 100%;margin-bottom: 0;padding: 0.3em;box-sizing: border-box;text-align: center;}#sk-container-id-4 label.sk-toggleable__label-arrow:before {content: \"▸\";float: left;margin-right: 0.25em;color: #696969;}#sk-container-id-4 label.sk-toggleable__label-arrow:hover:before {color: black;}#sk-container-id-4 div.sk-estimator:hover label.sk-toggleable__label-arrow:before {color: black;}#sk-container-id-4 div.sk-toggleable__content {max-height: 0;max-width: 0;overflow: hidden;text-align: left;background-color: #f0f8ff;}#sk-container-id-4 div.sk-toggleable__content pre {margin: 0.2em;color: black;border-radius: 0.25em;background-color: #f0f8ff;}#sk-container-id-4 input.sk-toggleable__control:checked~div.sk-toggleable__content {max-height: 200px;max-width: 100%;overflow: auto;}#sk-container-id-4 input.sk-toggleable__control:checked~label.sk-toggleable__label-arrow:before {content: \"▾\";}#sk-container-id-4 div.sk-estimator input.sk-toggleable__control:checked~label.sk-toggleable__label {background-color: #d4ebff;}#sk-container-id-4 div.sk-label input.sk-toggleable__control:checked~label.sk-toggleable__label {background-color: #d4ebff;}#sk-container-id-4 input.sk-hidden--visually {border: 0;clip: rect(1px 1px 1px 1px);clip: rect(1px, 1px, 1px, 1px);height: 1px;margin: -1px;overflow: hidden;padding: 0;position: absolute;width: 1px;}#sk-container-id-4 div.sk-estimator {font-family: monospace;background-color: #f0f8ff;border: 1px dotted black;border-radius: 0.25em;box-sizing: border-box;margin-bottom: 0.5em;}#sk-container-id-4 div.sk-estimator:hover {background-color: #d4ebff;}#sk-container-id-4 div.sk-parallel-item::after {content: \"\";width: 100%;border-bottom: 1px solid gray;flex-grow: 1;}#sk-container-id-4 div.sk-label:hover label.sk-toggleable__label {background-color: #d4ebff;}#sk-container-id-4 div.sk-serial::before {content: \"\";position: absolute;border-left: 1px solid gray;box-sizing: border-box;top: 0;bottom: 0;left: 50%;z-index: 0;}#sk-container-id-4 div.sk-serial {display: flex;flex-direction: column;align-items: center;background-color: white;padding-right: 0.2em;padding-left: 0.2em;position: relative;}#sk-container-id-4 div.sk-item {position: relative;z-index: 1;}#sk-container-id-4 div.sk-parallel {display: flex;align-items: stretch;justify-content: center;background-color: white;position: relative;}#sk-container-id-4 div.sk-item::before, #sk-container-id-4 div.sk-parallel-item::before {content: \"\";position: absolute;border-left: 1px solid gray;box-sizing: border-box;top: 0;bottom: 0;left: 50%;z-index: -1;}#sk-container-id-4 div.sk-parallel-item {display: flex;flex-direction: column;z-index: 1;position: relative;background-color: white;}#sk-container-id-4 div.sk-parallel-item:first-child::after {align-self: flex-end;width: 50%;}#sk-container-id-4 div.sk-parallel-item:last-child::after {align-self: flex-start;width: 50%;}#sk-container-id-4 div.sk-parallel-item:only-child::after {width: 0;}#sk-container-id-4 div.sk-dashed-wrapped {border: 1px dashed gray;margin: 0 0.4em 0.5em 0.4em;box-sizing: border-box;padding-bottom: 0.4em;background-color: white;}#sk-container-id-4 div.sk-label label {font-family: monospace;font-weight: bold;display: inline-block;line-height: 1.2em;}#sk-container-id-4 div.sk-label-container {text-align: center;}#sk-container-id-4 div.sk-container {/* jupyter's `normalize.less` sets `[hidden] { display: none; }` but bootstrap.min.css set `[hidden] { display: none !important; }` so we also need the `!important` here to be able to override the default hidden behavior on the sphinx rendered scikit-learn.org. See: https://github.com/scikit-learn/scikit-learn/issues/21755 */display: inline-block !important;position: relative;}#sk-container-id-4 div.sk-text-repr-fallback {display: none;}</style><div id=\"sk-container-id-4\" class=\"sk-top-container\"><div class=\"sk-text-repr-fallback\"><pre>RandomForestClassifier(max_depth=6, n_estimators=48, random_state=4)</pre><b>In a Jupyter environment, please rerun this cell to show the HTML representation or trust the notebook. <br />On GitHub, the HTML representation is unable to render, please try loading this page with nbviewer.org.</b></div><div class=\"sk-container\" hidden><div class=\"sk-item\"><div class=\"sk-estimator sk-toggleable\"><input class=\"sk-toggleable__control sk-hidden--visually\" id=\"sk-estimator-id-4\" type=\"checkbox\" checked><label for=\"sk-estimator-id-4\" class=\"sk-toggleable__label sk-toggleable__label-arrow\">RandomForestClassifier</label><div class=\"sk-toggleable__content\"><pre>RandomForestClassifier(max_depth=6, n_estimators=48, random_state=4)</pre></div></div></div></div></div>"
            ]
          },
          "metadata": {},
          "execution_count": 177
        }
      ]
    },
    {
      "cell_type": "code",
      "source": [
        "predicts_RFC = best_model_RFC.predict(X_test)\n",
        "accuracy_RFC = sklearn.metrics.accuracy_score(y_test, predicts_RFC)\n",
        "round(accuracy_RFC, 3)"
      ],
      "metadata": {
        "colab": {
          "base_uri": "https://localhost:8080/"
        },
        "id": "GyOgyhKA7qo_",
        "outputId": "c8f19eb5-5636-453b-b5b4-5cf22aea4dba"
      },
      "execution_count": 178,
      "outputs": [
        {
          "output_type": "execute_result",
          "data": {
            "text/plain": [
              "0.891"
            ]
          },
          "metadata": {},
          "execution_count": 178
        }
      ]
    },
    {
      "cell_type": "markdown",
      "source": [
        "### Общая информация о блендинге"
      ],
      "metadata": {
        "id": "O2utYsm3mShl"
      }
    },
    {
      "cell_type": "markdown",
      "metadata": {
        "id": "-JNyyolfbuh1"
      },
      "source": [
        "**Основная идея** — взять от каждого алгоритма лучшее и совместить несколько разных ML-моделей в одну.\n",
        "\n",
        "Что это дает:\n",
        "- Увеличивается обобщающая способность финальной модели и качество улучшается.\n",
        "- Модель становится более стабильной, что позволяет не слететь на приватном лидерборде.\n",
        "\n",
        "Особенно хорошо накидывает блендинг, если смешиваемые модели имеют разную природу — например, нейронные сети, kNN и решающие деревья. Они выучивают разные зависимости и хорошо дополняют друг друга.\n",
        "\n",
        "</div>"
      ]
    },
    {
      "cell_type": "markdown",
      "metadata": {
        "id": "C5w0RwnYbuh3"
      },
      "source": [
        "# <center id=\"part6\"> Отправка финального решения на лидерборд на Kaggle"
      ]
    },
    {
      "cell_type": "markdown",
      "metadata": {
        "id": "wpt2Bdimbuh3"
      },
      "source": [
        "<div class=\"alert alert-info\">\n",
        "\n",
        "**Цель блока** — сделать предсказание с помощью блендинга для тестовой части датасета, отправить результат [в соревнование на Kaggle](https://www.kaggle.com/competitions/competative-data-science-course-by-data-feeling/overview)."
      ]
    },
    {
      "cell_type": "markdown",
      "metadata": {
        "id": "gfYqF37Cbuh3"
      },
      "source": [
        "## Задание 8. Предсказание на тестовом датасете и отправка на Kaggle"
      ]
    },
    {
      "cell_type": "markdown",
      "metadata": {
        "id": "m_ExuGjabuh3"
      },
      "source": [
        "1. Сделать предобработку для тестового датасета, присоединить к нему информацию из других датасетов и добавить признаки, которые генерировали для тренировочного датасета.\n",
        "2. Сделать предсказания каждой моделью, которую хотите включить в ансамбль, но минимум их должно быть 3.\n",
        "3. Сделать блендинг с помощью `Hard Voting` или `Soft Voting` на ваш выбор.\n",
        "4. Сохранить результат предсказания в `csv` файл и отправить решение на Kaggle.\n",
        "    \n",
        "<h4> Критерии оценивания </h4>\n",
        "    \n",
        "- 0 баллов за задание, если итоговый скор на лидерборде меньше чем `0.9`.\n",
        "- 1 балл за каждый выполненный пункт.\n",
        "\n",
        "</div>"
      ]
    },
    {
      "cell_type": "code",
      "execution_count": null,
      "metadata": {
        "id": "Cnp6usAybuh4"
      },
      "outputs": [],
      "source": [
        "car_test = pd.read_csv('https://raw.githubusercontent.com/a-milenkin/Competitive_Data_Science/main/data/car_test.csv')\n",
        "car_test.head(3)"
      ]
    },
    {
      "cell_type": "code",
      "execution_count": null,
      "metadata": {
        "id": "ZEZhf8gabuh4"
      },
      "outputs": [],
      "source": [
        "# YOUR CODE HERE"
      ]
    },
    {
      "cell_type": "markdown",
      "metadata": {
        "id": "cUuphISJbuh4"
      },
      "source": [
        "### Советы по отправке кода на Kaggle\n"
      ]
    },
    {
      "cell_type": "markdown",
      "source": [
        "\n",
        "Если пишете код на `Kaggle`, то для отправки решения:\n",
        "\n",
        "1. Нажать Save Version.\n",
        "2. Проверить, что в Advanced Settings выбрано «Всегда сохранять результаты ноутбука».\n",
        "3. Выбрать тип сохранения Save & Run All (Commit).\n",
        "4. Нажать кнопку Save."
      ],
      "metadata": {
        "id": "ZAQLSpKWu4aI"
      }
    }
  ],
  "metadata": {
    "kernelspec": {
      "display_name": "Python 3",
      "name": "python3"
    },
    "language_info": {
      "codemirror_mode": {
        "name": "ipython",
        "version": 3
      },
      "file_extension": ".py",
      "mimetype": "text/x-python",
      "name": "python",
      "nbconvert_exporter": "python",
      "pygments_lexer": "ipython3",
      "version": "3.10.13"
    },
    "colab": {
      "provenance": [],
      "gpuType": "T4"
    },
    "accelerator": "GPU",
    "widgets": {
      "application/vnd.jupyter.widget-state+json": {
        "22fd04fc9ffc4cb5b36ef011e2ff0035": {
          "model_module": "catboost-widget",
          "model_name": "CatboostWidgetModel",
          "model_module_version": "^1.0.0",
          "state": {
            "_dom_classes": [],
            "_model_module": "catboost-widget",
            "_model_module_version": "^1.0.0",
            "_model_name": "CatboostWidgetModel",
            "_view_count": null,
            "_view_module": "catboost-widget",
            "_view_module_version": "^1.0.0",
            "_view_name": "CatboostWidgetView",
            "data": {
              "catboost_info": {
                "path": "catboost_info",
                "name": "catboost_info",
                "content": {
                  "passed_iterations": 321,
                  "total_iterations": 3000,
                  "data": {
                    "iterations": [
                      {
                        "learn": [
                          1.916954053
                        ],
                        "iteration": 0,
                        "passed_time": 0.01166357996,
                        "remaining_time": 34.9790763,
                        "test": [
                          1.908858076
                        ]
                      },
                      {
                        "learn": [
                          1.699455257
                        ],
                        "iteration": 1,
                        "passed_time": 0.02151359092,
                        "remaining_time": 32.24887278,
                        "test": [
                          1.690792785
                        ]
                      },
                      {
                        "learn": [
                          1.539304589
                        ],
                        "iteration": 2,
                        "passed_time": 0.03282960867,
                        "remaining_time": 32.79677906,
                        "test": [
                          1.528224055
                        ]
                      },
                      {
                        "learn": [
                          1.405734538
                        ],
                        "iteration": 3,
                        "passed_time": 0.04322756687,
                        "remaining_time": 32.37744759,
                        "test": [
                          1.39939801
                        ]
                      },
                      {
                        "learn": [
                          1.30462772
                        ],
                        "iteration": 4,
                        "passed_time": 0.05354973909,
                        "remaining_time": 32.07629371,
                        "test": [
                          1.302204033
                        ]
                      },
                      {
                        "learn": [
                          1.218657978
                        ],
                        "iteration": 5,
                        "passed_time": 0.06374396738,
                        "remaining_time": 31.80823972,
                        "test": [
                          1.217015708
                        ]
                      },
                      {
                        "learn": [
                          1.138424638
                        ],
                        "iteration": 6,
                        "passed_time": 0.07371160167,
                        "remaining_time": 31.51697483,
                        "test": [
                          1.140630503
                        ]
                      },
                      {
                        "learn": [
                          1.068279846
                        ],
                        "iteration": 7,
                        "passed_time": 0.08314944499,
                        "remaining_time": 31.09789242,
                        "test": [
                          1.065878211
                        ]
                      },
                      {
                        "learn": [
                          1.016103018
                        ],
                        "iteration": 8,
                        "passed_time": 0.09297418495,
                        "remaining_time": 30.8984208,
                        "test": [
                          1.015020473
                        ]
                      },
                      {
                        "learn": [
                          0.9574980918
                        ],
                        "iteration": 9,
                        "passed_time": 0.1028414152,
                        "remaining_time": 30.74958315,
                        "test": [
                          0.9596535931
                        ]
                      },
                      {
                        "learn": [
                          0.9105699355
                        ],
                        "iteration": 10,
                        "passed_time": 0.1125540226,
                        "remaining_time": 30.5839976,
                        "test": [
                          0.9115971957
                        ]
                      },
                      {
                        "learn": [
                          0.8707955225
                        ],
                        "iteration": 11,
                        "passed_time": 0.1219252856,
                        "remaining_time": 30.35939611,
                        "test": [
                          0.8720884738
                        ]
                      },
                      {
                        "learn": [
                          0.8311190135
                        ],
                        "iteration": 12,
                        "passed_time": 0.1314480505,
                        "remaining_time": 30.20271746,
                        "test": [
                          0.8346970408
                        ]
                      },
                      {
                        "learn": [
                          0.7996100201
                        ],
                        "iteration": 13,
                        "passed_time": 0.1410192226,
                        "remaining_time": 30.07738561,
                        "test": [
                          0.8043179233
                        ]
                      },
                      {
                        "learn": [
                          0.7615976672
                        ],
                        "iteration": 14,
                        "passed_time": 0.1508430506,
                        "remaining_time": 30.01776706,
                        "test": [
                          0.7663376066
                        ]
                      },
                      {
                        "learn": [
                          0.731738619
                        ],
                        "iteration": 15,
                        "passed_time": 0.1609781352,
                        "remaining_time": 30.02242222,
                        "test": [
                          0.7366589077
                        ]
                      },
                      {
                        "learn": [
                          0.7052944201
                        ],
                        "iteration": 16,
                        "passed_time": 0.1707233763,
                        "remaining_time": 29.95693127,
                        "test": [
                          0.7098538351
                        ]
                      },
                      {
                        "learn": [
                          0.6759905854
                        ],
                        "iteration": 17,
                        "passed_time": 0.1808872228,
                        "remaining_time": 29.96698325,
                        "test": [
                          0.6818747238
                        ]
                      },
                      {
                        "learn": [
                          0.6490123553
                        ],
                        "iteration": 18,
                        "passed_time": 0.1906782801,
                        "remaining_time": 29.91641858,
                        "test": [
                          0.6539637484
                        ]
                      },
                      {
                        "learn": [
                          0.6270432979
                        ],
                        "iteration": 19,
                        "passed_time": 0.2038101668,
                        "remaining_time": 30.36771485,
                        "test": [
                          0.6325732225
                        ]
                      },
                      {
                        "learn": [
                          0.6048168959
                        ],
                        "iteration": 20,
                        "passed_time": 0.2134376376,
                        "remaining_time": 30.27765344,
                        "test": [
                          0.6097666014
                        ]
                      },
                      {
                        "learn": [
                          0.5902077932
                        ],
                        "iteration": 21,
                        "passed_time": 0.2227951201,
                        "remaining_time": 30.15835762,
                        "test": [
                          0.5961490588
                        ]
                      },
                      {
                        "learn": [
                          0.5739206459
                        ],
                        "iteration": 22,
                        "passed_time": 0.2325412862,
                        "remaining_time": 30.09893082,
                        "test": [
                          0.5815602217
                        ]
                      },
                      {
                        "learn": [
                          0.556657151
                        ],
                        "iteration": 23,
                        "passed_time": 0.2426693161,
                        "remaining_time": 30.09099519,
                        "test": [
                          0.563524566
                        ]
                      },
                      {
                        "learn": [
                          0.5417034927
                        ],
                        "iteration": 24,
                        "passed_time": 0.2526519668,
                        "remaining_time": 30.06558405,
                        "test": [
                          0.5486898763
                        ]
                      },
                      {
                        "learn": [
                          0.5256354242
                        ],
                        "iteration": 25,
                        "passed_time": 0.2625428791,
                        "remaining_time": 30.03086625,
                        "test": [
                          0.5328021806
                        ]
                      },
                      {
                        "learn": [
                          0.5114750193
                        ],
                        "iteration": 26,
                        "passed_time": 0.2721969778,
                        "remaining_time": 29.97191167,
                        "test": [
                          0.5183751098
                        ]
                      },
                      {
                        "learn": [
                          0.5009410609
                        ],
                        "iteration": 27,
                        "passed_time": 0.2820636121,
                        "remaining_time": 29.93903769,
                        "test": [
                          0.5078548406
                        ]
                      },
                      {
                        "learn": [
                          0.4897768451
                        ],
                        "iteration": 28,
                        "passed_time": 0.2916739636,
                        "remaining_time": 29.88149469,
                        "test": [
                          0.4970836839
                        ]
                      },
                      {
                        "learn": [
                          0.4799397319
                        ],
                        "iteration": 29,
                        "passed_time": 0.3010740364,
                        "remaining_time": 29.80632961,
                        "test": [
                          0.487327781
                        ]
                      },
                      {
                        "learn": [
                          0.4709391792
                        ],
                        "iteration": 30,
                        "passed_time": 0.3109283642,
                        "remaining_time": 29.77891333,
                        "test": [
                          0.4791769618
                        ]
                      },
                      {
                        "learn": [
                          0.4614049055
                        ],
                        "iteration": 31,
                        "passed_time": 0.320580436,
                        "remaining_time": 29.73383544,
                        "test": [
                          0.4700320658
                        ]
                      },
                      {
                        "learn": [
                          0.4545913018
                        ],
                        "iteration": 32,
                        "passed_time": 0.3303689114,
                        "remaining_time": 29.70316849,
                        "test": [
                          0.4636379165
                        ]
                      },
                      {
                        "learn": [
                          0.4456533307
                        ],
                        "iteration": 33,
                        "passed_time": 0.3406188135,
                        "remaining_time": 29.71398238,
                        "test": [
                          0.4553709624
                        ]
                      },
                      {
                        "learn": [
                          0.4390320373
                        ],
                        "iteration": 34,
                        "passed_time": 0.3508603299,
                        "remaining_time": 29.72288223,
                        "test": [
                          0.4496434218
                        ]
                      },
                      {
                        "learn": [
                          0.4312621381
                        ],
                        "iteration": 35,
                        "passed_time": 0.3613702197,
                        "remaining_time": 29.75281475,
                        "test": [
                          0.4424676596
                        ]
                      },
                      {
                        "learn": [
                          0.4244372783
                        ],
                        "iteration": 36,
                        "passed_time": 0.3715315193,
                        "remaining_time": 29.75264572,
                        "test": [
                          0.4350023913
                        ]
                      },
                      {
                        "learn": [
                          0.4181082242
                        ],
                        "iteration": 37,
                        "passed_time": 0.3813448357,
                        "remaining_time": 29.7248264,
                        "test": [
                          0.4287156903
                        ]
                      },
                      {
                        "learn": [
                          0.4097493561
                        ],
                        "iteration": 38,
                        "passed_time": 0.3914584282,
                        "remaining_time": 29.72072836,
                        "test": [
                          0.4210042954
                        ]
                      },
                      {
                        "learn": [
                          0.4054669716
                        ],
                        "iteration": 39,
                        "passed_time": 0.4016730297,
                        "remaining_time": 29.7238042,
                        "test": [
                          0.416783407
                        ]
                      },
                      {
                        "learn": [
                          0.3998160561
                        ],
                        "iteration": 40,
                        "passed_time": 0.4113028144,
                        "remaining_time": 29.68402507,
                        "test": [
                          0.4114024233
                        ]
                      },
                      {
                        "learn": [
                          0.3949098291
                        ],
                        "iteration": 41,
                        "passed_time": 0.4211807802,
                        "remaining_time": 29.66316066,
                        "test": [
                          0.4065611033
                        ]
                      },
                      {
                        "learn": [
                          0.3908909748
                        ],
                        "iteration": 42,
                        "passed_time": 0.4306852109,
                        "remaining_time": 29.6171202,
                        "test": [
                          0.4024636529
                        ]
                      },
                      {
                        "learn": [
                          0.386508152
                        ],
                        "iteration": 43,
                        "passed_time": 0.4418273865,
                        "remaining_time": 29.68276715,
                        "test": [
                          0.3982588967
                        ]
                      },
                      {
                        "learn": [
                          0.3811608648
                        ],
                        "iteration": 44,
                        "passed_time": 0.4514509185,
                        "remaining_time": 29.64527698,
                        "test": [
                          0.3935280816
                        ]
                      },
                      {
                        "learn": [
                          0.3772167523
                        ],
                        "iteration": 45,
                        "passed_time": 0.464008657,
                        "remaining_time": 29.79742549,
                        "test": [
                          0.3899382315
                        ]
                      },
                      {
                        "learn": [
                          0.3726818241
                        ],
                        "iteration": 46,
                        "passed_time": 0.4741694806,
                        "remaining_time": 29.79196758,
                        "test": [
                          0.3855627122
                        ]
                      },
                      {
                        "learn": [
                          0.3687204545
                        ],
                        "iteration": 47,
                        "passed_time": 0.4841187746,
                        "remaining_time": 29.77330464,
                        "test": [
                          0.3823417287
                        ]
                      },
                      {
                        "learn": [
                          0.3655529564
                        ],
                        "iteration": 48,
                        "passed_time": 0.4939775282,
                        "remaining_time": 29.74954461,
                        "test": [
                          0.3796200908
                        ]
                      },
                      {
                        "learn": [
                          0.3624442174
                        ],
                        "iteration": 49,
                        "passed_time": 0.5037234723,
                        "remaining_time": 29.71968486,
                        "test": [
                          0.3772072052
                        ]
                      },
                      {
                        "learn": [
                          0.3604129352
                        ],
                        "iteration": 50,
                        "passed_time": 0.5139491293,
                        "remaining_time": 29.7183526,
                        "test": [
                          0.3761781655
                        ]
                      },
                      {
                        "learn": [
                          0.3583238212
                        ],
                        "iteration": 51,
                        "passed_time": 0.5232059618,
                        "remaining_time": 29.66175337,
                        "test": [
                          0.3743569235
                        ]
                      },
                      {
                        "learn": [
                          0.3543392333
                        ],
                        "iteration": 52,
                        "passed_time": 0.5332647905,
                        "remaining_time": 29.65153467,
                        "test": [
                          0.3705222015
                        ]
                      },
                      {
                        "learn": [
                          0.3521870173
                        ],
                        "iteration": 53,
                        "passed_time": 0.5431488091,
                        "remaining_time": 29.63178503,
                        "test": [
                          0.3693745702
                        ]
                      },
                      {
                        "learn": [
                          0.3492010882
                        ],
                        "iteration": 54,
                        "passed_time": 0.5532002341,
                        "remaining_time": 29.62135799,
                        "test": [
                          0.3663412538
                        ]
                      },
                      {
                        "learn": [
                          0.3474522856
                        ],
                        "iteration": 55,
                        "passed_time": 0.5631454152,
                        "remaining_time": 29.60535897,
                        "test": [
                          0.3655215008
                        ]
                      },
                      {
                        "learn": [
                          0.3447975875
                        ],
                        "iteration": 56,
                        "passed_time": 0.5732614846,
                        "remaining_time": 29.5983956,
                        "test": [
                          0.3646524965
                        ]
                      },
                      {
                        "learn": [
                          0.3425980305
                        ],
                        "iteration": 57,
                        "passed_time": 0.582925477,
                        "remaining_time": 29.5683923,
                        "test": [
                          0.3626216475
                        ]
                      },
                      {
                        "learn": [
                          0.3393278918
                        ],
                        "iteration": 58,
                        "passed_time": 0.5929665094,
                        "remaining_time": 29.55787295,
                        "test": [
                          0.3597404756
                        ]
                      },
                      {
                        "learn": [
                          0.3371268729
                        ],
                        "iteration": 59,
                        "passed_time": 0.602900115,
                        "remaining_time": 29.54210563,
                        "test": [
                          0.3585984315
                        ]
                      },
                      {
                        "learn": [
                          0.3334553469
                        ],
                        "iteration": 60,
                        "passed_time": 0.6128057947,
                        "remaining_time": 29.52518411,
                        "test": [
                          0.3552731153
                        ]
                      },
                      {
                        "learn": [
                          0.3317280288
                        ],
                        "iteration": 61,
                        "passed_time": 0.6273234614,
                        "remaining_time": 29.72703757,
                        "test": [
                          0.3545421325
                        ]
                      },
                      {
                        "learn": [
                          0.3304883536
                        ],
                        "iteration": 62,
                        "passed_time": 0.6371620038,
                        "remaining_time": 29.7038858,
                        "test": [
                          0.3538349094
                        ]
                      },
                      {
                        "learn": [
                          0.3287143094
                        ],
                        "iteration": 63,
                        "passed_time": 0.6470161816,
                        "remaining_time": 29.68186733,
                        "test": [
                          0.3530351197
                        ]
                      },
                      {
                        "learn": [
                          0.3273901968
                        ],
                        "iteration": 64,
                        "passed_time": 0.657055622,
                        "remaining_time": 29.66858847,
                        "test": [
                          0.3519558774
                        ]
                      },
                      {
                        "learn": [
                          0.3241389246
                        ],
                        "iteration": 65,
                        "passed_time": 0.6673257193,
                        "remaining_time": 29.66566152,
                        "test": [
                          0.3490767739
                        ]
                      },
                      {
                        "learn": [
                          0.3215443278
                        ],
                        "iteration": 66,
                        "passed_time": 0.6775817832,
                        "remaining_time": 29.66190104,
                        "test": [
                          0.3469675954
                        ]
                      },
                      {
                        "learn": [
                          0.3197523082
                        ],
                        "iteration": 67,
                        "passed_time": 0.6876328871,
                        "remaining_time": 29.64911213,
                        "test": [
                          0.3461433528
                        ]
                      },
                      {
                        "learn": [
                          0.3178268694
                        ],
                        "iteration": 68,
                        "passed_time": 0.7027676363,
                        "remaining_time": 29.85234698,
                        "test": [
                          0.3450572353
                        ]
                      },
                      {
                        "learn": [
                          0.3153613472
                        ],
                        "iteration": 69,
                        "passed_time": 0.7177209606,
                        "remaining_time": 30.04174878,
                        "test": [
                          0.3428293213
                        ]
                      },
                      {
                        "learn": [
                          0.3137009375
                        ],
                        "iteration": 70,
                        "passed_time": 0.7275986725,
                        "remaining_time": 30.01600721,
                        "test": [
                          0.3414529288
                        ]
                      },
                      {
                        "learn": [
                          0.3124221721
                        ],
                        "iteration": 71,
                        "passed_time": 0.7373144368,
                        "remaining_time": 29.98412043,
                        "test": [
                          0.3407451838
                        ]
                      },
                      {
                        "learn": [
                          0.3107536252
                        ],
                        "iteration": 72,
                        "passed_time": 0.7473288172,
                        "remaining_time": 29.96481436,
                        "test": [
                          0.339780588
                        ]
                      },
                      {
                        "learn": [
                          0.3091599849
                        ],
                        "iteration": 73,
                        "passed_time": 0.7652149831,
                        "remaining_time": 30.25701406,
                        "test": [
                          0.3393858271
                        ]
                      },
                      {
                        "learn": [
                          0.3079980542
                        ],
                        "iteration": 74,
                        "passed_time": 0.7795143634,
                        "remaining_time": 30.40106017,
                        "test": [
                          0.3383190337
                        ]
                      },
                      {
                        "learn": [
                          0.3067369302
                        ],
                        "iteration": 75,
                        "passed_time": 0.7895577777,
                        "remaining_time": 30.37719661,
                        "test": [
                          0.3379545002
                        ]
                      },
                      {
                        "learn": [
                          0.3056502524
                        ],
                        "iteration": 76,
                        "passed_time": 0.7994855586,
                        "remaining_time": 30.34930244,
                        "test": [
                          0.3372628288
                        ]
                      },
                      {
                        "learn": [
                          0.3037922602
                        ],
                        "iteration": 77,
                        "passed_time": 0.8102617688,
                        "remaining_time": 30.35365242,
                        "test": [
                          0.3362441896
                        ]
                      },
                      {
                        "learn": [
                          0.3029166409
                        ],
                        "iteration": 78,
                        "passed_time": 0.8201990673,
                        "remaining_time": 30.32660096,
                        "test": [
                          0.3358503117
                        ]
                      },
                      {
                        "learn": [
                          0.3013128038
                        ],
                        "iteration": 79,
                        "passed_time": 0.8299508361,
                        "remaining_time": 30.29320552,
                        "test": [
                          0.3347692358
                        ]
                      },
                      {
                        "learn": [
                          0.2993931642
                        ],
                        "iteration": 80,
                        "passed_time": 0.8427632875,
                        "remaining_time": 30.3706918,
                        "test": [
                          0.3327510214
                        ]
                      },
                      {
                        "learn": [
                          0.2980535558
                        ],
                        "iteration": 81,
                        "passed_time": 0.8525119005,
                        "remaining_time": 30.33694787,
                        "test": [
                          0.331994733
                        ]
                      },
                      {
                        "learn": [
                          0.2972980651
                        ],
                        "iteration": 82,
                        "passed_time": 0.8626980361,
                        "remaining_time": 30.31915869,
                        "test": [
                          0.3319531318
                        ]
                      },
                      {
                        "learn": [
                          0.2960472224
                        ],
                        "iteration": 83,
                        "passed_time": 0.8728892615,
                        "remaining_time": 30.30172722,
                        "test": [
                          0.3311561462
                        ]
                      },
                      {
                        "learn": [
                          0.2943313909
                        ],
                        "iteration": 84,
                        "passed_time": 0.883026489,
                        "remaining_time": 30.2826143,
                        "test": [
                          0.3301329551
                        ]
                      },
                      {
                        "learn": [
                          0.2924818966
                        ],
                        "iteration": 85,
                        "passed_time": 0.8926018299,
                        "remaining_time": 30.24467131,
                        "test": [
                          0.3283580085
                        ]
                      },
                      {
                        "learn": [
                          0.291318495
                        ],
                        "iteration": 86,
                        "passed_time": 0.9025225621,
                        "remaining_time": 30.21894509,
                        "test": [
                          0.3277268363
                        ]
                      },
                      {
                        "learn": [
                          0.2902723093
                        ],
                        "iteration": 87,
                        "passed_time": 0.9122664762,
                        "remaining_time": 30.18772703,
                        "test": [
                          0.3278568253
                        ]
                      },
                      {
                        "learn": [
                          0.2892292655
                        ],
                        "iteration": 88,
                        "passed_time": 0.9220740799,
                        "remaining_time": 30.15907468,
                        "test": [
                          0.327102944
                        ]
                      },
                      {
                        "learn": [
                          0.2882925839
                        ],
                        "iteration": 89,
                        "passed_time": 0.9314970548,
                        "remaining_time": 30.11840477,
                        "test": [
                          0.3267021531
                        ]
                      },
                      {
                        "learn": [
                          0.2870715496
                        ],
                        "iteration": 90,
                        "passed_time": 0.9413381321,
                        "remaining_time": 30.0917871,
                        "test": [
                          0.3259996678
                        ]
                      },
                      {
                        "learn": [
                          0.2860561986
                        ],
                        "iteration": 91,
                        "passed_time": 0.9507390919,
                        "remaining_time": 30.0516226,
                        "test": [
                          0.3254198389
                        ]
                      },
                      {
                        "learn": [
                          0.2847760711
                        ],
                        "iteration": 92,
                        "passed_time": 0.9606578361,
                        "remaining_time": 30.02830462,
                        "test": [
                          0.324909629
                        ]
                      },
                      {
                        "learn": [
                          0.2829838059
                        ],
                        "iteration": 93,
                        "passed_time": 0.970534468,
                        "remaining_time": 30.00396983,
                        "test": [
                          0.3233905816
                        ]
                      },
                      {
                        "learn": [
                          0.2821895668
                        ],
                        "iteration": 94,
                        "passed_time": 0.9806989135,
                        "remaining_time": 29.98874046,
                        "test": [
                          0.3229454375
                        ]
                      },
                      {
                        "learn": [
                          0.2815105323
                        ],
                        "iteration": 95,
                        "passed_time": 0.9987124583,
                        "remaining_time": 30.21105186,
                        "test": [
                          0.3226319086
                        ]
                      },
                      {
                        "learn": [
                          0.2802394469
                        ],
                        "iteration": 96,
                        "passed_time": 1.008826923,
                        "remaining_time": 30.19200574,
                        "test": [
                          0.3216696141
                        ]
                      },
                      {
                        "learn": [
                          0.27912849
                        ],
                        "iteration": 97,
                        "passed_time": 1.018699356,
                        "remaining_time": 30.1659748,
                        "test": [
                          0.3211758744
                        ]
                      },
                      {
                        "learn": [
                          0.2785399084
                        ],
                        "iteration": 98,
                        "passed_time": 1.028929913,
                        "remaining_time": 30.15076441,
                        "test": [
                          0.3210839636
                        ]
                      },
                      {
                        "learn": [
                          0.2770782431
                        ],
                        "iteration": 99,
                        "passed_time": 1.038883129,
                        "remaining_time": 30.12761073,
                        "test": [
                          0.3201335872
                        ]
                      },
                      {
                        "learn": [
                          0.2762318645
                        ],
                        "iteration": 100,
                        "passed_time": 1.048914175,
                        "remaining_time": 30.10695242,
                        "test": [
                          0.3197549205
                        ]
                      },
                      {
                        "learn": [
                          0.2745924516
                        ],
                        "iteration": 101,
                        "passed_time": 1.059713086,
                        "remaining_time": 30.10831884,
                        "test": [
                          0.3187127776
                        ]
                      },
                      {
                        "learn": [
                          0.273032174
                        ],
                        "iteration": 102,
                        "passed_time": 1.070399508,
                        "remaining_time": 30.1062852,
                        "test": [
                          0.3177759765
                        ]
                      },
                      {
                        "learn": [
                          0.271956358
                        ],
                        "iteration": 103,
                        "passed_time": 1.081381559,
                        "remaining_time": 30.11231727,
                        "test": [
                          0.3175831705
                        ]
                      },
                      {
                        "learn": [
                          0.2709905358
                        ],
                        "iteration": 104,
                        "passed_time": 1.091346722,
                        "remaining_time": 30.08998819,
                        "test": [
                          0.3173127081
                        ]
                      },
                      {
                        "learn": [
                          0.2702879734
                        ],
                        "iteration": 105,
                        "passed_time": 1.100779404,
                        "remaining_time": 30.05335468,
                        "test": [
                          0.3168380848
                        ]
                      },
                      {
                        "learn": [
                          0.2696271853
                        ],
                        "iteration": 106,
                        "passed_time": 1.11176415,
                        "remaining_time": 30.05919333,
                        "test": [
                          0.3168023251
                        ]
                      },
                      {
                        "learn": [
                          0.2686090776
                        ],
                        "iteration": 107,
                        "passed_time": 1.121084977,
                        "remaining_time": 30.02016439,
                        "test": [
                          0.3166203283
                        ]
                      },
                      {
                        "learn": [
                          0.2675598784
                        ],
                        "iteration": 108,
                        "passed_time": 1.130704223,
                        "remaining_time": 29.9895955,
                        "test": [
                          0.3168551813
                        ]
                      },
                      {
                        "learn": [
                          0.2669187352
                        ],
                        "iteration": 109,
                        "passed_time": 1.140665648,
                        "remaining_time": 29.96839747,
                        "test": [
                          0.3168758098
                        ]
                      },
                      {
                        "learn": [
                          0.2659225427
                        ],
                        "iteration": 110,
                        "passed_time": 1.150495878,
                        "remaining_time": 29.9439873,
                        "test": [
                          0.3162623441
                        ]
                      },
                      {
                        "learn": [
                          0.2652386317
                        ],
                        "iteration": 111,
                        "passed_time": 1.160350897,
                        "remaining_time": 29.92047671,
                        "test": [
                          0.3163707001
                        ]
                      },
                      {
                        "learn": [
                          0.2637038341
                        ],
                        "iteration": 112,
                        "passed_time": 1.170416327,
                        "remaining_time": 29.9025835,
                        "test": [
                          0.3152221054
                        ]
                      },
                      {
                        "learn": [
                          0.2624562487
                        ],
                        "iteration": 113,
                        "passed_time": 1.180693941,
                        "remaining_time": 29.89019924,
                        "test": [
                          0.3144073664
                        ]
                      },
                      {
                        "learn": [
                          0.2618854724
                        ],
                        "iteration": 114,
                        "passed_time": 1.190918133,
                        "remaining_time": 29.87651142,
                        "test": [
                          0.3144375611
                        ]
                      },
                      {
                        "learn": [
                          0.2610182312
                        ],
                        "iteration": 115,
                        "passed_time": 1.201273528,
                        "remaining_time": 29.86614529,
                        "test": [
                          0.3142263408
                        ]
                      },
                      {
                        "learn": [
                          0.260095209
                        ],
                        "iteration": 116,
                        "passed_time": 1.211099662,
                        "remaining_time": 29.84273782,
                        "test": [
                          0.3141332699
                        ]
                      },
                      {
                        "learn": [
                          0.2587483124
                        ],
                        "iteration": 117,
                        "passed_time": 1.221078371,
                        "remaining_time": 29.823287,
                        "test": [
                          0.3134689513
                        ]
                      },
                      {
                        "learn": [
                          0.2576216642
                        ],
                        "iteration": 118,
                        "passed_time": 1.23112608,
                        "remaining_time": 29.80566584,
                        "test": [
                          0.3134406993
                        ]
                      },
                      {
                        "learn": [
                          0.2563917307
                        ],
                        "iteration": 119,
                        "passed_time": 1.243249252,
                        "remaining_time": 29.83798205,
                        "test": [
                          0.3129462991
                        ]
                      },
                      {
                        "learn": [
                          0.25563308
                        ],
                        "iteration": 120,
                        "passed_time": 1.259087581,
                        "remaining_time": 29.95795989,
                        "test": [
                          0.3128475464
                        ]
                      },
                      {
                        "learn": [
                          0.2548170714
                        ],
                        "iteration": 121,
                        "passed_time": 1.269581813,
                        "remaining_time": 29.94964309,
                        "test": [
                          0.3122173243
                        ]
                      },
                      {
                        "learn": [
                          0.2541041327
                        ],
                        "iteration": 122,
                        "passed_time": 1.279087351,
                        "remaining_time": 29.9181651,
                        "test": [
                          0.3122545658
                        ]
                      },
                      {
                        "learn": [
                          0.2531813019
                        ],
                        "iteration": 123,
                        "passed_time": 1.288517212,
                        "remaining_time": 29.88528631,
                        "test": [
                          0.3119944912
                        ]
                      },
                      {
                        "learn": [
                          0.2525971784
                        ],
                        "iteration": 124,
                        "passed_time": 1.298425308,
                        "remaining_time": 29.86378208,
                        "test": [
                          0.3122905476
                        ]
                      },
                      {
                        "learn": [
                          0.2520103019
                        ],
                        "iteration": 125,
                        "passed_time": 1.308200132,
                        "remaining_time": 29.83942205,
                        "test": [
                          0.3121802342
                        ]
                      },
                      {
                        "learn": [
                          0.2510706901
                        ],
                        "iteration": 126,
                        "passed_time": 1.318416407,
                        "remaining_time": 29.82527825,
                        "test": [
                          0.311999332
                        ]
                      },
                      {
                        "learn": [
                          0.2502978226
                        ],
                        "iteration": 127,
                        "passed_time": 1.328089312,
                        "remaining_time": 29.79900394,
                        "test": [
                          0.31163118
                        ]
                      },
                      {
                        "learn": [
                          0.2493176119
                        ],
                        "iteration": 128,
                        "passed_time": 1.338160548,
                        "remaining_time": 29.7818522,
                        "test": [
                          0.3107646931
                        ]
                      },
                      {
                        "learn": [
                          0.2484526556
                        ],
                        "iteration": 129,
                        "passed_time": 1.347881787,
                        "remaining_time": 29.75708254,
                        "test": [
                          0.3105587237
                        ]
                      },
                      {
                        "learn": [
                          0.2465937876
                        ],
                        "iteration": 130,
                        "passed_time": 1.358830811,
                        "remaining_time": 29.75943203,
                        "test": [
                          0.3089540909
                        ]
                      },
                      {
                        "learn": [
                          0.2455359114
                        ],
                        "iteration": 131,
                        "passed_time": 1.36834745,
                        "remaining_time": 29.73045823,
                        "test": [
                          0.3079635512
                        ]
                      },
                      {
                        "learn": [
                          0.2449031586
                        ],
                        "iteration": 132,
                        "passed_time": 1.378207736,
                        "remaining_time": 29.70918482,
                        "test": [
                          0.3078236665
                        ]
                      },
                      {
                        "learn": [
                          0.2443776756
                        ],
                        "iteration": 133,
                        "passed_time": 1.387823077,
                        "remaining_time": 29.68284282,
                        "test": [
                          0.3077309431
                        ]
                      },
                      {
                        "learn": [
                          0.2436689945
                        ],
                        "iteration": 134,
                        "passed_time": 1.398532737,
                        "remaining_time": 29.67997252,
                        "test": [
                          0.3074578363
                        ]
                      },
                      {
                        "learn": [
                          0.2431601752
                        ],
                        "iteration": 135,
                        "passed_time": 1.407962907,
                        "remaining_time": 29.6500424,
                        "test": [
                          0.3075367596
                        ]
                      },
                      {
                        "learn": [
                          0.2419514581
                        ],
                        "iteration": 136,
                        "passed_time": 1.418229175,
                        "remaining_time": 29.63788414,
                        "test": [
                          0.3067780112
                        ]
                      },
                      {
                        "learn": [
                          0.2404162746
                        ],
                        "iteration": 137,
                        "passed_time": 1.42805807,
                        "remaining_time": 29.61668259,
                        "test": [
                          0.3049858288
                        ]
                      },
                      {
                        "learn": [
                          0.2399919256
                        ],
                        "iteration": 138,
                        "passed_time": 1.43931767,
                        "remaining_time": 29.62509248,
                        "test": [
                          0.3048086312
                        ]
                      },
                      {
                        "learn": [
                          0.2393427043
                        ],
                        "iteration": 139,
                        "passed_time": 1.44888674,
                        "remaining_time": 29.59868625,
                        "test": [
                          0.304738639
                        ]
                      },
                      {
                        "learn": [
                          0.2388239575
                        ],
                        "iteration": 140,
                        "passed_time": 1.458351468,
                        "remaining_time": 29.57040317,
                        "test": [
                          0.304800867
                        ]
                      },
                      {
                        "learn": [
                          0.2384097418
                        ],
                        "iteration": 141,
                        "passed_time": 1.467509992,
                        "remaining_time": 29.53622224,
                        "test": [
                          0.3046569877
                        ]
                      },
                      {
                        "learn": [
                          0.2375494805
                        ],
                        "iteration": 142,
                        "passed_time": 1.477105363,
                        "remaining_time": 29.51111904,
                        "test": [
                          0.3045194545
                        ]
                      },
                      {
                        "learn": [
                          0.2368691933
                        ],
                        "iteration": 143,
                        "passed_time": 1.487214392,
                        "remaining_time": 29.49641877,
                        "test": [
                          0.3043908322
                        ]
                      },
                      {
                        "learn": [
                          0.2361331824
                        ],
                        "iteration": 144,
                        "passed_time": 1.496914671,
                        "remaining_time": 29.47373369,
                        "test": [
                          0.3039124322
                        ]
                      },
                      {
                        "learn": [
                          0.235442871
                        ],
                        "iteration": 145,
                        "passed_time": 1.506905012,
                        "remaining_time": 29.45689661,
                        "test": [
                          0.3040493484
                        ]
                      },
                      {
                        "learn": [
                          0.2350008711
                        ],
                        "iteration": 146,
                        "passed_time": 1.516992007,
                        "remaining_time": 29.44202854,
                        "test": [
                          0.3037816016
                        ]
                      },
                      {
                        "learn": [
                          0.2346925302
                        ],
                        "iteration": 147,
                        "passed_time": 1.526181434,
                        "remaining_time": 29.40992871,
                        "test": [
                          0.3035241656
                        ]
                      },
                      {
                        "learn": [
                          0.2341670522
                        ],
                        "iteration": 148,
                        "passed_time": 1.544499521,
                        "remaining_time": 29.55280627,
                        "test": [
                          0.3034444995
                        ]
                      },
                      {
                        "learn": [
                          0.2338401757
                        ],
                        "iteration": 149,
                        "passed_time": 1.55468034,
                        "remaining_time": 29.53892645,
                        "test": [
                          0.3035812924
                        ]
                      },
                      {
                        "learn": [
                          0.2333130604
                        ],
                        "iteration": 150,
                        "passed_time": 1.564914014,
                        "remaining_time": 29.52609289,
                        "test": [
                          0.3031494379
                        ]
                      },
                      {
                        "learn": [
                          0.2328950514
                        ],
                        "iteration": 151,
                        "passed_time": 1.574882028,
                        "remaining_time": 29.50831588,
                        "test": [
                          0.302844965
                        ]
                      },
                      {
                        "learn": [
                          0.232276113
                        ],
                        "iteration": 152,
                        "passed_time": 1.584656453,
                        "remaining_time": 29.48703871,
                        "test": [
                          0.302706589
                        ]
                      },
                      {
                        "learn": [
                          0.2317741021
                        ],
                        "iteration": 153,
                        "passed_time": 1.594572128,
                        "remaining_time": 29.46852127,
                        "test": [
                          0.3026665963
                        ]
                      },
                      {
                        "learn": [
                          0.2309490164
                        ],
                        "iteration": 154,
                        "passed_time": 1.604847125,
                        "remaining_time": 29.45671013,
                        "test": [
                          0.301941607
                        ]
                      },
                      {
                        "learn": [
                          0.2304466796
                        ],
                        "iteration": 155,
                        "passed_time": 1.615043276,
                        "remaining_time": 29.44348126,
                        "test": [
                          0.302090498
                        ]
                      },
                      {
                        "learn": [
                          0.2299198661
                        ],
                        "iteration": 156,
                        "passed_time": 1.624595801,
                        "remaining_time": 29.41863606,
                        "test": [
                          0.3017322266
                        ]
                      },
                      {
                        "learn": [
                          0.2291450061
                        ],
                        "iteration": 157,
                        "passed_time": 1.634653053,
                        "remaining_time": 29.40306314,
                        "test": [
                          0.301519542
                        ]
                      },
                      {
                        "learn": [
                          0.2287641265
                        ],
                        "iteration": 158,
                        "passed_time": 1.644536271,
                        "remaining_time": 29.38444998,
                        "test": [
                          0.3014333549
                        ]
                      },
                      {
                        "learn": [
                          0.2283151017
                        ],
                        "iteration": 159,
                        "passed_time": 1.654483386,
                        "remaining_time": 29.36708011,
                        "test": [
                          0.3013294137
                        ]
                      },
                      {
                        "learn": [
                          0.22767181
                        ],
                        "iteration": 160,
                        "passed_time": 1.664566076,
                        "remaining_time": 29.35219311,
                        "test": [
                          0.3011050919
                        ]
                      },
                      {
                        "learn": [
                          0.2271566462
                        ],
                        "iteration": 161,
                        "passed_time": 1.674568825,
                        "remaining_time": 29.33596497,
                        "test": [
                          0.300869617
                        ]
                      },
                      {
                        "learn": [
                          0.2261234691
                        ],
                        "iteration": 162,
                        "passed_time": 1.684186446,
                        "remaining_time": 29.31311011,
                        "test": [
                          0.2997980859
                        ]
                      },
                      {
                        "learn": [
                          0.2256423412
                        ],
                        "iteration": 163,
                        "passed_time": 1.693644261,
                        "remaining_time": 29.28765319,
                        "test": [
                          0.2994870798
                        ]
                      },
                      {
                        "learn": [
                          0.2250675958
                        ],
                        "iteration": 164,
                        "passed_time": 1.703269317,
                        "remaining_time": 29.26526371,
                        "test": [
                          0.298946832
                        ]
                      },
                      {
                        "learn": [
                          0.224352359
                        ],
                        "iteration": 165,
                        "passed_time": 1.72106569,
                        "remaining_time": 29.38253112,
                        "test": [
                          0.2982639868
                        ]
                      },
                      {
                        "learn": [
                          0.2238294226
                        ],
                        "iteration": 166,
                        "passed_time": 1.732445708,
                        "remaining_time": 29.38933348,
                        "test": [
                          0.2981817336
                        ]
                      },
                      {
                        "learn": [
                          0.2230455885
                        ],
                        "iteration": 167,
                        "passed_time": 1.742352558,
                        "remaining_time": 29.37108598,
                        "test": [
                          0.2980082626
                        ]
                      },
                      {
                        "learn": [
                          0.2226098574
                        ],
                        "iteration": 168,
                        "passed_time": 1.75169398,
                        "remaining_time": 29.34346543,
                        "test": [
                          0.2977419558
                        ]
                      },
                      {
                        "learn": [
                          0.2218756126
                        ],
                        "iteration": 169,
                        "passed_time": 1.761746939,
                        "remaining_time": 29.32790493,
                        "test": [
                          0.2978685817
                        ]
                      },
                      {
                        "learn": [
                          0.2208614873
                        ],
                        "iteration": 170,
                        "passed_time": 1.773412378,
                        "remaining_time": 29.33908548,
                        "test": [
                          0.297220778
                        ]
                      },
                      {
                        "learn": [
                          0.2199539507
                        ],
                        "iteration": 171,
                        "passed_time": 1.783500116,
                        "remaining_time": 29.32406005,
                        "test": [
                          0.297109889
                        ]
                      },
                      {
                        "learn": [
                          0.2194909025
                        ],
                        "iteration": 172,
                        "passed_time": 1.79344394,
                        "remaining_time": 29.30673999,
                        "test": [
                          0.2970532219
                        ]
                      },
                      {
                        "learn": [
                          0.2189066537
                        ],
                        "iteration": 173,
                        "passed_time": 1.803008634,
                        "remaining_time": 29.28334712,
                        "test": [
                          0.2968374421
                        ]
                      },
                      {
                        "learn": [
                          0.2181262461
                        ],
                        "iteration": 174,
                        "passed_time": 1.813315911,
                        "remaining_time": 29.2720997,
                        "test": [
                          0.2965160659
                        ]
                      },
                      {
                        "learn": [
                          0.2176300094
                        ],
                        "iteration": 175,
                        "passed_time": 1.82325197,
                        "remaining_time": 29.25490661,
                        "test": [
                          0.2968750073
                        ]
                      },
                      {
                        "learn": [
                          0.2171467396
                        ],
                        "iteration": 176,
                        "passed_time": 1.832970744,
                        "remaining_time": 29.23433001,
                        "test": [
                          0.2967607256
                        ]
                      },
                      {
                        "learn": [
                          0.2167285607
                        ],
                        "iteration": 177,
                        "passed_time": 1.843008259,
                        "remaining_time": 29.21892869,
                        "test": [
                          0.2967072343
                        ]
                      },
                      {
                        "learn": [
                          0.2156775361
                        ],
                        "iteration": 178,
                        "passed_time": 1.852978024,
                        "remaining_time": 29.20251959,
                        "test": [
                          0.2961972214
                        ]
                      },
                      {
                        "learn": [
                          0.2153541247
                        ],
                        "iteration": 179,
                        "passed_time": 1.862591898,
                        "remaining_time": 29.18060639,
                        "test": [
                          0.2964053225
                        ]
                      },
                      {
                        "learn": [
                          0.2149077733
                        ],
                        "iteration": 180,
                        "passed_time": 1.872142516,
                        "remaining_time": 29.15784394,
                        "test": [
                          0.296630266
                        ]
                      },
                      {
                        "learn": [
                          0.2145589266
                        ],
                        "iteration": 181,
                        "passed_time": 1.881507964,
                        "remaining_time": 29.13235957,
                        "test": [
                          0.2962227342
                        ]
                      },
                      {
                        "learn": [
                          0.2141151679
                        ],
                        "iteration": 182,
                        "passed_time": 1.8911378,
                        "remaining_time": 29.11112122,
                        "test": [
                          0.2962650357
                        ]
                      },
                      {
                        "learn": [
                          0.2135563938
                        ],
                        "iteration": 183,
                        "passed_time": 1.90061936,
                        "remaining_time": 29.08773977,
                        "test": [
                          0.2961254032
                        ]
                      },
                      {
                        "learn": [
                          0.213192831
                        ],
                        "iteration": 184,
                        "passed_time": 1.909797896,
                        "remaining_time": 29.05989772,
                        "test": [
                          0.2962097939
                        ]
                      },
                      {
                        "learn": [
                          0.212055413
                        ],
                        "iteration": 185,
                        "passed_time": 1.919571653,
                        "remaining_time": 29.04126147,
                        "test": [
                          0.2954213508
                        ]
                      },
                      {
                        "learn": [
                          0.2116425831
                        ],
                        "iteration": 186,
                        "passed_time": 1.929325698,
                        "remaining_time": 29.02242347,
                        "test": [
                          0.2950699821
                        ]
                      },
                      {
                        "learn": [
                          0.210949635
                        ],
                        "iteration": 187,
                        "passed_time": 1.939277434,
                        "remaining_time": 29.00663907,
                        "test": [
                          0.2949341394
                        ]
                      },
                      {
                        "learn": [
                          0.2103296411
                        ],
                        "iteration": 188,
                        "passed_time": 1.94883458,
                        "remaining_time": 28.98504764,
                        "test": [
                          0.2949738418
                        ]
                      },
                      {
                        "learn": [
                          0.2098063657
                        ],
                        "iteration": 189,
                        "passed_time": 1.959564476,
                        "remaining_time": 28.98092725,
                        "test": [
                          0.2950375738
                        ]
                      },
                      {
                        "learn": [
                          0.2092885783
                        ],
                        "iteration": 190,
                        "passed_time": 1.9751375,
                        "remaining_time": 29.0479646,
                        "test": [
                          0.2951963598
                        ]
                      },
                      {
                        "learn": [
                          0.2086438442
                        ],
                        "iteration": 191,
                        "passed_time": 1.992997962,
                        "remaining_time": 29.1475952,
                        "test": [
                          0.2948642397
                        ]
                      },
                      {
                        "learn": [
                          0.2078245899
                        ],
                        "iteration": 192,
                        "passed_time": 2.018229518,
                        "remaining_time": 29.35321376,
                        "test": [
                          0.2947142957
                        ]
                      },
                      {
                        "learn": [
                          0.2072952855
                        ],
                        "iteration": 193,
                        "passed_time": 2.034362765,
                        "remaining_time": 29.42485525,
                        "test": [
                          0.2947384058
                        ]
                      },
                      {
                        "learn": [
                          0.2067208909
                        ],
                        "iteration": 194,
                        "passed_time": 2.04835405,
                        "remaining_time": 29.46478518,
                        "test": [
                          0.2943855828
                        ]
                      },
                      {
                        "learn": [
                          0.2062489128
                        ],
                        "iteration": 195,
                        "passed_time": 2.06591592,
                        "remaining_time": 29.55524611,
                        "test": [
                          0.2943750609
                        ]
                      },
                      {
                        "learn": [
                          0.2056903667
                        ],
                        "iteration": 196,
                        "passed_time": 2.083644155,
                        "remaining_time": 29.64697749,
                        "test": [
                          0.294380947
                        ]
                      },
                      {
                        "learn": [
                          0.2052015801
                        ],
                        "iteration": 197,
                        "passed_time": 2.104196309,
                        "remaining_time": 29.77756595,
                        "test": [
                          0.2940630152
                        ]
                      },
                      {
                        "learn": [
                          0.2048011835
                        ],
                        "iteration": 198,
                        "passed_time": 2.118101621,
                        "remaining_time": 29.81307859,
                        "test": [
                          0.294007104
                        ]
                      },
                      {
                        "learn": [
                          0.2038807499
                        ],
                        "iteration": 199,
                        "passed_time": 2.130782999,
                        "remaining_time": 29.83096199,
                        "test": [
                          0.2935980015
                        ]
                      },
                      {
                        "learn": [
                          0.2034405485
                        ],
                        "iteration": 200,
                        "passed_time": 2.148894781,
                        "remaining_time": 29.92416166,
                        "test": [
                          0.2933274828
                        ]
                      },
                      {
                        "learn": [
                          0.2030589546
                        ],
                        "iteration": 201,
                        "passed_time": 2.168540293,
                        "remaining_time": 30.03750367,
                        "test": [
                          0.2934448226
                        ]
                      },
                      {
                        "learn": [
                          0.2028282268
                        ],
                        "iteration": 202,
                        "passed_time": 2.187022883,
                        "remaining_time": 30.13351233,
                        "test": [
                          0.2935949984
                        ]
                      },
                      {
                        "learn": [
                          0.2022149417
                        ],
                        "iteration": 203,
                        "passed_time": 2.202219811,
                        "remaining_time": 30.18336565,
                        "test": [
                          0.29365033
                        ]
                      },
                      {
                        "learn": [
                          0.2016762673
                        ],
                        "iteration": 204,
                        "passed_time": 2.221765089,
                        "remaining_time": 30.29187037,
                        "test": [
                          0.2936360505
                        ]
                      },
                      {
                        "learn": [
                          0.2015396506
                        ],
                        "iteration": 205,
                        "passed_time": 2.239027953,
                        "remaining_time": 30.36817525,
                        "test": [
                          0.2936635823
                        ]
                      },
                      {
                        "learn": [
                          0.2012082275
                        ],
                        "iteration": 206,
                        "passed_time": 2.257832788,
                        "remaining_time": 30.46438152,
                        "test": [
                          0.2936624812
                        ]
                      },
                      {
                        "learn": [
                          0.2007494261
                        ],
                        "iteration": 207,
                        "passed_time": 2.277461325,
                        "remaining_time": 30.57053856,
                        "test": [
                          0.2939675523
                        ]
                      },
                      {
                        "learn": [
                          0.2004710152
                        ],
                        "iteration": 208,
                        "passed_time": 2.29645692,
                        "remaining_time": 30.66703954,
                        "test": [
                          0.2939069512
                        ]
                      },
                      {
                        "learn": [
                          0.1998595131
                        ],
                        "iteration": 209,
                        "passed_time": 2.310773961,
                        "remaining_time": 30.70028262,
                        "test": [
                          0.2939146241
                        ]
                      },
                      {
                        "learn": [
                          0.1991311347
                        ],
                        "iteration": 210,
                        "passed_time": 2.328244962,
                        "remaining_time": 30.77476398,
                        "test": [
                          0.2941452064
                        ]
                      },
                      {
                        "learn": [
                          0.1987341225
                        ],
                        "iteration": 211,
                        "passed_time": 2.345840296,
                        "remaining_time": 30.85001294,
                        "test": [
                          0.2943501664
                        ]
                      },
                      {
                        "learn": [
                          0.1984168243
                        ],
                        "iteration": 212,
                        "passed_time": 2.369095234,
                        "remaining_time": 30.99844328,
                        "test": [
                          0.2941906182
                        ]
                      },
                      {
                        "learn": [
                          0.1978394495
                        ],
                        "iteration": 213,
                        "passed_time": 2.38751867,
                        "remaining_time": 31.08236923,
                        "test": [
                          0.2939576616
                        ]
                      },
                      {
                        "learn": [
                          0.1971872404
                        ],
                        "iteration": 214,
                        "passed_time": 2.404854653,
                        "remaining_time": 31.15125678,
                        "test": [
                          0.2939715922
                        ]
                      },
                      {
                        "learn": [
                          0.1968876672
                        ],
                        "iteration": 215,
                        "passed_time": 2.42235772,
                        "remaining_time": 31.2214995,
                        "test": [
                          0.293833752
                        ]
                      },
                      {
                        "learn": [
                          0.1963963868
                        ],
                        "iteration": 216,
                        "passed_time": 2.441679724,
                        "remaining_time": 31.31426116,
                        "test": [
                          0.2938389997
                        ]
                      },
                      {
                        "learn": [
                          0.1960987785
                        ],
                        "iteration": 217,
                        "passed_time": 2.459162617,
                        "remaining_time": 31.38252477,
                        "test": [
                          0.2937436265
                        ]
                      },
                      {
                        "learn": [
                          0.195934358
                        ],
                        "iteration": 218,
                        "passed_time": 2.479129704,
                        "remaining_time": 31.48155117,
                        "test": [
                          0.2937621698
                        ]
                      },
                      {
                        "learn": [
                          0.1951585637
                        ],
                        "iteration": 219,
                        "passed_time": 2.499592587,
                        "remaining_time": 31.58576087,
                        "test": [
                          0.2938116871
                        ]
                      },
                      {
                        "learn": [
                          0.1943880026
                        ],
                        "iteration": 220,
                        "passed_time": 2.517751054,
                        "remaining_time": 31.65986506,
                        "test": [
                          0.2931756578
                        ]
                      },
                      {
                        "learn": [
                          0.1940671484
                        ],
                        "iteration": 221,
                        "passed_time": 2.536910554,
                        "remaining_time": 31.7456645,
                        "test": [
                          0.2930015707
                        ]
                      },
                      {
                        "learn": [
                          0.1937310791
                        ],
                        "iteration": 222,
                        "passed_time": 2.55423797,
                        "remaining_time": 31.80770782,
                        "test": [
                          0.2930269134
                        ]
                      },
                      {
                        "learn": [
                          0.1935115906
                        ],
                        "iteration": 223,
                        "passed_time": 2.573188205,
                        "remaining_time": 31.88915383,
                        "test": [
                          0.2930586931
                        ]
                      },
                      {
                        "learn": [
                          0.1933284124
                        ],
                        "iteration": 224,
                        "passed_time": 2.590053632,
                        "remaining_time": 31.9439948,
                        "test": [
                          0.2931398341
                        ]
                      },
                      {
                        "learn": [
                          0.1926258961
                        ],
                        "iteration": 225,
                        "passed_time": 2.606861747,
                        "remaining_time": 31.99749773,
                        "test": [
                          0.2935186051
                        ]
                      },
                      {
                        "learn": [
                          0.1921752918
                        ],
                        "iteration": 226,
                        "passed_time": 2.623743887,
                        "remaining_time": 32.05128546,
                        "test": [
                          0.293433228
                        ]
                      },
                      {
                        "learn": [
                          0.1917435889
                        ],
                        "iteration": 227,
                        "passed_time": 2.643356122,
                        "remaining_time": 32.13764549,
                        "test": [
                          0.2933846161
                        ]
                      },
                      {
                        "learn": [
                          0.1914008533
                        ],
                        "iteration": 228,
                        "passed_time": 2.668294607,
                        "remaining_time": 32.28752994,
                        "test": [
                          0.2935188211
                        ]
                      },
                      {
                        "learn": [
                          0.1910698904
                        ],
                        "iteration": 229,
                        "passed_time": 2.684252216,
                        "remaining_time": 32.32773321,
                        "test": [
                          0.2935940582
                        ]
                      },
                      {
                        "learn": [
                          0.1906124994
                        ],
                        "iteration": 230,
                        "passed_time": 2.703935268,
                        "remaining_time": 32.41210718,
                        "test": [
                          0.2934060214
                        ]
                      },
                      {
                        "learn": [
                          0.1901419348
                        ],
                        "iteration": 231,
                        "passed_time": 2.724576097,
                        "remaining_time": 32.50701136,
                        "test": [
                          0.29350502
                        ]
                      },
                      {
                        "learn": [
                          0.1898077366
                        ],
                        "iteration": 232,
                        "passed_time": 2.744229272,
                        "remaining_time": 32.58919483,
                        "test": [
                          0.293644299
                        ]
                      },
                      {
                        "learn": [
                          0.1894048345
                        ],
                        "iteration": 233,
                        "passed_time": 2.762170396,
                        "remaining_time": 32.65027058,
                        "test": [
                          0.2936296307
                        ]
                      },
                      {
                        "learn": [
                          0.1888349071
                        ],
                        "iteration": 234,
                        "passed_time": 2.783396772,
                        "remaining_time": 32.74932797,
                        "test": [
                          0.2936597321
                        ]
                      },
                      {
                        "learn": [
                          0.1884521912
                        ],
                        "iteration": 235,
                        "passed_time": 2.80213882,
                        "remaining_time": 32.81826991,
                        "test": [
                          0.293564372
                        ]
                      },
                      {
                        "learn": [
                          0.1879852217
                        ],
                        "iteration": 236,
                        "passed_time": 2.820730316,
                        "remaining_time": 32.88471672,
                        "test": [
                          0.2936780975
                        ]
                      },
                      {
                        "learn": [
                          0.1876485955
                        ],
                        "iteration": 237,
                        "passed_time": 2.838090168,
                        "remaining_time": 32.93615565,
                        "test": [
                          0.293868861
                        ]
                      },
                      {
                        "learn": [
                          0.1870701487
                        ],
                        "iteration": 238,
                        "passed_time": 2.855060162,
                        "remaining_time": 32.98251509,
                        "test": [
                          0.2934618643
                        ]
                      },
                      {
                        "learn": [
                          0.1866645885
                        ],
                        "iteration": 239,
                        "passed_time": 2.874925382,
                        "remaining_time": 33.06164189,
                        "test": [
                          0.2935340604
                        ]
                      },
                      {
                        "learn": [
                          0.1863850634
                        ],
                        "iteration": 240,
                        "passed_time": 2.896472446,
                        "remaining_time": 33.15920115,
                        "test": [
                          0.2932102477
                        ]
                      },
                      {
                        "learn": [
                          0.1857228745
                        ],
                        "iteration": 241,
                        "passed_time": 2.914271504,
                        "remaining_time": 33.21306119,
                        "test": [
                          0.2931180387
                        ]
                      },
                      {
                        "learn": [
                          0.1851350348
                        ],
                        "iteration": 242,
                        "passed_time": 2.931256123,
                        "remaining_time": 33.25709107,
                        "test": [
                          0.2934722377
                        ]
                      },
                      {
                        "learn": [
                          0.1846707606
                        ],
                        "iteration": 243,
                        "passed_time": 2.949158141,
                        "remaining_time": 33.31098294,
                        "test": [
                          0.2936466344
                        ]
                      },
                      {
                        "learn": [
                          0.1842971323
                        ],
                        "iteration": 244,
                        "passed_time": 2.96570518,
                        "remaining_time": 33.34905213,
                        "test": [
                          0.2937987134
                        ]
                      },
                      {
                        "learn": [
                          0.1837993994
                        ],
                        "iteration": 245,
                        "passed_time": 2.982793246,
                        "remaining_time": 33.39273414,
                        "test": [
                          0.2937114042
                        ]
                      },
                      {
                        "learn": [
                          0.1834738415
                        ],
                        "iteration": 246,
                        "passed_time": 3.017248882,
                        "remaining_time": 33.62949867,
                        "test": [
                          0.2937318761
                        ]
                      },
                      {
                        "learn": [
                          0.1832114889
                        ],
                        "iteration": 247,
                        "passed_time": 3.039195551,
                        "remaining_time": 33.72526676,
                        "test": [
                          0.2937268091
                        ]
                      },
                      {
                        "learn": [
                          0.1828020708
                        ],
                        "iteration": 248,
                        "passed_time": 3.058764325,
                        "remaining_time": 33.7938179,
                        "test": [
                          0.2935820342
                        ]
                      },
                      {
                        "learn": [
                          0.1822713481
                        ],
                        "iteration": 249,
                        "passed_time": 3.076207766,
                        "remaining_time": 33.83828543,
                        "test": [
                          0.2933793231
                        ]
                      },
                      {
                        "learn": [
                          0.1817581129
                        ],
                        "iteration": 250,
                        "passed_time": 3.093857075,
                        "remaining_time": 33.88451433,
                        "test": [
                          0.293030044
                        ]
                      },
                      {
                        "learn": [
                          0.1814002308
                        ],
                        "iteration": 251,
                        "passed_time": 3.11054313,
                        "remaining_time": 33.91973223,
                        "test": [
                          0.2935880302
                        ]
                      },
                      {
                        "learn": [
                          0.1809885156
                        ],
                        "iteration": 252,
                        "passed_time": 3.127540103,
                        "remaining_time": 33.95791567,
                        "test": [
                          0.2936627651
                        ]
                      },
                      {
                        "learn": [
                          0.1804357482
                        ],
                        "iteration": 253,
                        "passed_time": 3.14866975,
                        "remaining_time": 34.04034305,
                        "test": [
                          0.2937908326
                        ]
                      },
                      {
                        "learn": [
                          0.1800882831
                        ],
                        "iteration": 254,
                        "passed_time": 3.16323594,
                        "remaining_time": 34.05130453,
                        "test": [
                          0.2938246764
                        ]
                      },
                      {
                        "learn": [
                          0.1797072647
                        ],
                        "iteration": 255,
                        "passed_time": 3.175916079,
                        "remaining_time": 34.04185047,
                        "test": [
                          0.2937880808
                        ]
                      },
                      {
                        "learn": [
                          0.1793682467
                        ],
                        "iteration": 256,
                        "passed_time": 3.189169832,
                        "remaining_time": 34.03849357,
                        "test": [
                          0.2938526581
                        ]
                      },
                      {
                        "learn": [
                          0.1788591067
                        ],
                        "iteration": 257,
                        "passed_time": 3.206827015,
                        "remaining_time": 34.0818592,
                        "test": [
                          0.2937372184
                        ]
                      },
                      {
                        "learn": [
                          0.1783070476
                        ],
                        "iteration": 258,
                        "passed_time": 3.227051019,
                        "remaining_time": 34.15191831,
                        "test": [
                          0.2933222572
                        ]
                      },
                      {
                        "learn": [
                          0.1779201665
                        ],
                        "iteration": 259,
                        "passed_time": 3.245115995,
                        "remaining_time": 34.1985301,
                        "test": [
                          0.2934051672
                        ]
                      },
                      {
                        "learn": [
                          0.1772146718
                        ],
                        "iteration": 260,
                        "passed_time": 3.262598176,
                        "remaining_time": 34.23853028,
                        "test": [
                          0.2938818832
                        ]
                      },
                      {
                        "learn": [
                          0.176949496
                        ],
                        "iteration": 261,
                        "passed_time": 3.284838247,
                        "remaining_time": 34.32781343,
                        "test": [
                          0.2941131098
                        ]
                      },
                      {
                        "learn": [
                          0.1765904682
                        ],
                        "iteration": 262,
                        "passed_time": 3.300201442,
                        "remaining_time": 34.34468192,
                        "test": [
                          0.2939865245
                        ]
                      },
                      {
                        "learn": [
                          0.1763435631
                        ],
                        "iteration": 263,
                        "passed_time": 3.318495077,
                        "remaining_time": 34.39167626,
                        "test": [
                          0.2941729943
                        ]
                      },
                      {
                        "learn": [
                          0.1758923136
                        ],
                        "iteration": 264,
                        "passed_time": 3.338766892,
                        "remaining_time": 34.45859415,
                        "test": [
                          0.2941426036
                        ]
                      },
                      {
                        "learn": [
                          0.1755028771
                        ],
                        "iteration": 265,
                        "passed_time": 3.357705934,
                        "remaining_time": 34.51115798,
                        "test": [
                          0.2938215761
                        ]
                      },
                      {
                        "learn": [
                          0.1752459109
                        ],
                        "iteration": 266,
                        "passed_time": 3.379598849,
                        "remaining_time": 34.59342192,
                        "test": [
                          0.2936619285
                        ]
                      },
                      {
                        "learn": [
                          0.1749024542
                        ],
                        "iteration": 267,
                        "passed_time": 3.396720982,
                        "remaining_time": 34.62627508,
                        "test": [
                          0.2937771267
                        ]
                      },
                      {
                        "learn": [
                          0.1744122665
                        ],
                        "iteration": 268,
                        "passed_time": 3.417135663,
                        "remaining_time": 34.692184,
                        "test": [
                          0.2942060633
                        ]
                      },
                      {
                        "learn": [
                          0.1741243947
                        ],
                        "iteration": 269,
                        "passed_time": 3.437226299,
                        "remaining_time": 34.75417702,
                        "test": [
                          0.2941835522
                        ]
                      },
                      {
                        "learn": [
                          0.1737667573
                        ],
                        "iteration": 270,
                        "passed_time": 3.456218759,
                        "remaining_time": 34.80450551,
                        "test": [
                          0.2942295293
                        ]
                      },
                      {
                        "learn": [
                          0.1734544792
                        ],
                        "iteration": 271,
                        "passed_time": 3.476337491,
                        "remaining_time": 34.86562013,
                        "test": [
                          0.2943593263
                        ]
                      },
                      {
                        "learn": [
                          0.1727281156
                        ],
                        "iteration": 272,
                        "passed_time": 3.493414499,
                        "remaining_time": 34.89575582,
                        "test": [
                          0.294484444
                        ]
                      },
                      {
                        "learn": [
                          0.1724009615
                        ],
                        "iteration": 273,
                        "passed_time": 3.511348402,
                        "remaining_time": 34.93407206,
                        "test": [
                          0.2943895094
                        ]
                      },
                      {
                        "learn": [
                          0.1719784685
                        ],
                        "iteration": 274,
                        "passed_time": 3.52961872,
                        "remaining_time": 34.97531277,
                        "test": [
                          0.2944471159
                        ]
                      },
                      {
                        "learn": [
                          0.1718047227
                        ],
                        "iteration": 275,
                        "passed_time": 3.5473142,
                        "remaining_time": 35.01044885,
                        "test": [
                          0.2943736723
                        ]
                      },
                      {
                        "learn": [
                          0.1714551442
                        ],
                        "iteration": 276,
                        "passed_time": 3.560462306,
                        "remaining_time": 35.0005013,
                        "test": [
                          0.2941888477
                        ]
                      },
                      {
                        "learn": [
                          0.1711778949
                        ],
                        "iteration": 277,
                        "passed_time": 3.574438728,
                        "remaining_time": 34.99864107,
                        "test": [
                          0.2942891935
                        ]
                      },
                      {
                        "learn": [
                          0.1708009435
                        ],
                        "iteration": 278,
                        "passed_time": 3.59165249,
                        "remaining_time": 35.02826676,
                        "test": [
                          0.2943786334
                        ]
                      },
                      {
                        "learn": [
                          0.1703060568
                        ],
                        "iteration": 279,
                        "passed_time": 3.612109505,
                        "remaining_time": 35.08906376,
                        "test": [
                          0.2941494379
                        ]
                      },
                      {
                        "learn": [
                          0.169874208
                        ],
                        "iteration": 280,
                        "passed_time": 3.630900182,
                        "remaining_time": 35.1331587,
                        "test": [
                          0.2940141725
                        ]
                      },
                      {
                        "learn": [
                          0.1695186107
                        ],
                        "iteration": 281,
                        "passed_time": 3.64985266,
                        "remaining_time": 35.17836712,
                        "test": [
                          0.2941027747
                        ]
                      },
                      {
                        "learn": [
                          0.1690085132
                        ],
                        "iteration": 282,
                        "passed_time": 3.667474673,
                        "remaining_time": 35.21034872,
                        "test": [
                          0.2936341623
                        ]
                      },
                      {
                        "learn": [
                          0.1683638227
                        ],
                        "iteration": 283,
                        "passed_time": 3.688997588,
                        "remaining_time": 35.27928679,
                        "test": [
                          0.2937325372
                        ]
                      },
                      {
                        "learn": [
                          0.1680653089
                        ],
                        "iteration": 284,
                        "passed_time": 3.707374811,
                        "remaining_time": 35.3176232,
                        "test": [
                          0.2939986311
                        ]
                      },
                      {
                        "learn": [
                          0.1677778253
                        ],
                        "iteration": 285,
                        "passed_time": 3.725398041,
                        "remaining_time": 35.35220378,
                        "test": [
                          0.2939334558
                        ]
                      },
                      {
                        "learn": [
                          0.1674020533
                        ],
                        "iteration": 286,
                        "passed_time": 3.744731508,
                        "remaining_time": 35.39880342,
                        "test": [
                          0.2935680933
                        ]
                      },
                      {
                        "learn": [
                          0.1669985851
                        ],
                        "iteration": 287,
                        "passed_time": 3.766057179,
                        "remaining_time": 35.46370511,
                        "test": [
                          0.293523646
                        ]
                      },
                      {
                        "learn": [
                          0.1667762251
                        ],
                        "iteration": 288,
                        "passed_time": 3.786035022,
                        "remaining_time": 35.51536659,
                        "test": [
                          0.2934791096
                        ]
                      },
                      {
                        "learn": [
                          0.1664697427
                        ],
                        "iteration": 289,
                        "passed_time": 3.808530823,
                        "remaining_time": 35.5900639,
                        "test": [
                          0.2935802767
                        ]
                      },
                      {
                        "learn": [
                          0.1661885043
                        ],
                        "iteration": 290,
                        "passed_time": 3.826977137,
                        "remaining_time": 35.62639541,
                        "test": [
                          0.2938853881
                        ]
                      },
                      {
                        "learn": [
                          0.1658402753
                        ],
                        "iteration": 291,
                        "passed_time": 3.847725547,
                        "remaining_time": 35.68370131,
                        "test": [
                          0.2938513201
                        ]
                      },
                      {
                        "learn": [
                          0.1655480631
                        ],
                        "iteration": 292,
                        "passed_time": 3.866483285,
                        "remaining_time": 35.72208278,
                        "test": [
                          0.2938769893
                        ]
                      },
                      {
                        "learn": [
                          0.1652377496
                        ],
                        "iteration": 293,
                        "passed_time": 3.881326578,
                        "remaining_time": 35.72404667,
                        "test": [
                          0.2939041889
                        ]
                      },
                      {
                        "learn": [
                          0.1649480188
                        ],
                        "iteration": 294,
                        "passed_time": 3.891134416,
                        "remaining_time": 35.67972405,
                        "test": [
                          0.2939627445
                        ]
                      },
                      {
                        "learn": [
                          0.1646921529
                        ],
                        "iteration": 295,
                        "passed_time": 3.900813255,
                        "remaining_time": 35.63445622,
                        "test": [
                          0.2940420004
                        ]
                      },
                      {
                        "learn": [
                          0.1642966469
                        ],
                        "iteration": 296,
                        "passed_time": 3.910392055,
                        "remaining_time": 35.58851759,
                        "test": [
                          0.2941131407
                        ]
                      },
                      {
                        "learn": [
                          0.163920346
                        ],
                        "iteration": 297,
                        "passed_time": 3.920023357,
                        "remaining_time": 35.54329903,
                        "test": [
                          0.2941432561
                        ]
                      },
                      {
                        "learn": [
                          0.1635300802
                        ],
                        "iteration": 298,
                        "passed_time": 3.929809288,
                        "remaining_time": 35.49971534,
                        "test": [
                          0.294055988
                        ]
                      },
                      {
                        "learn": [
                          0.1632236754
                        ],
                        "iteration": 299,
                        "passed_time": 3.939379415,
                        "remaining_time": 35.45441474,
                        "test": [
                          0.2939885478
                        ]
                      },
                      {
                        "learn": [
                          0.1628750871
                        ],
                        "iteration": 300,
                        "passed_time": 3.94911519,
                        "remaining_time": 35.41083687,
                        "test": [
                          0.2941726928
                        ]
                      },
                      {
                        "learn": [
                          0.1624523789
                        ],
                        "iteration": 301,
                        "passed_time": 3.959170334,
                        "remaining_time": 35.37033629,
                        "test": [
                          0.2945471352
                        ]
                      },
                      {
                        "learn": [
                          0.1622577248
                        ],
                        "iteration": 302,
                        "passed_time": 3.969616998,
                        "remaining_time": 35.3335216,
                        "test": [
                          0.2944134589
                        ]
                      },
                      {
                        "learn": [
                          0.1618760918
                        ],
                        "iteration": 303,
                        "passed_time": 3.979503775,
                        "remaining_time": 35.29191505,
                        "test": [
                          0.2943662524
                        ]
                      },
                      {
                        "learn": [
                          0.1616016358
                        ],
                        "iteration": 304,
                        "passed_time": 3.989884223,
                        "remaining_time": 35.25487863,
                        "test": [
                          0.2943439744
                        ]
                      },
                      {
                        "learn": [
                          0.1614610933
                        ],
                        "iteration": 305,
                        "passed_time": 4.008797103,
                        "remaining_time": 35.29313528,
                        "test": [
                          0.2941977123
                        ]
                      },
                      {
                        "learn": [
                          0.1608203034
                        ],
                        "iteration": 306,
                        "passed_time": 4.027020995,
                        "remaining_time": 35.3249757,
                        "test": [
                          0.2941233086
                        ]
                      },
                      {
                        "learn": [
                          0.1604867129
                        ],
                        "iteration": 307,
                        "passed_time": 4.036502843,
                        "remaining_time": 35.28008329,
                        "test": [
                          0.2936562237
                        ]
                      },
                      {
                        "learn": [
                          0.160294582
                        ],
                        "iteration": 308,
                        "passed_time": 4.046548972,
                        "remaining_time": 35.24033425,
                        "test": [
                          0.2938587618
                        ]
                      },
                      {
                        "learn": [
                          0.1598832062
                        ],
                        "iteration": 309,
                        "passed_time": 4.056861509,
                        "remaining_time": 35.20308858,
                        "test": [
                          0.293989722
                        ]
                      },
                      {
                        "learn": [
                          0.1591777742
                        ],
                        "iteration": 310,
                        "passed_time": 4.066644098,
                        "remaining_time": 35.16143402,
                        "test": [
                          0.2939979417
                        ]
                      },
                      {
                        "learn": [
                          0.1589919492
                        ],
                        "iteration": 311,
                        "passed_time": 4.076326498,
                        "remaining_time": 35.1191206,
                        "test": [
                          0.2940212475
                        ]
                      },
                      {
                        "learn": [
                          0.1586475602
                        ],
                        "iteration": 312,
                        "passed_time": 4.085752052,
                        "remaining_time": 35.07481074,
                        "test": [
                          0.2940070088
                        ]
                      },
                      {
                        "learn": [
                          0.1584316391
                        ],
                        "iteration": 313,
                        "passed_time": 4.097687952,
                        "remaining_time": 35.05219694,
                        "test": [
                          0.2940111529
                        ]
                      },
                      {
                        "learn": [
                          0.1580218948
                        ],
                        "iteration": 314,
                        "passed_time": 4.107310496,
                        "remaining_time": 35.00993232,
                        "test": [
                          0.2941137951
                        ]
                      },
                      {
                        "learn": [
                          0.1577876264
                        ],
                        "iteration": 315,
                        "passed_time": 4.117023214,
                        "remaining_time": 34.96864021,
                        "test": [
                          0.2940506859
                        ]
                      },
                      {
                        "learn": [
                          0.1575127562
                        ],
                        "iteration": 316,
                        "passed_time": 4.127031846,
                        "remaining_time": 34.93005187,
                        "test": [
                          0.2944424989
                        ]
                      },
                      {
                        "learn": [
                          0.1570750698
                        ],
                        "iteration": 317,
                        "passed_time": 4.137558046,
                        "remaining_time": 34.89600842,
                        "test": [
                          0.2946156401
                        ]
                      },
                      {
                        "learn": [
                          0.1567328156
                        ],
                        "iteration": 318,
                        "passed_time": 4.147872364,
                        "remaining_time": 34.86033169,
                        "test": [
                          0.294593784
                        ]
                      },
                      {
                        "learn": [
                          0.156251865
                        ],
                        "iteration": 319,
                        "passed_time": 4.160991969,
                        "remaining_time": 34.84830774,
                        "test": [
                          0.2946579396
                        ]
                      },
                      {
                        "learn": [
                          0.1559171703
                        ],
                        "iteration": 320,
                        "passed_time": 4.170621113,
                        "remaining_time": 34.8071463,
                        "test": [
                          0.2944300938
                        ]
                      },
                      {
                        "learn": [
                          0.1555914268
                        ],
                        "iteration": 321,
                        "passed_time": 4.180613482,
                        "remaining_time": 34.76920156,
                        "test": [
                          0.2944126256
                        ]
                      }
                    ],
                    "meta": {
                      "test_sets": [
                        "test"
                      ],
                      "test_metrics": [
                        {
                          "best_value": "Min",
                          "name": "MultiClass"
                        }
                      ],
                      "learn_metrics": [
                        {
                          "best_value": "Min",
                          "name": "MultiClass"
                        }
                      ],
                      "launch_mode": "Train",
                      "parameters": "",
                      "iteration_count": 3000,
                      "learn_sets": [
                        "learn"
                      ],
                      "name": "experiment"
                    }
                  }
                }
              }
            },
            "layout": "IPY_MODEL_4d8e9aadce544f2a816f9e82532161ed"
          }
        }
      }
    }
  },
  "nbformat": 4,
  "nbformat_minor": 0
}