{
  "cells": [
    {
      "cell_type": "markdown",
      "metadata": {
        "id": "_Yx1Mi7abuht"
      },
      "source": [
        "# План домашних заданий"
      ]
    },
    {
      "cell_type": "markdown",
      "source": [
        "\n",
        "- Описание задачи и знакомство с данными\n",
        "- Домашнее задание 1. Генерация и фильтрация признаков\n",
        "- Домашнее задание 2. Прогноз времени и вида поломки машин, настройка ML-модели\n",
        "- Дополнительное задание. Визуализация прогнозов, ошибок модели и важности признаков\n",
        "- Домашнее задание 3. Оптимизация. Тюнинг гиперпараметров с помощью `Optuna`\n",
        "- Домашнее задание 4. Блендинг\n",
        "- Домашнее задание 5. Парсинг внешних данных и оптимизация памяти\n",
        "- Отправка финального решения на лидерборд на Kaggle"
      ],
      "metadata": {
        "id": "_HK3X8tveQhH"
      }
    },
    {
      "cell_type": "code",
      "execution_count": 1,
      "metadata": {
        "tags": [],
        "id": "cfomgq3Sbuht"
      },
      "outputs": [],
      "source": [
        "import pandas as pd\n",
        "import numpy as np\n",
        "import matplotlib.pyplot as plt\n",
        "import seaborn as sns\n",
        "import sklearn"
      ]
    },
    {
      "cell_type": "markdown",
      "metadata": {
        "id": "fkeIBE5Kbuht"
      },
      "source": [
        "# <center id=\"part0\"> Описание задачи"
      ]
    },
    {
      "cell_type": "markdown",
      "metadata": {
        "id": "MKmknPZbbuht"
      },
      "source": [
        "**Предыстория:**  мы работаем с каршеринговой компанией, которая управляет крупным автопарком машин. Наша цель — предотвратить длительные периоды простоя машин из-за поломок через своевременное обслуживание и ремонт.\n",
        "\n",
        "\n",
        "**Идея для решения проблемы:** создать приоритизированный список обхода машин. Этот список поможет технической бригаде сосредоточиться на автомобилях, которые наиболее вероятно выйдут из строя в ближайшее время.\n",
        "\n",
        "\n",
        "**Как компания решает задачу:**\n",
        "\n",
        "* Собирает данные о поездках и состоянии машин до поломок.\n",
        "\n",
        "* Нанимает Data Scientist, чтобы он смог использовать эти данные для анализа и прогнозирования характера поломок.\n",
        "\n",
        "**Важный момент**: задачи этого специалиста (Data Scientist) предстоит выполнять вам."
      ]
    },
    {
      "cell_type": "markdown",
      "metadata": {
        "id": "-VMB1MVpbuhu"
      },
      "source": [
        "## <center> Знакомство с данными"
      ]
    },
    {
      "cell_type": "markdown",
      "metadata": {
        "id": "TtZE_Frrbuhu"
      },
      "source": [
        "### Информация про машины с таргетом (основной датасет)"
      ]
    },
    {
      "cell_type": "code",
      "execution_count": 2,
      "metadata": {
        "tags": [],
        "id": "DhA6zYqebuhu",
        "outputId": "6b9b3769-8e36-46c5-dcc6-efc77b421d8a",
        "colab": {
          "base_uri": "https://localhost:8080/",
          "height": 206
        }
      },
      "outputs": [
        {
          "output_type": "execute_result",
          "data": {
            "text/plain": [
              "          car_id            model  car_type fuel_type  car_rating  \\\n",
              "1081  f15758729f   Renault Kaptur  standart    petrol        3.26   \n",
              "2043  Q-2229156F     Smart ForTwo   economy    petrol        6.44   \n",
              "1515  A-1721538a      Skoda Rapid   economy    petrol        5.04   \n",
              "1855  C19987871T        Kia Rio X   economy    petrol        4.40   \n",
              "513   l57128172Q  Hyundai Solaris   economy    petrol        4.28   \n",
              "\n",
              "      year_to_start  riders  year_to_work  target_reg  target_class  \n",
              "1081           2015   76080          2017       37.40     break_bug  \n",
              "2043           2013   41238          2019       55.39  engine_check  \n",
              "1515           2017  125139          2018       37.15     break_bug  \n",
              "1855           2013   45516          2014       28.87    gear_stick  \n",
              "513            2013   39001          2019       24.38    gear_stick  "
            ],
            "text/html": [
              "\n",
              "  <div id=\"df-a95d598e-2451-4bcb-857a-7c24afede69a\" class=\"colab-df-container\">\n",
              "    <div>\n",
              "<style scoped>\n",
              "    .dataframe tbody tr th:only-of-type {\n",
              "        vertical-align: middle;\n",
              "    }\n",
              "\n",
              "    .dataframe tbody tr th {\n",
              "        vertical-align: top;\n",
              "    }\n",
              "\n",
              "    .dataframe thead th {\n",
              "        text-align: right;\n",
              "    }\n",
              "</style>\n",
              "<table border=\"1\" class=\"dataframe\">\n",
              "  <thead>\n",
              "    <tr style=\"text-align: right;\">\n",
              "      <th></th>\n",
              "      <th>car_id</th>\n",
              "      <th>model</th>\n",
              "      <th>car_type</th>\n",
              "      <th>fuel_type</th>\n",
              "      <th>car_rating</th>\n",
              "      <th>year_to_start</th>\n",
              "      <th>riders</th>\n",
              "      <th>year_to_work</th>\n",
              "      <th>target_reg</th>\n",
              "      <th>target_class</th>\n",
              "    </tr>\n",
              "  </thead>\n",
              "  <tbody>\n",
              "    <tr>\n",
              "      <th>1081</th>\n",
              "      <td>f15758729f</td>\n",
              "      <td>Renault Kaptur</td>\n",
              "      <td>standart</td>\n",
              "      <td>petrol</td>\n",
              "      <td>3.26</td>\n",
              "      <td>2015</td>\n",
              "      <td>76080</td>\n",
              "      <td>2017</td>\n",
              "      <td>37.40</td>\n",
              "      <td>break_bug</td>\n",
              "    </tr>\n",
              "    <tr>\n",
              "      <th>2043</th>\n",
              "      <td>Q-2229156F</td>\n",
              "      <td>Smart ForTwo</td>\n",
              "      <td>economy</td>\n",
              "      <td>petrol</td>\n",
              "      <td>6.44</td>\n",
              "      <td>2013</td>\n",
              "      <td>41238</td>\n",
              "      <td>2019</td>\n",
              "      <td>55.39</td>\n",
              "      <td>engine_check</td>\n",
              "    </tr>\n",
              "    <tr>\n",
              "      <th>1515</th>\n",
              "      <td>A-1721538a</td>\n",
              "      <td>Skoda Rapid</td>\n",
              "      <td>economy</td>\n",
              "      <td>petrol</td>\n",
              "      <td>5.04</td>\n",
              "      <td>2017</td>\n",
              "      <td>125139</td>\n",
              "      <td>2018</td>\n",
              "      <td>37.15</td>\n",
              "      <td>break_bug</td>\n",
              "    </tr>\n",
              "    <tr>\n",
              "      <th>1855</th>\n",
              "      <td>C19987871T</td>\n",
              "      <td>Kia Rio X</td>\n",
              "      <td>economy</td>\n",
              "      <td>petrol</td>\n",
              "      <td>4.40</td>\n",
              "      <td>2013</td>\n",
              "      <td>45516</td>\n",
              "      <td>2014</td>\n",
              "      <td>28.87</td>\n",
              "      <td>gear_stick</td>\n",
              "    </tr>\n",
              "    <tr>\n",
              "      <th>513</th>\n",
              "      <td>l57128172Q</td>\n",
              "      <td>Hyundai Solaris</td>\n",
              "      <td>economy</td>\n",
              "      <td>petrol</td>\n",
              "      <td>4.28</td>\n",
              "      <td>2013</td>\n",
              "      <td>39001</td>\n",
              "      <td>2019</td>\n",
              "      <td>24.38</td>\n",
              "      <td>gear_stick</td>\n",
              "    </tr>\n",
              "  </tbody>\n",
              "</table>\n",
              "</div>\n",
              "    <div class=\"colab-df-buttons\">\n",
              "\n",
              "  <div class=\"colab-df-container\">\n",
              "    <button class=\"colab-df-convert\" onclick=\"convertToInteractive('df-a95d598e-2451-4bcb-857a-7c24afede69a')\"\n",
              "            title=\"Convert this dataframe to an interactive table.\"\n",
              "            style=\"display:none;\">\n",
              "\n",
              "  <svg xmlns=\"http://www.w3.org/2000/svg\" height=\"24px\" viewBox=\"0 -960 960 960\">\n",
              "    <path d=\"M120-120v-720h720v720H120Zm60-500h600v-160H180v160Zm220 220h160v-160H400v160Zm0 220h160v-160H400v160ZM180-400h160v-160H180v160Zm440 0h160v-160H620v160ZM180-180h160v-160H180v160Zm440 0h160v-160H620v160Z\"/>\n",
              "  </svg>\n",
              "    </button>\n",
              "\n",
              "  <style>\n",
              "    .colab-df-container {\n",
              "      display:flex;\n",
              "      gap: 12px;\n",
              "    }\n",
              "\n",
              "    .colab-df-convert {\n",
              "      background-color: #E8F0FE;\n",
              "      border: none;\n",
              "      border-radius: 50%;\n",
              "      cursor: pointer;\n",
              "      display: none;\n",
              "      fill: #1967D2;\n",
              "      height: 32px;\n",
              "      padding: 0 0 0 0;\n",
              "      width: 32px;\n",
              "    }\n",
              "\n",
              "    .colab-df-convert:hover {\n",
              "      background-color: #E2EBFA;\n",
              "      box-shadow: 0px 1px 2px rgba(60, 64, 67, 0.3), 0px 1px 3px 1px rgba(60, 64, 67, 0.15);\n",
              "      fill: #174EA6;\n",
              "    }\n",
              "\n",
              "    .colab-df-buttons div {\n",
              "      margin-bottom: 4px;\n",
              "    }\n",
              "\n",
              "    [theme=dark] .colab-df-convert {\n",
              "      background-color: #3B4455;\n",
              "      fill: #D2E3FC;\n",
              "    }\n",
              "\n",
              "    [theme=dark] .colab-df-convert:hover {\n",
              "      background-color: #434B5C;\n",
              "      box-shadow: 0px 1px 3px 1px rgba(0, 0, 0, 0.15);\n",
              "      filter: drop-shadow(0px 1px 2px rgba(0, 0, 0, 0.3));\n",
              "      fill: #FFFFFF;\n",
              "    }\n",
              "  </style>\n",
              "\n",
              "    <script>\n",
              "      const buttonEl =\n",
              "        document.querySelector('#df-a95d598e-2451-4bcb-857a-7c24afede69a button.colab-df-convert');\n",
              "      buttonEl.style.display =\n",
              "        google.colab.kernel.accessAllowed ? 'block' : 'none';\n",
              "\n",
              "      async function convertToInteractive(key) {\n",
              "        const element = document.querySelector('#df-a95d598e-2451-4bcb-857a-7c24afede69a');\n",
              "        const dataTable =\n",
              "          await google.colab.kernel.invokeFunction('convertToInteractive',\n",
              "                                                    [key], {});\n",
              "        if (!dataTable) return;\n",
              "\n",
              "        const docLinkHtml = 'Like what you see? Visit the ' +\n",
              "          '<a target=\"_blank\" href=https://colab.research.google.com/notebooks/data_table.ipynb>data table notebook</a>'\n",
              "          + ' to learn more about interactive tables.';\n",
              "        element.innerHTML = '';\n",
              "        dataTable['output_type'] = 'display_data';\n",
              "        await google.colab.output.renderOutput(dataTable, element);\n",
              "        const docLink = document.createElement('div');\n",
              "        docLink.innerHTML = docLinkHtml;\n",
              "        element.appendChild(docLink);\n",
              "      }\n",
              "    </script>\n",
              "  </div>\n",
              "\n",
              "\n",
              "<div id=\"df-da5a6173-4c2e-43db-87e7-fa868cff3fda\">\n",
              "  <button class=\"colab-df-quickchart\" onclick=\"quickchart('df-da5a6173-4c2e-43db-87e7-fa868cff3fda')\"\n",
              "            title=\"Suggest charts\"\n",
              "            style=\"display:none;\">\n",
              "\n",
              "<svg xmlns=\"http://www.w3.org/2000/svg\" height=\"24px\"viewBox=\"0 0 24 24\"\n",
              "     width=\"24px\">\n",
              "    <g>\n",
              "        <path d=\"M19 3H5c-1.1 0-2 .9-2 2v14c0 1.1.9 2 2 2h14c1.1 0 2-.9 2-2V5c0-1.1-.9-2-2-2zM9 17H7v-7h2v7zm4 0h-2V7h2v10zm4 0h-2v-4h2v4z\"/>\n",
              "    </g>\n",
              "</svg>\n",
              "  </button>\n",
              "\n",
              "<style>\n",
              "  .colab-df-quickchart {\n",
              "      --bg-color: #E8F0FE;\n",
              "      --fill-color: #1967D2;\n",
              "      --hover-bg-color: #E2EBFA;\n",
              "      --hover-fill-color: #174EA6;\n",
              "      --disabled-fill-color: #AAA;\n",
              "      --disabled-bg-color: #DDD;\n",
              "  }\n",
              "\n",
              "  [theme=dark] .colab-df-quickchart {\n",
              "      --bg-color: #3B4455;\n",
              "      --fill-color: #D2E3FC;\n",
              "      --hover-bg-color: #434B5C;\n",
              "      --hover-fill-color: #FFFFFF;\n",
              "      --disabled-bg-color: #3B4455;\n",
              "      --disabled-fill-color: #666;\n",
              "  }\n",
              "\n",
              "  .colab-df-quickchart {\n",
              "    background-color: var(--bg-color);\n",
              "    border: none;\n",
              "    border-radius: 50%;\n",
              "    cursor: pointer;\n",
              "    display: none;\n",
              "    fill: var(--fill-color);\n",
              "    height: 32px;\n",
              "    padding: 0;\n",
              "    width: 32px;\n",
              "  }\n",
              "\n",
              "  .colab-df-quickchart:hover {\n",
              "    background-color: var(--hover-bg-color);\n",
              "    box-shadow: 0 1px 2px rgba(60, 64, 67, 0.3), 0 1px 3px 1px rgba(60, 64, 67, 0.15);\n",
              "    fill: var(--button-hover-fill-color);\n",
              "  }\n",
              "\n",
              "  .colab-df-quickchart-complete:disabled,\n",
              "  .colab-df-quickchart-complete:disabled:hover {\n",
              "    background-color: var(--disabled-bg-color);\n",
              "    fill: var(--disabled-fill-color);\n",
              "    box-shadow: none;\n",
              "  }\n",
              "\n",
              "  .colab-df-spinner {\n",
              "    border: 2px solid var(--fill-color);\n",
              "    border-color: transparent;\n",
              "    border-bottom-color: var(--fill-color);\n",
              "    animation:\n",
              "      spin 1s steps(1) infinite;\n",
              "  }\n",
              "\n",
              "  @keyframes spin {\n",
              "    0% {\n",
              "      border-color: transparent;\n",
              "      border-bottom-color: var(--fill-color);\n",
              "      border-left-color: var(--fill-color);\n",
              "    }\n",
              "    20% {\n",
              "      border-color: transparent;\n",
              "      border-left-color: var(--fill-color);\n",
              "      border-top-color: var(--fill-color);\n",
              "    }\n",
              "    30% {\n",
              "      border-color: transparent;\n",
              "      border-left-color: var(--fill-color);\n",
              "      border-top-color: var(--fill-color);\n",
              "      border-right-color: var(--fill-color);\n",
              "    }\n",
              "    40% {\n",
              "      border-color: transparent;\n",
              "      border-right-color: var(--fill-color);\n",
              "      border-top-color: var(--fill-color);\n",
              "    }\n",
              "    60% {\n",
              "      border-color: transparent;\n",
              "      border-right-color: var(--fill-color);\n",
              "    }\n",
              "    80% {\n",
              "      border-color: transparent;\n",
              "      border-right-color: var(--fill-color);\n",
              "      border-bottom-color: var(--fill-color);\n",
              "    }\n",
              "    90% {\n",
              "      border-color: transparent;\n",
              "      border-bottom-color: var(--fill-color);\n",
              "    }\n",
              "  }\n",
              "</style>\n",
              "\n",
              "  <script>\n",
              "    async function quickchart(key) {\n",
              "      const quickchartButtonEl =\n",
              "        document.querySelector('#' + key + ' button');\n",
              "      quickchartButtonEl.disabled = true;  // To prevent multiple clicks.\n",
              "      quickchartButtonEl.classList.add('colab-df-spinner');\n",
              "      try {\n",
              "        const charts = await google.colab.kernel.invokeFunction(\n",
              "            'suggestCharts', [key], {});\n",
              "      } catch (error) {\n",
              "        console.error('Error during call to suggestCharts:', error);\n",
              "      }\n",
              "      quickchartButtonEl.classList.remove('colab-df-spinner');\n",
              "      quickchartButtonEl.classList.add('colab-df-quickchart-complete');\n",
              "    }\n",
              "    (() => {\n",
              "      let quickchartButtonEl =\n",
              "        document.querySelector('#df-da5a6173-4c2e-43db-87e7-fa868cff3fda button');\n",
              "      quickchartButtonEl.style.display =\n",
              "        google.colab.kernel.accessAllowed ? 'block' : 'none';\n",
              "    })();\n",
              "  </script>\n",
              "</div>\n",
              "    </div>\n",
              "  </div>\n"
            ],
            "application/vnd.google.colaboratory.intrinsic+json": {
              "type": "dataframe",
              "summary": "{\n  \"name\": \"car_train\",\n  \"rows\": 5,\n  \"fields\": [\n    {\n      \"column\": \"car_id\",\n      \"properties\": {\n        \"dtype\": \"string\",\n        \"num_unique_values\": 5,\n        \"samples\": [\n          \"Q-2229156F\",\n          \"l57128172Q\",\n          \"A-1721538a\"\n        ],\n        \"semantic_type\": \"\",\n        \"description\": \"\"\n      }\n    },\n    {\n      \"column\": \"model\",\n      \"properties\": {\n        \"dtype\": \"string\",\n        \"num_unique_values\": 5,\n        \"samples\": [\n          \"Smart ForTwo\",\n          \"Hyundai Solaris\",\n          \"Skoda Rapid\"\n        ],\n        \"semantic_type\": \"\",\n        \"description\": \"\"\n      }\n    },\n    {\n      \"column\": \"car_type\",\n      \"properties\": {\n        \"dtype\": \"category\",\n        \"num_unique_values\": 2,\n        \"samples\": [\n          \"economy\",\n          \"standart\"\n        ],\n        \"semantic_type\": \"\",\n        \"description\": \"\"\n      }\n    },\n    {\n      \"column\": \"fuel_type\",\n      \"properties\": {\n        \"dtype\": \"category\",\n        \"num_unique_values\": 1,\n        \"samples\": [\n          \"petrol\"\n        ],\n        \"semantic_type\": \"\",\n        \"description\": \"\"\n      }\n    },\n    {\n      \"column\": \"car_rating\",\n      \"properties\": {\n        \"dtype\": \"number\",\n        \"std\": 1.170675018952741,\n        \"min\": 3.26,\n        \"max\": 6.44,\n        \"num_unique_values\": 5,\n        \"samples\": [\n          6.44\n        ],\n        \"semantic_type\": \"\",\n        \"description\": \"\"\n      }\n    },\n    {\n      \"column\": \"year_to_start\",\n      \"properties\": {\n        \"dtype\": \"number\",\n        \"std\": 1,\n        \"min\": 2013,\n        \"max\": 2017,\n        \"num_unique_values\": 3,\n        \"samples\": [\n          2015\n        ],\n        \"semantic_type\": \"\",\n        \"description\": \"\"\n      }\n    },\n    {\n      \"column\": \"riders\",\n      \"properties\": {\n        \"dtype\": \"number\",\n        \"std\": 36602,\n        \"min\": 39001,\n        \"max\": 125139,\n        \"num_unique_values\": 5,\n        \"samples\": [\n          41238\n        ],\n        \"semantic_type\": \"\",\n        \"description\": \"\"\n      }\n    },\n    {\n      \"column\": \"year_to_work\",\n      \"properties\": {\n        \"dtype\": \"number\",\n        \"std\": 2,\n        \"min\": 2014,\n        \"max\": 2019,\n        \"num_unique_values\": 4,\n        \"samples\": [\n          2019\n        ],\n        \"semantic_type\": \"\",\n        \"description\": \"\"\n      }\n    },\n    {\n      \"column\": \"target_reg\",\n      \"properties\": {\n        \"dtype\": \"number\",\n        \"std\": 11.864660551402219,\n        \"min\": 24.38,\n        \"max\": 55.39,\n        \"num_unique_values\": 5,\n        \"samples\": [\n          55.39\n        ],\n        \"semantic_type\": \"\",\n        \"description\": \"\"\n      }\n    },\n    {\n      \"column\": \"target_class\",\n      \"properties\": {\n        \"dtype\": \"string\",\n        \"num_unique_values\": 3,\n        \"samples\": [\n          \"break_bug\"\n        ],\n        \"semantic_type\": \"\",\n        \"description\": \"\"\n      }\n    }\n  ]\n}"
            }
          },
          "metadata": {},
          "execution_count": 2
        }
      ],
      "source": [
        "car_train = pd.read_csv('https://raw.githubusercontent.com/a-milenkin/Competitive_Data_Science/main/data/car_train.csv')\n",
        "car_train.sample(5)"
      ]
    },
    {
      "cell_type": "markdown",
      "metadata": {
        "id": "AWvQSnafbuhu"
      },
      "source": [
        "- `car_id` — идентификатор машины\n",
        "- `model` / `car_type` / `fuel_type` — марка, класс и тип топлива машины\n",
        "- `car_rating` / `riders` — общий рейтинг и общее число поездок к концу 2021 года\n",
        "- `year_to_start` / `year_to_work` — год выпуска машины и год начала работы в автопарке\n",
        "- `target_reg` — количество дней до поломки\n",
        "- `target_class` — класс поломки (всего 9 видов)"
      ]
    },
    {
      "cell_type": "markdown",
      "metadata": {
        "id": "6KWf2LgObuhu"
      },
      "source": [
        "### Информация про поездки"
      ]
    },
    {
      "cell_type": "code",
      "execution_count": 3,
      "metadata": {
        "tags": [],
        "id": "pDc5gXzbbuhu",
        "outputId": "cfdeb287-2637-4c5b-e83e-d0799c67d6a8",
        "colab": {
          "base_uri": "https://localhost:8080/",
          "height": 206
        }
      },
      "outputs": [
        {
          "output_type": "execute_result",
          "data": {
            "text/plain": [
              "           user_id      car_id ride_id   ride_date  rating  ride_duration  \\\n",
              "324235  S11442348n  X-1427883w     Q1i  2020-02-09    4.50             23   \n",
              "117222  c15075180a  I-4335350O     K1Y  2020-03-04    6.52             49   \n",
              "13424   j18514514F  A48818516t     P1c  2020-01-15    6.86             14   \n",
              "215054  B13425683U  P-2109405G     B1m  2020-03-28    5.63             65   \n",
              "605876  m74141088p  r-1060256J     C1Y  2020-01-05    5.70             15   \n",
              "\n",
              "        ride_cost  speed_avg   speed_max  stop_times     distance  refueling  \\\n",
              "324235        248         64  103.370445           0  1475.353180          0   \n",
              "117222        582         33   48.000000           1  1514.416430          0   \n",
              "13424         176         51   82.000000           0   601.257351          0   \n",
              "215054        515         36   73.007756           1   993.719716          0   \n",
              "605876        161         42   57.000000           0   583.100448          0   \n",
              "\n",
              "        user_ride_quality  deviation_normal  \n",
              "324235           4.446126             2.804  \n",
              "117222         -11.516885           -24.498  \n",
              "13424           -0.282004            -1.215  \n",
              "215054          17.399794             4.894  \n",
              "605876          -6.612612             0.001  "
            ],
            "text/html": [
              "\n",
              "  <div id=\"df-7cf9f611-ad53-4ec5-9a8c-0a2d0236c067\" class=\"colab-df-container\">\n",
              "    <div>\n",
              "<style scoped>\n",
              "    .dataframe tbody tr th:only-of-type {\n",
              "        vertical-align: middle;\n",
              "    }\n",
              "\n",
              "    .dataframe tbody tr th {\n",
              "        vertical-align: top;\n",
              "    }\n",
              "\n",
              "    .dataframe thead th {\n",
              "        text-align: right;\n",
              "    }\n",
              "</style>\n",
              "<table border=\"1\" class=\"dataframe\">\n",
              "  <thead>\n",
              "    <tr style=\"text-align: right;\">\n",
              "      <th></th>\n",
              "      <th>user_id</th>\n",
              "      <th>car_id</th>\n",
              "      <th>ride_id</th>\n",
              "      <th>ride_date</th>\n",
              "      <th>rating</th>\n",
              "      <th>ride_duration</th>\n",
              "      <th>ride_cost</th>\n",
              "      <th>speed_avg</th>\n",
              "      <th>speed_max</th>\n",
              "      <th>stop_times</th>\n",
              "      <th>distance</th>\n",
              "      <th>refueling</th>\n",
              "      <th>user_ride_quality</th>\n",
              "      <th>deviation_normal</th>\n",
              "    </tr>\n",
              "  </thead>\n",
              "  <tbody>\n",
              "    <tr>\n",
              "      <th>324235</th>\n",
              "      <td>S11442348n</td>\n",
              "      <td>X-1427883w</td>\n",
              "      <td>Q1i</td>\n",
              "      <td>2020-02-09</td>\n",
              "      <td>4.50</td>\n",
              "      <td>23</td>\n",
              "      <td>248</td>\n",
              "      <td>64</td>\n",
              "      <td>103.370445</td>\n",
              "      <td>0</td>\n",
              "      <td>1475.353180</td>\n",
              "      <td>0</td>\n",
              "      <td>4.446126</td>\n",
              "      <td>2.804</td>\n",
              "    </tr>\n",
              "    <tr>\n",
              "      <th>117222</th>\n",
              "      <td>c15075180a</td>\n",
              "      <td>I-4335350O</td>\n",
              "      <td>K1Y</td>\n",
              "      <td>2020-03-04</td>\n",
              "      <td>6.52</td>\n",
              "      <td>49</td>\n",
              "      <td>582</td>\n",
              "      <td>33</td>\n",
              "      <td>48.000000</td>\n",
              "      <td>1</td>\n",
              "      <td>1514.416430</td>\n",
              "      <td>0</td>\n",
              "      <td>-11.516885</td>\n",
              "      <td>-24.498</td>\n",
              "    </tr>\n",
              "    <tr>\n",
              "      <th>13424</th>\n",
              "      <td>j18514514F</td>\n",
              "      <td>A48818516t</td>\n",
              "      <td>P1c</td>\n",
              "      <td>2020-01-15</td>\n",
              "      <td>6.86</td>\n",
              "      <td>14</td>\n",
              "      <td>176</td>\n",
              "      <td>51</td>\n",
              "      <td>82.000000</td>\n",
              "      <td>0</td>\n",
              "      <td>601.257351</td>\n",
              "      <td>0</td>\n",
              "      <td>-0.282004</td>\n",
              "      <td>-1.215</td>\n",
              "    </tr>\n",
              "    <tr>\n",
              "      <th>215054</th>\n",
              "      <td>B13425683U</td>\n",
              "      <td>P-2109405G</td>\n",
              "      <td>B1m</td>\n",
              "      <td>2020-03-28</td>\n",
              "      <td>5.63</td>\n",
              "      <td>65</td>\n",
              "      <td>515</td>\n",
              "      <td>36</td>\n",
              "      <td>73.007756</td>\n",
              "      <td>1</td>\n",
              "      <td>993.719716</td>\n",
              "      <td>0</td>\n",
              "      <td>17.399794</td>\n",
              "      <td>4.894</td>\n",
              "    </tr>\n",
              "    <tr>\n",
              "      <th>605876</th>\n",
              "      <td>m74141088p</td>\n",
              "      <td>r-1060256J</td>\n",
              "      <td>C1Y</td>\n",
              "      <td>2020-01-05</td>\n",
              "      <td>5.70</td>\n",
              "      <td>15</td>\n",
              "      <td>161</td>\n",
              "      <td>42</td>\n",
              "      <td>57.000000</td>\n",
              "      <td>0</td>\n",
              "      <td>583.100448</td>\n",
              "      <td>0</td>\n",
              "      <td>-6.612612</td>\n",
              "      <td>0.001</td>\n",
              "    </tr>\n",
              "  </tbody>\n",
              "</table>\n",
              "</div>\n",
              "    <div class=\"colab-df-buttons\">\n",
              "\n",
              "  <div class=\"colab-df-container\">\n",
              "    <button class=\"colab-df-convert\" onclick=\"convertToInteractive('df-7cf9f611-ad53-4ec5-9a8c-0a2d0236c067')\"\n",
              "            title=\"Convert this dataframe to an interactive table.\"\n",
              "            style=\"display:none;\">\n",
              "\n",
              "  <svg xmlns=\"http://www.w3.org/2000/svg\" height=\"24px\" viewBox=\"0 -960 960 960\">\n",
              "    <path d=\"M120-120v-720h720v720H120Zm60-500h600v-160H180v160Zm220 220h160v-160H400v160Zm0 220h160v-160H400v160ZM180-400h160v-160H180v160Zm440 0h160v-160H620v160ZM180-180h160v-160H180v160Zm440 0h160v-160H620v160Z\"/>\n",
              "  </svg>\n",
              "    </button>\n",
              "\n",
              "  <style>\n",
              "    .colab-df-container {\n",
              "      display:flex;\n",
              "      gap: 12px;\n",
              "    }\n",
              "\n",
              "    .colab-df-convert {\n",
              "      background-color: #E8F0FE;\n",
              "      border: none;\n",
              "      border-radius: 50%;\n",
              "      cursor: pointer;\n",
              "      display: none;\n",
              "      fill: #1967D2;\n",
              "      height: 32px;\n",
              "      padding: 0 0 0 0;\n",
              "      width: 32px;\n",
              "    }\n",
              "\n",
              "    .colab-df-convert:hover {\n",
              "      background-color: #E2EBFA;\n",
              "      box-shadow: 0px 1px 2px rgba(60, 64, 67, 0.3), 0px 1px 3px 1px rgba(60, 64, 67, 0.15);\n",
              "      fill: #174EA6;\n",
              "    }\n",
              "\n",
              "    .colab-df-buttons div {\n",
              "      margin-bottom: 4px;\n",
              "    }\n",
              "\n",
              "    [theme=dark] .colab-df-convert {\n",
              "      background-color: #3B4455;\n",
              "      fill: #D2E3FC;\n",
              "    }\n",
              "\n",
              "    [theme=dark] .colab-df-convert:hover {\n",
              "      background-color: #434B5C;\n",
              "      box-shadow: 0px 1px 3px 1px rgba(0, 0, 0, 0.15);\n",
              "      filter: drop-shadow(0px 1px 2px rgba(0, 0, 0, 0.3));\n",
              "      fill: #FFFFFF;\n",
              "    }\n",
              "  </style>\n",
              "\n",
              "    <script>\n",
              "      const buttonEl =\n",
              "        document.querySelector('#df-7cf9f611-ad53-4ec5-9a8c-0a2d0236c067 button.colab-df-convert');\n",
              "      buttonEl.style.display =\n",
              "        google.colab.kernel.accessAllowed ? 'block' : 'none';\n",
              "\n",
              "      async function convertToInteractive(key) {\n",
              "        const element = document.querySelector('#df-7cf9f611-ad53-4ec5-9a8c-0a2d0236c067');\n",
              "        const dataTable =\n",
              "          await google.colab.kernel.invokeFunction('convertToInteractive',\n",
              "                                                    [key], {});\n",
              "        if (!dataTable) return;\n",
              "\n",
              "        const docLinkHtml = 'Like what you see? Visit the ' +\n",
              "          '<a target=\"_blank\" href=https://colab.research.google.com/notebooks/data_table.ipynb>data table notebook</a>'\n",
              "          + ' to learn more about interactive tables.';\n",
              "        element.innerHTML = '';\n",
              "        dataTable['output_type'] = 'display_data';\n",
              "        await google.colab.output.renderOutput(dataTable, element);\n",
              "        const docLink = document.createElement('div');\n",
              "        docLink.innerHTML = docLinkHtml;\n",
              "        element.appendChild(docLink);\n",
              "      }\n",
              "    </script>\n",
              "  </div>\n",
              "\n",
              "\n",
              "<div id=\"df-db176d9f-806e-41c1-9595-a823dd44d757\">\n",
              "  <button class=\"colab-df-quickchart\" onclick=\"quickchart('df-db176d9f-806e-41c1-9595-a823dd44d757')\"\n",
              "            title=\"Suggest charts\"\n",
              "            style=\"display:none;\">\n",
              "\n",
              "<svg xmlns=\"http://www.w3.org/2000/svg\" height=\"24px\"viewBox=\"0 0 24 24\"\n",
              "     width=\"24px\">\n",
              "    <g>\n",
              "        <path d=\"M19 3H5c-1.1 0-2 .9-2 2v14c0 1.1.9 2 2 2h14c1.1 0 2-.9 2-2V5c0-1.1-.9-2-2-2zM9 17H7v-7h2v7zm4 0h-2V7h2v10zm4 0h-2v-4h2v4z\"/>\n",
              "    </g>\n",
              "</svg>\n",
              "  </button>\n",
              "\n",
              "<style>\n",
              "  .colab-df-quickchart {\n",
              "      --bg-color: #E8F0FE;\n",
              "      --fill-color: #1967D2;\n",
              "      --hover-bg-color: #E2EBFA;\n",
              "      --hover-fill-color: #174EA6;\n",
              "      --disabled-fill-color: #AAA;\n",
              "      --disabled-bg-color: #DDD;\n",
              "  }\n",
              "\n",
              "  [theme=dark] .colab-df-quickchart {\n",
              "      --bg-color: #3B4455;\n",
              "      --fill-color: #D2E3FC;\n",
              "      --hover-bg-color: #434B5C;\n",
              "      --hover-fill-color: #FFFFFF;\n",
              "      --disabled-bg-color: #3B4455;\n",
              "      --disabled-fill-color: #666;\n",
              "  }\n",
              "\n",
              "  .colab-df-quickchart {\n",
              "    background-color: var(--bg-color);\n",
              "    border: none;\n",
              "    border-radius: 50%;\n",
              "    cursor: pointer;\n",
              "    display: none;\n",
              "    fill: var(--fill-color);\n",
              "    height: 32px;\n",
              "    padding: 0;\n",
              "    width: 32px;\n",
              "  }\n",
              "\n",
              "  .colab-df-quickchart:hover {\n",
              "    background-color: var(--hover-bg-color);\n",
              "    box-shadow: 0 1px 2px rgba(60, 64, 67, 0.3), 0 1px 3px 1px rgba(60, 64, 67, 0.15);\n",
              "    fill: var(--button-hover-fill-color);\n",
              "  }\n",
              "\n",
              "  .colab-df-quickchart-complete:disabled,\n",
              "  .colab-df-quickchart-complete:disabled:hover {\n",
              "    background-color: var(--disabled-bg-color);\n",
              "    fill: var(--disabled-fill-color);\n",
              "    box-shadow: none;\n",
              "  }\n",
              "\n",
              "  .colab-df-spinner {\n",
              "    border: 2px solid var(--fill-color);\n",
              "    border-color: transparent;\n",
              "    border-bottom-color: var(--fill-color);\n",
              "    animation:\n",
              "      spin 1s steps(1) infinite;\n",
              "  }\n",
              "\n",
              "  @keyframes spin {\n",
              "    0% {\n",
              "      border-color: transparent;\n",
              "      border-bottom-color: var(--fill-color);\n",
              "      border-left-color: var(--fill-color);\n",
              "    }\n",
              "    20% {\n",
              "      border-color: transparent;\n",
              "      border-left-color: var(--fill-color);\n",
              "      border-top-color: var(--fill-color);\n",
              "    }\n",
              "    30% {\n",
              "      border-color: transparent;\n",
              "      border-left-color: var(--fill-color);\n",
              "      border-top-color: var(--fill-color);\n",
              "      border-right-color: var(--fill-color);\n",
              "    }\n",
              "    40% {\n",
              "      border-color: transparent;\n",
              "      border-right-color: var(--fill-color);\n",
              "      border-top-color: var(--fill-color);\n",
              "    }\n",
              "    60% {\n",
              "      border-color: transparent;\n",
              "      border-right-color: var(--fill-color);\n",
              "    }\n",
              "    80% {\n",
              "      border-color: transparent;\n",
              "      border-right-color: var(--fill-color);\n",
              "      border-bottom-color: var(--fill-color);\n",
              "    }\n",
              "    90% {\n",
              "      border-color: transparent;\n",
              "      border-bottom-color: var(--fill-color);\n",
              "    }\n",
              "  }\n",
              "</style>\n",
              "\n",
              "  <script>\n",
              "    async function quickchart(key) {\n",
              "      const quickchartButtonEl =\n",
              "        document.querySelector('#' + key + ' button');\n",
              "      quickchartButtonEl.disabled = true;  // To prevent multiple clicks.\n",
              "      quickchartButtonEl.classList.add('colab-df-spinner');\n",
              "      try {\n",
              "        const charts = await google.colab.kernel.invokeFunction(\n",
              "            'suggestCharts', [key], {});\n",
              "      } catch (error) {\n",
              "        console.error('Error during call to suggestCharts:', error);\n",
              "      }\n",
              "      quickchartButtonEl.classList.remove('colab-df-spinner');\n",
              "      quickchartButtonEl.classList.add('colab-df-quickchart-complete');\n",
              "    }\n",
              "    (() => {\n",
              "      let quickchartButtonEl =\n",
              "        document.querySelector('#df-db176d9f-806e-41c1-9595-a823dd44d757 button');\n",
              "      quickchartButtonEl.style.display =\n",
              "        google.colab.kernel.accessAllowed ? 'block' : 'none';\n",
              "    })();\n",
              "  </script>\n",
              "</div>\n",
              "    </div>\n",
              "  </div>\n"
            ],
            "application/vnd.google.colaboratory.intrinsic+json": {
              "type": "dataframe",
              "repr_error": "0"
            }
          },
          "metadata": {},
          "execution_count": 3
        }
      ],
      "source": [
        "rides_info = pd.read_csv('https://raw.githubusercontent.com/a-milenkin/Competitive_Data_Science/main/data/rides_info.csv')\n",
        "rides_info.sample(5)"
      ]
    },
    {
      "cell_type": "markdown",
      "metadata": {
        "id": "ZAn8S24sbuhv"
      },
      "source": [
        "- `user_id` / `car_id` / `ride_id` — идентификаторы водителя, машины, поездки соответственно\n",
        "- `ride_date` / `rating` — дата поездки и рейтинг, поставленный водителем\n",
        "- `ride_duration` / `distance` / `ride_cost` —  длительность (время),  пройденное расстояние, стоимость поездки\n",
        "- `speed_avg` / `speed_max` — средняя и максимальная скорости поездки соответственно\n",
        "- `stop_times` / `refueling` — количество остановок (паузы) и флаг: была ли дозаправка\n",
        "- `user_ride_quality` — оценка манеры вождения водителя машины, определенная скоринговой ML-системой сервиса\n",
        "- `deviation_normal` — общий показатель датчиков о состоянии машины, относительно эталонных показателей (нормы)"
      ]
    },
    {
      "cell_type": "markdown",
      "metadata": {
        "id": "O0Onuz4ybuhv"
      },
      "source": [
        "### Информация про водителей"
      ]
    },
    {
      "cell_type": "code",
      "execution_count": 4,
      "metadata": {
        "tags": [],
        "id": "WBEvQXhxbuhv",
        "outputId": "ee38814e-a334-44f6-92cd-dcf969e5313f",
        "colab": {
          "base_uri": "https://localhost:8080/",
          "height": 206
        }
      },
      "outputs": [
        {
          "output_type": "execute_result",
          "data": {
            "text/plain": [
              "      age  user_rating  user_rides  user_time_accident     user_id  sex  \\\n",
              "1448   39          8.7        1119                14.0  p16070296i    0   \n",
              "8036   31          8.4        1103                25.0  a22410048T    1   \n",
              "5711   24          7.4        1073                 3.0  K30539321C    1   \n",
              "9162   41          8.8         870                13.0  K21729961e    0   \n",
              "8770   31          8.1        1817                 8.0  A13922014u    0   \n",
              "\n",
              "     first_ride_date  \n",
              "1448       2019-1-23  \n",
              "8036       2020-12-1  \n",
              "5711      2020-11-21  \n",
              "9162       2020-9-27  \n",
              "8770       2018-4-25  "
            ],
            "text/html": [
              "\n",
              "  <div id=\"df-215a6567-abee-43d9-aee2-8e4f2bbc3828\" class=\"colab-df-container\">\n",
              "    <div>\n",
              "<style scoped>\n",
              "    .dataframe tbody tr th:only-of-type {\n",
              "        vertical-align: middle;\n",
              "    }\n",
              "\n",
              "    .dataframe tbody tr th {\n",
              "        vertical-align: top;\n",
              "    }\n",
              "\n",
              "    .dataframe thead th {\n",
              "        text-align: right;\n",
              "    }\n",
              "</style>\n",
              "<table border=\"1\" class=\"dataframe\">\n",
              "  <thead>\n",
              "    <tr style=\"text-align: right;\">\n",
              "      <th></th>\n",
              "      <th>age</th>\n",
              "      <th>user_rating</th>\n",
              "      <th>user_rides</th>\n",
              "      <th>user_time_accident</th>\n",
              "      <th>user_id</th>\n",
              "      <th>sex</th>\n",
              "      <th>first_ride_date</th>\n",
              "    </tr>\n",
              "  </thead>\n",
              "  <tbody>\n",
              "    <tr>\n",
              "      <th>1448</th>\n",
              "      <td>39</td>\n",
              "      <td>8.7</td>\n",
              "      <td>1119</td>\n",
              "      <td>14.0</td>\n",
              "      <td>p16070296i</td>\n",
              "      <td>0</td>\n",
              "      <td>2019-1-23</td>\n",
              "    </tr>\n",
              "    <tr>\n",
              "      <th>8036</th>\n",
              "      <td>31</td>\n",
              "      <td>8.4</td>\n",
              "      <td>1103</td>\n",
              "      <td>25.0</td>\n",
              "      <td>a22410048T</td>\n",
              "      <td>1</td>\n",
              "      <td>2020-12-1</td>\n",
              "    </tr>\n",
              "    <tr>\n",
              "      <th>5711</th>\n",
              "      <td>24</td>\n",
              "      <td>7.4</td>\n",
              "      <td>1073</td>\n",
              "      <td>3.0</td>\n",
              "      <td>K30539321C</td>\n",
              "      <td>1</td>\n",
              "      <td>2020-11-21</td>\n",
              "    </tr>\n",
              "    <tr>\n",
              "      <th>9162</th>\n",
              "      <td>41</td>\n",
              "      <td>8.8</td>\n",
              "      <td>870</td>\n",
              "      <td>13.0</td>\n",
              "      <td>K21729961e</td>\n",
              "      <td>0</td>\n",
              "      <td>2020-9-27</td>\n",
              "    </tr>\n",
              "    <tr>\n",
              "      <th>8770</th>\n",
              "      <td>31</td>\n",
              "      <td>8.1</td>\n",
              "      <td>1817</td>\n",
              "      <td>8.0</td>\n",
              "      <td>A13922014u</td>\n",
              "      <td>0</td>\n",
              "      <td>2018-4-25</td>\n",
              "    </tr>\n",
              "  </tbody>\n",
              "</table>\n",
              "</div>\n",
              "    <div class=\"colab-df-buttons\">\n",
              "\n",
              "  <div class=\"colab-df-container\">\n",
              "    <button class=\"colab-df-convert\" onclick=\"convertToInteractive('df-215a6567-abee-43d9-aee2-8e4f2bbc3828')\"\n",
              "            title=\"Convert this dataframe to an interactive table.\"\n",
              "            style=\"display:none;\">\n",
              "\n",
              "  <svg xmlns=\"http://www.w3.org/2000/svg\" height=\"24px\" viewBox=\"0 -960 960 960\">\n",
              "    <path d=\"M120-120v-720h720v720H120Zm60-500h600v-160H180v160Zm220 220h160v-160H400v160Zm0 220h160v-160H400v160ZM180-400h160v-160H180v160Zm440 0h160v-160H620v160ZM180-180h160v-160H180v160Zm440 0h160v-160H620v160Z\"/>\n",
              "  </svg>\n",
              "    </button>\n",
              "\n",
              "  <style>\n",
              "    .colab-df-container {\n",
              "      display:flex;\n",
              "      gap: 12px;\n",
              "    }\n",
              "\n",
              "    .colab-df-convert {\n",
              "      background-color: #E8F0FE;\n",
              "      border: none;\n",
              "      border-radius: 50%;\n",
              "      cursor: pointer;\n",
              "      display: none;\n",
              "      fill: #1967D2;\n",
              "      height: 32px;\n",
              "      padding: 0 0 0 0;\n",
              "      width: 32px;\n",
              "    }\n",
              "\n",
              "    .colab-df-convert:hover {\n",
              "      background-color: #E2EBFA;\n",
              "      box-shadow: 0px 1px 2px rgba(60, 64, 67, 0.3), 0px 1px 3px 1px rgba(60, 64, 67, 0.15);\n",
              "      fill: #174EA6;\n",
              "    }\n",
              "\n",
              "    .colab-df-buttons div {\n",
              "      margin-bottom: 4px;\n",
              "    }\n",
              "\n",
              "    [theme=dark] .colab-df-convert {\n",
              "      background-color: #3B4455;\n",
              "      fill: #D2E3FC;\n",
              "    }\n",
              "\n",
              "    [theme=dark] .colab-df-convert:hover {\n",
              "      background-color: #434B5C;\n",
              "      box-shadow: 0px 1px 3px 1px rgba(0, 0, 0, 0.15);\n",
              "      filter: drop-shadow(0px 1px 2px rgba(0, 0, 0, 0.3));\n",
              "      fill: #FFFFFF;\n",
              "    }\n",
              "  </style>\n",
              "\n",
              "    <script>\n",
              "      const buttonEl =\n",
              "        document.querySelector('#df-215a6567-abee-43d9-aee2-8e4f2bbc3828 button.colab-df-convert');\n",
              "      buttonEl.style.display =\n",
              "        google.colab.kernel.accessAllowed ? 'block' : 'none';\n",
              "\n",
              "      async function convertToInteractive(key) {\n",
              "        const element = document.querySelector('#df-215a6567-abee-43d9-aee2-8e4f2bbc3828');\n",
              "        const dataTable =\n",
              "          await google.colab.kernel.invokeFunction('convertToInteractive',\n",
              "                                                    [key], {});\n",
              "        if (!dataTable) return;\n",
              "\n",
              "        const docLinkHtml = 'Like what you see? Visit the ' +\n",
              "          '<a target=\"_blank\" href=https://colab.research.google.com/notebooks/data_table.ipynb>data table notebook</a>'\n",
              "          + ' to learn more about interactive tables.';\n",
              "        element.innerHTML = '';\n",
              "        dataTable['output_type'] = 'display_data';\n",
              "        await google.colab.output.renderOutput(dataTable, element);\n",
              "        const docLink = document.createElement('div');\n",
              "        docLink.innerHTML = docLinkHtml;\n",
              "        element.appendChild(docLink);\n",
              "      }\n",
              "    </script>\n",
              "  </div>\n",
              "\n",
              "\n",
              "<div id=\"df-1bf51d10-0af8-4599-8868-b0a0fba67c73\">\n",
              "  <button class=\"colab-df-quickchart\" onclick=\"quickchart('df-1bf51d10-0af8-4599-8868-b0a0fba67c73')\"\n",
              "            title=\"Suggest charts\"\n",
              "            style=\"display:none;\">\n",
              "\n",
              "<svg xmlns=\"http://www.w3.org/2000/svg\" height=\"24px\"viewBox=\"0 0 24 24\"\n",
              "     width=\"24px\">\n",
              "    <g>\n",
              "        <path d=\"M19 3H5c-1.1 0-2 .9-2 2v14c0 1.1.9 2 2 2h14c1.1 0 2-.9 2-2V5c0-1.1-.9-2-2-2zM9 17H7v-7h2v7zm4 0h-2V7h2v10zm4 0h-2v-4h2v4z\"/>\n",
              "    </g>\n",
              "</svg>\n",
              "  </button>\n",
              "\n",
              "<style>\n",
              "  .colab-df-quickchart {\n",
              "      --bg-color: #E8F0FE;\n",
              "      --fill-color: #1967D2;\n",
              "      --hover-bg-color: #E2EBFA;\n",
              "      --hover-fill-color: #174EA6;\n",
              "      --disabled-fill-color: #AAA;\n",
              "      --disabled-bg-color: #DDD;\n",
              "  }\n",
              "\n",
              "  [theme=dark] .colab-df-quickchart {\n",
              "      --bg-color: #3B4455;\n",
              "      --fill-color: #D2E3FC;\n",
              "      --hover-bg-color: #434B5C;\n",
              "      --hover-fill-color: #FFFFFF;\n",
              "      --disabled-bg-color: #3B4455;\n",
              "      --disabled-fill-color: #666;\n",
              "  }\n",
              "\n",
              "  .colab-df-quickchart {\n",
              "    background-color: var(--bg-color);\n",
              "    border: none;\n",
              "    border-radius: 50%;\n",
              "    cursor: pointer;\n",
              "    display: none;\n",
              "    fill: var(--fill-color);\n",
              "    height: 32px;\n",
              "    padding: 0;\n",
              "    width: 32px;\n",
              "  }\n",
              "\n",
              "  .colab-df-quickchart:hover {\n",
              "    background-color: var(--hover-bg-color);\n",
              "    box-shadow: 0 1px 2px rgba(60, 64, 67, 0.3), 0 1px 3px 1px rgba(60, 64, 67, 0.15);\n",
              "    fill: var(--button-hover-fill-color);\n",
              "  }\n",
              "\n",
              "  .colab-df-quickchart-complete:disabled,\n",
              "  .colab-df-quickchart-complete:disabled:hover {\n",
              "    background-color: var(--disabled-bg-color);\n",
              "    fill: var(--disabled-fill-color);\n",
              "    box-shadow: none;\n",
              "  }\n",
              "\n",
              "  .colab-df-spinner {\n",
              "    border: 2px solid var(--fill-color);\n",
              "    border-color: transparent;\n",
              "    border-bottom-color: var(--fill-color);\n",
              "    animation:\n",
              "      spin 1s steps(1) infinite;\n",
              "  }\n",
              "\n",
              "  @keyframes spin {\n",
              "    0% {\n",
              "      border-color: transparent;\n",
              "      border-bottom-color: var(--fill-color);\n",
              "      border-left-color: var(--fill-color);\n",
              "    }\n",
              "    20% {\n",
              "      border-color: transparent;\n",
              "      border-left-color: var(--fill-color);\n",
              "      border-top-color: var(--fill-color);\n",
              "    }\n",
              "    30% {\n",
              "      border-color: transparent;\n",
              "      border-left-color: var(--fill-color);\n",
              "      border-top-color: var(--fill-color);\n",
              "      border-right-color: var(--fill-color);\n",
              "    }\n",
              "    40% {\n",
              "      border-color: transparent;\n",
              "      border-right-color: var(--fill-color);\n",
              "      border-top-color: var(--fill-color);\n",
              "    }\n",
              "    60% {\n",
              "      border-color: transparent;\n",
              "      border-right-color: var(--fill-color);\n",
              "    }\n",
              "    80% {\n",
              "      border-color: transparent;\n",
              "      border-right-color: var(--fill-color);\n",
              "      border-bottom-color: var(--fill-color);\n",
              "    }\n",
              "    90% {\n",
              "      border-color: transparent;\n",
              "      border-bottom-color: var(--fill-color);\n",
              "    }\n",
              "  }\n",
              "</style>\n",
              "\n",
              "  <script>\n",
              "    async function quickchart(key) {\n",
              "      const quickchartButtonEl =\n",
              "        document.querySelector('#' + key + ' button');\n",
              "      quickchartButtonEl.disabled = true;  // To prevent multiple clicks.\n",
              "      quickchartButtonEl.classList.add('colab-df-spinner');\n",
              "      try {\n",
              "        const charts = await google.colab.kernel.invokeFunction(\n",
              "            'suggestCharts', [key], {});\n",
              "      } catch (error) {\n",
              "        console.error('Error during call to suggestCharts:', error);\n",
              "      }\n",
              "      quickchartButtonEl.classList.remove('colab-df-spinner');\n",
              "      quickchartButtonEl.classList.add('colab-df-quickchart-complete');\n",
              "    }\n",
              "    (() => {\n",
              "      let quickchartButtonEl =\n",
              "        document.querySelector('#df-1bf51d10-0af8-4599-8868-b0a0fba67c73 button');\n",
              "      quickchartButtonEl.style.display =\n",
              "        google.colab.kernel.accessAllowed ? 'block' : 'none';\n",
              "    })();\n",
              "  </script>\n",
              "</div>\n",
              "    </div>\n",
              "  </div>\n"
            ],
            "application/vnd.google.colaboratory.intrinsic+json": {
              "type": "dataframe",
              "repr_error": "0"
            }
          },
          "metadata": {},
          "execution_count": 4
        }
      ],
      "source": [
        "driver_info = pd.read_csv('https://raw.githubusercontent.com/a-milenkin/Competitive_Data_Science/main/data/driver_info.csv')\n",
        "driver_info.sample(5)"
      ]
    },
    {
      "cell_type": "markdown",
      "metadata": {
        "id": "ubFE8w-Kbuhv"
      },
      "source": [
        "- `user_id` / `age` / `sex` — идентификатор, возраст и пол водителя, соответственно\n",
        "- `user_rating` — общий рейтинг пользователя за все поездки к концу 2021 года\n",
        "- `user_rides` — общее количество поездок к концу 2021 года\n",
        "- `user_time_accident` — число инцидентов (это могли быть аварии/штрафы/эвакуация машины)  \n",
        "- `first_ride_date` — дата первой поездки"
      ]
    },
    {
      "cell_type": "markdown",
      "metadata": {
        "id": "cXDdvlHYbuhv"
      },
      "source": [
        "### Информация про ремонт машин"
      ]
    },
    {
      "cell_type": "code",
      "execution_count": 5,
      "metadata": {
        "tags": [],
        "id": "eVTjvBspbuhv",
        "outputId": "18756c8a-021d-44a6-ce2c-4e08949f79fe",
        "colab": {
          "base_uri": "https://localhost:8080/",
          "height": 206
        }
      },
      "outputs": [
        {
          "output_type": "execute_result",
          "data": {
            "text/plain": [
              "            car_id worker_id          fix_date     work_type  destroy_degree  \\\n",
              "125622  x16070571D        PM  2020-11-24 10:15     reparking             1.0   \n",
              "62498   Q16225830I        YO    2020-3-12 22:4     reparking             1.0   \n",
              "133260  K-1703648s        LN   2019-4-19 12:37        repair             3.8   \n",
              "122407  q-2131513C        DZ  2020-12-17 22:58        repair            10.0   \n",
              "68904   h-1396839K        UW     2020-6-5 6:39  refuel_check             1.0   \n",
              "\n",
              "        work_duration  \n",
              "125622             29  \n",
              "62498              24  \n",
              "133260              3  \n",
              "122407             67  \n",
              "68904              25  "
            ],
            "text/html": [
              "\n",
              "  <div id=\"df-636d8996-0c43-4e25-b589-23d0d9b963a6\" class=\"colab-df-container\">\n",
              "    <div>\n",
              "<style scoped>\n",
              "    .dataframe tbody tr th:only-of-type {\n",
              "        vertical-align: middle;\n",
              "    }\n",
              "\n",
              "    .dataframe tbody tr th {\n",
              "        vertical-align: top;\n",
              "    }\n",
              "\n",
              "    .dataframe thead th {\n",
              "        text-align: right;\n",
              "    }\n",
              "</style>\n",
              "<table border=\"1\" class=\"dataframe\">\n",
              "  <thead>\n",
              "    <tr style=\"text-align: right;\">\n",
              "      <th></th>\n",
              "      <th>car_id</th>\n",
              "      <th>worker_id</th>\n",
              "      <th>fix_date</th>\n",
              "      <th>work_type</th>\n",
              "      <th>destroy_degree</th>\n",
              "      <th>work_duration</th>\n",
              "    </tr>\n",
              "  </thead>\n",
              "  <tbody>\n",
              "    <tr>\n",
              "      <th>125622</th>\n",
              "      <td>x16070571D</td>\n",
              "      <td>PM</td>\n",
              "      <td>2020-11-24 10:15</td>\n",
              "      <td>reparking</td>\n",
              "      <td>1.0</td>\n",
              "      <td>29</td>\n",
              "    </tr>\n",
              "    <tr>\n",
              "      <th>62498</th>\n",
              "      <td>Q16225830I</td>\n",
              "      <td>YO</td>\n",
              "      <td>2020-3-12 22:4</td>\n",
              "      <td>reparking</td>\n",
              "      <td>1.0</td>\n",
              "      <td>24</td>\n",
              "    </tr>\n",
              "    <tr>\n",
              "      <th>133260</th>\n",
              "      <td>K-1703648s</td>\n",
              "      <td>LN</td>\n",
              "      <td>2019-4-19 12:37</td>\n",
              "      <td>repair</td>\n",
              "      <td>3.8</td>\n",
              "      <td>3</td>\n",
              "    </tr>\n",
              "    <tr>\n",
              "      <th>122407</th>\n",
              "      <td>q-2131513C</td>\n",
              "      <td>DZ</td>\n",
              "      <td>2020-12-17 22:58</td>\n",
              "      <td>repair</td>\n",
              "      <td>10.0</td>\n",
              "      <td>67</td>\n",
              "    </tr>\n",
              "    <tr>\n",
              "      <th>68904</th>\n",
              "      <td>h-1396839K</td>\n",
              "      <td>UW</td>\n",
              "      <td>2020-6-5 6:39</td>\n",
              "      <td>refuel_check</td>\n",
              "      <td>1.0</td>\n",
              "      <td>25</td>\n",
              "    </tr>\n",
              "  </tbody>\n",
              "</table>\n",
              "</div>\n",
              "    <div class=\"colab-df-buttons\">\n",
              "\n",
              "  <div class=\"colab-df-container\">\n",
              "    <button class=\"colab-df-convert\" onclick=\"convertToInteractive('df-636d8996-0c43-4e25-b589-23d0d9b963a6')\"\n",
              "            title=\"Convert this dataframe to an interactive table.\"\n",
              "            style=\"display:none;\">\n",
              "\n",
              "  <svg xmlns=\"http://www.w3.org/2000/svg\" height=\"24px\" viewBox=\"0 -960 960 960\">\n",
              "    <path d=\"M120-120v-720h720v720H120Zm60-500h600v-160H180v160Zm220 220h160v-160H400v160Zm0 220h160v-160H400v160ZM180-400h160v-160H180v160Zm440 0h160v-160H620v160ZM180-180h160v-160H180v160Zm440 0h160v-160H620v160Z\"/>\n",
              "  </svg>\n",
              "    </button>\n",
              "\n",
              "  <style>\n",
              "    .colab-df-container {\n",
              "      display:flex;\n",
              "      gap: 12px;\n",
              "    }\n",
              "\n",
              "    .colab-df-convert {\n",
              "      background-color: #E8F0FE;\n",
              "      border: none;\n",
              "      border-radius: 50%;\n",
              "      cursor: pointer;\n",
              "      display: none;\n",
              "      fill: #1967D2;\n",
              "      height: 32px;\n",
              "      padding: 0 0 0 0;\n",
              "      width: 32px;\n",
              "    }\n",
              "\n",
              "    .colab-df-convert:hover {\n",
              "      background-color: #E2EBFA;\n",
              "      box-shadow: 0px 1px 2px rgba(60, 64, 67, 0.3), 0px 1px 3px 1px rgba(60, 64, 67, 0.15);\n",
              "      fill: #174EA6;\n",
              "    }\n",
              "\n",
              "    .colab-df-buttons div {\n",
              "      margin-bottom: 4px;\n",
              "    }\n",
              "\n",
              "    [theme=dark] .colab-df-convert {\n",
              "      background-color: #3B4455;\n",
              "      fill: #D2E3FC;\n",
              "    }\n",
              "\n",
              "    [theme=dark] .colab-df-convert:hover {\n",
              "      background-color: #434B5C;\n",
              "      box-shadow: 0px 1px 3px 1px rgba(0, 0, 0, 0.15);\n",
              "      filter: drop-shadow(0px 1px 2px rgba(0, 0, 0, 0.3));\n",
              "      fill: #FFFFFF;\n",
              "    }\n",
              "  </style>\n",
              "\n",
              "    <script>\n",
              "      const buttonEl =\n",
              "        document.querySelector('#df-636d8996-0c43-4e25-b589-23d0d9b963a6 button.colab-df-convert');\n",
              "      buttonEl.style.display =\n",
              "        google.colab.kernel.accessAllowed ? 'block' : 'none';\n",
              "\n",
              "      async function convertToInteractive(key) {\n",
              "        const element = document.querySelector('#df-636d8996-0c43-4e25-b589-23d0d9b963a6');\n",
              "        const dataTable =\n",
              "          await google.colab.kernel.invokeFunction('convertToInteractive',\n",
              "                                                    [key], {});\n",
              "        if (!dataTable) return;\n",
              "\n",
              "        const docLinkHtml = 'Like what you see? Visit the ' +\n",
              "          '<a target=\"_blank\" href=https://colab.research.google.com/notebooks/data_table.ipynb>data table notebook</a>'\n",
              "          + ' to learn more about interactive tables.';\n",
              "        element.innerHTML = '';\n",
              "        dataTable['output_type'] = 'display_data';\n",
              "        await google.colab.output.renderOutput(dataTable, element);\n",
              "        const docLink = document.createElement('div');\n",
              "        docLink.innerHTML = docLinkHtml;\n",
              "        element.appendChild(docLink);\n",
              "      }\n",
              "    </script>\n",
              "  </div>\n",
              "\n",
              "\n",
              "<div id=\"df-6aa4201c-acf2-48fd-8d30-b8711b447959\">\n",
              "  <button class=\"colab-df-quickchart\" onclick=\"quickchart('df-6aa4201c-acf2-48fd-8d30-b8711b447959')\"\n",
              "            title=\"Suggest charts\"\n",
              "            style=\"display:none;\">\n",
              "\n",
              "<svg xmlns=\"http://www.w3.org/2000/svg\" height=\"24px\"viewBox=\"0 0 24 24\"\n",
              "     width=\"24px\">\n",
              "    <g>\n",
              "        <path d=\"M19 3H5c-1.1 0-2 .9-2 2v14c0 1.1.9 2 2 2h14c1.1 0 2-.9 2-2V5c0-1.1-.9-2-2-2zM9 17H7v-7h2v7zm4 0h-2V7h2v10zm4 0h-2v-4h2v4z\"/>\n",
              "    </g>\n",
              "</svg>\n",
              "  </button>\n",
              "\n",
              "<style>\n",
              "  .colab-df-quickchart {\n",
              "      --bg-color: #E8F0FE;\n",
              "      --fill-color: #1967D2;\n",
              "      --hover-bg-color: #E2EBFA;\n",
              "      --hover-fill-color: #174EA6;\n",
              "      --disabled-fill-color: #AAA;\n",
              "      --disabled-bg-color: #DDD;\n",
              "  }\n",
              "\n",
              "  [theme=dark] .colab-df-quickchart {\n",
              "      --bg-color: #3B4455;\n",
              "      --fill-color: #D2E3FC;\n",
              "      --hover-bg-color: #434B5C;\n",
              "      --hover-fill-color: #FFFFFF;\n",
              "      --disabled-bg-color: #3B4455;\n",
              "      --disabled-fill-color: #666;\n",
              "  }\n",
              "\n",
              "  .colab-df-quickchart {\n",
              "    background-color: var(--bg-color);\n",
              "    border: none;\n",
              "    border-radius: 50%;\n",
              "    cursor: pointer;\n",
              "    display: none;\n",
              "    fill: var(--fill-color);\n",
              "    height: 32px;\n",
              "    padding: 0;\n",
              "    width: 32px;\n",
              "  }\n",
              "\n",
              "  .colab-df-quickchart:hover {\n",
              "    background-color: var(--hover-bg-color);\n",
              "    box-shadow: 0 1px 2px rgba(60, 64, 67, 0.3), 0 1px 3px 1px rgba(60, 64, 67, 0.15);\n",
              "    fill: var(--button-hover-fill-color);\n",
              "  }\n",
              "\n",
              "  .colab-df-quickchart-complete:disabled,\n",
              "  .colab-df-quickchart-complete:disabled:hover {\n",
              "    background-color: var(--disabled-bg-color);\n",
              "    fill: var(--disabled-fill-color);\n",
              "    box-shadow: none;\n",
              "  }\n",
              "\n",
              "  .colab-df-spinner {\n",
              "    border: 2px solid var(--fill-color);\n",
              "    border-color: transparent;\n",
              "    border-bottom-color: var(--fill-color);\n",
              "    animation:\n",
              "      spin 1s steps(1) infinite;\n",
              "  }\n",
              "\n",
              "  @keyframes spin {\n",
              "    0% {\n",
              "      border-color: transparent;\n",
              "      border-bottom-color: var(--fill-color);\n",
              "      border-left-color: var(--fill-color);\n",
              "    }\n",
              "    20% {\n",
              "      border-color: transparent;\n",
              "      border-left-color: var(--fill-color);\n",
              "      border-top-color: var(--fill-color);\n",
              "    }\n",
              "    30% {\n",
              "      border-color: transparent;\n",
              "      border-left-color: var(--fill-color);\n",
              "      border-top-color: var(--fill-color);\n",
              "      border-right-color: var(--fill-color);\n",
              "    }\n",
              "    40% {\n",
              "      border-color: transparent;\n",
              "      border-right-color: var(--fill-color);\n",
              "      border-top-color: var(--fill-color);\n",
              "    }\n",
              "    60% {\n",
              "      border-color: transparent;\n",
              "      border-right-color: var(--fill-color);\n",
              "    }\n",
              "    80% {\n",
              "      border-color: transparent;\n",
              "      border-right-color: var(--fill-color);\n",
              "      border-bottom-color: var(--fill-color);\n",
              "    }\n",
              "    90% {\n",
              "      border-color: transparent;\n",
              "      border-bottom-color: var(--fill-color);\n",
              "    }\n",
              "  }\n",
              "</style>\n",
              "\n",
              "  <script>\n",
              "    async function quickchart(key) {\n",
              "      const quickchartButtonEl =\n",
              "        document.querySelector('#' + key + ' button');\n",
              "      quickchartButtonEl.disabled = true;  // To prevent multiple clicks.\n",
              "      quickchartButtonEl.classList.add('colab-df-spinner');\n",
              "      try {\n",
              "        const charts = await google.colab.kernel.invokeFunction(\n",
              "            'suggestCharts', [key], {});\n",
              "      } catch (error) {\n",
              "        console.error('Error during call to suggestCharts:', error);\n",
              "      }\n",
              "      quickchartButtonEl.classList.remove('colab-df-spinner');\n",
              "      quickchartButtonEl.classList.add('colab-df-quickchart-complete');\n",
              "    }\n",
              "    (() => {\n",
              "      let quickchartButtonEl =\n",
              "        document.querySelector('#df-6aa4201c-acf2-48fd-8d30-b8711b447959 button');\n",
              "      quickchartButtonEl.style.display =\n",
              "        google.colab.kernel.accessAllowed ? 'block' : 'none';\n",
              "    })();\n",
              "  </script>\n",
              "</div>\n",
              "    </div>\n",
              "  </div>\n"
            ],
            "application/vnd.google.colaboratory.intrinsic+json": {
              "type": "dataframe",
              "repr_error": "0"
            }
          },
          "metadata": {},
          "execution_count": 5
        }
      ],
      "source": [
        "fix_info = pd.read_csv('https://raw.githubusercontent.com/a-milenkin/Competitive_Data_Science/main/data/fix_info.csv')\n",
        "fix_info.sample(5)"
      ]
    },
    {
      "cell_type": "markdown",
      "metadata": {
        "id": "H01U-FFAbuhv"
      },
      "source": [
        "- `worker_id` / `car_id` — идентификатор работника и машины\n",
        "- `work_type` / `work_duration` — тип и длительность (в часах) проводимой работы\n",
        "- `destroy_degree` — степень износа/поврежденности машины в случае поломки\n",
        "- `fix_date` — время начала ремонта (снятия машины с линии)"
      ]
    },
    {
      "cell_type": "markdown",
      "metadata": {
        "id": "qY-lAjlhbuhv"
      },
      "source": [
        "# Домашнее задание 1. Генерация и фильтрация признаков"
      ]
    },
    {
      "cell_type": "markdown",
      "metadata": {
        "id": "9E2N9m5Cbuhv"
      },
      "source": [
        "<center> <img src=\"https://ucarecdn.com/bf4c772d-b67a-42ae-a48b-cfd83910b0a2/\" width=700>"
      ]
    },
    {
      "cell_type": "markdown",
      "metadata": {
        "id": "HaroHWSBbuhw"
      },
      "source": [
        "<div class=\"alert alert-info\">\n",
        "\n",
        "**Цель блока** — сгенерировать признаки из дополнительных датасетов и добавить их к основному датасету, произвести фильтрацию признаков."
      ]
    },
    {
      "cell_type": "markdown",
      "metadata": {
        "id": "wev7E_qlbuhw"
      },
      "source": [
        "    \n",
        "## Задание 1. Генерация признаков из дополнительных датасетов (6 баллов)"
      ]
    },
    {
      "cell_type": "markdown",
      "metadata": {
        "id": "CSX4pA5Kbuhw"
      },
      "source": [
        "<div class=\"alert alert-info\">\n",
        "\n",
        "1. Возьмите датасет `rides_info` с информацией о поездках и проведите группировку по каждой машине отдельно.\n",
        "\n",
        "2. Для каждой машины (то есть для каждого `car_id`) подсчитайте несколько признаков:\n",
        "  - минимальный рейтинг за все поездки;\n",
        "  - средний рейтинг за все поездки;\n",
        "  - общее количество километров, которое машина проехала;\n",
        "  - максимальная скорость;\n",
        "  - общее количество поездок для каждой машины.\n",
        "\n",
        "3. Добавьте минимум 3 признака на свой выбор.\n",
        "\n",
        "4. Сделайте соединение таблиц — вспомните про методы соединения и выберите подходящий для этого случая.\n",
        "\n",
        "5. Подключите информацию про водителей (`driver_info`) и про ремонт машин (`fix_info`). Добавьте минимум 3 любых признака с каждого датасета.\n",
        "\n",
        "\n",
        "<h4> Критерии оценивания </h4>\n",
        "    \n",
        "- Добавлены 5 обязательных и минимум 3 любых признака из датасета `rides_info` — 2 балла.\n",
        "- Добавлены минимум 3 любых признака из датасета `driver_info` — 2 балла.\n",
        "- Добавлены минимум 3 любых признака из датасета `fix_info` — 2 балла.\n",
        "\n",
        "</div>"
      ]
    },
    {
      "cell_type": "markdown",
      "metadata": {
        "id": "kfAs9dZHbuhw"
      },
      "source": [
        "<div class=\"alert alert-success\">\n",
        "    \n",
        "<h4> Советы по Feature Engineering</h4>\n",
        "    \n",
        "- Начинайте с сырых данных.\n",
        "- Используйте все доступные данные. Покрывайте признаками всю имеющуюся информацию в данных.\n",
        "- Формулируйте предположения: от чего зависит таргет?\n",
        "- Смотрите визуально на классы/ошибки и делайте предположения. Какие полезны?\n",
        "- Помните, что слишком много признаков может быть вредно. Потом придется отфильтровывать.\n",
        "    \n",
        "<h4> Полезные источники </h4>\n",
        "    \n",
        "- Занятие про Feature Engineering.\n",
        "- Занятие про Feature Selection.\n",
        "- [Max Kuhn and Kjell Johnson. Feature Engineering and Selection: A Practical Approach for Predictive Models](http://www.feat.engineering/)."
      ]
    },
    {
      "cell_type": "markdown",
      "source": [
        "## **Решение 1 задания**"
      ],
      "metadata": {
        "id": "9rezLBkBcAni"
      }
    },
    {
      "cell_type": "markdown",
      "source": [
        "### Для каждой машины (то есть для каждого car_id) подсчитайте несколько признаков:\n",
        "\n",
        "- минимальный рейтинг за все поездки;\n",
        "- средний рейтинг за все поездки;\n",
        "- общее количество километров, которое машина проехала;\n",
        "- максимальная скорость;\n",
        "- общее количество поездок для каждой машины."
      ],
      "metadata": {
        "id": "eJrnTgrgZ1sT"
      }
    },
    {
      "cell_type": "code",
      "execution_count": 6,
      "metadata": {
        "id": "CYaNVDLTbuhw"
      },
      "outputs": [],
      "source": [
        "group_of_rides = rides_info.groupby('car_id', as_index=False).agg(\n",
        "    min_rating = ('rating', 'min'),\n",
        "    mean_rating = ('rating', 'mean'),\n",
        "    sum_distance = ('distance', 'sum'),\n",
        "    speed_max = ('speed_max', 'max'),\n",
        "    count_rides = ('ride_id', 'count')\n",
        ")"
      ]
    },
    {
      "cell_type": "code",
      "source": [
        "group_of_rides.head()"
      ],
      "metadata": {
        "colab": {
          "base_uri": "https://localhost:8080/",
          "height": 206
        },
        "id": "PYxGRWmwZdTD",
        "outputId": "8befb5c1-366f-4ecd-d572-420d448349de"
      },
      "execution_count": 7,
      "outputs": [
        {
          "output_type": "execute_result",
          "data": {
            "text/plain": [
              "       car_id  min_rating  mean_rating  sum_distance   speed_max  count_rides\n",
              "0  A-1049127W         0.1     4.255172  1.125753e+07  179.729652          174\n",
              "1  A-1079539w         0.1     4.088046  1.912765e+07  184.505566          174\n",
              "2  A-1162143G         0.1     4.662299  2.995194e+06  180.000000          174\n",
              "3  A-1228282M         0.1     4.225172  1.793685e+07  182.446070          174\n",
              "4  A-1339912r         0.1     4.690115  1.202552e+07  152.000000          174"
            ],
            "text/html": [
              "\n",
              "  <div id=\"df-33e9cd26-d148-48b8-9b7b-e2866e2204fd\" class=\"colab-df-container\">\n",
              "    <div>\n",
              "<style scoped>\n",
              "    .dataframe tbody tr th:only-of-type {\n",
              "        vertical-align: middle;\n",
              "    }\n",
              "\n",
              "    .dataframe tbody tr th {\n",
              "        vertical-align: top;\n",
              "    }\n",
              "\n",
              "    .dataframe thead th {\n",
              "        text-align: right;\n",
              "    }\n",
              "</style>\n",
              "<table border=\"1\" class=\"dataframe\">\n",
              "  <thead>\n",
              "    <tr style=\"text-align: right;\">\n",
              "      <th></th>\n",
              "      <th>car_id</th>\n",
              "      <th>min_rating</th>\n",
              "      <th>mean_rating</th>\n",
              "      <th>sum_distance</th>\n",
              "      <th>speed_max</th>\n",
              "      <th>count_rides</th>\n",
              "    </tr>\n",
              "  </thead>\n",
              "  <tbody>\n",
              "    <tr>\n",
              "      <th>0</th>\n",
              "      <td>A-1049127W</td>\n",
              "      <td>0.1</td>\n",
              "      <td>4.255172</td>\n",
              "      <td>1.125753e+07</td>\n",
              "      <td>179.729652</td>\n",
              "      <td>174</td>\n",
              "    </tr>\n",
              "    <tr>\n",
              "      <th>1</th>\n",
              "      <td>A-1079539w</td>\n",
              "      <td>0.1</td>\n",
              "      <td>4.088046</td>\n",
              "      <td>1.912765e+07</td>\n",
              "      <td>184.505566</td>\n",
              "      <td>174</td>\n",
              "    </tr>\n",
              "    <tr>\n",
              "      <th>2</th>\n",
              "      <td>A-1162143G</td>\n",
              "      <td>0.1</td>\n",
              "      <td>4.662299</td>\n",
              "      <td>2.995194e+06</td>\n",
              "      <td>180.000000</td>\n",
              "      <td>174</td>\n",
              "    </tr>\n",
              "    <tr>\n",
              "      <th>3</th>\n",
              "      <td>A-1228282M</td>\n",
              "      <td>0.1</td>\n",
              "      <td>4.225172</td>\n",
              "      <td>1.793685e+07</td>\n",
              "      <td>182.446070</td>\n",
              "      <td>174</td>\n",
              "    </tr>\n",
              "    <tr>\n",
              "      <th>4</th>\n",
              "      <td>A-1339912r</td>\n",
              "      <td>0.1</td>\n",
              "      <td>4.690115</td>\n",
              "      <td>1.202552e+07</td>\n",
              "      <td>152.000000</td>\n",
              "      <td>174</td>\n",
              "    </tr>\n",
              "  </tbody>\n",
              "</table>\n",
              "</div>\n",
              "    <div class=\"colab-df-buttons\">\n",
              "\n",
              "  <div class=\"colab-df-container\">\n",
              "    <button class=\"colab-df-convert\" onclick=\"convertToInteractive('df-33e9cd26-d148-48b8-9b7b-e2866e2204fd')\"\n",
              "            title=\"Convert this dataframe to an interactive table.\"\n",
              "            style=\"display:none;\">\n",
              "\n",
              "  <svg xmlns=\"http://www.w3.org/2000/svg\" height=\"24px\" viewBox=\"0 -960 960 960\">\n",
              "    <path d=\"M120-120v-720h720v720H120Zm60-500h600v-160H180v160Zm220 220h160v-160H400v160Zm0 220h160v-160H400v160ZM180-400h160v-160H180v160Zm440 0h160v-160H620v160ZM180-180h160v-160H180v160Zm440 0h160v-160H620v160Z\"/>\n",
              "  </svg>\n",
              "    </button>\n",
              "\n",
              "  <style>\n",
              "    .colab-df-container {\n",
              "      display:flex;\n",
              "      gap: 12px;\n",
              "    }\n",
              "\n",
              "    .colab-df-convert {\n",
              "      background-color: #E8F0FE;\n",
              "      border: none;\n",
              "      border-radius: 50%;\n",
              "      cursor: pointer;\n",
              "      display: none;\n",
              "      fill: #1967D2;\n",
              "      height: 32px;\n",
              "      padding: 0 0 0 0;\n",
              "      width: 32px;\n",
              "    }\n",
              "\n",
              "    .colab-df-convert:hover {\n",
              "      background-color: #E2EBFA;\n",
              "      box-shadow: 0px 1px 2px rgba(60, 64, 67, 0.3), 0px 1px 3px 1px rgba(60, 64, 67, 0.15);\n",
              "      fill: #174EA6;\n",
              "    }\n",
              "\n",
              "    .colab-df-buttons div {\n",
              "      margin-bottom: 4px;\n",
              "    }\n",
              "\n",
              "    [theme=dark] .colab-df-convert {\n",
              "      background-color: #3B4455;\n",
              "      fill: #D2E3FC;\n",
              "    }\n",
              "\n",
              "    [theme=dark] .colab-df-convert:hover {\n",
              "      background-color: #434B5C;\n",
              "      box-shadow: 0px 1px 3px 1px rgba(0, 0, 0, 0.15);\n",
              "      filter: drop-shadow(0px 1px 2px rgba(0, 0, 0, 0.3));\n",
              "      fill: #FFFFFF;\n",
              "    }\n",
              "  </style>\n",
              "\n",
              "    <script>\n",
              "      const buttonEl =\n",
              "        document.querySelector('#df-33e9cd26-d148-48b8-9b7b-e2866e2204fd button.colab-df-convert');\n",
              "      buttonEl.style.display =\n",
              "        google.colab.kernel.accessAllowed ? 'block' : 'none';\n",
              "\n",
              "      async function convertToInteractive(key) {\n",
              "        const element = document.querySelector('#df-33e9cd26-d148-48b8-9b7b-e2866e2204fd');\n",
              "        const dataTable =\n",
              "          await google.colab.kernel.invokeFunction('convertToInteractive',\n",
              "                                                    [key], {});\n",
              "        if (!dataTable) return;\n",
              "\n",
              "        const docLinkHtml = 'Like what you see? Visit the ' +\n",
              "          '<a target=\"_blank\" href=https://colab.research.google.com/notebooks/data_table.ipynb>data table notebook</a>'\n",
              "          + ' to learn more about interactive tables.';\n",
              "        element.innerHTML = '';\n",
              "        dataTable['output_type'] = 'display_data';\n",
              "        await google.colab.output.renderOutput(dataTable, element);\n",
              "        const docLink = document.createElement('div');\n",
              "        docLink.innerHTML = docLinkHtml;\n",
              "        element.appendChild(docLink);\n",
              "      }\n",
              "    </script>\n",
              "  </div>\n",
              "\n",
              "\n",
              "<div id=\"df-c30df303-c151-4d65-a78c-9e911d1f385f\">\n",
              "  <button class=\"colab-df-quickchart\" onclick=\"quickchart('df-c30df303-c151-4d65-a78c-9e911d1f385f')\"\n",
              "            title=\"Suggest charts\"\n",
              "            style=\"display:none;\">\n",
              "\n",
              "<svg xmlns=\"http://www.w3.org/2000/svg\" height=\"24px\"viewBox=\"0 0 24 24\"\n",
              "     width=\"24px\">\n",
              "    <g>\n",
              "        <path d=\"M19 3H5c-1.1 0-2 .9-2 2v14c0 1.1.9 2 2 2h14c1.1 0 2-.9 2-2V5c0-1.1-.9-2-2-2zM9 17H7v-7h2v7zm4 0h-2V7h2v10zm4 0h-2v-4h2v4z\"/>\n",
              "    </g>\n",
              "</svg>\n",
              "  </button>\n",
              "\n",
              "<style>\n",
              "  .colab-df-quickchart {\n",
              "      --bg-color: #E8F0FE;\n",
              "      --fill-color: #1967D2;\n",
              "      --hover-bg-color: #E2EBFA;\n",
              "      --hover-fill-color: #174EA6;\n",
              "      --disabled-fill-color: #AAA;\n",
              "      --disabled-bg-color: #DDD;\n",
              "  }\n",
              "\n",
              "  [theme=dark] .colab-df-quickchart {\n",
              "      --bg-color: #3B4455;\n",
              "      --fill-color: #D2E3FC;\n",
              "      --hover-bg-color: #434B5C;\n",
              "      --hover-fill-color: #FFFFFF;\n",
              "      --disabled-bg-color: #3B4455;\n",
              "      --disabled-fill-color: #666;\n",
              "  }\n",
              "\n",
              "  .colab-df-quickchart {\n",
              "    background-color: var(--bg-color);\n",
              "    border: none;\n",
              "    border-radius: 50%;\n",
              "    cursor: pointer;\n",
              "    display: none;\n",
              "    fill: var(--fill-color);\n",
              "    height: 32px;\n",
              "    padding: 0;\n",
              "    width: 32px;\n",
              "  }\n",
              "\n",
              "  .colab-df-quickchart:hover {\n",
              "    background-color: var(--hover-bg-color);\n",
              "    box-shadow: 0 1px 2px rgba(60, 64, 67, 0.3), 0 1px 3px 1px rgba(60, 64, 67, 0.15);\n",
              "    fill: var(--button-hover-fill-color);\n",
              "  }\n",
              "\n",
              "  .colab-df-quickchart-complete:disabled,\n",
              "  .colab-df-quickchart-complete:disabled:hover {\n",
              "    background-color: var(--disabled-bg-color);\n",
              "    fill: var(--disabled-fill-color);\n",
              "    box-shadow: none;\n",
              "  }\n",
              "\n",
              "  .colab-df-spinner {\n",
              "    border: 2px solid var(--fill-color);\n",
              "    border-color: transparent;\n",
              "    border-bottom-color: var(--fill-color);\n",
              "    animation:\n",
              "      spin 1s steps(1) infinite;\n",
              "  }\n",
              "\n",
              "  @keyframes spin {\n",
              "    0% {\n",
              "      border-color: transparent;\n",
              "      border-bottom-color: var(--fill-color);\n",
              "      border-left-color: var(--fill-color);\n",
              "    }\n",
              "    20% {\n",
              "      border-color: transparent;\n",
              "      border-left-color: var(--fill-color);\n",
              "      border-top-color: var(--fill-color);\n",
              "    }\n",
              "    30% {\n",
              "      border-color: transparent;\n",
              "      border-left-color: var(--fill-color);\n",
              "      border-top-color: var(--fill-color);\n",
              "      border-right-color: var(--fill-color);\n",
              "    }\n",
              "    40% {\n",
              "      border-color: transparent;\n",
              "      border-right-color: var(--fill-color);\n",
              "      border-top-color: var(--fill-color);\n",
              "    }\n",
              "    60% {\n",
              "      border-color: transparent;\n",
              "      border-right-color: var(--fill-color);\n",
              "    }\n",
              "    80% {\n",
              "      border-color: transparent;\n",
              "      border-right-color: var(--fill-color);\n",
              "      border-bottom-color: var(--fill-color);\n",
              "    }\n",
              "    90% {\n",
              "      border-color: transparent;\n",
              "      border-bottom-color: var(--fill-color);\n",
              "    }\n",
              "  }\n",
              "</style>\n",
              "\n",
              "  <script>\n",
              "    async function quickchart(key) {\n",
              "      const quickchartButtonEl =\n",
              "        document.querySelector('#' + key + ' button');\n",
              "      quickchartButtonEl.disabled = true;  // To prevent multiple clicks.\n",
              "      quickchartButtonEl.classList.add('colab-df-spinner');\n",
              "      try {\n",
              "        const charts = await google.colab.kernel.invokeFunction(\n",
              "            'suggestCharts', [key], {});\n",
              "      } catch (error) {\n",
              "        console.error('Error during call to suggestCharts:', error);\n",
              "      }\n",
              "      quickchartButtonEl.classList.remove('colab-df-spinner');\n",
              "      quickchartButtonEl.classList.add('colab-df-quickchart-complete');\n",
              "    }\n",
              "    (() => {\n",
              "      let quickchartButtonEl =\n",
              "        document.querySelector('#df-c30df303-c151-4d65-a78c-9e911d1f385f button');\n",
              "      quickchartButtonEl.style.display =\n",
              "        google.colab.kernel.accessAllowed ? 'block' : 'none';\n",
              "    })();\n",
              "  </script>\n",
              "</div>\n",
              "    </div>\n",
              "  </div>\n"
            ],
            "application/vnd.google.colaboratory.intrinsic+json": {
              "type": "dataframe",
              "variable_name": "group_of_rides",
              "summary": "{\n  \"name\": \"group_of_rides\",\n  \"rows\": 4250,\n  \"fields\": [\n    {\n      \"column\": \"car_id\",\n      \"properties\": {\n        \"dtype\": \"string\",\n        \"num_unique_values\": 4250,\n        \"samples\": [\n          \"M22148410M\",\n          \"b-1050475p\",\n          \"R15749283D\"\n        ],\n        \"semantic_type\": \"\",\n        \"description\": \"\"\n      }\n    },\n    {\n      \"column\": \"min_rating\",\n      \"properties\": {\n        \"dtype\": \"number\",\n        \"std\": 0.16721240795251452,\n        \"min\": 0.0,\n        \"max\": 1.5,\n        \"num_unique_values\": 107,\n        \"samples\": [\n          0.73,\n          0.38,\n          0.34\n        ],\n        \"semantic_type\": \"\",\n        \"description\": \"\"\n      }\n    },\n    {\n      \"column\": \"mean_rating\",\n      \"properties\": {\n        \"dtype\": \"number\",\n        \"std\": 0.42196425473707544,\n        \"min\": 3.529885057471265,\n        \"max\": 5.768793103448275,\n        \"num_unique_values\": 3892,\n        \"samples\": [\n          3.98367816091954,\n          4.307241379310345,\n          3.931551724137931\n        ],\n        \"semantic_type\": \"\",\n        \"description\": \"\"\n      }\n    },\n    {\n      \"column\": \"sum_distance\",\n      \"properties\": {\n        \"dtype\": \"number\",\n        \"std\": 4207363.123978569,\n        \"min\": 1478866.3194710591,\n        \"max\": 32563653.0931651,\n        \"num_unique_values\": 4250,\n        \"samples\": [\n          8774392.789613284,\n          8423997.057547713,\n          16368396.940277258\n        ],\n        \"semantic_type\": \"\",\n        \"description\": \"\"\n      }\n    },\n    {\n      \"column\": \"speed_max\",\n      \"properties\": {\n        \"dtype\": \"number\",\n        \"std\": 32.909557285136536,\n        \"min\": 91.17291258259658,\n        \"max\": 209.98283950882248,\n        \"num_unique_values\": 3495,\n        \"samples\": [\n          180.13207820463953,\n          118.2603093332132,\n          182.69967588622168\n        ],\n        \"semantic_type\": \"\",\n        \"description\": \"\"\n      }\n    },\n    {\n      \"column\": \"count_rides\",\n      \"properties\": {\n        \"dtype\": \"number\",\n        \"std\": 0,\n        \"min\": 174,\n        \"max\": 174,\n        \"num_unique_values\": 1,\n        \"samples\": [\n          174\n        ],\n        \"semantic_type\": \"\",\n        \"description\": \"\"\n      }\n    }\n  ]\n}"
            }
          },
          "metadata": {},
          "execution_count": 7
        }
      ]
    },
    {
      "cell_type": "markdown",
      "source": [
        "### Добавьте минимум 3 признака на свой выбор."
      ],
      "metadata": {
        "id": "vnBbaNWLZ5h0"
      }
    },
    {
      "cell_type": "code",
      "source": [
        "group_of_rides = rides_info.groupby('car_id', as_index=False).agg(\n",
        "    min_rating = ('rating', 'min'),\n",
        "    mean_rating = ('rating', 'mean'),\n",
        "    sum_distance = ('distance', 'sum'),\n",
        "    speed_max = ('speed_max', 'max'),\n",
        "    count_rides = ('ride_id', 'count'),\n",
        "\n",
        "    speed_mean = ('speed_avg', 'mean'),\n",
        "    user_ride_quality_max = ('user_ride_quality', 'max'),\n",
        "    ride_cost_mean = ('ride_cost', 'mean'),\n",
        ")"
      ],
      "metadata": {
        "id": "udSxlI9HZoSL"
      },
      "execution_count": 8,
      "outputs": []
    },
    {
      "cell_type": "code",
      "source": [
        "group_of_rides.head()"
      ],
      "metadata": {
        "colab": {
          "base_uri": "https://localhost:8080/",
          "height": 206
        },
        "id": "VcaMMoXnamTs",
        "outputId": "0b1fe84d-e57b-4ad8-d0de-723896721807"
      },
      "execution_count": 9,
      "outputs": [
        {
          "output_type": "execute_result",
          "data": {
            "text/plain": [
              "       car_id  min_rating  mean_rating  sum_distance   speed_max  count_rides  \\\n",
              "0  A-1049127W         0.1     4.255172  1.125753e+07  179.729652          174   \n",
              "1  A-1079539w         0.1     4.088046  1.912765e+07  184.505566          174   \n",
              "2  A-1162143G         0.1     4.662299  2.995194e+06  180.000000          174   \n",
              "3  A-1228282M         0.1     4.225172  1.793685e+07  182.446070          174   \n",
              "4  A-1339912r         0.1     4.690115  1.202552e+07  152.000000          174   \n",
              "\n",
              "   speed_mean  user_ride_quality_max  ride_cost_mean  \n",
              "0   49.459770               8.556052    15201.436782  \n",
              "1   49.591954              19.324837    27007.477011  \n",
              "2   43.448276              10.915018     4599.678161  \n",
              "3   49.379310               4.188281    27379.522989  \n",
              "4   44.149425               1.038861    16185.545977  "
            ],
            "text/html": [
              "\n",
              "  <div id=\"df-142796c4-057b-49e1-b019-6f5b242a3298\" class=\"colab-df-container\">\n",
              "    <div>\n",
              "<style scoped>\n",
              "    .dataframe tbody tr th:only-of-type {\n",
              "        vertical-align: middle;\n",
              "    }\n",
              "\n",
              "    .dataframe tbody tr th {\n",
              "        vertical-align: top;\n",
              "    }\n",
              "\n",
              "    .dataframe thead th {\n",
              "        text-align: right;\n",
              "    }\n",
              "</style>\n",
              "<table border=\"1\" class=\"dataframe\">\n",
              "  <thead>\n",
              "    <tr style=\"text-align: right;\">\n",
              "      <th></th>\n",
              "      <th>car_id</th>\n",
              "      <th>min_rating</th>\n",
              "      <th>mean_rating</th>\n",
              "      <th>sum_distance</th>\n",
              "      <th>speed_max</th>\n",
              "      <th>count_rides</th>\n",
              "      <th>speed_mean</th>\n",
              "      <th>user_ride_quality_max</th>\n",
              "      <th>ride_cost_mean</th>\n",
              "    </tr>\n",
              "  </thead>\n",
              "  <tbody>\n",
              "    <tr>\n",
              "      <th>0</th>\n",
              "      <td>A-1049127W</td>\n",
              "      <td>0.1</td>\n",
              "      <td>4.255172</td>\n",
              "      <td>1.125753e+07</td>\n",
              "      <td>179.729652</td>\n",
              "      <td>174</td>\n",
              "      <td>49.459770</td>\n",
              "      <td>8.556052</td>\n",
              "      <td>15201.436782</td>\n",
              "    </tr>\n",
              "    <tr>\n",
              "      <th>1</th>\n",
              "      <td>A-1079539w</td>\n",
              "      <td>0.1</td>\n",
              "      <td>4.088046</td>\n",
              "      <td>1.912765e+07</td>\n",
              "      <td>184.505566</td>\n",
              "      <td>174</td>\n",
              "      <td>49.591954</td>\n",
              "      <td>19.324837</td>\n",
              "      <td>27007.477011</td>\n",
              "    </tr>\n",
              "    <tr>\n",
              "      <th>2</th>\n",
              "      <td>A-1162143G</td>\n",
              "      <td>0.1</td>\n",
              "      <td>4.662299</td>\n",
              "      <td>2.995194e+06</td>\n",
              "      <td>180.000000</td>\n",
              "      <td>174</td>\n",
              "      <td>43.448276</td>\n",
              "      <td>10.915018</td>\n",
              "      <td>4599.678161</td>\n",
              "    </tr>\n",
              "    <tr>\n",
              "      <th>3</th>\n",
              "      <td>A-1228282M</td>\n",
              "      <td>0.1</td>\n",
              "      <td>4.225172</td>\n",
              "      <td>1.793685e+07</td>\n",
              "      <td>182.446070</td>\n",
              "      <td>174</td>\n",
              "      <td>49.379310</td>\n",
              "      <td>4.188281</td>\n",
              "      <td>27379.522989</td>\n",
              "    </tr>\n",
              "    <tr>\n",
              "      <th>4</th>\n",
              "      <td>A-1339912r</td>\n",
              "      <td>0.1</td>\n",
              "      <td>4.690115</td>\n",
              "      <td>1.202552e+07</td>\n",
              "      <td>152.000000</td>\n",
              "      <td>174</td>\n",
              "      <td>44.149425</td>\n",
              "      <td>1.038861</td>\n",
              "      <td>16185.545977</td>\n",
              "    </tr>\n",
              "  </tbody>\n",
              "</table>\n",
              "</div>\n",
              "    <div class=\"colab-df-buttons\">\n",
              "\n",
              "  <div class=\"colab-df-container\">\n",
              "    <button class=\"colab-df-convert\" onclick=\"convertToInteractive('df-142796c4-057b-49e1-b019-6f5b242a3298')\"\n",
              "            title=\"Convert this dataframe to an interactive table.\"\n",
              "            style=\"display:none;\">\n",
              "\n",
              "  <svg xmlns=\"http://www.w3.org/2000/svg\" height=\"24px\" viewBox=\"0 -960 960 960\">\n",
              "    <path d=\"M120-120v-720h720v720H120Zm60-500h600v-160H180v160Zm220 220h160v-160H400v160Zm0 220h160v-160H400v160ZM180-400h160v-160H180v160Zm440 0h160v-160H620v160ZM180-180h160v-160H180v160Zm440 0h160v-160H620v160Z\"/>\n",
              "  </svg>\n",
              "    </button>\n",
              "\n",
              "  <style>\n",
              "    .colab-df-container {\n",
              "      display:flex;\n",
              "      gap: 12px;\n",
              "    }\n",
              "\n",
              "    .colab-df-convert {\n",
              "      background-color: #E8F0FE;\n",
              "      border: none;\n",
              "      border-radius: 50%;\n",
              "      cursor: pointer;\n",
              "      display: none;\n",
              "      fill: #1967D2;\n",
              "      height: 32px;\n",
              "      padding: 0 0 0 0;\n",
              "      width: 32px;\n",
              "    }\n",
              "\n",
              "    .colab-df-convert:hover {\n",
              "      background-color: #E2EBFA;\n",
              "      box-shadow: 0px 1px 2px rgba(60, 64, 67, 0.3), 0px 1px 3px 1px rgba(60, 64, 67, 0.15);\n",
              "      fill: #174EA6;\n",
              "    }\n",
              "\n",
              "    .colab-df-buttons div {\n",
              "      margin-bottom: 4px;\n",
              "    }\n",
              "\n",
              "    [theme=dark] .colab-df-convert {\n",
              "      background-color: #3B4455;\n",
              "      fill: #D2E3FC;\n",
              "    }\n",
              "\n",
              "    [theme=dark] .colab-df-convert:hover {\n",
              "      background-color: #434B5C;\n",
              "      box-shadow: 0px 1px 3px 1px rgba(0, 0, 0, 0.15);\n",
              "      filter: drop-shadow(0px 1px 2px rgba(0, 0, 0, 0.3));\n",
              "      fill: #FFFFFF;\n",
              "    }\n",
              "  </style>\n",
              "\n",
              "    <script>\n",
              "      const buttonEl =\n",
              "        document.querySelector('#df-142796c4-057b-49e1-b019-6f5b242a3298 button.colab-df-convert');\n",
              "      buttonEl.style.display =\n",
              "        google.colab.kernel.accessAllowed ? 'block' : 'none';\n",
              "\n",
              "      async function convertToInteractive(key) {\n",
              "        const element = document.querySelector('#df-142796c4-057b-49e1-b019-6f5b242a3298');\n",
              "        const dataTable =\n",
              "          await google.colab.kernel.invokeFunction('convertToInteractive',\n",
              "                                                    [key], {});\n",
              "        if (!dataTable) return;\n",
              "\n",
              "        const docLinkHtml = 'Like what you see? Visit the ' +\n",
              "          '<a target=\"_blank\" href=https://colab.research.google.com/notebooks/data_table.ipynb>data table notebook</a>'\n",
              "          + ' to learn more about interactive tables.';\n",
              "        element.innerHTML = '';\n",
              "        dataTable['output_type'] = 'display_data';\n",
              "        await google.colab.output.renderOutput(dataTable, element);\n",
              "        const docLink = document.createElement('div');\n",
              "        docLink.innerHTML = docLinkHtml;\n",
              "        element.appendChild(docLink);\n",
              "      }\n",
              "    </script>\n",
              "  </div>\n",
              "\n",
              "\n",
              "<div id=\"df-f5523e8b-e6d7-4d30-baeb-0ec16bd734c4\">\n",
              "  <button class=\"colab-df-quickchart\" onclick=\"quickchart('df-f5523e8b-e6d7-4d30-baeb-0ec16bd734c4')\"\n",
              "            title=\"Suggest charts\"\n",
              "            style=\"display:none;\">\n",
              "\n",
              "<svg xmlns=\"http://www.w3.org/2000/svg\" height=\"24px\"viewBox=\"0 0 24 24\"\n",
              "     width=\"24px\">\n",
              "    <g>\n",
              "        <path d=\"M19 3H5c-1.1 0-2 .9-2 2v14c0 1.1.9 2 2 2h14c1.1 0 2-.9 2-2V5c0-1.1-.9-2-2-2zM9 17H7v-7h2v7zm4 0h-2V7h2v10zm4 0h-2v-4h2v4z\"/>\n",
              "    </g>\n",
              "</svg>\n",
              "  </button>\n",
              "\n",
              "<style>\n",
              "  .colab-df-quickchart {\n",
              "      --bg-color: #E8F0FE;\n",
              "      --fill-color: #1967D2;\n",
              "      --hover-bg-color: #E2EBFA;\n",
              "      --hover-fill-color: #174EA6;\n",
              "      --disabled-fill-color: #AAA;\n",
              "      --disabled-bg-color: #DDD;\n",
              "  }\n",
              "\n",
              "  [theme=dark] .colab-df-quickchart {\n",
              "      --bg-color: #3B4455;\n",
              "      --fill-color: #D2E3FC;\n",
              "      --hover-bg-color: #434B5C;\n",
              "      --hover-fill-color: #FFFFFF;\n",
              "      --disabled-bg-color: #3B4455;\n",
              "      --disabled-fill-color: #666;\n",
              "  }\n",
              "\n",
              "  .colab-df-quickchart {\n",
              "    background-color: var(--bg-color);\n",
              "    border: none;\n",
              "    border-radius: 50%;\n",
              "    cursor: pointer;\n",
              "    display: none;\n",
              "    fill: var(--fill-color);\n",
              "    height: 32px;\n",
              "    padding: 0;\n",
              "    width: 32px;\n",
              "  }\n",
              "\n",
              "  .colab-df-quickchart:hover {\n",
              "    background-color: var(--hover-bg-color);\n",
              "    box-shadow: 0 1px 2px rgba(60, 64, 67, 0.3), 0 1px 3px 1px rgba(60, 64, 67, 0.15);\n",
              "    fill: var(--button-hover-fill-color);\n",
              "  }\n",
              "\n",
              "  .colab-df-quickchart-complete:disabled,\n",
              "  .colab-df-quickchart-complete:disabled:hover {\n",
              "    background-color: var(--disabled-bg-color);\n",
              "    fill: var(--disabled-fill-color);\n",
              "    box-shadow: none;\n",
              "  }\n",
              "\n",
              "  .colab-df-spinner {\n",
              "    border: 2px solid var(--fill-color);\n",
              "    border-color: transparent;\n",
              "    border-bottom-color: var(--fill-color);\n",
              "    animation:\n",
              "      spin 1s steps(1) infinite;\n",
              "  }\n",
              "\n",
              "  @keyframes spin {\n",
              "    0% {\n",
              "      border-color: transparent;\n",
              "      border-bottom-color: var(--fill-color);\n",
              "      border-left-color: var(--fill-color);\n",
              "    }\n",
              "    20% {\n",
              "      border-color: transparent;\n",
              "      border-left-color: var(--fill-color);\n",
              "      border-top-color: var(--fill-color);\n",
              "    }\n",
              "    30% {\n",
              "      border-color: transparent;\n",
              "      border-left-color: var(--fill-color);\n",
              "      border-top-color: var(--fill-color);\n",
              "      border-right-color: var(--fill-color);\n",
              "    }\n",
              "    40% {\n",
              "      border-color: transparent;\n",
              "      border-right-color: var(--fill-color);\n",
              "      border-top-color: var(--fill-color);\n",
              "    }\n",
              "    60% {\n",
              "      border-color: transparent;\n",
              "      border-right-color: var(--fill-color);\n",
              "    }\n",
              "    80% {\n",
              "      border-color: transparent;\n",
              "      border-right-color: var(--fill-color);\n",
              "      border-bottom-color: var(--fill-color);\n",
              "    }\n",
              "    90% {\n",
              "      border-color: transparent;\n",
              "      border-bottom-color: var(--fill-color);\n",
              "    }\n",
              "  }\n",
              "</style>\n",
              "\n",
              "  <script>\n",
              "    async function quickchart(key) {\n",
              "      const quickchartButtonEl =\n",
              "        document.querySelector('#' + key + ' button');\n",
              "      quickchartButtonEl.disabled = true;  // To prevent multiple clicks.\n",
              "      quickchartButtonEl.classList.add('colab-df-spinner');\n",
              "      try {\n",
              "        const charts = await google.colab.kernel.invokeFunction(\n",
              "            'suggestCharts', [key], {});\n",
              "      } catch (error) {\n",
              "        console.error('Error during call to suggestCharts:', error);\n",
              "      }\n",
              "      quickchartButtonEl.classList.remove('colab-df-spinner');\n",
              "      quickchartButtonEl.classList.add('colab-df-quickchart-complete');\n",
              "    }\n",
              "    (() => {\n",
              "      let quickchartButtonEl =\n",
              "        document.querySelector('#df-f5523e8b-e6d7-4d30-baeb-0ec16bd734c4 button');\n",
              "      quickchartButtonEl.style.display =\n",
              "        google.colab.kernel.accessAllowed ? 'block' : 'none';\n",
              "    })();\n",
              "  </script>\n",
              "</div>\n",
              "    </div>\n",
              "  </div>\n"
            ],
            "application/vnd.google.colaboratory.intrinsic+json": {
              "type": "dataframe",
              "variable_name": "group_of_rides",
              "summary": "{\n  \"name\": \"group_of_rides\",\n  \"rows\": 4250,\n  \"fields\": [\n    {\n      \"column\": \"car_id\",\n      \"properties\": {\n        \"dtype\": \"string\",\n        \"num_unique_values\": 4250,\n        \"samples\": [\n          \"M22148410M\",\n          \"b-1050475p\",\n          \"R15749283D\"\n        ],\n        \"semantic_type\": \"\",\n        \"description\": \"\"\n      }\n    },\n    {\n      \"column\": \"min_rating\",\n      \"properties\": {\n        \"dtype\": \"number\",\n        \"std\": 0.16721240795251452,\n        \"min\": 0.0,\n        \"max\": 1.5,\n        \"num_unique_values\": 107,\n        \"samples\": [\n          0.73,\n          0.38,\n          0.34\n        ],\n        \"semantic_type\": \"\",\n        \"description\": \"\"\n      }\n    },\n    {\n      \"column\": \"mean_rating\",\n      \"properties\": {\n        \"dtype\": \"number\",\n        \"std\": 0.42196425473707544,\n        \"min\": 3.529885057471265,\n        \"max\": 5.768793103448275,\n        \"num_unique_values\": 3892,\n        \"samples\": [\n          3.98367816091954,\n          4.307241379310345,\n          3.931551724137931\n        ],\n        \"semantic_type\": \"\",\n        \"description\": \"\"\n      }\n    },\n    {\n      \"column\": \"sum_distance\",\n      \"properties\": {\n        \"dtype\": \"number\",\n        \"std\": 4207363.123978569,\n        \"min\": 1478866.3194710591,\n        \"max\": 32563653.0931651,\n        \"num_unique_values\": 4250,\n        \"samples\": [\n          8774392.789613284,\n          8423997.057547713,\n          16368396.940277258\n        ],\n        \"semantic_type\": \"\",\n        \"description\": \"\"\n      }\n    },\n    {\n      \"column\": \"speed_max\",\n      \"properties\": {\n        \"dtype\": \"number\",\n        \"std\": 32.909557285136536,\n        \"min\": 91.17291258259658,\n        \"max\": 209.98283950882248,\n        \"num_unique_values\": 3495,\n        \"samples\": [\n          180.13207820463953,\n          118.2603093332132,\n          182.69967588622168\n        ],\n        \"semantic_type\": \"\",\n        \"description\": \"\"\n      }\n    },\n    {\n      \"column\": \"count_rides\",\n      \"properties\": {\n        \"dtype\": \"number\",\n        \"std\": 0,\n        \"min\": 174,\n        \"max\": 174,\n        \"num_unique_values\": 1,\n        \"samples\": [\n          174\n        ],\n        \"semantic_type\": \"\",\n        \"description\": \"\"\n      }\n    },\n    {\n      \"column\": \"speed_mean\",\n      \"properties\": {\n        \"dtype\": \"number\",\n        \"std\": 2.7720297750572755,\n        \"min\": 42.0632183908046,\n        \"max\": 53.132183908045974,\n        \"num_unique_values\": 1290,\n        \"samples\": [\n          48.747126436781606\n        ],\n        \"semantic_type\": \"\",\n        \"description\": \"\"\n      }\n    },\n    {\n      \"column\": \"user_ride_quality_max\",\n      \"properties\": {\n        \"dtype\": \"number\",\n        \"std\": 9.86693054126782,\n        \"min\": -3.814874015852011,\n        \"max\": 69.57464979309526,\n        \"num_unique_values\": 4250,\n        \"samples\": [\n          3.0976038186749024\n        ],\n        \"semantic_type\": \"\",\n        \"description\": \"\"\n      }\n    },\n    {\n      \"column\": \"ride_cost_mean\",\n      \"properties\": {\n        \"dtype\": \"number\",\n        \"std\": 8289.434551059148,\n        \"min\": 2302.6609195402298,\n        \"max\": 82364.7643678161,\n        \"num_unique_values\": 4250,\n        \"samples\": [\n          15115.66091954023\n        ],\n        \"semantic_type\": \"\",\n        \"description\": \"\"\n      }\n    }\n  ]\n}"
            }
          },
          "metadata": {},
          "execution_count": 9
        }
      ]
    },
    {
      "cell_type": "markdown",
      "source": [
        "### Сделайте соединение таблиц — вспомните про методы соединения и выберите подходящий для этого случая."
      ],
      "metadata": {
        "id": "P4RCLbwfa-es"
      }
    },
    {
      "cell_type": "code",
      "source": [
        "df = pd.merge(car_train, group_of_rides, on='car_id')"
      ],
      "metadata": {
        "id": "xcUlvk6KbAAz"
      },
      "execution_count": 10,
      "outputs": []
    },
    {
      "cell_type": "code",
      "source": [
        "df.head()"
      ],
      "metadata": {
        "colab": {
          "base_uri": "https://localhost:8080/",
          "height": 313
        },
        "id": "YTr63H1sbgw0",
        "outputId": "d0b1d252-8dd8-43d0-f0b5-a02d1a68603f"
      },
      "execution_count": 11,
      "outputs": [
        {
          "output_type": "execute_result",
          "data": {
            "text/plain": [
              "       car_id              model  car_type fuel_type  car_rating  \\\n",
              "0  y13744087j     Kia Rio X-line   economy    petrol        3.78   \n",
              "1  O41613818T         VW Polo VI   economy    petrol        3.90   \n",
              "2  d-2109686j    Renault Sandero  standart    petrol        6.30   \n",
              "3  u29695600e  Mercedes-Benz GLC  business    petrol        4.04   \n",
              "4  N-8915870N    Renault Sandero  standart    petrol        4.70   \n",
              "\n",
              "   year_to_start  riders  year_to_work  target_reg target_class  min_rating  \\\n",
              "0           2015   76163          2021      108.53  another_bug         0.1   \n",
              "1           2015   78218          2021       35.20  electro_bug         0.0   \n",
              "2           2012   23340          2017       38.62   gear_stick         0.1   \n",
              "3           2011    1263          2020       30.34  engine_fuel         0.1   \n",
              "4           2012   26428          2017       30.45  engine_fuel         0.1   \n",
              "\n",
              "   mean_rating  sum_distance   speed_max  count_rides  speed_mean  \\\n",
              "0     4.737759  1.214131e+07  180.855726          174   44.660920   \n",
              "1     4.480517  1.803909e+07  187.862734          174   49.862069   \n",
              "2     4.768391  1.588366e+07  102.382857          174   44.005747   \n",
              "3     3.880920  1.651883e+07  172.793237          174   49.344828   \n",
              "4     4.181149  1.398317e+07  203.462289          174   50.603448   \n",
              "\n",
              "   user_ride_quality_max  ride_cost_mean  \n",
              "0              11.035871    20106.873563  \n",
              "1              32.610351    26813.614943  \n",
              "2              11.766087    23987.793103  \n",
              "3               3.931040    37839.086207  \n",
              "4               3.344463    19888.431034  "
            ],
            "text/html": [
              "\n",
              "  <div id=\"df-55bff900-e52d-4c6c-a6ba-205f587faf14\" class=\"colab-df-container\">\n",
              "    <div>\n",
              "<style scoped>\n",
              "    .dataframe tbody tr th:only-of-type {\n",
              "        vertical-align: middle;\n",
              "    }\n",
              "\n",
              "    .dataframe tbody tr th {\n",
              "        vertical-align: top;\n",
              "    }\n",
              "\n",
              "    .dataframe thead th {\n",
              "        text-align: right;\n",
              "    }\n",
              "</style>\n",
              "<table border=\"1\" class=\"dataframe\">\n",
              "  <thead>\n",
              "    <tr style=\"text-align: right;\">\n",
              "      <th></th>\n",
              "      <th>car_id</th>\n",
              "      <th>model</th>\n",
              "      <th>car_type</th>\n",
              "      <th>fuel_type</th>\n",
              "      <th>car_rating</th>\n",
              "      <th>year_to_start</th>\n",
              "      <th>riders</th>\n",
              "      <th>year_to_work</th>\n",
              "      <th>target_reg</th>\n",
              "      <th>target_class</th>\n",
              "      <th>min_rating</th>\n",
              "      <th>mean_rating</th>\n",
              "      <th>sum_distance</th>\n",
              "      <th>speed_max</th>\n",
              "      <th>count_rides</th>\n",
              "      <th>speed_mean</th>\n",
              "      <th>user_ride_quality_max</th>\n",
              "      <th>ride_cost_mean</th>\n",
              "    </tr>\n",
              "  </thead>\n",
              "  <tbody>\n",
              "    <tr>\n",
              "      <th>0</th>\n",
              "      <td>y13744087j</td>\n",
              "      <td>Kia Rio X-line</td>\n",
              "      <td>economy</td>\n",
              "      <td>petrol</td>\n",
              "      <td>3.78</td>\n",
              "      <td>2015</td>\n",
              "      <td>76163</td>\n",
              "      <td>2021</td>\n",
              "      <td>108.53</td>\n",
              "      <td>another_bug</td>\n",
              "      <td>0.1</td>\n",
              "      <td>4.737759</td>\n",
              "      <td>1.214131e+07</td>\n",
              "      <td>180.855726</td>\n",
              "      <td>174</td>\n",
              "      <td>44.660920</td>\n",
              "      <td>11.035871</td>\n",
              "      <td>20106.873563</td>\n",
              "    </tr>\n",
              "    <tr>\n",
              "      <th>1</th>\n",
              "      <td>O41613818T</td>\n",
              "      <td>VW Polo VI</td>\n",
              "      <td>economy</td>\n",
              "      <td>petrol</td>\n",
              "      <td>3.90</td>\n",
              "      <td>2015</td>\n",
              "      <td>78218</td>\n",
              "      <td>2021</td>\n",
              "      <td>35.20</td>\n",
              "      <td>electro_bug</td>\n",
              "      <td>0.0</td>\n",
              "      <td>4.480517</td>\n",
              "      <td>1.803909e+07</td>\n",
              "      <td>187.862734</td>\n",
              "      <td>174</td>\n",
              "      <td>49.862069</td>\n",
              "      <td>32.610351</td>\n",
              "      <td>26813.614943</td>\n",
              "    </tr>\n",
              "    <tr>\n",
              "      <th>2</th>\n",
              "      <td>d-2109686j</td>\n",
              "      <td>Renault Sandero</td>\n",
              "      <td>standart</td>\n",
              "      <td>petrol</td>\n",
              "      <td>6.30</td>\n",
              "      <td>2012</td>\n",
              "      <td>23340</td>\n",
              "      <td>2017</td>\n",
              "      <td>38.62</td>\n",
              "      <td>gear_stick</td>\n",
              "      <td>0.1</td>\n",
              "      <td>4.768391</td>\n",
              "      <td>1.588366e+07</td>\n",
              "      <td>102.382857</td>\n",
              "      <td>174</td>\n",
              "      <td>44.005747</td>\n",
              "      <td>11.766087</td>\n",
              "      <td>23987.793103</td>\n",
              "    </tr>\n",
              "    <tr>\n",
              "      <th>3</th>\n",
              "      <td>u29695600e</td>\n",
              "      <td>Mercedes-Benz GLC</td>\n",
              "      <td>business</td>\n",
              "      <td>petrol</td>\n",
              "      <td>4.04</td>\n",
              "      <td>2011</td>\n",
              "      <td>1263</td>\n",
              "      <td>2020</td>\n",
              "      <td>30.34</td>\n",
              "      <td>engine_fuel</td>\n",
              "      <td>0.1</td>\n",
              "      <td>3.880920</td>\n",
              "      <td>1.651883e+07</td>\n",
              "      <td>172.793237</td>\n",
              "      <td>174</td>\n",
              "      <td>49.344828</td>\n",
              "      <td>3.931040</td>\n",
              "      <td>37839.086207</td>\n",
              "    </tr>\n",
              "    <tr>\n",
              "      <th>4</th>\n",
              "      <td>N-8915870N</td>\n",
              "      <td>Renault Sandero</td>\n",
              "      <td>standart</td>\n",
              "      <td>petrol</td>\n",
              "      <td>4.70</td>\n",
              "      <td>2012</td>\n",
              "      <td>26428</td>\n",
              "      <td>2017</td>\n",
              "      <td>30.45</td>\n",
              "      <td>engine_fuel</td>\n",
              "      <td>0.1</td>\n",
              "      <td>4.181149</td>\n",
              "      <td>1.398317e+07</td>\n",
              "      <td>203.462289</td>\n",
              "      <td>174</td>\n",
              "      <td>50.603448</td>\n",
              "      <td>3.344463</td>\n",
              "      <td>19888.431034</td>\n",
              "    </tr>\n",
              "  </tbody>\n",
              "</table>\n",
              "</div>\n",
              "    <div class=\"colab-df-buttons\">\n",
              "\n",
              "  <div class=\"colab-df-container\">\n",
              "    <button class=\"colab-df-convert\" onclick=\"convertToInteractive('df-55bff900-e52d-4c6c-a6ba-205f587faf14')\"\n",
              "            title=\"Convert this dataframe to an interactive table.\"\n",
              "            style=\"display:none;\">\n",
              "\n",
              "  <svg xmlns=\"http://www.w3.org/2000/svg\" height=\"24px\" viewBox=\"0 -960 960 960\">\n",
              "    <path d=\"M120-120v-720h720v720H120Zm60-500h600v-160H180v160Zm220 220h160v-160H400v160Zm0 220h160v-160H400v160ZM180-400h160v-160H180v160Zm440 0h160v-160H620v160ZM180-180h160v-160H180v160Zm440 0h160v-160H620v160Z\"/>\n",
              "  </svg>\n",
              "    </button>\n",
              "\n",
              "  <style>\n",
              "    .colab-df-container {\n",
              "      display:flex;\n",
              "      gap: 12px;\n",
              "    }\n",
              "\n",
              "    .colab-df-convert {\n",
              "      background-color: #E8F0FE;\n",
              "      border: none;\n",
              "      border-radius: 50%;\n",
              "      cursor: pointer;\n",
              "      display: none;\n",
              "      fill: #1967D2;\n",
              "      height: 32px;\n",
              "      padding: 0 0 0 0;\n",
              "      width: 32px;\n",
              "    }\n",
              "\n",
              "    .colab-df-convert:hover {\n",
              "      background-color: #E2EBFA;\n",
              "      box-shadow: 0px 1px 2px rgba(60, 64, 67, 0.3), 0px 1px 3px 1px rgba(60, 64, 67, 0.15);\n",
              "      fill: #174EA6;\n",
              "    }\n",
              "\n",
              "    .colab-df-buttons div {\n",
              "      margin-bottom: 4px;\n",
              "    }\n",
              "\n",
              "    [theme=dark] .colab-df-convert {\n",
              "      background-color: #3B4455;\n",
              "      fill: #D2E3FC;\n",
              "    }\n",
              "\n",
              "    [theme=dark] .colab-df-convert:hover {\n",
              "      background-color: #434B5C;\n",
              "      box-shadow: 0px 1px 3px 1px rgba(0, 0, 0, 0.15);\n",
              "      filter: drop-shadow(0px 1px 2px rgba(0, 0, 0, 0.3));\n",
              "      fill: #FFFFFF;\n",
              "    }\n",
              "  </style>\n",
              "\n",
              "    <script>\n",
              "      const buttonEl =\n",
              "        document.querySelector('#df-55bff900-e52d-4c6c-a6ba-205f587faf14 button.colab-df-convert');\n",
              "      buttonEl.style.display =\n",
              "        google.colab.kernel.accessAllowed ? 'block' : 'none';\n",
              "\n",
              "      async function convertToInteractive(key) {\n",
              "        const element = document.querySelector('#df-55bff900-e52d-4c6c-a6ba-205f587faf14');\n",
              "        const dataTable =\n",
              "          await google.colab.kernel.invokeFunction('convertToInteractive',\n",
              "                                                    [key], {});\n",
              "        if (!dataTable) return;\n",
              "\n",
              "        const docLinkHtml = 'Like what you see? Visit the ' +\n",
              "          '<a target=\"_blank\" href=https://colab.research.google.com/notebooks/data_table.ipynb>data table notebook</a>'\n",
              "          + ' to learn more about interactive tables.';\n",
              "        element.innerHTML = '';\n",
              "        dataTable['output_type'] = 'display_data';\n",
              "        await google.colab.output.renderOutput(dataTable, element);\n",
              "        const docLink = document.createElement('div');\n",
              "        docLink.innerHTML = docLinkHtml;\n",
              "        element.appendChild(docLink);\n",
              "      }\n",
              "    </script>\n",
              "  </div>\n",
              "\n",
              "\n",
              "<div id=\"df-90cc9afb-2587-4c24-bdcc-f877e912b54d\">\n",
              "  <button class=\"colab-df-quickchart\" onclick=\"quickchart('df-90cc9afb-2587-4c24-bdcc-f877e912b54d')\"\n",
              "            title=\"Suggest charts\"\n",
              "            style=\"display:none;\">\n",
              "\n",
              "<svg xmlns=\"http://www.w3.org/2000/svg\" height=\"24px\"viewBox=\"0 0 24 24\"\n",
              "     width=\"24px\">\n",
              "    <g>\n",
              "        <path d=\"M19 3H5c-1.1 0-2 .9-2 2v14c0 1.1.9 2 2 2h14c1.1 0 2-.9 2-2V5c0-1.1-.9-2-2-2zM9 17H7v-7h2v7zm4 0h-2V7h2v10zm4 0h-2v-4h2v4z\"/>\n",
              "    </g>\n",
              "</svg>\n",
              "  </button>\n",
              "\n",
              "<style>\n",
              "  .colab-df-quickchart {\n",
              "      --bg-color: #E8F0FE;\n",
              "      --fill-color: #1967D2;\n",
              "      --hover-bg-color: #E2EBFA;\n",
              "      --hover-fill-color: #174EA6;\n",
              "      --disabled-fill-color: #AAA;\n",
              "      --disabled-bg-color: #DDD;\n",
              "  }\n",
              "\n",
              "  [theme=dark] .colab-df-quickchart {\n",
              "      --bg-color: #3B4455;\n",
              "      --fill-color: #D2E3FC;\n",
              "      --hover-bg-color: #434B5C;\n",
              "      --hover-fill-color: #FFFFFF;\n",
              "      --disabled-bg-color: #3B4455;\n",
              "      --disabled-fill-color: #666;\n",
              "  }\n",
              "\n",
              "  .colab-df-quickchart {\n",
              "    background-color: var(--bg-color);\n",
              "    border: none;\n",
              "    border-radius: 50%;\n",
              "    cursor: pointer;\n",
              "    display: none;\n",
              "    fill: var(--fill-color);\n",
              "    height: 32px;\n",
              "    padding: 0;\n",
              "    width: 32px;\n",
              "  }\n",
              "\n",
              "  .colab-df-quickchart:hover {\n",
              "    background-color: var(--hover-bg-color);\n",
              "    box-shadow: 0 1px 2px rgba(60, 64, 67, 0.3), 0 1px 3px 1px rgba(60, 64, 67, 0.15);\n",
              "    fill: var(--button-hover-fill-color);\n",
              "  }\n",
              "\n",
              "  .colab-df-quickchart-complete:disabled,\n",
              "  .colab-df-quickchart-complete:disabled:hover {\n",
              "    background-color: var(--disabled-bg-color);\n",
              "    fill: var(--disabled-fill-color);\n",
              "    box-shadow: none;\n",
              "  }\n",
              "\n",
              "  .colab-df-spinner {\n",
              "    border: 2px solid var(--fill-color);\n",
              "    border-color: transparent;\n",
              "    border-bottom-color: var(--fill-color);\n",
              "    animation:\n",
              "      spin 1s steps(1) infinite;\n",
              "  }\n",
              "\n",
              "  @keyframes spin {\n",
              "    0% {\n",
              "      border-color: transparent;\n",
              "      border-bottom-color: var(--fill-color);\n",
              "      border-left-color: var(--fill-color);\n",
              "    }\n",
              "    20% {\n",
              "      border-color: transparent;\n",
              "      border-left-color: var(--fill-color);\n",
              "      border-top-color: var(--fill-color);\n",
              "    }\n",
              "    30% {\n",
              "      border-color: transparent;\n",
              "      border-left-color: var(--fill-color);\n",
              "      border-top-color: var(--fill-color);\n",
              "      border-right-color: var(--fill-color);\n",
              "    }\n",
              "    40% {\n",
              "      border-color: transparent;\n",
              "      border-right-color: var(--fill-color);\n",
              "      border-top-color: var(--fill-color);\n",
              "    }\n",
              "    60% {\n",
              "      border-color: transparent;\n",
              "      border-right-color: var(--fill-color);\n",
              "    }\n",
              "    80% {\n",
              "      border-color: transparent;\n",
              "      border-right-color: var(--fill-color);\n",
              "      border-bottom-color: var(--fill-color);\n",
              "    }\n",
              "    90% {\n",
              "      border-color: transparent;\n",
              "      border-bottom-color: var(--fill-color);\n",
              "    }\n",
              "  }\n",
              "</style>\n",
              "\n",
              "  <script>\n",
              "    async function quickchart(key) {\n",
              "      const quickchartButtonEl =\n",
              "        document.querySelector('#' + key + ' button');\n",
              "      quickchartButtonEl.disabled = true;  // To prevent multiple clicks.\n",
              "      quickchartButtonEl.classList.add('colab-df-spinner');\n",
              "      try {\n",
              "        const charts = await google.colab.kernel.invokeFunction(\n",
              "            'suggestCharts', [key], {});\n",
              "      } catch (error) {\n",
              "        console.error('Error during call to suggestCharts:', error);\n",
              "      }\n",
              "      quickchartButtonEl.classList.remove('colab-df-spinner');\n",
              "      quickchartButtonEl.classList.add('colab-df-quickchart-complete');\n",
              "    }\n",
              "    (() => {\n",
              "      let quickchartButtonEl =\n",
              "        document.querySelector('#df-90cc9afb-2587-4c24-bdcc-f877e912b54d button');\n",
              "      quickchartButtonEl.style.display =\n",
              "        google.colab.kernel.accessAllowed ? 'block' : 'none';\n",
              "    })();\n",
              "  </script>\n",
              "</div>\n",
              "    </div>\n",
              "  </div>\n"
            ],
            "application/vnd.google.colaboratory.intrinsic+json": {
              "type": "dataframe",
              "variable_name": "df",
              "summary": "{\n  \"name\": \"df\",\n  \"rows\": 2337,\n  \"fields\": [\n    {\n      \"column\": \"car_id\",\n      \"properties\": {\n        \"dtype\": \"string\",\n        \"num_unique_values\": 2337,\n        \"samples\": [\n          \"z14411100u\",\n          \"n-6604555n\",\n          \"d-1051262p\"\n        ],\n        \"semantic_type\": \"\",\n        \"description\": \"\"\n      }\n    },\n    {\n      \"column\": \"model\",\n      \"properties\": {\n        \"dtype\": \"category\",\n        \"num_unique_values\": 26,\n        \"samples\": [\n          \"Smart ForFour\",\n          \"Renault Kaptur\",\n          \"Kia Rio X-line\"\n        ],\n        \"semantic_type\": \"\",\n        \"description\": \"\"\n      }\n    },\n    {\n      \"column\": \"car_type\",\n      \"properties\": {\n        \"dtype\": \"category\",\n        \"num_unique_values\": 4,\n        \"samples\": [\n          \"standart\",\n          \"premium\",\n          \"economy\"\n        ],\n        \"semantic_type\": \"\",\n        \"description\": \"\"\n      }\n    },\n    {\n      \"column\": \"fuel_type\",\n      \"properties\": {\n        \"dtype\": \"category\",\n        \"num_unique_values\": 2,\n        \"samples\": [\n          \"electro\",\n          \"petrol\"\n        ],\n        \"semantic_type\": \"\",\n        \"description\": \"\"\n      }\n    },\n    {\n      \"column\": \"car_rating\",\n      \"properties\": {\n        \"dtype\": \"number\",\n        \"std\": 0.9969539766615568,\n        \"min\": 0.98,\n        \"max\": 8.9,\n        \"num_unique_values\": 269,\n        \"samples\": [\n          2.78,\n          2.1\n        ],\n        \"semantic_type\": \"\",\n        \"description\": \"\"\n      }\n    },\n    {\n      \"column\": \"year_to_start\",\n      \"properties\": {\n        \"dtype\": \"number\",\n        \"std\": 1,\n        \"min\": 2011,\n        \"max\": 2017,\n        \"num_unique_values\": 7,\n        \"samples\": [\n          2015,\n          2012\n        ],\n        \"semantic_type\": \"\",\n        \"description\": \"\"\n      }\n    },\n    {\n      \"column\": \"riders\",\n      \"properties\": {\n        \"dtype\": \"number\",\n        \"std\": 33755,\n        \"min\": 23,\n        \"max\": 142862,\n        \"num_unique_values\": 2306,\n        \"samples\": [\n          61719,\n          100108\n        ],\n        \"semantic_type\": \"\",\n        \"description\": \"\"\n      }\n    },\n    {\n      \"column\": \"year_to_work\",\n      \"properties\": {\n        \"dtype\": \"number\",\n        \"std\": 2,\n        \"min\": 2014,\n        \"max\": 2022,\n        \"num_unique_values\": 9,\n        \"samples\": [\n          2022,\n          2017\n        ],\n        \"semantic_type\": \"\",\n        \"description\": \"\"\n      }\n    },\n    {\n      \"column\": \"target_reg\",\n      \"properties\": {\n        \"dtype\": \"number\",\n        \"std\": 17.579568125863787,\n        \"min\": 18.92,\n        \"max\": 141.63,\n        \"num_unique_values\": 1891,\n        \"samples\": [\n          37.98,\n          58.11\n        ],\n        \"semantic_type\": \"\",\n        \"description\": \"\"\n      }\n    },\n    {\n      \"column\": \"target_class\",\n      \"properties\": {\n        \"dtype\": \"category\",\n        \"num_unique_values\": 9,\n        \"samples\": [\n          \"wheel_shake\",\n          \"electro_bug\"\n        ],\n        \"semantic_type\": \"\",\n        \"description\": \"\"\n      }\n    },\n    {\n      \"column\": \"min_rating\",\n      \"properties\": {\n        \"dtype\": \"number\",\n        \"std\": 0.16397828346003004,\n        \"min\": 0.0,\n        \"max\": 1.5,\n        \"num_unique_values\": 91,\n        \"samples\": [\n          0.67,\n          0.5\n        ],\n        \"semantic_type\": \"\",\n        \"description\": \"\"\n      }\n    },\n    {\n      \"column\": \"mean_rating\",\n      \"properties\": {\n        \"dtype\": \"number\",\n        \"std\": 0.4185875181615076,\n        \"min\": 3.529885057471265,\n        \"max\": 5.700747126436782,\n        \"num_unique_values\": 2223,\n        \"samples\": [\n          4.938505747126436,\n          4.750402298850575\n        ],\n        \"semantic_type\": \"\",\n        \"description\": \"\"\n      }\n    },\n    {\n      \"column\": \"sum_distance\",\n      \"properties\": {\n        \"dtype\": \"number\",\n        \"std\": 4253208.772370099,\n        \"min\": 1478866.3194710591,\n        \"max\": 31197854.66144909,\n        \"num_unique_values\": 2337,\n        \"samples\": [\n          11634739.066408757,\n          17976546.948301077\n        ],\n        \"semantic_type\": \"\",\n        \"description\": \"\"\n      }\n    },\n    {\n      \"column\": \"speed_max\",\n      \"properties\": {\n        \"dtype\": \"number\",\n        \"std\": 33.211160987028705,\n        \"min\": 91.4235081222183,\n        \"max\": 209.98283950882248,\n        \"num_unique_values\": 1938,\n        \"samples\": [\n          109.38343955827206,\n          196.76859522747992\n        ],\n        \"semantic_type\": \"\",\n        \"description\": \"\"\n      }\n    },\n    {\n      \"column\": \"count_rides\",\n      \"properties\": {\n        \"dtype\": \"number\",\n        \"std\": 0,\n        \"min\": 174,\n        \"max\": 174,\n        \"num_unique_values\": 1,\n        \"samples\": [\n          174\n        ],\n        \"semantic_type\": \"\",\n        \"description\": \"\"\n      }\n    },\n    {\n      \"column\": \"speed_mean\",\n      \"properties\": {\n        \"dtype\": \"number\",\n        \"std\": 2.761201815368068,\n        \"min\": 42.4367816091954,\n        \"max\": 53.132183908045974,\n        \"num_unique_values\": 1035,\n        \"samples\": [\n          51.14942528735632\n        ],\n        \"semantic_type\": \"\",\n        \"description\": \"\"\n      }\n    },\n    {\n      \"column\": \"user_ride_quality_max\",\n      \"properties\": {\n        \"dtype\": \"number\",\n        \"std\": 9.895718804375633,\n        \"min\": -3.814874015852011,\n        \"max\": 69.57464979309526,\n        \"num_unique_values\": 2337,\n        \"samples\": [\n          7.385791891764447\n        ],\n        \"semantic_type\": \"\",\n        \"description\": \"\"\n      }\n    },\n    {\n      \"column\": \"ride_cost_mean\",\n      \"properties\": {\n        \"dtype\": \"number\",\n        \"std\": 8116.641364427624,\n        \"min\": 2302.6609195402298,\n        \"max\": 76800.83333333333,\n        \"num_unique_values\": 2337,\n        \"samples\": [\n          32568.505747126437\n        ],\n        \"semantic_type\": \"\",\n        \"description\": \"\"\n      }\n    }\n  ]\n}"
            }
          },
          "metadata": {},
          "execution_count": 11
        }
      ]
    },
    {
      "cell_type": "markdown",
      "source": [
        "### Подключите информацию про водителей (driver_info) и про ремонт машин (fix_info). Добавьте минимум 3 любых признака с каждого датасета."
      ],
      "metadata": {
        "id": "H6X6PN60cIJR"
      }
    },
    {
      "cell_type": "code",
      "source": [
        "# driver_info.head(1)"
      ],
      "metadata": {
        "id": "M9wb959TvUrX"
      },
      "execution_count": 12,
      "outputs": []
    },
    {
      "cell_type": "code",
      "source": [
        "# fix_info.head(1)"
      ],
      "metadata": {
        "id": "O3CuFB25vYP4"
      },
      "execution_count": 13,
      "outputs": []
    },
    {
      "cell_type": "code",
      "source": [
        "# df = pd.merge(df, rides_info, on='car_id')\n",
        "# df = pd.merge(df, driver_info[['user_id', 'age', 'user_rides', 'user_rating']], on='user_id')\n",
        "# df = pd.merge(df, fix_info[['car_id', 'fix_date', 'work_type', 'work_duration']], on='car_id')"
      ],
      "metadata": {
        "id": "THb4sZxUeq5E"
      },
      "execution_count": 14,
      "outputs": []
    },
    {
      "cell_type": "code",
      "source": [
        "# df.head()"
      ],
      "metadata": {
        "id": "4vex34eOf2LO"
      },
      "execution_count": 15,
      "outputs": []
    },
    {
      "cell_type": "markdown",
      "metadata": {
        "id": "Q6Fa0zupbuhw"
      },
      "source": [
        "## Задание 2. Применение методов фильтрации признаков (4 балла)\n",
        "\n",
        "<center> <img src=\"https://ucarecdn.com/d1b4bc78-fd04-44fb-bdbf-0a63355b7384/\" width=700>"
      ]
    },
    {
      "cell_type": "markdown",
      "metadata": {
        "id": "c910L9jubuhx"
      },
      "source": [
        "1. Выберите и примените любые 3 (можно и больше) метода фильтрации, которые указаны выше или в ноутбуке по фильтрации из полезных ссылок.\n",
        "2. Проинтерпретируйте результаты и сделайте выводы.\n",
        "\n",
        "\n",
        "<h4> Критерии оценивания </h4>\n",
        "    \n",
        "- Применены методы фильтрации — 1 балл за каждый метод, максимум 3 балла.\n",
        "- Сделаны выводы на основе примененных методов —1 балл.\n",
        "</div>"
      ]
    },
    {
      "cell_type": "markdown",
      "source": [
        "### Советы по Feature Selection"
      ],
      "metadata": {
        "id": "9flWgKVxf9Q1"
      }
    },
    {
      "cell_type": "markdown",
      "metadata": {
        "id": "vYr9VNS5buhw"
      },
      "source": [
        "<div class=\"alert alert-info\">\n",
        "\n",
        "<h3><center>Зачем отбирать признаки</center></h3>\n",
        "    \n",
        "**Основные причины**:\n",
        "    \n",
        "- Главная причина: с увеличением количества признаков часто падает точность предсказания модели, а некоторые модели и вовсе перестают адекватно работать. Так происходит, если в данных большое количество мусорных фичей (почти не коррелирующих с таргетом).\n",
        "\n",
        "- Если фичей очень много, то данные перестают помещаться в память и существенно увеличивают время обучения модели, особенно если мы тестируем несколько алгоритмов или ансамбль. Также важно учитывать, что платформы имеют ограничения на длительность одной сессии (в Kaggle — 12 часов) и лимиты по потребляемой памяти.\n",
        "\n",
        "- Даже если точность не снижается, есть риск, что модель опирается на шумные фичи, что снизит стабильность прогноза на приватной выборке.\n"
      ]
    },
    {
      "cell_type": "markdown",
      "metadata": {
        "id": "P4JQwUS3buhw"
      },
      "source": [
        "<b>Что удалить сразу:</b>\n",
        "    \n",
        "- константы;\n",
        "- уникальные значения (в том числе в тесте; как правило, это ID-шники по типу `car_id`).\n",
        "    \n",
        "<b>Какие методы использовать:</b>\n",
        "    \n",
        "- `Линейная корреляция`.\n",
        "- `Phik` — тоже корреляция, но на стероидах ([туториал на Medium](https://towardsdatascience.com/phik-k-get-familiar-with-the-latest-correlation-coefficient-9ba0032b37e7)).\n",
        "- `Permutation importance` (из `scikit-learn`).\n",
        "- `SHAP values` (из библиотеки `shap`).\n",
        "- `CatBoost Feature Selection` (рекурсивные методы).\n",
        "    "
      ]
    },
    {
      "cell_type": "markdown",
      "source": [
        "## **Решение 2 задания**"
      ],
      "metadata": {
        "id": "nkxG68anhvXU"
      }
    },
    {
      "cell_type": "markdown",
      "source": [
        "<b>Что удалить сразу:</b>\n",
        "    \n",
        "- константы;\n",
        "- уникальные значения (в том числе в тесте; как правило, это ID-шники по типу `car_id`)."
      ],
      "metadata": {
        "id": "VkH4c9axhuGm"
      }
    },
    {
      "cell_type": "code",
      "execution_count": 16,
      "metadata": {
        "id": "UT2ndUSHbuhx"
      },
      "outputs": [],
      "source": [
        "cols_for_delete = [col for col in df.columns if df[col].nunique() == 1\n",
        "                   or df[col].nunique() == df.shape[0]\n",
        "                   or col in ['ride_id', 'car_id', 'user_id']]"
      ]
    },
    {
      "cell_type": "code",
      "source": [
        "cols_for_delete"
      ],
      "metadata": {
        "colab": {
          "base_uri": "https://localhost:8080/"
        },
        "id": "O_w_JQm2iUuB",
        "outputId": "225a54ef-d558-4aa7-bfea-f365b51e8a41"
      },
      "execution_count": 17,
      "outputs": [
        {
          "output_type": "execute_result",
          "data": {
            "text/plain": [
              "['car_id',\n",
              " 'sum_distance',\n",
              " 'count_rides',\n",
              " 'user_ride_quality_max',\n",
              " 'ride_cost_mean']"
            ]
          },
          "metadata": {},
          "execution_count": 17
        }
      ]
    },
    {
      "cell_type": "code",
      "source": [
        "df = df.drop(columns=cols_for_delete)"
      ],
      "metadata": {
        "id": "9vuJpEf-ihMk"
      },
      "execution_count": 18,
      "outputs": []
    },
    {
      "cell_type": "code",
      "source": [
        "df.head()"
      ],
      "metadata": {
        "colab": {
          "base_uri": "https://localhost:8080/",
          "height": 206
        },
        "id": "2bjGencBinO3",
        "outputId": "b1d64faf-6460-4740-bb9d-db2b6d1640be"
      },
      "execution_count": 19,
      "outputs": [
        {
          "output_type": "execute_result",
          "data": {
            "text/plain": [
              "               model  car_type fuel_type  car_rating  year_to_start  riders  \\\n",
              "0     Kia Rio X-line   economy    petrol        3.78           2015   76163   \n",
              "1         VW Polo VI   economy    petrol        3.90           2015   78218   \n",
              "2    Renault Sandero  standart    petrol        6.30           2012   23340   \n",
              "3  Mercedes-Benz GLC  business    petrol        4.04           2011    1263   \n",
              "4    Renault Sandero  standart    petrol        4.70           2012   26428   \n",
              "\n",
              "   year_to_work  target_reg target_class  min_rating  mean_rating   speed_max  \\\n",
              "0          2021      108.53  another_bug         0.1     4.737759  180.855726   \n",
              "1          2021       35.20  electro_bug         0.0     4.480517  187.862734   \n",
              "2          2017       38.62   gear_stick         0.1     4.768391  102.382857   \n",
              "3          2020       30.34  engine_fuel         0.1     3.880920  172.793237   \n",
              "4          2017       30.45  engine_fuel         0.1     4.181149  203.462289   \n",
              "\n",
              "   speed_mean  \n",
              "0   44.660920  \n",
              "1   49.862069  \n",
              "2   44.005747  \n",
              "3   49.344828  \n",
              "4   50.603448  "
            ],
            "text/html": [
              "\n",
              "  <div id=\"df-c5e58868-98ad-4b0d-a460-b8596f2028a5\" class=\"colab-df-container\">\n",
              "    <div>\n",
              "<style scoped>\n",
              "    .dataframe tbody tr th:only-of-type {\n",
              "        vertical-align: middle;\n",
              "    }\n",
              "\n",
              "    .dataframe tbody tr th {\n",
              "        vertical-align: top;\n",
              "    }\n",
              "\n",
              "    .dataframe thead th {\n",
              "        text-align: right;\n",
              "    }\n",
              "</style>\n",
              "<table border=\"1\" class=\"dataframe\">\n",
              "  <thead>\n",
              "    <tr style=\"text-align: right;\">\n",
              "      <th></th>\n",
              "      <th>model</th>\n",
              "      <th>car_type</th>\n",
              "      <th>fuel_type</th>\n",
              "      <th>car_rating</th>\n",
              "      <th>year_to_start</th>\n",
              "      <th>riders</th>\n",
              "      <th>year_to_work</th>\n",
              "      <th>target_reg</th>\n",
              "      <th>target_class</th>\n",
              "      <th>min_rating</th>\n",
              "      <th>mean_rating</th>\n",
              "      <th>speed_max</th>\n",
              "      <th>speed_mean</th>\n",
              "    </tr>\n",
              "  </thead>\n",
              "  <tbody>\n",
              "    <tr>\n",
              "      <th>0</th>\n",
              "      <td>Kia Rio X-line</td>\n",
              "      <td>economy</td>\n",
              "      <td>petrol</td>\n",
              "      <td>3.78</td>\n",
              "      <td>2015</td>\n",
              "      <td>76163</td>\n",
              "      <td>2021</td>\n",
              "      <td>108.53</td>\n",
              "      <td>another_bug</td>\n",
              "      <td>0.1</td>\n",
              "      <td>4.737759</td>\n",
              "      <td>180.855726</td>\n",
              "      <td>44.660920</td>\n",
              "    </tr>\n",
              "    <tr>\n",
              "      <th>1</th>\n",
              "      <td>VW Polo VI</td>\n",
              "      <td>economy</td>\n",
              "      <td>petrol</td>\n",
              "      <td>3.90</td>\n",
              "      <td>2015</td>\n",
              "      <td>78218</td>\n",
              "      <td>2021</td>\n",
              "      <td>35.20</td>\n",
              "      <td>electro_bug</td>\n",
              "      <td>0.0</td>\n",
              "      <td>4.480517</td>\n",
              "      <td>187.862734</td>\n",
              "      <td>49.862069</td>\n",
              "    </tr>\n",
              "    <tr>\n",
              "      <th>2</th>\n",
              "      <td>Renault Sandero</td>\n",
              "      <td>standart</td>\n",
              "      <td>petrol</td>\n",
              "      <td>6.30</td>\n",
              "      <td>2012</td>\n",
              "      <td>23340</td>\n",
              "      <td>2017</td>\n",
              "      <td>38.62</td>\n",
              "      <td>gear_stick</td>\n",
              "      <td>0.1</td>\n",
              "      <td>4.768391</td>\n",
              "      <td>102.382857</td>\n",
              "      <td>44.005747</td>\n",
              "    </tr>\n",
              "    <tr>\n",
              "      <th>3</th>\n",
              "      <td>Mercedes-Benz GLC</td>\n",
              "      <td>business</td>\n",
              "      <td>petrol</td>\n",
              "      <td>4.04</td>\n",
              "      <td>2011</td>\n",
              "      <td>1263</td>\n",
              "      <td>2020</td>\n",
              "      <td>30.34</td>\n",
              "      <td>engine_fuel</td>\n",
              "      <td>0.1</td>\n",
              "      <td>3.880920</td>\n",
              "      <td>172.793237</td>\n",
              "      <td>49.344828</td>\n",
              "    </tr>\n",
              "    <tr>\n",
              "      <th>4</th>\n",
              "      <td>Renault Sandero</td>\n",
              "      <td>standart</td>\n",
              "      <td>petrol</td>\n",
              "      <td>4.70</td>\n",
              "      <td>2012</td>\n",
              "      <td>26428</td>\n",
              "      <td>2017</td>\n",
              "      <td>30.45</td>\n",
              "      <td>engine_fuel</td>\n",
              "      <td>0.1</td>\n",
              "      <td>4.181149</td>\n",
              "      <td>203.462289</td>\n",
              "      <td>50.603448</td>\n",
              "    </tr>\n",
              "  </tbody>\n",
              "</table>\n",
              "</div>\n",
              "    <div class=\"colab-df-buttons\">\n",
              "\n",
              "  <div class=\"colab-df-container\">\n",
              "    <button class=\"colab-df-convert\" onclick=\"convertToInteractive('df-c5e58868-98ad-4b0d-a460-b8596f2028a5')\"\n",
              "            title=\"Convert this dataframe to an interactive table.\"\n",
              "            style=\"display:none;\">\n",
              "\n",
              "  <svg xmlns=\"http://www.w3.org/2000/svg\" height=\"24px\" viewBox=\"0 -960 960 960\">\n",
              "    <path d=\"M120-120v-720h720v720H120Zm60-500h600v-160H180v160Zm220 220h160v-160H400v160Zm0 220h160v-160H400v160ZM180-400h160v-160H180v160Zm440 0h160v-160H620v160ZM180-180h160v-160H180v160Zm440 0h160v-160H620v160Z\"/>\n",
              "  </svg>\n",
              "    </button>\n",
              "\n",
              "  <style>\n",
              "    .colab-df-container {\n",
              "      display:flex;\n",
              "      gap: 12px;\n",
              "    }\n",
              "\n",
              "    .colab-df-convert {\n",
              "      background-color: #E8F0FE;\n",
              "      border: none;\n",
              "      border-radius: 50%;\n",
              "      cursor: pointer;\n",
              "      display: none;\n",
              "      fill: #1967D2;\n",
              "      height: 32px;\n",
              "      padding: 0 0 0 0;\n",
              "      width: 32px;\n",
              "    }\n",
              "\n",
              "    .colab-df-convert:hover {\n",
              "      background-color: #E2EBFA;\n",
              "      box-shadow: 0px 1px 2px rgba(60, 64, 67, 0.3), 0px 1px 3px 1px rgba(60, 64, 67, 0.15);\n",
              "      fill: #174EA6;\n",
              "    }\n",
              "\n",
              "    .colab-df-buttons div {\n",
              "      margin-bottom: 4px;\n",
              "    }\n",
              "\n",
              "    [theme=dark] .colab-df-convert {\n",
              "      background-color: #3B4455;\n",
              "      fill: #D2E3FC;\n",
              "    }\n",
              "\n",
              "    [theme=dark] .colab-df-convert:hover {\n",
              "      background-color: #434B5C;\n",
              "      box-shadow: 0px 1px 3px 1px rgba(0, 0, 0, 0.15);\n",
              "      filter: drop-shadow(0px 1px 2px rgba(0, 0, 0, 0.3));\n",
              "      fill: #FFFFFF;\n",
              "    }\n",
              "  </style>\n",
              "\n",
              "    <script>\n",
              "      const buttonEl =\n",
              "        document.querySelector('#df-c5e58868-98ad-4b0d-a460-b8596f2028a5 button.colab-df-convert');\n",
              "      buttonEl.style.display =\n",
              "        google.colab.kernel.accessAllowed ? 'block' : 'none';\n",
              "\n",
              "      async function convertToInteractive(key) {\n",
              "        const element = document.querySelector('#df-c5e58868-98ad-4b0d-a460-b8596f2028a5');\n",
              "        const dataTable =\n",
              "          await google.colab.kernel.invokeFunction('convertToInteractive',\n",
              "                                                    [key], {});\n",
              "        if (!dataTable) return;\n",
              "\n",
              "        const docLinkHtml = 'Like what you see? Visit the ' +\n",
              "          '<a target=\"_blank\" href=https://colab.research.google.com/notebooks/data_table.ipynb>data table notebook</a>'\n",
              "          + ' to learn more about interactive tables.';\n",
              "        element.innerHTML = '';\n",
              "        dataTable['output_type'] = 'display_data';\n",
              "        await google.colab.output.renderOutput(dataTable, element);\n",
              "        const docLink = document.createElement('div');\n",
              "        docLink.innerHTML = docLinkHtml;\n",
              "        element.appendChild(docLink);\n",
              "      }\n",
              "    </script>\n",
              "  </div>\n",
              "\n",
              "\n",
              "<div id=\"df-67b9d129-aa24-4546-b929-4f104ef3904b\">\n",
              "  <button class=\"colab-df-quickchart\" onclick=\"quickchart('df-67b9d129-aa24-4546-b929-4f104ef3904b')\"\n",
              "            title=\"Suggest charts\"\n",
              "            style=\"display:none;\">\n",
              "\n",
              "<svg xmlns=\"http://www.w3.org/2000/svg\" height=\"24px\"viewBox=\"0 0 24 24\"\n",
              "     width=\"24px\">\n",
              "    <g>\n",
              "        <path d=\"M19 3H5c-1.1 0-2 .9-2 2v14c0 1.1.9 2 2 2h14c1.1 0 2-.9 2-2V5c0-1.1-.9-2-2-2zM9 17H7v-7h2v7zm4 0h-2V7h2v10zm4 0h-2v-4h2v4z\"/>\n",
              "    </g>\n",
              "</svg>\n",
              "  </button>\n",
              "\n",
              "<style>\n",
              "  .colab-df-quickchart {\n",
              "      --bg-color: #E8F0FE;\n",
              "      --fill-color: #1967D2;\n",
              "      --hover-bg-color: #E2EBFA;\n",
              "      --hover-fill-color: #174EA6;\n",
              "      --disabled-fill-color: #AAA;\n",
              "      --disabled-bg-color: #DDD;\n",
              "  }\n",
              "\n",
              "  [theme=dark] .colab-df-quickchart {\n",
              "      --bg-color: #3B4455;\n",
              "      --fill-color: #D2E3FC;\n",
              "      --hover-bg-color: #434B5C;\n",
              "      --hover-fill-color: #FFFFFF;\n",
              "      --disabled-bg-color: #3B4455;\n",
              "      --disabled-fill-color: #666;\n",
              "  }\n",
              "\n",
              "  .colab-df-quickchart {\n",
              "    background-color: var(--bg-color);\n",
              "    border: none;\n",
              "    border-radius: 50%;\n",
              "    cursor: pointer;\n",
              "    display: none;\n",
              "    fill: var(--fill-color);\n",
              "    height: 32px;\n",
              "    padding: 0;\n",
              "    width: 32px;\n",
              "  }\n",
              "\n",
              "  .colab-df-quickchart:hover {\n",
              "    background-color: var(--hover-bg-color);\n",
              "    box-shadow: 0 1px 2px rgba(60, 64, 67, 0.3), 0 1px 3px 1px rgba(60, 64, 67, 0.15);\n",
              "    fill: var(--button-hover-fill-color);\n",
              "  }\n",
              "\n",
              "  .colab-df-quickchart-complete:disabled,\n",
              "  .colab-df-quickchart-complete:disabled:hover {\n",
              "    background-color: var(--disabled-bg-color);\n",
              "    fill: var(--disabled-fill-color);\n",
              "    box-shadow: none;\n",
              "  }\n",
              "\n",
              "  .colab-df-spinner {\n",
              "    border: 2px solid var(--fill-color);\n",
              "    border-color: transparent;\n",
              "    border-bottom-color: var(--fill-color);\n",
              "    animation:\n",
              "      spin 1s steps(1) infinite;\n",
              "  }\n",
              "\n",
              "  @keyframes spin {\n",
              "    0% {\n",
              "      border-color: transparent;\n",
              "      border-bottom-color: var(--fill-color);\n",
              "      border-left-color: var(--fill-color);\n",
              "    }\n",
              "    20% {\n",
              "      border-color: transparent;\n",
              "      border-left-color: var(--fill-color);\n",
              "      border-top-color: var(--fill-color);\n",
              "    }\n",
              "    30% {\n",
              "      border-color: transparent;\n",
              "      border-left-color: var(--fill-color);\n",
              "      border-top-color: var(--fill-color);\n",
              "      border-right-color: var(--fill-color);\n",
              "    }\n",
              "    40% {\n",
              "      border-color: transparent;\n",
              "      border-right-color: var(--fill-color);\n",
              "      border-top-color: var(--fill-color);\n",
              "    }\n",
              "    60% {\n",
              "      border-color: transparent;\n",
              "      border-right-color: var(--fill-color);\n",
              "    }\n",
              "    80% {\n",
              "      border-color: transparent;\n",
              "      border-right-color: var(--fill-color);\n",
              "      border-bottom-color: var(--fill-color);\n",
              "    }\n",
              "    90% {\n",
              "      border-color: transparent;\n",
              "      border-bottom-color: var(--fill-color);\n",
              "    }\n",
              "  }\n",
              "</style>\n",
              "\n",
              "  <script>\n",
              "    async function quickchart(key) {\n",
              "      const quickchartButtonEl =\n",
              "        document.querySelector('#' + key + ' button');\n",
              "      quickchartButtonEl.disabled = true;  // To prevent multiple clicks.\n",
              "      quickchartButtonEl.classList.add('colab-df-spinner');\n",
              "      try {\n",
              "        const charts = await google.colab.kernel.invokeFunction(\n",
              "            'suggestCharts', [key], {});\n",
              "      } catch (error) {\n",
              "        console.error('Error during call to suggestCharts:', error);\n",
              "      }\n",
              "      quickchartButtonEl.classList.remove('colab-df-spinner');\n",
              "      quickchartButtonEl.classList.add('colab-df-quickchart-complete');\n",
              "    }\n",
              "    (() => {\n",
              "      let quickchartButtonEl =\n",
              "        document.querySelector('#df-67b9d129-aa24-4546-b929-4f104ef3904b button');\n",
              "      quickchartButtonEl.style.display =\n",
              "        google.colab.kernel.accessAllowed ? 'block' : 'none';\n",
              "    })();\n",
              "  </script>\n",
              "</div>\n",
              "    </div>\n",
              "  </div>\n"
            ],
            "application/vnd.google.colaboratory.intrinsic+json": {
              "type": "dataframe",
              "variable_name": "df",
              "summary": "{\n  \"name\": \"df\",\n  \"rows\": 2337,\n  \"fields\": [\n    {\n      \"column\": \"model\",\n      \"properties\": {\n        \"dtype\": \"category\",\n        \"num_unique_values\": 26,\n        \"samples\": [\n          \"Smart ForFour\",\n          \"Renault Kaptur\",\n          \"Kia Rio X-line\"\n        ],\n        \"semantic_type\": \"\",\n        \"description\": \"\"\n      }\n    },\n    {\n      \"column\": \"car_type\",\n      \"properties\": {\n        \"dtype\": \"category\",\n        \"num_unique_values\": 4,\n        \"samples\": [\n          \"standart\",\n          \"premium\",\n          \"economy\"\n        ],\n        \"semantic_type\": \"\",\n        \"description\": \"\"\n      }\n    },\n    {\n      \"column\": \"fuel_type\",\n      \"properties\": {\n        \"dtype\": \"category\",\n        \"num_unique_values\": 2,\n        \"samples\": [\n          \"electro\",\n          \"petrol\"\n        ],\n        \"semantic_type\": \"\",\n        \"description\": \"\"\n      }\n    },\n    {\n      \"column\": \"car_rating\",\n      \"properties\": {\n        \"dtype\": \"number\",\n        \"std\": 0.9969539766615568,\n        \"min\": 0.98,\n        \"max\": 8.9,\n        \"num_unique_values\": 269,\n        \"samples\": [\n          2.78,\n          2.1\n        ],\n        \"semantic_type\": \"\",\n        \"description\": \"\"\n      }\n    },\n    {\n      \"column\": \"year_to_start\",\n      \"properties\": {\n        \"dtype\": \"number\",\n        \"std\": 1,\n        \"min\": 2011,\n        \"max\": 2017,\n        \"num_unique_values\": 7,\n        \"samples\": [\n          2015,\n          2012\n        ],\n        \"semantic_type\": \"\",\n        \"description\": \"\"\n      }\n    },\n    {\n      \"column\": \"riders\",\n      \"properties\": {\n        \"dtype\": \"number\",\n        \"std\": 33755,\n        \"min\": 23,\n        \"max\": 142862,\n        \"num_unique_values\": 2306,\n        \"samples\": [\n          61719,\n          100108\n        ],\n        \"semantic_type\": \"\",\n        \"description\": \"\"\n      }\n    },\n    {\n      \"column\": \"year_to_work\",\n      \"properties\": {\n        \"dtype\": \"number\",\n        \"std\": 2,\n        \"min\": 2014,\n        \"max\": 2022,\n        \"num_unique_values\": 9,\n        \"samples\": [\n          2022,\n          2017\n        ],\n        \"semantic_type\": \"\",\n        \"description\": \"\"\n      }\n    },\n    {\n      \"column\": \"target_reg\",\n      \"properties\": {\n        \"dtype\": \"number\",\n        \"std\": 17.579568125863787,\n        \"min\": 18.92,\n        \"max\": 141.63,\n        \"num_unique_values\": 1891,\n        \"samples\": [\n          37.98,\n          58.11\n        ],\n        \"semantic_type\": \"\",\n        \"description\": \"\"\n      }\n    },\n    {\n      \"column\": \"target_class\",\n      \"properties\": {\n        \"dtype\": \"category\",\n        \"num_unique_values\": 9,\n        \"samples\": [\n          \"wheel_shake\",\n          \"electro_bug\"\n        ],\n        \"semantic_type\": \"\",\n        \"description\": \"\"\n      }\n    },\n    {\n      \"column\": \"min_rating\",\n      \"properties\": {\n        \"dtype\": \"number\",\n        \"std\": 0.16397828346003004,\n        \"min\": 0.0,\n        \"max\": 1.5,\n        \"num_unique_values\": 91,\n        \"samples\": [\n          0.67,\n          0.5\n        ],\n        \"semantic_type\": \"\",\n        \"description\": \"\"\n      }\n    },\n    {\n      \"column\": \"mean_rating\",\n      \"properties\": {\n        \"dtype\": \"number\",\n        \"std\": 0.4185875181615076,\n        \"min\": 3.529885057471265,\n        \"max\": 5.700747126436782,\n        \"num_unique_values\": 2223,\n        \"samples\": [\n          4.938505747126436,\n          4.750402298850575\n        ],\n        \"semantic_type\": \"\",\n        \"description\": \"\"\n      }\n    },\n    {\n      \"column\": \"speed_max\",\n      \"properties\": {\n        \"dtype\": \"number\",\n        \"std\": 33.211160987028705,\n        \"min\": 91.4235081222183,\n        \"max\": 209.98283950882248,\n        \"num_unique_values\": 1938,\n        \"samples\": [\n          109.38343955827206,\n          196.76859522747992\n        ],\n        \"semantic_type\": \"\",\n        \"description\": \"\"\n      }\n    },\n    {\n      \"column\": \"speed_mean\",\n      \"properties\": {\n        \"dtype\": \"number\",\n        \"std\": 2.761201815368068,\n        \"min\": 42.4367816091954,\n        \"max\": 53.132183908045974,\n        \"num_unique_values\": 1035,\n        \"samples\": [\n          51.14942528735632,\n          48.10344827586207\n        ],\n        \"semantic_type\": \"\",\n        \"description\": \"\"\n      }\n    }\n  ]\n}"
            }
          },
          "metadata": {},
          "execution_count": 19
        }
      ]
    },
    {
      "cell_type": "code",
      "source": [
        "df.shape"
      ],
      "metadata": {
        "colab": {
          "base_uri": "https://localhost:8080/"
        },
        "id": "_11VoM20i1_d",
        "outputId": "e2d0491f-3098-451e-a983-75b8ab6b19a4"
      },
      "execution_count": 20,
      "outputs": [
        {
          "output_type": "execute_result",
          "data": {
            "text/plain": [
              "(2337, 13)"
            ]
          },
          "metadata": {},
          "execution_count": 20
        }
      ]
    },
    {
      "cell_type": "code",
      "source": [
        "df.info()"
      ],
      "metadata": {
        "colab": {
          "base_uri": "https://localhost:8080/"
        },
        "id": "tfllsRgti-F1",
        "outputId": "7b0d2af4-8c94-421f-836f-4f9263d8f53e"
      },
      "execution_count": 21,
      "outputs": [
        {
          "output_type": "stream",
          "name": "stdout",
          "text": [
            "<class 'pandas.core.frame.DataFrame'>\n",
            "Int64Index: 2337 entries, 0 to 2336\n",
            "Data columns (total 13 columns):\n",
            " #   Column         Non-Null Count  Dtype  \n",
            "---  ------         --------------  -----  \n",
            " 0   model          2337 non-null   object \n",
            " 1   car_type       2337 non-null   object \n",
            " 2   fuel_type      2337 non-null   object \n",
            " 3   car_rating     2337 non-null   float64\n",
            " 4   year_to_start  2337 non-null   int64  \n",
            " 5   riders         2337 non-null   int64  \n",
            " 6   year_to_work   2337 non-null   int64  \n",
            " 7   target_reg     2337 non-null   float64\n",
            " 8   target_class   2337 non-null   object \n",
            " 9   min_rating     2337 non-null   float64\n",
            " 10  mean_rating    2337 non-null   float64\n",
            " 11  speed_max      2337 non-null   float64\n",
            " 12  speed_mean     2337 non-null   float64\n",
            "dtypes: float64(6), int64(3), object(4)\n",
            "memory usage: 255.6+ KB\n"
          ]
        }
      ]
    },
    {
      "cell_type": "markdown",
      "source": [
        "### Линейная корреляция"
      ],
      "metadata": {
        "id": "iHhFYItIjIZ1"
      }
    },
    {
      "cell_type": "code",
      "source": [
        "# df.corr()"
      ],
      "metadata": {
        "id": "8dIXIESyjNy2"
      },
      "execution_count": 22,
      "outputs": []
    },
    {
      "cell_type": "markdown",
      "source": [
        "# **У меня переполняется оперативная память при применении функции `df.corr()` из-за большого количества данных, поэтому я перезапустил первые несколько ячеек без merge. Но само первое задание выполнил.**"
      ],
      "metadata": {
        "id": "JzA4wguCvuLp"
      }
    },
    {
      "cell_type": "code",
      "source": [
        "# df.shape"
      ],
      "metadata": {
        "id": "Krcqf3icv9iu"
      },
      "execution_count": 23,
      "outputs": []
    },
    {
      "cell_type": "code",
      "source": [
        "# df.corr()"
      ],
      "metadata": {
        "id": "dcr8iD4c8MAH"
      },
      "execution_count": 24,
      "outputs": []
    },
    {
      "cell_type": "code",
      "source": [
        "# plt.figure(figsize=(16, 10))\n",
        "# sns.heatmap(df.corr(), annot=True)\n",
        "# plt.show();"
      ],
      "metadata": {
        "id": "Ts5dEX_s8vRN"
      },
      "execution_count": 25,
      "outputs": []
    },
    {
      "cell_type": "markdown",
      "source": [
        "### Phik"
      ],
      "metadata": {
        "id": "kFs97jp19YXn"
      }
    },
    {
      "cell_type": "code",
      "source": [
        "# !pip install phik"
      ],
      "metadata": {
        "id": "2pCjVVFt9Ycm"
      },
      "execution_count": 26,
      "outputs": []
    },
    {
      "cell_type": "code",
      "source": [
        "# import phik\n",
        "# from phik import report"
      ],
      "metadata": {
        "id": "e5zxPfHxgZQt"
      },
      "execution_count": 27,
      "outputs": []
    },
    {
      "cell_type": "code",
      "source": [
        "# phik_matrix = df.phik_matrix()"
      ],
      "metadata": {
        "id": "MXyKNTkMiwH8"
      },
      "execution_count": 28,
      "outputs": []
    },
    {
      "cell_type": "code",
      "source": [
        "# print(phik_matrix)"
      ],
      "metadata": {
        "id": "V3JrTaCoi_Lm"
      },
      "execution_count": 29,
      "outputs": []
    },
    {
      "cell_type": "code",
      "source": [
        "# plt.figure(figsize=(16, 10))\n",
        "# sns.heatmap(phik_matrix, annot=True)\n",
        "# plt.show();"
      ],
      "metadata": {
        "id": "m22DwPOxk3tU"
      },
      "execution_count": 30,
      "outputs": []
    },
    {
      "cell_type": "markdown",
      "source": [
        "### Permutation importance"
      ],
      "metadata": {
        "id": "hOb74ovdq_6j"
      }
    },
    {
      "cell_type": "code",
      "source": [
        "# Нужна обученная модель, возьму для обучения решающее дерево\n",
        "# from sklearn.ensemble import RandomForestClassifier"
      ],
      "metadata": {
        "id": "JrY9411Sq_-m"
      },
      "execution_count": 31,
      "outputs": []
    },
    {
      "cell_type": "code",
      "source": [
        "# df.head()"
      ],
      "metadata": {
        "id": "CLr7wg8wsUl0"
      },
      "execution_count": 32,
      "outputs": []
    },
    {
      "cell_type": "code",
      "source": [
        "# df['model'].unique()"
      ],
      "metadata": {
        "id": "NxcuZFL5s4Ic"
      },
      "execution_count": 33,
      "outputs": []
    },
    {
      "cell_type": "code",
      "source": [
        "# df['fuel_type'].unique()"
      ],
      "metadata": {
        "id": "eWzq59_1wH89"
      },
      "execution_count": 34,
      "outputs": []
    },
    {
      "cell_type": "code",
      "source": [
        "# !pip install category_encoders"
      ],
      "metadata": {
        "id": "UZdFSZZ-urxe"
      },
      "execution_count": 35,
      "outputs": []
    },
    {
      "cell_type": "code",
      "source": [
        "# from sklearn.preprocessing import OneHotEncoder\n",
        "# import category_encoders as ce\n",
        "\n",
        "# ohe = OneHotEncoder(sparse=False)\n",
        "# be = ce.BinaryEncoder()\n",
        "\n",
        "# categorical_cols = df.select_dtypes(include=['object']).columns"
      ],
      "metadata": {
        "id": "HdL7v4UcuiQF"
      },
      "execution_count": 36,
      "outputs": []
    },
    {
      "cell_type": "code",
      "source": [
        "# categorical_cols"
      ],
      "metadata": {
        "id": "VZqSzu-_u-1s"
      },
      "execution_count": 37,
      "outputs": []
    },
    {
      "cell_type": "code",
      "source": [
        "# for col in categorical_cols:\n",
        "#     if df[col].nunique() <= 2:\n",
        "#       print(col)"
      ],
      "metadata": {
        "id": "KPNgYEH6wyLp"
      },
      "execution_count": 38,
      "outputs": []
    },
    {
      "cell_type": "code",
      "source": [
        "# categorical_cols"
      ],
      "metadata": {
        "id": "_IgRKrzYz5-j"
      },
      "execution_count": 39,
      "outputs": []
    },
    {
      "cell_type": "markdown",
      "source": [
        "Для столбцов, где больше 2 уникальных значений применяю BinaryEncoding, а для тех, где меньше или равно, то One-Hot Encoding"
      ],
      "metadata": {
        "id": "yqAQLyNb1qMS"
      }
    },
    {
      "cell_type": "code",
      "source": [
        "# for col in categorical_cols:\n",
        "#     if df[col].nunique() <= 2:\n",
        "#         transformed = ohe.fit_transform(df[[col]])\n",
        "#         transformed_df = pd.DataFrame(transformed, columns=[col+'_'+str(i) for i in range(transformed.shape[1])])\n",
        "#         df = df.join(transformed_df)\n",
        "#         df = df.drop(col, axis=1)\n",
        "\n",
        "# categorical_cols = df.select_dtypes(include=['object']).columns\n",
        "\n",
        "# for col in categorical_cols:\n",
        "#     transformed = be.fit_transform(df[[col]])\n",
        "#     transformed_df = pd.DataFrame(transformed, columns=[col+'_'+str(i) for i in range(transformed.shape[1])])\n",
        "#     df = df.join(transformed_df)\n",
        "#     df = df.drop(col, axis=1)\n",
        "\n",
        "# df.head()"
      ],
      "metadata": {
        "id": "QzmAUa69vCbb"
      },
      "execution_count": 40,
      "outputs": []
    },
    {
      "cell_type": "markdown",
      "source": [
        "#### К сожалению, у меня очень долго считался permutation_importance, поэтому я удалю несколько столбцов для ускорения и демонстрации того, что я всё же воспользовался permutation_importance"
      ],
      "metadata": {
        "id": "B5pcBNXv45wI"
      }
    },
    {
      "cell_type": "code",
      "source": [
        "# cols_for_delete = ['fuel_type_1',\n",
        "#                    'model_0',\n",
        "#                    'model_1',\n",
        "#                    'model_2',\n",
        "#                    'model_3',\n",
        "#                    'model_4',\n",
        "#                    'car_type_0',\n",
        "#                    'car_type_1',\n",
        "#                    'car_type_2',\n",
        "#                    'target_class_0',\n",
        "#                    'target_class_1',\n",
        "#                    'target_class_2',\n",
        "#                    'target_class_3'\n",
        "# ]"
      ],
      "metadata": {
        "id": "X9q4sOw345P1"
      },
      "execution_count": 41,
      "outputs": []
    },
    {
      "cell_type": "code",
      "source": [
        "# df.drop(columns=cols_for_delete)"
      ],
      "metadata": {
        "id": "tEdfmfzZ5v-z"
      },
      "execution_count": 42,
      "outputs": []
    },
    {
      "cell_type": "code",
      "source": [
        "# model = RandomForestClassifier().fit(df.drop('riders', axis=1), df['riders'])"
      ],
      "metadata": {
        "id": "IjMPsnYKsIfE"
      },
      "execution_count": 43,
      "outputs": []
    },
    {
      "cell_type": "code",
      "source": [
        "# from sklearn.inspection import permutation_importance"
      ],
      "metadata": {
        "id": "ifFdZ9fe2CnV"
      },
      "execution_count": 44,
      "outputs": []
    },
    {
      "cell_type": "code",
      "source": [
        "# res = permutation_importance(model, df.drop('riders', axis=1), df['riders'], n_repeats=10)"
      ],
      "metadata": {
        "id": "qM_7Psdu2QGI"
      },
      "execution_count": 45,
      "outputs": []
    },
    {
      "cell_type": "code",
      "source": [
        "# res_sorted_idx = res.importances_mean.argsort()"
      ],
      "metadata": {
        "id": "pO120km03PqP"
      },
      "execution_count": 46,
      "outputs": []
    },
    {
      "cell_type": "code",
      "source": [
        "# res_sorted_idx_flip = np.flip(res_sorted_idx)"
      ],
      "metadata": {
        "id": "Ox8IQvEH9pqU"
      },
      "execution_count": 47,
      "outputs": []
    },
    {
      "cell_type": "markdown",
      "source": [
        "#### Визуализация"
      ],
      "metadata": {
        "id": "cEhAOU3D3qmV"
      }
    },
    {
      "cell_type": "code",
      "source": [
        "# fig, ax = plt.subplots(figsize=(16, 10))\n",
        "# sns.barplot(x=res.importances_mean[res_sorted_idx_flip], y=np.array(df.drop('riders', axis=1).columns)[res_sorted_idx_flip], orient='h', ax=ax)\n",
        "# ax.set_title('Permutation Importance')\n",
        "# plt.show();"
      ],
      "metadata": {
        "id": "3R9DUvc83qKn"
      },
      "execution_count": 48,
      "outputs": []
    },
    {
      "cell_type": "markdown",
      "metadata": {
        "id": "iSjuXdlcbuhx"
      },
      "source": [
        "# Домашнее задание 2. Прогноз времени и вида поломки машин. Настройка ML-модели"
      ]
    },
    {
      "cell_type": "markdown",
      "metadata": {
        "id": "2qoVlxvUbuhx"
      },
      "source": [
        "<div class=\"alert alert-info\">\n",
        "\n",
        "**Цель блока** — составить тренировочную и валидационную выборки, произвести обучение модели `CatBoostClassifier` на тренировочной части и оценить качество на валидационной."
      ]
    },
    {
      "cell_type": "markdown",
      "metadata": {
        "id": "OfqcanLLbuhx"
      },
      "source": [
        "##Обучение первой модели (5 баллов)"
      ]
    },
    {
      "cell_type": "markdown",
      "metadata": {
        "id": "ZXhXYJt6buhx"
      },
      "source": [
        "1. Классифицируйте признаки на типы (категориальные, числовые, таргеты).\n",
        "\n",
        "2. Выделите в `X` только признаки, а в `Y` — таргет (для задачи классификации).\n",
        "\n",
        "3. Сделайте разделение данных на *обучающую* и *валидационную* выборки (не забывайте про воспроизводимость результатов).\n",
        "\n",
        "4. Создайте и обучите `CatBoostClassifier` модель (настраивать гиперпараметры сейчас не обязательно).\n",
        "\n",
        "5. Проведите оценку вашей модели, используя метрику `accuracy`.\n",
        "\n",
        "\n",
        "<h4> Критерии оценивания </h4>\n",
        "    \n",
        "- По 1 баллу за каждый корректно выполненный пункт.\n",
        "\n",
        "</div>"
      ]
    },
    {
      "cell_type": "markdown",
      "source": [
        "### **Уважаемый Иван, здравствуйте.**\n",
        "\n",
        "#### У меня проблемы с большим объемом данных, поэтому я снова, как и в первом ДЗ буду работать с ограниченным датасетом без merge большого количества столбцов."
      ],
      "metadata": {
        "id": "U7U-atS91K04"
      }
    },
    {
      "cell_type": "code",
      "source": [
        "!pip install catboost"
      ],
      "metadata": {
        "colab": {
          "base_uri": "https://localhost:8080/"
        },
        "id": "QCHNyLM8yqzb",
        "outputId": "a008e6c2-9b7e-4cde-ce11-fb9265e66271"
      },
      "execution_count": 49,
      "outputs": [
        {
          "output_type": "stream",
          "name": "stdout",
          "text": [
            "Collecting catboost\n",
            "  Downloading catboost-1.2.3-cp310-cp310-manylinux2014_x86_64.whl (98.5 MB)\n",
            "\u001b[2K     \u001b[90m━━━━━━━━━━━━━━━━━━━━━━━━━━━━━━━━━━━━━━━━\u001b[0m \u001b[32m98.5/98.5 MB\u001b[0m \u001b[31m2.9 MB/s\u001b[0m eta \u001b[36m0:00:00\u001b[0m\n",
            "\u001b[?25hRequirement already satisfied: graphviz in /usr/local/lib/python3.10/dist-packages (from catboost) (0.20.3)\n",
            "Requirement already satisfied: matplotlib in /usr/local/lib/python3.10/dist-packages (from catboost) (3.7.1)\n",
            "Requirement already satisfied: numpy>=1.16.0 in /usr/local/lib/python3.10/dist-packages (from catboost) (1.25.2)\n",
            "Requirement already satisfied: pandas>=0.24 in /usr/local/lib/python3.10/dist-packages (from catboost) (1.5.3)\n",
            "Requirement already satisfied: scipy in /usr/local/lib/python3.10/dist-packages (from catboost) (1.11.4)\n",
            "Requirement already satisfied: plotly in /usr/local/lib/python3.10/dist-packages (from catboost) (5.15.0)\n",
            "Requirement already satisfied: six in /usr/local/lib/python3.10/dist-packages (from catboost) (1.16.0)\n",
            "Requirement already satisfied: python-dateutil>=2.8.1 in /usr/local/lib/python3.10/dist-packages (from pandas>=0.24->catboost) (2.8.2)\n",
            "Requirement already satisfied: pytz>=2020.1 in /usr/local/lib/python3.10/dist-packages (from pandas>=0.24->catboost) (2023.4)\n",
            "Requirement already satisfied: contourpy>=1.0.1 in /usr/local/lib/python3.10/dist-packages (from matplotlib->catboost) (1.2.0)\n",
            "Requirement already satisfied: cycler>=0.10 in /usr/local/lib/python3.10/dist-packages (from matplotlib->catboost) (0.12.1)\n",
            "Requirement already satisfied: fonttools>=4.22.0 in /usr/local/lib/python3.10/dist-packages (from matplotlib->catboost) (4.50.0)\n",
            "Requirement already satisfied: kiwisolver>=1.0.1 in /usr/local/lib/python3.10/dist-packages (from matplotlib->catboost) (1.4.5)\n",
            "Requirement already satisfied: packaging>=20.0 in /usr/local/lib/python3.10/dist-packages (from matplotlib->catboost) (24.0)\n",
            "Requirement already satisfied: pillow>=6.2.0 in /usr/local/lib/python3.10/dist-packages (from matplotlib->catboost) (9.4.0)\n",
            "Requirement already satisfied: pyparsing>=2.3.1 in /usr/local/lib/python3.10/dist-packages (from matplotlib->catboost) (3.1.2)\n",
            "Requirement already satisfied: tenacity>=6.2.0 in /usr/local/lib/python3.10/dist-packages (from plotly->catboost) (8.2.3)\n",
            "Installing collected packages: catboost\n",
            "Successfully installed catboost-1.2.3\n"
          ]
        }
      ]
    },
    {
      "cell_type": "code",
      "execution_count": 50,
      "metadata": {
        "id": "klrOFoVpbuhx"
      },
      "outputs": [],
      "source": [
        "from catboost import CatBoostClassifier\n",
        "from sklearn.model_selection import train_test_split\n",
        "from sklearn.metrics import accuracy_score"
      ]
    },
    {
      "cell_type": "code",
      "source": [
        "df.head()"
      ],
      "metadata": {
        "colab": {
          "base_uri": "https://localhost:8080/",
          "height": 206
        },
        "id": "OJIL8WzDzmZx",
        "outputId": "8b6f6099-a880-4ce9-a35a-2cff64913c8d"
      },
      "execution_count": 52,
      "outputs": [
        {
          "output_type": "execute_result",
          "data": {
            "text/plain": [
              "               model  car_type fuel_type  car_rating  year_to_start  riders  \\\n",
              "0     Kia Rio X-line   economy    petrol        3.78           2015   76163   \n",
              "1         VW Polo VI   economy    petrol        3.90           2015   78218   \n",
              "2    Renault Sandero  standart    petrol        6.30           2012   23340   \n",
              "3  Mercedes-Benz GLC  business    petrol        4.04           2011    1263   \n",
              "4    Renault Sandero  standart    petrol        4.70           2012   26428   \n",
              "\n",
              "   year_to_work  target_reg target_class  min_rating  mean_rating   speed_max  \\\n",
              "0          2021      108.53  another_bug         0.1     4.737759  180.855726   \n",
              "1          2021       35.20  electro_bug         0.0     4.480517  187.862734   \n",
              "2          2017       38.62   gear_stick         0.1     4.768391  102.382857   \n",
              "3          2020       30.34  engine_fuel         0.1     3.880920  172.793237   \n",
              "4          2017       30.45  engine_fuel         0.1     4.181149  203.462289   \n",
              "\n",
              "   speed_mean  \n",
              "0   44.660920  \n",
              "1   49.862069  \n",
              "2   44.005747  \n",
              "3   49.344828  \n",
              "4   50.603448  "
            ],
            "text/html": [
              "\n",
              "  <div id=\"df-10b97d24-a78f-422a-be10-b9ab739288d2\" class=\"colab-df-container\">\n",
              "    <div>\n",
              "<style scoped>\n",
              "    .dataframe tbody tr th:only-of-type {\n",
              "        vertical-align: middle;\n",
              "    }\n",
              "\n",
              "    .dataframe tbody tr th {\n",
              "        vertical-align: top;\n",
              "    }\n",
              "\n",
              "    .dataframe thead th {\n",
              "        text-align: right;\n",
              "    }\n",
              "</style>\n",
              "<table border=\"1\" class=\"dataframe\">\n",
              "  <thead>\n",
              "    <tr style=\"text-align: right;\">\n",
              "      <th></th>\n",
              "      <th>model</th>\n",
              "      <th>car_type</th>\n",
              "      <th>fuel_type</th>\n",
              "      <th>car_rating</th>\n",
              "      <th>year_to_start</th>\n",
              "      <th>riders</th>\n",
              "      <th>year_to_work</th>\n",
              "      <th>target_reg</th>\n",
              "      <th>target_class</th>\n",
              "      <th>min_rating</th>\n",
              "      <th>mean_rating</th>\n",
              "      <th>speed_max</th>\n",
              "      <th>speed_mean</th>\n",
              "    </tr>\n",
              "  </thead>\n",
              "  <tbody>\n",
              "    <tr>\n",
              "      <th>0</th>\n",
              "      <td>Kia Rio X-line</td>\n",
              "      <td>economy</td>\n",
              "      <td>petrol</td>\n",
              "      <td>3.78</td>\n",
              "      <td>2015</td>\n",
              "      <td>76163</td>\n",
              "      <td>2021</td>\n",
              "      <td>108.53</td>\n",
              "      <td>another_bug</td>\n",
              "      <td>0.1</td>\n",
              "      <td>4.737759</td>\n",
              "      <td>180.855726</td>\n",
              "      <td>44.660920</td>\n",
              "    </tr>\n",
              "    <tr>\n",
              "      <th>1</th>\n",
              "      <td>VW Polo VI</td>\n",
              "      <td>economy</td>\n",
              "      <td>petrol</td>\n",
              "      <td>3.90</td>\n",
              "      <td>2015</td>\n",
              "      <td>78218</td>\n",
              "      <td>2021</td>\n",
              "      <td>35.20</td>\n",
              "      <td>electro_bug</td>\n",
              "      <td>0.0</td>\n",
              "      <td>4.480517</td>\n",
              "      <td>187.862734</td>\n",
              "      <td>49.862069</td>\n",
              "    </tr>\n",
              "    <tr>\n",
              "      <th>2</th>\n",
              "      <td>Renault Sandero</td>\n",
              "      <td>standart</td>\n",
              "      <td>petrol</td>\n",
              "      <td>6.30</td>\n",
              "      <td>2012</td>\n",
              "      <td>23340</td>\n",
              "      <td>2017</td>\n",
              "      <td>38.62</td>\n",
              "      <td>gear_stick</td>\n",
              "      <td>0.1</td>\n",
              "      <td>4.768391</td>\n",
              "      <td>102.382857</td>\n",
              "      <td>44.005747</td>\n",
              "    </tr>\n",
              "    <tr>\n",
              "      <th>3</th>\n",
              "      <td>Mercedes-Benz GLC</td>\n",
              "      <td>business</td>\n",
              "      <td>petrol</td>\n",
              "      <td>4.04</td>\n",
              "      <td>2011</td>\n",
              "      <td>1263</td>\n",
              "      <td>2020</td>\n",
              "      <td>30.34</td>\n",
              "      <td>engine_fuel</td>\n",
              "      <td>0.1</td>\n",
              "      <td>3.880920</td>\n",
              "      <td>172.793237</td>\n",
              "      <td>49.344828</td>\n",
              "    </tr>\n",
              "    <tr>\n",
              "      <th>4</th>\n",
              "      <td>Renault Sandero</td>\n",
              "      <td>standart</td>\n",
              "      <td>petrol</td>\n",
              "      <td>4.70</td>\n",
              "      <td>2012</td>\n",
              "      <td>26428</td>\n",
              "      <td>2017</td>\n",
              "      <td>30.45</td>\n",
              "      <td>engine_fuel</td>\n",
              "      <td>0.1</td>\n",
              "      <td>4.181149</td>\n",
              "      <td>203.462289</td>\n",
              "      <td>50.603448</td>\n",
              "    </tr>\n",
              "  </tbody>\n",
              "</table>\n",
              "</div>\n",
              "    <div class=\"colab-df-buttons\">\n",
              "\n",
              "  <div class=\"colab-df-container\">\n",
              "    <button class=\"colab-df-convert\" onclick=\"convertToInteractive('df-10b97d24-a78f-422a-be10-b9ab739288d2')\"\n",
              "            title=\"Convert this dataframe to an interactive table.\"\n",
              "            style=\"display:none;\">\n",
              "\n",
              "  <svg xmlns=\"http://www.w3.org/2000/svg\" height=\"24px\" viewBox=\"0 -960 960 960\">\n",
              "    <path d=\"M120-120v-720h720v720H120Zm60-500h600v-160H180v160Zm220 220h160v-160H400v160Zm0 220h160v-160H400v160ZM180-400h160v-160H180v160Zm440 0h160v-160H620v160ZM180-180h160v-160H180v160Zm440 0h160v-160H620v160Z\"/>\n",
              "  </svg>\n",
              "    </button>\n",
              "\n",
              "  <style>\n",
              "    .colab-df-container {\n",
              "      display:flex;\n",
              "      gap: 12px;\n",
              "    }\n",
              "\n",
              "    .colab-df-convert {\n",
              "      background-color: #E8F0FE;\n",
              "      border: none;\n",
              "      border-radius: 50%;\n",
              "      cursor: pointer;\n",
              "      display: none;\n",
              "      fill: #1967D2;\n",
              "      height: 32px;\n",
              "      padding: 0 0 0 0;\n",
              "      width: 32px;\n",
              "    }\n",
              "\n",
              "    .colab-df-convert:hover {\n",
              "      background-color: #E2EBFA;\n",
              "      box-shadow: 0px 1px 2px rgba(60, 64, 67, 0.3), 0px 1px 3px 1px rgba(60, 64, 67, 0.15);\n",
              "      fill: #174EA6;\n",
              "    }\n",
              "\n",
              "    .colab-df-buttons div {\n",
              "      margin-bottom: 4px;\n",
              "    }\n",
              "\n",
              "    [theme=dark] .colab-df-convert {\n",
              "      background-color: #3B4455;\n",
              "      fill: #D2E3FC;\n",
              "    }\n",
              "\n",
              "    [theme=dark] .colab-df-convert:hover {\n",
              "      background-color: #434B5C;\n",
              "      box-shadow: 0px 1px 3px 1px rgba(0, 0, 0, 0.15);\n",
              "      filter: drop-shadow(0px 1px 2px rgba(0, 0, 0, 0.3));\n",
              "      fill: #FFFFFF;\n",
              "    }\n",
              "  </style>\n",
              "\n",
              "    <script>\n",
              "      const buttonEl =\n",
              "        document.querySelector('#df-10b97d24-a78f-422a-be10-b9ab739288d2 button.colab-df-convert');\n",
              "      buttonEl.style.display =\n",
              "        google.colab.kernel.accessAllowed ? 'block' : 'none';\n",
              "\n",
              "      async function convertToInteractive(key) {\n",
              "        const element = document.querySelector('#df-10b97d24-a78f-422a-be10-b9ab739288d2');\n",
              "        const dataTable =\n",
              "          await google.colab.kernel.invokeFunction('convertToInteractive',\n",
              "                                                    [key], {});\n",
              "        if (!dataTable) return;\n",
              "\n",
              "        const docLinkHtml = 'Like what you see? Visit the ' +\n",
              "          '<a target=\"_blank\" href=https://colab.research.google.com/notebooks/data_table.ipynb>data table notebook</a>'\n",
              "          + ' to learn more about interactive tables.';\n",
              "        element.innerHTML = '';\n",
              "        dataTable['output_type'] = 'display_data';\n",
              "        await google.colab.output.renderOutput(dataTable, element);\n",
              "        const docLink = document.createElement('div');\n",
              "        docLink.innerHTML = docLinkHtml;\n",
              "        element.appendChild(docLink);\n",
              "      }\n",
              "    </script>\n",
              "  </div>\n",
              "\n",
              "\n",
              "<div id=\"df-1fcfd8b4-03bb-489e-98fc-dedda912360d\">\n",
              "  <button class=\"colab-df-quickchart\" onclick=\"quickchart('df-1fcfd8b4-03bb-489e-98fc-dedda912360d')\"\n",
              "            title=\"Suggest charts\"\n",
              "            style=\"display:none;\">\n",
              "\n",
              "<svg xmlns=\"http://www.w3.org/2000/svg\" height=\"24px\"viewBox=\"0 0 24 24\"\n",
              "     width=\"24px\">\n",
              "    <g>\n",
              "        <path d=\"M19 3H5c-1.1 0-2 .9-2 2v14c0 1.1.9 2 2 2h14c1.1 0 2-.9 2-2V5c0-1.1-.9-2-2-2zM9 17H7v-7h2v7zm4 0h-2V7h2v10zm4 0h-2v-4h2v4z\"/>\n",
              "    </g>\n",
              "</svg>\n",
              "  </button>\n",
              "\n",
              "<style>\n",
              "  .colab-df-quickchart {\n",
              "      --bg-color: #E8F0FE;\n",
              "      --fill-color: #1967D2;\n",
              "      --hover-bg-color: #E2EBFA;\n",
              "      --hover-fill-color: #174EA6;\n",
              "      --disabled-fill-color: #AAA;\n",
              "      --disabled-bg-color: #DDD;\n",
              "  }\n",
              "\n",
              "  [theme=dark] .colab-df-quickchart {\n",
              "      --bg-color: #3B4455;\n",
              "      --fill-color: #D2E3FC;\n",
              "      --hover-bg-color: #434B5C;\n",
              "      --hover-fill-color: #FFFFFF;\n",
              "      --disabled-bg-color: #3B4455;\n",
              "      --disabled-fill-color: #666;\n",
              "  }\n",
              "\n",
              "  .colab-df-quickchart {\n",
              "    background-color: var(--bg-color);\n",
              "    border: none;\n",
              "    border-radius: 50%;\n",
              "    cursor: pointer;\n",
              "    display: none;\n",
              "    fill: var(--fill-color);\n",
              "    height: 32px;\n",
              "    padding: 0;\n",
              "    width: 32px;\n",
              "  }\n",
              "\n",
              "  .colab-df-quickchart:hover {\n",
              "    background-color: var(--hover-bg-color);\n",
              "    box-shadow: 0 1px 2px rgba(60, 64, 67, 0.3), 0 1px 3px 1px rgba(60, 64, 67, 0.15);\n",
              "    fill: var(--button-hover-fill-color);\n",
              "  }\n",
              "\n",
              "  .colab-df-quickchart-complete:disabled,\n",
              "  .colab-df-quickchart-complete:disabled:hover {\n",
              "    background-color: var(--disabled-bg-color);\n",
              "    fill: var(--disabled-fill-color);\n",
              "    box-shadow: none;\n",
              "  }\n",
              "\n",
              "  .colab-df-spinner {\n",
              "    border: 2px solid var(--fill-color);\n",
              "    border-color: transparent;\n",
              "    border-bottom-color: var(--fill-color);\n",
              "    animation:\n",
              "      spin 1s steps(1) infinite;\n",
              "  }\n",
              "\n",
              "  @keyframes spin {\n",
              "    0% {\n",
              "      border-color: transparent;\n",
              "      border-bottom-color: var(--fill-color);\n",
              "      border-left-color: var(--fill-color);\n",
              "    }\n",
              "    20% {\n",
              "      border-color: transparent;\n",
              "      border-left-color: var(--fill-color);\n",
              "      border-top-color: var(--fill-color);\n",
              "    }\n",
              "    30% {\n",
              "      border-color: transparent;\n",
              "      border-left-color: var(--fill-color);\n",
              "      border-top-color: var(--fill-color);\n",
              "      border-right-color: var(--fill-color);\n",
              "    }\n",
              "    40% {\n",
              "      border-color: transparent;\n",
              "      border-right-color: var(--fill-color);\n",
              "      border-top-color: var(--fill-color);\n",
              "    }\n",
              "    60% {\n",
              "      border-color: transparent;\n",
              "      border-right-color: var(--fill-color);\n",
              "    }\n",
              "    80% {\n",
              "      border-color: transparent;\n",
              "      border-right-color: var(--fill-color);\n",
              "      border-bottom-color: var(--fill-color);\n",
              "    }\n",
              "    90% {\n",
              "      border-color: transparent;\n",
              "      border-bottom-color: var(--fill-color);\n",
              "    }\n",
              "  }\n",
              "</style>\n",
              "\n",
              "  <script>\n",
              "    async function quickchart(key) {\n",
              "      const quickchartButtonEl =\n",
              "        document.querySelector('#' + key + ' button');\n",
              "      quickchartButtonEl.disabled = true;  // To prevent multiple clicks.\n",
              "      quickchartButtonEl.classList.add('colab-df-spinner');\n",
              "      try {\n",
              "        const charts = await google.colab.kernel.invokeFunction(\n",
              "            'suggestCharts', [key], {});\n",
              "      } catch (error) {\n",
              "        console.error('Error during call to suggestCharts:', error);\n",
              "      }\n",
              "      quickchartButtonEl.classList.remove('colab-df-spinner');\n",
              "      quickchartButtonEl.classList.add('colab-df-quickchart-complete');\n",
              "    }\n",
              "    (() => {\n",
              "      let quickchartButtonEl =\n",
              "        document.querySelector('#df-1fcfd8b4-03bb-489e-98fc-dedda912360d button');\n",
              "      quickchartButtonEl.style.display =\n",
              "        google.colab.kernel.accessAllowed ? 'block' : 'none';\n",
              "    })();\n",
              "  </script>\n",
              "</div>\n",
              "    </div>\n",
              "  </div>\n"
            ],
            "application/vnd.google.colaboratory.intrinsic+json": {
              "type": "dataframe",
              "variable_name": "df",
              "summary": "{\n  \"name\": \"df\",\n  \"rows\": 2337,\n  \"fields\": [\n    {\n      \"column\": \"model\",\n      \"properties\": {\n        \"dtype\": \"category\",\n        \"num_unique_values\": 26,\n        \"samples\": [\n          \"Smart ForFour\",\n          \"Renault Kaptur\",\n          \"Kia Rio X-line\"\n        ],\n        \"semantic_type\": \"\",\n        \"description\": \"\"\n      }\n    },\n    {\n      \"column\": \"car_type\",\n      \"properties\": {\n        \"dtype\": \"category\",\n        \"num_unique_values\": 4,\n        \"samples\": [\n          \"standart\",\n          \"premium\",\n          \"economy\"\n        ],\n        \"semantic_type\": \"\",\n        \"description\": \"\"\n      }\n    },\n    {\n      \"column\": \"fuel_type\",\n      \"properties\": {\n        \"dtype\": \"category\",\n        \"num_unique_values\": 2,\n        \"samples\": [\n          \"electro\",\n          \"petrol\"\n        ],\n        \"semantic_type\": \"\",\n        \"description\": \"\"\n      }\n    },\n    {\n      \"column\": \"car_rating\",\n      \"properties\": {\n        \"dtype\": \"number\",\n        \"std\": 0.9969539766615568,\n        \"min\": 0.98,\n        \"max\": 8.9,\n        \"num_unique_values\": 269,\n        \"samples\": [\n          2.78,\n          2.1\n        ],\n        \"semantic_type\": \"\",\n        \"description\": \"\"\n      }\n    },\n    {\n      \"column\": \"year_to_start\",\n      \"properties\": {\n        \"dtype\": \"number\",\n        \"std\": 1,\n        \"min\": 2011,\n        \"max\": 2017,\n        \"num_unique_values\": 7,\n        \"samples\": [\n          2015,\n          2012\n        ],\n        \"semantic_type\": \"\",\n        \"description\": \"\"\n      }\n    },\n    {\n      \"column\": \"riders\",\n      \"properties\": {\n        \"dtype\": \"number\",\n        \"std\": 33755,\n        \"min\": 23,\n        \"max\": 142862,\n        \"num_unique_values\": 2306,\n        \"samples\": [\n          61719,\n          100108\n        ],\n        \"semantic_type\": \"\",\n        \"description\": \"\"\n      }\n    },\n    {\n      \"column\": \"year_to_work\",\n      \"properties\": {\n        \"dtype\": \"number\",\n        \"std\": 2,\n        \"min\": 2014,\n        \"max\": 2022,\n        \"num_unique_values\": 9,\n        \"samples\": [\n          2022,\n          2017\n        ],\n        \"semantic_type\": \"\",\n        \"description\": \"\"\n      }\n    },\n    {\n      \"column\": \"target_reg\",\n      \"properties\": {\n        \"dtype\": \"number\",\n        \"std\": 17.579568125863787,\n        \"min\": 18.92,\n        \"max\": 141.63,\n        \"num_unique_values\": 1891,\n        \"samples\": [\n          37.98,\n          58.11\n        ],\n        \"semantic_type\": \"\",\n        \"description\": \"\"\n      }\n    },\n    {\n      \"column\": \"target_class\",\n      \"properties\": {\n        \"dtype\": \"category\",\n        \"num_unique_values\": 9,\n        \"samples\": [\n          \"wheel_shake\",\n          \"electro_bug\"\n        ],\n        \"semantic_type\": \"\",\n        \"description\": \"\"\n      }\n    },\n    {\n      \"column\": \"min_rating\",\n      \"properties\": {\n        \"dtype\": \"number\",\n        \"std\": 0.16397828346003004,\n        \"min\": 0.0,\n        \"max\": 1.5,\n        \"num_unique_values\": 91,\n        \"samples\": [\n          0.67,\n          0.5\n        ],\n        \"semantic_type\": \"\",\n        \"description\": \"\"\n      }\n    },\n    {\n      \"column\": \"mean_rating\",\n      \"properties\": {\n        \"dtype\": \"number\",\n        \"std\": 0.4185875181615076,\n        \"min\": 3.529885057471265,\n        \"max\": 5.700747126436782,\n        \"num_unique_values\": 2223,\n        \"samples\": [\n          4.938505747126436,\n          4.750402298850575\n        ],\n        \"semantic_type\": \"\",\n        \"description\": \"\"\n      }\n    },\n    {\n      \"column\": \"speed_max\",\n      \"properties\": {\n        \"dtype\": \"number\",\n        \"std\": 33.211160987028705,\n        \"min\": 91.4235081222183,\n        \"max\": 209.98283950882248,\n        \"num_unique_values\": 1938,\n        \"samples\": [\n          109.38343955827206,\n          196.76859522747992\n        ],\n        \"semantic_type\": \"\",\n        \"description\": \"\"\n      }\n    },\n    {\n      \"column\": \"speed_mean\",\n      \"properties\": {\n        \"dtype\": \"number\",\n        \"std\": 2.761201815368068,\n        \"min\": 42.4367816091954,\n        \"max\": 53.132183908045974,\n        \"num_unique_values\": 1035,\n        \"samples\": [\n          51.14942528735632,\n          48.10344827586207\n        ],\n        \"semantic_type\": \"\",\n        \"description\": \"\"\n      }\n    }\n  ]\n}"
            }
          },
          "metadata": {},
          "execution_count": 52
        }
      ]
    },
    {
      "cell_type": "code",
      "source": [
        "df.info()"
      ],
      "metadata": {
        "colab": {
          "base_uri": "https://localhost:8080/"
        },
        "id": "5O0X6Ld30H7A",
        "outputId": "04bc084e-7dc5-4f33-8464-cded90aa9a8f"
      },
      "execution_count": 53,
      "outputs": [
        {
          "output_type": "stream",
          "name": "stdout",
          "text": [
            "<class 'pandas.core.frame.DataFrame'>\n",
            "Int64Index: 2337 entries, 0 to 2336\n",
            "Data columns (total 13 columns):\n",
            " #   Column         Non-Null Count  Dtype  \n",
            "---  ------         --------------  -----  \n",
            " 0   model          2337 non-null   object \n",
            " 1   car_type       2337 non-null   object \n",
            " 2   fuel_type      2337 non-null   object \n",
            " 3   car_rating     2337 non-null   float64\n",
            " 4   year_to_start  2337 non-null   int64  \n",
            " 5   riders         2337 non-null   int64  \n",
            " 6   year_to_work   2337 non-null   int64  \n",
            " 7   target_reg     2337 non-null   float64\n",
            " 8   target_class   2337 non-null   object \n",
            " 9   min_rating     2337 non-null   float64\n",
            " 10  mean_rating    2337 non-null   float64\n",
            " 11  speed_max      2337 non-null   float64\n",
            " 12  speed_mean     2337 non-null   float64\n",
            "dtypes: float64(6), int64(3), object(4)\n",
            "memory usage: 255.6+ KB\n"
          ]
        }
      ]
    },
    {
      "cell_type": "code",
      "source": [
        "categorical_cols = list(df.select_dtypes(include=['object']).columns)\n",
        "categorical_cols.remove('target_class')\n",
        "categorical_cols"
      ],
      "metadata": {
        "colab": {
          "base_uri": "https://localhost:8080/"
        },
        "id": "DNLKlUhEz03a",
        "outputId": "2a50890b-3f30-442c-a76a-6b28c8480818"
      },
      "execution_count": 54,
      "outputs": [
        {
          "output_type": "execute_result",
          "data": {
            "text/plain": [
              "['model', 'car_type', 'fuel_type']"
            ]
          },
          "metadata": {},
          "execution_count": 54
        }
      ]
    },
    {
      "cell_type": "code",
      "source": [
        "numerical_cols = list(df.select_dtypes(exclude=['object']).columns)\n",
        "numerical_cols"
      ],
      "metadata": {
        "colab": {
          "base_uri": "https://localhost:8080/"
        },
        "id": "12dQYXJf0Nbh",
        "outputId": "1a7622c9-14ef-495b-abe4-7d13805ece24"
      },
      "execution_count": 55,
      "outputs": [
        {
          "output_type": "execute_result",
          "data": {
            "text/plain": [
              "['car_rating',\n",
              " 'year_to_start',\n",
              " 'riders',\n",
              " 'year_to_work',\n",
              " 'target_reg',\n",
              " 'min_rating',\n",
              " 'mean_rating',\n",
              " 'speed_max',\n",
              " 'speed_mean']"
            ]
          },
          "metadata": {},
          "execution_count": 55
        }
      ]
    },
    {
      "cell_type": "code",
      "execution_count": 56,
      "metadata": {
        "id": "lqwlTU2gbuhz",
        "colab": {
          "base_uri": "https://localhost:8080/"
        },
        "outputId": "f6cb8b31-cb55-49a5-e31f-8d26b8a33485"
      },
      "outputs": [
        {
          "output_type": "stream",
          "name": "stdout",
          "text": [
            "Категориальные признаки: 3 ['model', 'car_type', 'fuel_type']\n",
            "Числовые признаки: 9 ['car_rating', 'year_to_start', 'riders', 'year_to_work', 'target_reg', 'min_rating', 'mean_rating', 'speed_max', 'speed_mean']\n",
            "Целевые переменные ['target_class']\n"
          ]
        }
      ],
      "source": [
        "features2drop = [...] # то, что надо выбросить\n",
        "targets = ['target_class'] # таргеты\n",
        "cat_features = categorical_cols # категориальные признаки\n",
        "\n",
        "num_features = numerical_cols # числовые признаки\n",
        "\n",
        "print('Категориальные признаки:', len(cat_features), cat_features)\n",
        "print('Числовые признаки:', len(num_features), num_features)\n",
        "print('Целевые переменные', targets)"
      ]
    },
    {
      "cell_type": "markdown",
      "source": [
        "#### Ссылка для рассмотрения функционала `CatBoostClassifier`\n",
        "\n",
        "[https://catboost.ai/en/docs/concepts/python-reference_catboostclassifier](https://catboost.ai/en/docs/concepts/python-reference_catboostclassifier)"
      ],
      "metadata": {
        "id": "Jd_F2sdm2Dx1"
      }
    },
    {
      "cell_type": "code",
      "execution_count": 57,
      "metadata": {
        "id": "tGK5sgaQbuhz",
        "colab": {
          "base_uri": "https://localhost:8080/",
          "height": 225,
          "referenced_widgets": [
            "3f3d5f4d9c7846a9b135a11aea5bfd4f"
          ]
        },
        "outputId": "42930cad-03b3-48a1-ccd6-a474c30e8fe8"
      },
      "outputs": [
        {
          "output_type": "display_data",
          "data": {
            "text/plain": [
              "MetricVisualizer(layout=Layout(align_self='stretch', height='500px'))"
            ],
            "application/vnd.jupyter.widget-view+json": {
              "version_major": 2,
              "version_minor": 0,
              "model_id": "3f3d5f4d9c7846a9b135a11aea5bfd4f"
            }
          },
          "metadata": {}
        },
        {
          "output_type": "stream",
          "name": "stdout",
          "text": [
            "Learning rate set to 0.071862\n",
            "0:\tlearn: 1.9169541\ttest: 1.9088581\tbest: 1.9088581 (0)\ttotal: 67.2ms\tremaining: 3m 21s\n",
            "100:\tlearn: 0.2762319\ttest: 0.3197549\tbest: 0.3197549 (100)\ttotal: 1.6s\tremaining: 45.9s\n",
            "200:\tlearn: 0.2034405\ttest: 0.2933275\tbest: 0.2933275 (200)\ttotal: 2.78s\tremaining: 38.7s\n",
            "300:\tlearn: 0.1628751\ttest: 0.2941727\tbest: 0.2930016 (221)\ttotal: 4.04s\tremaining: 36.2s\n",
            "Stopped by overfitting detector  (100 iterations wait)\n",
            "\n",
            "bestTest = 0.2930015707\n",
            "bestIteration = 221\n",
            "\n",
            "Shrink model to first 222 iterations.\n"
          ]
        },
        {
          "output_type": "execute_result",
          "data": {
            "text/plain": [
              "<catboost.core.CatBoostClassifier at 0x78e826ed0f70>"
            ]
          },
          "metadata": {},
          "execution_count": 57
        }
      ],
      "source": [
        "X = df[num_features]\n",
        "y = df[targets]\n",
        "\n",
        "X_train, X_test, y_train, y_test = train_test_split(X, y, test_size=0.2, random_state=4)\n",
        "\n",
        "model = CatBoostClassifier(iterations=3000, verbose=100, early_stopping_rounds=100)\n",
        "model.fit(X_train, y_train, plot=True, eval_set=(X_test, y_test))"
      ]
    },
    {
      "cell_type": "code",
      "source": [
        "predictions = model.predict(X_test)\n",
        "accuracy_score = sklearn.metrics.accuracy_score(y_test, predictions)\n",
        "round(accuracy_score, 3)"
      ],
      "metadata": {
        "colab": {
          "base_uri": "https://localhost:8080/"
        },
        "id": "yNC-rNbm3Z2I",
        "outputId": "a00a0e3b-24f5-4316-aa71-74f3da69e75f"
      },
      "execution_count": 58,
      "outputs": [
        {
          "output_type": "execute_result",
          "data": {
            "text/plain": [
              "0.9"
            ]
          },
          "metadata": {},
          "execution_count": 58
        }
      ]
    },
    {
      "cell_type": "markdown",
      "source": [
        "#### **Вывод:**\n",
        "\n",
        "Метрика Accuracy порядка 90%, на мой взгляд, это довольно много, но возможно можно и лучше 😀"
      ],
      "metadata": {
        "id": "2vBJMb9-5Q0x"
      }
    },
    {
      "cell_type": "markdown",
      "metadata": {
        "id": "pWAOjGCIbuhz"
      },
      "source": [
        "# Дополнительное задание. Визуализация прогнозов, ошибок модели и важности признаков"
      ]
    },
    {
      "cell_type": "markdown",
      "metadata": {
        "id": "oCvZU_ksbuhz"
      },
      "source": [
        "<div class=\"alert alert-info\">\n",
        "\n",
        "**Цель блока** — визуализировать результаты прогнозирования, ошибки модели и важность признаков для лучшего понимания и анализа модели."
      ]
    },
    {
      "cell_type": "markdown",
      "metadata": {
        "id": "onsptUygbuhz"
      },
      "source": [
        "## Визуализация (5 баллов)"
      ]
    },
    {
      "cell_type": "markdown",
      "metadata": {
        "id": "t3gAT3YHbuhz"
      },
      "source": [
        "   \n",
        "1. Визуализируйте важность признаков встроенным методом в `CatBoost`  (помните, что не стоит сильно доверять этому рейтингу важности, т. к. для сильно скоррелированных признаков важность делится пополам — оба признака могут улететь вниз).\n",
        "\n",
        "2. Постройте `waterfall_plot` из библиотеки `SHAP` (подробнее во втором ноутбуке из полезных ссылок ниже).\n",
        "    \n",
        "3. Постройте `classification_report` из библиотеки `scikit-learn`.\n",
        "\n",
        "4. Постройте и визуализируйте матрицу смежности (`confusion_matrix`), посмотрите, в каких классах модель больше всего ошибается.\n",
        "    \n",
        "5. Для каждого графика/примененного метода проинтерпретируйте результаты и сделайте выводы.\n",
        "\n",
        "\n",
        "<h4> Критерии оценивания </h4>\n",
        "    \n",
        "- По 1 баллу за каждый корректно выполненный пункт.\n",
        "    \n",
        "</div>\n",
        "\n",
        "<div class=\"alert alert-success\">\n",
        "\n",
        "Визуализация может помочь даже после того, как мы **уже обучили** какую-нибудь модель. Например:\n",
        "\n",
        "- Понять, что мешает модели или чего не хватает, чтобы не допускать ошибки.\n",
        "- Сделать выводы, как можно улучшить точность в последующих экспериментах.\n",
        "- Визуализировать ошибки модели.\n",
        "- Отсеять лишние признаки.\n",
        "- Найти идеи для новых признаков.\n",
        "- Все зависит от типа ваших данных.\n",
        "\n",
        "<h3> Полезные источники </h3>\n",
        "    \n",
        "- Занятие про визуализацию и Seaborn.\n",
        "- Занятие про продвинутую визуализацию и анализ ошибок модели.\n",
        "\n",
        "</div>    "
      ]
    },
    {
      "cell_type": "markdown",
      "source": [
        "#### **Встроенный метод в CatBoost:**"
      ],
      "metadata": {
        "id": "ec4NoqB97IzH"
      }
    },
    {
      "cell_type": "code",
      "source": [
        "feature_importances = model.get_feature_importance(prettified=True)\n",
        "feature_importances"
      ],
      "metadata": {
        "colab": {
          "base_uri": "https://localhost:8080/",
          "height": 332
        },
        "id": "QZemlpdx7npu",
        "outputId": "c58c587e-57a3-44b2-8372-11b2f690d116"
      },
      "execution_count": 59,
      "outputs": [
        {
          "output_type": "execute_result",
          "data": {
            "text/plain": [
              "      Feature Id  Importances\n",
              "0      speed_max    21.855770\n",
              "1    mean_rating    21.572492\n",
              "2     speed_mean    19.815566\n",
              "3     target_reg    18.843667\n",
              "4     min_rating    12.781436\n",
              "5     car_rating     1.784598\n",
              "6         riders     1.443606\n",
              "7   year_to_work     1.296165\n",
              "8  year_to_start     0.606700"
            ],
            "text/html": [
              "\n",
              "  <div id=\"df-90a7fedf-373d-4b4c-9104-b39eea36c157\" class=\"colab-df-container\">\n",
              "    <div>\n",
              "<style scoped>\n",
              "    .dataframe tbody tr th:only-of-type {\n",
              "        vertical-align: middle;\n",
              "    }\n",
              "\n",
              "    .dataframe tbody tr th {\n",
              "        vertical-align: top;\n",
              "    }\n",
              "\n",
              "    .dataframe thead th {\n",
              "        text-align: right;\n",
              "    }\n",
              "</style>\n",
              "<table border=\"1\" class=\"dataframe\">\n",
              "  <thead>\n",
              "    <tr style=\"text-align: right;\">\n",
              "      <th></th>\n",
              "      <th>Feature Id</th>\n",
              "      <th>Importances</th>\n",
              "    </tr>\n",
              "  </thead>\n",
              "  <tbody>\n",
              "    <tr>\n",
              "      <th>0</th>\n",
              "      <td>speed_max</td>\n",
              "      <td>21.855770</td>\n",
              "    </tr>\n",
              "    <tr>\n",
              "      <th>1</th>\n",
              "      <td>mean_rating</td>\n",
              "      <td>21.572492</td>\n",
              "    </tr>\n",
              "    <tr>\n",
              "      <th>2</th>\n",
              "      <td>speed_mean</td>\n",
              "      <td>19.815566</td>\n",
              "    </tr>\n",
              "    <tr>\n",
              "      <th>3</th>\n",
              "      <td>target_reg</td>\n",
              "      <td>18.843667</td>\n",
              "    </tr>\n",
              "    <tr>\n",
              "      <th>4</th>\n",
              "      <td>min_rating</td>\n",
              "      <td>12.781436</td>\n",
              "    </tr>\n",
              "    <tr>\n",
              "      <th>5</th>\n",
              "      <td>car_rating</td>\n",
              "      <td>1.784598</td>\n",
              "    </tr>\n",
              "    <tr>\n",
              "      <th>6</th>\n",
              "      <td>riders</td>\n",
              "      <td>1.443606</td>\n",
              "    </tr>\n",
              "    <tr>\n",
              "      <th>7</th>\n",
              "      <td>year_to_work</td>\n",
              "      <td>1.296165</td>\n",
              "    </tr>\n",
              "    <tr>\n",
              "      <th>8</th>\n",
              "      <td>year_to_start</td>\n",
              "      <td>0.606700</td>\n",
              "    </tr>\n",
              "  </tbody>\n",
              "</table>\n",
              "</div>\n",
              "    <div class=\"colab-df-buttons\">\n",
              "\n",
              "  <div class=\"colab-df-container\">\n",
              "    <button class=\"colab-df-convert\" onclick=\"convertToInteractive('df-90a7fedf-373d-4b4c-9104-b39eea36c157')\"\n",
              "            title=\"Convert this dataframe to an interactive table.\"\n",
              "            style=\"display:none;\">\n",
              "\n",
              "  <svg xmlns=\"http://www.w3.org/2000/svg\" height=\"24px\" viewBox=\"0 -960 960 960\">\n",
              "    <path d=\"M120-120v-720h720v720H120Zm60-500h600v-160H180v160Zm220 220h160v-160H400v160Zm0 220h160v-160H400v160ZM180-400h160v-160H180v160Zm440 0h160v-160H620v160ZM180-180h160v-160H180v160Zm440 0h160v-160H620v160Z\"/>\n",
              "  </svg>\n",
              "    </button>\n",
              "\n",
              "  <style>\n",
              "    .colab-df-container {\n",
              "      display:flex;\n",
              "      gap: 12px;\n",
              "    }\n",
              "\n",
              "    .colab-df-convert {\n",
              "      background-color: #E8F0FE;\n",
              "      border: none;\n",
              "      border-radius: 50%;\n",
              "      cursor: pointer;\n",
              "      display: none;\n",
              "      fill: #1967D2;\n",
              "      height: 32px;\n",
              "      padding: 0 0 0 0;\n",
              "      width: 32px;\n",
              "    }\n",
              "\n",
              "    .colab-df-convert:hover {\n",
              "      background-color: #E2EBFA;\n",
              "      box-shadow: 0px 1px 2px rgba(60, 64, 67, 0.3), 0px 1px 3px 1px rgba(60, 64, 67, 0.15);\n",
              "      fill: #174EA6;\n",
              "    }\n",
              "\n",
              "    .colab-df-buttons div {\n",
              "      margin-bottom: 4px;\n",
              "    }\n",
              "\n",
              "    [theme=dark] .colab-df-convert {\n",
              "      background-color: #3B4455;\n",
              "      fill: #D2E3FC;\n",
              "    }\n",
              "\n",
              "    [theme=dark] .colab-df-convert:hover {\n",
              "      background-color: #434B5C;\n",
              "      box-shadow: 0px 1px 3px 1px rgba(0, 0, 0, 0.15);\n",
              "      filter: drop-shadow(0px 1px 2px rgba(0, 0, 0, 0.3));\n",
              "      fill: #FFFFFF;\n",
              "    }\n",
              "  </style>\n",
              "\n",
              "    <script>\n",
              "      const buttonEl =\n",
              "        document.querySelector('#df-90a7fedf-373d-4b4c-9104-b39eea36c157 button.colab-df-convert');\n",
              "      buttonEl.style.display =\n",
              "        google.colab.kernel.accessAllowed ? 'block' : 'none';\n",
              "\n",
              "      async function convertToInteractive(key) {\n",
              "        const element = document.querySelector('#df-90a7fedf-373d-4b4c-9104-b39eea36c157');\n",
              "        const dataTable =\n",
              "          await google.colab.kernel.invokeFunction('convertToInteractive',\n",
              "                                                    [key], {});\n",
              "        if (!dataTable) return;\n",
              "\n",
              "        const docLinkHtml = 'Like what you see? Visit the ' +\n",
              "          '<a target=\"_blank\" href=https://colab.research.google.com/notebooks/data_table.ipynb>data table notebook</a>'\n",
              "          + ' to learn more about interactive tables.';\n",
              "        element.innerHTML = '';\n",
              "        dataTable['output_type'] = 'display_data';\n",
              "        await google.colab.output.renderOutput(dataTable, element);\n",
              "        const docLink = document.createElement('div');\n",
              "        docLink.innerHTML = docLinkHtml;\n",
              "        element.appendChild(docLink);\n",
              "      }\n",
              "    </script>\n",
              "  </div>\n",
              "\n",
              "\n",
              "<div id=\"df-e9712c79-a7fb-4a91-a43e-3c33a69305da\">\n",
              "  <button class=\"colab-df-quickchart\" onclick=\"quickchart('df-e9712c79-a7fb-4a91-a43e-3c33a69305da')\"\n",
              "            title=\"Suggest charts\"\n",
              "            style=\"display:none;\">\n",
              "\n",
              "<svg xmlns=\"http://www.w3.org/2000/svg\" height=\"24px\"viewBox=\"0 0 24 24\"\n",
              "     width=\"24px\">\n",
              "    <g>\n",
              "        <path d=\"M19 3H5c-1.1 0-2 .9-2 2v14c0 1.1.9 2 2 2h14c1.1 0 2-.9 2-2V5c0-1.1-.9-2-2-2zM9 17H7v-7h2v7zm4 0h-2V7h2v10zm4 0h-2v-4h2v4z\"/>\n",
              "    </g>\n",
              "</svg>\n",
              "  </button>\n",
              "\n",
              "<style>\n",
              "  .colab-df-quickchart {\n",
              "      --bg-color: #E8F0FE;\n",
              "      --fill-color: #1967D2;\n",
              "      --hover-bg-color: #E2EBFA;\n",
              "      --hover-fill-color: #174EA6;\n",
              "      --disabled-fill-color: #AAA;\n",
              "      --disabled-bg-color: #DDD;\n",
              "  }\n",
              "\n",
              "  [theme=dark] .colab-df-quickchart {\n",
              "      --bg-color: #3B4455;\n",
              "      --fill-color: #D2E3FC;\n",
              "      --hover-bg-color: #434B5C;\n",
              "      --hover-fill-color: #FFFFFF;\n",
              "      --disabled-bg-color: #3B4455;\n",
              "      --disabled-fill-color: #666;\n",
              "  }\n",
              "\n",
              "  .colab-df-quickchart {\n",
              "    background-color: var(--bg-color);\n",
              "    border: none;\n",
              "    border-radius: 50%;\n",
              "    cursor: pointer;\n",
              "    display: none;\n",
              "    fill: var(--fill-color);\n",
              "    height: 32px;\n",
              "    padding: 0;\n",
              "    width: 32px;\n",
              "  }\n",
              "\n",
              "  .colab-df-quickchart:hover {\n",
              "    background-color: var(--hover-bg-color);\n",
              "    box-shadow: 0 1px 2px rgba(60, 64, 67, 0.3), 0 1px 3px 1px rgba(60, 64, 67, 0.15);\n",
              "    fill: var(--button-hover-fill-color);\n",
              "  }\n",
              "\n",
              "  .colab-df-quickchart-complete:disabled,\n",
              "  .colab-df-quickchart-complete:disabled:hover {\n",
              "    background-color: var(--disabled-bg-color);\n",
              "    fill: var(--disabled-fill-color);\n",
              "    box-shadow: none;\n",
              "  }\n",
              "\n",
              "  .colab-df-spinner {\n",
              "    border: 2px solid var(--fill-color);\n",
              "    border-color: transparent;\n",
              "    border-bottom-color: var(--fill-color);\n",
              "    animation:\n",
              "      spin 1s steps(1) infinite;\n",
              "  }\n",
              "\n",
              "  @keyframes spin {\n",
              "    0% {\n",
              "      border-color: transparent;\n",
              "      border-bottom-color: var(--fill-color);\n",
              "      border-left-color: var(--fill-color);\n",
              "    }\n",
              "    20% {\n",
              "      border-color: transparent;\n",
              "      border-left-color: var(--fill-color);\n",
              "      border-top-color: var(--fill-color);\n",
              "    }\n",
              "    30% {\n",
              "      border-color: transparent;\n",
              "      border-left-color: var(--fill-color);\n",
              "      border-top-color: var(--fill-color);\n",
              "      border-right-color: var(--fill-color);\n",
              "    }\n",
              "    40% {\n",
              "      border-color: transparent;\n",
              "      border-right-color: var(--fill-color);\n",
              "      border-top-color: var(--fill-color);\n",
              "    }\n",
              "    60% {\n",
              "      border-color: transparent;\n",
              "      border-right-color: var(--fill-color);\n",
              "    }\n",
              "    80% {\n",
              "      border-color: transparent;\n",
              "      border-right-color: var(--fill-color);\n",
              "      border-bottom-color: var(--fill-color);\n",
              "    }\n",
              "    90% {\n",
              "      border-color: transparent;\n",
              "      border-bottom-color: var(--fill-color);\n",
              "    }\n",
              "  }\n",
              "</style>\n",
              "\n",
              "  <script>\n",
              "    async function quickchart(key) {\n",
              "      const quickchartButtonEl =\n",
              "        document.querySelector('#' + key + ' button');\n",
              "      quickchartButtonEl.disabled = true;  // To prevent multiple clicks.\n",
              "      quickchartButtonEl.classList.add('colab-df-spinner');\n",
              "      try {\n",
              "        const charts = await google.colab.kernel.invokeFunction(\n",
              "            'suggestCharts', [key], {});\n",
              "      } catch (error) {\n",
              "        console.error('Error during call to suggestCharts:', error);\n",
              "      }\n",
              "      quickchartButtonEl.classList.remove('colab-df-spinner');\n",
              "      quickchartButtonEl.classList.add('colab-df-quickchart-complete');\n",
              "    }\n",
              "    (() => {\n",
              "      let quickchartButtonEl =\n",
              "        document.querySelector('#df-e9712c79-a7fb-4a91-a43e-3c33a69305da button');\n",
              "      quickchartButtonEl.style.display =\n",
              "        google.colab.kernel.accessAllowed ? 'block' : 'none';\n",
              "    })();\n",
              "  </script>\n",
              "</div>\n",
              "    </div>\n",
              "  </div>\n"
            ],
            "application/vnd.google.colaboratory.intrinsic+json": {
              "type": "dataframe",
              "variable_name": "feature_importances",
              "summary": "{\n  \"name\": \"feature_importances\",\n  \"rows\": 9,\n  \"fields\": [\n    {\n      \"column\": \"Feature Id\",\n      \"properties\": {\n        \"dtype\": \"string\",\n        \"num_unique_values\": 9,\n        \"samples\": [\n          \"year_to_work\",\n          \"mean_rating\",\n          \"car_rating\"\n        ],\n        \"semantic_type\": \"\",\n        \"description\": \"\"\n      }\n    },\n    {\n      \"column\": \"Importances\",\n      \"properties\": {\n        \"dtype\": \"number\",\n        \"std\": 9.684771992070916,\n        \"min\": 0.606700457395559,\n        \"max\": 21.85577027293923,\n        \"num_unique_values\": 9,\n        \"samples\": [\n          1.2961645940386946,\n          21.572492200653638,\n          1.7845978274144112\n        ],\n        \"semantic_type\": \"\",\n        \"description\": \"\"\n      }\n    }\n  ]\n}"
            }
          },
          "metadata": {},
          "execution_count": 59
        }
      ]
    },
    {
      "cell_type": "code",
      "execution_count": 60,
      "metadata": {
        "id": "EYvkiOcrbuh0",
        "colab": {
          "base_uri": "https://localhost:8080/",
          "height": 522
        },
        "outputId": "6130d2f8-0517-400c-e7e9-6c0b688bf6b1"
      },
      "outputs": [
        {
          "output_type": "display_data",
          "data": {
            "text/plain": [
              "<Figure size 1000x600 with 1 Axes>"
            ],
            "image/png": "[encoded data removed]"
          },
          "metadata": {}
        }
      ],
      "source": [
        "# Получение важности признаков\n",
        "feature_importances = model.get_feature_importance()\n",
        "sorted_indices = np.argsort(feature_importances)\n",
        "\n",
        "# Визуализация важности признаков\n",
        "plt.figure(figsize=(10, 6))\n",
        "plt.barh(range(len(feature_importances)), feature_importances[sorted_indices])\n",
        "plt.yticks(range(len(feature_importances)), X_train.columns[sorted_indices])\n",
        "plt.show()"
      ]
    },
    {
      "cell_type": "markdown",
      "source": [
        "#### **Waterfall Plot:**"
      ],
      "metadata": {
        "id": "AZ6yEQ1e8woB"
      }
    },
    {
      "cell_type": "code",
      "source": [
        "!pip install shap"
      ],
      "metadata": {
        "colab": {
          "base_uri": "https://localhost:8080/"
        },
        "id": "q0GVRe688sB5",
        "outputId": "86825612-ce92-4ec5-aaa5-8a692b68fd81"
      },
      "execution_count": 61,
      "outputs": [
        {
          "output_type": "stream",
          "name": "stdout",
          "text": [
            "Collecting shap\n",
            "  Downloading shap-0.45.0-cp310-cp310-manylinux_2_12_x86_64.manylinux2010_x86_64.manylinux_2_17_x86_64.manylinux2014_x86_64.whl (538 kB)\n",
            "\u001b[2K     \u001b[90m━━━━━━━━━━━━━━━━━━━━━━━━━━━━━━━━━━━━━━━━\u001b[0m \u001b[32m538.2/538.2 kB\u001b[0m \u001b[31m11.8 MB/s\u001b[0m eta \u001b[36m0:00:00\u001b[0m\n",
            "\u001b[?25hRequirement already satisfied: numpy in /usr/local/lib/python3.10/dist-packages (from shap) (1.25.2)\n",
            "Requirement already satisfied: scipy in /usr/local/lib/python3.10/dist-packages (from shap) (1.11.4)\n",
            "Requirement already satisfied: scikit-learn in /usr/local/lib/python3.10/dist-packages (from shap) (1.2.2)\n",
            "Requirement already satisfied: pandas in /usr/local/lib/python3.10/dist-packages (from shap) (1.5.3)\n",
            "Requirement already satisfied: tqdm>=4.27.0 in /usr/local/lib/python3.10/dist-packages (from shap) (4.66.2)\n",
            "Requirement already satisfied: packaging>20.9 in /usr/local/lib/python3.10/dist-packages (from shap) (24.0)\n",
            "Collecting slicer==0.0.7 (from shap)\n",
            "  Downloading slicer-0.0.7-py3-none-any.whl (14 kB)\n",
            "Requirement already satisfied: numba in /usr/local/lib/python3.10/dist-packages (from shap) (0.58.1)\n",
            "Requirement already satisfied: cloudpickle in /usr/local/lib/python3.10/dist-packages (from shap) (2.2.1)\n",
            "Requirement already satisfied: llvmlite<0.42,>=0.41.0dev0 in /usr/local/lib/python3.10/dist-packages (from numba->shap) (0.41.1)\n",
            "Requirement already satisfied: python-dateutil>=2.8.1 in /usr/local/lib/python3.10/dist-packages (from pandas->shap) (2.8.2)\n",
            "Requirement already satisfied: pytz>=2020.1 in /usr/local/lib/python3.10/dist-packages (from pandas->shap) (2023.4)\n",
            "Requirement already satisfied: joblib>=1.1.1 in /usr/local/lib/python3.10/dist-packages (from scikit-learn->shap) (1.3.2)\n",
            "Requirement already satisfied: threadpoolctl>=2.0.0 in /usr/local/lib/python3.10/dist-packages (from scikit-learn->shap) (3.4.0)\n",
            "Requirement already satisfied: six>=1.5 in /usr/local/lib/python3.10/dist-packages (from python-dateutil>=2.8.1->pandas->shap) (1.16.0)\n",
            "Installing collected packages: slicer, shap\n",
            "Successfully installed shap-0.45.0 slicer-0.0.7\n"
          ]
        }
      ]
    },
    {
      "cell_type": "code",
      "source": [
        "import shap\n",
        "\n",
        "explainer = shap.Explainer(model=model)\n",
        "shap_values = explainer(X_test)\n",
        "\n",
        "shap.plots.waterfall(shap_values[0,:,1])"
      ],
      "metadata": {
        "colab": {
          "base_uri": "https://localhost:8080/",
          "height": 579
        },
        "id": "0WAjRA7BCp5a",
        "outputId": "fc3541e4-347d-47ba-85af-6fbd7b7f74bd"
      },
      "execution_count": 62,
      "outputs": [
        {
          "output_type": "display_data",
          "data": {
            "text/plain": [
              "<Figure size 800x600 with 3 Axes>"
            ],
            "image/png": "[encoded data removed]"
          },
          "metadata": {}
        }
      ]
    },
    {
      "cell_type": "markdown",
      "source": [
        "#### **Classification Report**"
      ],
      "metadata": {
        "id": "BdtowXDuE_zi"
      }
    },
    {
      "cell_type": "code",
      "source": [
        "from sklearn.metrics import classification_report\n",
        "report = classification_report(y_test, predictions)\n",
        "print(report)"
      ],
      "metadata": {
        "colab": {
          "base_uri": "https://localhost:8080/"
        },
        "id": "KdCuQsahFAFh",
        "outputId": "fbe11c22-1fb0-4a71-af35-2fb9201165b1"
      },
      "execution_count": 63,
      "outputs": [
        {
          "output_type": "stream",
          "name": "stdout",
          "text": [
            "                 precision    recall  f1-score   support\n",
            "\n",
            "    another_bug       0.90      0.97      0.93        58\n",
            "      break_bug       1.00      1.00      1.00        60\n",
            "    electro_bug       1.00      1.00      1.00        47\n",
            "   engine_check       0.90      0.88      0.89        42\n",
            "    engine_fuel       0.85      0.77      0.81        52\n",
            "engine_ignition       0.84      0.78      0.81        59\n",
            "engine_overheat       0.71      0.81      0.76        52\n",
            "     gear_stick       0.98      0.95      0.97        62\n",
            "    wheel_shake       0.92      0.94      0.93        36\n",
            "\n",
            "       accuracy                           0.90       468\n",
            "      macro avg       0.90      0.90      0.90       468\n",
            "   weighted avg       0.90      0.90      0.90       468\n",
            "\n"
          ]
        }
      ]
    },
    {
      "cell_type": "markdown",
      "source": [
        "#### **Confusion Matrix**"
      ],
      "metadata": {
        "id": "1K0rfbdBFZVa"
      }
    },
    {
      "cell_type": "code",
      "source": [
        "from sklearn.metrics import confusion_matrix\n",
        "confusion_matrix = sklearn.metrics.confusion_matrix(y_test, predictions)\n",
        "\n",
        "plt.figure(figsize=(10, 6))\n",
        "sns.heatmap(confusion_matrix, annot=True)\n",
        "plt.xlabel('Предсказанные данные')\n",
        "plt.ylabel('Настоящие данные')\n",
        "plt.show();"
      ],
      "metadata": {
        "colab": {
          "base_uri": "https://localhost:8080/",
          "height": 547
        },
        "id": "7dmMnL1gFZaq",
        "outputId": "337b237e-7226-4ccb-f0b5-3a9a6625c65c"
      },
      "execution_count": 64,
      "outputs": [
        {
          "output_type": "display_data",
          "data": {
            "text/plain": [
              "<Figure size 1000x600 with 2 Axes>"
            ],
            "image/png": "[encoded data removed]"
          },
          "metadata": {}
        }
      ]
    },
    {
      "cell_type": "markdown",
      "metadata": {
        "id": "pL8evJIMbuh0"
      },
      "source": [
        "# Домашнее задание 3. Оптимизация. Тюнинг гиперпараметров с помощью `Optuna`"
      ]
    },
    {
      "cell_type": "markdown",
      "metadata": {
        "id": "ZmanV8V8buh0"
      },
      "source": [
        "<div class=\"alert alert-info\">\n",
        "\n",
        "**Цель блока** — улучшить качество предсказания, произведя подбор гиперпараметров для модели с помощью `Optuna`."
      ]
    },
    {
      "cell_type": "markdown",
      "metadata": {
        "id": "qEbxkZf8buh1"
      },
      "source": [
        "## Подбор гиперпараметров (3 балла)"
      ]
    },
    {
      "cell_type": "markdown",
      "metadata": {
        "id": "XogayH7Hbuh1"
      },
      "source": [
        "1. Напишите `objective` функцию и запустите `Optuna`.\n",
        "2. Подберите гиперпараметры для `CatBoostClassifier` (минимум 3).\n",
        "3. Обучите модель с новыми гиперпараметрами, сравните качество и сделайте выводы.\n",
        "\n",
        "    \n",
        "<h4> Критерии оценивания </h4>\n",
        "    \n",
        "- 1 балл за каждый корректно выполненный пункт.\n",
        "    \n",
        "</div>"
      ]
    },
    {
      "cell_type": "code",
      "execution_count": 65,
      "metadata": {
        "id": "UrNbom9qbuh1",
        "colab": {
          "base_uri": "https://localhost:8080/"
        },
        "outputId": "4e2bcd1c-3809-410c-b458-c8b4d6e35d37"
      },
      "outputs": [
        {
          "output_type": "stream",
          "name": "stdout",
          "text": [
            "<class 'pandas.core.frame.DataFrame'>\n",
            "Int64Index: 2337 entries, 0 to 2336\n",
            "Data columns (total 13 columns):\n",
            " #   Column         Non-Null Count  Dtype  \n",
            "---  ------         --------------  -----  \n",
            " 0   model          2337 non-null   object \n",
            " 1   car_type       2337 non-null   object \n",
            " 2   fuel_type      2337 non-null   object \n",
            " 3   car_rating     2337 non-null   float64\n",
            " 4   year_to_start  2337 non-null   int64  \n",
            " 5   riders         2337 non-null   int64  \n",
            " 6   year_to_work   2337 non-null   int64  \n",
            " 7   target_reg     2337 non-null   float64\n",
            " 8   target_class   2337 non-null   object \n",
            " 9   min_rating     2337 non-null   float64\n",
            " 10  mean_rating    2337 non-null   float64\n",
            " 11  speed_max      2337 non-null   float64\n",
            " 12  speed_mean     2337 non-null   float64\n",
            "dtypes: float64(6), int64(3), object(4)\n",
            "memory usage: 255.6+ KB\n"
          ]
        }
      ],
      "source": [
        "df.info()"
      ]
    },
    {
      "cell_type": "code",
      "source": [
        "!pip install optuna"
      ],
      "metadata": {
        "colab": {
          "base_uri": "https://localhost:8080/"
        },
        "id": "IoIoek9S3DRx",
        "outputId": "aab7d5bb-564e-4b2e-bfbf-303e825f2397"
      },
      "execution_count": 66,
      "outputs": [
        {
          "output_type": "stream",
          "name": "stdout",
          "text": [
            "Collecting optuna\n",
            "  Downloading optuna-3.6.0-py3-none-any.whl (379 kB)\n",
            "\u001b[2K     \u001b[90m━━━━━━━━━━━━━━━━━━━━━━━━━━━━━━━━━━━━━━━━\u001b[0m \u001b[32m379.9/379.9 kB\u001b[0m \u001b[31m7.5 MB/s\u001b[0m eta \u001b[36m0:00:00\u001b[0m\n",
            "\u001b[?25hCollecting alembic>=1.5.0 (from optuna)\n",
            "  Downloading alembic-1.13.1-py3-none-any.whl (233 kB)\n",
            "\u001b[2K     \u001b[90m━━━━━━━━━━━━━━━━━━━━━━━━━━━━━━━━━━━━━━━━\u001b[0m \u001b[32m233.4/233.4 kB\u001b[0m \u001b[31m29.3 MB/s\u001b[0m eta \u001b[36m0:00:00\u001b[0m\n",
            "\u001b[?25hCollecting colorlog (from optuna)\n",
            "  Downloading colorlog-6.8.2-py3-none-any.whl (11 kB)\n",
            "Requirement already satisfied: numpy in /usr/local/lib/python3.10/dist-packages (from optuna) (1.25.2)\n",
            "Requirement already satisfied: packaging>=20.0 in /usr/local/lib/python3.10/dist-packages (from optuna) (24.0)\n",
            "Requirement already satisfied: sqlalchemy>=1.3.0 in /usr/local/lib/python3.10/dist-packages (from optuna) (2.0.29)\n",
            "Requirement already satisfied: tqdm in /usr/local/lib/python3.10/dist-packages (from optuna) (4.66.2)\n",
            "Requirement already satisfied: PyYAML in /usr/local/lib/python3.10/dist-packages (from optuna) (6.0.1)\n",
            "Collecting Mako (from alembic>=1.5.0->optuna)\n",
            "  Downloading Mako-1.3.2-py3-none-any.whl (78 kB)\n",
            "\u001b[2K     \u001b[90m━━━━━━━━━━━━━━━━━━━━━━━━━━━━━━━━━━━━━━━━\u001b[0m \u001b[32m78.7/78.7 kB\u001b[0m \u001b[31m13.4 MB/s\u001b[0m eta \u001b[36m0:00:00\u001b[0m\n",
            "\u001b[?25hRequirement already satisfied: typing-extensions>=4 in /usr/local/lib/python3.10/dist-packages (from alembic>=1.5.0->optuna) (4.10.0)\n",
            "Requirement already satisfied: greenlet!=0.4.17 in /usr/local/lib/python3.10/dist-packages (from sqlalchemy>=1.3.0->optuna) (3.0.3)\n",
            "Requirement already satisfied: MarkupSafe>=0.9.2 in /usr/local/lib/python3.10/dist-packages (from Mako->alembic>=1.5.0->optuna) (2.1.5)\n",
            "Installing collected packages: Mako, colorlog, alembic, optuna\n",
            "Successfully installed Mako-1.3.2 alembic-1.13.1 colorlog-6.8.2 optuna-3.6.0\n"
          ]
        }
      ]
    },
    {
      "cell_type": "code",
      "source": [
        "import optuna"
      ],
      "metadata": {
        "id": "LfcLG-Ro7MRC"
      },
      "execution_count": 67,
      "outputs": []
    },
    {
      "cell_type": "code",
      "source": [
        "def objective(trial):\n",
        "    X_train, X_test, y_train, y_test = train_test_split(X, y, test_size=0.2, random_state=4)\n",
        "\n",
        "    params = {\n",
        "        'iterations': trial.suggest_int('iterations', 100, 1000),\n",
        "        'learning_rate': trial.suggest_float('learning_rate', 0.01, 0.3),\n",
        "        'depth': trial.suggest_int('depth', 3, 10),\n",
        "        'l2_leaf_reg': trial.suggest_float('l2_leaf_reg', 1e-9, 10),\n",
        "    }\n",
        "\n",
        "    model = CatBoostClassifier(**params, random_state=4)\n",
        "    model.fit(X_train, y_train, verbose=100)\n",
        "\n",
        "    predictions = model.predict(X_test)\n",
        "\n",
        "    acc_score_value = sklearn.metrics.accuracy_score(y_test, predictions)\n",
        "\n",
        "    return acc_score_value"
      ],
      "metadata": {
        "id": "EvVSNBew7OXp"
      },
      "execution_count": 95,
      "outputs": []
    },
    {
      "cell_type": "code",
      "source": [
        "study = optuna.create_study(direction='maximize')\n",
        "study.optimize(objective, n_trials=100)"
      ],
      "metadata": {
        "colab": {
          "base_uri": "https://localhost:8080/"
        },
        "id": "EKIZdJ2181FJ",
        "outputId": "acbc7d67-4961-4a5c-e69e-78bf97943a5e"
      },
      "execution_count": 96,
      "outputs": [
        {
          "output_type": "stream",
          "name": "stderr",
          "text": [
            "[I 2024-03-30 15:26:06,175] A new study created in memory with name: no-name-ff7214de-bc0d-402d-abec-e61843a7a97c\n"
          ]
        },
        {
          "output_type": "stream",
          "name": "stdout",
          "text": [
            "0:\tlearn: 1.6972606\ttotal: 94.8ms\tremaining: 1m 33s\n",
            "100:\tlearn: 0.1418816\ttotal: 8.36s\tremaining: 1m 13s\n",
            "200:\tlearn: 0.0705214\ttotal: 15.7s\tremaining: 1m 1s\n",
            "300:\tlearn: 0.0433338\ttotal: 23.9s\tremaining: 54.4s\n",
            "400:\tlearn: 0.0303166\ttotal: 32.1s\tremaining: 46.8s\n",
            "500:\tlearn: 0.0228136\ttotal: 39.3s\tremaining: 37.9s\n",
            "600:\tlearn: 0.0179587\ttotal: 47.6s\tremaining: 30.4s\n",
            "700:\tlearn: 0.0146840\ttotal: 55.7s\tremaining: 22.6s\n",
            "800:\tlearn: 0.0123463\ttotal: 1m 3s\tremaining: 14.5s\n",
            "900:\tlearn: 0.0105385\ttotal: 1m 11s\tremaining: 6.65s\n"
          ]
        },
        {
          "output_type": "stream",
          "name": "stderr",
          "text": [
            "[I 2024-03-30 15:27:24,758] Trial 0 finished with value: 0.8931623931623932 and parameters: {'iterations': 985, 'learning_rate': 0.11491821970475234, 'depth': 9, 'l2_leaf_reg': 1.7769893626939404}. Best is trial 0 with value: 0.8931623931623932.\n"
          ]
        },
        {
          "output_type": "stream",
          "name": "stdout",
          "text": [
            "984:\tlearn: 0.0093630\ttotal: 1m 18s\tremaining: 0us\n",
            "0:\tlearn: 2.1281274\ttotal: 23.3ms\tremaining: 18.4s\n",
            "100:\tlearn: 0.6052378\ttotal: 1.3s\tremaining: 8.9s\n",
            "200:\tlearn: 0.3930879\ttotal: 2.44s\tremaining: 7.15s\n",
            "300:\tlearn: 0.3279335\ttotal: 3.53s\tremaining: 5.74s\n",
            "400:\tlearn: 0.2948144\ttotal: 4.61s\tremaining: 4.49s\n",
            "500:\tlearn: 0.2716570\ttotal: 5.68s\tremaining: 3.29s\n",
            "600:\tlearn: 0.2541957\ttotal: 6.75s\tremaining: 2.13s\n",
            "700:\tlearn: 0.2381655\ttotal: 7.82s\tremaining: 1s\n"
          ]
        },
        {
          "output_type": "stream",
          "name": "stderr",
          "text": [
            "[I 2024-03-30 15:27:33,640] Trial 1 finished with value: 0.8974358974358975 and parameters: {'iterations': 791, 'learning_rate': 0.01579021069705002, 'depth': 6, 'l2_leaf_reg': 4.101004790890639}. Best is trial 1 with value: 0.8974358974358975.\n"
          ]
        },
        {
          "output_type": "stream",
          "name": "stdout",
          "text": [
            "790:\tlearn: 0.2267055\ttotal: 8.77s\tremaining: 0us\n",
            "0:\tlearn: 1.9879558\ttotal: 10.8ms\tremaining: 2.89s\n",
            "100:\tlearn: 0.2997907\ttotal: 1.12s\tremaining: 1.84s\n",
            "200:\tlearn: 0.2111567\ttotal: 2.81s\tremaining: 936ms\n"
          ]
        },
        {
          "output_type": "stream",
          "name": "stderr",
          "text": [
            "[I 2024-03-30 15:27:37,657] Trial 2 finished with value: 0.9038461538461539 and parameters: {'iterations': 268, 'learning_rate': 0.0407789042397448, 'depth': 6, 'l2_leaf_reg': 0.5670260393498224}. Best is trial 2 with value: 0.9038461538461539.\n"
          ]
        },
        {
          "output_type": "stream",
          "name": "stdout",
          "text": [
            "267:\tlearn: 0.1761709\ttotal: 3.95s\tremaining: 0us\n",
            "0:\tlearn: 1.3460278\ttotal: 76.5ms\tremaining: 26.8s\n",
            "100:\tlearn: 0.1230318\ttotal: 7.53s\tremaining: 18.6s\n",
            "200:\tlearn: 0.0640274\ttotal: 15.9s\tremaining: 11.9s\n",
            "300:\tlearn: 0.0410847\ttotal: 24.2s\tremaining: 4.02s\n"
          ]
        },
        {
          "output_type": "stream",
          "name": "stderr",
          "text": [
            "[I 2024-03-30 15:28:05,614] Trial 3 finished with value: 0.8931623931623932 and parameters: {'iterations': 351, 'learning_rate': 0.28016311811087397, 'depth': 9, 'l2_leaf_reg': 5.967033224472933}. Best is trial 2 with value: 0.9038461538461539.\n"
          ]
        },
        {
          "output_type": "stream",
          "name": "stdout",
          "text": [
            "350:\tlearn: 0.0345162\ttotal: 27.9s\tremaining: 0us\n",
            "0:\tlearn: 1.4975098\ttotal: 37.2ms\tremaining: 10.3s\n",
            "100:\tlearn: 0.1365293\ttotal: 3.96s\tremaining: 6.94s\n",
            "200:\tlearn: 0.0715424\ttotal: 8.52s\tremaining: 3.26s\n"
          ]
        },
        {
          "output_type": "stream",
          "name": "stderr",
          "text": [
            "[I 2024-03-30 15:28:17,033] Trial 4 finished with value: 0.8931623931623932 and parameters: {'iterations': 278, 'learning_rate': 0.17546576726086754, 'depth': 8, 'l2_leaf_reg': 2.718209732022972}. Best is trial 2 with value: 0.9038461538461539.\n"
          ]
        },
        {
          "output_type": "stream",
          "name": "stdout",
          "text": [
            "277:\tlearn: 0.0494374\ttotal: 11.3s\tremaining: 0us\n",
            "0:\tlearn: 1.5474708\ttotal: 19.5ms\tremaining: 9.37s\n",
            "100:\tlearn: 0.1314451\ttotal: 1.93s\tremaining: 7.27s\n",
            "200:\tlearn: 0.0674051\ttotal: 3.9s\tremaining: 5.45s\n",
            "300:\tlearn: 0.0407722\ttotal: 5.92s\tremaining: 3.56s\n",
            "400:\tlearn: 0.0275819\ttotal: 8.69s\tremaining: 1.75s\n"
          ]
        },
        {
          "output_type": "stream",
          "name": "stderr",
          "text": [
            "[I 2024-03-30 15:28:27,539] Trial 5 finished with value: 0.8995726495726496 and parameters: {'iterations': 482, 'learning_rate': 0.1417441219247969, 'depth': 7, 'l2_leaf_reg': 1.0580476114913802}. Best is trial 2 with value: 0.9038461538461539.\n"
          ]
        },
        {
          "output_type": "stream",
          "name": "stdout",
          "text": [
            "481:\tlearn: 0.0212131\ttotal: 10.4s\tremaining: 0us\n",
            "0:\tlearn: 1.6063108\ttotal: 3.68ms\tremaining: 1.76s\n",
            "100:\tlearn: 0.2273895\ttotal: 369ms\tremaining: 1.38s\n",
            "200:\tlearn: 0.1646139\ttotal: 745ms\tremaining: 1.03s\n",
            "300:\tlearn: 0.1297585\ttotal: 1.13s\tremaining: 664ms\n",
            "400:\tlearn: 0.1030473\ttotal: 1.5s\tremaining: 288ms\n"
          ]
        },
        {
          "output_type": "stream",
          "name": "stderr",
          "text": [
            "[I 2024-03-30 15:28:29,395] Trial 6 finished with value: 0.8910256410256411 and parameters: {'iterations': 478, 'learning_rate': 0.17706941990126837, 'depth': 4, 'l2_leaf_reg': 2.4799665039406933}. Best is trial 2 with value: 0.9038461538461539.\n"
          ]
        },
        {
          "output_type": "stream",
          "name": "stdout",
          "text": [
            "477:\tlearn: 0.0876568\ttotal: 1.79s\tremaining: 0us\n",
            "0:\tlearn: 1.8949866\ttotal: 20ms\tremaining: 5.03s\n",
            "100:\tlearn: 0.2244152\ttotal: 1.96s\tremaining: 2.94s\n",
            "200:\tlearn: 0.1337047\ttotal: 3.89s\tremaining: 986ms\n"
          ]
        },
        {
          "output_type": "stream",
          "name": "stderr",
          "text": [
            "[I 2024-03-30 15:28:34,338] Trial 7 finished with value: 0.8888888888888888 and parameters: {'iterations': 252, 'learning_rate': 0.059802430999751695, 'depth': 7, 'l2_leaf_reg': 0.4845883771247729}. Best is trial 2 with value: 0.9038461538461539.\n"
          ]
        },
        {
          "output_type": "stream",
          "name": "stdout",
          "text": [
            "251:\tlearn: 0.1063680\ttotal: 4.88s\tremaining: 0us\n",
            "0:\tlearn: 1.9450733\ttotal: 8.43ms\tremaining: 894ms\n"
          ]
        },
        {
          "output_type": "stream",
          "name": "stderr",
          "text": [
            "[I 2024-03-30 15:28:35,048] Trial 8 finished with value: 0.8931623931623932 and parameters: {'iterations': 107, 'learning_rate': 0.056512987535742104, 'depth': 5, 'l2_leaf_reg': 1.2602206958529099}. Best is trial 2 with value: 0.9038461538461539.\n"
          ]
        },
        {
          "output_type": "stream",
          "name": "stdout",
          "text": [
            "100:\tlearn: 0.2916474\ttotal: 633ms\tremaining: 37.6ms\n",
            "106:\tlearn: 0.2860418\ttotal: 669ms\tremaining: 0us\n",
            "0:\tlearn: 1.2221369\ttotal: 36.4ms\tremaining: 15.1s\n",
            "100:\tlearn: 0.1135799\ttotal: 4.67s\tremaining: 14.6s\n",
            "200:\tlearn: 0.0545530\ttotal: 8.24s\tremaining: 8.86s\n",
            "300:\tlearn: 0.0338857\ttotal: 11.9s\tremaining: 4.58s\n",
            "400:\tlearn: 0.0239009\ttotal: 16.4s\tremaining: 654ms\n"
          ]
        },
        {
          "output_type": "stream",
          "name": "stderr",
          "text": [
            "[I 2024-03-30 15:28:52,137] Trial 9 finished with value: 0.8824786324786325 and parameters: {'iterations': 417, 'learning_rate': 0.2899777373140817, 'depth': 8, 'l2_leaf_reg': 4.186017034845564}. Best is trial 2 with value: 0.9038461538461539.\n"
          ]
        },
        {
          "output_type": "stream",
          "name": "stdout",
          "text": [
            "416:\tlearn: 0.0228898\ttotal: 17s\tremaining: 0us\n",
            "0:\tlearn: 1.9837174\ttotal: 2.66ms\tremaining: 1.74s\n",
            "100:\tlearn: 0.3291412\ttotal: 254ms\tremaining: 1.4s\n",
            "200:\tlearn: 0.2808946\ttotal: 502ms\tremaining: 1.13s\n",
            "300:\tlearn: 0.2546349\ttotal: 757ms\tremaining: 890ms\n",
            "400:\tlearn: 0.2371829\ttotal: 1.03s\tremaining: 651ms\n",
            "500:\tlearn: 0.2224740\ttotal: 1.28s\tremaining: 392ms\n"
          ]
        },
        {
          "output_type": "stream",
          "name": "stderr",
          "text": [
            "[I 2024-03-30 15:28:53,899] Trial 10 finished with value: 0.9038461538461539 and parameters: {'iterations': 655, 'learning_rate': 0.0943099396330058, 'depth': 3, 'l2_leaf_reg': 9.348291056165994}. Best is trial 2 with value: 0.9038461538461539.\n"
          ]
        },
        {
          "output_type": "stream",
          "name": "stdout",
          "text": [
            "600:\tlearn: 0.2112856\ttotal: 1.54s\tremaining: 138ms\n",
            "654:\tlearn: 0.2068117\ttotal: 1.67s\tremaining: 0us\n",
            "0:\tlearn: 2.0282572\ttotal: 2.58ms\tremaining: 1.7s\n",
            "100:\tlearn: 0.3567882\ttotal: 276ms\tremaining: 1.53s\n",
            "200:\tlearn: 0.3007139\ttotal: 529ms\tremaining: 1.21s\n",
            "300:\tlearn: 0.2714974\ttotal: 780ms\tremaining: 928ms\n",
            "400:\tlearn: 0.2553204\ttotal: 1.02s\tremaining: 657ms\n",
            "500:\tlearn: 0.2409154\ttotal: 1.28s\tremaining: 404ms\n"
          ]
        },
        {
          "output_type": "stream",
          "name": "stderr",
          "text": [
            "[I 2024-03-30 15:28:55,704] Trial 11 finished with value: 0.9038461538461539 and parameters: {'iterations': 659, 'learning_rate': 0.07457354132330521, 'depth': 3, 'l2_leaf_reg': 9.766723742909237}. Best is trial 2 with value: 0.9038461538461539.\n"
          ]
        },
        {
          "output_type": "stream",
          "name": "stdout",
          "text": [
            "600:\tlearn: 0.2299098\ttotal: 1.55s\tremaining: 150ms\n",
            "658:\tlearn: 0.2249847\ttotal: 1.71s\tremaining: 0us\n",
            "0:\tlearn: 2.1705349\ttotal: 2.43ms\tremaining: 1.62s\n",
            "100:\tlearn: 1.0334700\ttotal: 257ms\tremaining: 1.45s\n",
            "200:\tlearn: 0.6870944\ttotal: 525ms\tremaining: 1.22s\n",
            "300:\tlearn: 0.5288790\ttotal: 779ms\tremaining: 953ms\n",
            "400:\tlearn: 0.4459311\ttotal: 1.03s\tremaining: 690ms\n",
            "500:\tlearn: 0.3984325\ttotal: 1.29s\tremaining: 433ms\n",
            "600:\tlearn: 0.3702802\ttotal: 1.58s\tremaining: 179ms\n",
            "668:\tlearn: 0.3552317\ttotal: 1.76s\tremaining: 0us\n"
          ]
        },
        {
          "output_type": "stream",
          "name": "stderr",
          "text": [
            "[I 2024-03-30 15:28:57,559] Trial 12 finished with value: 0.8910256410256411 and parameters: {'iterations': 669, 'learning_rate': 0.010973634252123655, 'depth': 3, 'l2_leaf_reg': 7.786828575646548}. Best is trial 2 with value: 0.9038461538461539.\n"
          ]
        },
        {
          "output_type": "stream",
          "name": "stdout",
          "text": [
            "0:\tlearn: 1.7902484\ttotal: 6.94ms\tremaining: 4.57s\n",
            "100:\tlearn: 0.2666284\ttotal: 650ms\tremaining: 3.59s\n",
            "200:\tlearn: 0.2119306\ttotal: 1.23s\tremaining: 2.81s\n",
            "300:\tlearn: 0.1803326\ttotal: 1.85s\tremaining: 2.2s\n",
            "400:\tlearn: 0.1567771\ttotal: 2.49s\tremaining: 1.6s\n",
            "500:\tlearn: 0.1379408\ttotal: 3.44s\tremaining: 1.08s\n",
            "600:\tlearn: 0.1229542\ttotal: 4.47s\tremaining: 432ms\n"
          ]
        },
        {
          "output_type": "stream",
          "name": "stderr",
          "text": [
            "[I 2024-03-30 15:29:02,752] Trial 13 finished with value: 0.8931623931623932 and parameters: {'iterations': 659, 'learning_rate': 0.11670039826697765, 'depth': 5, 'l2_leaf_reg': 6.673467628203713}. Best is trial 2 with value: 0.9038461538461539.\n"
          ]
        },
        {
          "output_type": "stream",
          "name": "stdout",
          "text": [
            "658:\tlearn: 0.1155820\ttotal: 5.09s\tremaining: 0us\n",
            "0:\tlearn: 1.9089009\ttotal: 6.14ms\tremaining: 5.04s\n",
            "100:\tlearn: 0.2970466\ttotal: 630ms\tremaining: 4.5s\n",
            "200:\tlearn: 0.2496801\ttotal: 1.21s\tremaining: 3.75s\n",
            "300:\tlearn: 0.2216161\ttotal: 1.83s\tremaining: 3.17s\n",
            "400:\tlearn: 0.1994393\ttotal: 2.46s\tremaining: 2.59s\n",
            "500:\tlearn: 0.1814508\ttotal: 3.08s\tremaining: 1.97s\n",
            "600:\tlearn: 0.1676379\ttotal: 3.7s\tremaining: 1.36s\n",
            "700:\tlearn: 0.1539942\ttotal: 4.31s\tremaining: 744ms\n"
          ]
        },
        {
          "output_type": "stream",
          "name": "stderr",
          "text": [
            "[I 2024-03-30 15:29:07,964] Trial 14 finished with value: 0.8952991452991453 and parameters: {'iterations': 822, 'learning_rate': 0.09006264145203875, 'depth': 5, 'l2_leaf_reg': 9.829099688237168}. Best is trial 2 with value: 0.9038461538461539.\n"
          ]
        },
        {
          "output_type": "stream",
          "name": "stdout",
          "text": [
            "800:\tlearn: 0.1425154\ttotal: 4.97s\tremaining: 130ms\n",
            "821:\tlearn: 0.1406426\ttotal: 5.11s\tremaining: 0us\n",
            "0:\tlearn: 1.5176695\ttotal: 156ms\tremaining: 18.1s\n",
            "100:\tlearn: 0.1532442\ttotal: 15.9s\tremaining: 2.51s\n"
          ]
        },
        {
          "output_type": "stream",
          "name": "stderr",
          "text": [
            "[I 2024-03-30 15:29:27,065] Trial 15 finished with value: 0.8995726495726496 and parameters: {'iterations': 117, 'learning_rate': 0.23362444425332837, 'depth': 10, 'l2_leaf_reg': 7.682041762774681}. Best is trial 2 with value: 0.9038461538461539.\n"
          ]
        },
        {
          "output_type": "stream",
          "name": "stdout",
          "text": [
            "116:\tlearn: 0.1368791\ttotal: 19s\tremaining: 0us\n",
            "0:\tlearn: 2.0823170\ttotal: 6.3ms\tremaining: 3.77s\n",
            "100:\tlearn: 0.4246891\ttotal: 483ms\tremaining: 2.39s\n",
            "200:\tlearn: 0.3274039\ttotal: 897ms\tremaining: 1.78s\n",
            "300:\tlearn: 0.2924766\ttotal: 1.29s\tremaining: 1.28s\n",
            "400:\tlearn: 0.2712530\ttotal: 1.66s\tremaining: 826ms\n",
            "500:\tlearn: 0.2570352\ttotal: 2.03s\tremaining: 401ms\n"
          ]
        },
        {
          "output_type": "stream",
          "name": "stderr",
          "text": [
            "[I 2024-03-30 15:29:29,583] Trial 16 finished with value: 0.8974358974358975 and parameters: {'iterations': 600, 'learning_rate': 0.03767790241836206, 'depth': 4, 'l2_leaf_reg': 8.250989684692831}. Best is trial 2 with value: 0.9038461538461539.\n"
          ]
        },
        {
          "output_type": "stream",
          "name": "stdout",
          "text": [
            "599:\tlearn: 0.2437225\ttotal: 2.41s\tremaining: 0us\n",
            "0:\tlearn: 1.7365033\ttotal: 11.3ms\tremaining: 9.01s\n",
            "100:\tlearn: 0.2422072\ttotal: 1.12s\tremaining: 7.67s\n",
            "200:\tlearn: 0.1789146\ttotal: 2.19s\tremaining: 6.48s\n",
            "300:\tlearn: 0.1419045\ttotal: 3.27s\tremaining: 5.37s\n",
            "400:\tlearn: 0.1170821\ttotal: 4.37s\tremaining: 4.29s\n",
            "500:\tlearn: 0.0977353\ttotal: 5.46s\tremaining: 3.21s\n",
            "600:\tlearn: 0.0828657\ttotal: 6.55s\tremaining: 2.12s\n",
            "700:\tlearn: 0.0714787\ttotal: 7.64s\tremaining: 1.02s\n"
          ]
        },
        {
          "output_type": "stream",
          "name": "stderr",
          "text": [
            "[I 2024-03-30 15:29:39,161] Trial 17 finished with value: 0.8952991452991453 and parameters: {'iterations': 795, 'learning_rate': 0.1153660359713194, 'depth': 6, 'l2_leaf_reg': 5.133587133533961}. Best is trial 2 with value: 0.9038461538461539.\n"
          ]
        },
        {
          "output_type": "stream",
          "name": "stdout",
          "text": [
            "794:\tlearn: 0.0630021\ttotal: 9.44s\tremaining: 0us\n",
            "0:\tlearn: 1.4635240\ttotal: 5.31ms\tremaining: 1.17s\n",
            "100:\tlearn: 0.1545035\ttotal: 550ms\tremaining: 654ms\n"
          ]
        },
        {
          "output_type": "stream",
          "name": "stderr",
          "text": [
            "[I 2024-03-30 15:29:40,252] Trial 18 finished with value: 0.8952991452991453 and parameters: {'iterations': 221, 'learning_rate': 0.20826053083067345, 'depth': 4, 'l2_leaf_reg': 0.09307337514301128}. Best is trial 2 with value: 0.9038461538461539.\n"
          ]
        },
        {
          "output_type": "stream",
          "name": "stdout",
          "text": [
            "200:\tlearn: 0.0795303\ttotal: 930ms\tremaining: 92.6ms\n",
            "220:\tlearn: 0.0708952\ttotal: 1.01s\tremaining: 0us\n",
            "0:\tlearn: 1.9645854\ttotal: 2.7ms\tremaining: 1.41s\n",
            "100:\tlearn: 0.3132674\ttotal: 267ms\tremaining: 1.12s\n",
            "200:\tlearn: 0.2601652\ttotal: 506ms\tremaining: 815ms\n",
            "300:\tlearn: 0.2309312\ttotal: 749ms\tremaining: 557ms\n",
            "400:\tlearn: 0.2085114\ttotal: 989ms\tremaining: 306ms\n"
          ]
        },
        {
          "output_type": "stream",
          "name": "stderr",
          "text": [
            "[I 2024-03-30 15:29:41,632] Trial 19 finished with value: 0.9017094017094017 and parameters: {'iterations': 525, 'learning_rate': 0.08938360112255253, 'depth': 3, 'l2_leaf_reg': 3.3028175961409496}. Best is trial 2 with value: 0.9038461538461539.\n"
          ]
        },
        {
          "output_type": "stream",
          "name": "stdout",
          "text": [
            "500:\tlearn: 0.1920086\ttotal: 1.23s\tremaining: 59ms\n",
            "524:\tlearn: 0.1890552\ttotal: 1.3s\tremaining: 0us\n",
            "0:\tlearn: 2.0485189\ttotal: 11ms\tremaining: 4.06s\n",
            "100:\tlearn: 0.3782241\ttotal: 1.06s\tremaining: 2.82s\n",
            "200:\tlearn: 0.2915989\ttotal: 2.14s\tremaining: 1.8s\n",
            "300:\tlearn: 0.2553564\ttotal: 3.21s\tremaining: 737ms\n"
          ]
        },
        {
          "output_type": "stream",
          "name": "stderr",
          "text": [
            "[I 2024-03-30 15:29:45,652] Trial 20 finished with value: 0.8995726495726496 and parameters: {'iterations': 370, 'learning_rate': 0.03701980173596968, 'depth': 6, 'l2_leaf_reg': 6.030052370804828}. Best is trial 2 with value: 0.9038461538461539.\n"
          ]
        },
        {
          "output_type": "stream",
          "name": "stdout",
          "text": [
            "369:\tlearn: 0.2372432\ttotal: 3.93s\tremaining: 0us\n",
            "0:\tlearn: 2.0158032\ttotal: 2.47ms\tremaining: 1.67s\n",
            "100:\tlearn: 0.3480494\ttotal: 248ms\tremaining: 1.41s\n",
            "200:\tlearn: 0.2958488\ttotal: 496ms\tremaining: 1.17s\n",
            "300:\tlearn: 0.2677928\ttotal: 746ms\tremaining: 929ms\n",
            "400:\tlearn: 0.2506927\ttotal: 1s\tremaining: 689ms\n",
            "500:\tlearn: 0.2363517\ttotal: 1.24s\tremaining: 433ms\n",
            "600:\tlearn: 0.2253120\ttotal: 1.48s\tremaining: 185ms\n",
            "675:\tlearn: 0.2186955\ttotal: 1.67s\tremaining: 0us\n"
          ]
        },
        {
          "output_type": "stream",
          "name": "stderr",
          "text": [
            "[I 2024-03-30 15:29:47,416] Trial 21 finished with value: 0.9038461538461539 and parameters: {'iterations': 676, 'learning_rate': 0.08055737596552422, 'depth': 3, 'l2_leaf_reg': 9.926569553223242}. Best is trial 2 with value: 0.9038461538461539.\n"
          ]
        },
        {
          "output_type": "stream",
          "name": "stdout",
          "text": [
            "0:\tlearn: 1.9923608\ttotal: 4.15ms\tremaining: 2.36s\n",
            "100:\tlearn: 0.3357385\ttotal: 398ms\tremaining: 1.85s\n",
            "200:\tlearn: 0.2771114\ttotal: 766ms\tremaining: 1.41s\n",
            "300:\tlearn: 0.2507087\ttotal: 1.12s\tremaining: 1s\n",
            "400:\tlearn: 0.2318703\ttotal: 1.51s\tremaining: 637ms\n",
            "500:\tlearn: 0.2174187\ttotal: 1.88s\tremaining: 259ms\n"
          ]
        },
        {
          "output_type": "stream",
          "name": "stderr",
          "text": [
            "[I 2024-03-30 15:29:49,708] Trial 22 finished with value: 0.905982905982906 and parameters: {'iterations': 570, 'learning_rate': 0.0697819409120387, 'depth': 4, 'l2_leaf_reg': 9.146937790569396}. Best is trial 22 with value: 0.905982905982906.\n"
          ]
        },
        {
          "output_type": "stream",
          "name": "stdout",
          "text": [
            "569:\tlearn: 0.2080005\ttotal: 2.2s\tremaining: 0us\n",
            "0:\tlearn: 2.0801315\ttotal: 7.98ms\tremaining: 4.71s\n",
            "100:\tlearn: 0.4193315\ttotal: 706ms\tremaining: 3.43s\n",
            "200:\tlearn: 0.3244773\ttotal: 1.49s\tremaining: 2.9s\n",
            "300:\tlearn: 0.2913010\ttotal: 2.1s\tremaining: 2.03s\n",
            "400:\tlearn: 0.2707204\ttotal: 2.48s\tremaining: 1.18s\n",
            "500:\tlearn: 0.2568996\ttotal: 2.86s\tremaining: 519ms\n"
          ]
        },
        {
          "output_type": "stream",
          "name": "stderr",
          "text": [
            "[I 2024-03-30 15:29:53,046] Trial 23 finished with value: 0.8952991452991453 and parameters: {'iterations': 592, 'learning_rate': 0.03910426903446408, 'depth': 4, 'l2_leaf_reg': 8.903049627939488}. Best is trial 22 with value: 0.905982905982906.\n"
          ]
        },
        {
          "output_type": "stream",
          "name": "stdout",
          "text": [
            "591:\tlearn: 0.2450266\ttotal: 3.21s\tremaining: 0us\n",
            "0:\tlearn: 1.7787935\ttotal: 6.29ms\tremaining: 5.6s\n",
            "100:\tlearn: 0.2664619\ttotal: 629ms\tremaining: 4.91s\n",
            "200:\tlearn: 0.2165666\ttotal: 1.26s\tremaining: 4.32s\n",
            "300:\tlearn: 0.1850677\ttotal: 1.87s\tremaining: 3.67s\n",
            "400:\tlearn: 0.1627791\ttotal: 2.5s\tremaining: 3.05s\n",
            "500:\tlearn: 0.1447844\ttotal: 3.15s\tremaining: 2.44s\n",
            "600:\tlearn: 0.1302219\ttotal: 3.74s\tremaining: 1.8s\n",
            "700:\tlearn: 0.1169411\ttotal: 4.35s\tremaining: 1.17s\n",
            "800:\tlearn: 0.1062286\ttotal: 4.97s\tremaining: 552ms\n"
          ]
        },
        {
          "output_type": "stream",
          "name": "stderr",
          "text": [
            "[I 2024-03-30 15:29:58,687] Trial 24 finished with value: 0.8974358974358975 and parameters: {'iterations': 890, 'learning_rate': 0.12898799139969339, 'depth': 5, 'l2_leaf_reg': 8.765498536570407}. Best is trial 22 with value: 0.905982905982906.\n"
          ]
        },
        {
          "output_type": "stream",
          "name": "stdout",
          "text": [
            "889:\tlearn: 0.0974004\ttotal: 5.52s\tremaining: 0us\n",
            "0:\tlearn: 1.8940571\ttotal: 3.88ms\tremaining: 2.89s\n",
            "100:\tlearn: 0.2983671\ttotal: 378ms\tremaining: 2.42s\n",
            "200:\tlearn: 0.2442461\ttotal: 749ms\tremaining: 2.03s\n",
            "300:\tlearn: 0.2159598\ttotal: 1.11s\tremaining: 1.65s\n",
            "400:\tlearn: 0.1951235\ttotal: 1.49s\tremaining: 1.28s\n",
            "500:\tlearn: 0.1795900\ttotal: 1.89s\tremaining: 930ms\n",
            "600:\tlearn: 0.1649144\ttotal: 2.26s\tremaining: 549ms\n"
          ]
        },
        {
          "output_type": "stream",
          "name": "stderr",
          "text": [
            "[I 2024-03-30 15:30:01,596] Trial 25 finished with value: 0.8974358974358975 and parameters: {'iterations': 747, 'learning_rate': 0.09859616905277246, 'depth': 4, 'l2_leaf_reg': 6.924066438088866}. Best is trial 22 with value: 0.905982905982906.\n"
          ]
        },
        {
          "output_type": "stream",
          "name": "stdout",
          "text": [
            "700:\tlearn: 0.1510766\ttotal: 2.65s\tremaining: 174ms\n",
            "746:\tlearn: 0.1458919\ttotal: 2.81s\tremaining: 0us\n",
            "0:\tlearn: 2.0449666\ttotal: 2.47ms\tremaining: 1.11s\n",
            "100:\tlearn: 0.3681125\ttotal: 362ms\tremaining: 1.25s\n",
            "200:\tlearn: 0.3060266\ttotal: 809ms\tremaining: 1s\n",
            "300:\tlearn: 0.2755903\ttotal: 1.29s\tremaining: 639ms\n",
            "400:\tlearn: 0.2591412\ttotal: 1.79s\tremaining: 219ms\n",
            "449:\tlearn: 0.2514687\ttotal: 1.98s\tremaining: 0us\n"
          ]
        },
        {
          "output_type": "stream",
          "name": "stderr",
          "text": [
            "[I 2024-03-30 15:30:03,670] Trial 26 finished with value: 0.8931623931623932 and parameters: {'iterations': 450, 'learning_rate': 0.06562837518225585, 'depth': 3, 'l2_leaf_reg': 8.83387673781472}. Best is trial 22 with value: 0.905982905982906.\n"
          ]
        },
        {
          "output_type": "stream",
          "name": "stdout",
          "text": [
            "0:\tlearn: 1.6680423\ttotal: 15.8ms\tremaining: 8.83s\n",
            "100:\tlearn: 0.2468489\ttotal: 709ms\tremaining: 3.23s\n",
            "200:\tlearn: 0.1928384\ttotal: 1.31s\tremaining: 2.35s\n",
            "300:\tlearn: 0.1599766\ttotal: 1.94s\tremaining: 1.67s\n",
            "400:\tlearn: 0.1353761\ttotal: 2.55s\tremaining: 1.02s\n",
            "500:\tlearn: 0.1163111\ttotal: 3.16s\tremaining: 379ms\n"
          ]
        },
        {
          "output_type": "stream",
          "name": "stderr",
          "text": [
            "[I 2024-03-30 15:30:07,338] Trial 27 finished with value: 0.8910256410256411 and parameters: {'iterations': 561, 'learning_rate': 0.15804403791557153, 'depth': 5, 'l2_leaf_reg': 7.209172283121744}. Best is trial 22 with value: 0.905982905982906.\n"
          ]
        },
        {
          "output_type": "stream",
          "name": "stdout",
          "text": [
            "560:\tlearn: 0.1070051\ttotal: 3.55s\tremaining: 0us\n",
            "0:\tlearn: 2.0446683\ttotal: 19.7ms\tremaining: 10.2s\n",
            "100:\tlearn: 0.3633968\ttotal: 2.06s\tremaining: 8.51s\n",
            "200:\tlearn: 0.2734804\ttotal: 3.96s\tremaining: 6.27s\n",
            "300:\tlearn: 0.2301166\ttotal: 5.81s\tremaining: 4.21s\n",
            "400:\tlearn: 0.2011864\ttotal: 8.55s\tremaining: 2.52s\n",
            "500:\tlearn: 0.1789419\ttotal: 10.5s\tremaining: 377ms\n"
          ]
        },
        {
          "output_type": "stream",
          "name": "stderr",
          "text": [
            "[I 2024-03-30 15:30:18,283] Trial 28 finished with value: 0.8910256410256411 and parameters: {'iterations': 519, 'learning_rate': 0.03838511536086886, 'depth': 7, 'l2_leaf_reg': 5.061524056311525}. Best is trial 22 with value: 0.905982905982906.\n"
          ]
        },
        {
          "output_type": "stream",
          "name": "stdout",
          "text": [
            "518:\tlearn: 0.1754656\ttotal: 10.8s\tremaining: 0us\n",
            "0:\tlearn: 1.8639001\ttotal: 3.82ms\tremaining: 3.47s\n",
            "100:\tlearn: 0.2894600\ttotal: 378ms\tremaining: 3.03s\n",
            "200:\tlearn: 0.2338152\ttotal: 766ms\tremaining: 2.7s\n",
            "300:\tlearn: 0.2048342\ttotal: 1.15s\tremaining: 2.33s\n",
            "400:\tlearn: 0.1830490\ttotal: 1.53s\tremaining: 1.94s\n",
            "500:\tlearn: 0.1664305\ttotal: 1.91s\tremaining: 1.56s\n",
            "600:\tlearn: 0.1521608\ttotal: 2.31s\tremaining: 1.18s\n",
            "700:\tlearn: 0.1376925\ttotal: 2.68s\tremaining: 795ms\n",
            "800:\tlearn: 0.1273981\ttotal: 3.07s\tremaining: 414ms\n"
          ]
        },
        {
          "output_type": "stream",
          "name": "stderr",
          "text": [
            "[I 2024-03-30 15:30:21,886] Trial 29 finished with value: 0.8952991452991453 and parameters: {'iterations': 909, 'learning_rate': 0.10628420510975749, 'depth': 4, 'l2_leaf_reg': 6.083738581888011}. Best is trial 22 with value: 0.905982905982906.\n"
          ]
        },
        {
          "output_type": "stream",
          "name": "stdout",
          "text": [
            "900:\tlearn: 0.1173345\ttotal: 3.46s\tremaining: 30.7ms\n",
            "908:\tlearn: 0.1163708\ttotal: 3.49s\tremaining: 0us\n",
            "0:\tlearn: 2.0936796\ttotal: 10.9ms\tremaining: 7.87s\n",
            "100:\tlearn: 0.4564002\ttotal: 1.1s\tremaining: 6.77s\n",
            "200:\tlearn: 0.3166662\ttotal: 2.22s\tremaining: 5.77s\n",
            "300:\tlearn: 0.2695915\ttotal: 3.3s\tremaining: 4.63s\n",
            "400:\tlearn: 0.2384002\ttotal: 4.61s\tremaining: 3.7s\n",
            "500:\tlearn: 0.2148219\ttotal: 6.35s\tremaining: 2.81s\n",
            "600:\tlearn: 0.1963163\ttotal: 7.43s\tremaining: 1.51s\n",
            "700:\tlearn: 0.1809037\ttotal: 8.49s\tremaining: 266ms\n"
          ]
        },
        {
          "output_type": "stream",
          "name": "stderr",
          "text": [
            "[I 2024-03-30 15:30:30,737] Trial 30 finished with value: 0.8974358974358975 and parameters: {'iterations': 723, 'learning_rate': 0.02171324241052333, 'depth': 6, 'l2_leaf_reg': 2.1304423370989705}. Best is trial 22 with value: 0.905982905982906.\n"
          ]
        },
        {
          "output_type": "stream",
          "name": "stdout",
          "text": [
            "722:\tlearn: 0.1776150\ttotal: 8.72s\tremaining: 0us\n",
            "0:\tlearn: 2.0304975\ttotal: 2.66ms\tremaining: 1.64s\n",
            "100:\tlearn: 0.3574347\ttotal: 290ms\tremaining: 1.49s\n",
            "200:\tlearn: 0.3000682\ttotal: 545ms\tremaining: 1.13s\n",
            "300:\tlearn: 0.2705543\ttotal: 817ms\tremaining: 863ms\n",
            "400:\tlearn: 0.2544019\ttotal: 1.09s\tremaining: 595ms\n",
            "500:\tlearn: 0.2397749\ttotal: 1.35s\tremaining: 318ms\n"
          ]
        },
        {
          "output_type": "stream",
          "name": "stderr",
          "text": [
            "[I 2024-03-30 15:30:32,474] Trial 31 finished with value: 0.8995726495726496 and parameters: {'iterations': 619, 'learning_rate': 0.0727184410515482, 'depth': 3, 'l2_leaf_reg': 9.23683449449848}. Best is trial 22 with value: 0.905982905982906.\n"
          ]
        },
        {
          "output_type": "stream",
          "name": "stdout",
          "text": [
            "600:\tlearn: 0.2290177\ttotal: 1.6s\tremaining: 47.9ms\n",
            "618:\tlearn: 0.2271324\ttotal: 1.65s\tremaining: 0us\n",
            "0:\tlearn: 2.0777133\ttotal: 2.61ms\tremaining: 1.88s\n",
            "100:\tlearn: 0.4099930\ttotal: 248ms\tremaining: 1.53s\n",
            "200:\tlearn: 0.3239341\ttotal: 504ms\tremaining: 1.31s\n",
            "300:\tlearn: 0.2922618\ttotal: 752ms\tremaining: 1.06s\n",
            "400:\tlearn: 0.2742365\ttotal: 994ms\tremaining: 801ms\n",
            "500:\tlearn: 0.2600258\ttotal: 1.23s\tremaining: 548ms\n",
            "600:\tlearn: 0.2500262\ttotal: 1.48s\tremaining: 303ms\n"
          ]
        },
        {
          "output_type": "stream",
          "name": "stderr",
          "text": [
            "[I 2024-03-30 15:30:34,353] Trial 32 finished with value: 0.8952991452991453 and parameters: {'iterations': 724, 'learning_rate': 0.05188278970118322, 'depth': 3, 'l2_leaf_reg': 9.469791368351908}. Best is trial 22 with value: 0.905982905982906.\n"
          ]
        },
        {
          "output_type": "stream",
          "name": "stdout",
          "text": [
            "700:\tlearn: 0.2403725\ttotal: 1.72s\tremaining: 56.6ms\n",
            "723:\tlearn: 0.2385257\ttotal: 1.78s\tremaining: 0us\n",
            "0:\tlearn: 2.0164894\ttotal: 2.71ms\tremaining: 870ms\n",
            "100:\tlearn: 0.3480076\ttotal: 246ms\tremaining: 539ms\n",
            "200:\tlearn: 0.2935841\ttotal: 490ms\tremaining: 295ms\n"
          ]
        },
        {
          "output_type": "stream",
          "name": "stderr",
          "text": [
            "[I 2024-03-30 15:30:35,229] Trial 33 finished with value: 0.8931623931623932 and parameters: {'iterations': 322, 'learning_rate': 0.07708286321271686, 'depth': 3, 'l2_leaf_reg': 8.083300176936568}. Best is trial 22 with value: 0.905982905982906.\n"
          ]
        },
        {
          "output_type": "stream",
          "name": "stdout",
          "text": [
            "300:\tlearn: 0.2655554\ttotal: 748ms\tremaining: 52.2ms\n",
            "321:\tlearn: 0.2610112\ttotal: 802ms\tremaining: 0us\n",
            "0:\tlearn: 1.8349680\ttotal: 3.99ms\tremaining: 695ms\n",
            "100:\tlearn: 0.2855892\ttotal: 374ms\tremaining: 274ms\n"
          ]
        },
        {
          "output_type": "stream",
          "name": "stderr",
          "text": [
            "[I 2024-03-30 15:30:35,946] Trial 34 finished with value: 0.8952991452991453 and parameters: {'iterations': 175, 'learning_rate': 0.12391754086896162, 'depth': 4, 'l2_leaf_reg': 8.300863912488222}. Best is trial 22 with value: 0.905982905982906.\n"
          ]
        },
        {
          "output_type": "stream",
          "name": "stdout",
          "text": [
            "174:\tlearn: 0.2466497\ttotal: 650ms\tremaining: 0us\n",
            "0:\tlearn: 2.0872058\ttotal: 45.3ms\tremaining: 24.6s\n",
            "100:\tlearn: 0.4257473\ttotal: 4.62s\tremaining: 20.3s\n",
            "200:\tlearn: 0.3009150\ttotal: 8.16s\tremaining: 14s\n",
            "300:\tlearn: 0.2481900\ttotal: 11.8s\tremaining: 9.53s\n",
            "400:\tlearn: 0.2125907\ttotal: 16s\tremaining: 5.75s\n",
            "500:\tlearn: 0.1872417\ttotal: 19.9s\tremaining: 1.75s\n"
          ]
        },
        {
          "output_type": "stream",
          "name": "stderr",
          "text": [
            "[I 2024-03-30 15:30:57,577] Trial 35 finished with value: 0.8952991452991453 and parameters: {'iterations': 545, 'learning_rate': 0.027928936004317888, 'depth': 8, 'l2_leaf_reg': 4.308568895603114}. Best is trial 22 with value: 0.905982905982906.\n"
          ]
        },
        {
          "output_type": "stream",
          "name": "stdout",
          "text": [
            "544:\tlearn: 0.1780303\ttotal: 21.5s\tremaining: 0us\n",
            "0:\tlearn: 1.6344439\ttotal: 74.9ms\tremaining: 31.4s\n",
            "100:\tlearn: 0.1537464\ttotal: 8.04s\tremaining: 25.4s\n",
            "200:\tlearn: 0.0838537\ttotal: 15.4s\tremaining: 16.8s\n",
            "300:\tlearn: 0.0543558\ttotal: 23.4s\tremaining: 9.26s\n",
            "400:\tlearn: 0.0394427\ttotal: 31.5s\tremaining: 1.49s\n"
          ]
        },
        {
          "output_type": "stream",
          "name": "stderr",
          "text": [
            "[I 2024-03-30 15:31:30,690] Trial 36 finished with value: 0.8846153846153846 and parameters: {'iterations': 420, 'learning_rate': 0.14918518949664014, 'depth': 9, 'l2_leaf_reg': 3.5131795927929717}. Best is trial 22 with value: 0.905982905982906.\n"
          ]
        },
        {
          "output_type": "stream",
          "name": "stdout",
          "text": [
            "419:\tlearn: 0.0373552\ttotal: 33s\tremaining: 0us\n",
            "0:\tlearn: 2.0661116\ttotal: 2.69ms\tremaining: 1.69s\n",
            "100:\tlearn: 0.3927679\ttotal: 252ms\tremaining: 1.32s\n",
            "200:\tlearn: 0.3175812\ttotal: 500ms\tremaining: 1.07s\n",
            "300:\tlearn: 0.2858828\ttotal: 768ms\tremaining: 842ms\n",
            "400:\tlearn: 0.2689983\ttotal: 1.02s\tremaining: 587ms\n",
            "500:\tlearn: 0.2546488\ttotal: 1.26s\tremaining: 327ms\n"
          ]
        },
        {
          "output_type": "stream",
          "name": "stderr",
          "text": [
            "[I 2024-03-30 15:31:32,361] Trial 37 finished with value: 0.8910256410256411 and parameters: {'iterations': 631, 'learning_rate': 0.056895547539794124, 'depth': 3, 'l2_leaf_reg': 9.34257538966666}. Best is trial 22 with value: 0.905982905982906.\n"
          ]
        },
        {
          "output_type": "stream",
          "name": "stdout",
          "text": [
            "600:\tlearn: 0.2444403\ttotal: 1.51s\tremaining: 75.2ms\n",
            "630:\tlearn: 0.2412510\ttotal: 1.58s\tremaining: 0us\n",
            "0:\tlearn: 1.8991829\ttotal: 5.98ms\tremaining: 5.11s\n",
            "100:\tlearn: 0.2955849\ttotal: 606ms\tremaining: 4.52s\n",
            "200:\tlearn: 0.2492206\ttotal: 1.18s\tremaining: 3.82s\n",
            "300:\tlearn: 0.2199477\ttotal: 1.77s\tremaining: 3.26s\n",
            "400:\tlearn: 0.1974500\ttotal: 2.38s\tremaining: 2.7s\n",
            "500:\tlearn: 0.1799402\ttotal: 2.98s\tremaining: 2.11s\n",
            "600:\tlearn: 0.1656138\ttotal: 3.59s\tremaining: 1.52s\n",
            "700:\tlearn: 0.1521652\ttotal: 4.19s\tremaining: 921ms\n",
            "800:\tlearn: 0.1403241\ttotal: 4.81s\tremaining: 324ms\n"
          ]
        },
        {
          "output_type": "stream",
          "name": "stderr",
          "text": [
            "[I 2024-03-30 15:31:37,614] Trial 38 finished with value: 0.8974358974358975 and parameters: {'iterations': 855, 'learning_rate': 0.09361895867199457, 'depth': 5, 'l2_leaf_reg': 9.964344453626568}. Best is trial 22 with value: 0.905982905982906.\n"
          ]
        },
        {
          "output_type": "stream",
          "name": "stdout",
          "text": [
            "854:\tlearn: 0.1341839\ttotal: 5.14s\tremaining: 0us\n",
            "0:\tlearn: 2.0093902\ttotal: 4.03ms\tremaining: 2.84s\n",
            "100:\tlearn: 0.3335992\ttotal: 408ms\tremaining: 2.44s\n",
            "200:\tlearn: 0.2614126\ttotal: 786ms\tremaining: 1.97s\n",
            "300:\tlearn: 0.2240175\ttotal: 1.27s\tremaining: 1.7s\n",
            "400:\tlearn: 0.1964728\ttotal: 1.94s\tremaining: 1.47s\n",
            "500:\tlearn: 0.1753659\ttotal: 2.73s\tremaining: 1.11s\n",
            "600:\tlearn: 0.1583015\ttotal: 3.37s\tremaining: 578ms\n"
          ]
        },
        {
          "output_type": "stream",
          "name": "stderr",
          "text": [
            "[I 2024-03-30 15:31:41,467] Trial 39 finished with value: 0.9017094017094017 and parameters: {'iterations': 704, 'learning_rate': 0.049133860944720734, 'depth': 4, 'l2_leaf_reg': 1.1420665878352256}. Best is trial 22 with value: 0.905982905982906.\n"
          ]
        },
        {
          "output_type": "stream",
          "name": "stdout",
          "text": [
            "700:\tlearn: 0.1428354\ttotal: 3.74s\tremaining: 16ms\n",
            "703:\tlearn: 0.1424314\ttotal: 3.75s\tremaining: 0us\n",
            "0:\tlearn: 1.9424402\ttotal: 13.2ms\tremaining: 13.2s\n",
            "100:\tlearn: 0.3104552\ttotal: 1.07s\tremaining: 9.49s\n",
            "200:\tlearn: 0.2486377\ttotal: 2.11s\tremaining: 8.37s\n",
            "300:\tlearn: 0.2146048\ttotal: 3.15s\tremaining: 7.29s\n",
            "400:\tlearn: 0.1915851\ttotal: 4.17s\tremaining: 6.21s\n",
            "500:\tlearn: 0.1723807\ttotal: 5.24s\tremaining: 5.19s\n",
            "600:\tlearn: 0.1555520\ttotal: 6.28s\tremaining: 4.15s\n",
            "700:\tlearn: 0.1416344\ttotal: 7.31s\tremaining: 3.1s\n",
            "800:\tlearn: 0.1302651\ttotal: 8.33s\tremaining: 2.05s\n",
            "900:\tlearn: 0.1207967\ttotal: 9.41s\tremaining: 1.01s\n"
          ]
        },
        {
          "output_type": "stream",
          "name": "stderr",
          "text": [
            "[I 2024-03-30 15:31:52,806] Trial 40 finished with value: 0.9017094017094017 and parameters: {'iterations': 998, 'learning_rate': 0.07041798890122924, 'depth': 6, 'l2_leaf_reg': 8.602028159909551}. Best is trial 22 with value: 0.905982905982906.\n"
          ]
        },
        {
          "output_type": "stream",
          "name": "stdout",
          "text": [
            "997:\tlearn: 0.1116071\ttotal: 11.2s\tremaining: 0us\n",
            "0:\tlearn: 2.0119327\ttotal: 3.73ms\tremaining: 2.45s\n",
            "100:\tlearn: 0.3444795\ttotal: 419ms\tremaining: 2.31s\n",
            "200:\tlearn: 0.2947961\ttotal: 666ms\tremaining: 1.51s\n",
            "300:\tlearn: 0.2656988\ttotal: 924ms\tremaining: 1.09s\n",
            "400:\tlearn: 0.2482243\ttotal: 1.17s\tremaining: 752ms\n",
            "500:\tlearn: 0.2339376\ttotal: 1.44s\tremaining: 451ms\n"
          ]
        },
        {
          "output_type": "stream",
          "name": "stderr",
          "text": [
            "[I 2024-03-30 15:31:54,765] Trial 41 finished with value: 0.9017094017094017 and parameters: {'iterations': 658, 'learning_rate': 0.08244684875714181, 'depth': 3, 'l2_leaf_reg': 9.984863483269857}. Best is trial 22 with value: 0.905982905982906.\n"
          ]
        },
        {
          "output_type": "stream",
          "name": "stdout",
          "text": [
            "600:\tlearn: 0.2229980\ttotal: 1.7s\tremaining: 161ms\n",
            "657:\tlearn: 0.2181620\ttotal: 1.84s\tremaining: 0us\n",
            "0:\tlearn: 1.9574948\ttotal: 2.76ms\tremaining: 2.15s\n",
            "100:\tlearn: 0.3198229\ttotal: 259ms\tremaining: 1.74s\n",
            "200:\tlearn: 0.2751406\ttotal: 519ms\tremaining: 1.5s\n",
            "300:\tlearn: 0.2481051\ttotal: 761ms\tremaining: 1.21s\n",
            "400:\tlearn: 0.2301000\ttotal: 1.02s\tremaining: 960ms\n",
            "500:\tlearn: 0.2165572\ttotal: 1.3s\tremaining: 726ms\n",
            "600:\tlearn: 0.2050567\ttotal: 1.56s\tremaining: 465ms\n",
            "700:\tlearn: 0.1951407\ttotal: 1.8s\tremaining: 203ms\n",
            "779:\tlearn: 0.1875880\ttotal: 1.99s\tremaining: 0us\n"
          ]
        },
        {
          "output_type": "stream",
          "name": "stderr",
          "text": [
            "[I 2024-03-30 15:31:56,860] Trial 42 finished with value: 0.9038461538461539 and parameters: {'iterations': 780, 'learning_rate': 0.10652343081500948, 'depth': 3, 'l2_leaf_reg': 9.341332757959625}. Best is trial 22 with value: 0.905982905982906.\n"
          ]
        },
        {
          "output_type": "stream",
          "name": "stdout",
          "text": [
            "0:\tlearn: 1.9587720\ttotal: 3.75ms\tremaining: 2.53s\n",
            "100:\tlearn: 0.3187857\ttotal: 402ms\tremaining: 2.29s\n",
            "200:\tlearn: 0.2659860\ttotal: 771ms\tremaining: 1.82s\n",
            "300:\tlearn: 0.2371797\ttotal: 1.13s\tremaining: 1.41s\n",
            "400:\tlearn: 0.2175889\ttotal: 1.51s\tremaining: 1.04s\n",
            "500:\tlearn: 0.2031094\ttotal: 1.89s\tremaining: 659ms\n",
            "600:\tlearn: 0.1895765\ttotal: 2.25s\tremaining: 281ms\n"
          ]
        },
        {
          "output_type": "stream",
          "name": "stderr",
          "text": [
            "[I 2024-03-30 15:31:59,487] Trial 43 finished with value: 0.9038461538461539 and parameters: {'iterations': 676, 'learning_rate': 0.07835725838530101, 'depth': 4, 'l2_leaf_reg': 7.661880189783264}. Best is trial 22 with value: 0.905982905982906.\n"
          ]
        },
        {
          "output_type": "stream",
          "name": "stdout",
          "text": [
            "675:\tlearn: 0.1791478\ttotal: 2.53s\tremaining: 0us\n",
            "0:\tlearn: 1.9031271\ttotal: 2.59ms\tremaining: 1.5s\n",
            "100:\tlearn: 0.3008767\ttotal: 272ms\tremaining: 1.29s\n",
            "200:\tlearn: 0.2635770\ttotal: 540ms\tremaining: 1.02s\n",
            "300:\tlearn: 0.2381133\ttotal: 810ms\tremaining: 750ms\n",
            "400:\tlearn: 0.2192491\ttotal: 1.05s\tremaining: 470ms\n",
            "500:\tlearn: 0.2046870\ttotal: 1.3s\tremaining: 205ms\n"
          ]
        },
        {
          "output_type": "stream",
          "name": "stderr",
          "text": [
            "[I 2024-03-30 15:32:01,093] Trial 44 finished with value: 0.9017094017094017 and parameters: {'iterations': 580, 'learning_rate': 0.1332604281942848, 'depth': 3, 'l2_leaf_reg': 9.62564080552445}. Best is trial 22 with value: 0.905982905982906.\n"
          ]
        },
        {
          "output_type": "stream",
          "name": "stdout",
          "text": [
            "579:\tlearn: 0.1955015\ttotal: 1.52s\tremaining: 0us\n",
            "0:\tlearn: 2.1606053\ttotal: 20.6ms\tremaining: 9.7s\n",
            "100:\tlearn: 0.8742208\ttotal: 1.95s\tremaining: 7.13s\n",
            "200:\tlearn: 0.5630932\ttotal: 4.72s\tremaining: 6.34s\n",
            "300:\tlearn: 0.4421668\ttotal: 6.69s\tremaining: 3.78s\n",
            "400:\tlearn: 0.3818731\ttotal: 8.75s\tremaining: 1.53s\n"
          ]
        },
        {
          "output_type": "stream",
          "name": "stderr",
          "text": [
            "[I 2024-03-30 15:32:11,327] Trial 45 finished with value: 0.8974358974358975 and parameters: {'iterations': 471, 'learning_rate': 0.010662416081482343, 'depth': 7, 'l2_leaf_reg': 9.063251177400767}. Best is trial 22 with value: 0.905982905982906.\n"
          ]
        },
        {
          "output_type": "stream",
          "name": "stdout",
          "text": [
            "470:\tlearn: 0.3546329\ttotal: 10.1s\tremaining: 0us\n",
            "0:\tlearn: 1.7554572\ttotal: 2.67ms\tremaining: 2.05s\n",
            "100:\tlearn: 0.2499012\ttotal: 271ms\tremaining: 1.79s\n",
            "200:\tlearn: 0.1969225\ttotal: 522ms\tremaining: 1.48s\n",
            "300:\tlearn: 0.1644847\ttotal: 766ms\tremaining: 1.19s\n",
            "400:\tlearn: 0.1379655\ttotal: 1.02s\tremaining: 940ms\n",
            "500:\tlearn: 0.1190014\ttotal: 1.29s\tremaining: 691ms\n",
            "600:\tlearn: 0.1030516\ttotal: 1.53s\tremaining: 431ms\n",
            "700:\tlearn: 0.0897183\ttotal: 1.77s\tremaining: 175ms\n",
            "769:\tlearn: 0.0815878\ttotal: 1.96s\tremaining: 0us\n"
          ]
        },
        {
          "output_type": "stream",
          "name": "stderr",
          "text": [
            "[I 2024-03-30 15:32:13,388] Trial 46 finished with value: 0.8995726495726496 and parameters: {'iterations': 770, 'learning_rate': 0.17292940693400996, 'depth': 3, 'l2_leaf_reg': 1.7191574883643148}. Best is trial 22 with value: 0.905982905982906.\n"
          ]
        },
        {
          "output_type": "stream",
          "name": "stdout",
          "text": [
            "0:\tlearn: 1.4055472\ttotal: 7.01ms\tremaining: 3.47s\n",
            "100:\tlearn: 0.2182788\ttotal: 624ms\tremaining: 2.44s\n",
            "200:\tlearn: 0.1582343\ttotal: 1.21s\tremaining: 1.77s\n",
            "300:\tlearn: 0.1218155\ttotal: 1.83s\tremaining: 1.19s\n",
            "400:\tlearn: 0.0985015\ttotal: 2.9s\tremaining: 688ms\n"
          ]
        },
        {
          "output_type": "stream",
          "name": "stderr",
          "text": [
            "[I 2024-03-30 15:32:17,438] Trial 47 finished with value: 0.8931623931623932 and parameters: {'iterations': 496, 'learning_rate': 0.2616760275760447, 'depth': 5, 'l2_leaf_reg': 8.35005848745168}. Best is trial 22 with value: 0.905982905982906.\n"
          ]
        },
        {
          "output_type": "stream",
          "name": "stdout",
          "text": [
            "495:\tlearn: 0.0810708\ttotal: 3.96s\tremaining: 0us\n",
            "0:\tlearn: 2.0055644\ttotal: 4ms\tremaining: 2.65s\n",
            "100:\tlearn: 0.3428633\ttotal: 395ms\tremaining: 2.19s\n",
            "200:\tlearn: 0.2821185\ttotal: 760ms\tremaining: 1.74s\n",
            "300:\tlearn: 0.2523624\ttotal: 1.12s\tremaining: 1.34s\n",
            "400:\tlearn: 0.2335230\ttotal: 1.5s\tremaining: 977ms\n",
            "500:\tlearn: 0.2191174\ttotal: 1.86s\tremaining: 599ms\n",
            "600:\tlearn: 0.2049556\ttotal: 2.23s\tremaining: 226ms\n"
          ]
        },
        {
          "output_type": "stream",
          "name": "stderr",
          "text": [
            "[I 2024-03-30 15:32:19,992] Trial 48 finished with value: 0.8995726495726496 and parameters: {'iterations': 662, 'learning_rate': 0.061786526249927025, 'depth': 4, 'l2_leaf_reg': 7.257061076677221}. Best is trial 22 with value: 0.905982905982906.\n"
          ]
        },
        {
          "output_type": "stream",
          "name": "stdout",
          "text": [
            "661:\tlearn: 0.1961302\ttotal: 2.46s\tremaining: 0us\n",
            "0:\tlearn: 1.9046355\ttotal: 3.68ms\tremaining: 1.33s\n",
            "100:\tlearn: 0.3027114\ttotal: 376ms\tremaining: 967ms\n",
            "200:\tlearn: 0.2528007\ttotal: 747ms\tremaining: 594ms\n",
            "300:\tlearn: 0.2261125\ttotal: 1.13s\tremaining: 224ms\n"
          ]
        },
        {
          "output_type": "stream",
          "name": "stderr",
          "text": [
            "[I 2024-03-30 15:32:21,416] Trial 49 finished with value: 0.9017094017094017 and parameters: {'iterations': 361, 'learning_rate': 0.10253428688219018, 'depth': 4, 'l2_leaf_reg': 9.659893450333783}. Best is trial 22 with value: 0.905982905982906.\n"
          ]
        },
        {
          "output_type": "stream",
          "name": "stdout",
          "text": [
            "360:\tlearn: 0.2127669\ttotal: 1.35s\tremaining: 0us\n",
            "0:\tlearn: 2.1117199\ttotal: 148ms\tremaining: 1m 31s\n",
            "100:\tlearn: 0.5264059\ttotal: 15.8s\tremaining: 1m 21s\n",
            "200:\tlearn: 0.3574176\ttotal: 31.4s\tremaining: 1m 5s\n",
            "300:\tlearn: 0.2864724\ttotal: 47.4s\tremaining: 50.7s\n",
            "400:\tlearn: 0.2392188\ttotal: 1m 2s\tremaining: 34.8s\n",
            "500:\tlearn: 0.2087095\ttotal: 1m 18s\tremaining: 19.1s\n",
            "600:\tlearn: 0.1851614\ttotal: 1m 34s\tremaining: 3.46s\n"
          ]
        },
        {
          "output_type": "stream",
          "name": "stderr",
          "text": [
            "[I 2024-03-30 15:33:59,384] Trial 50 finished with value: 0.8910256410256411 and parameters: {'iterations': 623, 'learning_rate': 0.02509018065991992, 'depth': 10, 'l2_leaf_reg': 6.42004230726169}. Best is trial 22 with value: 0.905982905982906.\n"
          ]
        },
        {
          "output_type": "stream",
          "name": "stdout",
          "text": [
            "622:\tlearn: 0.1811116\ttotal: 1m 37s\tremaining: 0us\n",
            "0:\tlearn: 1.9512732\ttotal: 2.53ms\tremaining: 2.02s\n",
            "100:\tlearn: 0.3169669\ttotal: 244ms\tremaining: 1.68s\n",
            "200:\tlearn: 0.2742177\ttotal: 503ms\tremaining: 1.5s\n",
            "300:\tlearn: 0.2475571\ttotal: 744ms\tremaining: 1.23s\n",
            "400:\tlearn: 0.2286816\ttotal: 993ms\tremaining: 986ms\n",
            "500:\tlearn: 0.2139427\ttotal: 1.24s\tremaining: 738ms\n",
            "600:\tlearn: 0.2018943\ttotal: 1.51s\tremaining: 497ms\n",
            "700:\tlearn: 0.1914526\ttotal: 1.75s\tremaining: 245ms\n"
          ]
        },
        {
          "output_type": "stream",
          "name": "stderr",
          "text": [
            "[I 2024-03-30 15:34:01,485] Trial 51 finished with value: 0.9038461538461539 and parameters: {'iterations': 799, 'learning_rate': 0.10916657884649639, 'depth': 3, 'l2_leaf_reg': 9.221144023729456}. Best is trial 22 with value: 0.905982905982906.\n"
          ]
        },
        {
          "output_type": "stream",
          "name": "stdout",
          "text": [
            "798:\tlearn: 0.1830370\ttotal: 2s\tremaining: 0us\n",
            "0:\tlearn: 1.9956408\ttotal: 2.7ms\tremaining: 1.87s\n",
            "100:\tlearn: 0.3341992\ttotal: 244ms\tremaining: 1.43s\n",
            "200:\tlearn: 0.2858856\ttotal: 499ms\tremaining: 1.22s\n",
            "300:\tlearn: 0.2573546\ttotal: 750ms\tremaining: 974ms\n",
            "400:\tlearn: 0.2389355\ttotal: 1s\tremaining: 726ms\n",
            "500:\tlearn: 0.2250408\ttotal: 1.25s\tremaining: 476ms\n",
            "600:\tlearn: 0.2138738\ttotal: 1.53s\tremaining: 232ms\n"
          ]
        },
        {
          "output_type": "stream",
          "name": "stderr",
          "text": [
            "[I 2024-03-30 15:34:03,339] Trial 52 finished with value: 0.8974358974358975 and parameters: {'iterations': 692, 'learning_rate': 0.08739499668146747, 'depth': 3, 'l2_leaf_reg': 8.614102039199388}. Best is trial 22 with value: 0.905982905982906.\n"
          ]
        },
        {
          "output_type": "stream",
          "name": "stdout",
          "text": [
            "691:\tlearn: 0.2050579\ttotal: 1.76s\tremaining: 0us\n",
            "0:\tlearn: 2.0817513\ttotal: 2.47ms\tremaining: 2.06s\n",
            "100:\tlearn: 0.4157003\ttotal: 250ms\tremaining: 1.82s\n",
            "200:\tlearn: 0.3267274\ttotal: 540ms\tremaining: 1.71s\n",
            "300:\tlearn: 0.2933592\ttotal: 820ms\tremaining: 1.46s\n",
            "400:\tlearn: 0.2747697\ttotal: 1.07s\tremaining: 1.16s\n",
            "500:\tlearn: 0.2595712\ttotal: 1.31s\tremaining: 880ms\n",
            "600:\tlearn: 0.2489853\ttotal: 1.56s\tremaining: 615ms\n",
            "700:\tlearn: 0.2393558\ttotal: 1.94s\tremaining: 377ms\n"
          ]
        },
        {
          "output_type": "stream",
          "name": "stderr",
          "text": [
            "[I 2024-03-30 15:34:06,047] Trial 53 finished with value: 0.8910256410256411 and parameters: {'iterations': 837, 'learning_rate': 0.04838541631677305, 'depth': 3, 'l2_leaf_reg': 7.896454430372545}. Best is trial 22 with value: 0.905982905982906.\n"
          ]
        },
        {
          "output_type": "stream",
          "name": "stdout",
          "text": [
            "800:\tlearn: 0.2315967\ttotal: 2.44s\tremaining: 110ms\n",
            "836:\tlearn: 0.2285234\ttotal: 2.58s\tremaining: 0us\n",
            "0:\tlearn: 1.7875420\ttotal: 68.4ms\tremaining: 51.4s\n",
            "100:\tlearn: 0.2264708\ttotal: 4.24s\tremaining: 27.3s\n",
            "200:\tlearn: 0.1526567\ttotal: 7.8s\tremaining: 21.4s\n",
            "300:\tlearn: 0.1136494\ttotal: 11.6s\tremaining: 17.4s\n",
            "400:\tlearn: 0.0877385\ttotal: 15.8s\tremaining: 13.8s\n",
            "500:\tlearn: 0.0698083\ttotal: 19.5s\tremaining: 9.79s\n",
            "600:\tlearn: 0.0573812\ttotal: 23.1s\tremaining: 5.8s\n",
            "700:\tlearn: 0.0483104\ttotal: 27.5s\tremaining: 2s\n"
          ]
        },
        {
          "output_type": "stream",
          "name": "stderr",
          "text": [
            "[I 2024-03-30 15:34:35,539] Trial 54 finished with value: 0.8846153846153846 and parameters: {'iterations': 752, 'learning_rate': 0.11539797788174898, 'depth': 8, 'l2_leaf_reg': 5.5079679828493315}. Best is trial 22 with value: 0.905982905982906.\n"
          ]
        },
        {
          "output_type": "stream",
          "name": "stdout",
          "text": [
            "751:\tlearn: 0.0444964\ttotal: 29.3s\tremaining: 0us\n",
            "0:\tlearn: 1.9165466\ttotal: 3.93ms\tremaining: 3.75s\n",
            "100:\tlearn: 0.3107927\ttotal: 379ms\tremaining: 3.2s\n",
            "200:\tlearn: 0.2574205\ttotal: 755ms\tremaining: 2.82s\n",
            "300:\tlearn: 0.2311343\ttotal: 1.12s\tremaining: 2.43s\n",
            "400:\tlearn: 0.2121572\ttotal: 1.5s\tremaining: 2.07s\n",
            "500:\tlearn: 0.1970474\ttotal: 1.88s\tremaining: 1.7s\n",
            "600:\tlearn: 0.1829913\ttotal: 2.26s\tremaining: 1.32s\n",
            "700:\tlearn: 0.1690024\ttotal: 2.65s\tremaining: 954ms\n",
            "800:\tlearn: 0.1577939\ttotal: 3.03s\tremaining: 575ms\n",
            "900:\tlearn: 0.1477898\ttotal: 3.42s\tremaining: 198ms\n"
          ]
        },
        {
          "output_type": "stream",
          "name": "stderr",
          "text": [
            "[I 2024-03-30 15:34:39,290] Trial 55 finished with value: 0.9017094017094017 and parameters: {'iterations': 953, 'learning_rate': 0.09829758271152447, 'depth': 4, 'l2_leaf_reg': 9.71443235944727}. Best is trial 22 with value: 0.905982905982906.\n"
          ]
        },
        {
          "output_type": "stream",
          "name": "stdout",
          "text": [
            "952:\tlearn: 0.1423662\ttotal: 3.63s\tremaining: 0us\n",
            "0:\tlearn: 2.0473139\ttotal: 2.77ms\tremaining: 1.57s\n",
            "100:\tlearn: 0.3718132\ttotal: 258ms\tremaining: 1.19s\n",
            "200:\tlearn: 0.3072903\ttotal: 511ms\tremaining: 936ms\n",
            "300:\tlearn: 0.2771956\ttotal: 773ms\tremaining: 688ms\n",
            "400:\tlearn: 0.2602575\ttotal: 1.02s\tremaining: 428ms\n"
          ]
        },
        {
          "output_type": "stream",
          "name": "stderr",
          "text": [
            "[I 2024-03-30 15:34:40,825] Trial 56 finished with value: 0.8995726495726496 and parameters: {'iterations': 569, 'learning_rate': 0.06489766343310929, 'depth': 3, 'l2_leaf_reg': 9.055090323115472}. Best is trial 22 with value: 0.905982905982906.\n"
          ]
        },
        {
          "output_type": "stream",
          "name": "stdout",
          "text": [
            "500:\tlearn: 0.2465240\ttotal: 1.28s\tremaining: 174ms\n",
            "568:\tlearn: 0.2387992\ttotal: 1.44s\tremaining: 0us\n",
            "0:\tlearn: 1.6803153\ttotal: 6.44ms\tremaining: 4.01s\n",
            "100:\tlearn: 0.2368504\ttotal: 642ms\tremaining: 3.32s\n",
            "200:\tlearn: 0.1778919\ttotal: 1.71s\tremaining: 3.6s\n",
            "300:\tlearn: 0.1432692\ttotal: 2.77s\tremaining: 2.97s\n",
            "400:\tlearn: 0.1189561\ttotal: 3.39s\tremaining: 1.88s\n",
            "500:\tlearn: 0.0999815\ttotal: 4s\tremaining: 982ms\n"
          ]
        },
        {
          "output_type": "stream",
          "name": "stderr",
          "text": [
            "[I 2024-03-30 15:34:45,674] Trial 57 finished with value: 0.8974358974358975 and parameters: {'iterations': 624, 'learning_rate': 0.13959114272316614, 'depth': 5, 'l2_leaf_reg': 4.531171487261376}. Best is trial 22 with value: 0.905982905982906.\n"
          ]
        },
        {
          "output_type": "stream",
          "name": "stdout",
          "text": [
            "600:\tlearn: 0.0857586\ttotal: 4.6s\tremaining: 176ms\n",
            "623:\tlearn: 0.0828712\ttotal: 4.74s\tremaining: 0us\n",
            "0:\tlearn: 1.9612005\ttotal: 2.5ms\tremaining: 1.94s\n",
            "100:\tlearn: 0.2993309\ttotal: 253ms\tremaining: 1.7s\n",
            "200:\tlearn: 0.2331196\ttotal: 517ms\tremaining: 1.49s\n",
            "300:\tlearn: 0.1995712\ttotal: 768ms\tremaining: 1.22s\n",
            "400:\tlearn: 0.1717266\ttotal: 1s\tremaining: 944ms\n",
            "500:\tlearn: 0.1520378\ttotal: 1.25s\tremaining: 694ms\n",
            "600:\tlearn: 0.1357771\ttotal: 1.51s\tremaining: 446ms\n",
            "700:\tlearn: 0.1215410\ttotal: 1.77s\tremaining: 194ms\n",
            "777:\tlearn: 0.1111211\ttotal: 1.95s\tremaining: 0us\n"
          ]
        },
        {
          "output_type": "stream",
          "name": "stderr",
          "text": [
            "[I 2024-03-30 15:34:47,732] Trial 58 finished with value: 0.9017094017094017 and parameters: {'iterations': 778, 'learning_rate': 0.08400645440725177, 'depth': 3, 'l2_leaf_reg': 0.5433211801524978}. Best is trial 22 with value: 0.905982905982906.\n"
          ]
        },
        {
          "output_type": "stream",
          "name": "stdout",
          "text": [
            "0:\tlearn: 1.5623538\ttotal: 3.94ms\tremaining: 1.19s\n",
            "100:\tlearn: 0.2239928\ttotal: 382ms\tremaining: 760ms\n",
            "200:\tlearn: 0.1606703\ttotal: 765ms\tremaining: 385ms\n"
          ]
        },
        {
          "output_type": "stream",
          "name": "stderr",
          "text": [
            "[I 2024-03-30 15:34:48,939] Trial 59 finished with value: 0.8910256410256411 and parameters: {'iterations': 302, 'learning_rate': 0.19655333980474335, 'depth': 4, 'l2_leaf_reg': 3.0269385617639495}. Best is trial 22 with value: 0.905982905982906.\n"
          ]
        },
        {
          "output_type": "stream",
          "name": "stdout",
          "text": [
            "300:\tlearn: 0.1252693\ttotal: 1.13s\tremaining: 3.75ms\n",
            "301:\tlearn: 0.1250915\ttotal: 1.13s\tremaining: 0us\n",
            "0:\tlearn: 1.9287902\ttotal: 2.57ms\tremaining: 1.88s\n",
            "100:\tlearn: 0.3108537\ttotal: 240ms\tremaining: 1.5s\n",
            "200:\tlearn: 0.2698535\ttotal: 500ms\tremaining: 1.32s\n",
            "300:\tlearn: 0.2419262\ttotal: 759ms\tremaining: 1.08s\n",
            "400:\tlearn: 0.2229526\ttotal: 1.01s\tremaining: 830ms\n",
            "500:\tlearn: 0.2089376\ttotal: 1.28s\tremaining: 587ms\n",
            "600:\tlearn: 0.1958427\ttotal: 1.53s\tremaining: 331ms\n"
          ]
        },
        {
          "output_type": "stream",
          "name": "stderr",
          "text": [
            "[I 2024-03-30 15:34:50,890] Trial 60 finished with value: 0.9038461538461539 and parameters: {'iterations': 731, 'learning_rate': 0.1203415372245589, 'depth': 3, 'l2_leaf_reg': 9.430588993194098}. Best is trial 22 with value: 0.905982905982906.\n"
          ]
        },
        {
          "output_type": "stream",
          "name": "stdout",
          "text": [
            "700:\tlearn: 0.1854341\ttotal: 1.77s\tremaining: 76ms\n",
            "730:\tlearn: 0.1824514\ttotal: 1.85s\tremaining: 0us\n",
            "0:\tlearn: 1.9665767\ttotal: 3.77ms\tremaining: 2.51s\n",
            "100:\tlearn: 0.3262064\ttotal: 414ms\tremaining: 2.32s\n",
            "200:\tlearn: 0.2688461\ttotal: 780ms\tremaining: 1.81s\n",
            "300:\tlearn: 0.2401903\ttotal: 1.16s\tremaining: 1.41s\n",
            "400:\tlearn: 0.2211930\ttotal: 1.57s\tremaining: 1.04s\n",
            "500:\tlearn: 0.2064914\ttotal: 1.96s\tremaining: 649ms\n",
            "600:\tlearn: 0.1921876\ttotal: 2.33s\tremaining: 256ms\n"
          ]
        },
        {
          "output_type": "stream",
          "name": "stderr",
          "text": [
            "[I 2024-03-30 15:34:53,582] Trial 61 finished with value: 0.9038461538461539 and parameters: {'iterations': 667, 'learning_rate': 0.07564726688941208, 'depth': 4, 'l2_leaf_reg': 7.639433556211175}. Best is trial 22 with value: 0.905982905982906.\n"
          ]
        },
        {
          "output_type": "stream",
          "name": "stdout",
          "text": [
            "666:\tlearn: 0.1828548\ttotal: 2.59s\tremaining: 0us\n",
            "0:\tlearn: 2.0613834\ttotal: 6.52ms\tremaining: 4.53s\n",
            "100:\tlearn: 0.3924208\ttotal: 763ms\tremaining: 4.49s\n",
            "200:\tlearn: 0.3120573\ttotal: 1.52s\tremaining: 3.75s\n",
            "300:\tlearn: 0.2797062\ttotal: 2.16s\tremaining: 2.82s\n",
            "400:\tlearn: 0.2600127\ttotal: 2.56s\tremaining: 1.87s\n",
            "500:\tlearn: 0.2457857\ttotal: 2.94s\tremaining: 1.14s\n",
            "600:\tlearn: 0.2332300\ttotal: 3.3s\tremaining: 516ms\n"
          ]
        },
        {
          "output_type": "stream",
          "name": "stderr",
          "text": [
            "[I 2024-03-30 15:34:57,356] Trial 62 finished with value: 0.9038461538461539 and parameters: {'iterations': 695, 'learning_rate': 0.04510790229304359, 'depth': 4, 'l2_leaf_reg': 8.597546355017878}. Best is trial 22 with value: 0.905982905982906.\n"
          ]
        },
        {
          "output_type": "stream",
          "name": "stdout",
          "text": [
            "694:\tlearn: 0.2225570\ttotal: 3.64s\tremaining: 0us\n",
            "0:\tlearn: 1.9587791\ttotal: 3.78ms\tremaining: 2.05s\n",
            "100:\tlearn: 0.3211141\ttotal: 395ms\tremaining: 1.73s\n",
            "200:\tlearn: 0.2703945\ttotal: 757ms\tremaining: 1.29s\n",
            "300:\tlearn: 0.2429392\ttotal: 1.13s\tremaining: 910ms\n",
            "400:\tlearn: 0.2231587\ttotal: 1.51s\tremaining: 534ms\n"
          ]
        },
        {
          "output_type": "stream",
          "name": "stderr",
          "text": [
            "[I 2024-03-30 15:34:59,491] Trial 63 finished with value: 0.9038461538461539 and parameters: {'iterations': 543, 'learning_rate': 0.08139523458793774, 'depth': 4, 'l2_leaf_reg': 9.026579581245311}. Best is trial 22 with value: 0.905982905982906.\n"
          ]
        },
        {
          "output_type": "stream",
          "name": "stdout",
          "text": [
            "500:\tlearn: 0.2079563\ttotal: 1.9s\tremaining: 159ms\n",
            "542:\tlearn: 0.2011698\ttotal: 2.04s\tremaining: 0us\n",
            "0:\tlearn: 2.0496838\ttotal: 7.38ms\tremaining: 4.41s\n",
            "100:\tlearn: 0.3726266\ttotal: 267ms\tremaining: 1.31s\n",
            "200:\tlearn: 0.3088902\ttotal: 512ms\tremaining: 1.01s\n",
            "300:\tlearn: 0.2787379\ttotal: 760ms\tremaining: 750ms\n",
            "400:\tlearn: 0.2629585\ttotal: 1.02s\tremaining: 502ms\n",
            "500:\tlearn: 0.2490868\ttotal: 1.27s\tremaining: 246ms\n"
          ]
        },
        {
          "output_type": "stream",
          "name": "stderr",
          "text": [
            "[I 2024-03-30 15:35:01,105] Trial 64 finished with value: 0.8910256410256411 and parameters: {'iterations': 598, 'learning_rate': 0.06461777372670852, 'depth': 3, 'l2_leaf_reg': 9.616387965052247}. Best is trial 22 with value: 0.905982905982906.\n"
          ]
        },
        {
          "output_type": "stream",
          "name": "stdout",
          "text": [
            "597:\tlearn: 0.2392679\ttotal: 1.52s\tremaining: 0us\n",
            "0:\tlearn: 2.1032653\ttotal: 4.06ms\tremaining: 2.6s\n",
            "100:\tlearn: 0.4741023\ttotal: 388ms\tremaining: 2.08s\n",
            "200:\tlearn: 0.3491767\ttotal: 778ms\tremaining: 1.71s\n",
            "300:\tlearn: 0.3088601\ttotal: 1.16s\tremaining: 1.31s\n",
            "400:\tlearn: 0.2857978\ttotal: 1.56s\tremaining: 936ms\n",
            "500:\tlearn: 0.2717895\ttotal: 1.94s\tremaining: 545ms\n"
          ]
        },
        {
          "output_type": "stream",
          "name": "stderr",
          "text": [
            "[I 2024-03-30 15:35:03,692] Trial 65 finished with value: 0.8974358974358975 and parameters: {'iterations': 642, 'learning_rate': 0.03215803725530028, 'depth': 4, 'l2_leaf_reg': 9.940800889541576}. Best is trial 22 with value: 0.905982905982906.\n"
          ]
        },
        {
          "output_type": "stream",
          "name": "stdout",
          "text": [
            "600:\tlearn: 0.2592715\ttotal: 2.32s\tremaining: 158ms\n",
            "641:\tlearn: 0.2544302\ttotal: 2.49s\tremaining: 0us\n",
            "0:\tlearn: 2.0614365\ttotal: 2.71ms\tremaining: 1.88s\n",
            "100:\tlearn: 0.3881169\ttotal: 257ms\tremaining: 1.5s\n",
            "200:\tlearn: 0.3113836\ttotal: 513ms\tremaining: 1.25s\n",
            "300:\tlearn: 0.2804855\ttotal: 781ms\tremaining: 1.01s\n",
            "400:\tlearn: 0.2625578\ttotal: 1.05s\tremaining: 764ms\n",
            "500:\tlearn: 0.2486421\ttotal: 1.31s\tremaining: 498ms\n",
            "600:\tlearn: 0.2381147\ttotal: 1.57s\tremaining: 238ms\n"
          ]
        },
        {
          "output_type": "stream",
          "name": "stderr",
          "text": [
            "[I 2024-03-30 15:35:05,606] Trial 66 finished with value: 0.8931623931623932 and parameters: {'iterations': 692, 'learning_rate': 0.05655559381811581, 'depth': 3, 'l2_leaf_reg': 7.452123946245639}. Best is trial 22 with value: 0.905982905982906.\n"
          ]
        },
        {
          "output_type": "stream",
          "name": "stdout",
          "text": [
            "691:\tlearn: 0.2290663\ttotal: 1.8s\tremaining: 0us\n",
            "0:\tlearn: 1.8831586\ttotal: 6.46ms\tremaining: 1.57s\n",
            "100:\tlearn: 0.2887469\ttotal: 1.06s\tremaining: 1.5s\n",
            "200:\tlearn: 0.2376253\ttotal: 2.19s\tremaining: 469ms\n"
          ]
        },
        {
          "output_type": "stream",
          "name": "stderr",
          "text": [
            "[I 2024-03-30 15:35:08,183] Trial 67 finished with value: 0.8974358974358975 and parameters: {'iterations': 244, 'learning_rate': 0.09353253691293004, 'depth': 5, 'l2_leaf_reg': 8.213888615931943}. Best is trial 22 with value: 0.905982905982906.\n"
          ]
        },
        {
          "output_type": "stream",
          "name": "stdout",
          "text": [
            "243:\tlearn: 0.2232172\ttotal: 2.5s\tremaining: 0us\n",
            "0:\tlearn: 1.9261771\ttotal: 11.2ms\tremaining: 5.83s\n",
            "100:\tlearn: 0.3063300\ttotal: 1.13s\tremaining: 4.7s\n",
            "200:\tlearn: 0.2465931\ttotal: 2.24s\tremaining: 3.59s\n",
            "300:\tlearn: 0.2138383\ttotal: 3.36s\tremaining: 2.48s\n",
            "400:\tlearn: 0.1902373\ttotal: 4.43s\tremaining: 1.35s\n",
            "500:\tlearn: 0.1704886\ttotal: 5.48s\tremaining: 241ms\n"
          ]
        },
        {
          "output_type": "stream",
          "name": "stderr",
          "text": [
            "[I 2024-03-30 15:35:14,009] Trial 68 finished with value: 0.8974358974358975 and parameters: {'iterations': 523, 'learning_rate': 0.07693870140557998, 'depth': 6, 'l2_leaf_reg': 9.340757583251296}. Best is trial 22 with value: 0.905982905982906.\n"
          ]
        },
        {
          "output_type": "stream",
          "name": "stdout",
          "text": [
            "522:\tlearn: 0.1661364\ttotal: 5.72s\tremaining: 0us\n",
            "0:\tlearn: 1.8661056\ttotal: 72.7ms\tremaining: 10.5s\n",
            "100:\tlearn: 0.2526091\ttotal: 8.03s\tremaining: 3.5s\n"
          ]
        },
        {
          "output_type": "stream",
          "name": "stderr",
          "text": [
            "[I 2024-03-30 15:35:25,417] Trial 69 finished with value: 0.8974358974358975 and parameters: {'iterations': 145, 'learning_rate': 0.11184252943329645, 'depth': 9, 'l2_leaf_reg': 8.786908529750999}. Best is trial 22 with value: 0.905982905982906.\n"
          ]
        },
        {
          "output_type": "stream",
          "name": "stdout",
          "text": [
            "144:\tlearn: 0.2089131\ttotal: 11.3s\tremaining: 0us\n",
            "0:\tlearn: 2.0962586\ttotal: 2.54ms\tremaining: 2.17s\n",
            "100:\tlearn: 0.4501649\ttotal: 255ms\tremaining: 1.91s\n",
            "200:\tlearn: 0.3417283\ttotal: 509ms\tremaining: 1.66s\n",
            "300:\tlearn: 0.3041007\ttotal: 753ms\tremaining: 1.39s\n",
            "400:\tlearn: 0.2842651\ttotal: 1.01s\tremaining: 1.16s\n",
            "500:\tlearn: 0.2686664\ttotal: 1.26s\tremaining: 900ms\n",
            "600:\tlearn: 0.2581696\ttotal: 1.52s\tremaining: 652ms\n",
            "700:\tlearn: 0.2491176\ttotal: 1.78s\tremaining: 399ms\n"
          ]
        },
        {
          "output_type": "stream",
          "name": "stderr",
          "text": [
            "[I 2024-03-30 15:35:27,706] Trial 70 finished with value: 0.8910256410256411 and parameters: {'iterations': 858, 'learning_rate': 0.04225694421676315, 'depth': 3, 'l2_leaf_reg': 7.9699444267044095}. Best is trial 22 with value: 0.905982905982906.\n"
          ]
        },
        {
          "output_type": "stream",
          "name": "stdout",
          "text": [
            "800:\tlearn: 0.2413875\ttotal: 2.04s\tremaining: 145ms\n",
            "857:\tlearn: 0.2366734\ttotal: 2.18s\tremaining: 0us\n",
            "0:\tlearn: 1.9508509\ttotal: 2.63ms\tremaining: 2.11s\n",
            "100:\tlearn: 0.3180064\ttotal: 266ms\tremaining: 1.84s\n",
            "200:\tlearn: 0.2741269\ttotal: 518ms\tremaining: 1.55s\n",
            "300:\tlearn: 0.2475905\ttotal: 776ms\tremaining: 1.29s\n",
            "400:\tlearn: 0.2282047\ttotal: 1.02s\tremaining: 1.02s\n",
            "500:\tlearn: 0.2136578\ttotal: 1.27s\tremaining: 767ms\n",
            "600:\tlearn: 0.2014206\ttotal: 1.52s\tremaining: 511ms\n",
            "700:\tlearn: 0.1913558\ttotal: 1.78s\tremaining: 259ms\n"
          ]
        },
        {
          "output_type": "stream",
          "name": "stderr",
          "text": [
            "[I 2024-03-30 15:35:29,842] Trial 71 finished with value: 0.9017094017094017 and parameters: {'iterations': 803, 'learning_rate': 0.1090451343100513, 'depth': 3, 'l2_leaf_reg': 9.0858387834807}. Best is trial 22 with value: 0.905982905982906.\n"
          ]
        },
        {
          "output_type": "stream",
          "name": "stdout",
          "text": [
            "800:\tlearn: 0.1822924\ttotal: 2.03s\tremaining: 5.06ms\n",
            "802:\tlearn: 0.1820836\ttotal: 2.03s\tremaining: 0us\n",
            "0:\tlearn: 1.9668994\ttotal: 2.52ms\tremaining: 2.07s\n",
            "100:\tlearn: 0.3222310\ttotal: 263ms\tremaining: 1.88s\n",
            "200:\tlearn: 0.2786041\ttotal: 687ms\tremaining: 2.12s\n",
            "300:\tlearn: 0.2517861\ttotal: 1.23s\tremaining: 2.12s\n",
            "400:\tlearn: 0.2336745\ttotal: 1.77s\tremaining: 1.86s\n",
            "500:\tlearn: 0.2190581\ttotal: 2.23s\tremaining: 1.43s\n",
            "600:\tlearn: 0.2068051\ttotal: 2.57s\tremaining: 946ms\n",
            "700:\tlearn: 0.1973158\ttotal: 2.82s\tremaining: 487ms\n"
          ]
        },
        {
          "output_type": "stream",
          "name": "stderr",
          "text": [
            "[I 2024-03-30 15:35:33,077] Trial 72 finished with value: 0.9038461538461539 and parameters: {'iterations': 822, 'learning_rate': 0.10207384167237667, 'depth': 3, 'l2_leaf_reg': 9.321049569175473}. Best is trial 22 with value: 0.905982905982906.\n"
          ]
        },
        {
          "output_type": "stream",
          "name": "stdout",
          "text": [
            "800:\tlearn: 0.1877284\ttotal: 3.07s\tremaining: 80.5ms\n",
            "821:\tlearn: 0.1854671\ttotal: 3.12s\tremaining: 0us\n",
            "0:\tlearn: 1.7633655\ttotal: 20.1ms\tremaining: 15.2s\n",
            "100:\tlearn: 0.2390406\ttotal: 2.01s\tremaining: 13s\n",
            "200:\tlearn: 0.1799711\ttotal: 3.94s\tremaining: 10.9s\n",
            "300:\tlearn: 0.1438876\ttotal: 5.91s\tremaining: 8.92s\n",
            "400:\tlearn: 0.1183002\ttotal: 7.96s\tremaining: 7.03s\n",
            "500:\tlearn: 0.0987921\ttotal: 10.5s\tremaining: 5.32s\n",
            "600:\tlearn: 0.0853907\ttotal: 12.7s\tremaining: 3.26s\n",
            "700:\tlearn: 0.0739013\ttotal: 14.6s\tremaining: 1.13s\n"
          ]
        },
        {
          "output_type": "stream",
          "name": "stderr",
          "text": [
            "[I 2024-03-30 15:35:48,905] Trial 73 finished with value: 0.8931623931623932 and parameters: {'iterations': 755, 'learning_rate': 0.13007157675149564, 'depth': 7, 'l2_leaf_reg': 8.471210174185735}. Best is trial 22 with value: 0.905982905982906.\n"
          ]
        },
        {
          "output_type": "stream",
          "name": "stdout",
          "text": [
            "754:\tlearn: 0.0684829\ttotal: 15.7s\tremaining: 0us\n",
            "0:\tlearn: 2.0336964\ttotal: 2.61ms\tremaining: 2.31s\n",
            "100:\tlearn: 0.3581590\ttotal: 250ms\tremaining: 1.94s\n",
            "200:\tlearn: 0.3010743\ttotal: 496ms\tremaining: 1.69s\n",
            "300:\tlearn: 0.2705662\ttotal: 740ms\tremaining: 1.44s\n",
            "400:\tlearn: 0.2536999\ttotal: 1s\tremaining: 1.21s\n",
            "500:\tlearn: 0.2398273\ttotal: 1.25s\tremaining: 957ms\n",
            "600:\tlearn: 0.2290970\ttotal: 1.5s\tremaining: 709ms\n",
            "700:\tlearn: 0.2196902\ttotal: 1.76s\tremaining: 462ms\n",
            "800:\tlearn: 0.2113661\ttotal: 2.02s\tremaining: 212ms\n"
          ]
        },
        {
          "output_type": "stream",
          "name": "stderr",
          "text": [
            "[I 2024-03-30 15:35:51,247] Trial 74 finished with value: 0.9038461538461539 and parameters: {'iterations': 885, 'learning_rate': 0.07062699110436585, 'depth': 3, 'l2_leaf_reg': 8.817230332028423}. Best is trial 22 with value: 0.905982905982906.\n"
          ]
        },
        {
          "output_type": "stream",
          "name": "stdout",
          "text": [
            "884:\tlearn: 0.2040772\ttotal: 2.23s\tremaining: 0us\n",
            "0:\tlearn: 1.9342731\ttotal: 4.02ms\tremaining: 2.85s\n",
            "100:\tlearn: 0.3138220\ttotal: 400ms\tremaining: 2.41s\n",
            "200:\tlearn: 0.2615264\ttotal: 789ms\tremaining: 2s\n",
            "300:\tlearn: 0.2360301\ttotal: 1.17s\tremaining: 1.58s\n",
            "400:\tlearn: 0.2161203\ttotal: 1.55s\tremaining: 1.19s\n",
            "500:\tlearn: 0.2015364\ttotal: 1.95s\tremaining: 810ms\n",
            "600:\tlearn: 0.1877706\ttotal: 2.33s\tremaining: 419ms\n"
          ]
        },
        {
          "output_type": "stream",
          "name": "stderr",
          "text": [
            "[I 2024-03-30 15:35:54,114] Trial 75 finished with value: 0.905982905982906 and parameters: {'iterations': 709, 'learning_rate': 0.09250348034924238, 'depth': 4, 'l2_leaf_reg': 9.999655811252387}. Best is trial 22 with value: 0.905982905982906.\n"
          ]
        },
        {
          "output_type": "stream",
          "name": "stdout",
          "text": [
            "700:\tlearn: 0.1751573\ttotal: 2.73s\tremaining: 31.2ms\n",
            "708:\tlearn: 0.1738768\ttotal: 2.76s\tremaining: 0us\n",
            "0:\tlearn: 1.9372116\ttotal: 4.35ms\tremaining: 3.09s\n",
            "100:\tlearn: 0.3153528\ttotal: 534ms\tremaining: 3.22s\n",
            "200:\tlearn: 0.2632571\ttotal: 1.27s\tremaining: 3.23s\n",
            "300:\tlearn: 0.2359854\ttotal: 2.09s\tremaining: 2.84s\n",
            "400:\tlearn: 0.2159646\ttotal: 2.64s\tremaining: 2.04s\n",
            "500:\tlearn: 0.2011868\ttotal: 3.02s\tremaining: 1.27s\n",
            "600:\tlearn: 0.1875347\ttotal: 3.39s\tremaining: 621ms\n"
          ]
        },
        {
          "output_type": "stream",
          "name": "stderr",
          "text": [
            "[I 2024-03-30 15:35:58,034] Trial 76 finished with value: 0.9102564102564102 and parameters: {'iterations': 711, 'learning_rate': 0.0905851314864452, 'depth': 4, 'l2_leaf_reg': 9.65082702367431}. Best is trial 76 with value: 0.9102564102564102.\n"
          ]
        },
        {
          "output_type": "stream",
          "name": "stdout",
          "text": [
            "700:\tlearn: 0.1749521\ttotal: 3.77s\tremaining: 53.7ms\n",
            "710:\tlearn: 0.1735758\ttotal: 3.81s\tremaining: 0us\n",
            "0:\tlearn: 1.9043785\ttotal: 6.78ms\tremaining: 4.9s\n",
            "100:\tlearn: 0.2970310\ttotal: 630ms\tremaining: 3.89s\n",
            "200:\tlearn: 0.2493810\ttotal: 1.25s\tremaining: 3.25s\n",
            "300:\tlearn: 0.2209328\ttotal: 1.83s\tremaining: 2.57s\n",
            "400:\tlearn: 0.1988300\ttotal: 2.44s\tremaining: 1.97s\n",
            "500:\tlearn: 0.1799025\ttotal: 3.04s\tremaining: 1.35s\n",
            "600:\tlearn: 0.1654190\ttotal: 3.65s\tremaining: 748ms\n"
          ]
        },
        {
          "output_type": "stream",
          "name": "stderr",
          "text": [
            "[I 2024-03-30 15:36:02,552] Trial 77 finished with value: 0.8974358974358975 and parameters: {'iterations': 724, 'learning_rate': 0.09157977003765103, 'depth': 5, 'l2_leaf_reg': 9.844870193229482}. Best is trial 76 with value: 0.9102564102564102.\n"
          ]
        },
        {
          "output_type": "stream",
          "name": "stdout",
          "text": [
            "700:\tlearn: 0.1530492\ttotal: 4.27s\tremaining: 140ms\n",
            "723:\tlearn: 0.1501502\ttotal: 4.41s\tremaining: 0us\n",
            "0:\tlearn: 2.0320946\ttotal: 3.99ms\tremaining: 2.57s\n",
            "100:\tlearn: 0.3631366\ttotal: 380ms\tremaining: 2.04s\n",
            "200:\tlearn: 0.2966276\ttotal: 773ms\tremaining: 1.7s\n",
            "300:\tlearn: 0.2689995\ttotal: 1.14s\tremaining: 1.3s\n",
            "400:\tlearn: 0.2505108\ttotal: 1.51s\tremaining: 916ms\n",
            "500:\tlearn: 0.2361765\ttotal: 1.92s\tremaining: 548ms\n"
          ]
        },
        {
          "output_type": "stream",
          "name": "stderr",
          "text": [
            "[I 2024-03-30 15:36:05,105] Trial 78 finished with value: 0.9038461538461539 and parameters: {'iterations': 644, 'learning_rate': 0.056563247039943206, 'depth': 4, 'l2_leaf_reg': 9.583480390883693}. Best is trial 76 with value: 0.9102564102564102.\n"
          ]
        },
        {
          "output_type": "stream",
          "name": "stdout",
          "text": [
            "600:\tlearn: 0.2239591\ttotal: 2.3s\tremaining: 164ms\n",
            "643:\tlearn: 0.2179792\ttotal: 2.45s\tremaining: 0us\n",
            "0:\tlearn: 1.9688812\ttotal: 6.8ms\tremaining: 3.96s\n",
            "100:\tlearn: 0.3225215\ttotal: 680ms\tremaining: 3.25s\n",
            "200:\tlearn: 0.2686686\ttotal: 1.34s\tremaining: 2.55s\n",
            "300:\tlearn: 0.2399454\ttotal: 2.3s\tremaining: 2.17s\n",
            "400:\tlearn: 0.2182191\ttotal: 3.44s\tremaining: 1.57s\n",
            "500:\tlearn: 0.2013640\ttotal: 4.17s\tremaining: 690ms\n"
          ]
        },
        {
          "output_type": "stream",
          "name": "stderr",
          "text": [
            "[I 2024-03-30 15:36:09,928] Trial 79 finished with value: 0.9017094017094017 and parameters: {'iterations': 584, 'learning_rate': 0.07060583512864618, 'depth': 5, 'l2_leaf_reg': 9.77091473422747}. Best is trial 76 with value: 0.9102564102564102.\n"
          ]
        },
        {
          "output_type": "stream",
          "name": "stdout",
          "text": [
            "583:\tlearn: 0.1887172\ttotal: 4.71s\tremaining: 0us\n",
            "0:\tlearn: 1.7809750\ttotal: 11.3ms\tremaining: 6.88s\n",
            "100:\tlearn: 0.2464054\ttotal: 1.13s\tremaining: 5.69s\n",
            "200:\tlearn: 0.1784867\ttotal: 2.18s\tremaining: 4.42s\n",
            "300:\tlearn: 0.1394751\ttotal: 3.23s\tremaining: 3.3s\n",
            "400:\tlearn: 0.1153301\ttotal: 4.3s\tremaining: 2.22s\n",
            "500:\tlearn: 0.0962647\ttotal: 5.38s\tremaining: 1.15s\n"
          ]
        },
        {
          "output_type": "stream",
          "name": "stderr",
          "text": [
            "[I 2024-03-30 15:36:16,541] Trial 80 finished with value: 0.8910256410256411 and parameters: {'iterations': 608, 'learning_rate': 0.09729181752832675, 'depth': 6, 'l2_leaf_reg': 3.646237731509621}. Best is trial 76 with value: 0.9102564102564102.\n"
          ]
        },
        {
          "output_type": "stream",
          "name": "stdout",
          "text": [
            "600:\tlearn: 0.0808815\ttotal: 6.42s\tremaining: 74.8ms\n",
            "607:\tlearn: 0.0800217\ttotal: 6.5s\tremaining: 0us\n",
            "0:\tlearn: 1.9402317\ttotal: 4.04ms\tremaining: 2.8s\n",
            "100:\tlearn: 0.3167986\ttotal: 404ms\tremaining: 2.37s\n",
            "200:\tlearn: 0.2641423\ttotal: 774ms\tremaining: 1.89s\n",
            "300:\tlearn: 0.2359415\ttotal: 1.15s\tremaining: 1.5s\n",
            "400:\tlearn: 0.2175520\ttotal: 1.53s\tremaining: 1.11s\n",
            "500:\tlearn: 0.2029033\ttotal: 1.9s\tremaining: 728ms\n",
            "600:\tlearn: 0.1894324\ttotal: 2.31s\tremaining: 354ms\n"
          ]
        },
        {
          "output_type": "stream",
          "name": "stderr",
          "text": [
            "[I 2024-03-30 15:36:19,669] Trial 81 finished with value: 0.9038461538461539 and parameters: {'iterations': 693, 'learning_rate': 0.09029729342286413, 'depth': 4, 'l2_leaf_reg': 9.991705776750493}. Best is trial 76 with value: 0.9102564102564102.\n"
          ]
        },
        {
          "output_type": "stream",
          "name": "stdout",
          "text": [
            "692:\tlearn: 0.1770093\ttotal: 3.01s\tremaining: 0us\n",
            "0:\tlearn: 1.9579379\ttotal: 6.58ms\tremaining: 4.47s\n",
            "100:\tlearn: 0.3201407\ttotal: 735ms\tremaining: 4.21s\n",
            "200:\tlearn: 0.2687615\ttotal: 1.36s\tremaining: 3.25s\n",
            "300:\tlearn: 0.2428079\ttotal: 1.74s\tremaining: 2.19s\n",
            "400:\tlearn: 0.2234999\ttotal: 2.13s\tremaining: 1.48s\n",
            "500:\tlearn: 0.2095858\ttotal: 2.51s\tremaining: 897ms\n",
            "600:\tlearn: 0.1962338\ttotal: 2.9s\tremaining: 381ms\n"
          ]
        },
        {
          "output_type": "stream",
          "name": "stderr",
          "text": [
            "[I 2024-03-30 15:36:23,028] Trial 82 finished with value: 0.905982905982906 and parameters: {'iterations': 680, 'learning_rate': 0.08265282277732, 'depth': 4, 'l2_leaf_reg': 9.459240071574259}. Best is trial 76 with value: 0.9102564102564102.\n"
          ]
        },
        {
          "output_type": "stream",
          "name": "stdout",
          "text": [
            "679:\tlearn: 0.1857853\ttotal: 3.23s\tremaining: 0us\n",
            "0:\tlearn: 1.9557366\ttotal: 4.43ms\tremaining: 3.26s\n",
            "100:\tlearn: 0.3210658\ttotal: 384ms\tremaining: 2.42s\n",
            "200:\tlearn: 0.2683677\ttotal: 774ms\tremaining: 2.06s\n",
            "300:\tlearn: 0.2426229\ttotal: 1.15s\tremaining: 1.66s\n",
            "400:\tlearn: 0.2240283\ttotal: 1.53s\tremaining: 1.28s\n",
            "500:\tlearn: 0.2082228\ttotal: 1.92s\tremaining: 903ms\n",
            "600:\tlearn: 0.1943319\ttotal: 2.3s\tremaining: 521ms\n"
          ]
        },
        {
          "output_type": "stream",
          "name": "stderr",
          "text": [
            "[I 2024-03-30 15:36:25,963] Trial 83 finished with value: 0.9081196581196581 and parameters: {'iterations': 737, 'learning_rate': 0.08348293178731372, 'depth': 4, 'l2_leaf_reg': 9.476902335243894}. Best is trial 76 with value: 0.9102564102564102.\n"
          ]
        },
        {
          "output_type": "stream",
          "name": "stdout",
          "text": [
            "700:\tlearn: 0.1811143\ttotal: 2.68s\tremaining: 138ms\n",
            "736:\tlearn: 0.1771628\ttotal: 2.83s\tremaining: 0us\n",
            "0:\tlearn: 1.9547004\ttotal: 4.37ms\tremaining: 3.12s\n",
            "100:\tlearn: 0.3205124\ttotal: 397ms\tremaining: 2.41s\n",
            "200:\tlearn: 0.2682818\ttotal: 782ms\tremaining: 2s\n",
            "300:\tlearn: 0.2413480\ttotal: 1.16s\tremaining: 1.59s\n",
            "400:\tlearn: 0.2224283\ttotal: 1.54s\tremaining: 1.2s\n",
            "500:\tlearn: 0.2077790\ttotal: 1.93s\tremaining: 820ms\n",
            "600:\tlearn: 0.1938675\ttotal: 2.3s\tremaining: 433ms\n"
          ]
        },
        {
          "output_type": "stream",
          "name": "stderr",
          "text": [
            "[I 2024-03-30 15:36:28,785] Trial 84 finished with value: 0.9081196581196581 and parameters: {'iterations': 714, 'learning_rate': 0.08392952113548796, 'depth': 4, 'l2_leaf_reg': 9.50990158919066}. Best is trial 76 with value: 0.9102564102564102.\n"
          ]
        },
        {
          "output_type": "stream",
          "name": "stdout",
          "text": [
            "700:\tlearn: 0.1808397\ttotal: 2.67s\tremaining: 49.5ms\n",
            "713:\tlearn: 0.1794976\ttotal: 2.71s\tremaining: 0us\n",
            "0:\tlearn: 1.9517314\ttotal: 4.01ms\tremaining: 2.85s\n",
            "100:\tlearn: 0.3174275\ttotal: 389ms\tremaining: 2.35s\n",
            "200:\tlearn: 0.2666771\ttotal: 759ms\tremaining: 1.93s\n",
            "300:\tlearn: 0.2389798\ttotal: 1.15s\tremaining: 1.57s\n",
            "400:\tlearn: 0.2205035\ttotal: 1.52s\tremaining: 1.18s\n",
            "500:\tlearn: 0.2059474\ttotal: 1.89s\tremaining: 794ms\n",
            "600:\tlearn: 0.1923735\ttotal: 2.36s\tremaining: 436ms\n"
          ]
        },
        {
          "output_type": "stream",
          "name": "stderr",
          "text": [
            "[I 2024-03-30 15:36:32,180] Trial 85 finished with value: 0.905982905982906 and parameters: {'iterations': 712, 'learning_rate': 0.08497628130410337, 'depth': 4, 'l2_leaf_reg': 9.499980525047647}. Best is trial 76 with value: 0.9102564102564102.\n"
          ]
        },
        {
          "output_type": "stream",
          "name": "stdout",
          "text": [
            "700:\tlearn: 0.1797751\ttotal: 3.2s\tremaining: 50.2ms\n",
            "711:\tlearn: 0.1780985\ttotal: 3.28s\tremaining: 0us\n",
            "0:\tlearn: 1.9128838\ttotal: 14.5ms\tremaining: 10.8s\n",
            "100:\tlearn: 0.2989544\ttotal: 1.04s\tremaining: 6.61s\n",
            "200:\tlearn: 0.2502149\ttotal: 1.64s\tremaining: 4.41s\n",
            "300:\tlearn: 0.2218535\ttotal: 2.24s\tremaining: 3.29s\n",
            "400:\tlearn: 0.1996026\ttotal: 2.88s\tremaining: 2.45s\n",
            "500:\tlearn: 0.1824090\ttotal: 3.46s\tremaining: 1.67s\n",
            "600:\tlearn: 0.1681736\ttotal: 4.12s\tremaining: 973ms\n",
            "700:\tlearn: 0.1552329\ttotal: 4.72s\tremaining: 283ms\n"
          ]
        },
        {
          "output_type": "stream",
          "name": "stderr",
          "text": [
            "[I 2024-03-30 15:36:37,320] Trial 86 finished with value: 0.8952991452991453 and parameters: {'iterations': 743, 'learning_rate': 0.08797393889271055, 'depth': 5, 'l2_leaf_reg': 9.539878544830316}. Best is trial 76 with value: 0.9102564102564102.\n"
          ]
        },
        {
          "output_type": "stream",
          "name": "stdout",
          "text": [
            "742:\tlearn: 0.1500659\ttotal: 5s\tremaining: 0us\n",
            "0:\tlearn: 1.8457092\ttotal: 4.11ms\tremaining: 2.88s\n",
            "100:\tlearn: 0.2870884\ttotal: 385ms\tremaining: 2.29s\n",
            "200:\tlearn: 0.2392575\ttotal: 787ms\tremaining: 1.96s\n",
            "300:\tlearn: 0.2113471\ttotal: 1.19s\tremaining: 1.58s\n",
            "400:\tlearn: 0.1902694\ttotal: 1.57s\tremaining: 1.17s\n",
            "500:\tlearn: 0.1741002\ttotal: 1.97s\tremaining: 787ms\n",
            "600:\tlearn: 0.1598782\ttotal: 2.35s\tremaining: 392ms\n"
          ]
        },
        {
          "output_type": "stream",
          "name": "stderr",
          "text": [
            "[I 2024-03-30 15:36:40,167] Trial 87 finished with value: 0.9017094017094017 and parameters: {'iterations': 701, 'learning_rate': 0.12196845231305706, 'depth': 4, 'l2_leaf_reg': 8.890980983734975}. Best is trial 76 with value: 0.9102564102564102.\n"
          ]
        },
        {
          "output_type": "stream",
          "name": "stdout",
          "text": [
            "700:\tlearn: 0.1465476\ttotal: 2.74s\tremaining: 0us\n",
            "0:\tlearn: 2.1411410\ttotal: 4.03ms\tremaining: 2.88s\n",
            "100:\tlearn: 0.6601458\ttotal: 420ms\tremaining: 2.56s\n",
            "200:\tlearn: 0.4343452\ttotal: 796ms\tremaining: 2.03s\n",
            "300:\tlearn: 0.3632292\ttotal: 1.19s\tremaining: 1.63s\n",
            "400:\tlearn: 0.3278639\ttotal: 1.57s\tremaining: 1.23s\n",
            "500:\tlearn: 0.3083537\ttotal: 1.94s\tremaining: 830ms\n",
            "600:\tlearn: 0.2941415\ttotal: 2.33s\tremaining: 441ms\n"
          ]
        },
        {
          "output_type": "stream",
          "name": "stderr",
          "text": [
            "[I 2024-03-30 15:36:43,035] Trial 88 finished with value: 0.8931623931623932 and parameters: {'iterations': 715, 'learning_rate': 0.018723052348831884, 'depth': 4, 'l2_leaf_reg': 9.198748008501681}. Best is trial 76 with value: 0.9102564102564102.\n"
          ]
        },
        {
          "output_type": "stream",
          "name": "stdout",
          "text": [
            "700:\tlearn: 0.2821819\ttotal: 2.71s\tremaining: 54.1ms\n",
            "714:\tlearn: 0.2812291\ttotal: 2.76s\tremaining: 0us\n",
            "0:\tlearn: 2.0298108\ttotal: 6.32ms\tremaining: 4.82s\n",
            "100:\tlearn: 0.3577867\ttotal: 1.09s\tremaining: 7.13s\n",
            "200:\tlearn: 0.2910779\ttotal: 2.21s\tremaining: 6.18s\n",
            "300:\tlearn: 0.2621647\ttotal: 2.82s\tremaining: 4.33s\n",
            "400:\tlearn: 0.2408253\ttotal: 3.46s\tremaining: 3.13s\n",
            "500:\tlearn: 0.2236872\ttotal: 4.08s\tremaining: 2.13s\n",
            "600:\tlearn: 0.2101428\ttotal: 4.7s\tremaining: 1.26s\n",
            "700:\tlearn: 0.1980917\ttotal: 5.3s\tremaining: 468ms\n"
          ]
        },
        {
          "output_type": "stream",
          "name": "stderr",
          "text": [
            "[I 2024-03-30 15:36:48,832] Trial 89 finished with value: 0.8974358974358975 and parameters: {'iterations': 763, 'learning_rate': 0.05086554757784244, 'depth': 5, 'l2_leaf_reg': 9.461460846890146}. Best is trial 76 with value: 0.9102564102564102.\n"
          ]
        },
        {
          "output_type": "stream",
          "name": "stdout",
          "text": [
            "762:\tlearn: 0.1915775\ttotal: 5.68s\tremaining: 0us\n",
            "0:\tlearn: 1.9465360\ttotal: 4.09ms\tremaining: 2.67s\n",
            "100:\tlearn: 0.3054994\ttotal: 376ms\tremaining: 2.06s\n",
            "200:\tlearn: 0.2395159\ttotal: 769ms\tremaining: 1.73s\n",
            "300:\tlearn: 0.2062394\ttotal: 1.14s\tremaining: 1.34s\n",
            "400:\tlearn: 0.1803746\ttotal: 1.52s\tremaining: 961ms\n",
            "500:\tlearn: 0.1615170\ttotal: 1.91s\tremaining: 582ms\n",
            "600:\tlearn: 0.1453186\ttotal: 2.28s\tremaining: 201ms\n"
          ]
        },
        {
          "output_type": "stream",
          "name": "stderr",
          "text": [
            "[I 2024-03-30 15:36:51,418] Trial 90 finished with value: 0.9038461538461539 and parameters: {'iterations': 654, 'learning_rate': 0.06832563141029388, 'depth': 4, 'l2_leaf_reg': 1.9136147875939638}. Best is trial 76 with value: 0.9102564102564102.\n"
          ]
        },
        {
          "output_type": "stream",
          "name": "stdout",
          "text": [
            "653:\tlearn: 0.1354236\ttotal: 2.48s\tremaining: 0us\n",
            "0:\tlearn: 1.9678149\ttotal: 4.21ms\tremaining: 3.11s\n",
            "100:\tlearn: 0.3260862\ttotal: 406ms\tremaining: 2.56s\n",
            "200:\tlearn: 0.2715082\ttotal: 786ms\tremaining: 2.1s\n",
            "300:\tlearn: 0.2450160\ttotal: 1.18s\tremaining: 1.71s\n",
            "400:\tlearn: 0.2263787\ttotal: 1.55s\tremaining: 1.31s\n",
            "500:\tlearn: 0.2117760\ttotal: 1.94s\tremaining: 921ms\n",
            "600:\tlearn: 0.1981402\ttotal: 2.33s\tremaining: 534ms\n"
          ]
        },
        {
          "output_type": "stream",
          "name": "stderr",
          "text": [
            "[I 2024-03-30 15:36:54,388] Trial 91 finished with value: 0.905982905982906 and parameters: {'iterations': 739, 'learning_rate': 0.07975210843266843, 'depth': 4, 'l2_leaf_reg': 9.761388230428128}. Best is trial 76 with value: 0.9102564102564102.\n"
          ]
        },
        {
          "output_type": "stream",
          "name": "stdout",
          "text": [
            "700:\tlearn: 0.1857928\ttotal: 2.71s\tremaining: 147ms\n",
            "738:\tlearn: 0.1814420\ttotal: 2.86s\tremaining: 0us\n",
            "0:\tlearn: 1.9521127\ttotal: 4.18ms\tremaining: 3.1s\n",
            "100:\tlearn: 0.3193501\ttotal: 403ms\tremaining: 2.56s\n",
            "200:\tlearn: 0.2667183\ttotal: 786ms\tremaining: 2.12s\n",
            "300:\tlearn: 0.2387200\ttotal: 1.57s\tremaining: 2.3s\n",
            "400:\tlearn: 0.2204300\ttotal: 2.34s\tremaining: 1.99s\n",
            "500:\tlearn: 0.2055044\ttotal: 3.05s\tremaining: 1.47s\n",
            "600:\tlearn: 0.1915753\ttotal: 3.44s\tremaining: 814ms\n"
          ]
        },
        {
          "output_type": "stream",
          "name": "stderr",
          "text": [
            "[I 2024-03-30 15:36:58,486] Trial 92 finished with value: 0.9081196581196581 and parameters: {'iterations': 743, 'learning_rate': 0.0839181290522774, 'depth': 4, 'l2_leaf_reg': 9.09468615846907}. Best is trial 76 with value: 0.9102564102564102.\n"
          ]
        },
        {
          "output_type": "stream",
          "name": "stdout",
          "text": [
            "700:\tlearn: 0.1786966\ttotal: 3.82s\tremaining: 229ms\n",
            "742:\tlearn: 0.1739443\ttotal: 3.98s\tremaining: 0us\n",
            "0:\tlearn: 1.9013117\ttotal: 4.26ms\tremaining: 1.69s\n",
            "100:\tlearn: 0.2903952\ttotal: 393ms\tremaining: 1.16s\n",
            "200:\tlearn: 0.2311227\ttotal: 785ms\tremaining: 769ms\n",
            "300:\tlearn: 0.1981851\ttotal: 1.15s\tremaining: 371ms\n"
          ]
        },
        {
          "output_type": "stream",
          "name": "stderr",
          "text": [
            "[I 2024-03-30 15:37:00,106] Trial 93 finished with value: 0.8952991452991453 and parameters: {'iterations': 398, 'learning_rate': 0.083089393292099, 'depth': 4, 'l2_leaf_reg': 2.4933590757752455}. Best is trial 76 with value: 0.9102564102564102.\n"
          ]
        },
        {
          "output_type": "stream",
          "name": "stdout",
          "text": [
            "397:\tlearn: 0.1730266\ttotal: 1.53s\tremaining: 0us\n",
            "0:\tlearn: 2.0192215\ttotal: 4.25ms\tremaining: 3.13s\n",
            "100:\tlearn: 0.3543246\ttotal: 385ms\tremaining: 2.43s\n",
            "200:\tlearn: 0.2892467\ttotal: 773ms\tremaining: 2.07s\n",
            "300:\tlearn: 0.2624970\ttotal: 1.15s\tremaining: 1.67s\n",
            "400:\tlearn: 0.2448209\ttotal: 1.52s\tremaining: 1.28s\n",
            "500:\tlearn: 0.2308872\ttotal: 1.91s\tremaining: 907ms\n",
            "600:\tlearn: 0.2184637\ttotal: 2.29s\tremaining: 525ms\n"
          ]
        },
        {
          "output_type": "stream",
          "name": "stderr",
          "text": [
            "[I 2024-03-30 15:37:03,026] Trial 94 finished with value: 0.9081196581196581 and parameters: {'iterations': 739, 'learning_rate': 0.06132845989753338, 'depth': 4, 'l2_leaf_reg': 9.728918244560036}. Best is trial 76 with value: 0.9102564102564102.\n"
          ]
        },
        {
          "output_type": "stream",
          "name": "stdout",
          "text": [
            "700:\tlearn: 0.2055236\ttotal: 2.67s\tremaining: 145ms\n",
            "738:\tlearn: 0.2009292\ttotal: 2.81s\tremaining: 0us\n",
            "0:\tlearn: 2.0211069\ttotal: 3.89ms\tremaining: 3.06s\n",
            "100:\tlearn: 0.3551587\ttotal: 372ms\tremaining: 2.52s\n",
            "200:\tlearn: 0.2910947\ttotal: 740ms\tremaining: 2.16s\n",
            "300:\tlearn: 0.2639492\ttotal: 1.12s\tremaining: 1.8s\n",
            "400:\tlearn: 0.2458251\ttotal: 1.5s\tremaining: 1.44s\n",
            "500:\tlearn: 0.2319663\ttotal: 1.9s\tremaining: 1.08s\n",
            "600:\tlearn: 0.2193727\ttotal: 2.29s\tremaining: 708ms\n",
            "700:\tlearn: 0.2066214\ttotal: 2.66s\tremaining: 326ms\n"
          ]
        },
        {
          "output_type": "stream",
          "name": "stderr",
          "text": [
            "[I 2024-03-30 15:37:06,161] Trial 95 finished with value: 0.9038461538461539 and parameters: {'iterations': 787, 'learning_rate': 0.060667518357757695, 'depth': 4, 'l2_leaf_reg': 9.732712627904343}. Best is trial 76 with value: 0.9102564102564102.\n"
          ]
        },
        {
          "output_type": "stream",
          "name": "stdout",
          "text": [
            "786:\tlearn: 0.1978222\ttotal: 3.01s\tremaining: 0us\n",
            "0:\tlearn: 1.9749622\ttotal: 4.64ms\tremaining: 3.42s\n",
            "100:\tlearn: 0.3291203\ttotal: 401ms\tremaining: 2.53s\n",
            "200:\tlearn: 0.2718151\ttotal: 782ms\tremaining: 2.09s\n",
            "300:\tlearn: 0.2443222\ttotal: 1.17s\tremaining: 1.69s\n",
            "400:\tlearn: 0.2251705\ttotal: 1.84s\tremaining: 1.55s\n",
            "500:\tlearn: 0.2114306\ttotal: 2.62s\tremaining: 1.24s\n",
            "600:\tlearn: 0.1981049\ttotal: 3.32s\tremaining: 757ms\n"
          ]
        },
        {
          "output_type": "stream",
          "name": "stderr",
          "text": [
            "[I 2024-03-30 15:37:10,268] Trial 96 finished with value: 0.905982905982906 and parameters: {'iterations': 738, 'learning_rate': 0.07546688468049789, 'depth': 4, 'l2_leaf_reg': 8.927264033762004}. Best is trial 76 with value: 0.9102564102564102.\n"
          ]
        },
        {
          "output_type": "stream",
          "name": "stdout",
          "text": [
            "700:\tlearn: 0.1856336\ttotal: 3.84s\tremaining: 203ms\n",
            "737:\tlearn: 0.1815041\ttotal: 3.99s\tremaining: 0us\n",
            "0:\tlearn: 1.9035010\ttotal: 4.24ms\tremaining: 2.86s\n",
            "100:\tlearn: 0.3035600\ttotal: 392ms\tremaining: 2.23s\n",
            "200:\tlearn: 0.2509270\ttotal: 792ms\tremaining: 1.87s\n",
            "300:\tlearn: 0.2229225\ttotal: 1.18s\tremaining: 1.47s\n",
            "400:\tlearn: 0.2041201\ttotal: 1.57s\tremaining: 1.07s\n",
            "500:\tlearn: 0.1887490\ttotal: 1.97s\tremaining: 688ms\n",
            "600:\tlearn: 0.1752825\ttotal: 2.35s\tremaining: 293ms\n"
          ]
        },
        {
          "output_type": "stream",
          "name": "stderr",
          "text": [
            "[I 2024-03-30 15:37:13,009] Trial 97 finished with value: 0.8974358974358975 and parameters: {'iterations': 676, 'learning_rate': 0.1016257926164405, 'depth': 4, 'l2_leaf_reg': 9.17626765618523}. Best is trial 76 with value: 0.9102564102564102.\n"
          ]
        },
        {
          "output_type": "stream",
          "name": "stdout",
          "text": [
            "675:\tlearn: 0.1649019\ttotal: 2.63s\tremaining: 0us\n",
            "0:\tlearn: 1.9483145\ttotal: 4.27ms\tremaining: 3.47s\n",
            "100:\tlearn: 0.3158548\ttotal: 410ms\tremaining: 2.89s\n",
            "200:\tlearn: 0.2624767\ttotal: 796ms\tremaining: 2.43s\n",
            "300:\tlearn: 0.2354513\ttotal: 1.2s\tremaining: 2.05s\n",
            "400:\tlearn: 0.2164663\ttotal: 1.57s\tremaining: 1.62s\n",
            "500:\tlearn: 0.2023473\ttotal: 1.94s\tremaining: 1.22s\n",
            "600:\tlearn: 0.1882876\ttotal: 2.34s\tremaining: 833ms\n",
            "700:\tlearn: 0.1746807\ttotal: 2.71s\tremaining: 441ms\n"
          ]
        },
        {
          "output_type": "stream",
          "name": "stderr",
          "text": [
            "[I 2024-03-30 15:37:16,258] Trial 98 finished with value: 0.9038461538461539 and parameters: {'iterations': 815, 'learning_rate': 0.08385162849412374, 'depth': 4, 'l2_leaf_reg': 8.482208360285657}. Best is trial 76 with value: 0.9102564102564102.\n"
          ]
        },
        {
          "output_type": "stream",
          "name": "stdout",
          "text": [
            "800:\tlearn: 0.1640427\ttotal: 3.07s\tremaining: 53.7ms\n",
            "814:\tlearn: 0.1626220\ttotal: 3.14s\tremaining: 0us\n",
            "0:\tlearn: 1.9872600\ttotal: 6.94ms\tremaining: 4.98s\n",
            "100:\tlearn: 0.3286969\ttotal: 625ms\tremaining: 3.83s\n",
            "200:\tlearn: 0.2737885\ttotal: 1.26s\tremaining: 3.24s\n",
            "300:\tlearn: 0.2450620\ttotal: 1.86s\tremaining: 2.58s\n",
            "400:\tlearn: 0.2223413\ttotal: 2.48s\tremaining: 1.97s\n",
            "500:\tlearn: 0.2059289\ttotal: 3.11s\tremaining: 1.35s\n",
            "600:\tlearn: 0.1915167\ttotal: 3.93s\tremaining: 772ms\n",
            "700:\tlearn: 0.1788889\ttotal: 4.99s\tremaining: 128ms\n"
          ]
        },
        {
          "output_type": "stream",
          "name": "stderr",
          "text": [
            "[I 2024-03-30 15:37:21,587] Trial 99 finished with value: 0.8974358974358975 and parameters: {'iterations': 719, 'learning_rate': 0.0642259171952087, 'depth': 5, 'l2_leaf_reg': 9.50240569166517}. Best is trial 76 with value: 0.9102564102564102.\n"
          ]
        },
        {
          "output_type": "stream",
          "name": "stdout",
          "text": [
            "718:\tlearn: 0.1765139\ttotal: 5.2s\tremaining: 0us\n"
          ]
        }
      ]
    },
    {
      "cell_type": "code",
      "source": [
        "best_params = study.best_params\n",
        "best_params"
      ],
      "metadata": {
        "colab": {
          "base_uri": "https://localhost:8080/"
        },
        "id": "M7nB9d9uFnBe",
        "outputId": "3922c12c-990d-4e4c-acc1-334af45b2ef8"
      },
      "execution_count": 97,
      "outputs": [
        {
          "output_type": "execute_result",
          "data": {
            "text/plain": [
              "{'iterations': 711,\n",
              " 'learning_rate': 0.0905851314864452,\n",
              " 'depth': 4,\n",
              " 'l2_leaf_reg': 9.65082702367431}"
            ]
          },
          "metadata": {},
          "execution_count": 97
        }
      ]
    },
    {
      "cell_type": "code",
      "source": [
        "best_model = CatBoostClassifier(**best_params, random_state=4)\n",
        "best_model.fit(X_train, y_train, verbose=100)"
      ],
      "metadata": {
        "colab": {
          "base_uri": "https://localhost:8080/"
        },
        "id": "c75otMoBFwPx",
        "outputId": "4582c4e1-73c6-4d4b-df9f-12a916ddbb5a"
      },
      "execution_count": 98,
      "outputs": [
        {
          "output_type": "stream",
          "name": "stdout",
          "text": [
            "0:\tlearn: 1.9372116\ttotal: 4.29ms\tremaining: 3.04s\n",
            "100:\tlearn: 0.3153528\ttotal: 379ms\tremaining: 2.29s\n",
            "200:\tlearn: 0.2632571\ttotal: 756ms\tremaining: 1.92s\n",
            "300:\tlearn: 0.2359854\ttotal: 1.14s\tremaining: 1.55s\n",
            "400:\tlearn: 0.2159646\ttotal: 1.56s\tremaining: 1.21s\n",
            "500:\tlearn: 0.2011868\ttotal: 1.97s\tremaining: 826ms\n",
            "600:\tlearn: 0.1875347\ttotal: 2.38s\tremaining: 435ms\n",
            "700:\tlearn: 0.1749521\ttotal: 2.77s\tremaining: 39.4ms\n",
            "710:\tlearn: 0.1735758\ttotal: 2.81s\tremaining: 0us\n"
          ]
        },
        {
          "output_type": "execute_result",
          "data": {
            "text/plain": [
              "<catboost.core.CatBoostClassifier at 0x78e7e828fa30>"
            ]
          },
          "metadata": {},
          "execution_count": 98
        }
      ]
    },
    {
      "cell_type": "code",
      "source": [
        "predicts = best_model.predict(X_test)\n",
        "accuracy2 = sklearn.metrics.accuracy_score(y_test, predicts)\n",
        "round(accuracy2, 3)"
      ],
      "metadata": {
        "colab": {
          "base_uri": "https://localhost:8080/"
        },
        "id": "Z4ojFP_luKlr",
        "outputId": "80601c1c-6e18-4457-9d7a-c83fd871f02f"
      },
      "execution_count": 99,
      "outputs": [
        {
          "output_type": "execute_result",
          "data": {
            "text/plain": [
              "0.91"
            ]
          },
          "metadata": {},
          "execution_count": 99
        }
      ]
    },
    {
      "cell_type": "markdown",
      "source": [
        "#### **Вывод:**\n",
        "Метрика Accuracy стала выше, что выглядит отлично. Однако, как бы я еще не менял параметры для перебора - лучше, чем ~0.91 сделать у меня не получалось. В целом, я рад, что получилось увеличить метрику, даже на 0.01."
      ],
      "metadata": {
        "id": "ujEaXO7EDxke"
      }
    },
    {
      "cell_type": "markdown",
      "source": [
        "### Общая информация по `Optuna`"
      ],
      "metadata": {
        "id": "ayIdErsgjayi"
      }
    },
    {
      "cell_type": "markdown",
      "metadata": {
        "tags": [],
        "id": "a6Y35ioqbuh0"
      },
      "source": [
        "#### Ключевые особенности <code>Optuna</code>\n",
        "\n"
      ]
    },
    {
      "cell_type": "markdown",
      "source": [
        "- Легковесность и универсальность — можно подбирать оптимальные параметры под любые функции и метрики.\n",
        "- SOTA-алгоритмы, адаптированные для поиска гиперпараметров.\n",
        "- Параллелизация и различные методы прунинга.\n",
        "- Встроенная визуализация.\n",
        "- Интеграция со множеством популярных библиотек (бустинги, sklearn, PyTorch, W&B и другие).\n",
        "\n",
        "Разберем Optuna по частям, чтобы понять, как ее использовать."
      ],
      "metadata": {
        "id": "EFwQ3_NStdFY"
      }
    },
    {
      "cell_type": "markdown",
      "source": [
        "#### <code>Study</code>: оптимизация, базирующаяся на <code>Objective</code> функции"
      ],
      "metadata": {
        "id": "GIT2J4INtxaf"
      }
    },
    {
      "cell_type": "markdown",
      "metadata": {
        "id": "wqPh6XVybuh0"
      },
      "source": [
        "\n",
        "\n",
        "В `Objective`-функцию нужно написать код подсчета метрики, которую возвращаем. `Objective` вызывается Optuna много раз для подбора лучших параметров.\n",
        "```python\n",
        "def objective(trial, ...):\n",
        "    # calculate score...\n",
        "    return score\n",
        "```\n",
        "\n",
        "<h4> <code>Trial</code> — одно выполнение <code>Objective</code>-функции</h4>\n",
        "\n",
        "В `trial`-объекте мы передаем параметры для «перебора», используя для каждого типа свой метод. Например:\n",
        "\n",
        "```python\n",
        "# метод `suggest_float` показывает, что перебираем `float` значения, от 0 и до 1.5 границы\n",
        "param = trial.suggest_float('param', 0, 1.5)\n",
        "\n",
        "# Категориальное значение\n",
        "loss_function = trial.suggest_categorical('loss', ['Logloss', 'CrossEntropy'])\n",
        "\n",
        "# Целочисленное значение\n",
        "depth = trial.suggest_int('depth', 5, 8)\n",
        "\n",
        "# Равномерное распределение\n",
        "learning_rate = trial.suggest_uniform('learning_rate', 0.0, 1.0)\n",
        "```"
      ]
    },
    {
      "cell_type": "markdown",
      "source": [
        "#### `Study` parameters"
      ],
      "metadata": {
        "id": "4huC_vW7uI4o"
      }
    },
    {
      "cell_type": "markdown",
      "metadata": {
        "id": "Cq94BjhWbuh0"
      },
      "source": [
        "Инициализируем объект `study`, который начнет перебор и сохранит в себе историю результатов.\n",
        "Если мы стараемся увеличить метрику, а не уменьшить ошибку, то используем `create_study(direction='maximize')`.\n",
        "```python\n",
        "study = optuna.create_study()\n",
        "study.optimize(objective, n_trials=10)\n",
        "```"
      ]
    },
    {
      "cell_type": "markdown",
      "metadata": {
        "id": "x9AvfTv4buh0"
      },
      "source": [
        "<div class=\"alert alert-info\">\n",
        "    \n",
        "В [`Optuna`](https://optuna.readthedocs.io/en/stable/index.html) реализовано несколько методов (`sampler`) подбора параметров (в том числе классические):\n",
        "* `GridSampler`\n",
        "* `RandomSampler`\n",
        "* `Tree-Structed Parzen Estimator` (`TPESampler` — самый популярный, дефолтный)\n",
        "* `BruteForceSampler`\n",
        "* [Другие 4 метода](https://optuna.readthedocs.io/en/stable/reference/samplers/index.html#module-optuna.samplers) (можно написать собственный семплер)"
      ]
    },
    {
      "cell_type": "markdown",
      "metadata": {
        "tags": [],
        "id": "3g4-aEHabuh0"
      },
      "source": [
        "### Советы по перебору параметров"
      ]
    },
    {
      "cell_type": "markdown",
      "source": [
        "- Иметь понимание важности параметров.\n",
        "- Число `iterations` лучше взять с запасом и зафиксировать, при этом ограничив через `early_stopping_rounds`.\n",
        "- Подсмотреть или чувствовать диапазоны и шаг значений.\n",
        "- Исключить то, что перебирать не нужно (`random_seed` , `eval_metric`, `thread_count` и прочее).\n",
        "- Используйте информацию с прошлых попыток."
      ],
      "metadata": {
        "id": "g3b8cs4Mt7pq"
      }
    },
    {
      "cell_type": "markdown",
      "metadata": {
        "id": "dXv8NCp_buh1"
      },
      "source": [
        "# Домашнее задание 4. Блендинг"
      ]
    },
    {
      "cell_type": "markdown",
      "metadata": {
        "id": "8-bhQKWGbuh1"
      },
      "source": [
        "<div class=\"alert alert-info\">\n",
        "\n",
        "**Цель блока** — улучшить качество предсказания, объединив несколько моделей вместе методом блендинга."
      ]
    },
    {
      "cell_type": "markdown",
      "metadata": {
        "id": "ZtI-eK3xbuh1"
      },
      "source": [
        "## Задание 6. Блендинг (10 баллов)"
      ]
    },
    {
      "cell_type": "markdown",
      "metadata": {
        "id": "8v9Onoo9buh1"
      },
      "source": [
        "1. Построить и обучить модели:\n",
        "    - `CatBoostClassifier`,\n",
        "    - `LightGBMClassifier (goss)`,\n",
        "    - `XGBoostClassifier (dart)`,\n",
        "    - `RandomForestClassifier`.\n",
        "2. Сделать предсказания каждой моделью, оценить качество.\n",
        "3. Реализовать блендинг двумя способами, оценить качество и сравнить с предыдущим пунктом:\n",
        "    - `Hard Voting` —  метод, при котором делаем голосование всех моделей и выбираем самый популярный класс.\n",
        "    - `Soft Voting` —  метод, при котором мы складываем вероятности предсказания всех моделей по каждому классу и потом выбираем самый класс с максимальной суммой.\n",
        "    \n",
        "<h4> Критерии оценивания </h4>\n",
        "    \n",
        "- Обучены 4 модели — 1 балл за каждую обученную модель, всего 4 балла.\n",
        "- Для модели проведен подбор гиперпараметров — 0,5 балла за каждый параметр, всего 2 балла.\n",
        "- Сделаны предсказания каждой модели и оценено качество — 1 балл.\n",
        "- Реализован `Hard Voting` — 1 балл.\n",
        "- Реализован `Soft Voting` — 1 балл.\n",
        "- Сделаны выводы — 1 балл.\n",
        "    \n",
        "</div>"
      ]
    },
    {
      "cell_type": "code",
      "execution_count": null,
      "metadata": {
        "id": "Mfi_sxnjbuh2"
      },
      "outputs": [],
      "source": [
        "# YOUR CODE HERE"
      ]
    },
    {
      "cell_type": "markdown",
      "source": [
        "### Общая информация о блендинге"
      ],
      "metadata": {
        "id": "O2utYsm3mShl"
      }
    },
    {
      "cell_type": "markdown",
      "metadata": {
        "id": "-JNyyolfbuh1"
      },
      "source": [
        "**Основная идея** — взять от каждого алгоритма лучшее и совместить несколько разных ML-моделей в одну.\n",
        "\n",
        "Что это дает:\n",
        "- Увеличивается обобщающая способность финальной модели и качество улучшается.\n",
        "- Модель становится более стабильной, что позволяет не слететь на приватном лидерборде.\n",
        "\n",
        "Особенно хорошо накидывает блендинг, если смешиваемые модели имеют разную природу — например, нейронные сети, kNN и решающие деревья. Они выучивают разные зависимости и хорошо дополняют друг друга.\n",
        "\n",
        "</div>"
      ]
    },
    {
      "cell_type": "markdown",
      "metadata": {
        "id": "C5w0RwnYbuh3"
      },
      "source": [
        "# <center id=\"part6\"> Отправка финального решения на лидерборд на Kaggle"
      ]
    },
    {
      "cell_type": "markdown",
      "metadata": {
        "id": "wpt2Bdimbuh3"
      },
      "source": [
        "<div class=\"alert alert-info\">\n",
        "\n",
        "**Цель блока** — сделать предсказание с помощью блендинга для тестовой части датасета, отправить результат [в соревнование на Kaggle](https://www.kaggle.com/competitions/competative-data-science-course-by-data-feeling/overview)."
      ]
    },
    {
      "cell_type": "markdown",
      "metadata": {
        "id": "gfYqF37Cbuh3"
      },
      "source": [
        "## Задание 8. Предсказание на тестовом датасете и отправка на Kaggle"
      ]
    },
    {
      "cell_type": "markdown",
      "metadata": {
        "id": "m_ExuGjabuh3"
      },
      "source": [
        "1. Сделать предобработку для тестового датасета, присоединить к нему информацию из других датасетов и добавить признаки, которые генерировали для тренировочного датасета.\n",
        "2. Сделать предсказания каждой моделью, которую хотите включить в ансамбль, но минимум их должно быть 3.\n",
        "3. Сделать блендинг с помощью `Hard Voting` или `Soft Voting` на ваш выбор.\n",
        "4. Сохранить результат предсказания в `csv` файл и отправить решение на Kaggle.\n",
        "    \n",
        "<h4> Критерии оценивания </h4>\n",
        "    \n",
        "- 0 баллов за задание, если итоговый скор на лидерборде меньше чем `0.9`.\n",
        "- 1 балл за каждый выполненный пункт.\n",
        "\n",
        "</div>"
      ]
    },
    {
      "cell_type": "code",
      "execution_count": null,
      "metadata": {
        "id": "Cnp6usAybuh4"
      },
      "outputs": [],
      "source": [
        "car_test = pd.read_csv('https://raw.githubusercontent.com/a-milenkin/Competitive_Data_Science/main/data/car_test.csv')\n",
        "car_test.head(3)"
      ]
    },
    {
      "cell_type": "code",
      "execution_count": null,
      "metadata": {
        "id": "ZEZhf8gabuh4"
      },
      "outputs": [],
      "source": [
        "# YOUR CODE HERE"
      ]
    },
    {
      "cell_type": "markdown",
      "metadata": {
        "id": "cUuphISJbuh4"
      },
      "source": [
        "### Советы по отправке кода на Kaggle\n"
      ]
    },
    {
      "cell_type": "markdown",
      "source": [
        "\n",
        "Если пишете код на `Kaggle`, то для отправки решения:\n",
        "\n",
        "1. Нажать Save Version.\n",
        "2. Проверить, что в Advanced Settings выбрано «Всегда сохранять результаты ноутбука».\n",
        "3. Выбрать тип сохранения Save & Run All (Commit).\n",
        "4. Нажать кнопку Save."
      ],
      "metadata": {
        "id": "ZAQLSpKWu4aI"
      }
    }
  ],
  "metadata": {
    "kernelspec": {
      "display_name": "Python 3",
      "name": "python3"
    },
    "language_info": {
      "codemirror_mode": {
        "name": "ipython",
        "version": 3
      },
      "file_extension": ".py",
      "mimetype": "text/x-python",
      "name": "python",
      "nbconvert_exporter": "python",
      "pygments_lexer": "ipython3",
      "version": "3.10.13"
    },
    "colab": {
      "provenance": [],
      "gpuType": "T4"
    },
    "accelerator": "GPU",
    "widgets": {
      "application/vnd.jupyter.widget-state+json": {
        "3f3d5f4d9c7846a9b135a11aea5bfd4f": {
          "model_module": "catboost-widget",
          "model_name": "CatboostWidgetModel",
          "model_module_version": "^1.0.0",
          "state": {
            "_dom_classes": [],
            "_model_module": "catboost-widget",
            "_model_module_version": "^1.0.0",
            "_model_name": "CatboostWidgetModel",
            "_view_count": null,
            "_view_module": "catboost-widget",
            "_view_module_version": "^1.0.0",
            "_view_name": "CatboostWidgetView",
            "data": {
              "catboost_info": {
                "path": "catboost_info",
                "name": "catboost_info",
                "content": {
                  "passed_iterations": 321,
                  "total_iterations": 3000,
                  "data": {
                    "iterations": [
                      {
                        "learn": [
                          1.916954053
                        ],
                        "iteration": 0,
                        "passed_time": 0.06722221836,
                        "remaining_time": 201.5994329,
                        "test": [
                          1.908858076
                        ]
                      },
                      {
                        "learn": [
                          1.699455257
                        ],
                        "iteration": 1,
                        "passed_time": 0.08013258943,
                        "remaining_time": 120.1187516,
                        "test": [
                          1.690792785
                        ]
                      },
                      {
                        "learn": [
                          1.539304589
                        ],
                        "iteration": 2,
                        "passed_time": 0.09066440797,
                        "remaining_time": 90.57374356,
                        "test": [
                          1.528224055
                        ]
                      },
                      {
                        "learn": [
                          1.405734538
                        ],
                        "iteration": 3,
                        "passed_time": 0.100986722,
                        "remaining_time": 75.6390548,
                        "test": [
                          1.39939801
                        ]
                      },
                      {
                        "learn": [
                          1.30462772
                        ],
                        "iteration": 4,
                        "passed_time": 0.111480129,
                        "remaining_time": 66.77659724,
                        "test": [
                          1.302204033
                        ]
                      },
                      {
                        "learn": [
                          1.218657978
                        ],
                        "iteration": 5,
                        "passed_time": 0.1368482473,
                        "remaining_time": 68.28727543,
                        "test": [
                          1.217015708
                        ]
                      },
                      {
                        "learn": [
                          1.138424638
                        ],
                        "iteration": 6,
                        "passed_time": 0.1548992867,
                        "remaining_time": 66.23050929,
                        "test": [
                          1.140630503
                        ]
                      },
                      {
                        "learn": [
                          1.068279846
                        ],
                        "iteration": 7,
                        "passed_time": 0.1787361841,
                        "remaining_time": 66.84733285,
                        "test": [
                          1.065878211
                        ]
                      },
                      {
                        "learn": [
                          1.016103018
                        ],
                        "iteration": 8,
                        "passed_time": 0.2102560654,
                        "remaining_time": 69.87509908,
                        "test": [
                          1.015020473
                        ]
                      },
                      {
                        "learn": [
                          0.9574980918
                        ],
                        "iteration": 9,
                        "passed_time": 0.2471162859,
                        "remaining_time": 73.88776947,
                        "test": [
                          0.9596535931
                        ]
                      },
                      {
                        "learn": [
                          0.9105699355
                        ],
                        "iteration": 10,
                        "passed_time": 0.2774017915,
                        "remaining_time": 75.37763227,
                        "test": [
                          0.9115971957
                        ]
                      },
                      {
                        "learn": [
                          0.8707955225
                        ],
                        "iteration": 11,
                        "passed_time": 0.3035002057,
                        "remaining_time": 75.57155122,
                        "test": [
                          0.8720884738
                        ]
                      },
                      {
                        "learn": [
                          0.8311190135
                        ],
                        "iteration": 12,
                        "passed_time": 0.3281957233,
                        "remaining_time": 75.40927887,
                        "test": [
                          0.8346970408
                        ]
                      },
                      {
                        "learn": [
                          0.7996100201
                        ],
                        "iteration": 13,
                        "passed_time": 0.3525413844,
                        "remaining_time": 75.19204099,
                        "test": [
                          0.8043179233
                        ]
                      },
                      {
                        "learn": [
                          0.7615976672
                        ],
                        "iteration": 14,
                        "passed_time": 0.3778589726,
                        "remaining_time": 75.19393555,
                        "test": [
                          0.7663376066
                        ]
                      },
                      {
                        "learn": [
                          0.731738619
                        ],
                        "iteration": 15,
                        "passed_time": 0.4216293397,
                        "remaining_time": 78.63387186,
                        "test": [
                          0.7366589077
                        ]
                      },
                      {
                        "learn": [
                          0.7052944201
                        ],
                        "iteration": 16,
                        "passed_time": 0.4378093233,
                        "remaining_time": 76.82265949,
                        "test": [
                          0.7098538351
                        ]
                      },
                      {
                        "learn": [
                          0.6759905854
                        ],
                        "iteration": 17,
                        "passed_time": 0.4496660522,
                        "remaining_time": 74.49467598,
                        "test": [
                          0.6818747238
                        ]
                      },
                      {
                        "learn": [
                          0.6490123553
                        ],
                        "iteration": 18,
                        "passed_time": 0.4611002603,
                        "remaining_time": 72.344204,
                        "test": [
                          0.6539637484
                        ]
                      },
                      {
                        "learn": [
                          0.6270432979
                        ],
                        "iteration": 19,
                        "passed_time": 0.4734141288,
                        "remaining_time": 70.53870519,
                        "test": [
                          0.6325732225
                        ]
                      },
                      {
                        "learn": [
                          0.6048168959
                        ],
                        "iteration": 20,
                        "passed_time": 0.4853553797,
                        "remaining_time": 68.85112744,
                        "test": [
                          0.6097666014
                        ]
                      },
                      {
                        "learn": [
                          0.5902077932
                        ],
                        "iteration": 21,
                        "passed_time": 0.5030280106,
                        "remaining_time": 68.09170071,
                        "test": [
                          0.5961490588
                        ]
                      },
                      {
                        "learn": [
                          0.5739206459
                        ],
                        "iteration": 22,
                        "passed_time": 0.5282963986,
                        "remaining_time": 68.37992951,
                        "test": [
                          0.5815602217
                        ]
                      },
                      {
                        "learn": [
                          0.556657151
                        ],
                        "iteration": 23,
                        "passed_time": 0.5524542205,
                        "remaining_time": 68.50432334,
                        "test": [
                          0.563524566
                        ]
                      },
                      {
                        "learn": [
                          0.5417034927
                        ],
                        "iteration": 24,
                        "passed_time": 0.5763014086,
                        "remaining_time": 68.57986762,
                        "test": [
                          0.5486898763
                        ]
                      },
                      {
                        "learn": [
                          0.5256354242
                        ],
                        "iteration": 25,
                        "passed_time": 0.6038014103,
                        "remaining_time": 69.06559209,
                        "test": [
                          0.5328021806
                        ]
                      },
                      {
                        "learn": [
                          0.5114750193
                        ],
                        "iteration": 26,
                        "passed_time": 0.6275961683,
                        "remaining_time": 69.10531142,
                        "test": [
                          0.5183751098
                        ]
                      },
                      {
                        "learn": [
                          0.5009410609
                        ],
                        "iteration": 27,
                        "passed_time": 0.6526611556,
                        "remaining_time": 69.2753198,
                        "test": [
                          0.5078548406
                        ]
                      },
                      {
                        "learn": [
                          0.4897768451
                        ],
                        "iteration": 28,
                        "passed_time": 0.6761651699,
                        "remaining_time": 69.27195586,
                        "test": [
                          0.4970836839
                        ]
                      },
                      {
                        "learn": [
                          0.4799397319
                        ],
                        "iteration": 29,
                        "passed_time": 0.7000727838,
                        "remaining_time": 69.3072056,
                        "test": [
                          0.487327781
                        ]
                      },
                      {
                        "learn": [
                          0.4709391792
                        ],
                        "iteration": 30,
                        "passed_time": 0.7236551984,
                        "remaining_time": 69.30749303,
                        "test": [
                          0.4791769618
                        ]
                      },
                      {
                        "learn": [
                          0.4614049055
                        ],
                        "iteration": 31,
                        "passed_time": 0.7524789966,
                        "remaining_time": 69.79242693,
                        "test": [
                          0.4700320658
                        ]
                      },
                      {
                        "learn": [
                          0.4545913018
                        ],
                        "iteration": 32,
                        "passed_time": 0.7689372592,
                        "remaining_time": 69.13444994,
                        "test": [
                          0.4636379165
                        ]
                      },
                      {
                        "learn": [
                          0.4456533307
                        ],
                        "iteration": 33,
                        "passed_time": 0.7825115404,
                        "remaining_time": 68.26262438,
                        "test": [
                          0.4553709624
                        ]
                      },
                      {
                        "learn": [
                          0.4390320373
                        ],
                        "iteration": 34,
                        "passed_time": 0.7958022208,
                        "remaining_time": 67.4158167,
                        "test": [
                          0.4496434218
                        ]
                      },
                      {
                        "learn": [
                          0.4312621381
                        ],
                        "iteration": 35,
                        "passed_time": 0.8091459023,
                        "remaining_time": 66.61967929,
                        "test": [
                          0.4424676596
                        ]
                      },
                      {
                        "learn": [
                          0.4244372783
                        ],
                        "iteration": 36,
                        "passed_time": 0.8227733946,
                        "remaining_time": 65.88858292,
                        "test": [
                          0.4350023913
                        ]
                      },
                      {
                        "learn": [
                          0.4181082242
                        ],
                        "iteration": 37,
                        "passed_time": 0.8376838398,
                        "remaining_time": 65.29525088,
                        "test": [
                          0.4287156903
                        ]
                      },
                      {
                        "learn": [
                          0.4097493561
                        ],
                        "iteration": 38,
                        "passed_time": 0.8503863083,
                        "remaining_time": 64.5639451,
                        "test": [
                          0.4210042954
                        ]
                      },
                      {
                        "learn": [
                          0.4054669716
                        ],
                        "iteration": 39,
                        "passed_time": 0.8624681591,
                        "remaining_time": 63.82264378,
                        "test": [
                          0.416783407
                        ]
                      },
                      {
                        "learn": [
                          0.3998160561
                        ],
                        "iteration": 40,
                        "passed_time": 0.8769295985,
                        "remaining_time": 63.28865078,
                        "test": [
                          0.4114024233
                        ]
                      },
                      {
                        "learn": [
                          0.3949098291
                        ],
                        "iteration": 41,
                        "passed_time": 0.8886080058,
                        "remaining_time": 62.58339241,
                        "test": [
                          0.4065611033
                        ]
                      },
                      {
                        "learn": [
                          0.3908909748
                        ],
                        "iteration": 42,
                        "passed_time": 0.9005556735,
                        "remaining_time": 61.92890992,
                        "test": [
                          0.4024636529
                        ]
                      },
                      {
                        "learn": [
                          0.386508152
                        ],
                        "iteration": 43,
                        "passed_time": 0.9135104189,
                        "remaining_time": 61.37129087,
                        "test": [
                          0.3982588967
                        ]
                      },
                      {
                        "learn": [
                          0.3811608648
                        ],
                        "iteration": 44,
                        "passed_time": 0.9256159169,
                        "remaining_time": 60.78211188,
                        "test": [
                          0.3935280816
                        ]
                      },
                      {
                        "learn": [
                          0.3772167523
                        ],
                        "iteration": 45,
                        "passed_time": 0.9368111886,
                        "remaining_time": 60.15957068,
                        "test": [
                          0.3899382315
                        ]
                      },
                      {
                        "learn": [
                          0.3726818241
                        ],
                        "iteration": 46,
                        "passed_time": 0.948209884,
                        "remaining_time": 59.57582526,
                        "test": [
                          0.3855627122
                        ]
                      },
                      {
                        "learn": [
                          0.3687204545
                        ],
                        "iteration": 47,
                        "passed_time": 0.9597099967,
                        "remaining_time": 59.0221648,
                        "test": [
                          0.3823417287
                        ]
                      },
                      {
                        "learn": [
                          0.3655529564
                        ],
                        "iteration": 48,
                        "passed_time": 0.9757914559,
                        "remaining_time": 58.76654258,
                        "test": [
                          0.3796200908
                        ]
                      },
                      {
                        "learn": [
                          0.3624442174
                        ],
                        "iteration": 49,
                        "passed_time": 0.9937151908,
                        "remaining_time": 58.62919625,
                        "test": [
                          0.3772072052
                        ]
                      },
                      {
                        "learn": [
                          0.3604129352
                        ],
                        "iteration": 50,
                        "passed_time": 1.005778985,
                        "remaining_time": 58.15769074,
                        "test": [
                          0.3761781655
                        ]
                      },
                      {
                        "learn": [
                          0.3583238212
                        ],
                        "iteration": 51,
                        "passed_time": 1.016676126,
                        "remaining_time": 57.63771574,
                        "test": [
                          0.3743569235
                        ]
                      },
                      {
                        "learn": [
                          0.3543392333
                        ],
                        "iteration": 52,
                        "passed_time": 1.027733353,
                        "remaining_time": 57.14585268,
                        "test": [
                          0.3705222015
                        ]
                      },
                      {
                        "learn": [
                          0.3521870173
                        ],
                        "iteration": 53,
                        "passed_time": 1.038710501,
                        "remaining_time": 56.66742844,
                        "test": [
                          0.3693745702
                        ]
                      },
                      {
                        "learn": [
                          0.3492010882
                        ],
                        "iteration": 54,
                        "passed_time": 1.049897836,
                        "remaining_time": 56.21725685,
                        "test": [
                          0.3663412538
                        ]
                      },
                      {
                        "learn": [
                          0.3474522856
                        ],
                        "iteration": 55,
                        "passed_time": 1.061641607,
                        "remaining_time": 55.8120159,
                        "test": [
                          0.3655215008
                        ]
                      },
                      {
                        "learn": [
                          0.3447975875
                        ],
                        "iteration": 56,
                        "passed_time": 1.073004375,
                        "remaining_time": 55.40091012,
                        "test": [
                          0.3646524965
                        ]
                      },
                      {
                        "learn": [
                          0.3425980305
                        ],
                        "iteration": 57,
                        "passed_time": 1.084414148,
                        "remaining_time": 55.00597284,
                        "test": [
                          0.3626216475
                        ]
                      },
                      {
                        "learn": [
                          0.3393278918
                        ],
                        "iteration": 58,
                        "passed_time": 1.096155124,
                        "remaining_time": 54.64054608,
                        "test": [
                          0.3597404756
                        ]
                      },
                      {
                        "learn": [
                          0.3371268729
                        ],
                        "iteration": 59,
                        "passed_time": 1.107948057,
                        "remaining_time": 54.28945478,
                        "test": [
                          0.3585984315
                        ]
                      },
                      {
                        "learn": [
                          0.3334553469
                        ],
                        "iteration": 60,
                        "passed_time": 1.119755253,
                        "remaining_time": 53.95017525,
                        "test": [
                          0.3552731153
                        ]
                      },
                      {
                        "learn": [
                          0.3317280288
                        ],
                        "iteration": 61,
                        "passed_time": 1.131515742,
                        "remaining_time": 53.61924596,
                        "test": [
                          0.3545421325
                        ]
                      },
                      {
                        "learn": [
                          0.3304883536
                        ],
                        "iteration": 62,
                        "passed_time": 1.142808539,
                        "remaining_time": 53.2766457,
                        "test": [
                          0.3538349094
                        ]
                      },
                      {
                        "learn": [
                          0.3287143094
                        ],
                        "iteration": 63,
                        "passed_time": 1.154138467,
                        "remaining_time": 52.94610217,
                        "test": [
                          0.3530351197
                        ]
                      },
                      {
                        "learn": [
                          0.3273901968
                        ],
                        "iteration": 64,
                        "passed_time": 1.165468111,
                        "remaining_time": 52.62536777,
                        "test": [
                          0.3519558774
                        ]
                      },
                      {
                        "learn": [
                          0.3241389246
                        ],
                        "iteration": 65,
                        "passed_time": 1.177303525,
                        "remaining_time": 52.33649309,
                        "test": [
                          0.3490767739
                        ]
                      },
                      {
                        "learn": [
                          0.3215443278
                        ],
                        "iteration": 66,
                        "passed_time": 1.18849538,
                        "remaining_time": 52.02771568,
                        "test": [
                          0.3469675954
                        ]
                      },
                      {
                        "learn": [
                          0.3197523082
                        ],
                        "iteration": 67,
                        "passed_time": 1.199715341,
                        "remaining_time": 51.72890265,
                        "test": [
                          0.3461433528
                        ]
                      },
                      {
                        "learn": [
                          0.3178268694
                        ],
                        "iteration": 68,
                        "passed_time": 1.211208538,
                        "remaining_time": 51.45003225,
                        "test": [
                          0.3450572353
                        ]
                      },
                      {
                        "learn": [
                          0.3153613472
                        ],
                        "iteration": 69,
                        "passed_time": 1.222666042,
                        "remaining_time": 51.1773072,
                        "test": [
                          0.3428293213
                        ]
                      },
                      {
                        "learn": [
                          0.3137009375
                        ],
                        "iteration": 70,
                        "passed_time": 1.233830602,
                        "remaining_time": 50.89985681,
                        "test": [
                          0.3414529288
                        ]
                      },
                      {
                        "learn": [
                          0.3124221721
                        ],
                        "iteration": 71,
                        "passed_time": 1.245105572,
                        "remaining_time": 50.63429326,
                        "test": [
                          0.3407451838
                        ]
                      },
                      {
                        "learn": [
                          0.3107536252
                        ],
                        "iteration": 72,
                        "passed_time": 1.261576321,
                        "remaining_time": 50.58402592,
                        "test": [
                          0.339780588
                        ]
                      },
                      {
                        "learn": [
                          0.3091599849
                        ],
                        "iteration": 73,
                        "passed_time": 1.280693414,
                        "remaining_time": 50.63930986,
                        "test": [
                          0.3393858271
                        ]
                      },
                      {
                        "learn": [
                          0.3079980542
                        ],
                        "iteration": 74,
                        "passed_time": 1.292569906,
                        "remaining_time": 50.41022635,
                        "test": [
                          0.3383190337
                        ]
                      },
                      {
                        "learn": [
                          0.3067369302
                        ],
                        "iteration": 75,
                        "passed_time": 1.304135653,
                        "remaining_time": 50.17490327,
                        "test": [
                          0.3379545002
                        ]
                      },
                      {
                        "learn": [
                          0.3056502524
                        ],
                        "iteration": 76,
                        "passed_time": 1.315610311,
                        "remaining_time": 49.94193429,
                        "test": [
                          0.3372628288
                        ]
                      },
                      {
                        "learn": [
                          0.3037922602
                        ],
                        "iteration": 77,
                        "passed_time": 1.326832818,
                        "remaining_time": 49.70519865,
                        "test": [
                          0.3362441896
                        ]
                      },
                      {
                        "learn": [
                          0.3029166409
                        ],
                        "iteration": 78,
                        "passed_time": 1.338198399,
                        "remaining_time": 49.47946231,
                        "test": [
                          0.3358503117
                        ]
                      },
                      {
                        "learn": [
                          0.3013128038
                        ],
                        "iteration": 79,
                        "passed_time": 1.349773871,
                        "remaining_time": 49.26674628,
                        "test": [
                          0.3347692358
                        ]
                      },
                      {
                        "learn": [
                          0.2993931642
                        ],
                        "iteration": 80,
                        "passed_time": 1.361001205,
                        "remaining_time": 49.04645084,
                        "test": [
                          0.3327510214
                        ]
                      },
                      {
                        "learn": [
                          0.2980535558
                        ],
                        "iteration": 81,
                        "passed_time": 1.372932696,
                        "remaining_time": 48.85631226,
                        "test": [
                          0.331994733
                        ]
                      },
                      {
                        "learn": [
                          0.2972980651
                        ],
                        "iteration": 82,
                        "passed_time": 1.384875902,
                        "remaining_time": 48.6708796,
                        "test": [
                          0.3319531318
                        ]
                      },
                      {
                        "learn": [
                          0.2960472224
                        ],
                        "iteration": 83,
                        "passed_time": 1.396817418,
                        "remaining_time": 48.48951895,
                        "test": [
                          0.3311561462
                        ]
                      },
                      {
                        "learn": [
                          0.2943313909
                        ],
                        "iteration": 84,
                        "passed_time": 1.408954416,
                        "remaining_time": 48.31884851,
                        "test": [
                          0.3301329551
                        ]
                      },
                      {
                        "learn": [
                          0.2924818966
                        ],
                        "iteration": 85,
                        "passed_time": 1.422436657,
                        "remaining_time": 48.19744671,
                        "test": [
                          0.3283580085
                        ]
                      },
                      {
                        "learn": [
                          0.291318495
                        ],
                        "iteration": 86,
                        "passed_time": 1.434903835,
                        "remaining_time": 48.04453874,
                        "test": [
                          0.3277268363
                        ]
                      },
                      {
                        "learn": [
                          0.2902723093
                        ],
                        "iteration": 87,
                        "passed_time": 1.446694581,
                        "remaining_time": 47.87243886,
                        "test": [
                          0.3278568253
                        ]
                      },
                      {
                        "learn": [
                          0.2892292655
                        ],
                        "iteration": 88,
                        "passed_time": 1.458746068,
                        "remaining_time": 47.7124697,
                        "test": [
                          0.327102944
                        ]
                      },
                      {
                        "learn": [
                          0.2882925839
                        ],
                        "iteration": 89,
                        "passed_time": 1.471858601,
                        "remaining_time": 47.59009475,
                        "test": [
                          0.3267021531
                        ]
                      },
                      {
                        "learn": [
                          0.2870715496
                        ],
                        "iteration": 90,
                        "passed_time": 1.483284418,
                        "remaining_time": 47.41620189,
                        "test": [
                          0.3259996678
                        ]
                      },
                      {
                        "learn": [
                          0.2860561986
                        ],
                        "iteration": 91,
                        "passed_time": 1.494434765,
                        "remaining_time": 47.23713367,
                        "test": [
                          0.3254198389
                        ]
                      },
                      {
                        "learn": [
                          0.2847760711
                        ],
                        "iteration": 92,
                        "passed_time": 1.50599502,
                        "remaining_time": 47.07448949,
                        "test": [
                          0.324909629
                        ]
                      },
                      {
                        "learn": [
                          0.2829838059
                        ],
                        "iteration": 93,
                        "passed_time": 1.518861847,
                        "remaining_time": 46.95545241,
                        "test": [
                          0.3233905816
                        ]
                      },
                      {
                        "learn": [
                          0.2821895668
                        ],
                        "iteration": 94,
                        "passed_time": 1.529758771,
                        "remaining_time": 46.77841294,
                        "test": [
                          0.3229454375
                        ]
                      },
                      {
                        "learn": [
                          0.2815105323
                        ],
                        "iteration": 95,
                        "passed_time": 1.53998074,
                        "remaining_time": 46.58441737,
                        "test": [
                          0.3226319086
                        ]
                      },
                      {
                        "learn": [
                          0.2802394469
                        ],
                        "iteration": 96,
                        "passed_time": 1.551132649,
                        "remaining_time": 46.42204206,
                        "test": [
                          0.3216696141
                        ]
                      },
                      {
                        "learn": [
                          0.27912849
                        ],
                        "iteration": 97,
                        "passed_time": 1.561968314,
                        "remaining_time": 46.25338822,
                        "test": [
                          0.3211758744
                        ]
                      },
                      {
                        "learn": [
                          0.2785399084
                        ],
                        "iteration": 98,
                        "passed_time": 1.573251928,
                        "remaining_time": 46.10104892,
                        "test": [
                          0.3210839636
                        ]
                      },
                      {
                        "learn": [
                          0.2770782431
                        ],
                        "iteration": 99,
                        "passed_time": 1.584478273,
                        "remaining_time": 45.94986991,
                        "test": [
                          0.3201335872
                        ]
                      },
                      {
                        "learn": [
                          0.2762318645
                        ],
                        "iteration": 100,
                        "passed_time": 1.597624891,
                        "remaining_time": 45.8565798,
                        "test": [
                          0.3197549205
                        ]
                      },
                      {
                        "learn": [
                          0.2745924516
                        ],
                        "iteration": 101,
                        "passed_time": 1.609530556,
                        "remaining_time": 45.72960345,
                        "test": [
                          0.3187127776
                        ]
                      },
                      {
                        "learn": [
                          0.273032174
                        ],
                        "iteration": 102,
                        "passed_time": 1.62067992,
                        "remaining_time": 45.58358959,
                        "test": [
                          0.3177759765
                        ]
                      },
                      {
                        "learn": [
                          0.271956358
                        ],
                        "iteration": 103,
                        "passed_time": 1.63158177,
                        "remaining_time": 45.43327698,
                        "test": [
                          0.3175831705
                        ]
                      },
                      {
                        "learn": [
                          0.2709905358
                        ],
                        "iteration": 104,
                        "passed_time": 1.64235792,
                        "remaining_time": 45.28215407,
                        "test": [
                          0.3173127081
                        ]
                      },
                      {
                        "learn": [
                          0.2702879734
                        ],
                        "iteration": 105,
                        "passed_time": 1.65306605,
                        "remaining_time": 45.13182216,
                        "test": [
                          0.3168380848
                        ]
                      },
                      {
                        "learn": [
                          0.2696271853
                        ],
                        "iteration": 106,
                        "passed_time": 1.663393566,
                        "remaining_time": 44.97380921,
                        "test": [
                          0.3168023251
                        ]
                      },
                      {
                        "learn": [
                          0.2686090776
                        ],
                        "iteration": 107,
                        "passed_time": 1.673890293,
                        "remaining_time": 44.82306228,
                        "test": [
                          0.3166203283
                        ]
                      },
                      {
                        "learn": [
                          0.2675598784
                        ],
                        "iteration": 108,
                        "passed_time": 1.684438891,
                        "remaining_time": 44.67626452,
                        "test": [
                          0.3168551813
                        ]
                      },
                      {
                        "learn": [
                          0.2669187352
                        ],
                        "iteration": 109,
                        "passed_time": 1.695403493,
                        "remaining_time": 44.54287358,
                        "test": [
                          0.3168758098
                        ]
                      },
                      {
                        "learn": [
                          0.2659225427
                        ],
                        "iteration": 110,
                        "passed_time": 1.70621614,
                        "remaining_time": 44.40773359,
                        "test": [
                          0.3162623441
                        ]
                      },
                      {
                        "learn": [
                          0.2652386317
                        ],
                        "iteration": 111,
                        "passed_time": 1.716850741,
                        "remaining_time": 44.27022267,
                        "test": [
                          0.3163707001
                        ]
                      },
                      {
                        "learn": [
                          0.2637038341
                        ],
                        "iteration": 112,
                        "passed_time": 1.72766098,
                        "remaining_time": 44.13944469,
                        "test": [
                          0.3152221054
                        ]
                      },
                      {
                        "learn": [
                          0.2624562487
                        ],
                        "iteration": 113,
                        "passed_time": 1.739589729,
                        "remaining_time": 44.03908734,
                        "test": [
                          0.3144073664
                        ]
                      },
                      {
                        "learn": [
                          0.2618854724
                        ],
                        "iteration": 114,
                        "passed_time": 1.750042576,
                        "remaining_time": 43.90324202,
                        "test": [
                          0.3144375611
                        ]
                      },
                      {
                        "learn": [
                          0.2610182312
                        ],
                        "iteration": 115,
                        "passed_time": 1.760736379,
                        "remaining_time": 43.77554928,
                        "test": [
                          0.3142263408
                        ]
                      },
                      {
                        "learn": [
                          0.260095209
                        ],
                        "iteration": 116,
                        "passed_time": 1.771209873,
                        "remaining_time": 43.64442791,
                        "test": [
                          0.3141332699
                        ]
                      },
                      {
                        "learn": [
                          0.2587483124
                        ],
                        "iteration": 117,
                        "passed_time": 1.781740266,
                        "remaining_time": 43.51674107,
                        "test": [
                          0.3134689513
                        ]
                      },
                      {
                        "learn": [
                          0.2576216642
                        ],
                        "iteration": 118,
                        "passed_time": 1.79261145,
                        "remaining_time": 43.39927385,
                        "test": [
                          0.3134406993
                        ]
                      },
                      {
                        "learn": [
                          0.2563917307
                        ],
                        "iteration": 119,
                        "passed_time": 1.807320982,
                        "remaining_time": 43.37570356,
                        "test": [
                          0.3129462991
                        ]
                      },
                      {
                        "learn": [
                          0.25563308
                        ],
                        "iteration": 120,
                        "passed_time": 1.818489766,
                        "remaining_time": 43.26803337,
                        "test": [
                          0.3128475464
                        ]
                      },
                      {
                        "learn": [
                          0.2548170714
                        ],
                        "iteration": 121,
                        "passed_time": 1.829477166,
                        "remaining_time": 43.15766625,
                        "test": [
                          0.3122173243
                        ]
                      },
                      {
                        "learn": [
                          0.2541041327
                        ],
                        "iteration": 122,
                        "passed_time": 1.839775394,
                        "remaining_time": 43.03279518,
                        "test": [
                          0.3122545658
                        ]
                      },
                      {
                        "learn": [
                          0.2531813019
                        ],
                        "iteration": 123,
                        "passed_time": 1.850231848,
                        "remaining_time": 42.91344189,
                        "test": [
                          0.3119944912
                        ]
                      },
                      {
                        "learn": [
                          0.2525971784
                        ],
                        "iteration": 124,
                        "passed_time": 1.86087146,
                        "remaining_time": 42.80004359,
                        "test": [
                          0.3122905476
                        ]
                      },
                      {
                        "learn": [
                          0.2520103019
                        ],
                        "iteration": 125,
                        "passed_time": 1.872099906,
                        "remaining_time": 42.70170738,
                        "test": [
                          0.3121802342
                        ]
                      },
                      {
                        "learn": [
                          0.2510706901
                        ],
                        "iteration": 126,
                        "passed_time": 1.883210145,
                        "remaining_time": 42.60206886,
                        "test": [
                          0.311999332
                        ]
                      },
                      {
                        "learn": [
                          0.2502978226
                        ],
                        "iteration": 127,
                        "passed_time": 1.893925577,
                        "remaining_time": 42.49495513,
                        "test": [
                          0.31163118
                        ]
                      },
                      {
                        "learn": [
                          0.2493176119
                        ],
                        "iteration": 128,
                        "passed_time": 1.905514057,
                        "remaining_time": 42.40876634,
                        "test": [
                          0.3107646931
                        ]
                      },
                      {
                        "learn": [
                          0.2484526556
                        ],
                        "iteration": 129,
                        "passed_time": 1.916640587,
                        "remaining_time": 42.31352681,
                        "test": [
                          0.3105587237
                        ]
                      },
                      {
                        "learn": [
                          0.2465937876
                        ],
                        "iteration": 130,
                        "passed_time": 1.927965112,
                        "remaining_time": 42.22390769,
                        "test": [
                          0.3089540909
                        ]
                      },
                      {
                        "learn": [
                          0.2455359114
                        ],
                        "iteration": 131,
                        "passed_time": 1.939000675,
                        "remaining_time": 42.12919648,
                        "test": [
                          0.3079635512
                        ]
                      },
                      {
                        "learn": [
                          0.2449031586
                        ],
                        "iteration": 132,
                        "passed_time": 1.950531051,
                        "remaining_time": 42.04640994,
                        "test": [
                          0.3078236665
                        ]
                      },
                      {
                        "learn": [
                          0.2443776756
                        ],
                        "iteration": 133,
                        "passed_time": 1.96149049,
                        "remaining_time": 41.9524757,
                        "test": [
                          0.3077309431
                        ]
                      },
                      {
                        "learn": [
                          0.2436689945
                        ],
                        "iteration": 134,
                        "passed_time": 1.972569021,
                        "remaining_time": 41.8622981,
                        "test": [
                          0.3074578363
                        ]
                      },
                      {
                        "learn": [
                          0.2431601752
                        ],
                        "iteration": 135,
                        "passed_time": 1.995844151,
                        "remaining_time": 42.03012977,
                        "test": [
                          0.3075367596
                        ]
                      },
                      {
                        "learn": [
                          0.2419514581
                        ],
                        "iteration": 136,
                        "passed_time": 2.007478619,
                        "remaining_time": 41.9519072,
                        "test": [
                          0.3067780112
                        ]
                      },
                      {
                        "learn": [
                          0.2404162746
                        ],
                        "iteration": 137,
                        "passed_time": 2.018702746,
                        "remaining_time": 41.86613955,
                        "test": [
                          0.3049858288
                        ]
                      },
                      {
                        "learn": [
                          0.2399919256
                        ],
                        "iteration": 138,
                        "passed_time": 2.031407926,
                        "remaining_time": 41.81192861,
                        "test": [
                          0.3048086312
                        ]
                      },
                      {
                        "learn": [
                          0.2393427043
                        ],
                        "iteration": 139,
                        "passed_time": 2.042402863,
                        "remaining_time": 41.72337277,
                        "test": [
                          0.304738639
                        ]
                      },
                      {
                        "learn": [
                          0.2388239575
                        ],
                        "iteration": 140,
                        "passed_time": 2.053772392,
                        "remaining_time": 41.64351253,
                        "test": [
                          0.304800867
                        ]
                      },
                      {
                        "learn": [
                          0.2384097418
                        ],
                        "iteration": 141,
                        "passed_time": 2.070922544,
                        "remaining_time": 41.68096219,
                        "test": [
                          0.3046569877
                        ]
                      },
                      {
                        "learn": [
                          0.2375494805
                        ],
                        "iteration": 142,
                        "passed_time": 2.08206825,
                        "remaining_time": 41.59768524,
                        "test": [
                          0.3045194545
                        ]
                      },
                      {
                        "learn": [
                          0.2368691933
                        ],
                        "iteration": 143,
                        "passed_time": 2.093071609,
                        "remaining_time": 41.51258692,
                        "test": [
                          0.3043908322
                        ]
                      },
                      {
                        "learn": [
                          0.2361331824
                        ],
                        "iteration": 144,
                        "passed_time": 2.103526472,
                        "remaining_time": 41.41771087,
                        "test": [
                          0.3039124322
                        ]
                      },
                      {
                        "learn": [
                          0.235442871
                        ],
                        "iteration": 145,
                        "passed_time": 2.114601205,
                        "remaining_time": 41.33610848,
                        "test": [
                          0.3040493484
                        ]
                      },
                      {
                        "learn": [
                          0.2350008711
                        ],
                        "iteration": 146,
                        "passed_time": 2.125953124,
                        "remaining_time": 41.26084532,
                        "test": [
                          0.3037816016
                        ]
                      },
                      {
                        "learn": [
                          0.2346925302
                        ],
                        "iteration": 147,
                        "passed_time": 2.136705877,
                        "remaining_time": 41.17489974,
                        "test": [
                          0.3035241656
                        ]
                      },
                      {
                        "learn": [
                          0.2341670522
                        ],
                        "iteration": 148,
                        "passed_time": 2.149608965,
                        "remaining_time": 41.13110844,
                        "test": [
                          0.3034444995
                        ]
                      },
                      {
                        "learn": [
                          0.2338401757
                        ],
                        "iteration": 149,
                        "passed_time": 2.168421437,
                        "remaining_time": 41.2000073,
                        "test": [
                          0.3035812924
                        ]
                      },
                      {
                        "learn": [
                          0.2333130604
                        ],
                        "iteration": 150,
                        "passed_time": 2.180488726,
                        "remaining_time": 41.14047934,
                        "test": [
                          0.3031494379
                        ]
                      },
                      {
                        "learn": [
                          0.2328950514
                        ],
                        "iteration": 151,
                        "passed_time": 2.192387009,
                        "remaining_time": 41.07840923,
                        "test": [
                          0.302844965
                        ]
                      },
                      {
                        "learn": [
                          0.232276113
                        ],
                        "iteration": 152,
                        "passed_time": 2.203903171,
                        "remaining_time": 41.00988449,
                        "test": [
                          0.302706589
                        ]
                      },
                      {
                        "learn": [
                          0.2317741021
                        ],
                        "iteration": 153,
                        "passed_time": 2.215629809,
                        "remaining_time": 40.94598985,
                        "test": [
                          0.3026665963
                        ]
                      },
                      {
                        "learn": [
                          0.2309490164
                        ],
                        "iteration": 154,
                        "passed_time": 2.227437612,
                        "remaining_time": 40.8842581,
                        "test": [
                          0.301941607
                        ]
                      },
                      {
                        "learn": [
                          0.2304466796
                        ],
                        "iteration": 155,
                        "passed_time": 2.239562995,
                        "remaining_time": 40.82895614,
                        "test": [
                          0.302090498
                        ]
                      },
                      {
                        "learn": [
                          0.2299198661
                        ],
                        "iteration": 156,
                        "passed_time": 2.250966239,
                        "remaining_time": 40.76112751,
                        "test": [
                          0.3017322266
                        ]
                      },
                      {
                        "learn": [
                          0.2291450061
                        ],
                        "iteration": 157,
                        "passed_time": 2.262890586,
                        "remaining_time": 40.70338636,
                        "test": [
                          0.301519542
                        ]
                      },
                      {
                        "learn": [
                          0.2287641265
                        ],
                        "iteration": 158,
                        "passed_time": 2.280307101,
                        "remaining_time": 40.74435518,
                        "test": [
                          0.3014333549
                        ]
                      },
                      {
                        "learn": [
                          0.2283151017
                        ],
                        "iteration": 159,
                        "passed_time": 2.301199311,
                        "remaining_time": 40.84628777,
                        "test": [
                          0.3013294137
                        ]
                      },
                      {
                        "learn": [
                          0.22767181
                        ],
                        "iteration": 160,
                        "passed_time": 2.313709416,
                        "remaining_time": 40.79888839,
                        "test": [
                          0.3011050919
                        ]
                      },
                      {
                        "learn": [
                          0.2271566462
                        ],
                        "iteration": 161,
                        "passed_time": 2.326100112,
                        "remaining_time": 40.74982789,
                        "test": [
                          0.300869617
                        ]
                      },
                      {
                        "learn": [
                          0.2261234691
                        ],
                        "iteration": 162,
                        "passed_time": 2.337394763,
                        "remaining_time": 40.68214074,
                        "test": [
                          0.2997980859
                        ]
                      },
                      {
                        "learn": [
                          0.2256423412
                        ],
                        "iteration": 163,
                        "passed_time": 2.348318018,
                        "remaining_time": 40.6087189,
                        "test": [
                          0.2994870798
                        ]
                      },
                      {
                        "learn": [
                          0.2250675958
                        ],
                        "iteration": 164,
                        "passed_time": 2.359094695,
                        "remaining_time": 40.53353612,
                        "test": [
                          0.298946832
                        ]
                      },
                      {
                        "learn": [
                          0.224352359
                        ],
                        "iteration": 165,
                        "passed_time": 2.370689712,
                        "remaining_time": 40.47310026,
                        "test": [
                          0.2982639868
                        ]
                      },
                      {
                        "learn": [
                          0.2238294226
                        ],
                        "iteration": 166,
                        "passed_time": 2.381868413,
                        "remaining_time": 40.40618692,
                        "test": [
                          0.2981817336
                        ]
                      },
                      {
                        "learn": [
                          0.2230455885
                        ],
                        "iteration": 167,
                        "passed_time": 2.393176677,
                        "remaining_time": 40.34212113,
                        "test": [
                          0.2980082626
                        ]
                      },
                      {
                        "learn": [
                          0.2226098574
                        ],
                        "iteration": 168,
                        "passed_time": 2.404552129,
                        "remaining_time": 40.27980519,
                        "test": [
                          0.2977419558
                        ]
                      },
                      {
                        "learn": [
                          0.2218756126
                        ],
                        "iteration": 169,
                        "passed_time": 2.415713579,
                        "remaining_time": 40.21452605,
                        "test": [
                          0.2978685817
                        ]
                      },
                      {
                        "learn": [
                          0.2208614873
                        ],
                        "iteration": 170,
                        "passed_time": 2.426871679,
                        "remaining_time": 40.14982445,
                        "test": [
                          0.297220778
                        ]
                      },
                      {
                        "learn": [
                          0.2199539507
                        ],
                        "iteration": 171,
                        "passed_time": 2.437610177,
                        "remaining_time": 40.0788464,
                        "test": [
                          0.297109889
                        ]
                      },
                      {
                        "learn": [
                          0.2194909025
                        ],
                        "iteration": 172,
                        "passed_time": 2.448705203,
                        "remaining_time": 40.0143908,
                        "test": [
                          0.2970532219
                        ]
                      },
                      {
                        "learn": [
                          0.2189066537
                        ],
                        "iteration": 173,
                        "passed_time": 2.459631988,
                        "remaining_time": 39.94781608,
                        "test": [
                          0.2968374421
                        ]
                      },
                      {
                        "learn": [
                          0.2181262461
                        ],
                        "iteration": 174,
                        "passed_time": 2.470888806,
                        "remaining_time": 39.88720502,
                        "test": [
                          0.2965160659
                        ]
                      },
                      {
                        "learn": [
                          0.2176300094
                        ],
                        "iteration": 175,
                        "passed_time": 2.481497473,
                        "remaining_time": 39.81675491,
                        "test": [
                          0.2968750073
                        ]
                      },
                      {
                        "learn": [
                          0.2171467396
                        ],
                        "iteration": 176,
                        "passed_time": 2.492398743,
                        "remaining_time": 39.75164776,
                        "test": [
                          0.2967607256
                        ]
                      },
                      {
                        "learn": [
                          0.2167285607
                        ],
                        "iteration": 177,
                        "passed_time": 2.504002545,
                        "remaining_time": 39.69828755,
                        "test": [
                          0.2967072343
                        ]
                      },
                      {
                        "learn": [
                          0.2156775361
                        ],
                        "iteration": 178,
                        "passed_time": 2.514969157,
                        "remaining_time": 39.63535192,
                        "test": [
                          0.2961972214
                        ]
                      },
                      {
                        "learn": [
                          0.2153541247
                        ],
                        "iteration": 179,
                        "passed_time": 2.525796512,
                        "remaining_time": 39.57081203,
                        "test": [
                          0.2964053225
                        ]
                      },
                      {
                        "learn": [
                          0.2149077733
                        ],
                        "iteration": 180,
                        "passed_time": 2.536749309,
                        "remaining_time": 39.50881934,
                        "test": [
                          0.296630266
                        ]
                      },
                      {
                        "learn": [
                          0.2145589266
                        ],
                        "iteration": 181,
                        "passed_time": 2.547691807,
                        "remaining_time": 39.4472281,
                        "test": [
                          0.2962227342
                        ]
                      },
                      {
                        "learn": [
                          0.2141151679
                        ],
                        "iteration": 182,
                        "passed_time": 2.558503736,
                        "remaining_time": 39.38418046,
                        "test": [
                          0.2962650357
                        ]
                      },
                      {
                        "learn": [
                          0.2135563938
                        ],
                        "iteration": 183,
                        "passed_time": 2.569460056,
                        "remaining_time": 39.32391043,
                        "test": [
                          0.2961254032
                        ]
                      },
                      {
                        "learn": [
                          0.213192831
                        ],
                        "iteration": 184,
                        "passed_time": 2.581619601,
                        "remaining_time": 39.28248204,
                        "test": [
                          0.2962097939
                        ]
                      },
                      {
                        "learn": [
                          0.212055413
                        ],
                        "iteration": 185,
                        "passed_time": 2.594387107,
                        "remaining_time": 39.25056624,
                        "test": [
                          0.2954213508
                        ]
                      },
                      {
                        "learn": [
                          0.2116425831
                        ],
                        "iteration": 186,
                        "passed_time": 2.606740297,
                        "remaining_time": 39.21262275,
                        "test": [
                          0.2950699821
                        ]
                      },
                      {
                        "learn": [
                          0.210949635
                        ],
                        "iteration": 187,
                        "passed_time": 2.618321565,
                        "remaining_time": 39.16340554,
                        "test": [
                          0.2949341394
                        ]
                      },
                      {
                        "learn": [
                          0.2103296411
                        ],
                        "iteration": 188,
                        "passed_time": 2.631524377,
                        "remaining_time": 39.13870383,
                        "test": [
                          0.2949738418
                        ]
                      },
                      {
                        "learn": [
                          0.2098063657
                        ],
                        "iteration": 189,
                        "passed_time": 2.643403104,
                        "remaining_time": 39.09454064,
                        "test": [
                          0.2950375738
                        ]
                      },
                      {
                        "learn": [
                          0.2092885783
                        ],
                        "iteration": 190,
                        "passed_time": 2.65594169,
                        "remaining_time": 39.06041993,
                        "test": [
                          0.2951963598
                        ]
                      },
                      {
                        "learn": [
                          0.2086438442
                        ],
                        "iteration": 191,
                        "passed_time": 2.669215139,
                        "remaining_time": 39.0372714,
                        "test": [
                          0.2948642397
                        ]
                      },
                      {
                        "learn": [
                          0.2078245899
                        ],
                        "iteration": 192,
                        "passed_time": 2.68087984,
                        "remaining_time": 38.99082752,
                        "test": [
                          0.2947142957
                        ]
                      },
                      {
                        "learn": [
                          0.2072952855
                        ],
                        "iteration": 193,
                        "passed_time": 2.691872861,
                        "remaining_time": 38.93502706,
                        "test": [
                          0.2947384058
                        ]
                      },
                      {
                        "learn": [
                          0.2067208909
                        ],
                        "iteration": 194,
                        "passed_time": 2.70285242,
                        "remaining_time": 38.8794925,
                        "test": [
                          0.2943855828
                        ]
                      },
                      {
                        "learn": [
                          0.2062489128
                        ],
                        "iteration": 195,
                        "passed_time": 2.713296967,
                        "remaining_time": 38.81675866,
                        "test": [
                          0.2943750609
                        ]
                      },
                      {
                        "learn": [
                          0.2056903667
                        ],
                        "iteration": 196,
                        "passed_time": 2.724054098,
                        "remaining_time": 38.75900323,
                        "test": [
                          0.294380947
                        ]
                      },
                      {
                        "learn": [
                          0.2052015801
                        ],
                        "iteration": 197,
                        "passed_time": 2.737267164,
                        "remaining_time": 38.73647775,
                        "test": [
                          0.2940630152
                        ]
                      },
                      {
                        "learn": [
                          0.2048011835
                        ],
                        "iteration": 198,
                        "passed_time": 2.755027304,
                        "remaining_time": 38.77804763,
                        "test": [
                          0.294007104
                        ]
                      },
                      {
                        "learn": [
                          0.2038807499
                        ],
                        "iteration": 199,
                        "passed_time": 2.770628636,
                        "remaining_time": 38.78880091,
                        "test": [
                          0.2935980015
                        ]
                      },
                      {
                        "learn": [
                          0.2034405485
                        ],
                        "iteration": 200,
                        "passed_time": 2.782667085,
                        "remaining_time": 38.74967746,
                        "test": [
                          0.2933274828
                        ]
                      },
                      {
                        "learn": [
                          0.2030589546
                        ],
                        "iteration": 201,
                        "passed_time": 2.795194223,
                        "remaining_time": 38.71759127,
                        "test": [
                          0.2934448226
                        ]
                      },
                      {
                        "learn": [
                          0.2028282268
                        ],
                        "iteration": 202,
                        "passed_time": 2.808924335,
                        "remaining_time": 38.70227273,
                        "test": [
                          0.2935949984
                        ]
                      },
                      {
                        "learn": [
                          0.2022149417
                        ],
                        "iteration": 203,
                        "passed_time": 2.821889035,
                        "remaining_time": 38.67647913,
                        "test": [
                          0.29365033
                        ]
                      },
                      {
                        "learn": [
                          0.2016762673
                        ],
                        "iteration": 204,
                        "passed_time": 2.833832382,
                        "remaining_time": 38.6368854,
                        "test": [
                          0.2936360505
                        ]
                      },
                      {
                        "learn": [
                          0.2015396506
                        ],
                        "iteration": 205,
                        "passed_time": 2.845954807,
                        "remaining_time": 38.59998899,
                        "test": [
                          0.2936635823
                        ]
                      },
                      {
                        "learn": [
                          0.2012082275
                        ],
                        "iteration": 206,
                        "passed_time": 2.857884578,
                        "remaining_time": 38.56073249,
                        "test": [
                          0.2936624812
                        ]
                      },
                      {
                        "learn": [
                          0.2007494261
                        ],
                        "iteration": 207,
                        "passed_time": 2.870048941,
                        "remaining_time": 38.5248877,
                        "test": [
                          0.2939675523
                        ]
                      },
                      {
                        "learn": [
                          0.2004710152
                        ],
                        "iteration": 208,
                        "passed_time": 2.881746683,
                        "remaining_time": 38.48303824,
                        "test": [
                          0.2939069512
                        ]
                      },
                      {
                        "learn": [
                          0.1998595131
                        ],
                        "iteration": 209,
                        "passed_time": 2.893838425,
                        "remaining_time": 38.4467105,
                        "test": [
                          0.2939146241
                        ]
                      },
                      {
                        "learn": [
                          0.1991311347
                        ],
                        "iteration": 210,
                        "passed_time": 2.905997546,
                        "remaining_time": 38.4115031,
                        "test": [
                          0.2941452064
                        ]
                      },
                      {
                        "learn": [
                          0.1987341225
                        ],
                        "iteration": 211,
                        "passed_time": 2.917611037,
                        "remaining_time": 38.36933761,
                        "test": [
                          0.2943501664
                        ]
                      },
                      {
                        "learn": [
                          0.1984168243
                        ],
                        "iteration": 212,
                        "passed_time": 2.929265113,
                        "remaining_time": 38.32798999,
                        "test": [
                          0.2941906182
                        ]
                      },
                      {
                        "learn": [
                          0.1978394495
                        ],
                        "iteration": 213,
                        "passed_time": 2.940256212,
                        "remaining_time": 38.27828881,
                        "test": [
                          0.2939576616
                        ]
                      },
                      {
                        "learn": [
                          0.1971872404
                        ],
                        "iteration": 214,
                        "passed_time": 2.950568872,
                        "remaining_time": 38.22015958,
                        "test": [
                          0.2939715922
                        ]
                      },
                      {
                        "learn": [
                          0.1968876672
                        ],
                        "iteration": 215,
                        "passed_time": 2.960766909,
                        "remaining_time": 38.16099571,
                        "test": [
                          0.293833752
                        ]
                      },
                      {
                        "learn": [
                          0.1963963868
                        ],
                        "iteration": 216,
                        "passed_time": 2.971006683,
                        "remaining_time": 38.10281842,
                        "test": [
                          0.2938389997
                        ]
                      },
                      {
                        "learn": [
                          0.1960987785
                        ],
                        "iteration": 217,
                        "passed_time": 2.997238952,
                        "remaining_time": 38.24916864,
                        "test": [
                          0.2937436265
                        ]
                      },
                      {
                        "learn": [
                          0.195934358
                        ],
                        "iteration": 218,
                        "passed_time": 3.00940771,
                        "remaining_time": 38.21535544,
                        "test": [
                          0.2937621698
                        ]
                      },
                      {
                        "learn": [
                          0.1951585637
                        ],
                        "iteration": 219,
                        "passed_time": 3.024019178,
                        "remaining_time": 38.21260597,
                        "test": [
                          0.2938116871
                        ]
                      },
                      {
                        "learn": [
                          0.1943880026
                        ],
                        "iteration": 220,
                        "passed_time": 3.035743232,
                        "remaining_time": 38.17344092,
                        "test": [
                          0.2931756578
                        ]
                      },
                      {
                        "learn": [
                          0.1940671484
                        ],
                        "iteration": 221,
                        "passed_time": 3.046890688,
                        "remaining_time": 38.1273078,
                        "test": [
                          0.2930015707
                        ]
                      },
                      {
                        "learn": [
                          0.1937310791
                        ],
                        "iteration": 222,
                        "passed_time": 3.05861333,
                        "remaining_time": 38.08865121,
                        "test": [
                          0.2930269134
                        ]
                      },
                      {
                        "learn": [
                          0.1935115906
                        ],
                        "iteration": 223,
                        "passed_time": 3.069945663,
                        "remaining_time": 38.04539804,
                        "test": [
                          0.2930586931
                        ]
                      },
                      {
                        "learn": [
                          0.1933284124
                        ],
                        "iteration": 224,
                        "passed_time": 3.081135173,
                        "remaining_time": 38.00066714,
                        "test": [
                          0.2931398341
                        ]
                      },
                      {
                        "learn": [
                          0.1926258961
                        ],
                        "iteration": 225,
                        "passed_time": 3.09228339,
                        "remaining_time": 37.95572621,
                        "test": [
                          0.2935186051
                        ]
                      },
                      {
                        "learn": [
                          0.1921752918
                        ],
                        "iteration": 226,
                        "passed_time": 3.103866078,
                        "remaining_time": 37.91639046,
                        "test": [
                          0.293433228
                        ]
                      },
                      {
                        "learn": [
                          0.1917435889
                        ],
                        "iteration": 227,
                        "passed_time": 3.114520125,
                        "remaining_time": 37.86600784,
                        "test": [
                          0.2933846161
                        ]
                      },
                      {
                        "learn": [
                          0.1914008533
                        ],
                        "iteration": 228,
                        "passed_time": 3.12586885,
                        "remaining_time": 37.82437809,
                        "test": [
                          0.2935188211
                        ]
                      },
                      {
                        "learn": [
                          0.1910698904
                        ],
                        "iteration": 229,
                        "passed_time": 3.136760664,
                        "remaining_time": 37.77750887,
                        "test": [
                          0.2935940582
                        ]
                      },
                      {
                        "learn": [
                          0.1906124994
                        ],
                        "iteration": 230,
                        "passed_time": 3.148034213,
                        "remaining_time": 37.735527,
                        "test": [
                          0.2934060214
                        ]
                      },
                      {
                        "learn": [
                          0.1901419348
                        ],
                        "iteration": 231,
                        "passed_time": 3.159785472,
                        "remaining_time": 37.69950942,
                        "test": [
                          0.29350502
                        ]
                      },
                      {
                        "learn": [
                          0.1898077366
                        ],
                        "iteration": 232,
                        "passed_time": 3.170924475,
                        "remaining_time": 37.65642928,
                        "test": [
                          0.293644299
                        ]
                      },
                      {
                        "learn": [
                          0.1894048345
                        ],
                        "iteration": 233,
                        "passed_time": 3.181779844,
                        "remaining_time": 37.61026944,
                        "test": [
                          0.2936296307
                        ]
                      },
                      {
                        "learn": [
                          0.1888349071
                        ],
                        "iteration": 234,
                        "passed_time": 3.192760256,
                        "remaining_time": 37.56588131,
                        "test": [
                          0.2936597321
                        ]
                      },
                      {
                        "learn": [
                          0.1884521912
                        ],
                        "iteration": 235,
                        "passed_time": 3.204068993,
                        "remaining_time": 37.52562159,
                        "test": [
                          0.293564372
                        ]
                      },
                      {
                        "learn": [
                          0.1879852217
                        ],
                        "iteration": 236,
                        "passed_time": 3.215283652,
                        "remaining_time": 37.48450941,
                        "test": [
                          0.2936780975
                        ]
                      },
                      {
                        "learn": [
                          0.1876485955
                        ],
                        "iteration": 237,
                        "passed_time": 3.227373279,
                        "remaining_time": 37.45380251,
                        "test": [
                          0.293868861
                        ]
                      },
                      {
                        "learn": [
                          0.1870701487
                        ],
                        "iteration": 238,
                        "passed_time": 3.245032705,
                        "remaining_time": 37.4875954,
                        "test": [
                          0.2934618643
                        ]
                      },
                      {
                        "learn": [
                          0.1866645885
                        ],
                        "iteration": 239,
                        "passed_time": 3.256237829,
                        "remaining_time": 37.44673503,
                        "test": [
                          0.2935340604
                        ]
                      },
                      {
                        "learn": [
                          0.1863850634
                        ],
                        "iteration": 240,
                        "passed_time": 3.268980597,
                        "remaining_time": 37.42372393,
                        "test": [
                          0.2932102477
                        ]
                      },
                      {
                        "learn": [
                          0.1857228745
                        ],
                        "iteration": 241,
                        "passed_time": 3.279660239,
                        "remaining_time": 37.37728487,
                        "test": [
                          0.2931180387
                        ]
                      },
                      {
                        "learn": [
                          0.1851350348
                        ],
                        "iteration": 242,
                        "passed_time": 3.290996443,
                        "remaining_time": 37.33858927,
                        "test": [
                          0.2934722377
                        ]
                      },
                      {
                        "learn": [
                          0.1846707606
                        ],
                        "iteration": 243,
                        "passed_time": 3.308150264,
                        "remaining_time": 37.3658284,
                        "test": [
                          0.2936466344
                        ]
                      },
                      {
                        "learn": [
                          0.1842971323
                        ],
                        "iteration": 244,
                        "passed_time": 3.325673263,
                        "remaining_time": 37.39685648,
                        "test": [
                          0.2937987134
                        ]
                      },
                      {
                        "learn": [
                          0.1837993994
                        ],
                        "iteration": 245,
                        "passed_time": 3.336636793,
                        "remaining_time": 37.3540558,
                        "test": [
                          0.2937114042
                        ]
                      },
                      {
                        "learn": [
                          0.1834738415
                        ],
                        "iteration": 246,
                        "passed_time": 3.346854623,
                        "remaining_time": 37.30320153,
                        "test": [
                          0.2937318761
                        ]
                      },
                      {
                        "learn": [
                          0.1832114889
                        ],
                        "iteration": 247,
                        "passed_time": 3.357586507,
                        "remaining_time": 37.2583793,
                        "test": [
                          0.2937268091
                        ]
                      },
                      {
                        "learn": [
                          0.1828020708
                        ],
                        "iteration": 248,
                        "passed_time": 3.368962829,
                        "remaining_time": 37.22095077,
                        "test": [
                          0.2935820342
                        ]
                      },
                      {
                        "learn": [
                          0.1822713481
                        ],
                        "iteration": 249,
                        "passed_time": 3.379863808,
                        "remaining_time": 37.17850189,
                        "test": [
                          0.2933793231
                        ]
                      },
                      {
                        "learn": [
                          0.1817581129
                        ],
                        "iteration": 250,
                        "passed_time": 3.390967363,
                        "remaining_time": 37.13852303,
                        "test": [
                          0.293030044
                        ]
                      },
                      {
                        "learn": [
                          0.1814002308
                        ],
                        "iteration": 251,
                        "passed_time": 3.401800573,
                        "remaining_time": 37.0958253,
                        "test": [
                          0.2935880302
                        ]
                      },
                      {
                        "learn": [
                          0.1809885156
                        ],
                        "iteration": 252,
                        "passed_time": 3.412599617,
                        "remaining_time": 37.05300849,
                        "test": [
                          0.2936627651
                        ]
                      },
                      {
                        "learn": [
                          0.1804357482
                        ],
                        "iteration": 253,
                        "passed_time": 3.423728666,
                        "remaining_time": 37.01401148,
                        "test": [
                          0.2937908326
                        ]
                      },
                      {
                        "learn": [
                          0.1800882831
                        ],
                        "iteration": 254,
                        "passed_time": 3.435826164,
                        "remaining_time": 36.98565812,
                        "test": [
                          0.2938246764
                        ]
                      },
                      {
                        "learn": [
                          0.1797072647
                        ],
                        "iteration": 255,
                        "passed_time": 3.448196078,
                        "remaining_time": 36.96035171,
                        "test": [
                          0.2937880808
                        ]
                      },
                      {
                        "learn": [
                          0.1793682467
                        ],
                        "iteration": 256,
                        "passed_time": 3.460510941,
                        "remaining_time": 36.93455841,
                        "test": [
                          0.2938526581
                        ]
                      },
                      {
                        "learn": [
                          0.1788591067
                        ],
                        "iteration": 257,
                        "passed_time": 3.473193075,
                        "remaining_time": 36.91277291,
                        "test": [
                          0.2937372184
                        ]
                      },
                      {
                        "learn": [
                          0.1783070476
                        ],
                        "iteration": 258,
                        "passed_time": 3.487814874,
                        "remaining_time": 36.91158521,
                        "test": [
                          0.2933222572
                        ]
                      },
                      {
                        "learn": [
                          0.1779201665
                        ],
                        "iteration": 259,
                        "passed_time": 3.500235491,
                        "remaining_time": 36.88709709,
                        "test": [
                          0.2934051672
                        ]
                      },
                      {
                        "learn": [
                          0.1772146718
                        ],
                        "iteration": 260,
                        "passed_time": 3.512694653,
                        "remaining_time": 36.86310596,
                        "test": [
                          0.2938818832
                        ]
                      },
                      {
                        "learn": [
                          0.176949496
                        ],
                        "iteration": 261,
                        "passed_time": 3.525178023,
                        "remaining_time": 36.83945583,
                        "test": [
                          0.2941131098
                        ]
                      },
                      {
                        "learn": [
                          0.1765904682
                        ],
                        "iteration": 262,
                        "passed_time": 3.537413263,
                        "remaining_time": 36.81330837,
                        "test": [
                          0.2939865245
                        ]
                      },
                      {
                        "learn": [
                          0.1763435631
                        ],
                        "iteration": 263,
                        "passed_time": 3.550189842,
                        "remaining_time": 36.79287654,
                        "test": [
                          0.2941729943
                        ]
                      },
                      {
                        "learn": [
                          0.1758923136
                        ],
                        "iteration": 264,
                        "passed_time": 3.562440742,
                        "remaining_time": 36.7670771,
                        "test": [
                          0.2941426036
                        ]
                      },
                      {
                        "learn": [
                          0.1755028771
                        ],
                        "iteration": 265,
                        "passed_time": 3.574748364,
                        "remaining_time": 36.74196251,
                        "test": [
                          0.2938215761
                        ]
                      },
                      {
                        "learn": [
                          0.1752459109
                        ],
                        "iteration": 266,
                        "passed_time": 3.589584242,
                        "remaining_time": 36.74282297,
                        "test": [
                          0.2936619285
                        ]
                      },
                      {
                        "learn": [
                          0.1749024542
                        ],
                        "iteration": 267,
                        "passed_time": 3.602060323,
                        "remaining_time": 36.71951045,
                        "test": [
                          0.2937771267
                        ]
                      },
                      {
                        "learn": [
                          0.1744122665
                        ],
                        "iteration": 268,
                        "passed_time": 3.614544416,
                        "remaining_time": 36.69635985,
                        "test": [
                          0.2942060633
                        ]
                      },
                      {
                        "learn": [
                          0.1741243947
                        ],
                        "iteration": 269,
                        "passed_time": 3.626983543,
                        "remaining_time": 36.6728336,
                        "test": [
                          0.2941835522
                        ]
                      },
                      {
                        "learn": [
                          0.1737667573
                        ],
                        "iteration": 270,
                        "passed_time": 3.639920357,
                        "remaining_time": 36.65440094,
                        "test": [
                          0.2942295293
                        ]
                      },
                      {
                        "learn": [
                          0.1734544792
                        ],
                        "iteration": 271,
                        "passed_time": 3.652282878,
                        "remaining_time": 36.63024886,
                        "test": [
                          0.2943593263
                        ]
                      },
                      {
                        "learn": [
                          0.1727281156
                        ],
                        "iteration": 272,
                        "passed_time": 3.665099707,
                        "remaining_time": 36.61072125,
                        "test": [
                          0.294484444
                        ]
                      },
                      {
                        "learn": [
                          0.1724009615
                        ],
                        "iteration": 273,
                        "passed_time": 3.681053253,
                        "remaining_time": 36.62244952,
                        "test": [
                          0.2943895094
                        ]
                      },
                      {
                        "learn": [
                          0.1719784685
                        ],
                        "iteration": 274,
                        "passed_time": 3.698165977,
                        "remaining_time": 36.64546286,
                        "test": [
                          0.2944471159
                        ]
                      },
                      {
                        "learn": [
                          0.1718047227
                        ],
                        "iteration": 275,
                        "passed_time": 3.709950272,
                        "remaining_time": 36.61559616,
                        "test": [
                          0.2943736723
                        ]
                      },
                      {
                        "learn": [
                          0.1714551442
                        ],
                        "iteration": 276,
                        "passed_time": 3.723535815,
                        "remaining_time": 36.60356688,
                        "test": [
                          0.2941888477
                        ]
                      },
                      {
                        "learn": [
                          0.1711778949
                        ],
                        "iteration": 277,
                        "passed_time": 3.736057371,
                        "remaining_time": 36.58110851,
                        "test": [
                          0.2942891935
                        ]
                      },
                      {
                        "learn": [
                          0.1708009435
                        ],
                        "iteration": 278,
                        "passed_time": 3.748029697,
                        "remaining_time": 36.5533649,
                        "test": [
                          0.2943786334
                        ]
                      },
                      {
                        "learn": [
                          0.1703060568
                        ],
                        "iteration": 279,
                        "passed_time": 3.760336995,
                        "remaining_time": 36.52898795,
                        "test": [
                          0.2941494379
                        ]
                      },
                      {
                        "learn": [
                          0.169874208
                        ],
                        "iteration": 280,
                        "passed_time": 3.772374173,
                        "remaining_time": 36.50208319,
                        "test": [
                          0.2940141725
                        ]
                      },
                      {
                        "learn": [
                          0.1695186107
                        ],
                        "iteration": 281,
                        "passed_time": 3.7845195,
                        "remaining_time": 36.47632624,
                        "test": [
                          0.2941027747
                        ]
                      },
                      {
                        "learn": [
                          0.1690085132
                        ],
                        "iteration": 282,
                        "passed_time": 3.797124431,
                        "remaining_time": 36.45507802,
                        "test": [
                          0.2936341623
                        ]
                      },
                      {
                        "learn": [
                          0.1683638227
                        ],
                        "iteration": 283,
                        "passed_time": 3.80990817,
                        "remaining_time": 36.43560066,
                        "test": [
                          0.2937325372
                        ]
                      },
                      {
                        "learn": [
                          0.1680653089
                        ],
                        "iteration": 284,
                        "passed_time": 3.822919178,
                        "remaining_time": 36.41833533,
                        "test": [
                          0.2939986311
                        ]
                      },
                      {
                        "learn": [
                          0.1677778253
                        ],
                        "iteration": 285,
                        "passed_time": 3.835046051,
                        "remaining_time": 36.39270973,
                        "test": [
                          0.2939334558
                        ]
                      },
                      {
                        "learn": [
                          0.1674020533
                        ],
                        "iteration": 286,
                        "passed_time": 3.847606885,
                        "remaining_time": 36.37128041,
                        "test": [
                          0.2935680933
                        ]
                      },
                      {
                        "learn": [
                          0.1669985851
                        ],
                        "iteration": 287,
                        "passed_time": 3.861421487,
                        "remaining_time": 36.36171901,
                        "test": [
                          0.293523646
                        ]
                      },
                      {
                        "learn": [
                          0.1667762251
                        ],
                        "iteration": 288,
                        "passed_time": 3.873456495,
                        "remaining_time": 36.33543446,
                        "test": [
                          0.2934791096
                        ]
                      },
                      {
                        "learn": [
                          0.1664697427
                        ],
                        "iteration": 289,
                        "passed_time": 3.885512377,
                        "remaining_time": 36.30944325,
                        "test": [
                          0.2935802767
                        ]
                      },
                      {
                        "learn": [
                          0.1661885043
                        ],
                        "iteration": 290,
                        "passed_time": 3.897538753,
                        "remaining_time": 36.28327313,
                        "test": [
                          0.2938853881
                        ]
                      },
                      {
                        "learn": [
                          0.1658402753
                        ],
                        "iteration": 291,
                        "passed_time": 3.909671862,
                        "remaining_time": 36.25818973,
                        "test": [
                          0.2938513201
                        ]
                      },
                      {
                        "learn": [
                          0.1655480631
                        ],
                        "iteration": 292,
                        "passed_time": 3.921916039,
                        "remaining_time": 36.23422088,
                        "test": [
                          0.2938769893
                        ]
                      },
                      {
                        "learn": [
                          0.1652377496
                        ],
                        "iteration": 293,
                        "passed_time": 3.934360225,
                        "remaining_time": 36.21217269,
                        "test": [
                          0.2939041889
                        ]
                      },
                      {
                        "learn": [
                          0.1649480188
                        ],
                        "iteration": 294,
                        "passed_time": 3.946117274,
                        "remaining_time": 36.1838889,
                        "test": [
                          0.2939627445
                        ]
                      },
                      {
                        "learn": [
                          0.1646921529
                        ],
                        "iteration": 295,
                        "passed_time": 3.957877664,
                        "remaining_time": 36.15574731,
                        "test": [
                          0.2940420004
                        ]
                      },
                      {
                        "learn": [
                          0.1642966469
                        ],
                        "iteration": 296,
                        "passed_time": 3.970173122,
                        "remaining_time": 36.13258569,
                        "test": [
                          0.2941131407
                        ]
                      },
                      {
                        "learn": [
                          0.163920346
                        ],
                        "iteration": 297,
                        "passed_time": 3.994173971,
                        "remaining_time": 36.21563111,
                        "test": [
                          0.2941432561
                        ]
                      },
                      {
                        "learn": [
                          0.1635300802
                        ],
                        "iteration": 298,
                        "passed_time": 4.014586208,
                        "remaining_time": 36.26554296,
                        "test": [
                          0.294055988
                        ]
                      },
                      {
                        "learn": [
                          0.1632236754
                        ],
                        "iteration": 299,
                        "passed_time": 4.026837817,
                        "remaining_time": 36.24154036,
                        "test": [
                          0.2939885478
                        ]
                      },
                      {
                        "learn": [
                          0.1628750871
                        ],
                        "iteration": 300,
                        "passed_time": 4.038868678,
                        "remaining_time": 36.21563642,
                        "test": [
                          0.2941726928
                        ]
                      },
                      {
                        "learn": [
                          0.1624523789
                        ],
                        "iteration": 301,
                        "passed_time": 4.051268632,
                        "remaining_time": 36.19312175,
                        "test": [
                          0.2945471352
                        ]
                      },
                      {
                        "learn": [
                          0.1622577248
                        ],
                        "iteration": 302,
                        "passed_time": 4.06360208,
                        "remaining_time": 36.17008188,
                        "test": [
                          0.2944134589
                        ]
                      },
                      {
                        "learn": [
                          0.1618760918
                        ],
                        "iteration": 303,
                        "passed_time": 4.075948706,
                        "remaining_time": 36.14722932,
                        "test": [
                          0.2943662524
                        ]
                      },
                      {
                        "learn": [
                          0.1616016358
                        ],
                        "iteration": 304,
                        "passed_time": 4.088181723,
                        "remaining_time": 36.12344178,
                        "test": [
                          0.2943439744
                        ]
                      },
                      {
                        "learn": [
                          0.1614610933
                        ],
                        "iteration": 305,
                        "passed_time": 4.10035432,
                        "remaining_time": 36.09919784,
                        "test": [
                          0.2941977123
                        ]
                      },
                      {
                        "learn": [
                          0.1608203034
                        ],
                        "iteration": 306,
                        "passed_time": 4.11274855,
                        "remaining_time": 36.07697669,
                        "test": [
                          0.2941233086
                        ]
                      },
                      {
                        "learn": [
                          0.1604867129
                        ],
                        "iteration": 307,
                        "passed_time": 4.125040432,
                        "remaining_time": 36.05392482,
                        "test": [
                          0.2936562237
                        ]
                      },
                      {
                        "learn": [
                          0.160294582
                        ],
                        "iteration": 308,
                        "passed_time": 4.137539069,
                        "remaining_time": 36.03274316,
                        "test": [
                          0.2938587618
                        ]
                      },
                      {
                        "learn": [
                          0.1598832062
                        ],
                        "iteration": 309,
                        "passed_time": 4.149747786,
                        "remaining_time": 36.00910176,
                        "test": [
                          0.293989722
                        ]
                      },
                      {
                        "learn": [
                          0.1591777742
                        ],
                        "iteration": 310,
                        "passed_time": 4.161970457,
                        "remaining_time": 35.98565453,
                        "test": [
                          0.2939979417
                        ]
                      },
                      {
                        "learn": [
                          0.1589919492
                        ],
                        "iteration": 311,
                        "passed_time": 4.180199376,
                        "remaining_time": 36.01402539,
                        "test": [
                          0.2940212475
                        ]
                      },
                      {
                        "learn": [
                          0.1586475602
                        ],
                        "iteration": 312,
                        "passed_time": 4.192190891,
                        "remaining_time": 35.98855248,
                        "test": [
                          0.2940070088
                        ]
                      },
                      {
                        "learn": [
                          0.1584316391
                        ],
                        "iteration": 313,
                        "passed_time": 4.20315512,
                        "remaining_time": 35.95437788,
                        "test": [
                          0.2940111529
                        ]
                      },
                      {
                        "learn": [
                          0.1580218948
                        ],
                        "iteration": 314,
                        "passed_time": 4.214027832,
                        "remaining_time": 35.91957056,
                        "test": [
                          0.2941137951
                        ]
                      },
                      {
                        "learn": [
                          0.1577876264
                        ],
                        "iteration": 315,
                        "passed_time": 4.225495789,
                        "remaining_time": 35.88997057,
                        "test": [
                          0.2940506859
                        ]
                      },
                      {
                        "learn": [
                          0.1575127562
                        ],
                        "iteration": 316,
                        "passed_time": 4.236431998,
                        "remaining_time": 35.85598439,
                        "test": [
                          0.2944424989
                        ]
                      },
                      {
                        "learn": [
                          0.1570750698
                        ],
                        "iteration": 317,
                        "passed_time": 4.250324807,
                        "remaining_time": 35.84707903,
                        "test": [
                          0.2946156401
                        ]
                      },
                      {
                        "learn": [
                          0.1567328156
                        ],
                        "iteration": 318,
                        "passed_time": 4.261340014,
                        "remaining_time": 35.81395793,
                        "test": [
                          0.294593784
                        ]
                      },
                      {
                        "learn": [
                          0.156251865
                        ],
                        "iteration": 319,
                        "passed_time": 4.271994762,
                        "remaining_time": 35.77795613,
                        "test": [
                          0.2946579396
                        ]
                      },
                      {
                        "learn": [
                          0.1559171703
                        ],
                        "iteration": 320,
                        "passed_time": 4.282995549,
                        "remaining_time": 35.74500024,
                        "test": [
                          0.2944300938
                        ]
                      },
                      {
                        "learn": [
                          0.1555914268
                        ],
                        "iteration": 321,
                        "passed_time": 4.293957841,
                        "remaining_time": 35.71186056,
                        "test": [
                          0.2944126256
                        ]
                      }
                    ],
                    "meta": {
                      "test_sets": [
                        "test"
                      ],
                      "test_metrics": [
                        {
                          "best_value": "Min",
                          "name": "MultiClass"
                        }
                      ],
                      "learn_metrics": [
                        {
                          "best_value": "Min",
                          "name": "MultiClass"
                        }
                      ],
                      "launch_mode": "Train",
                      "parameters": "",
                      "iteration_count": 3000,
                      "learn_sets": [
                        "learn"
                      ],
                      "name": "experiment"
                    }
                  }
                }
              }
            },
            "layout": "IPY_MODEL_95714965aa824b51a0bad02a92af608c"
          }
        }
      }
    }
  },
  "nbformat": 4,
  "nbformat_minor": 0
}