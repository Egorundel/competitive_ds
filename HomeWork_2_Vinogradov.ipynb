{
  "cells": [
    {
      "cell_type": "markdown",
      "metadata": {
        "id": "_Yx1Mi7abuht"
      },
      "source": [
        "# План домашних заданий"
      ]
    },
    {
      "cell_type": "markdown",
      "source": [
        "\n",
        "- Описание задачи и знакомство с данными\n",
        "- Домашнее задание 1. Генерация и фильтрация признаков\n",
        "- Домашнее задание 2. Прогноз времени и вида поломки машин, настройка ML-модели\n",
        "- Дополнительное задание. Визуализация прогнозов, ошибок модели и важности признаков\n",
        "- Домашнее задание 3. Оптимизация. Тюнинг гиперпараметров с помощью `Optuna`\n",
        "- Домашнее задание 4. Блендинг\n",
        "- Домашнее задание 5. Парсинг внешних данных и оптимизация памяти\n",
        "- Отправка финального решения на лидерборд на Kaggle"
      ],
      "metadata": {
        "id": "_HK3X8tveQhH"
      }
    },
    {
      "cell_type": "code",
      "execution_count": 1,
      "metadata": {
        "tags": [],
        "id": "cfomgq3Sbuht"
      },
      "outputs": [],
      "source": [
        "import pandas as pd\n",
        "import numpy as np\n",
        "import matplotlib.pyplot as plt\n",
        "import seaborn as sns\n",
        "import sklearn"
      ]
    },
    {
      "cell_type": "markdown",
      "metadata": {
        "id": "fkeIBE5Kbuht"
      },
      "source": [
        "# <center id=\"part0\"> Описание задачи"
      ]
    },
    {
      "cell_type": "markdown",
      "metadata": {
        "id": "MKmknPZbbuht"
      },
      "source": [
        "**Предыстория:**  мы работаем с каршеринговой компанией, которая управляет крупным автопарком машин. Наша цель — предотвратить длительные периоды простоя машин из-за поломок через своевременное обслуживание и ремонт.\n",
        "\n",
        "\n",
        "**Идея для решения проблемы:** создать приоритизированный список обхода машин. Этот список поможет технической бригаде сосредоточиться на автомобилях, которые наиболее вероятно выйдут из строя в ближайшее время.\n",
        "\n",
        "\n",
        "**Как компания решает задачу:**\n",
        "\n",
        "* Собирает данные о поездках и состоянии машин до поломок.\n",
        "\n",
        "* Нанимает Data Scientist, чтобы он смог использовать эти данные для анализа и прогнозирования характера поломок.\n",
        "\n",
        "**Важный момент**: задачи этого специалиста (Data Scientist) предстоит выполнять вам."
      ]
    },
    {
      "cell_type": "markdown",
      "metadata": {
        "id": "-VMB1MVpbuhu"
      },
      "source": [
        "## <center> Знакомство с данными"
      ]
    },
    {
      "cell_type": "markdown",
      "metadata": {
        "id": "TtZE_Frrbuhu"
      },
      "source": [
        "### Информация про машины с таргетом (основной датасет)"
      ]
    },
    {
      "cell_type": "code",
      "execution_count": 2,
      "metadata": {
        "tags": [],
        "id": "DhA6zYqebuhu",
        "outputId": "bbe2db9c-dc88-45f7-edd2-a646806f594a",
        "colab": {
          "base_uri": "https://localhost:8080/",
          "height": 206
        }
      },
      "outputs": [
        {
          "output_type": "execute_result",
          "data": {
            "text/plain": [
              "          car_id            model  car_type fuel_type  car_rating  \\\n",
              "1770  w-1727439L    MINI CooperSE  business   electro        4.32   \n",
              "233   K12580160n     Kia Sportage  standart    petrol        4.08   \n",
              "715   n12377024x    Smart ForFour   economy    petrol        4.02   \n",
              "1976  t16782318O  Renault Sandero  standart    petrol        3.34   \n",
              "2050  r15504196O      Smart Coupe   economy    petrol        4.38   \n",
              "\n",
              "      year_to_start  riders  year_to_work  target_reg     target_class  \n",
              "1770           2011    7708          2019       99.72      another_bug  \n",
              "233            2014   66550          2021       33.83       gear_stick  \n",
              "715            2017  129629          2020       43.95      electro_bug  \n",
              "1976           2015   94932          2015       33.44  engine_overheat  \n",
              "2050           2017  128424          2015       26.89        break_bug  "
            ],
            "text/html": [
              "\n",
              "  <div id=\"df-68cd1344-70d0-43e3-bba8-557f65104d1d\" class=\"colab-df-container\">\n",
              "    <div>\n",
              "<style scoped>\n",
              "    .dataframe tbody tr th:only-of-type {\n",
              "        vertical-align: middle;\n",
              "    }\n",
              "\n",
              "    .dataframe tbody tr th {\n",
              "        vertical-align: top;\n",
              "    }\n",
              "\n",
              "    .dataframe thead th {\n",
              "        text-align: right;\n",
              "    }\n",
              "</style>\n",
              "<table border=\"1\" class=\"dataframe\">\n",
              "  <thead>\n",
              "    <tr style=\"text-align: right;\">\n",
              "      <th></th>\n",
              "      <th>car_id</th>\n",
              "      <th>model</th>\n",
              "      <th>car_type</th>\n",
              "      <th>fuel_type</th>\n",
              "      <th>car_rating</th>\n",
              "      <th>year_to_start</th>\n",
              "      <th>riders</th>\n",
              "      <th>year_to_work</th>\n",
              "      <th>target_reg</th>\n",
              "      <th>target_class</th>\n",
              "    </tr>\n",
              "  </thead>\n",
              "  <tbody>\n",
              "    <tr>\n",
              "      <th>1770</th>\n",
              "      <td>w-1727439L</td>\n",
              "      <td>MINI CooperSE</td>\n",
              "      <td>business</td>\n",
              "      <td>electro</td>\n",
              "      <td>4.32</td>\n",
              "      <td>2011</td>\n",
              "      <td>7708</td>\n",
              "      <td>2019</td>\n",
              "      <td>99.72</td>\n",
              "      <td>another_bug</td>\n",
              "    </tr>\n",
              "    <tr>\n",
              "      <th>233</th>\n",
              "      <td>K12580160n</td>\n",
              "      <td>Kia Sportage</td>\n",
              "      <td>standart</td>\n",
              "      <td>petrol</td>\n",
              "      <td>4.08</td>\n",
              "      <td>2014</td>\n",
              "      <td>66550</td>\n",
              "      <td>2021</td>\n",
              "      <td>33.83</td>\n",
              "      <td>gear_stick</td>\n",
              "    </tr>\n",
              "    <tr>\n",
              "      <th>715</th>\n",
              "      <td>n12377024x</td>\n",
              "      <td>Smart ForFour</td>\n",
              "      <td>economy</td>\n",
              "      <td>petrol</td>\n",
              "      <td>4.02</td>\n",
              "      <td>2017</td>\n",
              "      <td>129629</td>\n",
              "      <td>2020</td>\n",
              "      <td>43.95</td>\n",
              "      <td>electro_bug</td>\n",
              "    </tr>\n",
              "    <tr>\n",
              "      <th>1976</th>\n",
              "      <td>t16782318O</td>\n",
              "      <td>Renault Sandero</td>\n",
              "      <td>standart</td>\n",
              "      <td>petrol</td>\n",
              "      <td>3.34</td>\n",
              "      <td>2015</td>\n",
              "      <td>94932</td>\n",
              "      <td>2015</td>\n",
              "      <td>33.44</td>\n",
              "      <td>engine_overheat</td>\n",
              "    </tr>\n",
              "    <tr>\n",
              "      <th>2050</th>\n",
              "      <td>r15504196O</td>\n",
              "      <td>Smart Coupe</td>\n",
              "      <td>economy</td>\n",
              "      <td>petrol</td>\n",
              "      <td>4.38</td>\n",
              "      <td>2017</td>\n",
              "      <td>128424</td>\n",
              "      <td>2015</td>\n",
              "      <td>26.89</td>\n",
              "      <td>break_bug</td>\n",
              "    </tr>\n",
              "  </tbody>\n",
              "</table>\n",
              "</div>\n",
              "    <div class=\"colab-df-buttons\">\n",
              "\n",
              "  <div class=\"colab-df-container\">\n",
              "    <button class=\"colab-df-convert\" onclick=\"convertToInteractive('df-68cd1344-70d0-43e3-bba8-557f65104d1d')\"\n",
              "            title=\"Convert this dataframe to an interactive table.\"\n",
              "            style=\"display:none;\">\n",
              "\n",
              "  <svg xmlns=\"http://www.w3.org/2000/svg\" height=\"24px\" viewBox=\"0 -960 960 960\">\n",
              "    <path d=\"M120-120v-720h720v720H120Zm60-500h600v-160H180v160Zm220 220h160v-160H400v160Zm0 220h160v-160H400v160ZM180-400h160v-160H180v160Zm440 0h160v-160H620v160ZM180-180h160v-160H180v160Zm440 0h160v-160H620v160Z\"/>\n",
              "  </svg>\n",
              "    </button>\n",
              "\n",
              "  <style>\n",
              "    .colab-df-container {\n",
              "      display:flex;\n",
              "      gap: 12px;\n",
              "    }\n",
              "\n",
              "    .colab-df-convert {\n",
              "      background-color: #E8F0FE;\n",
              "      border: none;\n",
              "      border-radius: 50%;\n",
              "      cursor: pointer;\n",
              "      display: none;\n",
              "      fill: #1967D2;\n",
              "      height: 32px;\n",
              "      padding: 0 0 0 0;\n",
              "      width: 32px;\n",
              "    }\n",
              "\n",
              "    .colab-df-convert:hover {\n",
              "      background-color: #E2EBFA;\n",
              "      box-shadow: 0px 1px 2px rgba(60, 64, 67, 0.3), 0px 1px 3px 1px rgba(60, 64, 67, 0.15);\n",
              "      fill: #174EA6;\n",
              "    }\n",
              "\n",
              "    .colab-df-buttons div {\n",
              "      margin-bottom: 4px;\n",
              "    }\n",
              "\n",
              "    [theme=dark] .colab-df-convert {\n",
              "      background-color: #3B4455;\n",
              "      fill: #D2E3FC;\n",
              "    }\n",
              "\n",
              "    [theme=dark] .colab-df-convert:hover {\n",
              "      background-color: #434B5C;\n",
              "      box-shadow: 0px 1px 3px 1px rgba(0, 0, 0, 0.15);\n",
              "      filter: drop-shadow(0px 1px 2px rgba(0, 0, 0, 0.3));\n",
              "      fill: #FFFFFF;\n",
              "    }\n",
              "  </style>\n",
              "\n",
              "    <script>\n",
              "      const buttonEl =\n",
              "        document.querySelector('#df-68cd1344-70d0-43e3-bba8-557f65104d1d button.colab-df-convert');\n",
              "      buttonEl.style.display =\n",
              "        google.colab.kernel.accessAllowed ? 'block' : 'none';\n",
              "\n",
              "      async function convertToInteractive(key) {\n",
              "        const element = document.querySelector('#df-68cd1344-70d0-43e3-bba8-557f65104d1d');\n",
              "        const dataTable =\n",
              "          await google.colab.kernel.invokeFunction('convertToInteractive',\n",
              "                                                    [key], {});\n",
              "        if (!dataTable) return;\n",
              "\n",
              "        const docLinkHtml = 'Like what you see? Visit the ' +\n",
              "          '<a target=\"_blank\" href=https://colab.research.google.com/notebooks/data_table.ipynb>data table notebook</a>'\n",
              "          + ' to learn more about interactive tables.';\n",
              "        element.innerHTML = '';\n",
              "        dataTable['output_type'] = 'display_data';\n",
              "        await google.colab.output.renderOutput(dataTable, element);\n",
              "        const docLink = document.createElement('div');\n",
              "        docLink.innerHTML = docLinkHtml;\n",
              "        element.appendChild(docLink);\n",
              "      }\n",
              "    </script>\n",
              "  </div>\n",
              "\n",
              "\n",
              "<div id=\"df-dc90a3a7-4aa0-483f-b775-bf0f7892fb8d\">\n",
              "  <button class=\"colab-df-quickchart\" onclick=\"quickchart('df-dc90a3a7-4aa0-483f-b775-bf0f7892fb8d')\"\n",
              "            title=\"Suggest charts\"\n",
              "            style=\"display:none;\">\n",
              "\n",
              "<svg xmlns=\"http://www.w3.org/2000/svg\" height=\"24px\"viewBox=\"0 0 24 24\"\n",
              "     width=\"24px\">\n",
              "    <g>\n",
              "        <path d=\"M19 3H5c-1.1 0-2 .9-2 2v14c0 1.1.9 2 2 2h14c1.1 0 2-.9 2-2V5c0-1.1-.9-2-2-2zM9 17H7v-7h2v7zm4 0h-2V7h2v10zm4 0h-2v-4h2v4z\"/>\n",
              "    </g>\n",
              "</svg>\n",
              "  </button>\n",
              "\n",
              "<style>\n",
              "  .colab-df-quickchart {\n",
              "      --bg-color: #E8F0FE;\n",
              "      --fill-color: #1967D2;\n",
              "      --hover-bg-color: #E2EBFA;\n",
              "      --hover-fill-color: #174EA6;\n",
              "      --disabled-fill-color: #AAA;\n",
              "      --disabled-bg-color: #DDD;\n",
              "  }\n",
              "\n",
              "  [theme=dark] .colab-df-quickchart {\n",
              "      --bg-color: #3B4455;\n",
              "      --fill-color: #D2E3FC;\n",
              "      --hover-bg-color: #434B5C;\n",
              "      --hover-fill-color: #FFFFFF;\n",
              "      --disabled-bg-color: #3B4455;\n",
              "      --disabled-fill-color: #666;\n",
              "  }\n",
              "\n",
              "  .colab-df-quickchart {\n",
              "    background-color: var(--bg-color);\n",
              "    border: none;\n",
              "    border-radius: 50%;\n",
              "    cursor: pointer;\n",
              "    display: none;\n",
              "    fill: var(--fill-color);\n",
              "    height: 32px;\n",
              "    padding: 0;\n",
              "    width: 32px;\n",
              "  }\n",
              "\n",
              "  .colab-df-quickchart:hover {\n",
              "    background-color: var(--hover-bg-color);\n",
              "    box-shadow: 0 1px 2px rgba(60, 64, 67, 0.3), 0 1px 3px 1px rgba(60, 64, 67, 0.15);\n",
              "    fill: var(--button-hover-fill-color);\n",
              "  }\n",
              "\n",
              "  .colab-df-quickchart-complete:disabled,\n",
              "  .colab-df-quickchart-complete:disabled:hover {\n",
              "    background-color: var(--disabled-bg-color);\n",
              "    fill: var(--disabled-fill-color);\n",
              "    box-shadow: none;\n",
              "  }\n",
              "\n",
              "  .colab-df-spinner {\n",
              "    border: 2px solid var(--fill-color);\n",
              "    border-color: transparent;\n",
              "    border-bottom-color: var(--fill-color);\n",
              "    animation:\n",
              "      spin 1s steps(1) infinite;\n",
              "  }\n",
              "\n",
              "  @keyframes spin {\n",
              "    0% {\n",
              "      border-color: transparent;\n",
              "      border-bottom-color: var(--fill-color);\n",
              "      border-left-color: var(--fill-color);\n",
              "    }\n",
              "    20% {\n",
              "      border-color: transparent;\n",
              "      border-left-color: var(--fill-color);\n",
              "      border-top-color: var(--fill-color);\n",
              "    }\n",
              "    30% {\n",
              "      border-color: transparent;\n",
              "      border-left-color: var(--fill-color);\n",
              "      border-top-color: var(--fill-color);\n",
              "      border-right-color: var(--fill-color);\n",
              "    }\n",
              "    40% {\n",
              "      border-color: transparent;\n",
              "      border-right-color: var(--fill-color);\n",
              "      border-top-color: var(--fill-color);\n",
              "    }\n",
              "    60% {\n",
              "      border-color: transparent;\n",
              "      border-right-color: var(--fill-color);\n",
              "    }\n",
              "    80% {\n",
              "      border-color: transparent;\n",
              "      border-right-color: var(--fill-color);\n",
              "      border-bottom-color: var(--fill-color);\n",
              "    }\n",
              "    90% {\n",
              "      border-color: transparent;\n",
              "      border-bottom-color: var(--fill-color);\n",
              "    }\n",
              "  }\n",
              "</style>\n",
              "\n",
              "  <script>\n",
              "    async function quickchart(key) {\n",
              "      const quickchartButtonEl =\n",
              "        document.querySelector('#' + key + ' button');\n",
              "      quickchartButtonEl.disabled = true;  // To prevent multiple clicks.\n",
              "      quickchartButtonEl.classList.add('colab-df-spinner');\n",
              "      try {\n",
              "        const charts = await google.colab.kernel.invokeFunction(\n",
              "            'suggestCharts', [key], {});\n",
              "      } catch (error) {\n",
              "        console.error('Error during call to suggestCharts:', error);\n",
              "      }\n",
              "      quickchartButtonEl.classList.remove('colab-df-spinner');\n",
              "      quickchartButtonEl.classList.add('colab-df-quickchart-complete');\n",
              "    }\n",
              "    (() => {\n",
              "      let quickchartButtonEl =\n",
              "        document.querySelector('#df-dc90a3a7-4aa0-483f-b775-bf0f7892fb8d button');\n",
              "      quickchartButtonEl.style.display =\n",
              "        google.colab.kernel.accessAllowed ? 'block' : 'none';\n",
              "    })();\n",
              "  </script>\n",
              "</div>\n",
              "    </div>\n",
              "  </div>\n"
            ],
            "application/vnd.google.colaboratory.intrinsic+json": {
              "type": "dataframe",
              "summary": "{\n  \"name\": \"car_train\",\n  \"rows\": 5,\n  \"fields\": [\n    {\n      \"column\": \"car_id\",\n      \"properties\": {\n        \"dtype\": \"string\",\n        \"num_unique_values\": 5,\n        \"samples\": [\n          \"K12580160n\",\n          \"r15504196O\",\n          \"n12377024x\"\n        ],\n        \"semantic_type\": \"\",\n        \"description\": \"\"\n      }\n    },\n    {\n      \"column\": \"model\",\n      \"properties\": {\n        \"dtype\": \"string\",\n        \"num_unique_values\": 5,\n        \"samples\": [\n          \"Kia Sportage\",\n          \"Smart Coupe\",\n          \"Smart ForFour\"\n        ],\n        \"semantic_type\": \"\",\n        \"description\": \"\"\n      }\n    },\n    {\n      \"column\": \"car_type\",\n      \"properties\": {\n        \"dtype\": \"string\",\n        \"num_unique_values\": 3,\n        \"samples\": [\n          \"business\",\n          \"standart\",\n          \"economy\"\n        ],\n        \"semantic_type\": \"\",\n        \"description\": \"\"\n      }\n    },\n    {\n      \"column\": \"fuel_type\",\n      \"properties\": {\n        \"dtype\": \"category\",\n        \"num_unique_values\": 2,\n        \"samples\": [\n          \"petrol\",\n          \"electro\"\n        ],\n        \"semantic_type\": \"\",\n        \"description\": \"\"\n      }\n    },\n    {\n      \"column\": \"car_rating\",\n      \"properties\": {\n        \"dtype\": \"number\",\n        \"std\": 0.4139082023830889,\n        \"min\": 3.34,\n        \"max\": 4.38,\n        \"num_unique_values\": 5,\n        \"samples\": [\n          4.08,\n          4.38\n        ],\n        \"semantic_type\": \"\",\n        \"description\": \"\"\n      }\n    },\n    {\n      \"column\": \"year_to_start\",\n      \"properties\": {\n        \"dtype\": \"number\",\n        \"std\": 2,\n        \"min\": 2011,\n        \"max\": 2017,\n        \"num_unique_values\": 4,\n        \"samples\": [\n          2014,\n          2015\n        ],\n        \"semantic_type\": \"\",\n        \"description\": \"\"\n      }\n    },\n    {\n      \"column\": \"riders\",\n      \"properties\": {\n        \"dtype\": \"number\",\n        \"std\": 50718,\n        \"min\": 7708,\n        \"max\": 129629,\n        \"num_unique_values\": 5,\n        \"samples\": [\n          66550,\n          128424\n        ],\n        \"semantic_type\": \"\",\n        \"description\": \"\"\n      }\n    },\n    {\n      \"column\": \"year_to_work\",\n      \"properties\": {\n        \"dtype\": \"number\",\n        \"std\": 2,\n        \"min\": 2015,\n        \"max\": 2021,\n        \"num_unique_values\": 4,\n        \"samples\": [\n          2021,\n          2015\n        ],\n        \"semantic_type\": \"\",\n        \"description\": \"\"\n      }\n    },\n    {\n      \"column\": \"target_reg\",\n      \"properties\": {\n        \"dtype\": \"number\",\n        \"std\": 29.786044215370392,\n        \"min\": 26.89,\n        \"max\": 99.72,\n        \"num_unique_values\": 5,\n        \"samples\": [\n          33.83,\n          26.89\n        ],\n        \"semantic_type\": \"\",\n        \"description\": \"\"\n      }\n    },\n    {\n      \"column\": \"target_class\",\n      \"properties\": {\n        \"dtype\": \"string\",\n        \"num_unique_values\": 5,\n        \"samples\": [\n          \"gear_stick\",\n          \"break_bug\"\n        ],\n        \"semantic_type\": \"\",\n        \"description\": \"\"\n      }\n    }\n  ]\n}"
            }
          },
          "metadata": {},
          "execution_count": 2
        }
      ],
      "source": [
        "car_train = pd.read_csv('https://raw.githubusercontent.com/a-milenkin/Competitive_Data_Science/main/data/car_train.csv')\n",
        "car_train.sample(5)"
      ]
    },
    {
      "cell_type": "markdown",
      "metadata": {
        "id": "AWvQSnafbuhu"
      },
      "source": [
        "- `car_id` — идентификатор машины\n",
        "- `model` / `car_type` / `fuel_type` — марка, класс и тип топлива машины\n",
        "- `car_rating` / `riders` — общий рейтинг и общее число поездок к концу 2021 года\n",
        "- `year_to_start` / `year_to_work` — год выпуска машины и год начала работы в автопарке\n",
        "- `target_reg` — количество дней до поломки\n",
        "- `target_class` — класс поломки (всего 9 видов)"
      ]
    },
    {
      "cell_type": "markdown",
      "metadata": {
        "id": "6KWf2LgObuhu"
      },
      "source": [
        "### Информация про поездки"
      ]
    },
    {
      "cell_type": "code",
      "execution_count": 3,
      "metadata": {
        "tags": [],
        "id": "pDc5gXzbbuhu",
        "outputId": "ff694a87-ba6c-4926-fcbe-3b9f7d3625da",
        "colab": {
          "base_uri": "https://localhost:8080/",
          "height": 206
        }
      },
      "outputs": [
        {
          "output_type": "execute_result",
          "data": {
            "text/plain": [
              "           user_id      car_id ride_id   ride_date  rating  ride_duration  \\\n",
              "34317   H19867298o  C-1990447o     m1V  2020-01-22    4.71             46   \n",
              "454129  U11855468Q  g-1222874V     r1j  2020-03-27    1.36             28   \n",
              "479150  U12851290m  h22481365A     M1F  2020-03-09    5.54             19   \n",
              "726101  I21409966p  z-1514384W     y1W  2020-04-01    7.88             49   \n",
              "584216  P19383988H  p-7909067P     h1W  2020-02-22   10.00             24   \n",
              "\n",
              "        ride_cost  speed_avg   speed_max  stop_times     distance  refueling  \\\n",
              "34317         363         34   70.000000           1   704.926689          0   \n",
              "454129        218         40   74.569665           0  1164.227906          0   \n",
              "479150        204         88  115.624997           0  1701.209419          0   \n",
              "726101        583         48   58.000000           0  2167.873653          0   \n",
              "584216        210         54   86.000000           3  1319.842492          0   \n",
              "\n",
              "        user_ride_quality  deviation_normal  \n",
              "34317            9.923737            11.198  \n",
              "454129          -3.398029            46.954  \n",
              "479150          19.525670           -15.758  \n",
              "726101           4.342975             8.706  \n",
              "584216           2.290393             1.919  "
            ],
            "text/html": [
              "\n",
              "  <div id=\"df-5b556ee3-d306-4f3d-9c54-eaedc69138b6\" class=\"colab-df-container\">\n",
              "    <div>\n",
              "<style scoped>\n",
              "    .dataframe tbody tr th:only-of-type {\n",
              "        vertical-align: middle;\n",
              "    }\n",
              "\n",
              "    .dataframe tbody tr th {\n",
              "        vertical-align: top;\n",
              "    }\n",
              "\n",
              "    .dataframe thead th {\n",
              "        text-align: right;\n",
              "    }\n",
              "</style>\n",
              "<table border=\"1\" class=\"dataframe\">\n",
              "  <thead>\n",
              "    <tr style=\"text-align: right;\">\n",
              "      <th></th>\n",
              "      <th>user_id</th>\n",
              "      <th>car_id</th>\n",
              "      <th>ride_id</th>\n",
              "      <th>ride_date</th>\n",
              "      <th>rating</th>\n",
              "      <th>ride_duration</th>\n",
              "      <th>ride_cost</th>\n",
              "      <th>speed_avg</th>\n",
              "      <th>speed_max</th>\n",
              "      <th>stop_times</th>\n",
              "      <th>distance</th>\n",
              "      <th>refueling</th>\n",
              "      <th>user_ride_quality</th>\n",
              "      <th>deviation_normal</th>\n",
              "    </tr>\n",
              "  </thead>\n",
              "  <tbody>\n",
              "    <tr>\n",
              "      <th>34317</th>\n",
              "      <td>H19867298o</td>\n",
              "      <td>C-1990447o</td>\n",
              "      <td>m1V</td>\n",
              "      <td>2020-01-22</td>\n",
              "      <td>4.71</td>\n",
              "      <td>46</td>\n",
              "      <td>363</td>\n",
              "      <td>34</td>\n",
              "      <td>70.000000</td>\n",
              "      <td>1</td>\n",
              "      <td>704.926689</td>\n",
              "      <td>0</td>\n",
              "      <td>9.923737</td>\n",
              "      <td>11.198</td>\n",
              "    </tr>\n",
              "    <tr>\n",
              "      <th>454129</th>\n",
              "      <td>U11855468Q</td>\n",
              "      <td>g-1222874V</td>\n",
              "      <td>r1j</td>\n",
              "      <td>2020-03-27</td>\n",
              "      <td>1.36</td>\n",
              "      <td>28</td>\n",
              "      <td>218</td>\n",
              "      <td>40</td>\n",
              "      <td>74.569665</td>\n",
              "      <td>0</td>\n",
              "      <td>1164.227906</td>\n",
              "      <td>0</td>\n",
              "      <td>-3.398029</td>\n",
              "      <td>46.954</td>\n",
              "    </tr>\n",
              "    <tr>\n",
              "      <th>479150</th>\n",
              "      <td>U12851290m</td>\n",
              "      <td>h22481365A</td>\n",
              "      <td>M1F</td>\n",
              "      <td>2020-03-09</td>\n",
              "      <td>5.54</td>\n",
              "      <td>19</td>\n",
              "      <td>204</td>\n",
              "      <td>88</td>\n",
              "      <td>115.624997</td>\n",
              "      <td>0</td>\n",
              "      <td>1701.209419</td>\n",
              "      <td>0</td>\n",
              "      <td>19.525670</td>\n",
              "      <td>-15.758</td>\n",
              "    </tr>\n",
              "    <tr>\n",
              "      <th>726101</th>\n",
              "      <td>I21409966p</td>\n",
              "      <td>z-1514384W</td>\n",
              "      <td>y1W</td>\n",
              "      <td>2020-04-01</td>\n",
              "      <td>7.88</td>\n",
              "      <td>49</td>\n",
              "      <td>583</td>\n",
              "      <td>48</td>\n",
              "      <td>58.000000</td>\n",
              "      <td>0</td>\n",
              "      <td>2167.873653</td>\n",
              "      <td>0</td>\n",
              "      <td>4.342975</td>\n",
              "      <td>8.706</td>\n",
              "    </tr>\n",
              "    <tr>\n",
              "      <th>584216</th>\n",
              "      <td>P19383988H</td>\n",
              "      <td>p-7909067P</td>\n",
              "      <td>h1W</td>\n",
              "      <td>2020-02-22</td>\n",
              "      <td>10.00</td>\n",
              "      <td>24</td>\n",
              "      <td>210</td>\n",
              "      <td>54</td>\n",
              "      <td>86.000000</td>\n",
              "      <td>3</td>\n",
              "      <td>1319.842492</td>\n",
              "      <td>0</td>\n",
              "      <td>2.290393</td>\n",
              "      <td>1.919</td>\n",
              "    </tr>\n",
              "  </tbody>\n",
              "</table>\n",
              "</div>\n",
              "    <div class=\"colab-df-buttons\">\n",
              "\n",
              "  <div class=\"colab-df-container\">\n",
              "    <button class=\"colab-df-convert\" onclick=\"convertToInteractive('df-5b556ee3-d306-4f3d-9c54-eaedc69138b6')\"\n",
              "            title=\"Convert this dataframe to an interactive table.\"\n",
              "            style=\"display:none;\">\n",
              "\n",
              "  <svg xmlns=\"http://www.w3.org/2000/svg\" height=\"24px\" viewBox=\"0 -960 960 960\">\n",
              "    <path d=\"M120-120v-720h720v720H120Zm60-500h600v-160H180v160Zm220 220h160v-160H400v160Zm0 220h160v-160H400v160ZM180-400h160v-160H180v160Zm440 0h160v-160H620v160ZM180-180h160v-160H180v160Zm440 0h160v-160H620v160Z\"/>\n",
              "  </svg>\n",
              "    </button>\n",
              "\n",
              "  <style>\n",
              "    .colab-df-container {\n",
              "      display:flex;\n",
              "      gap: 12px;\n",
              "    }\n",
              "\n",
              "    .colab-df-convert {\n",
              "      background-color: #E8F0FE;\n",
              "      border: none;\n",
              "      border-radius: 50%;\n",
              "      cursor: pointer;\n",
              "      display: none;\n",
              "      fill: #1967D2;\n",
              "      height: 32px;\n",
              "      padding: 0 0 0 0;\n",
              "      width: 32px;\n",
              "    }\n",
              "\n",
              "    .colab-df-convert:hover {\n",
              "      background-color: #E2EBFA;\n",
              "      box-shadow: 0px 1px 2px rgba(60, 64, 67, 0.3), 0px 1px 3px 1px rgba(60, 64, 67, 0.15);\n",
              "      fill: #174EA6;\n",
              "    }\n",
              "\n",
              "    .colab-df-buttons div {\n",
              "      margin-bottom: 4px;\n",
              "    }\n",
              "\n",
              "    [theme=dark] .colab-df-convert {\n",
              "      background-color: #3B4455;\n",
              "      fill: #D2E3FC;\n",
              "    }\n",
              "\n",
              "    [theme=dark] .colab-df-convert:hover {\n",
              "      background-color: #434B5C;\n",
              "      box-shadow: 0px 1px 3px 1px rgba(0, 0, 0, 0.15);\n",
              "      filter: drop-shadow(0px 1px 2px rgba(0, 0, 0, 0.3));\n",
              "      fill: #FFFFFF;\n",
              "    }\n",
              "  </style>\n",
              "\n",
              "    <script>\n",
              "      const buttonEl =\n",
              "        document.querySelector('#df-5b556ee3-d306-4f3d-9c54-eaedc69138b6 button.colab-df-convert');\n",
              "      buttonEl.style.display =\n",
              "        google.colab.kernel.accessAllowed ? 'block' : 'none';\n",
              "\n",
              "      async function convertToInteractive(key) {\n",
              "        const element = document.querySelector('#df-5b556ee3-d306-4f3d-9c54-eaedc69138b6');\n",
              "        const dataTable =\n",
              "          await google.colab.kernel.invokeFunction('convertToInteractive',\n",
              "                                                    [key], {});\n",
              "        if (!dataTable) return;\n",
              "\n",
              "        const docLinkHtml = 'Like what you see? Visit the ' +\n",
              "          '<a target=\"_blank\" href=https://colab.research.google.com/notebooks/data_table.ipynb>data table notebook</a>'\n",
              "          + ' to learn more about interactive tables.';\n",
              "        element.innerHTML = '';\n",
              "        dataTable['output_type'] = 'display_data';\n",
              "        await google.colab.output.renderOutput(dataTable, element);\n",
              "        const docLink = document.createElement('div');\n",
              "        docLink.innerHTML = docLinkHtml;\n",
              "        element.appendChild(docLink);\n",
              "      }\n",
              "    </script>\n",
              "  </div>\n",
              "\n",
              "\n",
              "<div id=\"df-b2c83010-f65d-4f5a-b889-4efb5de06f1f\">\n",
              "  <button class=\"colab-df-quickchart\" onclick=\"quickchart('df-b2c83010-f65d-4f5a-b889-4efb5de06f1f')\"\n",
              "            title=\"Suggest charts\"\n",
              "            style=\"display:none;\">\n",
              "\n",
              "<svg xmlns=\"http://www.w3.org/2000/svg\" height=\"24px\"viewBox=\"0 0 24 24\"\n",
              "     width=\"24px\">\n",
              "    <g>\n",
              "        <path d=\"M19 3H5c-1.1 0-2 .9-2 2v14c0 1.1.9 2 2 2h14c1.1 0 2-.9 2-2V5c0-1.1-.9-2-2-2zM9 17H7v-7h2v7zm4 0h-2V7h2v10zm4 0h-2v-4h2v4z\"/>\n",
              "    </g>\n",
              "</svg>\n",
              "  </button>\n",
              "\n",
              "<style>\n",
              "  .colab-df-quickchart {\n",
              "      --bg-color: #E8F0FE;\n",
              "      --fill-color: #1967D2;\n",
              "      --hover-bg-color: #E2EBFA;\n",
              "      --hover-fill-color: #174EA6;\n",
              "      --disabled-fill-color: #AAA;\n",
              "      --disabled-bg-color: #DDD;\n",
              "  }\n",
              "\n",
              "  [theme=dark] .colab-df-quickchart {\n",
              "      --bg-color: #3B4455;\n",
              "      --fill-color: #D2E3FC;\n",
              "      --hover-bg-color: #434B5C;\n",
              "      --hover-fill-color: #FFFFFF;\n",
              "      --disabled-bg-color: #3B4455;\n",
              "      --disabled-fill-color: #666;\n",
              "  }\n",
              "\n",
              "  .colab-df-quickchart {\n",
              "    background-color: var(--bg-color);\n",
              "    border: none;\n",
              "    border-radius: 50%;\n",
              "    cursor: pointer;\n",
              "    display: none;\n",
              "    fill: var(--fill-color);\n",
              "    height: 32px;\n",
              "    padding: 0;\n",
              "    width: 32px;\n",
              "  }\n",
              "\n",
              "  .colab-df-quickchart:hover {\n",
              "    background-color: var(--hover-bg-color);\n",
              "    box-shadow: 0 1px 2px rgba(60, 64, 67, 0.3), 0 1px 3px 1px rgba(60, 64, 67, 0.15);\n",
              "    fill: var(--button-hover-fill-color);\n",
              "  }\n",
              "\n",
              "  .colab-df-quickchart-complete:disabled,\n",
              "  .colab-df-quickchart-complete:disabled:hover {\n",
              "    background-color: var(--disabled-bg-color);\n",
              "    fill: var(--disabled-fill-color);\n",
              "    box-shadow: none;\n",
              "  }\n",
              "\n",
              "  .colab-df-spinner {\n",
              "    border: 2px solid var(--fill-color);\n",
              "    border-color: transparent;\n",
              "    border-bottom-color: var(--fill-color);\n",
              "    animation:\n",
              "      spin 1s steps(1) infinite;\n",
              "  }\n",
              "\n",
              "  @keyframes spin {\n",
              "    0% {\n",
              "      border-color: transparent;\n",
              "      border-bottom-color: var(--fill-color);\n",
              "      border-left-color: var(--fill-color);\n",
              "    }\n",
              "    20% {\n",
              "      border-color: transparent;\n",
              "      border-left-color: var(--fill-color);\n",
              "      border-top-color: var(--fill-color);\n",
              "    }\n",
              "    30% {\n",
              "      border-color: transparent;\n",
              "      border-left-color: var(--fill-color);\n",
              "      border-top-color: var(--fill-color);\n",
              "      border-right-color: var(--fill-color);\n",
              "    }\n",
              "    40% {\n",
              "      border-color: transparent;\n",
              "      border-right-color: var(--fill-color);\n",
              "      border-top-color: var(--fill-color);\n",
              "    }\n",
              "    60% {\n",
              "      border-color: transparent;\n",
              "      border-right-color: var(--fill-color);\n",
              "    }\n",
              "    80% {\n",
              "      border-color: transparent;\n",
              "      border-right-color: var(--fill-color);\n",
              "      border-bottom-color: var(--fill-color);\n",
              "    }\n",
              "    90% {\n",
              "      border-color: transparent;\n",
              "      border-bottom-color: var(--fill-color);\n",
              "    }\n",
              "  }\n",
              "</style>\n",
              "\n",
              "  <script>\n",
              "    async function quickchart(key) {\n",
              "      const quickchartButtonEl =\n",
              "        document.querySelector('#' + key + ' button');\n",
              "      quickchartButtonEl.disabled = true;  // To prevent multiple clicks.\n",
              "      quickchartButtonEl.classList.add('colab-df-spinner');\n",
              "      try {\n",
              "        const charts = await google.colab.kernel.invokeFunction(\n",
              "            'suggestCharts', [key], {});\n",
              "      } catch (error) {\n",
              "        console.error('Error during call to suggestCharts:', error);\n",
              "      }\n",
              "      quickchartButtonEl.classList.remove('colab-df-spinner');\n",
              "      quickchartButtonEl.classList.add('colab-df-quickchart-complete');\n",
              "    }\n",
              "    (() => {\n",
              "      let quickchartButtonEl =\n",
              "        document.querySelector('#df-b2c83010-f65d-4f5a-b889-4efb5de06f1f button');\n",
              "      quickchartButtonEl.style.display =\n",
              "        google.colab.kernel.accessAllowed ? 'block' : 'none';\n",
              "    })();\n",
              "  </script>\n",
              "</div>\n",
              "    </div>\n",
              "  </div>\n"
            ],
            "application/vnd.google.colaboratory.intrinsic+json": {
              "type": "dataframe",
              "repr_error": "0"
            }
          },
          "metadata": {},
          "execution_count": 3
        }
      ],
      "source": [
        "rides_info = pd.read_csv('https://raw.githubusercontent.com/a-milenkin/Competitive_Data_Science/main/data/rides_info.csv')\n",
        "rides_info.sample(5)"
      ]
    },
    {
      "cell_type": "markdown",
      "metadata": {
        "id": "ZAn8S24sbuhv"
      },
      "source": [
        "- `user_id` / `car_id` / `ride_id` — идентификаторы водителя, машины, поездки соответственно\n",
        "- `ride_date` / `rating` — дата поездки и рейтинг, поставленный водителем\n",
        "- `ride_duration` / `distance` / `ride_cost` —  длительность (время),  пройденное расстояние, стоимость поездки\n",
        "- `speed_avg` / `speed_max` — средняя и максимальная скорости поездки соответственно\n",
        "- `stop_times` / `refueling` — количество остановок (паузы) и флаг: была ли дозаправка\n",
        "- `user_ride_quality` — оценка манеры вождения водителя машины, определенная скоринговой ML-системой сервиса\n",
        "- `deviation_normal` — общий показатель датчиков о состоянии машины, относительно эталонных показателей (нормы)"
      ]
    },
    {
      "cell_type": "markdown",
      "metadata": {
        "id": "O0Onuz4ybuhv"
      },
      "source": [
        "### Информация про водителей"
      ]
    },
    {
      "cell_type": "code",
      "execution_count": 4,
      "metadata": {
        "tags": [],
        "id": "WBEvQXhxbuhv",
        "outputId": "8da30cf7-ead2-40fa-d0db-81dff56fa788",
        "colab": {
          "base_uri": "https://localhost:8080/",
          "height": 206
        }
      },
      "outputs": [
        {
          "output_type": "execute_result",
          "data": {
            "text/plain": [
              "       age  user_rating  user_rides  user_time_accident     user_id  sex  \\\n",
              "11133   19          8.3        2043                 3.0  N15517008J    1   \n",
              "4994    25          7.4        1545                 0.0  j53527123V    1   \n",
              "8729    43          8.7         934                13.0  K13359466n    0   \n",
              "14537   37          8.3        1120                12.0  y13644827d    1   \n",
              "12968   18          8.4         228                 6.0  K16754309X    1   \n",
              "\n",
              "      first_ride_date  \n",
              "11133       2021-11-2  \n",
              "4994         2018-7-8  \n",
              "8729        2021-1-12  \n",
              "14537       2020-12-5  \n",
              "12968       2019-9-16  "
            ],
            "text/html": [
              "\n",
              "  <div id=\"df-9b6ce8bb-b9ae-45ee-a062-918ad4602135\" class=\"colab-df-container\">\n",
              "    <div>\n",
              "<style scoped>\n",
              "    .dataframe tbody tr th:only-of-type {\n",
              "        vertical-align: middle;\n",
              "    }\n",
              "\n",
              "    .dataframe tbody tr th {\n",
              "        vertical-align: top;\n",
              "    }\n",
              "\n",
              "    .dataframe thead th {\n",
              "        text-align: right;\n",
              "    }\n",
              "</style>\n",
              "<table border=\"1\" class=\"dataframe\">\n",
              "  <thead>\n",
              "    <tr style=\"text-align: right;\">\n",
              "      <th></th>\n",
              "      <th>age</th>\n",
              "      <th>user_rating</th>\n",
              "      <th>user_rides</th>\n",
              "      <th>user_time_accident</th>\n",
              "      <th>user_id</th>\n",
              "      <th>sex</th>\n",
              "      <th>first_ride_date</th>\n",
              "    </tr>\n",
              "  </thead>\n",
              "  <tbody>\n",
              "    <tr>\n",
              "      <th>11133</th>\n",
              "      <td>19</td>\n",
              "      <td>8.3</td>\n",
              "      <td>2043</td>\n",
              "      <td>3.0</td>\n",
              "      <td>N15517008J</td>\n",
              "      <td>1</td>\n",
              "      <td>2021-11-2</td>\n",
              "    </tr>\n",
              "    <tr>\n",
              "      <th>4994</th>\n",
              "      <td>25</td>\n",
              "      <td>7.4</td>\n",
              "      <td>1545</td>\n",
              "      <td>0.0</td>\n",
              "      <td>j53527123V</td>\n",
              "      <td>1</td>\n",
              "      <td>2018-7-8</td>\n",
              "    </tr>\n",
              "    <tr>\n",
              "      <th>8729</th>\n",
              "      <td>43</td>\n",
              "      <td>8.7</td>\n",
              "      <td>934</td>\n",
              "      <td>13.0</td>\n",
              "      <td>K13359466n</td>\n",
              "      <td>0</td>\n",
              "      <td>2021-1-12</td>\n",
              "    </tr>\n",
              "    <tr>\n",
              "      <th>14537</th>\n",
              "      <td>37</td>\n",
              "      <td>8.3</td>\n",
              "      <td>1120</td>\n",
              "      <td>12.0</td>\n",
              "      <td>y13644827d</td>\n",
              "      <td>1</td>\n",
              "      <td>2020-12-5</td>\n",
              "    </tr>\n",
              "    <tr>\n",
              "      <th>12968</th>\n",
              "      <td>18</td>\n",
              "      <td>8.4</td>\n",
              "      <td>228</td>\n",
              "      <td>6.0</td>\n",
              "      <td>K16754309X</td>\n",
              "      <td>1</td>\n",
              "      <td>2019-9-16</td>\n",
              "    </tr>\n",
              "  </tbody>\n",
              "</table>\n",
              "</div>\n",
              "    <div class=\"colab-df-buttons\">\n",
              "\n",
              "  <div class=\"colab-df-container\">\n",
              "    <button class=\"colab-df-convert\" onclick=\"convertToInteractive('df-9b6ce8bb-b9ae-45ee-a062-918ad4602135')\"\n",
              "            title=\"Convert this dataframe to an interactive table.\"\n",
              "            style=\"display:none;\">\n",
              "\n",
              "  <svg xmlns=\"http://www.w3.org/2000/svg\" height=\"24px\" viewBox=\"0 -960 960 960\">\n",
              "    <path d=\"M120-120v-720h720v720H120Zm60-500h600v-160H180v160Zm220 220h160v-160H400v160Zm0 220h160v-160H400v160ZM180-400h160v-160H180v160Zm440 0h160v-160H620v160ZM180-180h160v-160H180v160Zm440 0h160v-160H620v160Z\"/>\n",
              "  </svg>\n",
              "    </button>\n",
              "\n",
              "  <style>\n",
              "    .colab-df-container {\n",
              "      display:flex;\n",
              "      gap: 12px;\n",
              "    }\n",
              "\n",
              "    .colab-df-convert {\n",
              "      background-color: #E8F0FE;\n",
              "      border: none;\n",
              "      border-radius: 50%;\n",
              "      cursor: pointer;\n",
              "      display: none;\n",
              "      fill: #1967D2;\n",
              "      height: 32px;\n",
              "      padding: 0 0 0 0;\n",
              "      width: 32px;\n",
              "    }\n",
              "\n",
              "    .colab-df-convert:hover {\n",
              "      background-color: #E2EBFA;\n",
              "      box-shadow: 0px 1px 2px rgba(60, 64, 67, 0.3), 0px 1px 3px 1px rgba(60, 64, 67, 0.15);\n",
              "      fill: #174EA6;\n",
              "    }\n",
              "\n",
              "    .colab-df-buttons div {\n",
              "      margin-bottom: 4px;\n",
              "    }\n",
              "\n",
              "    [theme=dark] .colab-df-convert {\n",
              "      background-color: #3B4455;\n",
              "      fill: #D2E3FC;\n",
              "    }\n",
              "\n",
              "    [theme=dark] .colab-df-convert:hover {\n",
              "      background-color: #434B5C;\n",
              "      box-shadow: 0px 1px 3px 1px rgba(0, 0, 0, 0.15);\n",
              "      filter: drop-shadow(0px 1px 2px rgba(0, 0, 0, 0.3));\n",
              "      fill: #FFFFFF;\n",
              "    }\n",
              "  </style>\n",
              "\n",
              "    <script>\n",
              "      const buttonEl =\n",
              "        document.querySelector('#df-9b6ce8bb-b9ae-45ee-a062-918ad4602135 button.colab-df-convert');\n",
              "      buttonEl.style.display =\n",
              "        google.colab.kernel.accessAllowed ? 'block' : 'none';\n",
              "\n",
              "      async function convertToInteractive(key) {\n",
              "        const element = document.querySelector('#df-9b6ce8bb-b9ae-45ee-a062-918ad4602135');\n",
              "        const dataTable =\n",
              "          await google.colab.kernel.invokeFunction('convertToInteractive',\n",
              "                                                    [key], {});\n",
              "        if (!dataTable) return;\n",
              "\n",
              "        const docLinkHtml = 'Like what you see? Visit the ' +\n",
              "          '<a target=\"_blank\" href=https://colab.research.google.com/notebooks/data_table.ipynb>data table notebook</a>'\n",
              "          + ' to learn more about interactive tables.';\n",
              "        element.innerHTML = '';\n",
              "        dataTable['output_type'] = 'display_data';\n",
              "        await google.colab.output.renderOutput(dataTable, element);\n",
              "        const docLink = document.createElement('div');\n",
              "        docLink.innerHTML = docLinkHtml;\n",
              "        element.appendChild(docLink);\n",
              "      }\n",
              "    </script>\n",
              "  </div>\n",
              "\n",
              "\n",
              "<div id=\"df-ca46b8d6-2934-4a29-bd85-592e4458194b\">\n",
              "  <button class=\"colab-df-quickchart\" onclick=\"quickchart('df-ca46b8d6-2934-4a29-bd85-592e4458194b')\"\n",
              "            title=\"Suggest charts\"\n",
              "            style=\"display:none;\">\n",
              "\n",
              "<svg xmlns=\"http://www.w3.org/2000/svg\" height=\"24px\"viewBox=\"0 0 24 24\"\n",
              "     width=\"24px\">\n",
              "    <g>\n",
              "        <path d=\"M19 3H5c-1.1 0-2 .9-2 2v14c0 1.1.9 2 2 2h14c1.1 0 2-.9 2-2V5c0-1.1-.9-2-2-2zM9 17H7v-7h2v7zm4 0h-2V7h2v10zm4 0h-2v-4h2v4z\"/>\n",
              "    </g>\n",
              "</svg>\n",
              "  </button>\n",
              "\n",
              "<style>\n",
              "  .colab-df-quickchart {\n",
              "      --bg-color: #E8F0FE;\n",
              "      --fill-color: #1967D2;\n",
              "      --hover-bg-color: #E2EBFA;\n",
              "      --hover-fill-color: #174EA6;\n",
              "      --disabled-fill-color: #AAA;\n",
              "      --disabled-bg-color: #DDD;\n",
              "  }\n",
              "\n",
              "  [theme=dark] .colab-df-quickchart {\n",
              "      --bg-color: #3B4455;\n",
              "      --fill-color: #D2E3FC;\n",
              "      --hover-bg-color: #434B5C;\n",
              "      --hover-fill-color: #FFFFFF;\n",
              "      --disabled-bg-color: #3B4455;\n",
              "      --disabled-fill-color: #666;\n",
              "  }\n",
              "\n",
              "  .colab-df-quickchart {\n",
              "    background-color: var(--bg-color);\n",
              "    border: none;\n",
              "    border-radius: 50%;\n",
              "    cursor: pointer;\n",
              "    display: none;\n",
              "    fill: var(--fill-color);\n",
              "    height: 32px;\n",
              "    padding: 0;\n",
              "    width: 32px;\n",
              "  }\n",
              "\n",
              "  .colab-df-quickchart:hover {\n",
              "    background-color: var(--hover-bg-color);\n",
              "    box-shadow: 0 1px 2px rgba(60, 64, 67, 0.3), 0 1px 3px 1px rgba(60, 64, 67, 0.15);\n",
              "    fill: var(--button-hover-fill-color);\n",
              "  }\n",
              "\n",
              "  .colab-df-quickchart-complete:disabled,\n",
              "  .colab-df-quickchart-complete:disabled:hover {\n",
              "    background-color: var(--disabled-bg-color);\n",
              "    fill: var(--disabled-fill-color);\n",
              "    box-shadow: none;\n",
              "  }\n",
              "\n",
              "  .colab-df-spinner {\n",
              "    border: 2px solid var(--fill-color);\n",
              "    border-color: transparent;\n",
              "    border-bottom-color: var(--fill-color);\n",
              "    animation:\n",
              "      spin 1s steps(1) infinite;\n",
              "  }\n",
              "\n",
              "  @keyframes spin {\n",
              "    0% {\n",
              "      border-color: transparent;\n",
              "      border-bottom-color: var(--fill-color);\n",
              "      border-left-color: var(--fill-color);\n",
              "    }\n",
              "    20% {\n",
              "      border-color: transparent;\n",
              "      border-left-color: var(--fill-color);\n",
              "      border-top-color: var(--fill-color);\n",
              "    }\n",
              "    30% {\n",
              "      border-color: transparent;\n",
              "      border-left-color: var(--fill-color);\n",
              "      border-top-color: var(--fill-color);\n",
              "      border-right-color: var(--fill-color);\n",
              "    }\n",
              "    40% {\n",
              "      border-color: transparent;\n",
              "      border-right-color: var(--fill-color);\n",
              "      border-top-color: var(--fill-color);\n",
              "    }\n",
              "    60% {\n",
              "      border-color: transparent;\n",
              "      border-right-color: var(--fill-color);\n",
              "    }\n",
              "    80% {\n",
              "      border-color: transparent;\n",
              "      border-right-color: var(--fill-color);\n",
              "      border-bottom-color: var(--fill-color);\n",
              "    }\n",
              "    90% {\n",
              "      border-color: transparent;\n",
              "      border-bottom-color: var(--fill-color);\n",
              "    }\n",
              "  }\n",
              "</style>\n",
              "\n",
              "  <script>\n",
              "    async function quickchart(key) {\n",
              "      const quickchartButtonEl =\n",
              "        document.querySelector('#' + key + ' button');\n",
              "      quickchartButtonEl.disabled = true;  // To prevent multiple clicks.\n",
              "      quickchartButtonEl.classList.add('colab-df-spinner');\n",
              "      try {\n",
              "        const charts = await google.colab.kernel.invokeFunction(\n",
              "            'suggestCharts', [key], {});\n",
              "      } catch (error) {\n",
              "        console.error('Error during call to suggestCharts:', error);\n",
              "      }\n",
              "      quickchartButtonEl.classList.remove('colab-df-spinner');\n",
              "      quickchartButtonEl.classList.add('colab-df-quickchart-complete');\n",
              "    }\n",
              "    (() => {\n",
              "      let quickchartButtonEl =\n",
              "        document.querySelector('#df-ca46b8d6-2934-4a29-bd85-592e4458194b button');\n",
              "      quickchartButtonEl.style.display =\n",
              "        google.colab.kernel.accessAllowed ? 'block' : 'none';\n",
              "    })();\n",
              "  </script>\n",
              "</div>\n",
              "    </div>\n",
              "  </div>\n"
            ],
            "application/vnd.google.colaboratory.intrinsic+json": {
              "type": "dataframe",
              "repr_error": "0"
            }
          },
          "metadata": {},
          "execution_count": 4
        }
      ],
      "source": [
        "driver_info = pd.read_csv('https://raw.githubusercontent.com/a-milenkin/Competitive_Data_Science/main/data/driver_info.csv')\n",
        "driver_info.sample(5)"
      ]
    },
    {
      "cell_type": "markdown",
      "metadata": {
        "id": "ubFE8w-Kbuhv"
      },
      "source": [
        "- `user_id` / `age` / `sex` — идентификатор, возраст и пол водителя, соответственно\n",
        "- `user_rating` — общий рейтинг пользователя за все поездки к концу 2021 года\n",
        "- `user_rides` — общее количество поездок к концу 2021 года\n",
        "- `user_time_accident` — число инцидентов (это могли быть аварии/штрафы/эвакуация машины)  \n",
        "- `first_ride_date` — дата первой поездки"
      ]
    },
    {
      "cell_type": "markdown",
      "metadata": {
        "id": "cXDdvlHYbuhv"
      },
      "source": [
        "### Информация про ремонт машин"
      ]
    },
    {
      "cell_type": "code",
      "execution_count": 5,
      "metadata": {
        "tags": [],
        "id": "eVTjvBspbuhv",
        "outputId": "86a81ede-1049-47cb-aa3f-20d99fed304d",
        "colab": {
          "base_uri": "https://localhost:8080/",
          "height": 206
        }
      },
      "outputs": [
        {
          "output_type": "execute_result",
          "data": {
            "text/plain": [
              "            car_id worker_id         fix_date  work_type  destroy_degree  \\\n",
              "102262  S-6497022N        WN  2019-10-14 23:0     repair             8.4   \n",
              "81507   k93390324e        QP    2020-4-6 6:15     repair             6.0   \n",
              "28456   n55774167X        OP   2019-3-21 1:57     repair             4.2   \n",
              "57787   E-4467489A        QG  2020-11-14 18:8  reparking             1.0   \n",
              "106475  v11532085a        QC  2020-7-19 10:45  reparking             1.0   \n",
              "\n",
              "        work_duration  \n",
              "102262             52  \n",
              "81507              23  \n",
              "28456              13  \n",
              "57787              27  \n",
              "106475             30  "
            ],
            "text/html": [
              "\n",
              "  <div id=\"df-bd66f591-1e0c-42d7-b6e9-f79fd5212443\" class=\"colab-df-container\">\n",
              "    <div>\n",
              "<style scoped>\n",
              "    .dataframe tbody tr th:only-of-type {\n",
              "        vertical-align: middle;\n",
              "    }\n",
              "\n",
              "    .dataframe tbody tr th {\n",
              "        vertical-align: top;\n",
              "    }\n",
              "\n",
              "    .dataframe thead th {\n",
              "        text-align: right;\n",
              "    }\n",
              "</style>\n",
              "<table border=\"1\" class=\"dataframe\">\n",
              "  <thead>\n",
              "    <tr style=\"text-align: right;\">\n",
              "      <th></th>\n",
              "      <th>car_id</th>\n",
              "      <th>worker_id</th>\n",
              "      <th>fix_date</th>\n",
              "      <th>work_type</th>\n",
              "      <th>destroy_degree</th>\n",
              "      <th>work_duration</th>\n",
              "    </tr>\n",
              "  </thead>\n",
              "  <tbody>\n",
              "    <tr>\n",
              "      <th>102262</th>\n",
              "      <td>S-6497022N</td>\n",
              "      <td>WN</td>\n",
              "      <td>2019-10-14 23:0</td>\n",
              "      <td>repair</td>\n",
              "      <td>8.4</td>\n",
              "      <td>52</td>\n",
              "    </tr>\n",
              "    <tr>\n",
              "      <th>81507</th>\n",
              "      <td>k93390324e</td>\n",
              "      <td>QP</td>\n",
              "      <td>2020-4-6 6:15</td>\n",
              "      <td>repair</td>\n",
              "      <td>6.0</td>\n",
              "      <td>23</td>\n",
              "    </tr>\n",
              "    <tr>\n",
              "      <th>28456</th>\n",
              "      <td>n55774167X</td>\n",
              "      <td>OP</td>\n",
              "      <td>2019-3-21 1:57</td>\n",
              "      <td>repair</td>\n",
              "      <td>4.2</td>\n",
              "      <td>13</td>\n",
              "    </tr>\n",
              "    <tr>\n",
              "      <th>57787</th>\n",
              "      <td>E-4467489A</td>\n",
              "      <td>QG</td>\n",
              "      <td>2020-11-14 18:8</td>\n",
              "      <td>reparking</td>\n",
              "      <td>1.0</td>\n",
              "      <td>27</td>\n",
              "    </tr>\n",
              "    <tr>\n",
              "      <th>106475</th>\n",
              "      <td>v11532085a</td>\n",
              "      <td>QC</td>\n",
              "      <td>2020-7-19 10:45</td>\n",
              "      <td>reparking</td>\n",
              "      <td>1.0</td>\n",
              "      <td>30</td>\n",
              "    </tr>\n",
              "  </tbody>\n",
              "</table>\n",
              "</div>\n",
              "    <div class=\"colab-df-buttons\">\n",
              "\n",
              "  <div class=\"colab-df-container\">\n",
              "    <button class=\"colab-df-convert\" onclick=\"convertToInteractive('df-bd66f591-1e0c-42d7-b6e9-f79fd5212443')\"\n",
              "            title=\"Convert this dataframe to an interactive table.\"\n",
              "            style=\"display:none;\">\n",
              "\n",
              "  <svg xmlns=\"http://www.w3.org/2000/svg\" height=\"24px\" viewBox=\"0 -960 960 960\">\n",
              "    <path d=\"M120-120v-720h720v720H120Zm60-500h600v-160H180v160Zm220 220h160v-160H400v160Zm0 220h160v-160H400v160ZM180-400h160v-160H180v160Zm440 0h160v-160H620v160ZM180-180h160v-160H180v160Zm440 0h160v-160H620v160Z\"/>\n",
              "  </svg>\n",
              "    </button>\n",
              "\n",
              "  <style>\n",
              "    .colab-df-container {\n",
              "      display:flex;\n",
              "      gap: 12px;\n",
              "    }\n",
              "\n",
              "    .colab-df-convert {\n",
              "      background-color: #E8F0FE;\n",
              "      border: none;\n",
              "      border-radius: 50%;\n",
              "      cursor: pointer;\n",
              "      display: none;\n",
              "      fill: #1967D2;\n",
              "      height: 32px;\n",
              "      padding: 0 0 0 0;\n",
              "      width: 32px;\n",
              "    }\n",
              "\n",
              "    .colab-df-convert:hover {\n",
              "      background-color: #E2EBFA;\n",
              "      box-shadow: 0px 1px 2px rgba(60, 64, 67, 0.3), 0px 1px 3px 1px rgba(60, 64, 67, 0.15);\n",
              "      fill: #174EA6;\n",
              "    }\n",
              "\n",
              "    .colab-df-buttons div {\n",
              "      margin-bottom: 4px;\n",
              "    }\n",
              "\n",
              "    [theme=dark] .colab-df-convert {\n",
              "      background-color: #3B4455;\n",
              "      fill: #D2E3FC;\n",
              "    }\n",
              "\n",
              "    [theme=dark] .colab-df-convert:hover {\n",
              "      background-color: #434B5C;\n",
              "      box-shadow: 0px 1px 3px 1px rgba(0, 0, 0, 0.15);\n",
              "      filter: drop-shadow(0px 1px 2px rgba(0, 0, 0, 0.3));\n",
              "      fill: #FFFFFF;\n",
              "    }\n",
              "  </style>\n",
              "\n",
              "    <script>\n",
              "      const buttonEl =\n",
              "        document.querySelector('#df-bd66f591-1e0c-42d7-b6e9-f79fd5212443 button.colab-df-convert');\n",
              "      buttonEl.style.display =\n",
              "        google.colab.kernel.accessAllowed ? 'block' : 'none';\n",
              "\n",
              "      async function convertToInteractive(key) {\n",
              "        const element = document.querySelector('#df-bd66f591-1e0c-42d7-b6e9-f79fd5212443');\n",
              "        const dataTable =\n",
              "          await google.colab.kernel.invokeFunction('convertToInteractive',\n",
              "                                                    [key], {});\n",
              "        if (!dataTable) return;\n",
              "\n",
              "        const docLinkHtml = 'Like what you see? Visit the ' +\n",
              "          '<a target=\"_blank\" href=https://colab.research.google.com/notebooks/data_table.ipynb>data table notebook</a>'\n",
              "          + ' to learn more about interactive tables.';\n",
              "        element.innerHTML = '';\n",
              "        dataTable['output_type'] = 'display_data';\n",
              "        await google.colab.output.renderOutput(dataTable, element);\n",
              "        const docLink = document.createElement('div');\n",
              "        docLink.innerHTML = docLinkHtml;\n",
              "        element.appendChild(docLink);\n",
              "      }\n",
              "    </script>\n",
              "  </div>\n",
              "\n",
              "\n",
              "<div id=\"df-4e2ec8cd-74d1-49a3-81a4-54ad1ea87a08\">\n",
              "  <button class=\"colab-df-quickchart\" onclick=\"quickchart('df-4e2ec8cd-74d1-49a3-81a4-54ad1ea87a08')\"\n",
              "            title=\"Suggest charts\"\n",
              "            style=\"display:none;\">\n",
              "\n",
              "<svg xmlns=\"http://www.w3.org/2000/svg\" height=\"24px\"viewBox=\"0 0 24 24\"\n",
              "     width=\"24px\">\n",
              "    <g>\n",
              "        <path d=\"M19 3H5c-1.1 0-2 .9-2 2v14c0 1.1.9 2 2 2h14c1.1 0 2-.9 2-2V5c0-1.1-.9-2-2-2zM9 17H7v-7h2v7zm4 0h-2V7h2v10zm4 0h-2v-4h2v4z\"/>\n",
              "    </g>\n",
              "</svg>\n",
              "  </button>\n",
              "\n",
              "<style>\n",
              "  .colab-df-quickchart {\n",
              "      --bg-color: #E8F0FE;\n",
              "      --fill-color: #1967D2;\n",
              "      --hover-bg-color: #E2EBFA;\n",
              "      --hover-fill-color: #174EA6;\n",
              "      --disabled-fill-color: #AAA;\n",
              "      --disabled-bg-color: #DDD;\n",
              "  }\n",
              "\n",
              "  [theme=dark] .colab-df-quickchart {\n",
              "      --bg-color: #3B4455;\n",
              "      --fill-color: #D2E3FC;\n",
              "      --hover-bg-color: #434B5C;\n",
              "      --hover-fill-color: #FFFFFF;\n",
              "      --disabled-bg-color: #3B4455;\n",
              "      --disabled-fill-color: #666;\n",
              "  }\n",
              "\n",
              "  .colab-df-quickchart {\n",
              "    background-color: var(--bg-color);\n",
              "    border: none;\n",
              "    border-radius: 50%;\n",
              "    cursor: pointer;\n",
              "    display: none;\n",
              "    fill: var(--fill-color);\n",
              "    height: 32px;\n",
              "    padding: 0;\n",
              "    width: 32px;\n",
              "  }\n",
              "\n",
              "  .colab-df-quickchart:hover {\n",
              "    background-color: var(--hover-bg-color);\n",
              "    box-shadow: 0 1px 2px rgba(60, 64, 67, 0.3), 0 1px 3px 1px rgba(60, 64, 67, 0.15);\n",
              "    fill: var(--button-hover-fill-color);\n",
              "  }\n",
              "\n",
              "  .colab-df-quickchart-complete:disabled,\n",
              "  .colab-df-quickchart-complete:disabled:hover {\n",
              "    background-color: var(--disabled-bg-color);\n",
              "    fill: var(--disabled-fill-color);\n",
              "    box-shadow: none;\n",
              "  }\n",
              "\n",
              "  .colab-df-spinner {\n",
              "    border: 2px solid var(--fill-color);\n",
              "    border-color: transparent;\n",
              "    border-bottom-color: var(--fill-color);\n",
              "    animation:\n",
              "      spin 1s steps(1) infinite;\n",
              "  }\n",
              "\n",
              "  @keyframes spin {\n",
              "    0% {\n",
              "      border-color: transparent;\n",
              "      border-bottom-color: var(--fill-color);\n",
              "      border-left-color: var(--fill-color);\n",
              "    }\n",
              "    20% {\n",
              "      border-color: transparent;\n",
              "      border-left-color: var(--fill-color);\n",
              "      border-top-color: var(--fill-color);\n",
              "    }\n",
              "    30% {\n",
              "      border-color: transparent;\n",
              "      border-left-color: var(--fill-color);\n",
              "      border-top-color: var(--fill-color);\n",
              "      border-right-color: var(--fill-color);\n",
              "    }\n",
              "    40% {\n",
              "      border-color: transparent;\n",
              "      border-right-color: var(--fill-color);\n",
              "      border-top-color: var(--fill-color);\n",
              "    }\n",
              "    60% {\n",
              "      border-color: transparent;\n",
              "      border-right-color: var(--fill-color);\n",
              "    }\n",
              "    80% {\n",
              "      border-color: transparent;\n",
              "      border-right-color: var(--fill-color);\n",
              "      border-bottom-color: var(--fill-color);\n",
              "    }\n",
              "    90% {\n",
              "      border-color: transparent;\n",
              "      border-bottom-color: var(--fill-color);\n",
              "    }\n",
              "  }\n",
              "</style>\n",
              "\n",
              "  <script>\n",
              "    async function quickchart(key) {\n",
              "      const quickchartButtonEl =\n",
              "        document.querySelector('#' + key + ' button');\n",
              "      quickchartButtonEl.disabled = true;  // To prevent multiple clicks.\n",
              "      quickchartButtonEl.classList.add('colab-df-spinner');\n",
              "      try {\n",
              "        const charts = await google.colab.kernel.invokeFunction(\n",
              "            'suggestCharts', [key], {});\n",
              "      } catch (error) {\n",
              "        console.error('Error during call to suggestCharts:', error);\n",
              "      }\n",
              "      quickchartButtonEl.classList.remove('colab-df-spinner');\n",
              "      quickchartButtonEl.classList.add('colab-df-quickchart-complete');\n",
              "    }\n",
              "    (() => {\n",
              "      let quickchartButtonEl =\n",
              "        document.querySelector('#df-4e2ec8cd-74d1-49a3-81a4-54ad1ea87a08 button');\n",
              "      quickchartButtonEl.style.display =\n",
              "        google.colab.kernel.accessAllowed ? 'block' : 'none';\n",
              "    })();\n",
              "  </script>\n",
              "</div>\n",
              "    </div>\n",
              "  </div>\n"
            ],
            "application/vnd.google.colaboratory.intrinsic+json": {
              "type": "dataframe",
              "repr_error": "0"
            }
          },
          "metadata": {},
          "execution_count": 5
        }
      ],
      "source": [
        "fix_info = pd.read_csv('https://raw.githubusercontent.com/a-milenkin/Competitive_Data_Science/main/data/fix_info.csv')\n",
        "fix_info.sample(5)"
      ]
    },
    {
      "cell_type": "markdown",
      "metadata": {
        "id": "H01U-FFAbuhv"
      },
      "source": [
        "- `worker_id` / `car_id` — идентификатор работника и машины\n",
        "- `work_type` / `work_duration` — тип и длительность (в часах) проводимой работы\n",
        "- `destroy_degree` — степень износа/поврежденности машины в случае поломки\n",
        "- `fix_date` — время начала ремонта (снятия машины с линии)"
      ]
    },
    {
      "cell_type": "markdown",
      "metadata": {
        "id": "qY-lAjlhbuhv"
      },
      "source": [
        "# Домашнее задание 1. Генерация и фильтрация признаков"
      ]
    },
    {
      "cell_type": "markdown",
      "metadata": {
        "id": "9E2N9m5Cbuhv"
      },
      "source": [
        "<center> <img src=\"https://ucarecdn.com/bf4c772d-b67a-42ae-a48b-cfd83910b0a2/\" width=700>"
      ]
    },
    {
      "cell_type": "markdown",
      "metadata": {
        "id": "HaroHWSBbuhw"
      },
      "source": [
        "<div class=\"alert alert-info\">\n",
        "\n",
        "**Цель блока** — сгенерировать признаки из дополнительных датасетов и добавить их к основному датасету, произвести фильтрацию признаков."
      ]
    },
    {
      "cell_type": "markdown",
      "metadata": {
        "id": "wev7E_qlbuhw"
      },
      "source": [
        "    \n",
        "## Задание 1. Генерация признаков из дополнительных датасетов (6 баллов)"
      ]
    },
    {
      "cell_type": "markdown",
      "metadata": {
        "id": "CSX4pA5Kbuhw"
      },
      "source": [
        "<div class=\"alert alert-info\">\n",
        "\n",
        "1. Возьмите датасет `rides_info` с информацией о поездках и проведите группировку по каждой машине отдельно.\n",
        "\n",
        "2. Для каждой машины (то есть для каждого `car_id`) подсчитайте несколько признаков:\n",
        "  - минимальный рейтинг за все поездки;\n",
        "  - средний рейтинг за все поездки;\n",
        "  - общее количество километров, которое машина проехала;\n",
        "  - максимальная скорость;\n",
        "  - общее количество поездок для каждой машины.\n",
        "\n",
        "3. Добавьте минимум 3 признака на свой выбор.\n",
        "\n",
        "4. Сделайте соединение таблиц — вспомните про методы соединения и выберите подходящий для этого случая.\n",
        "\n",
        "5. Подключите информацию про водителей (`driver_info`) и про ремонт машин (`fix_info`). Добавьте минимум 3 любых признака с каждого датасета.\n",
        "\n",
        "\n",
        "<h4> Критерии оценивания </h4>\n",
        "    \n",
        "- Добавлены 5 обязательных и минимум 3 любых признака из датасета `rides_info` — 2 балла.\n",
        "- Добавлены минимум 3 любых признака из датасета `driver_info` — 2 балла.\n",
        "- Добавлены минимум 3 любых признака из датасета `fix_info` — 2 балла.\n",
        "\n",
        "</div>"
      ]
    },
    {
      "cell_type": "markdown",
      "metadata": {
        "id": "kfAs9dZHbuhw"
      },
      "source": [
        "<div class=\"alert alert-success\">\n",
        "    \n",
        "<h4> Советы по Feature Engineering</h4>\n",
        "    \n",
        "- Начинайте с сырых данных.\n",
        "- Используйте все доступные данные. Покрывайте признаками всю имеющуюся информацию в данных.\n",
        "- Формулируйте предположения: от чего зависит таргет?\n",
        "- Смотрите визуально на классы/ошибки и делайте предположения. Какие полезны?\n",
        "- Помните, что слишком много признаков может быть вредно. Потом придется отфильтровывать.\n",
        "    \n",
        "<h4> Полезные источники </h4>\n",
        "    \n",
        "- Занятие про Feature Engineering.\n",
        "- Занятие про Feature Selection.\n",
        "- [Max Kuhn and Kjell Johnson. Feature Engineering and Selection: A Practical Approach for Predictive Models](http://www.feat.engineering/)."
      ]
    },
    {
      "cell_type": "markdown",
      "source": [
        "## **Решение 1 задания**"
      ],
      "metadata": {
        "id": "9rezLBkBcAni"
      }
    },
    {
      "cell_type": "markdown",
      "source": [
        "### Для каждой машины (то есть для каждого car_id) подсчитайте несколько признаков:\n",
        "\n",
        "- минимальный рейтинг за все поездки;\n",
        "- средний рейтинг за все поездки;\n",
        "- общее количество километров, которое машина проехала;\n",
        "- максимальная скорость;\n",
        "- общее количество поездок для каждой машины."
      ],
      "metadata": {
        "id": "eJrnTgrgZ1sT"
      }
    },
    {
      "cell_type": "code",
      "execution_count": 6,
      "metadata": {
        "id": "CYaNVDLTbuhw"
      },
      "outputs": [],
      "source": [
        "group_of_rides = rides_info.groupby('car_id', as_index=False).agg(\n",
        "    min_rating = ('rating', 'min'),\n",
        "    mean_rating = ('rating', 'mean'),\n",
        "    sum_distance = ('distance', 'sum'),\n",
        "    speed_max = ('speed_max', 'max'),\n",
        "    count_rides = ('ride_id', 'count')\n",
        ")"
      ]
    },
    {
      "cell_type": "code",
      "source": [
        "group_of_rides.head()"
      ],
      "metadata": {
        "colab": {
          "base_uri": "https://localhost:8080/",
          "height": 206
        },
        "id": "PYxGRWmwZdTD",
        "outputId": "188c95bc-527c-49e3-896b-a53a5d54da0e"
      },
      "execution_count": 7,
      "outputs": [
        {
          "output_type": "execute_result",
          "data": {
            "text/plain": [
              "       car_id  min_rating  mean_rating  sum_distance   speed_max  count_rides\n",
              "0  A-1049127W         0.1     4.255172  1.125753e+07  179.729652          174\n",
              "1  A-1079539w         0.1     4.088046  1.912765e+07  184.505566          174\n",
              "2  A-1162143G         0.1     4.662299  2.995194e+06  180.000000          174\n",
              "3  A-1228282M         0.1     4.225172  1.793685e+07  182.446070          174\n",
              "4  A-1339912r         0.1     4.690115  1.202552e+07  152.000000          174"
            ],
            "text/html": [
              "\n",
              "  <div id=\"df-c9feb565-aaf2-46b6-a34f-470639e39cb5\" class=\"colab-df-container\">\n",
              "    <div>\n",
              "<style scoped>\n",
              "    .dataframe tbody tr th:only-of-type {\n",
              "        vertical-align: middle;\n",
              "    }\n",
              "\n",
              "    .dataframe tbody tr th {\n",
              "        vertical-align: top;\n",
              "    }\n",
              "\n",
              "    .dataframe thead th {\n",
              "        text-align: right;\n",
              "    }\n",
              "</style>\n",
              "<table border=\"1\" class=\"dataframe\">\n",
              "  <thead>\n",
              "    <tr style=\"text-align: right;\">\n",
              "      <th></th>\n",
              "      <th>car_id</th>\n",
              "      <th>min_rating</th>\n",
              "      <th>mean_rating</th>\n",
              "      <th>sum_distance</th>\n",
              "      <th>speed_max</th>\n",
              "      <th>count_rides</th>\n",
              "    </tr>\n",
              "  </thead>\n",
              "  <tbody>\n",
              "    <tr>\n",
              "      <th>0</th>\n",
              "      <td>A-1049127W</td>\n",
              "      <td>0.1</td>\n",
              "      <td>4.255172</td>\n",
              "      <td>1.125753e+07</td>\n",
              "      <td>179.729652</td>\n",
              "      <td>174</td>\n",
              "    </tr>\n",
              "    <tr>\n",
              "      <th>1</th>\n",
              "      <td>A-1079539w</td>\n",
              "      <td>0.1</td>\n",
              "      <td>4.088046</td>\n",
              "      <td>1.912765e+07</td>\n",
              "      <td>184.505566</td>\n",
              "      <td>174</td>\n",
              "    </tr>\n",
              "    <tr>\n",
              "      <th>2</th>\n",
              "      <td>A-1162143G</td>\n",
              "      <td>0.1</td>\n",
              "      <td>4.662299</td>\n",
              "      <td>2.995194e+06</td>\n",
              "      <td>180.000000</td>\n",
              "      <td>174</td>\n",
              "    </tr>\n",
              "    <tr>\n",
              "      <th>3</th>\n",
              "      <td>A-1228282M</td>\n",
              "      <td>0.1</td>\n",
              "      <td>4.225172</td>\n",
              "      <td>1.793685e+07</td>\n",
              "      <td>182.446070</td>\n",
              "      <td>174</td>\n",
              "    </tr>\n",
              "    <tr>\n",
              "      <th>4</th>\n",
              "      <td>A-1339912r</td>\n",
              "      <td>0.1</td>\n",
              "      <td>4.690115</td>\n",
              "      <td>1.202552e+07</td>\n",
              "      <td>152.000000</td>\n",
              "      <td>174</td>\n",
              "    </tr>\n",
              "  </tbody>\n",
              "</table>\n",
              "</div>\n",
              "    <div class=\"colab-df-buttons\">\n",
              "\n",
              "  <div class=\"colab-df-container\">\n",
              "    <button class=\"colab-df-convert\" onclick=\"convertToInteractive('df-c9feb565-aaf2-46b6-a34f-470639e39cb5')\"\n",
              "            title=\"Convert this dataframe to an interactive table.\"\n",
              "            style=\"display:none;\">\n",
              "\n",
              "  <svg xmlns=\"http://www.w3.org/2000/svg\" height=\"24px\" viewBox=\"0 -960 960 960\">\n",
              "    <path d=\"M120-120v-720h720v720H120Zm60-500h600v-160H180v160Zm220 220h160v-160H400v160Zm0 220h160v-160H400v160ZM180-400h160v-160H180v160Zm440 0h160v-160H620v160ZM180-180h160v-160H180v160Zm440 0h160v-160H620v160Z\"/>\n",
              "  </svg>\n",
              "    </button>\n",
              "\n",
              "  <style>\n",
              "    .colab-df-container {\n",
              "      display:flex;\n",
              "      gap: 12px;\n",
              "    }\n",
              "\n",
              "    .colab-df-convert {\n",
              "      background-color: #E8F0FE;\n",
              "      border: none;\n",
              "      border-radius: 50%;\n",
              "      cursor: pointer;\n",
              "      display: none;\n",
              "      fill: #1967D2;\n",
              "      height: 32px;\n",
              "      padding: 0 0 0 0;\n",
              "      width: 32px;\n",
              "    }\n",
              "\n",
              "    .colab-df-convert:hover {\n",
              "      background-color: #E2EBFA;\n",
              "      box-shadow: 0px 1px 2px rgba(60, 64, 67, 0.3), 0px 1px 3px 1px rgba(60, 64, 67, 0.15);\n",
              "      fill: #174EA6;\n",
              "    }\n",
              "\n",
              "    .colab-df-buttons div {\n",
              "      margin-bottom: 4px;\n",
              "    }\n",
              "\n",
              "    [theme=dark] .colab-df-convert {\n",
              "      background-color: #3B4455;\n",
              "      fill: #D2E3FC;\n",
              "    }\n",
              "\n",
              "    [theme=dark] .colab-df-convert:hover {\n",
              "      background-color: #434B5C;\n",
              "      box-shadow: 0px 1px 3px 1px rgba(0, 0, 0, 0.15);\n",
              "      filter: drop-shadow(0px 1px 2px rgba(0, 0, 0, 0.3));\n",
              "      fill: #FFFFFF;\n",
              "    }\n",
              "  </style>\n",
              "\n",
              "    <script>\n",
              "      const buttonEl =\n",
              "        document.querySelector('#df-c9feb565-aaf2-46b6-a34f-470639e39cb5 button.colab-df-convert');\n",
              "      buttonEl.style.display =\n",
              "        google.colab.kernel.accessAllowed ? 'block' : 'none';\n",
              "\n",
              "      async function convertToInteractive(key) {\n",
              "        const element = document.querySelector('#df-c9feb565-aaf2-46b6-a34f-470639e39cb5');\n",
              "        const dataTable =\n",
              "          await google.colab.kernel.invokeFunction('convertToInteractive',\n",
              "                                                    [key], {});\n",
              "        if (!dataTable) return;\n",
              "\n",
              "        const docLinkHtml = 'Like what you see? Visit the ' +\n",
              "          '<a target=\"_blank\" href=https://colab.research.google.com/notebooks/data_table.ipynb>data table notebook</a>'\n",
              "          + ' to learn more about interactive tables.';\n",
              "        element.innerHTML = '';\n",
              "        dataTable['output_type'] = 'display_data';\n",
              "        await google.colab.output.renderOutput(dataTable, element);\n",
              "        const docLink = document.createElement('div');\n",
              "        docLink.innerHTML = docLinkHtml;\n",
              "        element.appendChild(docLink);\n",
              "      }\n",
              "    </script>\n",
              "  </div>\n",
              "\n",
              "\n",
              "<div id=\"df-1982e1e6-6f69-4d3b-9b21-5de7a0e720f2\">\n",
              "  <button class=\"colab-df-quickchart\" onclick=\"quickchart('df-1982e1e6-6f69-4d3b-9b21-5de7a0e720f2')\"\n",
              "            title=\"Suggest charts\"\n",
              "            style=\"display:none;\">\n",
              "\n",
              "<svg xmlns=\"http://www.w3.org/2000/svg\" height=\"24px\"viewBox=\"0 0 24 24\"\n",
              "     width=\"24px\">\n",
              "    <g>\n",
              "        <path d=\"M19 3H5c-1.1 0-2 .9-2 2v14c0 1.1.9 2 2 2h14c1.1 0 2-.9 2-2V5c0-1.1-.9-2-2-2zM9 17H7v-7h2v7zm4 0h-2V7h2v10zm4 0h-2v-4h2v4z\"/>\n",
              "    </g>\n",
              "</svg>\n",
              "  </button>\n",
              "\n",
              "<style>\n",
              "  .colab-df-quickchart {\n",
              "      --bg-color: #E8F0FE;\n",
              "      --fill-color: #1967D2;\n",
              "      --hover-bg-color: #E2EBFA;\n",
              "      --hover-fill-color: #174EA6;\n",
              "      --disabled-fill-color: #AAA;\n",
              "      --disabled-bg-color: #DDD;\n",
              "  }\n",
              "\n",
              "  [theme=dark] .colab-df-quickchart {\n",
              "      --bg-color: #3B4455;\n",
              "      --fill-color: #D2E3FC;\n",
              "      --hover-bg-color: #434B5C;\n",
              "      --hover-fill-color: #FFFFFF;\n",
              "      --disabled-bg-color: #3B4455;\n",
              "      --disabled-fill-color: #666;\n",
              "  }\n",
              "\n",
              "  .colab-df-quickchart {\n",
              "    background-color: var(--bg-color);\n",
              "    border: none;\n",
              "    border-radius: 50%;\n",
              "    cursor: pointer;\n",
              "    display: none;\n",
              "    fill: var(--fill-color);\n",
              "    height: 32px;\n",
              "    padding: 0;\n",
              "    width: 32px;\n",
              "  }\n",
              "\n",
              "  .colab-df-quickchart:hover {\n",
              "    background-color: var(--hover-bg-color);\n",
              "    box-shadow: 0 1px 2px rgba(60, 64, 67, 0.3), 0 1px 3px 1px rgba(60, 64, 67, 0.15);\n",
              "    fill: var(--button-hover-fill-color);\n",
              "  }\n",
              "\n",
              "  .colab-df-quickchart-complete:disabled,\n",
              "  .colab-df-quickchart-complete:disabled:hover {\n",
              "    background-color: var(--disabled-bg-color);\n",
              "    fill: var(--disabled-fill-color);\n",
              "    box-shadow: none;\n",
              "  }\n",
              "\n",
              "  .colab-df-spinner {\n",
              "    border: 2px solid var(--fill-color);\n",
              "    border-color: transparent;\n",
              "    border-bottom-color: var(--fill-color);\n",
              "    animation:\n",
              "      spin 1s steps(1) infinite;\n",
              "  }\n",
              "\n",
              "  @keyframes spin {\n",
              "    0% {\n",
              "      border-color: transparent;\n",
              "      border-bottom-color: var(--fill-color);\n",
              "      border-left-color: var(--fill-color);\n",
              "    }\n",
              "    20% {\n",
              "      border-color: transparent;\n",
              "      border-left-color: var(--fill-color);\n",
              "      border-top-color: var(--fill-color);\n",
              "    }\n",
              "    30% {\n",
              "      border-color: transparent;\n",
              "      border-left-color: var(--fill-color);\n",
              "      border-top-color: var(--fill-color);\n",
              "      border-right-color: var(--fill-color);\n",
              "    }\n",
              "    40% {\n",
              "      border-color: transparent;\n",
              "      border-right-color: var(--fill-color);\n",
              "      border-top-color: var(--fill-color);\n",
              "    }\n",
              "    60% {\n",
              "      border-color: transparent;\n",
              "      border-right-color: var(--fill-color);\n",
              "    }\n",
              "    80% {\n",
              "      border-color: transparent;\n",
              "      border-right-color: var(--fill-color);\n",
              "      border-bottom-color: var(--fill-color);\n",
              "    }\n",
              "    90% {\n",
              "      border-color: transparent;\n",
              "      border-bottom-color: var(--fill-color);\n",
              "    }\n",
              "  }\n",
              "</style>\n",
              "\n",
              "  <script>\n",
              "    async function quickchart(key) {\n",
              "      const quickchartButtonEl =\n",
              "        document.querySelector('#' + key + ' button');\n",
              "      quickchartButtonEl.disabled = true;  // To prevent multiple clicks.\n",
              "      quickchartButtonEl.classList.add('colab-df-spinner');\n",
              "      try {\n",
              "        const charts = await google.colab.kernel.invokeFunction(\n",
              "            'suggestCharts', [key], {});\n",
              "      } catch (error) {\n",
              "        console.error('Error during call to suggestCharts:', error);\n",
              "      }\n",
              "      quickchartButtonEl.classList.remove('colab-df-spinner');\n",
              "      quickchartButtonEl.classList.add('colab-df-quickchart-complete');\n",
              "    }\n",
              "    (() => {\n",
              "      let quickchartButtonEl =\n",
              "        document.querySelector('#df-1982e1e6-6f69-4d3b-9b21-5de7a0e720f2 button');\n",
              "      quickchartButtonEl.style.display =\n",
              "        google.colab.kernel.accessAllowed ? 'block' : 'none';\n",
              "    })();\n",
              "  </script>\n",
              "</div>\n",
              "    </div>\n",
              "  </div>\n"
            ],
            "application/vnd.google.colaboratory.intrinsic+json": {
              "type": "dataframe",
              "variable_name": "group_of_rides",
              "summary": "{\n  \"name\": \"group_of_rides\",\n  \"rows\": 4250,\n  \"fields\": [\n    {\n      \"column\": \"car_id\",\n      \"properties\": {\n        \"dtype\": \"string\",\n        \"num_unique_values\": 4250,\n        \"samples\": [\n          \"M22148410M\",\n          \"b-1050475p\",\n          \"R15749283D\"\n        ],\n        \"semantic_type\": \"\",\n        \"description\": \"\"\n      }\n    },\n    {\n      \"column\": \"min_rating\",\n      \"properties\": {\n        \"dtype\": \"number\",\n        \"std\": 0.16721240795251452,\n        \"min\": 0.0,\n        \"max\": 1.5,\n        \"num_unique_values\": 107,\n        \"samples\": [\n          0.73,\n          0.38,\n          0.34\n        ],\n        \"semantic_type\": \"\",\n        \"description\": \"\"\n      }\n    },\n    {\n      \"column\": \"mean_rating\",\n      \"properties\": {\n        \"dtype\": \"number\",\n        \"std\": 0.42196425473707544,\n        \"min\": 3.529885057471265,\n        \"max\": 5.768793103448275,\n        \"num_unique_values\": 3892,\n        \"samples\": [\n          3.98367816091954,\n          4.307241379310345,\n          3.931551724137931\n        ],\n        \"semantic_type\": \"\",\n        \"description\": \"\"\n      }\n    },\n    {\n      \"column\": \"sum_distance\",\n      \"properties\": {\n        \"dtype\": \"number\",\n        \"std\": 4207363.123978569,\n        \"min\": 1478866.3194710591,\n        \"max\": 32563653.0931651,\n        \"num_unique_values\": 4250,\n        \"samples\": [\n          8774392.789613284,\n          8423997.057547713,\n          16368396.940277258\n        ],\n        \"semantic_type\": \"\",\n        \"description\": \"\"\n      }\n    },\n    {\n      \"column\": \"speed_max\",\n      \"properties\": {\n        \"dtype\": \"number\",\n        \"std\": 32.909557285136536,\n        \"min\": 91.17291258259658,\n        \"max\": 209.98283950882248,\n        \"num_unique_values\": 3495,\n        \"samples\": [\n          180.13207820463953,\n          118.2603093332132,\n          182.69967588622168\n        ],\n        \"semantic_type\": \"\",\n        \"description\": \"\"\n      }\n    },\n    {\n      \"column\": \"count_rides\",\n      \"properties\": {\n        \"dtype\": \"number\",\n        \"std\": 0,\n        \"min\": 174,\n        \"max\": 174,\n        \"num_unique_values\": 1,\n        \"samples\": [\n          174\n        ],\n        \"semantic_type\": \"\",\n        \"description\": \"\"\n      }\n    }\n  ]\n}"
            }
          },
          "metadata": {},
          "execution_count": 7
        }
      ]
    },
    {
      "cell_type": "markdown",
      "source": [
        "### Добавьте минимум 3 признака на свой выбор."
      ],
      "metadata": {
        "id": "vnBbaNWLZ5h0"
      }
    },
    {
      "cell_type": "code",
      "source": [
        "group_of_rides = rides_info.groupby('car_id', as_index=False).agg(\n",
        "    min_rating = ('rating', 'min'),\n",
        "    mean_rating = ('rating', 'mean'),\n",
        "    sum_distance = ('distance', 'sum'),\n",
        "    speed_max = ('speed_max', 'max'),\n",
        "    count_rides = ('ride_id', 'count'),\n",
        "\n",
        "    speed_mean = ('speed_avg', 'mean'),\n",
        "    user_ride_quality_max = ('user_ride_quality', 'max'),\n",
        "    ride_cost_mean = ('ride_cost', 'mean'),\n",
        ")"
      ],
      "metadata": {
        "id": "udSxlI9HZoSL"
      },
      "execution_count": 8,
      "outputs": []
    },
    {
      "cell_type": "code",
      "source": [
        "group_of_rides.head()"
      ],
      "metadata": {
        "colab": {
          "base_uri": "https://localhost:8080/",
          "height": 206
        },
        "id": "VcaMMoXnamTs",
        "outputId": "136b2a44-bfe7-4635-d2db-3bc555d29009"
      },
      "execution_count": 9,
      "outputs": [
        {
          "output_type": "execute_result",
          "data": {
            "text/plain": [
              "       car_id  min_rating  mean_rating  sum_distance   speed_max  count_rides  \\\n",
              "0  A-1049127W         0.1     4.255172  1.125753e+07  179.729652          174   \n",
              "1  A-1079539w         0.1     4.088046  1.912765e+07  184.505566          174   \n",
              "2  A-1162143G         0.1     4.662299  2.995194e+06  180.000000          174   \n",
              "3  A-1228282M         0.1     4.225172  1.793685e+07  182.446070          174   \n",
              "4  A-1339912r         0.1     4.690115  1.202552e+07  152.000000          174   \n",
              "\n",
              "   speed_mean  user_ride_quality_max  ride_cost_mean  \n",
              "0   49.459770               8.556052    15201.436782  \n",
              "1   49.591954              19.324837    27007.477011  \n",
              "2   43.448276              10.915018     4599.678161  \n",
              "3   49.379310               4.188281    27379.522989  \n",
              "4   44.149425               1.038861    16185.545977  "
            ],
            "text/html": [
              "\n",
              "  <div id=\"df-a233da27-45ab-4a2a-b0a1-515ad7ef8c81\" class=\"colab-df-container\">\n",
              "    <div>\n",
              "<style scoped>\n",
              "    .dataframe tbody tr th:only-of-type {\n",
              "        vertical-align: middle;\n",
              "    }\n",
              "\n",
              "    .dataframe tbody tr th {\n",
              "        vertical-align: top;\n",
              "    }\n",
              "\n",
              "    .dataframe thead th {\n",
              "        text-align: right;\n",
              "    }\n",
              "</style>\n",
              "<table border=\"1\" class=\"dataframe\">\n",
              "  <thead>\n",
              "    <tr style=\"text-align: right;\">\n",
              "      <th></th>\n",
              "      <th>car_id</th>\n",
              "      <th>min_rating</th>\n",
              "      <th>mean_rating</th>\n",
              "      <th>sum_distance</th>\n",
              "      <th>speed_max</th>\n",
              "      <th>count_rides</th>\n",
              "      <th>speed_mean</th>\n",
              "      <th>user_ride_quality_max</th>\n",
              "      <th>ride_cost_mean</th>\n",
              "    </tr>\n",
              "  </thead>\n",
              "  <tbody>\n",
              "    <tr>\n",
              "      <th>0</th>\n",
              "      <td>A-1049127W</td>\n",
              "      <td>0.1</td>\n",
              "      <td>4.255172</td>\n",
              "      <td>1.125753e+07</td>\n",
              "      <td>179.729652</td>\n",
              "      <td>174</td>\n",
              "      <td>49.459770</td>\n",
              "      <td>8.556052</td>\n",
              "      <td>15201.436782</td>\n",
              "    </tr>\n",
              "    <tr>\n",
              "      <th>1</th>\n",
              "      <td>A-1079539w</td>\n",
              "      <td>0.1</td>\n",
              "      <td>4.088046</td>\n",
              "      <td>1.912765e+07</td>\n",
              "      <td>184.505566</td>\n",
              "      <td>174</td>\n",
              "      <td>49.591954</td>\n",
              "      <td>19.324837</td>\n",
              "      <td>27007.477011</td>\n",
              "    </tr>\n",
              "    <tr>\n",
              "      <th>2</th>\n",
              "      <td>A-1162143G</td>\n",
              "      <td>0.1</td>\n",
              "      <td>4.662299</td>\n",
              "      <td>2.995194e+06</td>\n",
              "      <td>180.000000</td>\n",
              "      <td>174</td>\n",
              "      <td>43.448276</td>\n",
              "      <td>10.915018</td>\n",
              "      <td>4599.678161</td>\n",
              "    </tr>\n",
              "    <tr>\n",
              "      <th>3</th>\n",
              "      <td>A-1228282M</td>\n",
              "      <td>0.1</td>\n",
              "      <td>4.225172</td>\n",
              "      <td>1.793685e+07</td>\n",
              "      <td>182.446070</td>\n",
              "      <td>174</td>\n",
              "      <td>49.379310</td>\n",
              "      <td>4.188281</td>\n",
              "      <td>27379.522989</td>\n",
              "    </tr>\n",
              "    <tr>\n",
              "      <th>4</th>\n",
              "      <td>A-1339912r</td>\n",
              "      <td>0.1</td>\n",
              "      <td>4.690115</td>\n",
              "      <td>1.202552e+07</td>\n",
              "      <td>152.000000</td>\n",
              "      <td>174</td>\n",
              "      <td>44.149425</td>\n",
              "      <td>1.038861</td>\n",
              "      <td>16185.545977</td>\n",
              "    </tr>\n",
              "  </tbody>\n",
              "</table>\n",
              "</div>\n",
              "    <div class=\"colab-df-buttons\">\n",
              "\n",
              "  <div class=\"colab-df-container\">\n",
              "    <button class=\"colab-df-convert\" onclick=\"convertToInteractive('df-a233da27-45ab-4a2a-b0a1-515ad7ef8c81')\"\n",
              "            title=\"Convert this dataframe to an interactive table.\"\n",
              "            style=\"display:none;\">\n",
              "\n",
              "  <svg xmlns=\"http://www.w3.org/2000/svg\" height=\"24px\" viewBox=\"0 -960 960 960\">\n",
              "    <path d=\"M120-120v-720h720v720H120Zm60-500h600v-160H180v160Zm220 220h160v-160H400v160Zm0 220h160v-160H400v160ZM180-400h160v-160H180v160Zm440 0h160v-160H620v160ZM180-180h160v-160H180v160Zm440 0h160v-160H620v160Z\"/>\n",
              "  </svg>\n",
              "    </button>\n",
              "\n",
              "  <style>\n",
              "    .colab-df-container {\n",
              "      display:flex;\n",
              "      gap: 12px;\n",
              "    }\n",
              "\n",
              "    .colab-df-convert {\n",
              "      background-color: #E8F0FE;\n",
              "      border: none;\n",
              "      border-radius: 50%;\n",
              "      cursor: pointer;\n",
              "      display: none;\n",
              "      fill: #1967D2;\n",
              "      height: 32px;\n",
              "      padding: 0 0 0 0;\n",
              "      width: 32px;\n",
              "    }\n",
              "\n",
              "    .colab-df-convert:hover {\n",
              "      background-color: #E2EBFA;\n",
              "      box-shadow: 0px 1px 2px rgba(60, 64, 67, 0.3), 0px 1px 3px 1px rgba(60, 64, 67, 0.15);\n",
              "      fill: #174EA6;\n",
              "    }\n",
              "\n",
              "    .colab-df-buttons div {\n",
              "      margin-bottom: 4px;\n",
              "    }\n",
              "\n",
              "    [theme=dark] .colab-df-convert {\n",
              "      background-color: #3B4455;\n",
              "      fill: #D2E3FC;\n",
              "    }\n",
              "\n",
              "    [theme=dark] .colab-df-convert:hover {\n",
              "      background-color: #434B5C;\n",
              "      box-shadow: 0px 1px 3px 1px rgba(0, 0, 0, 0.15);\n",
              "      filter: drop-shadow(0px 1px 2px rgba(0, 0, 0, 0.3));\n",
              "      fill: #FFFFFF;\n",
              "    }\n",
              "  </style>\n",
              "\n",
              "    <script>\n",
              "      const buttonEl =\n",
              "        document.querySelector('#df-a233da27-45ab-4a2a-b0a1-515ad7ef8c81 button.colab-df-convert');\n",
              "      buttonEl.style.display =\n",
              "        google.colab.kernel.accessAllowed ? 'block' : 'none';\n",
              "\n",
              "      async function convertToInteractive(key) {\n",
              "        const element = document.querySelector('#df-a233da27-45ab-4a2a-b0a1-515ad7ef8c81');\n",
              "        const dataTable =\n",
              "          await google.colab.kernel.invokeFunction('convertToInteractive',\n",
              "                                                    [key], {});\n",
              "        if (!dataTable) return;\n",
              "\n",
              "        const docLinkHtml = 'Like what you see? Visit the ' +\n",
              "          '<a target=\"_blank\" href=https://colab.research.google.com/notebooks/data_table.ipynb>data table notebook</a>'\n",
              "          + ' to learn more about interactive tables.';\n",
              "        element.innerHTML = '';\n",
              "        dataTable['output_type'] = 'display_data';\n",
              "        await google.colab.output.renderOutput(dataTable, element);\n",
              "        const docLink = document.createElement('div');\n",
              "        docLink.innerHTML = docLinkHtml;\n",
              "        element.appendChild(docLink);\n",
              "      }\n",
              "    </script>\n",
              "  </div>\n",
              "\n",
              "\n",
              "<div id=\"df-33f5b74f-1194-47cf-a448-6006bc9d18cb\">\n",
              "  <button class=\"colab-df-quickchart\" onclick=\"quickchart('df-33f5b74f-1194-47cf-a448-6006bc9d18cb')\"\n",
              "            title=\"Suggest charts\"\n",
              "            style=\"display:none;\">\n",
              "\n",
              "<svg xmlns=\"http://www.w3.org/2000/svg\" height=\"24px\"viewBox=\"0 0 24 24\"\n",
              "     width=\"24px\">\n",
              "    <g>\n",
              "        <path d=\"M19 3H5c-1.1 0-2 .9-2 2v14c0 1.1.9 2 2 2h14c1.1 0 2-.9 2-2V5c0-1.1-.9-2-2-2zM9 17H7v-7h2v7zm4 0h-2V7h2v10zm4 0h-2v-4h2v4z\"/>\n",
              "    </g>\n",
              "</svg>\n",
              "  </button>\n",
              "\n",
              "<style>\n",
              "  .colab-df-quickchart {\n",
              "      --bg-color: #E8F0FE;\n",
              "      --fill-color: #1967D2;\n",
              "      --hover-bg-color: #E2EBFA;\n",
              "      --hover-fill-color: #174EA6;\n",
              "      --disabled-fill-color: #AAA;\n",
              "      --disabled-bg-color: #DDD;\n",
              "  }\n",
              "\n",
              "  [theme=dark] .colab-df-quickchart {\n",
              "      --bg-color: #3B4455;\n",
              "      --fill-color: #D2E3FC;\n",
              "      --hover-bg-color: #434B5C;\n",
              "      --hover-fill-color: #FFFFFF;\n",
              "      --disabled-bg-color: #3B4455;\n",
              "      --disabled-fill-color: #666;\n",
              "  }\n",
              "\n",
              "  .colab-df-quickchart {\n",
              "    background-color: var(--bg-color);\n",
              "    border: none;\n",
              "    border-radius: 50%;\n",
              "    cursor: pointer;\n",
              "    display: none;\n",
              "    fill: var(--fill-color);\n",
              "    height: 32px;\n",
              "    padding: 0;\n",
              "    width: 32px;\n",
              "  }\n",
              "\n",
              "  .colab-df-quickchart:hover {\n",
              "    background-color: var(--hover-bg-color);\n",
              "    box-shadow: 0 1px 2px rgba(60, 64, 67, 0.3), 0 1px 3px 1px rgba(60, 64, 67, 0.15);\n",
              "    fill: var(--button-hover-fill-color);\n",
              "  }\n",
              "\n",
              "  .colab-df-quickchart-complete:disabled,\n",
              "  .colab-df-quickchart-complete:disabled:hover {\n",
              "    background-color: var(--disabled-bg-color);\n",
              "    fill: var(--disabled-fill-color);\n",
              "    box-shadow: none;\n",
              "  }\n",
              "\n",
              "  .colab-df-spinner {\n",
              "    border: 2px solid var(--fill-color);\n",
              "    border-color: transparent;\n",
              "    border-bottom-color: var(--fill-color);\n",
              "    animation:\n",
              "      spin 1s steps(1) infinite;\n",
              "  }\n",
              "\n",
              "  @keyframes spin {\n",
              "    0% {\n",
              "      border-color: transparent;\n",
              "      border-bottom-color: var(--fill-color);\n",
              "      border-left-color: var(--fill-color);\n",
              "    }\n",
              "    20% {\n",
              "      border-color: transparent;\n",
              "      border-left-color: var(--fill-color);\n",
              "      border-top-color: var(--fill-color);\n",
              "    }\n",
              "    30% {\n",
              "      border-color: transparent;\n",
              "      border-left-color: var(--fill-color);\n",
              "      border-top-color: var(--fill-color);\n",
              "      border-right-color: var(--fill-color);\n",
              "    }\n",
              "    40% {\n",
              "      border-color: transparent;\n",
              "      border-right-color: var(--fill-color);\n",
              "      border-top-color: var(--fill-color);\n",
              "    }\n",
              "    60% {\n",
              "      border-color: transparent;\n",
              "      border-right-color: var(--fill-color);\n",
              "    }\n",
              "    80% {\n",
              "      border-color: transparent;\n",
              "      border-right-color: var(--fill-color);\n",
              "      border-bottom-color: var(--fill-color);\n",
              "    }\n",
              "    90% {\n",
              "      border-color: transparent;\n",
              "      border-bottom-color: var(--fill-color);\n",
              "    }\n",
              "  }\n",
              "</style>\n",
              "\n",
              "  <script>\n",
              "    async function quickchart(key) {\n",
              "      const quickchartButtonEl =\n",
              "        document.querySelector('#' + key + ' button');\n",
              "      quickchartButtonEl.disabled = true;  // To prevent multiple clicks.\n",
              "      quickchartButtonEl.classList.add('colab-df-spinner');\n",
              "      try {\n",
              "        const charts = await google.colab.kernel.invokeFunction(\n",
              "            'suggestCharts', [key], {});\n",
              "      } catch (error) {\n",
              "        console.error('Error during call to suggestCharts:', error);\n",
              "      }\n",
              "      quickchartButtonEl.classList.remove('colab-df-spinner');\n",
              "      quickchartButtonEl.classList.add('colab-df-quickchart-complete');\n",
              "    }\n",
              "    (() => {\n",
              "      let quickchartButtonEl =\n",
              "        document.querySelector('#df-33f5b74f-1194-47cf-a448-6006bc9d18cb button');\n",
              "      quickchartButtonEl.style.display =\n",
              "        google.colab.kernel.accessAllowed ? 'block' : 'none';\n",
              "    })();\n",
              "  </script>\n",
              "</div>\n",
              "    </div>\n",
              "  </div>\n"
            ],
            "application/vnd.google.colaboratory.intrinsic+json": {
              "type": "dataframe",
              "variable_name": "group_of_rides",
              "summary": "{\n  \"name\": \"group_of_rides\",\n  \"rows\": 4250,\n  \"fields\": [\n    {\n      \"column\": \"car_id\",\n      \"properties\": {\n        \"dtype\": \"string\",\n        \"num_unique_values\": 4250,\n        \"samples\": [\n          \"M22148410M\",\n          \"b-1050475p\",\n          \"R15749283D\"\n        ],\n        \"semantic_type\": \"\",\n        \"description\": \"\"\n      }\n    },\n    {\n      \"column\": \"min_rating\",\n      \"properties\": {\n        \"dtype\": \"number\",\n        \"std\": 0.16721240795251452,\n        \"min\": 0.0,\n        \"max\": 1.5,\n        \"num_unique_values\": 107,\n        \"samples\": [\n          0.73,\n          0.38,\n          0.34\n        ],\n        \"semantic_type\": \"\",\n        \"description\": \"\"\n      }\n    },\n    {\n      \"column\": \"mean_rating\",\n      \"properties\": {\n        \"dtype\": \"number\",\n        \"std\": 0.42196425473707544,\n        \"min\": 3.529885057471265,\n        \"max\": 5.768793103448275,\n        \"num_unique_values\": 3892,\n        \"samples\": [\n          3.98367816091954,\n          4.307241379310345,\n          3.931551724137931\n        ],\n        \"semantic_type\": \"\",\n        \"description\": \"\"\n      }\n    },\n    {\n      \"column\": \"sum_distance\",\n      \"properties\": {\n        \"dtype\": \"number\",\n        \"std\": 4207363.123978569,\n        \"min\": 1478866.3194710591,\n        \"max\": 32563653.0931651,\n        \"num_unique_values\": 4250,\n        \"samples\": [\n          8774392.789613284,\n          8423997.057547713,\n          16368396.940277258\n        ],\n        \"semantic_type\": \"\",\n        \"description\": \"\"\n      }\n    },\n    {\n      \"column\": \"speed_max\",\n      \"properties\": {\n        \"dtype\": \"number\",\n        \"std\": 32.909557285136536,\n        \"min\": 91.17291258259658,\n        \"max\": 209.98283950882248,\n        \"num_unique_values\": 3495,\n        \"samples\": [\n          180.13207820463953,\n          118.2603093332132,\n          182.69967588622168\n        ],\n        \"semantic_type\": \"\",\n        \"description\": \"\"\n      }\n    },\n    {\n      \"column\": \"count_rides\",\n      \"properties\": {\n        \"dtype\": \"number\",\n        \"std\": 0,\n        \"min\": 174,\n        \"max\": 174,\n        \"num_unique_values\": 1,\n        \"samples\": [\n          174\n        ],\n        \"semantic_type\": \"\",\n        \"description\": \"\"\n      }\n    },\n    {\n      \"column\": \"speed_mean\",\n      \"properties\": {\n        \"dtype\": \"number\",\n        \"std\": 2.7720297750572755,\n        \"min\": 42.0632183908046,\n        \"max\": 53.132183908045974,\n        \"num_unique_values\": 1290,\n        \"samples\": [\n          48.747126436781606\n        ],\n        \"semantic_type\": \"\",\n        \"description\": \"\"\n      }\n    },\n    {\n      \"column\": \"user_ride_quality_max\",\n      \"properties\": {\n        \"dtype\": \"number\",\n        \"std\": 9.86693054126782,\n        \"min\": -3.814874015852011,\n        \"max\": 69.57464979309526,\n        \"num_unique_values\": 4250,\n        \"samples\": [\n          3.0976038186749024\n        ],\n        \"semantic_type\": \"\",\n        \"description\": \"\"\n      }\n    },\n    {\n      \"column\": \"ride_cost_mean\",\n      \"properties\": {\n        \"dtype\": \"number\",\n        \"std\": 8289.434551059148,\n        \"min\": 2302.6609195402298,\n        \"max\": 82364.7643678161,\n        \"num_unique_values\": 4250,\n        \"samples\": [\n          15115.66091954023\n        ],\n        \"semantic_type\": \"\",\n        \"description\": \"\"\n      }\n    }\n  ]\n}"
            }
          },
          "metadata": {},
          "execution_count": 9
        }
      ]
    },
    {
      "cell_type": "markdown",
      "source": [
        "### Сделайте соединение таблиц — вспомните про методы соединения и выберите подходящий для этого случая."
      ],
      "metadata": {
        "id": "P4RCLbwfa-es"
      }
    },
    {
      "cell_type": "code",
      "source": [
        "df = pd.merge(car_train, group_of_rides, on='car_id')"
      ],
      "metadata": {
        "id": "xcUlvk6KbAAz"
      },
      "execution_count": 10,
      "outputs": []
    },
    {
      "cell_type": "code",
      "source": [
        "df.head()"
      ],
      "metadata": {
        "colab": {
          "base_uri": "https://localhost:8080/",
          "height": 313
        },
        "id": "YTr63H1sbgw0",
        "outputId": "eb550e50-56e4-4ee0-c077-123aaeed2f4e"
      },
      "execution_count": 11,
      "outputs": [
        {
          "output_type": "execute_result",
          "data": {
            "text/plain": [
              "       car_id              model  car_type fuel_type  car_rating  \\\n",
              "0  y13744087j     Kia Rio X-line   economy    petrol        3.78   \n",
              "1  O41613818T         VW Polo VI   economy    petrol        3.90   \n",
              "2  d-2109686j    Renault Sandero  standart    petrol        6.30   \n",
              "3  u29695600e  Mercedes-Benz GLC  business    petrol        4.04   \n",
              "4  N-8915870N    Renault Sandero  standart    petrol        4.70   \n",
              "\n",
              "   year_to_start  riders  year_to_work  target_reg target_class  min_rating  \\\n",
              "0           2015   76163          2021      108.53  another_bug         0.1   \n",
              "1           2015   78218          2021       35.20  electro_bug         0.0   \n",
              "2           2012   23340          2017       38.62   gear_stick         0.1   \n",
              "3           2011    1263          2020       30.34  engine_fuel         0.1   \n",
              "4           2012   26428          2017       30.45  engine_fuel         0.1   \n",
              "\n",
              "   mean_rating  sum_distance   speed_max  count_rides  speed_mean  \\\n",
              "0     4.737759  1.214131e+07  180.855726          174   44.660920   \n",
              "1     4.480517  1.803909e+07  187.862734          174   49.862069   \n",
              "2     4.768391  1.588366e+07  102.382857          174   44.005747   \n",
              "3     3.880920  1.651883e+07  172.793237          174   49.344828   \n",
              "4     4.181149  1.398317e+07  203.462289          174   50.603448   \n",
              "\n",
              "   user_ride_quality_max  ride_cost_mean  \n",
              "0              11.035871    20106.873563  \n",
              "1              32.610351    26813.614943  \n",
              "2              11.766087    23987.793103  \n",
              "3               3.931040    37839.086207  \n",
              "4               3.344463    19888.431034  "
            ],
            "text/html": [
              "\n",
              "  <div id=\"df-df1e86ba-4afb-4cfa-beb2-94cc6baae053\" class=\"colab-df-container\">\n",
              "    <div>\n",
              "<style scoped>\n",
              "    .dataframe tbody tr th:only-of-type {\n",
              "        vertical-align: middle;\n",
              "    }\n",
              "\n",
              "    .dataframe tbody tr th {\n",
              "        vertical-align: top;\n",
              "    }\n",
              "\n",
              "    .dataframe thead th {\n",
              "        text-align: right;\n",
              "    }\n",
              "</style>\n",
              "<table border=\"1\" class=\"dataframe\">\n",
              "  <thead>\n",
              "    <tr style=\"text-align: right;\">\n",
              "      <th></th>\n",
              "      <th>car_id</th>\n",
              "      <th>model</th>\n",
              "      <th>car_type</th>\n",
              "      <th>fuel_type</th>\n",
              "      <th>car_rating</th>\n",
              "      <th>year_to_start</th>\n",
              "      <th>riders</th>\n",
              "      <th>year_to_work</th>\n",
              "      <th>target_reg</th>\n",
              "      <th>target_class</th>\n",
              "      <th>min_rating</th>\n",
              "      <th>mean_rating</th>\n",
              "      <th>sum_distance</th>\n",
              "      <th>speed_max</th>\n",
              "      <th>count_rides</th>\n",
              "      <th>speed_mean</th>\n",
              "      <th>user_ride_quality_max</th>\n",
              "      <th>ride_cost_mean</th>\n",
              "    </tr>\n",
              "  </thead>\n",
              "  <tbody>\n",
              "    <tr>\n",
              "      <th>0</th>\n",
              "      <td>y13744087j</td>\n",
              "      <td>Kia Rio X-line</td>\n",
              "      <td>economy</td>\n",
              "      <td>petrol</td>\n",
              "      <td>3.78</td>\n",
              "      <td>2015</td>\n",
              "      <td>76163</td>\n",
              "      <td>2021</td>\n",
              "      <td>108.53</td>\n",
              "      <td>another_bug</td>\n",
              "      <td>0.1</td>\n",
              "      <td>4.737759</td>\n",
              "      <td>1.214131e+07</td>\n",
              "      <td>180.855726</td>\n",
              "      <td>174</td>\n",
              "      <td>44.660920</td>\n",
              "      <td>11.035871</td>\n",
              "      <td>20106.873563</td>\n",
              "    </tr>\n",
              "    <tr>\n",
              "      <th>1</th>\n",
              "      <td>O41613818T</td>\n",
              "      <td>VW Polo VI</td>\n",
              "      <td>economy</td>\n",
              "      <td>petrol</td>\n",
              "      <td>3.90</td>\n",
              "      <td>2015</td>\n",
              "      <td>78218</td>\n",
              "      <td>2021</td>\n",
              "      <td>35.20</td>\n",
              "      <td>electro_bug</td>\n",
              "      <td>0.0</td>\n",
              "      <td>4.480517</td>\n",
              "      <td>1.803909e+07</td>\n",
              "      <td>187.862734</td>\n",
              "      <td>174</td>\n",
              "      <td>49.862069</td>\n",
              "      <td>32.610351</td>\n",
              "      <td>26813.614943</td>\n",
              "    </tr>\n",
              "    <tr>\n",
              "      <th>2</th>\n",
              "      <td>d-2109686j</td>\n",
              "      <td>Renault Sandero</td>\n",
              "      <td>standart</td>\n",
              "      <td>petrol</td>\n",
              "      <td>6.30</td>\n",
              "      <td>2012</td>\n",
              "      <td>23340</td>\n",
              "      <td>2017</td>\n",
              "      <td>38.62</td>\n",
              "      <td>gear_stick</td>\n",
              "      <td>0.1</td>\n",
              "      <td>4.768391</td>\n",
              "      <td>1.588366e+07</td>\n",
              "      <td>102.382857</td>\n",
              "      <td>174</td>\n",
              "      <td>44.005747</td>\n",
              "      <td>11.766087</td>\n",
              "      <td>23987.793103</td>\n",
              "    </tr>\n",
              "    <tr>\n",
              "      <th>3</th>\n",
              "      <td>u29695600e</td>\n",
              "      <td>Mercedes-Benz GLC</td>\n",
              "      <td>business</td>\n",
              "      <td>petrol</td>\n",
              "      <td>4.04</td>\n",
              "      <td>2011</td>\n",
              "      <td>1263</td>\n",
              "      <td>2020</td>\n",
              "      <td>30.34</td>\n",
              "      <td>engine_fuel</td>\n",
              "      <td>0.1</td>\n",
              "      <td>3.880920</td>\n",
              "      <td>1.651883e+07</td>\n",
              "      <td>172.793237</td>\n",
              "      <td>174</td>\n",
              "      <td>49.344828</td>\n",
              "      <td>3.931040</td>\n",
              "      <td>37839.086207</td>\n",
              "    </tr>\n",
              "    <tr>\n",
              "      <th>4</th>\n",
              "      <td>N-8915870N</td>\n",
              "      <td>Renault Sandero</td>\n",
              "      <td>standart</td>\n",
              "      <td>petrol</td>\n",
              "      <td>4.70</td>\n",
              "      <td>2012</td>\n",
              "      <td>26428</td>\n",
              "      <td>2017</td>\n",
              "      <td>30.45</td>\n",
              "      <td>engine_fuel</td>\n",
              "      <td>0.1</td>\n",
              "      <td>4.181149</td>\n",
              "      <td>1.398317e+07</td>\n",
              "      <td>203.462289</td>\n",
              "      <td>174</td>\n",
              "      <td>50.603448</td>\n",
              "      <td>3.344463</td>\n",
              "      <td>19888.431034</td>\n",
              "    </tr>\n",
              "  </tbody>\n",
              "</table>\n",
              "</div>\n",
              "    <div class=\"colab-df-buttons\">\n",
              "\n",
              "  <div class=\"colab-df-container\">\n",
              "    <button class=\"colab-df-convert\" onclick=\"convertToInteractive('df-df1e86ba-4afb-4cfa-beb2-94cc6baae053')\"\n",
              "            title=\"Convert this dataframe to an interactive table.\"\n",
              "            style=\"display:none;\">\n",
              "\n",
              "  <svg xmlns=\"http://www.w3.org/2000/svg\" height=\"24px\" viewBox=\"0 -960 960 960\">\n",
              "    <path d=\"M120-120v-720h720v720H120Zm60-500h600v-160H180v160Zm220 220h160v-160H400v160Zm0 220h160v-160H400v160ZM180-400h160v-160H180v160Zm440 0h160v-160H620v160ZM180-180h160v-160H180v160Zm440 0h160v-160H620v160Z\"/>\n",
              "  </svg>\n",
              "    </button>\n",
              "\n",
              "  <style>\n",
              "    .colab-df-container {\n",
              "      display:flex;\n",
              "      gap: 12px;\n",
              "    }\n",
              "\n",
              "    .colab-df-convert {\n",
              "      background-color: #E8F0FE;\n",
              "      border: none;\n",
              "      border-radius: 50%;\n",
              "      cursor: pointer;\n",
              "      display: none;\n",
              "      fill: #1967D2;\n",
              "      height: 32px;\n",
              "      padding: 0 0 0 0;\n",
              "      width: 32px;\n",
              "    }\n",
              "\n",
              "    .colab-df-convert:hover {\n",
              "      background-color: #E2EBFA;\n",
              "      box-shadow: 0px 1px 2px rgba(60, 64, 67, 0.3), 0px 1px 3px 1px rgba(60, 64, 67, 0.15);\n",
              "      fill: #174EA6;\n",
              "    }\n",
              "\n",
              "    .colab-df-buttons div {\n",
              "      margin-bottom: 4px;\n",
              "    }\n",
              "\n",
              "    [theme=dark] .colab-df-convert {\n",
              "      background-color: #3B4455;\n",
              "      fill: #D2E3FC;\n",
              "    }\n",
              "\n",
              "    [theme=dark] .colab-df-convert:hover {\n",
              "      background-color: #434B5C;\n",
              "      box-shadow: 0px 1px 3px 1px rgba(0, 0, 0, 0.15);\n",
              "      filter: drop-shadow(0px 1px 2px rgba(0, 0, 0, 0.3));\n",
              "      fill: #FFFFFF;\n",
              "    }\n",
              "  </style>\n",
              "\n",
              "    <script>\n",
              "      const buttonEl =\n",
              "        document.querySelector('#df-df1e86ba-4afb-4cfa-beb2-94cc6baae053 button.colab-df-convert');\n",
              "      buttonEl.style.display =\n",
              "        google.colab.kernel.accessAllowed ? 'block' : 'none';\n",
              "\n",
              "      async function convertToInteractive(key) {\n",
              "        const element = document.querySelector('#df-df1e86ba-4afb-4cfa-beb2-94cc6baae053');\n",
              "        const dataTable =\n",
              "          await google.colab.kernel.invokeFunction('convertToInteractive',\n",
              "                                                    [key], {});\n",
              "        if (!dataTable) return;\n",
              "\n",
              "        const docLinkHtml = 'Like what you see? Visit the ' +\n",
              "          '<a target=\"_blank\" href=https://colab.research.google.com/notebooks/data_table.ipynb>data table notebook</a>'\n",
              "          + ' to learn more about interactive tables.';\n",
              "        element.innerHTML = '';\n",
              "        dataTable['output_type'] = 'display_data';\n",
              "        await google.colab.output.renderOutput(dataTable, element);\n",
              "        const docLink = document.createElement('div');\n",
              "        docLink.innerHTML = docLinkHtml;\n",
              "        element.appendChild(docLink);\n",
              "      }\n",
              "    </script>\n",
              "  </div>\n",
              "\n",
              "\n",
              "<div id=\"df-134b008a-31f4-48c6-a2ac-0daa5557ae26\">\n",
              "  <button class=\"colab-df-quickchart\" onclick=\"quickchart('df-134b008a-31f4-48c6-a2ac-0daa5557ae26')\"\n",
              "            title=\"Suggest charts\"\n",
              "            style=\"display:none;\">\n",
              "\n",
              "<svg xmlns=\"http://www.w3.org/2000/svg\" height=\"24px\"viewBox=\"0 0 24 24\"\n",
              "     width=\"24px\">\n",
              "    <g>\n",
              "        <path d=\"M19 3H5c-1.1 0-2 .9-2 2v14c0 1.1.9 2 2 2h14c1.1 0 2-.9 2-2V5c0-1.1-.9-2-2-2zM9 17H7v-7h2v7zm4 0h-2V7h2v10zm4 0h-2v-4h2v4z\"/>\n",
              "    </g>\n",
              "</svg>\n",
              "  </button>\n",
              "\n",
              "<style>\n",
              "  .colab-df-quickchart {\n",
              "      --bg-color: #E8F0FE;\n",
              "      --fill-color: #1967D2;\n",
              "      --hover-bg-color: #E2EBFA;\n",
              "      --hover-fill-color: #174EA6;\n",
              "      --disabled-fill-color: #AAA;\n",
              "      --disabled-bg-color: #DDD;\n",
              "  }\n",
              "\n",
              "  [theme=dark] .colab-df-quickchart {\n",
              "      --bg-color: #3B4455;\n",
              "      --fill-color: #D2E3FC;\n",
              "      --hover-bg-color: #434B5C;\n",
              "      --hover-fill-color: #FFFFFF;\n",
              "      --disabled-bg-color: #3B4455;\n",
              "      --disabled-fill-color: #666;\n",
              "  }\n",
              "\n",
              "  .colab-df-quickchart {\n",
              "    background-color: var(--bg-color);\n",
              "    border: none;\n",
              "    border-radius: 50%;\n",
              "    cursor: pointer;\n",
              "    display: none;\n",
              "    fill: var(--fill-color);\n",
              "    height: 32px;\n",
              "    padding: 0;\n",
              "    width: 32px;\n",
              "  }\n",
              "\n",
              "  .colab-df-quickchart:hover {\n",
              "    background-color: var(--hover-bg-color);\n",
              "    box-shadow: 0 1px 2px rgba(60, 64, 67, 0.3), 0 1px 3px 1px rgba(60, 64, 67, 0.15);\n",
              "    fill: var(--button-hover-fill-color);\n",
              "  }\n",
              "\n",
              "  .colab-df-quickchart-complete:disabled,\n",
              "  .colab-df-quickchart-complete:disabled:hover {\n",
              "    background-color: var(--disabled-bg-color);\n",
              "    fill: var(--disabled-fill-color);\n",
              "    box-shadow: none;\n",
              "  }\n",
              "\n",
              "  .colab-df-spinner {\n",
              "    border: 2px solid var(--fill-color);\n",
              "    border-color: transparent;\n",
              "    border-bottom-color: var(--fill-color);\n",
              "    animation:\n",
              "      spin 1s steps(1) infinite;\n",
              "  }\n",
              "\n",
              "  @keyframes spin {\n",
              "    0% {\n",
              "      border-color: transparent;\n",
              "      border-bottom-color: var(--fill-color);\n",
              "      border-left-color: var(--fill-color);\n",
              "    }\n",
              "    20% {\n",
              "      border-color: transparent;\n",
              "      border-left-color: var(--fill-color);\n",
              "      border-top-color: var(--fill-color);\n",
              "    }\n",
              "    30% {\n",
              "      border-color: transparent;\n",
              "      border-left-color: var(--fill-color);\n",
              "      border-top-color: var(--fill-color);\n",
              "      border-right-color: var(--fill-color);\n",
              "    }\n",
              "    40% {\n",
              "      border-color: transparent;\n",
              "      border-right-color: var(--fill-color);\n",
              "      border-top-color: var(--fill-color);\n",
              "    }\n",
              "    60% {\n",
              "      border-color: transparent;\n",
              "      border-right-color: var(--fill-color);\n",
              "    }\n",
              "    80% {\n",
              "      border-color: transparent;\n",
              "      border-right-color: var(--fill-color);\n",
              "      border-bottom-color: var(--fill-color);\n",
              "    }\n",
              "    90% {\n",
              "      border-color: transparent;\n",
              "      border-bottom-color: var(--fill-color);\n",
              "    }\n",
              "  }\n",
              "</style>\n",
              "\n",
              "  <script>\n",
              "    async function quickchart(key) {\n",
              "      const quickchartButtonEl =\n",
              "        document.querySelector('#' + key + ' button');\n",
              "      quickchartButtonEl.disabled = true;  // To prevent multiple clicks.\n",
              "      quickchartButtonEl.classList.add('colab-df-spinner');\n",
              "      try {\n",
              "        const charts = await google.colab.kernel.invokeFunction(\n",
              "            'suggestCharts', [key], {});\n",
              "      } catch (error) {\n",
              "        console.error('Error during call to suggestCharts:', error);\n",
              "      }\n",
              "      quickchartButtonEl.classList.remove('colab-df-spinner');\n",
              "      quickchartButtonEl.classList.add('colab-df-quickchart-complete');\n",
              "    }\n",
              "    (() => {\n",
              "      let quickchartButtonEl =\n",
              "        document.querySelector('#df-134b008a-31f4-48c6-a2ac-0daa5557ae26 button');\n",
              "      quickchartButtonEl.style.display =\n",
              "        google.colab.kernel.accessAllowed ? 'block' : 'none';\n",
              "    })();\n",
              "  </script>\n",
              "</div>\n",
              "    </div>\n",
              "  </div>\n"
            ],
            "application/vnd.google.colaboratory.intrinsic+json": {
              "type": "dataframe",
              "variable_name": "df",
              "summary": "{\n  \"name\": \"df\",\n  \"rows\": 2337,\n  \"fields\": [\n    {\n      \"column\": \"car_id\",\n      \"properties\": {\n        \"dtype\": \"string\",\n        \"num_unique_values\": 2337,\n        \"samples\": [\n          \"z14411100u\",\n          \"n-6604555n\",\n          \"d-1051262p\"\n        ],\n        \"semantic_type\": \"\",\n        \"description\": \"\"\n      }\n    },\n    {\n      \"column\": \"model\",\n      \"properties\": {\n        \"dtype\": \"category\",\n        \"num_unique_values\": 26,\n        \"samples\": [\n          \"Smart ForFour\",\n          \"Renault Kaptur\",\n          \"Kia Rio X-line\"\n        ],\n        \"semantic_type\": \"\",\n        \"description\": \"\"\n      }\n    },\n    {\n      \"column\": \"car_type\",\n      \"properties\": {\n        \"dtype\": \"category\",\n        \"num_unique_values\": 4,\n        \"samples\": [\n          \"standart\",\n          \"premium\",\n          \"economy\"\n        ],\n        \"semantic_type\": \"\",\n        \"description\": \"\"\n      }\n    },\n    {\n      \"column\": \"fuel_type\",\n      \"properties\": {\n        \"dtype\": \"category\",\n        \"num_unique_values\": 2,\n        \"samples\": [\n          \"electro\",\n          \"petrol\"\n        ],\n        \"semantic_type\": \"\",\n        \"description\": \"\"\n      }\n    },\n    {\n      \"column\": \"car_rating\",\n      \"properties\": {\n        \"dtype\": \"number\",\n        \"std\": 0.9969539766615568,\n        \"min\": 0.98,\n        \"max\": 8.9,\n        \"num_unique_values\": 269,\n        \"samples\": [\n          2.78,\n          2.1\n        ],\n        \"semantic_type\": \"\",\n        \"description\": \"\"\n      }\n    },\n    {\n      \"column\": \"year_to_start\",\n      \"properties\": {\n        \"dtype\": \"number\",\n        \"std\": 1,\n        \"min\": 2011,\n        \"max\": 2017,\n        \"num_unique_values\": 7,\n        \"samples\": [\n          2015,\n          2012\n        ],\n        \"semantic_type\": \"\",\n        \"description\": \"\"\n      }\n    },\n    {\n      \"column\": \"riders\",\n      \"properties\": {\n        \"dtype\": \"number\",\n        \"std\": 33755,\n        \"min\": 23,\n        \"max\": 142862,\n        \"num_unique_values\": 2306,\n        \"samples\": [\n          61719,\n          100108\n        ],\n        \"semantic_type\": \"\",\n        \"description\": \"\"\n      }\n    },\n    {\n      \"column\": \"year_to_work\",\n      \"properties\": {\n        \"dtype\": \"number\",\n        \"std\": 2,\n        \"min\": 2014,\n        \"max\": 2022,\n        \"num_unique_values\": 9,\n        \"samples\": [\n          2022,\n          2017\n        ],\n        \"semantic_type\": \"\",\n        \"description\": \"\"\n      }\n    },\n    {\n      \"column\": \"target_reg\",\n      \"properties\": {\n        \"dtype\": \"number\",\n        \"std\": 17.579568125863787,\n        \"min\": 18.92,\n        \"max\": 141.63,\n        \"num_unique_values\": 1891,\n        \"samples\": [\n          37.98,\n          58.11\n        ],\n        \"semantic_type\": \"\",\n        \"description\": \"\"\n      }\n    },\n    {\n      \"column\": \"target_class\",\n      \"properties\": {\n        \"dtype\": \"category\",\n        \"num_unique_values\": 9,\n        \"samples\": [\n          \"wheel_shake\",\n          \"electro_bug\"\n        ],\n        \"semantic_type\": \"\",\n        \"description\": \"\"\n      }\n    },\n    {\n      \"column\": \"min_rating\",\n      \"properties\": {\n        \"dtype\": \"number\",\n        \"std\": 0.16397828346003004,\n        \"min\": 0.0,\n        \"max\": 1.5,\n        \"num_unique_values\": 91,\n        \"samples\": [\n          0.67,\n          0.5\n        ],\n        \"semantic_type\": \"\",\n        \"description\": \"\"\n      }\n    },\n    {\n      \"column\": \"mean_rating\",\n      \"properties\": {\n        \"dtype\": \"number\",\n        \"std\": 0.4185875181615076,\n        \"min\": 3.529885057471265,\n        \"max\": 5.700747126436782,\n        \"num_unique_values\": 2223,\n        \"samples\": [\n          4.938505747126436,\n          4.750402298850575\n        ],\n        \"semantic_type\": \"\",\n        \"description\": \"\"\n      }\n    },\n    {\n      \"column\": \"sum_distance\",\n      \"properties\": {\n        \"dtype\": \"number\",\n        \"std\": 4253208.772370099,\n        \"min\": 1478866.3194710591,\n        \"max\": 31197854.66144909,\n        \"num_unique_values\": 2337,\n        \"samples\": [\n          11634739.066408757,\n          17976546.948301077\n        ],\n        \"semantic_type\": \"\",\n        \"description\": \"\"\n      }\n    },\n    {\n      \"column\": \"speed_max\",\n      \"properties\": {\n        \"dtype\": \"number\",\n        \"std\": 33.211160987028705,\n        \"min\": 91.4235081222183,\n        \"max\": 209.98283950882248,\n        \"num_unique_values\": 1938,\n        \"samples\": [\n          109.38343955827206,\n          196.76859522747992\n        ],\n        \"semantic_type\": \"\",\n        \"description\": \"\"\n      }\n    },\n    {\n      \"column\": \"count_rides\",\n      \"properties\": {\n        \"dtype\": \"number\",\n        \"std\": 0,\n        \"min\": 174,\n        \"max\": 174,\n        \"num_unique_values\": 1,\n        \"samples\": [\n          174\n        ],\n        \"semantic_type\": \"\",\n        \"description\": \"\"\n      }\n    },\n    {\n      \"column\": \"speed_mean\",\n      \"properties\": {\n        \"dtype\": \"number\",\n        \"std\": 2.761201815368068,\n        \"min\": 42.4367816091954,\n        \"max\": 53.132183908045974,\n        \"num_unique_values\": 1035,\n        \"samples\": [\n          51.14942528735632\n        ],\n        \"semantic_type\": \"\",\n        \"description\": \"\"\n      }\n    },\n    {\n      \"column\": \"user_ride_quality_max\",\n      \"properties\": {\n        \"dtype\": \"number\",\n        \"std\": 9.895718804375633,\n        \"min\": -3.814874015852011,\n        \"max\": 69.57464979309526,\n        \"num_unique_values\": 2337,\n        \"samples\": [\n          7.385791891764447\n        ],\n        \"semantic_type\": \"\",\n        \"description\": \"\"\n      }\n    },\n    {\n      \"column\": \"ride_cost_mean\",\n      \"properties\": {\n        \"dtype\": \"number\",\n        \"std\": 8116.641364427624,\n        \"min\": 2302.6609195402298,\n        \"max\": 76800.83333333333,\n        \"num_unique_values\": 2337,\n        \"samples\": [\n          32568.505747126437\n        ],\n        \"semantic_type\": \"\",\n        \"description\": \"\"\n      }\n    }\n  ]\n}"
            }
          },
          "metadata": {},
          "execution_count": 11
        }
      ]
    },
    {
      "cell_type": "markdown",
      "source": [
        "### Подключите информацию про водителей (driver_info) и про ремонт машин (fix_info). Добавьте минимум 3 любых признака с каждого датасета."
      ],
      "metadata": {
        "id": "H6X6PN60cIJR"
      }
    },
    {
      "cell_type": "code",
      "source": [
        "# driver_info.head(1)"
      ],
      "metadata": {
        "id": "M9wb959TvUrX"
      },
      "execution_count": 12,
      "outputs": []
    },
    {
      "cell_type": "code",
      "source": [
        "# fix_info.head(1)"
      ],
      "metadata": {
        "id": "O3CuFB25vYP4"
      },
      "execution_count": 13,
      "outputs": []
    },
    {
      "cell_type": "code",
      "source": [
        "# df = pd.merge(df, rides_info, on='car_id')\n",
        "# df = pd.merge(df, driver_info[['user_id', 'age', 'user_rides', 'user_rating']], on='user_id')\n",
        "# df = pd.merge(df, fix_info[['car_id', 'fix_date', 'work_type', 'work_duration']], on='car_id')"
      ],
      "metadata": {
        "id": "THb4sZxUeq5E"
      },
      "execution_count": 14,
      "outputs": []
    },
    {
      "cell_type": "code",
      "source": [
        "# df.head()"
      ],
      "metadata": {
        "id": "4vex34eOf2LO"
      },
      "execution_count": 15,
      "outputs": []
    },
    {
      "cell_type": "markdown",
      "metadata": {
        "id": "Q6Fa0zupbuhw"
      },
      "source": [
        "## Задание 2. Применение методов фильтрации признаков (4 балла)\n",
        "\n",
        "<center> <img src=\"https://ucarecdn.com/d1b4bc78-fd04-44fb-bdbf-0a63355b7384/\" width=700>"
      ]
    },
    {
      "cell_type": "markdown",
      "metadata": {
        "id": "c910L9jubuhx"
      },
      "source": [
        "1. Выберите и примените любые 3 (можно и больше) метода фильтрации, которые указаны выше или в ноутбуке по фильтрации из полезных ссылок.\n",
        "2. Проинтерпретируйте результаты и сделайте выводы.\n",
        "\n",
        "\n",
        "<h4> Критерии оценивания </h4>\n",
        "    \n",
        "- Применены методы фильтрации — 1 балл за каждый метод, максимум 3 балла.\n",
        "- Сделаны выводы на основе примененных методов —1 балл.\n",
        "</div>"
      ]
    },
    {
      "cell_type": "markdown",
      "source": [
        "### Советы по Feature Selection"
      ],
      "metadata": {
        "id": "9flWgKVxf9Q1"
      }
    },
    {
      "cell_type": "markdown",
      "metadata": {
        "id": "vYr9VNS5buhw"
      },
      "source": [
        "<div class=\"alert alert-info\">\n",
        "\n",
        "<h3><center>Зачем отбирать признаки</center></h3>\n",
        "    \n",
        "**Основные причины**:\n",
        "    \n",
        "- Главная причина: с увеличением количества признаков часто падает точность предсказания модели, а некоторые модели и вовсе перестают адекватно работать. Так происходит, если в данных большое количество мусорных фичей (почти не коррелирующих с таргетом).\n",
        "\n",
        "- Если фичей очень много, то данные перестают помещаться в память и существенно увеличивают время обучения модели, особенно если мы тестируем несколько алгоритмов или ансамбль. Также важно учитывать, что платформы имеют ограничения на длительность одной сессии (в Kaggle — 12 часов) и лимиты по потребляемой памяти.\n",
        "\n",
        "- Даже если точность не снижается, есть риск, что модель опирается на шумные фичи, что снизит стабильность прогноза на приватной выборке.\n"
      ]
    },
    {
      "cell_type": "markdown",
      "metadata": {
        "id": "P4JQwUS3buhw"
      },
      "source": [
        "<b>Что удалить сразу:</b>\n",
        "    \n",
        "- константы;\n",
        "- уникальные значения (в том числе в тесте; как правило, это ID-шники по типу `car_id`).\n",
        "    \n",
        "<b>Какие методы использовать:</b>\n",
        "    \n",
        "- `Линейная корреляция`.\n",
        "- `Phik` — тоже корреляция, но на стероидах ([туториал на Medium](https://towardsdatascience.com/phik-k-get-familiar-with-the-latest-correlation-coefficient-9ba0032b37e7)).\n",
        "- `Permutation importance` (из `scikit-learn`).\n",
        "- `SHAP values` (из библиотеки `shap`).\n",
        "- `CatBoost Feature Selection` (рекурсивные методы).\n",
        "    "
      ]
    },
    {
      "cell_type": "markdown",
      "source": [
        "## **Решение 2 задания**"
      ],
      "metadata": {
        "id": "nkxG68anhvXU"
      }
    },
    {
      "cell_type": "markdown",
      "source": [
        "<b>Что удалить сразу:</b>\n",
        "    \n",
        "- константы;\n",
        "- уникальные значения (в том числе в тесте; как правило, это ID-шники по типу `car_id`)."
      ],
      "metadata": {
        "id": "VkH4c9axhuGm"
      }
    },
    {
      "cell_type": "code",
      "execution_count": 16,
      "metadata": {
        "id": "UT2ndUSHbuhx"
      },
      "outputs": [],
      "source": [
        "cols_for_delete = [col for col in df.columns if df[col].nunique() == 1\n",
        "                   or df[col].nunique() == df.shape[0]\n",
        "                   or col in ['ride_id', 'car_id', 'user_id']]"
      ]
    },
    {
      "cell_type": "code",
      "source": [
        "cols_for_delete"
      ],
      "metadata": {
        "colab": {
          "base_uri": "https://localhost:8080/"
        },
        "id": "O_w_JQm2iUuB",
        "outputId": "bdb0e685-9d44-47b3-bb2d-69dd1d63dd16"
      },
      "execution_count": 17,
      "outputs": [
        {
          "output_type": "execute_result",
          "data": {
            "text/plain": [
              "['car_id',\n",
              " 'sum_distance',\n",
              " 'count_rides',\n",
              " 'user_ride_quality_max',\n",
              " 'ride_cost_mean']"
            ]
          },
          "metadata": {},
          "execution_count": 17
        }
      ]
    },
    {
      "cell_type": "code",
      "source": [
        "df = df.drop(columns=cols_for_delete)"
      ],
      "metadata": {
        "id": "9vuJpEf-ihMk"
      },
      "execution_count": 18,
      "outputs": []
    },
    {
      "cell_type": "code",
      "source": [
        "df.head()"
      ],
      "metadata": {
        "colab": {
          "base_uri": "https://localhost:8080/",
          "height": 206
        },
        "id": "2bjGencBinO3",
        "outputId": "7859bddb-4339-4dfb-813d-66f9760cff4b"
      },
      "execution_count": 19,
      "outputs": [
        {
          "output_type": "execute_result",
          "data": {
            "text/plain": [
              "               model  car_type fuel_type  car_rating  year_to_start  riders  \\\n",
              "0     Kia Rio X-line   economy    petrol        3.78           2015   76163   \n",
              "1         VW Polo VI   economy    petrol        3.90           2015   78218   \n",
              "2    Renault Sandero  standart    petrol        6.30           2012   23340   \n",
              "3  Mercedes-Benz GLC  business    petrol        4.04           2011    1263   \n",
              "4    Renault Sandero  standart    petrol        4.70           2012   26428   \n",
              "\n",
              "   year_to_work  target_reg target_class  min_rating  mean_rating   speed_max  \\\n",
              "0          2021      108.53  another_bug         0.1     4.737759  180.855726   \n",
              "1          2021       35.20  electro_bug         0.0     4.480517  187.862734   \n",
              "2          2017       38.62   gear_stick         0.1     4.768391  102.382857   \n",
              "3          2020       30.34  engine_fuel         0.1     3.880920  172.793237   \n",
              "4          2017       30.45  engine_fuel         0.1     4.181149  203.462289   \n",
              "\n",
              "   speed_mean  \n",
              "0   44.660920  \n",
              "1   49.862069  \n",
              "2   44.005747  \n",
              "3   49.344828  \n",
              "4   50.603448  "
            ],
            "text/html": [
              "\n",
              "  <div id=\"df-71fd87b9-6741-4a6e-a920-3135ae31ba20\" class=\"colab-df-container\">\n",
              "    <div>\n",
              "<style scoped>\n",
              "    .dataframe tbody tr th:only-of-type {\n",
              "        vertical-align: middle;\n",
              "    }\n",
              "\n",
              "    .dataframe tbody tr th {\n",
              "        vertical-align: top;\n",
              "    }\n",
              "\n",
              "    .dataframe thead th {\n",
              "        text-align: right;\n",
              "    }\n",
              "</style>\n",
              "<table border=\"1\" class=\"dataframe\">\n",
              "  <thead>\n",
              "    <tr style=\"text-align: right;\">\n",
              "      <th></th>\n",
              "      <th>model</th>\n",
              "      <th>car_type</th>\n",
              "      <th>fuel_type</th>\n",
              "      <th>car_rating</th>\n",
              "      <th>year_to_start</th>\n",
              "      <th>riders</th>\n",
              "      <th>year_to_work</th>\n",
              "      <th>target_reg</th>\n",
              "      <th>target_class</th>\n",
              "      <th>min_rating</th>\n",
              "      <th>mean_rating</th>\n",
              "      <th>speed_max</th>\n",
              "      <th>speed_mean</th>\n",
              "    </tr>\n",
              "  </thead>\n",
              "  <tbody>\n",
              "    <tr>\n",
              "      <th>0</th>\n",
              "      <td>Kia Rio X-line</td>\n",
              "      <td>economy</td>\n",
              "      <td>petrol</td>\n",
              "      <td>3.78</td>\n",
              "      <td>2015</td>\n",
              "      <td>76163</td>\n",
              "      <td>2021</td>\n",
              "      <td>108.53</td>\n",
              "      <td>another_bug</td>\n",
              "      <td>0.1</td>\n",
              "      <td>4.737759</td>\n",
              "      <td>180.855726</td>\n",
              "      <td>44.660920</td>\n",
              "    </tr>\n",
              "    <tr>\n",
              "      <th>1</th>\n",
              "      <td>VW Polo VI</td>\n",
              "      <td>economy</td>\n",
              "      <td>petrol</td>\n",
              "      <td>3.90</td>\n",
              "      <td>2015</td>\n",
              "      <td>78218</td>\n",
              "      <td>2021</td>\n",
              "      <td>35.20</td>\n",
              "      <td>electro_bug</td>\n",
              "      <td>0.0</td>\n",
              "      <td>4.480517</td>\n",
              "      <td>187.862734</td>\n",
              "      <td>49.862069</td>\n",
              "    </tr>\n",
              "    <tr>\n",
              "      <th>2</th>\n",
              "      <td>Renault Sandero</td>\n",
              "      <td>standart</td>\n",
              "      <td>petrol</td>\n",
              "      <td>6.30</td>\n",
              "      <td>2012</td>\n",
              "      <td>23340</td>\n",
              "      <td>2017</td>\n",
              "      <td>38.62</td>\n",
              "      <td>gear_stick</td>\n",
              "      <td>0.1</td>\n",
              "      <td>4.768391</td>\n",
              "      <td>102.382857</td>\n",
              "      <td>44.005747</td>\n",
              "    </tr>\n",
              "    <tr>\n",
              "      <th>3</th>\n",
              "      <td>Mercedes-Benz GLC</td>\n",
              "      <td>business</td>\n",
              "      <td>petrol</td>\n",
              "      <td>4.04</td>\n",
              "      <td>2011</td>\n",
              "      <td>1263</td>\n",
              "      <td>2020</td>\n",
              "      <td>30.34</td>\n",
              "      <td>engine_fuel</td>\n",
              "      <td>0.1</td>\n",
              "      <td>3.880920</td>\n",
              "      <td>172.793237</td>\n",
              "      <td>49.344828</td>\n",
              "    </tr>\n",
              "    <tr>\n",
              "      <th>4</th>\n",
              "      <td>Renault Sandero</td>\n",
              "      <td>standart</td>\n",
              "      <td>petrol</td>\n",
              "      <td>4.70</td>\n",
              "      <td>2012</td>\n",
              "      <td>26428</td>\n",
              "      <td>2017</td>\n",
              "      <td>30.45</td>\n",
              "      <td>engine_fuel</td>\n",
              "      <td>0.1</td>\n",
              "      <td>4.181149</td>\n",
              "      <td>203.462289</td>\n",
              "      <td>50.603448</td>\n",
              "    </tr>\n",
              "  </tbody>\n",
              "</table>\n",
              "</div>\n",
              "    <div class=\"colab-df-buttons\">\n",
              "\n",
              "  <div class=\"colab-df-container\">\n",
              "    <button class=\"colab-df-convert\" onclick=\"convertToInteractive('df-71fd87b9-6741-4a6e-a920-3135ae31ba20')\"\n",
              "            title=\"Convert this dataframe to an interactive table.\"\n",
              "            style=\"display:none;\">\n",
              "\n",
              "  <svg xmlns=\"http://www.w3.org/2000/svg\" height=\"24px\" viewBox=\"0 -960 960 960\">\n",
              "    <path d=\"M120-120v-720h720v720H120Zm60-500h600v-160H180v160Zm220 220h160v-160H400v160Zm0 220h160v-160H400v160ZM180-400h160v-160H180v160Zm440 0h160v-160H620v160ZM180-180h160v-160H180v160Zm440 0h160v-160H620v160Z\"/>\n",
              "  </svg>\n",
              "    </button>\n",
              "\n",
              "  <style>\n",
              "    .colab-df-container {\n",
              "      display:flex;\n",
              "      gap: 12px;\n",
              "    }\n",
              "\n",
              "    .colab-df-convert {\n",
              "      background-color: #E8F0FE;\n",
              "      border: none;\n",
              "      border-radius: 50%;\n",
              "      cursor: pointer;\n",
              "      display: none;\n",
              "      fill: #1967D2;\n",
              "      height: 32px;\n",
              "      padding: 0 0 0 0;\n",
              "      width: 32px;\n",
              "    }\n",
              "\n",
              "    .colab-df-convert:hover {\n",
              "      background-color: #E2EBFA;\n",
              "      box-shadow: 0px 1px 2px rgba(60, 64, 67, 0.3), 0px 1px 3px 1px rgba(60, 64, 67, 0.15);\n",
              "      fill: #174EA6;\n",
              "    }\n",
              "\n",
              "    .colab-df-buttons div {\n",
              "      margin-bottom: 4px;\n",
              "    }\n",
              "\n",
              "    [theme=dark] .colab-df-convert {\n",
              "      background-color: #3B4455;\n",
              "      fill: #D2E3FC;\n",
              "    }\n",
              "\n",
              "    [theme=dark] .colab-df-convert:hover {\n",
              "      background-color: #434B5C;\n",
              "      box-shadow: 0px 1px 3px 1px rgba(0, 0, 0, 0.15);\n",
              "      filter: drop-shadow(0px 1px 2px rgba(0, 0, 0, 0.3));\n",
              "      fill: #FFFFFF;\n",
              "    }\n",
              "  </style>\n",
              "\n",
              "    <script>\n",
              "      const buttonEl =\n",
              "        document.querySelector('#df-71fd87b9-6741-4a6e-a920-3135ae31ba20 button.colab-df-convert');\n",
              "      buttonEl.style.display =\n",
              "        google.colab.kernel.accessAllowed ? 'block' : 'none';\n",
              "\n",
              "      async function convertToInteractive(key) {\n",
              "        const element = document.querySelector('#df-71fd87b9-6741-4a6e-a920-3135ae31ba20');\n",
              "        const dataTable =\n",
              "          await google.colab.kernel.invokeFunction('convertToInteractive',\n",
              "                                                    [key], {});\n",
              "        if (!dataTable) return;\n",
              "\n",
              "        const docLinkHtml = 'Like what you see? Visit the ' +\n",
              "          '<a target=\"_blank\" href=https://colab.research.google.com/notebooks/data_table.ipynb>data table notebook</a>'\n",
              "          + ' to learn more about interactive tables.';\n",
              "        element.innerHTML = '';\n",
              "        dataTable['output_type'] = 'display_data';\n",
              "        await google.colab.output.renderOutput(dataTable, element);\n",
              "        const docLink = document.createElement('div');\n",
              "        docLink.innerHTML = docLinkHtml;\n",
              "        element.appendChild(docLink);\n",
              "      }\n",
              "    </script>\n",
              "  </div>\n",
              "\n",
              "\n",
              "<div id=\"df-ae4bdc0e-96b3-4f63-9ee8-1443366d8688\">\n",
              "  <button class=\"colab-df-quickchart\" onclick=\"quickchart('df-ae4bdc0e-96b3-4f63-9ee8-1443366d8688')\"\n",
              "            title=\"Suggest charts\"\n",
              "            style=\"display:none;\">\n",
              "\n",
              "<svg xmlns=\"http://www.w3.org/2000/svg\" height=\"24px\"viewBox=\"0 0 24 24\"\n",
              "     width=\"24px\">\n",
              "    <g>\n",
              "        <path d=\"M19 3H5c-1.1 0-2 .9-2 2v14c0 1.1.9 2 2 2h14c1.1 0 2-.9 2-2V5c0-1.1-.9-2-2-2zM9 17H7v-7h2v7zm4 0h-2V7h2v10zm4 0h-2v-4h2v4z\"/>\n",
              "    </g>\n",
              "</svg>\n",
              "  </button>\n",
              "\n",
              "<style>\n",
              "  .colab-df-quickchart {\n",
              "      --bg-color: #E8F0FE;\n",
              "      --fill-color: #1967D2;\n",
              "      --hover-bg-color: #E2EBFA;\n",
              "      --hover-fill-color: #174EA6;\n",
              "      --disabled-fill-color: #AAA;\n",
              "      --disabled-bg-color: #DDD;\n",
              "  }\n",
              "\n",
              "  [theme=dark] .colab-df-quickchart {\n",
              "      --bg-color: #3B4455;\n",
              "      --fill-color: #D2E3FC;\n",
              "      --hover-bg-color: #434B5C;\n",
              "      --hover-fill-color: #FFFFFF;\n",
              "      --disabled-bg-color: #3B4455;\n",
              "      --disabled-fill-color: #666;\n",
              "  }\n",
              "\n",
              "  .colab-df-quickchart {\n",
              "    background-color: var(--bg-color);\n",
              "    border: none;\n",
              "    border-radius: 50%;\n",
              "    cursor: pointer;\n",
              "    display: none;\n",
              "    fill: var(--fill-color);\n",
              "    height: 32px;\n",
              "    padding: 0;\n",
              "    width: 32px;\n",
              "  }\n",
              "\n",
              "  .colab-df-quickchart:hover {\n",
              "    background-color: var(--hover-bg-color);\n",
              "    box-shadow: 0 1px 2px rgba(60, 64, 67, 0.3), 0 1px 3px 1px rgba(60, 64, 67, 0.15);\n",
              "    fill: var(--button-hover-fill-color);\n",
              "  }\n",
              "\n",
              "  .colab-df-quickchart-complete:disabled,\n",
              "  .colab-df-quickchart-complete:disabled:hover {\n",
              "    background-color: var(--disabled-bg-color);\n",
              "    fill: var(--disabled-fill-color);\n",
              "    box-shadow: none;\n",
              "  }\n",
              "\n",
              "  .colab-df-spinner {\n",
              "    border: 2px solid var(--fill-color);\n",
              "    border-color: transparent;\n",
              "    border-bottom-color: var(--fill-color);\n",
              "    animation:\n",
              "      spin 1s steps(1) infinite;\n",
              "  }\n",
              "\n",
              "  @keyframes spin {\n",
              "    0% {\n",
              "      border-color: transparent;\n",
              "      border-bottom-color: var(--fill-color);\n",
              "      border-left-color: var(--fill-color);\n",
              "    }\n",
              "    20% {\n",
              "      border-color: transparent;\n",
              "      border-left-color: var(--fill-color);\n",
              "      border-top-color: var(--fill-color);\n",
              "    }\n",
              "    30% {\n",
              "      border-color: transparent;\n",
              "      border-left-color: var(--fill-color);\n",
              "      border-top-color: var(--fill-color);\n",
              "      border-right-color: var(--fill-color);\n",
              "    }\n",
              "    40% {\n",
              "      border-color: transparent;\n",
              "      border-right-color: var(--fill-color);\n",
              "      border-top-color: var(--fill-color);\n",
              "    }\n",
              "    60% {\n",
              "      border-color: transparent;\n",
              "      border-right-color: var(--fill-color);\n",
              "    }\n",
              "    80% {\n",
              "      border-color: transparent;\n",
              "      border-right-color: var(--fill-color);\n",
              "      border-bottom-color: var(--fill-color);\n",
              "    }\n",
              "    90% {\n",
              "      border-color: transparent;\n",
              "      border-bottom-color: var(--fill-color);\n",
              "    }\n",
              "  }\n",
              "</style>\n",
              "\n",
              "  <script>\n",
              "    async function quickchart(key) {\n",
              "      const quickchartButtonEl =\n",
              "        document.querySelector('#' + key + ' button');\n",
              "      quickchartButtonEl.disabled = true;  // To prevent multiple clicks.\n",
              "      quickchartButtonEl.classList.add('colab-df-spinner');\n",
              "      try {\n",
              "        const charts = await google.colab.kernel.invokeFunction(\n",
              "            'suggestCharts', [key], {});\n",
              "      } catch (error) {\n",
              "        console.error('Error during call to suggestCharts:', error);\n",
              "      }\n",
              "      quickchartButtonEl.classList.remove('colab-df-spinner');\n",
              "      quickchartButtonEl.classList.add('colab-df-quickchart-complete');\n",
              "    }\n",
              "    (() => {\n",
              "      let quickchartButtonEl =\n",
              "        document.querySelector('#df-ae4bdc0e-96b3-4f63-9ee8-1443366d8688 button');\n",
              "      quickchartButtonEl.style.display =\n",
              "        google.colab.kernel.accessAllowed ? 'block' : 'none';\n",
              "    })();\n",
              "  </script>\n",
              "</div>\n",
              "    </div>\n",
              "  </div>\n"
            ],
            "application/vnd.google.colaboratory.intrinsic+json": {
              "type": "dataframe",
              "variable_name": "df",
              "summary": "{\n  \"name\": \"df\",\n  \"rows\": 2337,\n  \"fields\": [\n    {\n      \"column\": \"model\",\n      \"properties\": {\n        \"dtype\": \"category\",\n        \"num_unique_values\": 26,\n        \"samples\": [\n          \"Smart ForFour\",\n          \"Renault Kaptur\",\n          \"Kia Rio X-line\"\n        ],\n        \"semantic_type\": \"\",\n        \"description\": \"\"\n      }\n    },\n    {\n      \"column\": \"car_type\",\n      \"properties\": {\n        \"dtype\": \"category\",\n        \"num_unique_values\": 4,\n        \"samples\": [\n          \"standart\",\n          \"premium\",\n          \"economy\"\n        ],\n        \"semantic_type\": \"\",\n        \"description\": \"\"\n      }\n    },\n    {\n      \"column\": \"fuel_type\",\n      \"properties\": {\n        \"dtype\": \"category\",\n        \"num_unique_values\": 2,\n        \"samples\": [\n          \"electro\",\n          \"petrol\"\n        ],\n        \"semantic_type\": \"\",\n        \"description\": \"\"\n      }\n    },\n    {\n      \"column\": \"car_rating\",\n      \"properties\": {\n        \"dtype\": \"number\",\n        \"std\": 0.9969539766615568,\n        \"min\": 0.98,\n        \"max\": 8.9,\n        \"num_unique_values\": 269,\n        \"samples\": [\n          2.78,\n          2.1\n        ],\n        \"semantic_type\": \"\",\n        \"description\": \"\"\n      }\n    },\n    {\n      \"column\": \"year_to_start\",\n      \"properties\": {\n        \"dtype\": \"number\",\n        \"std\": 1,\n        \"min\": 2011,\n        \"max\": 2017,\n        \"num_unique_values\": 7,\n        \"samples\": [\n          2015,\n          2012\n        ],\n        \"semantic_type\": \"\",\n        \"description\": \"\"\n      }\n    },\n    {\n      \"column\": \"riders\",\n      \"properties\": {\n        \"dtype\": \"number\",\n        \"std\": 33755,\n        \"min\": 23,\n        \"max\": 142862,\n        \"num_unique_values\": 2306,\n        \"samples\": [\n          61719,\n          100108\n        ],\n        \"semantic_type\": \"\",\n        \"description\": \"\"\n      }\n    },\n    {\n      \"column\": \"year_to_work\",\n      \"properties\": {\n        \"dtype\": \"number\",\n        \"std\": 2,\n        \"min\": 2014,\n        \"max\": 2022,\n        \"num_unique_values\": 9,\n        \"samples\": [\n          2022,\n          2017\n        ],\n        \"semantic_type\": \"\",\n        \"description\": \"\"\n      }\n    },\n    {\n      \"column\": \"target_reg\",\n      \"properties\": {\n        \"dtype\": \"number\",\n        \"std\": 17.579568125863787,\n        \"min\": 18.92,\n        \"max\": 141.63,\n        \"num_unique_values\": 1891,\n        \"samples\": [\n          37.98,\n          58.11\n        ],\n        \"semantic_type\": \"\",\n        \"description\": \"\"\n      }\n    },\n    {\n      \"column\": \"target_class\",\n      \"properties\": {\n        \"dtype\": \"category\",\n        \"num_unique_values\": 9,\n        \"samples\": [\n          \"wheel_shake\",\n          \"electro_bug\"\n        ],\n        \"semantic_type\": \"\",\n        \"description\": \"\"\n      }\n    },\n    {\n      \"column\": \"min_rating\",\n      \"properties\": {\n        \"dtype\": \"number\",\n        \"std\": 0.16397828346003004,\n        \"min\": 0.0,\n        \"max\": 1.5,\n        \"num_unique_values\": 91,\n        \"samples\": [\n          0.67,\n          0.5\n        ],\n        \"semantic_type\": \"\",\n        \"description\": \"\"\n      }\n    },\n    {\n      \"column\": \"mean_rating\",\n      \"properties\": {\n        \"dtype\": \"number\",\n        \"std\": 0.4185875181615076,\n        \"min\": 3.529885057471265,\n        \"max\": 5.700747126436782,\n        \"num_unique_values\": 2223,\n        \"samples\": [\n          4.938505747126436,\n          4.750402298850575\n        ],\n        \"semantic_type\": \"\",\n        \"description\": \"\"\n      }\n    },\n    {\n      \"column\": \"speed_max\",\n      \"properties\": {\n        \"dtype\": \"number\",\n        \"std\": 33.211160987028705,\n        \"min\": 91.4235081222183,\n        \"max\": 209.98283950882248,\n        \"num_unique_values\": 1938,\n        \"samples\": [\n          109.38343955827206,\n          196.76859522747992\n        ],\n        \"semantic_type\": \"\",\n        \"description\": \"\"\n      }\n    },\n    {\n      \"column\": \"speed_mean\",\n      \"properties\": {\n        \"dtype\": \"number\",\n        \"std\": 2.761201815368068,\n        \"min\": 42.4367816091954,\n        \"max\": 53.132183908045974,\n        \"num_unique_values\": 1035,\n        \"samples\": [\n          51.14942528735632,\n          48.10344827586207\n        ],\n        \"semantic_type\": \"\",\n        \"description\": \"\"\n      }\n    }\n  ]\n}"
            }
          },
          "metadata": {},
          "execution_count": 19
        }
      ]
    },
    {
      "cell_type": "code",
      "source": [
        "df.shape"
      ],
      "metadata": {
        "colab": {
          "base_uri": "https://localhost:8080/"
        },
        "id": "_11VoM20i1_d",
        "outputId": "09e1ddb6-615d-471f-eb73-814342fd4055"
      },
      "execution_count": 20,
      "outputs": [
        {
          "output_type": "execute_result",
          "data": {
            "text/plain": [
              "(2337, 13)"
            ]
          },
          "metadata": {},
          "execution_count": 20
        }
      ]
    },
    {
      "cell_type": "code",
      "source": [
        "df.info()"
      ],
      "metadata": {
        "colab": {
          "base_uri": "https://localhost:8080/"
        },
        "id": "tfllsRgti-F1",
        "outputId": "aa09f11d-42bf-4163-845d-513d92440c1f"
      },
      "execution_count": 21,
      "outputs": [
        {
          "output_type": "stream",
          "name": "stdout",
          "text": [
            "<class 'pandas.core.frame.DataFrame'>\n",
            "Int64Index: 2337 entries, 0 to 2336\n",
            "Data columns (total 13 columns):\n",
            " #   Column         Non-Null Count  Dtype  \n",
            "---  ------         --------------  -----  \n",
            " 0   model          2337 non-null   object \n",
            " 1   car_type       2337 non-null   object \n",
            " 2   fuel_type      2337 non-null   object \n",
            " 3   car_rating     2337 non-null   float64\n",
            " 4   year_to_start  2337 non-null   int64  \n",
            " 5   riders         2337 non-null   int64  \n",
            " 6   year_to_work   2337 non-null   int64  \n",
            " 7   target_reg     2337 non-null   float64\n",
            " 8   target_class   2337 non-null   object \n",
            " 9   min_rating     2337 non-null   float64\n",
            " 10  mean_rating    2337 non-null   float64\n",
            " 11  speed_max      2337 non-null   float64\n",
            " 12  speed_mean     2337 non-null   float64\n",
            "dtypes: float64(6), int64(3), object(4)\n",
            "memory usage: 255.6+ KB\n"
          ]
        }
      ]
    },
    {
      "cell_type": "markdown",
      "source": [
        "### Линейная корреляция"
      ],
      "metadata": {
        "id": "iHhFYItIjIZ1"
      }
    },
    {
      "cell_type": "code",
      "source": [
        "# df.corr()"
      ],
      "metadata": {
        "id": "8dIXIESyjNy2"
      },
      "execution_count": 22,
      "outputs": []
    },
    {
      "cell_type": "markdown",
      "source": [
        "# **У меня переполняется оперативная память при применении функции `df.corr()` из-за большого количества данных, поэтому я перезапустил первые несколько ячеек без merge. Но само первое задание выполнил.**"
      ],
      "metadata": {
        "id": "JzA4wguCvuLp"
      }
    },
    {
      "cell_type": "code",
      "source": [
        "# df.shape"
      ],
      "metadata": {
        "id": "Krcqf3icv9iu"
      },
      "execution_count": 23,
      "outputs": []
    },
    {
      "cell_type": "code",
      "source": [
        "# df.corr()"
      ],
      "metadata": {
        "id": "dcr8iD4c8MAH"
      },
      "execution_count": 24,
      "outputs": []
    },
    {
      "cell_type": "code",
      "source": [
        "# plt.figure(figsize=(16, 10))\n",
        "# sns.heatmap(df.corr(), annot=True)\n",
        "# plt.show();"
      ],
      "metadata": {
        "id": "Ts5dEX_s8vRN"
      },
      "execution_count": 25,
      "outputs": []
    },
    {
      "cell_type": "markdown",
      "source": [
        "### Phik"
      ],
      "metadata": {
        "id": "kFs97jp19YXn"
      }
    },
    {
      "cell_type": "code",
      "source": [
        "# !pip install phik"
      ],
      "metadata": {
        "id": "2pCjVVFt9Ycm"
      },
      "execution_count": 26,
      "outputs": []
    },
    {
      "cell_type": "code",
      "source": [
        "# import phik\n",
        "# from phik import report"
      ],
      "metadata": {
        "id": "e5zxPfHxgZQt"
      },
      "execution_count": 27,
      "outputs": []
    },
    {
      "cell_type": "code",
      "source": [
        "# phik_matrix = df.phik_matrix()"
      ],
      "metadata": {
        "id": "MXyKNTkMiwH8"
      },
      "execution_count": 28,
      "outputs": []
    },
    {
      "cell_type": "code",
      "source": [
        "# print(phik_matrix)"
      ],
      "metadata": {
        "id": "V3JrTaCoi_Lm"
      },
      "execution_count": 29,
      "outputs": []
    },
    {
      "cell_type": "code",
      "source": [
        "# plt.figure(figsize=(16, 10))\n",
        "# sns.heatmap(phik_matrix, annot=True)\n",
        "# plt.show();"
      ],
      "metadata": {
        "id": "m22DwPOxk3tU"
      },
      "execution_count": 30,
      "outputs": []
    },
    {
      "cell_type": "markdown",
      "source": [
        "### Permutation importance"
      ],
      "metadata": {
        "id": "hOb74ovdq_6j"
      }
    },
    {
      "cell_type": "code",
      "source": [
        "# Нужна обученная модель, возьму для обучения решающее дерево\n",
        "# from sklearn.ensemble import RandomForestClassifier"
      ],
      "metadata": {
        "id": "JrY9411Sq_-m"
      },
      "execution_count": 31,
      "outputs": []
    },
    {
      "cell_type": "code",
      "source": [
        "# df.head()"
      ],
      "metadata": {
        "id": "CLr7wg8wsUl0"
      },
      "execution_count": 32,
      "outputs": []
    },
    {
      "cell_type": "code",
      "source": [
        "# df['model'].unique()"
      ],
      "metadata": {
        "id": "NxcuZFL5s4Ic"
      },
      "execution_count": 33,
      "outputs": []
    },
    {
      "cell_type": "code",
      "source": [
        "# df['fuel_type'].unique()"
      ],
      "metadata": {
        "id": "eWzq59_1wH89"
      },
      "execution_count": 34,
      "outputs": []
    },
    {
      "cell_type": "code",
      "source": [
        "# !pip install category_encoders"
      ],
      "metadata": {
        "id": "UZdFSZZ-urxe"
      },
      "execution_count": 35,
      "outputs": []
    },
    {
      "cell_type": "code",
      "source": [
        "# from sklearn.preprocessing import OneHotEncoder\n",
        "# import category_encoders as ce\n",
        "\n",
        "# ohe = OneHotEncoder(sparse=False)\n",
        "# be = ce.BinaryEncoder()\n",
        "\n",
        "# categorical_cols = df.select_dtypes(include=['object']).columns"
      ],
      "metadata": {
        "id": "HdL7v4UcuiQF"
      },
      "execution_count": 36,
      "outputs": []
    },
    {
      "cell_type": "code",
      "source": [
        "# categorical_cols"
      ],
      "metadata": {
        "id": "VZqSzu-_u-1s"
      },
      "execution_count": 37,
      "outputs": []
    },
    {
      "cell_type": "code",
      "source": [
        "# for col in categorical_cols:\n",
        "#     if df[col].nunique() <= 2:\n",
        "#       print(col)"
      ],
      "metadata": {
        "id": "KPNgYEH6wyLp"
      },
      "execution_count": 38,
      "outputs": []
    },
    {
      "cell_type": "code",
      "source": [
        "# categorical_cols"
      ],
      "metadata": {
        "id": "_IgRKrzYz5-j"
      },
      "execution_count": 39,
      "outputs": []
    },
    {
      "cell_type": "markdown",
      "source": [
        "Для столбцов, где больше 2 уникальных значений применяю BinaryEncoding, а для тех, где меньше или равно, то One-Hot Encoding"
      ],
      "metadata": {
        "id": "yqAQLyNb1qMS"
      }
    },
    {
      "cell_type": "code",
      "source": [
        "# for col in categorical_cols:\n",
        "#     if df[col].nunique() <= 2:\n",
        "#         transformed = ohe.fit_transform(df[[col]])\n",
        "#         transformed_df = pd.DataFrame(transformed, columns=[col+'_'+str(i) for i in range(transformed.shape[1])])\n",
        "#         df = df.join(transformed_df)\n",
        "#         df = df.drop(col, axis=1)\n",
        "\n",
        "# categorical_cols = df.select_dtypes(include=['object']).columns\n",
        "\n",
        "# for col in categorical_cols:\n",
        "#     transformed = be.fit_transform(df[[col]])\n",
        "#     transformed_df = pd.DataFrame(transformed, columns=[col+'_'+str(i) for i in range(transformed.shape[1])])\n",
        "#     df = df.join(transformed_df)\n",
        "#     df = df.drop(col, axis=1)\n",
        "\n",
        "# df.head()"
      ],
      "metadata": {
        "id": "QzmAUa69vCbb"
      },
      "execution_count": 40,
      "outputs": []
    },
    {
      "cell_type": "markdown",
      "source": [
        "#### К сожалению, у меня очень долго считался permutation_importance, поэтому я удалю несколько столбцов для ускорения и демонстрации того, что я всё же воспользовался permutation_importance"
      ],
      "metadata": {
        "id": "B5pcBNXv45wI"
      }
    },
    {
      "cell_type": "code",
      "source": [
        "# cols_for_delete = ['fuel_type_1',\n",
        "#                    'model_0',\n",
        "#                    'model_1',\n",
        "#                    'model_2',\n",
        "#                    'model_3',\n",
        "#                    'model_4',\n",
        "#                    'car_type_0',\n",
        "#                    'car_type_1',\n",
        "#                    'car_type_2',\n",
        "#                    'target_class_0',\n",
        "#                    'target_class_1',\n",
        "#                    'target_class_2',\n",
        "#                    'target_class_3'\n",
        "# ]"
      ],
      "metadata": {
        "id": "X9q4sOw345P1"
      },
      "execution_count": 41,
      "outputs": []
    },
    {
      "cell_type": "code",
      "source": [
        "# df.drop(columns=cols_for_delete)"
      ],
      "metadata": {
        "id": "tEdfmfzZ5v-z"
      },
      "execution_count": 42,
      "outputs": []
    },
    {
      "cell_type": "code",
      "source": [
        "# model = RandomForestClassifier().fit(df.drop('riders', axis=1), df['riders'])"
      ],
      "metadata": {
        "id": "IjMPsnYKsIfE"
      },
      "execution_count": 43,
      "outputs": []
    },
    {
      "cell_type": "code",
      "source": [
        "# from sklearn.inspection import permutation_importance"
      ],
      "metadata": {
        "id": "ifFdZ9fe2CnV"
      },
      "execution_count": 44,
      "outputs": []
    },
    {
      "cell_type": "code",
      "source": [
        "# res = permutation_importance(model, df.drop('riders', axis=1), df['riders'], n_repeats=10)"
      ],
      "metadata": {
        "id": "qM_7Psdu2QGI"
      },
      "execution_count": 45,
      "outputs": []
    },
    {
      "cell_type": "code",
      "source": [
        "# res_sorted_idx = res.importances_mean.argsort()"
      ],
      "metadata": {
        "id": "pO120km03PqP"
      },
      "execution_count": 46,
      "outputs": []
    },
    {
      "cell_type": "code",
      "source": [
        "# res_sorted_idx_flip = np.flip(res_sorted_idx)"
      ],
      "metadata": {
        "id": "Ox8IQvEH9pqU"
      },
      "execution_count": 47,
      "outputs": []
    },
    {
      "cell_type": "markdown",
      "source": [
        "#### Визуализация"
      ],
      "metadata": {
        "id": "cEhAOU3D3qmV"
      }
    },
    {
      "cell_type": "code",
      "source": [
        "# fig, ax = plt.subplots(figsize=(16, 10))\n",
        "# sns.barplot(x=res.importances_mean[res_sorted_idx_flip], y=np.array(df.drop('riders', axis=1).columns)[res_sorted_idx_flip], orient='h', ax=ax)\n",
        "# ax.set_title('Permutation Importance')\n",
        "# plt.show();"
      ],
      "metadata": {
        "id": "3R9DUvc83qKn"
      },
      "execution_count": 48,
      "outputs": []
    },
    {
      "cell_type": "markdown",
      "metadata": {
        "id": "iSjuXdlcbuhx"
      },
      "source": [
        "# Домашнее задание 2. Прогноз времени и вида поломки машин. Настройка ML-модели"
      ]
    },
    {
      "cell_type": "markdown",
      "metadata": {
        "id": "2qoVlxvUbuhx"
      },
      "source": [
        "<div class=\"alert alert-info\">\n",
        "\n",
        "**Цель блока** — составить тренировочную и валидационную выборки, произвести обучение модели `CatBoostClassifier` на тренировочной части и оценить качество на валидационной."
      ]
    },
    {
      "cell_type": "markdown",
      "metadata": {
        "id": "OfqcanLLbuhx"
      },
      "source": [
        "##Обучение первой модели (5 баллов)"
      ]
    },
    {
      "cell_type": "markdown",
      "metadata": {
        "id": "ZXhXYJt6buhx"
      },
      "source": [
        "1. Классифицируйте признаки на типы (категориальные, числовые, таргеты).\n",
        "\n",
        "2. Выделите в `X` только признаки, а в `Y` — таргет (для задачи классификации).\n",
        "\n",
        "3. Сделайте разделение данных на *обучающую* и *валидационную* выборки (не забывайте про воспроизводимость результатов).\n",
        "\n",
        "4. Создайте и обучите `CatBoostClassifier` модель (настраивать гиперпараметры сейчас не обязательно).\n",
        "\n",
        "5. Проведите оценку вашей модели, используя метрику `accuracy`.\n",
        "\n",
        "\n",
        "<h4> Критерии оценивания </h4>\n",
        "    \n",
        "- По 1 баллу за каждый корректно выполненный пункт.\n",
        "\n",
        "</div>"
      ]
    },
    {
      "cell_type": "markdown",
      "source": [
        "### **Уважаемый Иван, здравствуйте.**\n",
        "\n",
        "#### У меня проблемы с большим объемом данных, поэтому я снова, как и в первом ДЗ буду работать с ограниченным датасетом без merge большого количества столбцов."
      ],
      "metadata": {
        "id": "U7U-atS91K04"
      }
    },
    {
      "cell_type": "code",
      "source": [
        "!pip install catboost"
      ],
      "metadata": {
        "colab": {
          "base_uri": "https://localhost:8080/"
        },
        "id": "QCHNyLM8yqzb",
        "outputId": "49d30633-b329-4bd1-e161-c0e8d898e49b"
      },
      "execution_count": 49,
      "outputs": [
        {
          "output_type": "stream",
          "name": "stdout",
          "text": [
            "Requirement already satisfied: catboost in /usr/local/lib/python3.10/dist-packages (1.2.3)\n",
            "Requirement already satisfied: graphviz in /usr/local/lib/python3.10/dist-packages (from catboost) (0.20.2)\n",
            "Requirement already satisfied: matplotlib in /usr/local/lib/python3.10/dist-packages (from catboost) (3.7.1)\n",
            "Requirement already satisfied: numpy>=1.16.0 in /usr/local/lib/python3.10/dist-packages (from catboost) (1.25.2)\n",
            "Requirement already satisfied: pandas>=0.24 in /usr/local/lib/python3.10/dist-packages (from catboost) (1.5.3)\n",
            "Requirement already satisfied: scipy in /usr/local/lib/python3.10/dist-packages (from catboost) (1.11.4)\n",
            "Requirement already satisfied: plotly in /usr/local/lib/python3.10/dist-packages (from catboost) (5.15.0)\n",
            "Requirement already satisfied: six in /usr/local/lib/python3.10/dist-packages (from catboost) (1.16.0)\n",
            "Requirement already satisfied: python-dateutil>=2.8.1 in /usr/local/lib/python3.10/dist-packages (from pandas>=0.24->catboost) (2.8.2)\n",
            "Requirement already satisfied: pytz>=2020.1 in /usr/local/lib/python3.10/dist-packages (from pandas>=0.24->catboost) (2023.4)\n",
            "Requirement already satisfied: contourpy>=1.0.1 in /usr/local/lib/python3.10/dist-packages (from matplotlib->catboost) (1.2.0)\n",
            "Requirement already satisfied: cycler>=0.10 in /usr/local/lib/python3.10/dist-packages (from matplotlib->catboost) (0.12.1)\n",
            "Requirement already satisfied: fonttools>=4.22.0 in /usr/local/lib/python3.10/dist-packages (from matplotlib->catboost) (4.50.0)\n",
            "Requirement already satisfied: kiwisolver>=1.0.1 in /usr/local/lib/python3.10/dist-packages (from matplotlib->catboost) (1.4.5)\n",
            "Requirement already satisfied: packaging>=20.0 in /usr/local/lib/python3.10/dist-packages (from matplotlib->catboost) (24.0)\n",
            "Requirement already satisfied: pillow>=6.2.0 in /usr/local/lib/python3.10/dist-packages (from matplotlib->catboost) (9.4.0)\n",
            "Requirement already satisfied: pyparsing>=2.3.1 in /usr/local/lib/python3.10/dist-packages (from matplotlib->catboost) (3.1.2)\n",
            "Requirement already satisfied: tenacity>=6.2.0 in /usr/local/lib/python3.10/dist-packages (from plotly->catboost) (8.2.3)\n"
          ]
        }
      ]
    },
    {
      "cell_type": "code",
      "execution_count": 50,
      "metadata": {
        "id": "klrOFoVpbuhx"
      },
      "outputs": [],
      "source": [
        "from catboost import CatBoostClassifier\n",
        "from sklearn.model_selection import train_test_split\n",
        "from sklearn.metrics import accuracy_score"
      ]
    },
    {
      "cell_type": "code",
      "source": [
        "df.head()"
      ],
      "metadata": {
        "colab": {
          "base_uri": "https://localhost:8080/",
          "height": 206
        },
        "id": "OJIL8WzDzmZx",
        "outputId": "faaad1b9-2c84-481d-dbee-0f470fbfa24f"
      },
      "execution_count": 51,
      "outputs": [
        {
          "output_type": "execute_result",
          "data": {
            "text/plain": [
              "               model  car_type fuel_type  car_rating  year_to_start  riders  \\\n",
              "0     Kia Rio X-line   economy    petrol        3.78           2015   76163   \n",
              "1         VW Polo VI   economy    petrol        3.90           2015   78218   \n",
              "2    Renault Sandero  standart    petrol        6.30           2012   23340   \n",
              "3  Mercedes-Benz GLC  business    petrol        4.04           2011    1263   \n",
              "4    Renault Sandero  standart    petrol        4.70           2012   26428   \n",
              "\n",
              "   year_to_work  target_reg target_class  min_rating  mean_rating   speed_max  \\\n",
              "0          2021      108.53  another_bug         0.1     4.737759  180.855726   \n",
              "1          2021       35.20  electro_bug         0.0     4.480517  187.862734   \n",
              "2          2017       38.62   gear_stick         0.1     4.768391  102.382857   \n",
              "3          2020       30.34  engine_fuel         0.1     3.880920  172.793237   \n",
              "4          2017       30.45  engine_fuel         0.1     4.181149  203.462289   \n",
              "\n",
              "   speed_mean  \n",
              "0   44.660920  \n",
              "1   49.862069  \n",
              "2   44.005747  \n",
              "3   49.344828  \n",
              "4   50.603448  "
            ],
            "text/html": [
              "\n",
              "  <div id=\"df-ab2ed423-5543-45da-8003-35d95ddc20a3\" class=\"colab-df-container\">\n",
              "    <div>\n",
              "<style scoped>\n",
              "    .dataframe tbody tr th:only-of-type {\n",
              "        vertical-align: middle;\n",
              "    }\n",
              "\n",
              "    .dataframe tbody tr th {\n",
              "        vertical-align: top;\n",
              "    }\n",
              "\n",
              "    .dataframe thead th {\n",
              "        text-align: right;\n",
              "    }\n",
              "</style>\n",
              "<table border=\"1\" class=\"dataframe\">\n",
              "  <thead>\n",
              "    <tr style=\"text-align: right;\">\n",
              "      <th></th>\n",
              "      <th>model</th>\n",
              "      <th>car_type</th>\n",
              "      <th>fuel_type</th>\n",
              "      <th>car_rating</th>\n",
              "      <th>year_to_start</th>\n",
              "      <th>riders</th>\n",
              "      <th>year_to_work</th>\n",
              "      <th>target_reg</th>\n",
              "      <th>target_class</th>\n",
              "      <th>min_rating</th>\n",
              "      <th>mean_rating</th>\n",
              "      <th>speed_max</th>\n",
              "      <th>speed_mean</th>\n",
              "    </tr>\n",
              "  </thead>\n",
              "  <tbody>\n",
              "    <tr>\n",
              "      <th>0</th>\n",
              "      <td>Kia Rio X-line</td>\n",
              "      <td>economy</td>\n",
              "      <td>petrol</td>\n",
              "      <td>3.78</td>\n",
              "      <td>2015</td>\n",
              "      <td>76163</td>\n",
              "      <td>2021</td>\n",
              "      <td>108.53</td>\n",
              "      <td>another_bug</td>\n",
              "      <td>0.1</td>\n",
              "      <td>4.737759</td>\n",
              "      <td>180.855726</td>\n",
              "      <td>44.660920</td>\n",
              "    </tr>\n",
              "    <tr>\n",
              "      <th>1</th>\n",
              "      <td>VW Polo VI</td>\n",
              "      <td>economy</td>\n",
              "      <td>petrol</td>\n",
              "      <td>3.90</td>\n",
              "      <td>2015</td>\n",
              "      <td>78218</td>\n",
              "      <td>2021</td>\n",
              "      <td>35.20</td>\n",
              "      <td>electro_bug</td>\n",
              "      <td>0.0</td>\n",
              "      <td>4.480517</td>\n",
              "      <td>187.862734</td>\n",
              "      <td>49.862069</td>\n",
              "    </tr>\n",
              "    <tr>\n",
              "      <th>2</th>\n",
              "      <td>Renault Sandero</td>\n",
              "      <td>standart</td>\n",
              "      <td>petrol</td>\n",
              "      <td>6.30</td>\n",
              "      <td>2012</td>\n",
              "      <td>23340</td>\n",
              "      <td>2017</td>\n",
              "      <td>38.62</td>\n",
              "      <td>gear_stick</td>\n",
              "      <td>0.1</td>\n",
              "      <td>4.768391</td>\n",
              "      <td>102.382857</td>\n",
              "      <td>44.005747</td>\n",
              "    </tr>\n",
              "    <tr>\n",
              "      <th>3</th>\n",
              "      <td>Mercedes-Benz GLC</td>\n",
              "      <td>business</td>\n",
              "      <td>petrol</td>\n",
              "      <td>4.04</td>\n",
              "      <td>2011</td>\n",
              "      <td>1263</td>\n",
              "      <td>2020</td>\n",
              "      <td>30.34</td>\n",
              "      <td>engine_fuel</td>\n",
              "      <td>0.1</td>\n",
              "      <td>3.880920</td>\n",
              "      <td>172.793237</td>\n",
              "      <td>49.344828</td>\n",
              "    </tr>\n",
              "    <tr>\n",
              "      <th>4</th>\n",
              "      <td>Renault Sandero</td>\n",
              "      <td>standart</td>\n",
              "      <td>petrol</td>\n",
              "      <td>4.70</td>\n",
              "      <td>2012</td>\n",
              "      <td>26428</td>\n",
              "      <td>2017</td>\n",
              "      <td>30.45</td>\n",
              "      <td>engine_fuel</td>\n",
              "      <td>0.1</td>\n",
              "      <td>4.181149</td>\n",
              "      <td>203.462289</td>\n",
              "      <td>50.603448</td>\n",
              "    </tr>\n",
              "  </tbody>\n",
              "</table>\n",
              "</div>\n",
              "    <div class=\"colab-df-buttons\">\n",
              "\n",
              "  <div class=\"colab-df-container\">\n",
              "    <button class=\"colab-df-convert\" onclick=\"convertToInteractive('df-ab2ed423-5543-45da-8003-35d95ddc20a3')\"\n",
              "            title=\"Convert this dataframe to an interactive table.\"\n",
              "            style=\"display:none;\">\n",
              "\n",
              "  <svg xmlns=\"http://www.w3.org/2000/svg\" height=\"24px\" viewBox=\"0 -960 960 960\">\n",
              "    <path d=\"M120-120v-720h720v720H120Zm60-500h600v-160H180v160Zm220 220h160v-160H400v160Zm0 220h160v-160H400v160ZM180-400h160v-160H180v160Zm440 0h160v-160H620v160ZM180-180h160v-160H180v160Zm440 0h160v-160H620v160Z\"/>\n",
              "  </svg>\n",
              "    </button>\n",
              "\n",
              "  <style>\n",
              "    .colab-df-container {\n",
              "      display:flex;\n",
              "      gap: 12px;\n",
              "    }\n",
              "\n",
              "    .colab-df-convert {\n",
              "      background-color: #E8F0FE;\n",
              "      border: none;\n",
              "      border-radius: 50%;\n",
              "      cursor: pointer;\n",
              "      display: none;\n",
              "      fill: #1967D2;\n",
              "      height: 32px;\n",
              "      padding: 0 0 0 0;\n",
              "      width: 32px;\n",
              "    }\n",
              "\n",
              "    .colab-df-convert:hover {\n",
              "      background-color: #E2EBFA;\n",
              "      box-shadow: 0px 1px 2px rgba(60, 64, 67, 0.3), 0px 1px 3px 1px rgba(60, 64, 67, 0.15);\n",
              "      fill: #174EA6;\n",
              "    }\n",
              "\n",
              "    .colab-df-buttons div {\n",
              "      margin-bottom: 4px;\n",
              "    }\n",
              "\n",
              "    [theme=dark] .colab-df-convert {\n",
              "      background-color: #3B4455;\n",
              "      fill: #D2E3FC;\n",
              "    }\n",
              "\n",
              "    [theme=dark] .colab-df-convert:hover {\n",
              "      background-color: #434B5C;\n",
              "      box-shadow: 0px 1px 3px 1px rgba(0, 0, 0, 0.15);\n",
              "      filter: drop-shadow(0px 1px 2px rgba(0, 0, 0, 0.3));\n",
              "      fill: #FFFFFF;\n",
              "    }\n",
              "  </style>\n",
              "\n",
              "    <script>\n",
              "      const buttonEl =\n",
              "        document.querySelector('#df-ab2ed423-5543-45da-8003-35d95ddc20a3 button.colab-df-convert');\n",
              "      buttonEl.style.display =\n",
              "        google.colab.kernel.accessAllowed ? 'block' : 'none';\n",
              "\n",
              "      async function convertToInteractive(key) {\n",
              "        const element = document.querySelector('#df-ab2ed423-5543-45da-8003-35d95ddc20a3');\n",
              "        const dataTable =\n",
              "          await google.colab.kernel.invokeFunction('convertToInteractive',\n",
              "                                                    [key], {});\n",
              "        if (!dataTable) return;\n",
              "\n",
              "        const docLinkHtml = 'Like what you see? Visit the ' +\n",
              "          '<a target=\"_blank\" href=https://colab.research.google.com/notebooks/data_table.ipynb>data table notebook</a>'\n",
              "          + ' to learn more about interactive tables.';\n",
              "        element.innerHTML = '';\n",
              "        dataTable['output_type'] = 'display_data';\n",
              "        await google.colab.output.renderOutput(dataTable, element);\n",
              "        const docLink = document.createElement('div');\n",
              "        docLink.innerHTML = docLinkHtml;\n",
              "        element.appendChild(docLink);\n",
              "      }\n",
              "    </script>\n",
              "  </div>\n",
              "\n",
              "\n",
              "<div id=\"df-2ac98266-ad7f-4bdd-ab33-d4f078bb8113\">\n",
              "  <button class=\"colab-df-quickchart\" onclick=\"quickchart('df-2ac98266-ad7f-4bdd-ab33-d4f078bb8113')\"\n",
              "            title=\"Suggest charts\"\n",
              "            style=\"display:none;\">\n",
              "\n",
              "<svg xmlns=\"http://www.w3.org/2000/svg\" height=\"24px\"viewBox=\"0 0 24 24\"\n",
              "     width=\"24px\">\n",
              "    <g>\n",
              "        <path d=\"M19 3H5c-1.1 0-2 .9-2 2v14c0 1.1.9 2 2 2h14c1.1 0 2-.9 2-2V5c0-1.1-.9-2-2-2zM9 17H7v-7h2v7zm4 0h-2V7h2v10zm4 0h-2v-4h2v4z\"/>\n",
              "    </g>\n",
              "</svg>\n",
              "  </button>\n",
              "\n",
              "<style>\n",
              "  .colab-df-quickchart {\n",
              "      --bg-color: #E8F0FE;\n",
              "      --fill-color: #1967D2;\n",
              "      --hover-bg-color: #E2EBFA;\n",
              "      --hover-fill-color: #174EA6;\n",
              "      --disabled-fill-color: #AAA;\n",
              "      --disabled-bg-color: #DDD;\n",
              "  }\n",
              "\n",
              "  [theme=dark] .colab-df-quickchart {\n",
              "      --bg-color: #3B4455;\n",
              "      --fill-color: #D2E3FC;\n",
              "      --hover-bg-color: #434B5C;\n",
              "      --hover-fill-color: #FFFFFF;\n",
              "      --disabled-bg-color: #3B4455;\n",
              "      --disabled-fill-color: #666;\n",
              "  }\n",
              "\n",
              "  .colab-df-quickchart {\n",
              "    background-color: var(--bg-color);\n",
              "    border: none;\n",
              "    border-radius: 50%;\n",
              "    cursor: pointer;\n",
              "    display: none;\n",
              "    fill: var(--fill-color);\n",
              "    height: 32px;\n",
              "    padding: 0;\n",
              "    width: 32px;\n",
              "  }\n",
              "\n",
              "  .colab-df-quickchart:hover {\n",
              "    background-color: var(--hover-bg-color);\n",
              "    box-shadow: 0 1px 2px rgba(60, 64, 67, 0.3), 0 1px 3px 1px rgba(60, 64, 67, 0.15);\n",
              "    fill: var(--button-hover-fill-color);\n",
              "  }\n",
              "\n",
              "  .colab-df-quickchart-complete:disabled,\n",
              "  .colab-df-quickchart-complete:disabled:hover {\n",
              "    background-color: var(--disabled-bg-color);\n",
              "    fill: var(--disabled-fill-color);\n",
              "    box-shadow: none;\n",
              "  }\n",
              "\n",
              "  .colab-df-spinner {\n",
              "    border: 2px solid var(--fill-color);\n",
              "    border-color: transparent;\n",
              "    border-bottom-color: var(--fill-color);\n",
              "    animation:\n",
              "      spin 1s steps(1) infinite;\n",
              "  }\n",
              "\n",
              "  @keyframes spin {\n",
              "    0% {\n",
              "      border-color: transparent;\n",
              "      border-bottom-color: var(--fill-color);\n",
              "      border-left-color: var(--fill-color);\n",
              "    }\n",
              "    20% {\n",
              "      border-color: transparent;\n",
              "      border-left-color: var(--fill-color);\n",
              "      border-top-color: var(--fill-color);\n",
              "    }\n",
              "    30% {\n",
              "      border-color: transparent;\n",
              "      border-left-color: var(--fill-color);\n",
              "      border-top-color: var(--fill-color);\n",
              "      border-right-color: var(--fill-color);\n",
              "    }\n",
              "    40% {\n",
              "      border-color: transparent;\n",
              "      border-right-color: var(--fill-color);\n",
              "      border-top-color: var(--fill-color);\n",
              "    }\n",
              "    60% {\n",
              "      border-color: transparent;\n",
              "      border-right-color: var(--fill-color);\n",
              "    }\n",
              "    80% {\n",
              "      border-color: transparent;\n",
              "      border-right-color: var(--fill-color);\n",
              "      border-bottom-color: var(--fill-color);\n",
              "    }\n",
              "    90% {\n",
              "      border-color: transparent;\n",
              "      border-bottom-color: var(--fill-color);\n",
              "    }\n",
              "  }\n",
              "</style>\n",
              "\n",
              "  <script>\n",
              "    async function quickchart(key) {\n",
              "      const quickchartButtonEl =\n",
              "        document.querySelector('#' + key + ' button');\n",
              "      quickchartButtonEl.disabled = true;  // To prevent multiple clicks.\n",
              "      quickchartButtonEl.classList.add('colab-df-spinner');\n",
              "      try {\n",
              "        const charts = await google.colab.kernel.invokeFunction(\n",
              "            'suggestCharts', [key], {});\n",
              "      } catch (error) {\n",
              "        console.error('Error during call to suggestCharts:', error);\n",
              "      }\n",
              "      quickchartButtonEl.classList.remove('colab-df-spinner');\n",
              "      quickchartButtonEl.classList.add('colab-df-quickchart-complete');\n",
              "    }\n",
              "    (() => {\n",
              "      let quickchartButtonEl =\n",
              "        document.querySelector('#df-2ac98266-ad7f-4bdd-ab33-d4f078bb8113 button');\n",
              "      quickchartButtonEl.style.display =\n",
              "        google.colab.kernel.accessAllowed ? 'block' : 'none';\n",
              "    })();\n",
              "  </script>\n",
              "</div>\n",
              "    </div>\n",
              "  </div>\n"
            ],
            "application/vnd.google.colaboratory.intrinsic+json": {
              "type": "dataframe",
              "variable_name": "df",
              "summary": "{\n  \"name\": \"df\",\n  \"rows\": 2337,\n  \"fields\": [\n    {\n      \"column\": \"model\",\n      \"properties\": {\n        \"dtype\": \"category\",\n        \"num_unique_values\": 26,\n        \"samples\": [\n          \"Smart ForFour\",\n          \"Renault Kaptur\",\n          \"Kia Rio X-line\"\n        ],\n        \"semantic_type\": \"\",\n        \"description\": \"\"\n      }\n    },\n    {\n      \"column\": \"car_type\",\n      \"properties\": {\n        \"dtype\": \"category\",\n        \"num_unique_values\": 4,\n        \"samples\": [\n          \"standart\",\n          \"premium\",\n          \"economy\"\n        ],\n        \"semantic_type\": \"\",\n        \"description\": \"\"\n      }\n    },\n    {\n      \"column\": \"fuel_type\",\n      \"properties\": {\n        \"dtype\": \"category\",\n        \"num_unique_values\": 2,\n        \"samples\": [\n          \"electro\",\n          \"petrol\"\n        ],\n        \"semantic_type\": \"\",\n        \"description\": \"\"\n      }\n    },\n    {\n      \"column\": \"car_rating\",\n      \"properties\": {\n        \"dtype\": \"number\",\n        \"std\": 0.9969539766615568,\n        \"min\": 0.98,\n        \"max\": 8.9,\n        \"num_unique_values\": 269,\n        \"samples\": [\n          2.78,\n          2.1\n        ],\n        \"semantic_type\": \"\",\n        \"description\": \"\"\n      }\n    },\n    {\n      \"column\": \"year_to_start\",\n      \"properties\": {\n        \"dtype\": \"number\",\n        \"std\": 1,\n        \"min\": 2011,\n        \"max\": 2017,\n        \"num_unique_values\": 7,\n        \"samples\": [\n          2015,\n          2012\n        ],\n        \"semantic_type\": \"\",\n        \"description\": \"\"\n      }\n    },\n    {\n      \"column\": \"riders\",\n      \"properties\": {\n        \"dtype\": \"number\",\n        \"std\": 33755,\n        \"min\": 23,\n        \"max\": 142862,\n        \"num_unique_values\": 2306,\n        \"samples\": [\n          61719,\n          100108\n        ],\n        \"semantic_type\": \"\",\n        \"description\": \"\"\n      }\n    },\n    {\n      \"column\": \"year_to_work\",\n      \"properties\": {\n        \"dtype\": \"number\",\n        \"std\": 2,\n        \"min\": 2014,\n        \"max\": 2022,\n        \"num_unique_values\": 9,\n        \"samples\": [\n          2022,\n          2017\n        ],\n        \"semantic_type\": \"\",\n        \"description\": \"\"\n      }\n    },\n    {\n      \"column\": \"target_reg\",\n      \"properties\": {\n        \"dtype\": \"number\",\n        \"std\": 17.579568125863787,\n        \"min\": 18.92,\n        \"max\": 141.63,\n        \"num_unique_values\": 1891,\n        \"samples\": [\n          37.98,\n          58.11\n        ],\n        \"semantic_type\": \"\",\n        \"description\": \"\"\n      }\n    },\n    {\n      \"column\": \"target_class\",\n      \"properties\": {\n        \"dtype\": \"category\",\n        \"num_unique_values\": 9,\n        \"samples\": [\n          \"wheel_shake\",\n          \"electro_bug\"\n        ],\n        \"semantic_type\": \"\",\n        \"description\": \"\"\n      }\n    },\n    {\n      \"column\": \"min_rating\",\n      \"properties\": {\n        \"dtype\": \"number\",\n        \"std\": 0.16397828346003004,\n        \"min\": 0.0,\n        \"max\": 1.5,\n        \"num_unique_values\": 91,\n        \"samples\": [\n          0.67,\n          0.5\n        ],\n        \"semantic_type\": \"\",\n        \"description\": \"\"\n      }\n    },\n    {\n      \"column\": \"mean_rating\",\n      \"properties\": {\n        \"dtype\": \"number\",\n        \"std\": 0.4185875181615076,\n        \"min\": 3.529885057471265,\n        \"max\": 5.700747126436782,\n        \"num_unique_values\": 2223,\n        \"samples\": [\n          4.938505747126436,\n          4.750402298850575\n        ],\n        \"semantic_type\": \"\",\n        \"description\": \"\"\n      }\n    },\n    {\n      \"column\": \"speed_max\",\n      \"properties\": {\n        \"dtype\": \"number\",\n        \"std\": 33.211160987028705,\n        \"min\": 91.4235081222183,\n        \"max\": 209.98283950882248,\n        \"num_unique_values\": 1938,\n        \"samples\": [\n          109.38343955827206,\n          196.76859522747992\n        ],\n        \"semantic_type\": \"\",\n        \"description\": \"\"\n      }\n    },\n    {\n      \"column\": \"speed_mean\",\n      \"properties\": {\n        \"dtype\": \"number\",\n        \"std\": 2.761201815368068,\n        \"min\": 42.4367816091954,\n        \"max\": 53.132183908045974,\n        \"num_unique_values\": 1035,\n        \"samples\": [\n          51.14942528735632,\n          48.10344827586207\n        ],\n        \"semantic_type\": \"\",\n        \"description\": \"\"\n      }\n    }\n  ]\n}"
            }
          },
          "metadata": {},
          "execution_count": 51
        }
      ]
    },
    {
      "cell_type": "code",
      "source": [
        "df.info()"
      ],
      "metadata": {
        "colab": {
          "base_uri": "https://localhost:8080/"
        },
        "id": "5O0X6Ld30H7A",
        "outputId": "b54ec7f0-820f-4b99-828d-8f52066a1ad1"
      },
      "execution_count": 52,
      "outputs": [
        {
          "output_type": "stream",
          "name": "stdout",
          "text": [
            "<class 'pandas.core.frame.DataFrame'>\n",
            "Int64Index: 2337 entries, 0 to 2336\n",
            "Data columns (total 13 columns):\n",
            " #   Column         Non-Null Count  Dtype  \n",
            "---  ------         --------------  -----  \n",
            " 0   model          2337 non-null   object \n",
            " 1   car_type       2337 non-null   object \n",
            " 2   fuel_type      2337 non-null   object \n",
            " 3   car_rating     2337 non-null   float64\n",
            " 4   year_to_start  2337 non-null   int64  \n",
            " 5   riders         2337 non-null   int64  \n",
            " 6   year_to_work   2337 non-null   int64  \n",
            " 7   target_reg     2337 non-null   float64\n",
            " 8   target_class   2337 non-null   object \n",
            " 9   min_rating     2337 non-null   float64\n",
            " 10  mean_rating    2337 non-null   float64\n",
            " 11  speed_max      2337 non-null   float64\n",
            " 12  speed_mean     2337 non-null   float64\n",
            "dtypes: float64(6), int64(3), object(4)\n",
            "memory usage: 255.6+ KB\n"
          ]
        }
      ]
    },
    {
      "cell_type": "code",
      "source": [
        "categorical_cols = list(df.select_dtypes(include=['object']).columns)\n",
        "categorical_cols.remove('target_class')\n",
        "categorical_cols"
      ],
      "metadata": {
        "colab": {
          "base_uri": "https://localhost:8080/"
        },
        "id": "DNLKlUhEz03a",
        "outputId": "b43cede6-682b-40a1-f5c7-7ae12fcb7b93"
      },
      "execution_count": 53,
      "outputs": [
        {
          "output_type": "execute_result",
          "data": {
            "text/plain": [
              "['model', 'car_type', 'fuel_type']"
            ]
          },
          "metadata": {},
          "execution_count": 53
        }
      ]
    },
    {
      "cell_type": "code",
      "source": [
        "numerical_cols = list(df.select_dtypes(exclude=['object']).columns)\n",
        "numerical_cols"
      ],
      "metadata": {
        "colab": {
          "base_uri": "https://localhost:8080/"
        },
        "id": "12dQYXJf0Nbh",
        "outputId": "7c98dee1-8632-4c28-ee01-8d767339d74a"
      },
      "execution_count": 54,
      "outputs": [
        {
          "output_type": "execute_result",
          "data": {
            "text/plain": [
              "['car_rating',\n",
              " 'year_to_start',\n",
              " 'riders',\n",
              " 'year_to_work',\n",
              " 'target_reg',\n",
              " 'min_rating',\n",
              " 'mean_rating',\n",
              " 'speed_max',\n",
              " 'speed_mean']"
            ]
          },
          "metadata": {},
          "execution_count": 54
        }
      ]
    },
    {
      "cell_type": "code",
      "execution_count": 55,
      "metadata": {
        "id": "lqwlTU2gbuhz",
        "colab": {
          "base_uri": "https://localhost:8080/"
        },
        "outputId": "7040e74c-6947-413c-8f70-e18b1a1b39e3"
      },
      "outputs": [
        {
          "output_type": "stream",
          "name": "stdout",
          "text": [
            "Категориальные признаки: 3 ['model', 'car_type', 'fuel_type']\n",
            "Числовые признаки: 9 ['car_rating', 'year_to_start', 'riders', 'year_to_work', 'target_reg', 'min_rating', 'mean_rating', 'speed_max', 'speed_mean']\n",
            "Целевые переменные ['target_class']\n"
          ]
        }
      ],
      "source": [
        "features2drop = [...] # то, что надо выбросить\n",
        "targets = ['target_class'] # таргеты\n",
        "cat_features = categorical_cols # категориальные признаки\n",
        "\n",
        "num_features = numerical_cols # числовые признаки\n",
        "\n",
        "print('Категориальные признаки:', len(cat_features), cat_features)\n",
        "print('Числовые признаки:', len(num_features), num_features)\n",
        "print('Целевые переменные', targets)"
      ]
    },
    {
      "cell_type": "markdown",
      "source": [
        "#### Ссылка для рассмотрения функционала `CatBoostClassifier`\n",
        "\n",
        "[https://catboost.ai/en/docs/concepts/python-reference_catboostclassifier](https://catboost.ai/en/docs/concepts/python-reference_catboostclassifier)"
      ],
      "metadata": {
        "id": "Jd_F2sdm2Dx1"
      }
    },
    {
      "cell_type": "code",
      "execution_count": 56,
      "metadata": {
        "id": "tGK5sgaQbuhz",
        "colab": {
          "base_uri": "https://localhost:8080/",
          "height": 225,
          "referenced_widgets": [
            "74822d600dbe49f7ab99a66e56231805"
          ]
        },
        "outputId": "e07f3a50-9ed3-4e50-f02b-df7489cafe2d"
      },
      "outputs": [
        {
          "output_type": "display_data",
          "data": {
            "text/plain": [
              "MetricVisualizer(layout=Layout(align_self='stretch', height='500px'))"
            ],
            "application/vnd.jupyter.widget-view+json": {
              "version_major": 2,
              "version_minor": 0,
              "model_id": "74822d600dbe49f7ab99a66e56231805"
            }
          },
          "metadata": {}
        },
        {
          "output_type": "stream",
          "name": "stdout",
          "text": [
            "Learning rate set to 0.071862\n",
            "0:\tlearn: 1.9169541\ttest: 1.9088581\tbest: 1.9088581 (0)\ttotal: 93.9ms\tremaining: 4m 41s\n",
            "100:\tlearn: 0.2762319\ttest: 0.3197549\tbest: 0.3197549 (100)\ttotal: 1.31s\tremaining: 37.5s\n",
            "200:\tlearn: 0.2034405\ttest: 0.2933275\tbest: 0.2933275 (200)\ttotal: 2.83s\tremaining: 39.4s\n",
            "300:\tlearn: 0.1628751\ttest: 0.2941727\tbest: 0.2930016 (221)\ttotal: 3.95s\tremaining: 35.4s\n",
            "Stopped by overfitting detector  (100 iterations wait)\n",
            "\n",
            "bestTest = 0.2930015707\n",
            "bestIteration = 221\n",
            "\n",
            "Shrink model to first 222 iterations.\n"
          ]
        },
        {
          "output_type": "execute_result",
          "data": {
            "text/plain": [
              "<catboost.core.CatBoostClassifier at 0x7d139a792e30>"
            ]
          },
          "metadata": {},
          "execution_count": 56
        }
      ],
      "source": [
        "X = df[num_features]\n",
        "y = df[targets]\n",
        "\n",
        "X_train, X_test, y_train, y_test = train_test_split(X, y, test_size=0.2, random_state=4)\n",
        "\n",
        "model = CatBoostClassifier(iterations=3000, verbose=100, early_stopping_rounds=100)\n",
        "model.fit(X_train, y_train, plot=True, eval_set=(X_test, y_test))"
      ]
    },
    {
      "cell_type": "code",
      "source": [
        "predictions = model.predict(X_test)\n",
        "accuracy_score = sklearn.metrics.accuracy_score(y_test, predictions)\n",
        "round(accuracy_score, 3)"
      ],
      "metadata": {
        "colab": {
          "base_uri": "https://localhost:8080/"
        },
        "id": "yNC-rNbm3Z2I",
        "outputId": "5a63eafb-1bce-4868-898b-da926aa674bc"
      },
      "execution_count": 57,
      "outputs": [
        {
          "output_type": "execute_result",
          "data": {
            "text/plain": [
              "0.9"
            ]
          },
          "metadata": {},
          "execution_count": 57
        }
      ]
    },
    {
      "cell_type": "markdown",
      "source": [
        "#### **Вывод:**\n",
        "\n",
        "Метрика Accuracy порядка 90%, на мой взгляд, это довольно много, но возможно можно и лучше 😀"
      ],
      "metadata": {
        "id": "2vBJMb9-5Q0x"
      }
    },
    {
      "cell_type": "markdown",
      "metadata": {
        "id": "pWAOjGCIbuhz"
      },
      "source": [
        "# Дополнительное задание. Визуализация прогнозов, ошибок модели и важности признаков"
      ]
    },
    {
      "cell_type": "markdown",
      "metadata": {
        "id": "oCvZU_ksbuhz"
      },
      "source": [
        "<div class=\"alert alert-info\">\n",
        "\n",
        "**Цель блока** — визуализировать результаты прогнозирования, ошибки модели и важность признаков для лучшего понимания и анализа модели."
      ]
    },
    {
      "cell_type": "markdown",
      "metadata": {
        "id": "onsptUygbuhz"
      },
      "source": [
        "## Визуализация (5 баллов)"
      ]
    },
    {
      "cell_type": "markdown",
      "metadata": {
        "id": "t3gAT3YHbuhz"
      },
      "source": [
        "   \n",
        "1. Визуализируйте важность признаков встроенным методом в `CatBoost`  (помните, что не стоит сильно доверять этому рейтингу важности, т. к. для сильно скоррелированных признаков важность делится пополам — оба признака могут улететь вниз).\n",
        "\n",
        "2. Постройте `waterfall_plot` из библиотеки `SHAP` (подробнее во втором ноутбуке из полезных ссылок ниже).\n",
        "    \n",
        "3. Постройте `classification_report` из библиотеки `scikit-learn`.\n",
        "\n",
        "4. Постройте и визуализируйте матрицу смежности (`confusion_matrix`), посмотрите, в каких классах модель больше всего ошибается.\n",
        "    \n",
        "5. Для каждого графика/примененного метода проинтерпретируйте результаты и сделайте выводы.\n",
        "\n",
        "\n",
        "<h4> Критерии оценивания </h4>\n",
        "    \n",
        "- По 1 баллу за каждый корректно выполненный пункт.\n",
        "    \n",
        "</div>\n",
        "\n",
        "<div class=\"alert alert-success\">\n",
        "\n",
        "Визуализация может помочь даже после того, как мы **уже обучили** какую-нибудь модель. Например:\n",
        "\n",
        "- Понять, что мешает модели или чего не хватает, чтобы не допускать ошибки.\n",
        "- Сделать выводы, как можно улучшить точность в последующих экспериментах.\n",
        "- Визуализировать ошибки модели.\n",
        "- Отсеять лишние признаки.\n",
        "- Найти идеи для новых признаков.\n",
        "- Все зависит от типа ваших данных.\n",
        "\n",
        "<h3> Полезные источники </h3>\n",
        "    \n",
        "- Занятие про визуализацию и Seaborn.\n",
        "- Занятие про продвинутую визуализацию и анализ ошибок модели.\n",
        "\n",
        "</div>    "
      ]
    },
    {
      "cell_type": "markdown",
      "source": [
        "#### **Встроенный метод в CatBoost:**"
      ],
      "metadata": {
        "id": "ec4NoqB97IzH"
      }
    },
    {
      "cell_type": "code",
      "source": [
        "feature_importances = model.get_feature_importance(prettified=True)\n",
        "feature_importances"
      ],
      "metadata": {
        "colab": {
          "base_uri": "https://localhost:8080/",
          "height": 332
        },
        "id": "QZemlpdx7npu",
        "outputId": "3373d53d-be5d-48d6-960f-c749467fe455"
      },
      "execution_count": 58,
      "outputs": [
        {
          "output_type": "execute_result",
          "data": {
            "text/plain": [
              "      Feature Id  Importances\n",
              "0      speed_max    21.855770\n",
              "1    mean_rating    21.572492\n",
              "2     speed_mean    19.815566\n",
              "3     target_reg    18.843667\n",
              "4     min_rating    12.781436\n",
              "5     car_rating     1.784598\n",
              "6         riders     1.443606\n",
              "7   year_to_work     1.296165\n",
              "8  year_to_start     0.606700"
            ],
            "text/html": [
              "\n",
              "  <div id=\"df-19bdc7d7-9ac8-40d4-99df-e602c4ff6637\" class=\"colab-df-container\">\n",
              "    <div>\n",
              "<style scoped>\n",
              "    .dataframe tbody tr th:only-of-type {\n",
              "        vertical-align: middle;\n",
              "    }\n",
              "\n",
              "    .dataframe tbody tr th {\n",
              "        vertical-align: top;\n",
              "    }\n",
              "\n",
              "    .dataframe thead th {\n",
              "        text-align: right;\n",
              "    }\n",
              "</style>\n",
              "<table border=\"1\" class=\"dataframe\">\n",
              "  <thead>\n",
              "    <tr style=\"text-align: right;\">\n",
              "      <th></th>\n",
              "      <th>Feature Id</th>\n",
              "      <th>Importances</th>\n",
              "    </tr>\n",
              "  </thead>\n",
              "  <tbody>\n",
              "    <tr>\n",
              "      <th>0</th>\n",
              "      <td>speed_max</td>\n",
              "      <td>21.855770</td>\n",
              "    </tr>\n",
              "    <tr>\n",
              "      <th>1</th>\n",
              "      <td>mean_rating</td>\n",
              "      <td>21.572492</td>\n",
              "    </tr>\n",
              "    <tr>\n",
              "      <th>2</th>\n",
              "      <td>speed_mean</td>\n",
              "      <td>19.815566</td>\n",
              "    </tr>\n",
              "    <tr>\n",
              "      <th>3</th>\n",
              "      <td>target_reg</td>\n",
              "      <td>18.843667</td>\n",
              "    </tr>\n",
              "    <tr>\n",
              "      <th>4</th>\n",
              "      <td>min_rating</td>\n",
              "      <td>12.781436</td>\n",
              "    </tr>\n",
              "    <tr>\n",
              "      <th>5</th>\n",
              "      <td>car_rating</td>\n",
              "      <td>1.784598</td>\n",
              "    </tr>\n",
              "    <tr>\n",
              "      <th>6</th>\n",
              "      <td>riders</td>\n",
              "      <td>1.443606</td>\n",
              "    </tr>\n",
              "    <tr>\n",
              "      <th>7</th>\n",
              "      <td>year_to_work</td>\n",
              "      <td>1.296165</td>\n",
              "    </tr>\n",
              "    <tr>\n",
              "      <th>8</th>\n",
              "      <td>year_to_start</td>\n",
              "      <td>0.606700</td>\n",
              "    </tr>\n",
              "  </tbody>\n",
              "</table>\n",
              "</div>\n",
              "    <div class=\"colab-df-buttons\">\n",
              "\n",
              "  <div class=\"colab-df-container\">\n",
              "    <button class=\"colab-df-convert\" onclick=\"convertToInteractive('df-19bdc7d7-9ac8-40d4-99df-e602c4ff6637')\"\n",
              "            title=\"Convert this dataframe to an interactive table.\"\n",
              "            style=\"display:none;\">\n",
              "\n",
              "  <svg xmlns=\"http://www.w3.org/2000/svg\" height=\"24px\" viewBox=\"0 -960 960 960\">\n",
              "    <path d=\"M120-120v-720h720v720H120Zm60-500h600v-160H180v160Zm220 220h160v-160H400v160Zm0 220h160v-160H400v160ZM180-400h160v-160H180v160Zm440 0h160v-160H620v160ZM180-180h160v-160H180v160Zm440 0h160v-160H620v160Z\"/>\n",
              "  </svg>\n",
              "    </button>\n",
              "\n",
              "  <style>\n",
              "    .colab-df-container {\n",
              "      display:flex;\n",
              "      gap: 12px;\n",
              "    }\n",
              "\n",
              "    .colab-df-convert {\n",
              "      background-color: #E8F0FE;\n",
              "      border: none;\n",
              "      border-radius: 50%;\n",
              "      cursor: pointer;\n",
              "      display: none;\n",
              "      fill: #1967D2;\n",
              "      height: 32px;\n",
              "      padding: 0 0 0 0;\n",
              "      width: 32px;\n",
              "    }\n",
              "\n",
              "    .colab-df-convert:hover {\n",
              "      background-color: #E2EBFA;\n",
              "      box-shadow: 0px 1px 2px rgba(60, 64, 67, 0.3), 0px 1px 3px 1px rgba(60, 64, 67, 0.15);\n",
              "      fill: #174EA6;\n",
              "    }\n",
              "\n",
              "    .colab-df-buttons div {\n",
              "      margin-bottom: 4px;\n",
              "    }\n",
              "\n",
              "    [theme=dark] .colab-df-convert {\n",
              "      background-color: #3B4455;\n",
              "      fill: #D2E3FC;\n",
              "    }\n",
              "\n",
              "    [theme=dark] .colab-df-convert:hover {\n",
              "      background-color: #434B5C;\n",
              "      box-shadow: 0px 1px 3px 1px rgba(0, 0, 0, 0.15);\n",
              "      filter: drop-shadow(0px 1px 2px rgba(0, 0, 0, 0.3));\n",
              "      fill: #FFFFFF;\n",
              "    }\n",
              "  </style>\n",
              "\n",
              "    <script>\n",
              "      const buttonEl =\n",
              "        document.querySelector('#df-19bdc7d7-9ac8-40d4-99df-e602c4ff6637 button.colab-df-convert');\n",
              "      buttonEl.style.display =\n",
              "        google.colab.kernel.accessAllowed ? 'block' : 'none';\n",
              "\n",
              "      async function convertToInteractive(key) {\n",
              "        const element = document.querySelector('#df-19bdc7d7-9ac8-40d4-99df-e602c4ff6637');\n",
              "        const dataTable =\n",
              "          await google.colab.kernel.invokeFunction('convertToInteractive',\n",
              "                                                    [key], {});\n",
              "        if (!dataTable) return;\n",
              "\n",
              "        const docLinkHtml = 'Like what you see? Visit the ' +\n",
              "          '<a target=\"_blank\" href=https://colab.research.google.com/notebooks/data_table.ipynb>data table notebook</a>'\n",
              "          + ' to learn more about interactive tables.';\n",
              "        element.innerHTML = '';\n",
              "        dataTable['output_type'] = 'display_data';\n",
              "        await google.colab.output.renderOutput(dataTable, element);\n",
              "        const docLink = document.createElement('div');\n",
              "        docLink.innerHTML = docLinkHtml;\n",
              "        element.appendChild(docLink);\n",
              "      }\n",
              "    </script>\n",
              "  </div>\n",
              "\n",
              "\n",
              "<div id=\"df-0c3fe722-26f6-4c0f-b98b-aa615150d681\">\n",
              "  <button class=\"colab-df-quickchart\" onclick=\"quickchart('df-0c3fe722-26f6-4c0f-b98b-aa615150d681')\"\n",
              "            title=\"Suggest charts\"\n",
              "            style=\"display:none;\">\n",
              "\n",
              "<svg xmlns=\"http://www.w3.org/2000/svg\" height=\"24px\"viewBox=\"0 0 24 24\"\n",
              "     width=\"24px\">\n",
              "    <g>\n",
              "        <path d=\"M19 3H5c-1.1 0-2 .9-2 2v14c0 1.1.9 2 2 2h14c1.1 0 2-.9 2-2V5c0-1.1-.9-2-2-2zM9 17H7v-7h2v7zm4 0h-2V7h2v10zm4 0h-2v-4h2v4z\"/>\n",
              "    </g>\n",
              "</svg>\n",
              "  </button>\n",
              "\n",
              "<style>\n",
              "  .colab-df-quickchart {\n",
              "      --bg-color: #E8F0FE;\n",
              "      --fill-color: #1967D2;\n",
              "      --hover-bg-color: #E2EBFA;\n",
              "      --hover-fill-color: #174EA6;\n",
              "      --disabled-fill-color: #AAA;\n",
              "      --disabled-bg-color: #DDD;\n",
              "  }\n",
              "\n",
              "  [theme=dark] .colab-df-quickchart {\n",
              "      --bg-color: #3B4455;\n",
              "      --fill-color: #D2E3FC;\n",
              "      --hover-bg-color: #434B5C;\n",
              "      --hover-fill-color: #FFFFFF;\n",
              "      --disabled-bg-color: #3B4455;\n",
              "      --disabled-fill-color: #666;\n",
              "  }\n",
              "\n",
              "  .colab-df-quickchart {\n",
              "    background-color: var(--bg-color);\n",
              "    border: none;\n",
              "    border-radius: 50%;\n",
              "    cursor: pointer;\n",
              "    display: none;\n",
              "    fill: var(--fill-color);\n",
              "    height: 32px;\n",
              "    padding: 0;\n",
              "    width: 32px;\n",
              "  }\n",
              "\n",
              "  .colab-df-quickchart:hover {\n",
              "    background-color: var(--hover-bg-color);\n",
              "    box-shadow: 0 1px 2px rgba(60, 64, 67, 0.3), 0 1px 3px 1px rgba(60, 64, 67, 0.15);\n",
              "    fill: var(--button-hover-fill-color);\n",
              "  }\n",
              "\n",
              "  .colab-df-quickchart-complete:disabled,\n",
              "  .colab-df-quickchart-complete:disabled:hover {\n",
              "    background-color: var(--disabled-bg-color);\n",
              "    fill: var(--disabled-fill-color);\n",
              "    box-shadow: none;\n",
              "  }\n",
              "\n",
              "  .colab-df-spinner {\n",
              "    border: 2px solid var(--fill-color);\n",
              "    border-color: transparent;\n",
              "    border-bottom-color: var(--fill-color);\n",
              "    animation:\n",
              "      spin 1s steps(1) infinite;\n",
              "  }\n",
              "\n",
              "  @keyframes spin {\n",
              "    0% {\n",
              "      border-color: transparent;\n",
              "      border-bottom-color: var(--fill-color);\n",
              "      border-left-color: var(--fill-color);\n",
              "    }\n",
              "    20% {\n",
              "      border-color: transparent;\n",
              "      border-left-color: var(--fill-color);\n",
              "      border-top-color: var(--fill-color);\n",
              "    }\n",
              "    30% {\n",
              "      border-color: transparent;\n",
              "      border-left-color: var(--fill-color);\n",
              "      border-top-color: var(--fill-color);\n",
              "      border-right-color: var(--fill-color);\n",
              "    }\n",
              "    40% {\n",
              "      border-color: transparent;\n",
              "      border-right-color: var(--fill-color);\n",
              "      border-top-color: var(--fill-color);\n",
              "    }\n",
              "    60% {\n",
              "      border-color: transparent;\n",
              "      border-right-color: var(--fill-color);\n",
              "    }\n",
              "    80% {\n",
              "      border-color: transparent;\n",
              "      border-right-color: var(--fill-color);\n",
              "      border-bottom-color: var(--fill-color);\n",
              "    }\n",
              "    90% {\n",
              "      border-color: transparent;\n",
              "      border-bottom-color: var(--fill-color);\n",
              "    }\n",
              "  }\n",
              "</style>\n",
              "\n",
              "  <script>\n",
              "    async function quickchart(key) {\n",
              "      const quickchartButtonEl =\n",
              "        document.querySelector('#' + key + ' button');\n",
              "      quickchartButtonEl.disabled = true;  // To prevent multiple clicks.\n",
              "      quickchartButtonEl.classList.add('colab-df-spinner');\n",
              "      try {\n",
              "        const charts = await google.colab.kernel.invokeFunction(\n",
              "            'suggestCharts', [key], {});\n",
              "      } catch (error) {\n",
              "        console.error('Error during call to suggestCharts:', error);\n",
              "      }\n",
              "      quickchartButtonEl.classList.remove('colab-df-spinner');\n",
              "      quickchartButtonEl.classList.add('colab-df-quickchart-complete');\n",
              "    }\n",
              "    (() => {\n",
              "      let quickchartButtonEl =\n",
              "        document.querySelector('#df-0c3fe722-26f6-4c0f-b98b-aa615150d681 button');\n",
              "      quickchartButtonEl.style.display =\n",
              "        google.colab.kernel.accessAllowed ? 'block' : 'none';\n",
              "    })();\n",
              "  </script>\n",
              "</div>\n",
              "    </div>\n",
              "  </div>\n"
            ],
            "application/vnd.google.colaboratory.intrinsic+json": {
              "type": "dataframe",
              "variable_name": "feature_importances",
              "summary": "{\n  \"name\": \"feature_importances\",\n  \"rows\": 9,\n  \"fields\": [\n    {\n      \"column\": \"Feature Id\",\n      \"properties\": {\n        \"dtype\": \"string\",\n        \"num_unique_values\": 9,\n        \"samples\": [\n          \"year_to_work\",\n          \"mean_rating\",\n          \"car_rating\"\n        ],\n        \"semantic_type\": \"\",\n        \"description\": \"\"\n      }\n    },\n    {\n      \"column\": \"Importances\",\n      \"properties\": {\n        \"dtype\": \"number\",\n        \"std\": 9.684771992070916,\n        \"min\": 0.606700457395559,\n        \"max\": 21.85577027293923,\n        \"num_unique_values\": 9,\n        \"samples\": [\n          1.2961645940386946,\n          21.572492200653638,\n          1.7845978274144112\n        ],\n        \"semantic_type\": \"\",\n        \"description\": \"\"\n      }\n    }\n  ]\n}"
            }
          },
          "metadata": {},
          "execution_count": 58
        }
      ]
    },
    {
      "cell_type": "code",
      "execution_count": 59,
      "metadata": {
        "id": "EYvkiOcrbuh0",
        "colab": {
          "base_uri": "https://localhost:8080/",
          "height": 522
        },
        "outputId": "d9c6f9cc-f934-480b-9fff-b16f2c90f3a7"
      },
      "outputs": [
        {
          "output_type": "display_data",
          "data": {
            "text/plain": [
              "<Figure size 1000x600 with 1 Axes>"
            ],
            "image/png": "[encoded data removed]"
          },
          "metadata": {}
        }
      ],
      "source": [
        "# Получение важности признаков\n",
        "feature_importances = model.get_feature_importance()\n",
        "sorted_indices = np.argsort(feature_importances)\n",
        "\n",
        "# Визуализация важности признаков\n",
        "plt.figure(figsize=(10, 6))\n",
        "plt.barh(range(len(feature_importances)), feature_importances[sorted_indices])\n",
        "plt.yticks(range(len(feature_importances)), X_train.columns[sorted_indices])\n",
        "plt.show()"
      ]
    },
    {
      "cell_type": "markdown",
      "source": [
        "#### **Waterfall Plot:**"
      ],
      "metadata": {
        "id": "AZ6yEQ1e8woB"
      }
    },
    {
      "cell_type": "code",
      "source": [
        "!pip install shap"
      ],
      "metadata": {
        "colab": {
          "base_uri": "https://localhost:8080/"
        },
        "id": "q0GVRe688sB5",
        "outputId": "21ce74ba-5b34-4871-c763-f41dc76fa8a9"
      },
      "execution_count": 60,
      "outputs": [
        {
          "output_type": "stream",
          "name": "stdout",
          "text": [
            "Requirement already satisfied: shap in /usr/local/lib/python3.10/dist-packages (0.45.0)\n",
            "Requirement already satisfied: numpy in /usr/local/lib/python3.10/dist-packages (from shap) (1.25.2)\n",
            "Requirement already satisfied: scipy in /usr/local/lib/python3.10/dist-packages (from shap) (1.11.4)\n",
            "Requirement already satisfied: scikit-learn in /usr/local/lib/python3.10/dist-packages (from shap) (1.2.2)\n",
            "Requirement already satisfied: pandas in /usr/local/lib/python3.10/dist-packages (from shap) (1.5.3)\n",
            "Requirement already satisfied: tqdm>=4.27.0 in /usr/local/lib/python3.10/dist-packages (from shap) (4.66.2)\n",
            "Requirement already satisfied: packaging>20.9 in /usr/local/lib/python3.10/dist-packages (from shap) (24.0)\n",
            "Requirement already satisfied: slicer==0.0.7 in /usr/local/lib/python3.10/dist-packages (from shap) (0.0.7)\n",
            "Requirement already satisfied: numba in /usr/local/lib/python3.10/dist-packages (from shap) (0.58.1)\n",
            "Requirement already satisfied: cloudpickle in /usr/local/lib/python3.10/dist-packages (from shap) (2.2.1)\n",
            "Requirement already satisfied: llvmlite<0.42,>=0.41.0dev0 in /usr/local/lib/python3.10/dist-packages (from numba->shap) (0.41.1)\n",
            "Requirement already satisfied: python-dateutil>=2.8.1 in /usr/local/lib/python3.10/dist-packages (from pandas->shap) (2.8.2)\n",
            "Requirement already satisfied: pytz>=2020.1 in /usr/local/lib/python3.10/dist-packages (from pandas->shap) (2023.4)\n",
            "Requirement already satisfied: joblib>=1.1.1 in /usr/local/lib/python3.10/dist-packages (from scikit-learn->shap) (1.3.2)\n",
            "Requirement already satisfied: threadpoolctl>=2.0.0 in /usr/local/lib/python3.10/dist-packages (from scikit-learn->shap) (3.3.0)\n",
            "Requirement already satisfied: six>=1.5 in /usr/local/lib/python3.10/dist-packages (from python-dateutil>=2.8.1->pandas->shap) (1.16.0)\n"
          ]
        }
      ]
    },
    {
      "cell_type": "code",
      "source": [
        "import shap\n",
        "\n",
        "explainer = shap.Explainer(model=model)\n",
        "shap_values = explainer(X_test)\n",
        "\n",
        "shap.plots.waterfall(shap_values[0,:,1])"
      ],
      "metadata": {
        "colab": {
          "base_uri": "https://localhost:8080/",
          "height": 579
        },
        "id": "0WAjRA7BCp5a",
        "outputId": "8a16ee46-320c-47a9-c644-e56a1db49dbf"
      },
      "execution_count": 77,
      "outputs": [
        {
          "output_type": "display_data",
          "data": {
            "text/plain": [
              "<Figure size 800x600 with 3 Axes>"
            ],
            "image/png": "[encoded data removed]"
          },
          "metadata": {}
        }
      ]
    },
    {
      "cell_type": "markdown",
      "source": [
        "#### **Classification Report**"
      ],
      "metadata": {
        "id": "BdtowXDuE_zi"
      }
    },
    {
      "cell_type": "code",
      "source": [
        "from sklearn.metrics import classification_report\n",
        "report = classification_report(y_test, predictions)\n",
        "print(report)"
      ],
      "metadata": {
        "colab": {
          "base_uri": "https://localhost:8080/"
        },
        "id": "KdCuQsahFAFh",
        "outputId": "884f5881-90fe-4bd8-d41d-305f88e80fa3"
      },
      "execution_count": 78,
      "outputs": [
        {
          "output_type": "stream",
          "name": "stdout",
          "text": [
            "                 precision    recall  f1-score   support\n",
            "\n",
            "    another_bug       0.90      0.97      0.93        58\n",
            "      break_bug       1.00      1.00      1.00        60\n",
            "    electro_bug       1.00      1.00      1.00        47\n",
            "   engine_check       0.90      0.88      0.89        42\n",
            "    engine_fuel       0.85      0.77      0.81        52\n",
            "engine_ignition       0.84      0.78      0.81        59\n",
            "engine_overheat       0.71      0.81      0.76        52\n",
            "     gear_stick       0.98      0.95      0.97        62\n",
            "    wheel_shake       0.92      0.94      0.93        36\n",
            "\n",
            "       accuracy                           0.90       468\n",
            "      macro avg       0.90      0.90      0.90       468\n",
            "   weighted avg       0.90      0.90      0.90       468\n",
            "\n"
          ]
        }
      ]
    },
    {
      "cell_type": "markdown",
      "source": [
        "#### **Confusion Matrix**"
      ],
      "metadata": {
        "id": "1K0rfbdBFZVa"
      }
    },
    {
      "cell_type": "code",
      "source": [
        "from sklearn.metrics import confusion_matrix\n",
        "confusion_matrix = sklearn.metrics.confusion_matrix(y_test, predictions)\n",
        "\n",
        "plt.figure(figsize=(10, 6))\n",
        "sns.heatmap(confusion_matrix, annot=True)\n",
        "plt.xlabel('Предсказанные данные')\n",
        "plt.ylabel('Настоящие данные')\n",
        "plt.show();"
      ],
      "metadata": {
        "colab": {
          "base_uri": "https://localhost:8080/",
          "height": 547
        },
        "id": "7dmMnL1gFZaq",
        "outputId": "7c1ace52-13ee-4ca8-ce96-199221ed37d2"
      },
      "execution_count": 80,
      "outputs": [
        {
          "output_type": "display_data",
          "data": {
            "text/plain": [
              "<Figure size 1000x600 with 2 Axes>"
            ],
            "image/png": "[encoded data removed]"
          },
          "metadata": {}
        }
      ]
    },
    {
      "cell_type": "markdown",
      "metadata": {
        "id": "pL8evJIMbuh0"
      },
      "source": [
        "# Домашнее задание 3. Оптимизация. Тюнинг гиперпараметров с помощью `Optuna`"
      ]
    },
    {
      "cell_type": "markdown",
      "metadata": {
        "id": "ZmanV8V8buh0"
      },
      "source": [
        "<div class=\"alert alert-info\">\n",
        "\n",
        "**Цель блока** — улучшить качество предсказания, произведя подбор гиперпараметров для модели с помощью `Optuna`."
      ]
    },
    {
      "cell_type": "markdown",
      "metadata": {
        "id": "qEbxkZf8buh1"
      },
      "source": [
        "## Подбор гиперпараметров (3 балла)"
      ]
    },
    {
      "cell_type": "markdown",
      "metadata": {
        "id": "XogayH7Hbuh1"
      },
      "source": [
        "1. Напишите `objective` функцию и запустите `Optuna`.\n",
        "2. Подберите гиперпараметры для `CatBoostClassifier` (минимум 3).\n",
        "3. Обучите модель с новыми гиперпараметрами, сравните качество и сделайте выводы.\n",
        "\n",
        "    \n",
        "<h4> Критерии оценивания </h4>\n",
        "    \n",
        "- 1 балл за каждый корректно выполненный пункт.\n",
        "    \n",
        "</div>"
      ]
    },
    {
      "cell_type": "code",
      "execution_count": null,
      "metadata": {
        "id": "UrNbom9qbuh1"
      },
      "outputs": [],
      "source": [
        "# YOUR CODE HERE"
      ]
    },
    {
      "cell_type": "markdown",
      "source": [
        "### Общая информация по `Optuna`"
      ],
      "metadata": {
        "id": "ayIdErsgjayi"
      }
    },
    {
      "cell_type": "markdown",
      "metadata": {
        "tags": [],
        "id": "a6Y35ioqbuh0"
      },
      "source": [
        "#### Ключевые особенности <code>Optuna</code>\n",
        "\n"
      ]
    },
    {
      "cell_type": "markdown",
      "source": [
        "- Легковесность и универсальность — можно подбирать оптимальные параметры под любые функции и метрики.\n",
        "- SOTA-алгоритмы, адаптированные для поиска гиперпараметров.\n",
        "- Параллелизация и различные методы прунинга.\n",
        "- Встроенная визуализация.\n",
        "- Интеграция со множеством популярных библиотек (бустинги, sklearn, PyTorch, W&B и другие).\n",
        "\n",
        "Разберем Optuna по частям, чтобы понять, как ее использовать."
      ],
      "metadata": {
        "id": "EFwQ3_NStdFY"
      }
    },
    {
      "cell_type": "markdown",
      "source": [
        "#### <code>Study</code>: оптимизация, базирующаяся на <code>Objective</code> функции"
      ],
      "metadata": {
        "id": "GIT2J4INtxaf"
      }
    },
    {
      "cell_type": "markdown",
      "metadata": {
        "id": "wqPh6XVybuh0"
      },
      "source": [
        "\n",
        "\n",
        "В `Objective`-функцию нужно написать код подсчета метрики, которую возвращаем. `Objective` вызывается Optuna много раз для подбора лучших параметров.\n",
        "```python\n",
        "def objective(trial, ...):\n",
        "    # calculate score...\n",
        "    return score\n",
        "```\n",
        "\n",
        "<h4> <code>Trial</code> — одно выполнение <code>Objective</code>-функции</h4>\n",
        "\n",
        "В `trial`-объекте мы передаем параметры для «перебора», используя для каждого типа свой метод. Например:\n",
        "\n",
        "```python\n",
        "# метод `suggest_float` показывает, что перебираем `float` значения, от 0 и до 1.5 границы\n",
        "param = trial.suggest_float('param', 0, 1.5)\n",
        "\n",
        "# Категориальное значение\n",
        "loss_function = trial.suggest_categorical('loss', ['Logloss', 'CrossEntropy'])\n",
        "\n",
        "# Целочисленное значение\n",
        "depth = trial.suggest_int('depth', 5, 8)\n",
        "\n",
        "# Равномерное распределение\n",
        "learning_rate = trial.suggest_uniform('learning_rate', 0.0, 1.0)\n",
        "```"
      ]
    },
    {
      "cell_type": "markdown",
      "source": [
        "#### `Study` parameters"
      ],
      "metadata": {
        "id": "4huC_vW7uI4o"
      }
    },
    {
      "cell_type": "markdown",
      "metadata": {
        "id": "Cq94BjhWbuh0"
      },
      "source": [
        "Инициализируем объект `study`, который начнет перебор и сохранит в себе историю результатов.\n",
        "Если мы стараемся увеличить метрику, а не уменьшить ошибку, то используем `create_study(direction='maximize')`.\n",
        "```python\n",
        "study = optuna.create_study()\n",
        "study.optimize(objective, n_trials=10)\n",
        "```"
      ]
    },
    {
      "cell_type": "markdown",
      "metadata": {
        "id": "x9AvfTv4buh0"
      },
      "source": [
        "<div class=\"alert alert-info\">\n",
        "    \n",
        "В [`Optuna`](https://optuna.readthedocs.io/en/stable/index.html) реализовано несколько методов (`sampler`) подбора параметров (в том числе классические):\n",
        "* `GridSampler`\n",
        "* `RandomSampler`\n",
        "* `Tree-Structed Parzen Estimator` (`TPESampler` — самый популярный, дефолтный)\n",
        "* `BruteForceSampler`\n",
        "* [Другие 4 метода](https://optuna.readthedocs.io/en/stable/reference/samplers/index.html#module-optuna.samplers) (можно написать собственный семплер)"
      ]
    },
    {
      "cell_type": "markdown",
      "metadata": {
        "tags": [],
        "id": "3g4-aEHabuh0"
      },
      "source": [
        "### Советы по перебору параметров"
      ]
    },
    {
      "cell_type": "markdown",
      "source": [
        "- Иметь понимание важности параметров.\n",
        "- Число `iterations` лучше взять с запасом и зафиксировать, при этом ограничив через `early_stopping_rounds`.\n",
        "- Подсмотреть или чувствовать диапазоны и шаг значений.\n",
        "- Исключить то, что перебирать не нужно (`random_seed` , `eval_metric`, `thread_count` и прочее).\n",
        "- Используйте информацию с прошлых попыток."
      ],
      "metadata": {
        "id": "g3b8cs4Mt7pq"
      }
    },
    {
      "cell_type": "markdown",
      "metadata": {
        "id": "dXv8NCp_buh1"
      },
      "source": [
        "# Домашнее задание 4. Блендинг"
      ]
    },
    {
      "cell_type": "markdown",
      "metadata": {
        "id": "8-bhQKWGbuh1"
      },
      "source": [
        "<div class=\"alert alert-info\">\n",
        "\n",
        "**Цель блока** — улучшить качество предсказания, объединив несколько моделей вместе методом блендинга."
      ]
    },
    {
      "cell_type": "markdown",
      "metadata": {
        "id": "ZtI-eK3xbuh1"
      },
      "source": [
        "## Задание 6. Блендинг (10 баллов)"
      ]
    },
    {
      "cell_type": "markdown",
      "metadata": {
        "id": "8v9Onoo9buh1"
      },
      "source": [
        "1. Построить и обучить модели:\n",
        "    - `CatBoostClassifier`,\n",
        "    - `LightGBMClassifier (goss)`,\n",
        "    - `XGBoostClassifier (dart)`,\n",
        "    - `RandomForestClassifier`.\n",
        "2. Сделать предсказания каждой моделью, оценить качество.\n",
        "3. Реализовать блендинг двумя способами, оценить качество и сравнить с предыдущим пунктом:\n",
        "    - `Hard Voting` —  метод, при котором делаем голосование всех моделей и выбираем самый популярный класс.\n",
        "    - `Soft Voting` —  метод, при котором мы складываем вероятности предсказания всех моделей по каждому классу и потом выбираем самый класс с максимальной суммой.\n",
        "    \n",
        "<h4> Критерии оценивания </h4>\n",
        "    \n",
        "- Обучены 4 модели — 1 балл за каждую обученную модель, всего 4 балла.\n",
        "- Для модели проведен подбор гиперпараметров — 0,5 балла за каждый параметр, всего 2 балла.\n",
        "- Сделаны предсказания каждой модели и оценено качество — 1 балл.\n",
        "- Реализован `Hard Voting` — 1 балл.\n",
        "- Реализован `Soft Voting` — 1 балл.\n",
        "- Сделаны выводы — 1 балл.\n",
        "    \n",
        "</div>"
      ]
    },
    {
      "cell_type": "code",
      "execution_count": null,
      "metadata": {
        "id": "Mfi_sxnjbuh2"
      },
      "outputs": [],
      "source": [
        "# YOUR CODE HERE"
      ]
    },
    {
      "cell_type": "markdown",
      "source": [
        "### Общая информация о блендинге"
      ],
      "metadata": {
        "id": "O2utYsm3mShl"
      }
    },
    {
      "cell_type": "markdown",
      "metadata": {
        "id": "-JNyyolfbuh1"
      },
      "source": [
        "**Основная идея** — взять от каждого алгоритма лучшее и совместить несколько разных ML-моделей в одну.\n",
        "\n",
        "Что это дает:\n",
        "- Увеличивается обобщающая способность финальной модели и качество улучшается.\n",
        "- Модель становится более стабильной, что позволяет не слететь на приватном лидерборде.\n",
        "\n",
        "Особенно хорошо накидывает блендинг, если смешиваемые модели имеют разную природу — например, нейронные сети, kNN и решающие деревья. Они выучивают разные зависимости и хорошо дополняют друг друга.\n",
        "\n",
        "</div>"
      ]
    },
    {
      "cell_type": "markdown",
      "metadata": {
        "id": "C5w0RwnYbuh3"
      },
      "source": [
        "# <center id=\"part6\"> Отправка финального решения на лидерборд на Kaggle"
      ]
    },
    {
      "cell_type": "markdown",
      "metadata": {
        "id": "wpt2Bdimbuh3"
      },
      "source": [
        "<div class=\"alert alert-info\">\n",
        "\n",
        "**Цель блока** — сделать предсказание с помощью блендинга для тестовой части датасета, отправить результат [в соревнование на Kaggle](https://www.kaggle.com/competitions/competative-data-science-course-by-data-feeling/overview)."
      ]
    },
    {
      "cell_type": "markdown",
      "metadata": {
        "id": "gfYqF37Cbuh3"
      },
      "source": [
        "## Задание 8. Предсказание на тестовом датасете и отправка на Kaggle"
      ]
    },
    {
      "cell_type": "markdown",
      "metadata": {
        "id": "m_ExuGjabuh3"
      },
      "source": [
        "1. Сделать предобработку для тестового датасета, присоединить к нему информацию из других датасетов и добавить признаки, которые генерировали для тренировочного датасета.\n",
        "2. Сделать предсказания каждой моделью, которую хотите включить в ансамбль, но минимум их должно быть 3.\n",
        "3. Сделать блендинг с помощью `Hard Voting` или `Soft Voting` на ваш выбор.\n",
        "4. Сохранить результат предсказания в `csv` файл и отправить решение на Kaggle.\n",
        "    \n",
        "<h4> Критерии оценивания </h4>\n",
        "    \n",
        "- 0 баллов за задание, если итоговый скор на лидерборде меньше чем `0.9`.\n",
        "- 1 балл за каждый выполненный пункт.\n",
        "\n",
        "</div>"
      ]
    },
    {
      "cell_type": "code",
      "execution_count": null,
      "metadata": {
        "id": "Cnp6usAybuh4"
      },
      "outputs": [],
      "source": [
        "car_test = pd.read_csv('https://raw.githubusercontent.com/a-milenkin/Competitive_Data_Science/main/data/car_test.csv')\n",
        "car_test.head(3)"
      ]
    },
    {
      "cell_type": "code",
      "execution_count": null,
      "metadata": {
        "id": "ZEZhf8gabuh4"
      },
      "outputs": [],
      "source": [
        "# YOUR CODE HERE"
      ]
    },
    {
      "cell_type": "markdown",
      "metadata": {
        "id": "cUuphISJbuh4"
      },
      "source": [
        "### Советы по отправке кода на Kaggle\n"
      ]
    },
    {
      "cell_type": "markdown",
      "source": [
        "\n",
        "Если пишете код на `Kaggle`, то для отправки решения:\n",
        "\n",
        "1. Нажать Save Version.\n",
        "2. Проверить, что в Advanced Settings выбрано «Всегда сохранять результаты ноутбука».\n",
        "3. Выбрать тип сохранения Save & Run All (Commit).\n",
        "4. Нажать кнопку Save."
      ],
      "metadata": {
        "id": "ZAQLSpKWu4aI"
      }
    }
  ],
  "metadata": {
    "kernelspec": {
      "display_name": "Python 3",
      "name": "python3"
    },
    "language_info": {
      "codemirror_mode": {
        "name": "ipython",
        "version": 3
      },
      "file_extension": ".py",
      "mimetype": "text/x-python",
      "name": "python",
      "nbconvert_exporter": "python",
      "pygments_lexer": "ipython3",
      "version": "3.10.13"
    },
    "colab": {
      "provenance": [],
      "gpuType": "T4"
    },
    "accelerator": "GPU",
    "widgets": {
      "application/vnd.jupyter.widget-state+json": {
        "74822d600dbe49f7ab99a66e56231805": {
          "model_module": "catboost-widget",
          "model_name": "CatboostWidgetModel",
          "model_module_version": "^1.0.0",
          "state": {
            "_dom_classes": [],
            "_model_module": "catboost-widget",
            "_model_module_version": "^1.0.0",
            "_model_name": "CatboostWidgetModel",
            "_view_count": null,
            "_view_module": "catboost-widget",
            "_view_module_version": "^1.0.0",
            "_view_name": "CatboostWidgetView",
            "data": {
              "catboost_info": {
                "path": "catboost_info",
                "name": "catboost_info",
                "content": {
                  "passed_iterations": 321,
                  "total_iterations": 3000,
                  "data": {
                    "iterations": [
                      {
                        "learn": [
                          1.916954053
                        ],
                        "iteration": 0,
                        "passed_time": 0.09389567191,
                        "remaining_time": 281.5931201,
                        "test": [
                          1.908858076
                        ]
                      },
                      {
                        "learn": [
                          1.699455257
                        ],
                        "iteration": 1,
                        "passed_time": 0.1224116832,
                        "remaining_time": 183.4951132,
                        "test": [
                          1.690792785
                        ]
                      },
                      {
                        "learn": [
                          1.539304589
                        ],
                        "iteration": 2,
                        "passed_time": 0.1530822022,
                        "remaining_time": 152.92912,
                        "test": [
                          1.528224055
                        ]
                      },
                      {
                        "learn": [
                          1.405734538
                        ],
                        "iteration": 3,
                        "passed_time": 0.1643958625,
                        "remaining_time": 123.132501,
                        "test": [
                          1.39939801
                        ]
                      },
                      {
                        "learn": [
                          1.30462772
                        ],
                        "iteration": 4,
                        "passed_time": 0.1754867551,
                        "remaining_time": 105.1165663,
                        "test": [
                          1.302204033
                        ]
                      },
                      {
                        "learn": [
                          1.218657978
                        ],
                        "iteration": 5,
                        "passed_time": 0.186393076,
                        "remaining_time": 93.01014493,
                        "test": [
                          1.217015708
                        ]
                      },
                      {
                        "learn": [
                          1.138424638
                        ],
                        "iteration": 6,
                        "passed_time": 0.1975778725,
                        "remaining_time": 84.4786532,
                        "test": [
                          1.140630503
                        ]
                      },
                      {
                        "learn": [
                          1.068279846
                        ],
                        "iteration": 7,
                        "passed_time": 0.2089069938,
                        "remaining_time": 78.13121566,
                        "test": [
                          1.065878211
                        ]
                      },
                      {
                        "learn": [
                          1.016103018
                        ],
                        "iteration": 8,
                        "passed_time": 0.2201466361,
                        "remaining_time": 73.16206541,
                        "test": [
                          1.015020473
                        ]
                      },
                      {
                        "learn": [
                          0.9574980918
                        ],
                        "iteration": 9,
                        "passed_time": 0.2307566625,
                        "remaining_time": 68.99624209,
                        "test": [
                          0.9596535931
                        ]
                      },
                      {
                        "learn": [
                          0.9105699355
                        ],
                        "iteration": 10,
                        "passed_time": 0.2422474205,
                        "remaining_time": 65.8252309,
                        "test": [
                          0.9115971957
                        ]
                      },
                      {
                        "learn": [
                          0.8707955225
                        ],
                        "iteration": 11,
                        "passed_time": 0.253434929,
                        "remaining_time": 63.10529732,
                        "test": [
                          0.8720884738
                        ]
                      },
                      {
                        "learn": [
                          0.8311190135
                        ],
                        "iteration": 12,
                        "passed_time": 0.2642231281,
                        "remaining_time": 60.7103449,
                        "test": [
                          0.8346970408
                        ]
                      },
                      {
                        "learn": [
                          0.7996100201
                        ],
                        "iteration": 13,
                        "passed_time": 0.2747057387,
                        "remaining_time": 58.59080969,
                        "test": [
                          0.8043179233
                        ]
                      },
                      {
                        "learn": [
                          0.7615976672
                        ],
                        "iteration": 14,
                        "passed_time": 0.2857516584,
                        "remaining_time": 56.86458002,
                        "test": [
                          0.7663376066
                        ]
                      },
                      {
                        "learn": [
                          0.731738619
                        ],
                        "iteration": 15,
                        "passed_time": 0.2971092216,
                        "remaining_time": 55.41086983,
                        "test": [
                          0.7366589077
                        ]
                      },
                      {
                        "learn": [
                          0.7052944201
                        ],
                        "iteration": 16,
                        "passed_time": 0.3081899502,
                        "remaining_time": 54.07827185,
                        "test": [
                          0.7098538351
                        ]
                      },
                      {
                        "learn": [
                          0.6759905854
                        ],
                        "iteration": 17,
                        "passed_time": 0.3196532523,
                        "remaining_time": 52.95588879,
                        "test": [
                          0.6818747238
                        ]
                      },
                      {
                        "learn": [
                          0.6490123553
                        ],
                        "iteration": 18,
                        "passed_time": 0.3310410764,
                        "remaining_time": 51.93860257,
                        "test": [
                          0.6539637484
                        ]
                      },
                      {
                        "learn": [
                          0.6270432979
                        ],
                        "iteration": 19,
                        "passed_time": 0.3423069158,
                        "remaining_time": 51.00373045,
                        "test": [
                          0.6325732225
                        ]
                      },
                      {
                        "learn": [
                          0.6048168959
                        ],
                        "iteration": 20,
                        "passed_time": 0.353037488,
                        "remaining_time": 50.08088937,
                        "test": [
                          0.6097666014
                        ]
                      },
                      {
                        "learn": [
                          0.5902077932
                        ],
                        "iteration": 21,
                        "passed_time": 0.3633953937,
                        "remaining_time": 49.19052194,
                        "test": [
                          0.5961490588
                        ]
                      },
                      {
                        "learn": [
                          0.5739206459
                        ],
                        "iteration": 22,
                        "passed_time": 0.374058927,
                        "remaining_time": 48.4162359,
                        "test": [
                          0.5815602217
                        ]
                      },
                      {
                        "learn": [
                          0.556657151
                        ],
                        "iteration": 23,
                        "passed_time": 0.3851655836,
                        "remaining_time": 47.76053237,
                        "test": [
                          0.563524566
                        ]
                      },
                      {
                        "learn": [
                          0.5417034927
                        ],
                        "iteration": 24,
                        "passed_time": 0.3958424149,
                        "remaining_time": 47.10524738,
                        "test": [
                          0.5486898763
                        ]
                      },
                      {
                        "learn": [
                          0.5256354242
                        ],
                        "iteration": 25,
                        "passed_time": 0.406641114,
                        "remaining_time": 46.51348743,
                        "test": [
                          0.5328021806
                        ]
                      },
                      {
                        "learn": [
                          0.5114750193
                        ],
                        "iteration": 26,
                        "passed_time": 0.4177118707,
                        "remaining_time": 45.9947182,
                        "test": [
                          0.5183751098
                        ]
                      },
                      {
                        "learn": [
                          0.5009410609
                        ],
                        "iteration": 27,
                        "passed_time": 0.4288235313,
                        "remaining_time": 45.51655482,
                        "test": [
                          0.5078548406
                        ]
                      },
                      {
                        "learn": [
                          0.4897768451
                        ],
                        "iteration": 28,
                        "passed_time": 0.4395528215,
                        "remaining_time": 45.03142871,
                        "test": [
                          0.4970836839
                        ]
                      },
                      {
                        "learn": [
                          0.4799397319
                        ],
                        "iteration": 29,
                        "passed_time": 0.4520115369,
                        "remaining_time": 44.74914216,
                        "test": [
                          0.487327781
                        ]
                      },
                      {
                        "learn": [
                          0.4709391792
                        ],
                        "iteration": 30,
                        "passed_time": 0.4631685605,
                        "remaining_time": 44.35959535,
                        "test": [
                          0.4791769618
                        ]
                      },
                      {
                        "learn": [
                          0.4614049055
                        ],
                        "iteration": 31,
                        "passed_time": 0.4741860672,
                        "remaining_time": 43.98075773,
                        "test": [
                          0.4700320658
                        ]
                      },
                      {
                        "learn": [
                          0.4545913018
                        ],
                        "iteration": 32,
                        "passed_time": 0.4850783341,
                        "remaining_time": 43.61295204,
                        "test": [
                          0.4636379165
                        ]
                      },
                      {
                        "learn": [
                          0.4456533307
                        ],
                        "iteration": 33,
                        "passed_time": 0.4961841527,
                        "remaining_time": 43.2847705,
                        "test": [
                          0.4553709624
                        ]
                      },
                      {
                        "learn": [
                          0.4390320373
                        ],
                        "iteration": 34,
                        "passed_time": 0.5105055033,
                        "remaining_time": 43.24710907,
                        "test": [
                          0.4496434218
                        ]
                      },
                      {
                        "learn": [
                          0.4312621381
                        ],
                        "iteration": 35,
                        "passed_time": 0.523472488,
                        "remaining_time": 43.09923484,
                        "test": [
                          0.4424676596
                        ]
                      },
                      {
                        "learn": [
                          0.4244372783
                        ],
                        "iteration": 36,
                        "passed_time": 0.5348792221,
                        "remaining_time": 42.83370636,
                        "test": [
                          0.4350023913
                        ]
                      },
                      {
                        "learn": [
                          0.4181082242
                        ],
                        "iteration": 37,
                        "passed_time": 0.5452228099,
                        "remaining_time": 42.49868324,
                        "test": [
                          0.4287156903
                        ]
                      },
                      {
                        "learn": [
                          0.4097493561
                        ],
                        "iteration": 38,
                        "passed_time": 0.5557242695,
                        "remaining_time": 42.19229646,
                        "test": [
                          0.4210042954
                        ]
                      },
                      {
                        "learn": [
                          0.4054669716
                        ],
                        "iteration": 39,
                        "passed_time": 0.5658593346,
                        "remaining_time": 41.87359076,
                        "test": [
                          0.416783407
                        ]
                      },
                      {
                        "learn": [
                          0.3998160561
                        ],
                        "iteration": 40,
                        "passed_time": 0.5762222144,
                        "remaining_time": 41.58637884,
                        "test": [
                          0.4114024233
                        ]
                      },
                      {
                        "learn": [
                          0.3949098291
                        ],
                        "iteration": 41,
                        "passed_time": 0.5859393651,
                        "remaining_time": 41.26687243,
                        "test": [
                          0.4065611033
                        ]
                      },
                      {
                        "learn": [
                          0.3908909748
                        ],
                        "iteration": 42,
                        "passed_time": 0.5960109164,
                        "remaining_time": 40.98614604,
                        "test": [
                          0.4024636529
                        ]
                      },
                      {
                        "learn": [
                          0.386508152
                        ],
                        "iteration": 43,
                        "passed_time": 0.6067628835,
                        "remaining_time": 40.76343372,
                        "test": [
                          0.3982588967
                        ]
                      },
                      {
                        "learn": [
                          0.3811608648
                        ],
                        "iteration": 44,
                        "passed_time": 0.6176299085,
                        "remaining_time": 40.55769732,
                        "test": [
                          0.3935280816
                        ]
                      },
                      {
                        "learn": [
                          0.3772167523
                        ],
                        "iteration": 45,
                        "passed_time": 0.6275577309,
                        "remaining_time": 40.30012037,
                        "test": [
                          0.3899382315
                        ]
                      },
                      {
                        "learn": [
                          0.3726818241
                        ],
                        "iteration": 46,
                        "passed_time": 0.6378074529,
                        "remaining_time": 40.07330656,
                        "test": [
                          0.3855627122
                        ]
                      },
                      {
                        "learn": [
                          0.3687204545
                        ],
                        "iteration": 47,
                        "passed_time": 0.6479057151,
                        "remaining_time": 39.84620148,
                        "test": [
                          0.3823417287
                        ]
                      },
                      {
                        "learn": [
                          0.3655529564
                        ],
                        "iteration": 48,
                        "passed_time": 0.6578645155,
                        "remaining_time": 39.6195548,
                        "test": [
                          0.3796200908
                        ]
                      },
                      {
                        "learn": [
                          0.3624442174
                        ],
                        "iteration": 49,
                        "passed_time": 0.6680269586,
                        "remaining_time": 39.41359055,
                        "test": [
                          0.3772072052
                        ]
                      },
                      {
                        "learn": [
                          0.3604129352
                        ],
                        "iteration": 50,
                        "passed_time": 0.67858693,
                        "remaining_time": 39.23829131,
                        "test": [
                          0.3761781655
                        ]
                      },
                      {
                        "learn": [
                          0.3583238212
                        ],
                        "iteration": 51,
                        "passed_time": 0.6882393419,
                        "remaining_time": 39.01787654,
                        "test": [
                          0.3743569235
                        ]
                      },
                      {
                        "learn": [
                          0.3543392333
                        ],
                        "iteration": 52,
                        "passed_time": 0.6989787391,
                        "remaining_time": 38.86585555,
                        "test": [
                          0.3705222015
                        ]
                      },
                      {
                        "learn": [
                          0.3521870173
                        ],
                        "iteration": 53,
                        "passed_time": 0.7091159522,
                        "remaining_time": 38.68621472,
                        "test": [
                          0.3693745702
                        ]
                      },
                      {
                        "learn": [
                          0.3492010882
                        ],
                        "iteration": 54,
                        "passed_time": 0.7196709427,
                        "remaining_time": 38.53510775,
                        "test": [
                          0.3663412538
                        ]
                      },
                      {
                        "learn": [
                          0.3474522856
                        ],
                        "iteration": 55,
                        "passed_time": 0.7300299724,
                        "remaining_time": 38.37871855,
                        "test": [
                          0.3655215008
                        ]
                      },
                      {
                        "learn": [
                          0.3447975875
                        ],
                        "iteration": 56,
                        "passed_time": 0.7405542609,
                        "remaining_time": 38.23598579,
                        "test": [
                          0.3646524965
                        ]
                      },
                      {
                        "learn": [
                          0.3425980305
                        ],
                        "iteration": 57,
                        "passed_time": 0.7508990427,
                        "remaining_time": 38.08870662,
                        "test": [
                          0.3626216475
                        ]
                      },
                      {
                        "learn": [
                          0.3393278918
                        ],
                        "iteration": 58,
                        "passed_time": 0.7610451368,
                        "remaining_time": 37.93616521,
                        "test": [
                          0.3597404756
                        ]
                      },
                      {
                        "learn": [
                          0.3371268729
                        ],
                        "iteration": 59,
                        "passed_time": 0.7714817525,
                        "remaining_time": 37.80260587,
                        "test": [
                          0.3585984315
                        ]
                      },
                      {
                        "learn": [
                          0.3334553469
                        ],
                        "iteration": 60,
                        "passed_time": 0.7814727098,
                        "remaining_time": 37.65161138,
                        "test": [
                          0.3552731153
                        ]
                      },
                      {
                        "learn": [
                          0.3317280288
                        ],
                        "iteration": 61,
                        "passed_time": 0.7916798229,
                        "remaining_time": 37.51540838,
                        "test": [
                          0.3545421325
                        ]
                      },
                      {
                        "learn": [
                          0.3304883536
                        ],
                        "iteration": 62,
                        "passed_time": 0.8019485828,
                        "remaining_time": 37.38607917,
                        "test": [
                          0.3538349094
                        ]
                      },
                      {
                        "learn": [
                          0.3287143094
                        ],
                        "iteration": 63,
                        "passed_time": 0.814577016,
                        "remaining_time": 37.36872061,
                        "test": [
                          0.3530351197
                        ]
                      },
                      {
                        "learn": [
                          0.3273901968
                        ],
                        "iteration": 64,
                        "passed_time": 0.8262720137,
                        "remaining_time": 37.30935939,
                        "test": [
                          0.3519558774
                        ]
                      },
                      {
                        "learn": [
                          0.3241389246
                        ],
                        "iteration": 65,
                        "passed_time": 0.8371983605,
                        "remaining_time": 37.21727257,
                        "test": [
                          0.3490767739
                        ]
                      },
                      {
                        "learn": [
                          0.3215443278
                        ],
                        "iteration": 66,
                        "passed_time": 0.8484544139,
                        "remaining_time": 37.14204173,
                        "test": [
                          0.3469675954
                        ]
                      },
                      {
                        "learn": [
                          0.3197523082
                        ],
                        "iteration": 67,
                        "passed_time": 0.8602236965,
                        "remaining_time": 37.09082174,
                        "test": [
                          0.3461433528
                        ]
                      },
                      {
                        "learn": [
                          0.3178268694
                        ],
                        "iteration": 68,
                        "passed_time": 0.8717019535,
                        "remaining_time": 37.02838298,
                        "test": [
                          0.3450572353
                        ]
                      },
                      {
                        "learn": [
                          0.3153613472
                        ],
                        "iteration": 69,
                        "passed_time": 0.8829612989,
                        "remaining_time": 36.95823722,
                        "test": [
                          0.3428293213
                        ]
                      },
                      {
                        "learn": [
                          0.3137009375
                        ],
                        "iteration": 70,
                        "passed_time": 0.8939506126,
                        "remaining_time": 36.87861049,
                        "test": [
                          0.3414529288
                        ]
                      },
                      {
                        "learn": [
                          0.3124221721
                        ],
                        "iteration": 71,
                        "passed_time": 0.9050425033,
                        "remaining_time": 36.8050618,
                        "test": [
                          0.3407451838
                        ]
                      },
                      {
                        "learn": [
                          0.3107536252
                        ],
                        "iteration": 72,
                        "passed_time": 0.9157668615,
                        "remaining_time": 36.71848772,
                        "test": [
                          0.339780588
                        ]
                      },
                      {
                        "learn": [
                          0.3091599849
                        ],
                        "iteration": 73,
                        "passed_time": 0.9269989969,
                        "remaining_time": 36.65404142,
                        "test": [
                          0.3393858271
                        ]
                      },
                      {
                        "learn": [
                          0.3079980542
                        ],
                        "iteration": 74,
                        "passed_time": 0.9423808968,
                        "remaining_time": 36.75285497,
                        "test": [
                          0.3383190337
                        ]
                      },
                      {
                        "learn": [
                          0.3067369302
                        ],
                        "iteration": 75,
                        "passed_time": 0.9532815097,
                        "remaining_time": 36.67625177,
                        "test": [
                          0.3379545002
                        ]
                      },
                      {
                        "learn": [
                          0.3056502524
                        ],
                        "iteration": 76,
                        "passed_time": 0.96395919,
                        "remaining_time": 36.59289237,
                        "test": [
                          0.3372628288
                        ]
                      },
                      {
                        "learn": [
                          0.3037922602
                        ],
                        "iteration": 77,
                        "passed_time": 0.9743449747,
                        "remaining_time": 36.50046174,
                        "test": [
                          0.3362441896
                        ]
                      },
                      {
                        "learn": [
                          0.3029166409
                        ],
                        "iteration": 78,
                        "passed_time": 0.9880174743,
                        "remaining_time": 36.53163345,
                        "test": [
                          0.3358503117
                        ]
                      },
                      {
                        "learn": [
                          0.3013128038
                        ],
                        "iteration": 79,
                        "passed_time": 1.001304527,
                        "remaining_time": 36.54761525,
                        "test": [
                          0.3347692358
                        ]
                      },
                      {
                        "learn": [
                          0.2993931642
                        ],
                        "iteration": 80,
                        "passed_time": 1.011890435,
                        "remaining_time": 36.46553308,
                        "test": [
                          0.3327510214
                        ]
                      },
                      {
                        "learn": [
                          0.2980535558
                        ],
                        "iteration": 81,
                        "passed_time": 1.022095793,
                        "remaining_time": 36.37165273,
                        "test": [
                          0.331994733
                        ]
                      },
                      {
                        "learn": [
                          0.2972980651
                        ],
                        "iteration": 82,
                        "passed_time": 1.033375177,
                        "remaining_time": 36.31753484,
                        "test": [
                          0.3319531318
                        ]
                      },
                      {
                        "learn": [
                          0.2960472224
                        ],
                        "iteration": 83,
                        "passed_time": 1.044076639,
                        "remaining_time": 36.24437477,
                        "test": [
                          0.3311561462
                        ]
                      },
                      {
                        "learn": [
                          0.2943313909
                        ],
                        "iteration": 84,
                        "passed_time": 1.0560707,
                        "remaining_time": 36.21701282,
                        "test": [
                          0.3301329551
                        ]
                      },
                      {
                        "learn": [
                          0.2924818966
                        ],
                        "iteration": 85,
                        "passed_time": 1.066541944,
                        "remaining_time": 36.1384096,
                        "test": [
                          0.3283580085
                        ]
                      },
                      {
                        "learn": [
                          0.291318495
                        ],
                        "iteration": 86,
                        "passed_time": 1.077448855,
                        "remaining_time": 36.07595994,
                        "test": [
                          0.3277268363
                        ]
                      },
                      {
                        "learn": [
                          0.2902723093
                        ],
                        "iteration": 87,
                        "passed_time": 1.088094107,
                        "remaining_time": 36.00602316,
                        "test": [
                          0.3278568253
                        ]
                      },
                      {
                        "learn": [
                          0.2892292655
                        ],
                        "iteration": 88,
                        "passed_time": 1.099552959,
                        "remaining_time": 35.96402991,
                        "test": [
                          0.327102944
                        ]
                      },
                      {
                        "learn": [
                          0.2882925839
                        ],
                        "iteration": 89,
                        "passed_time": 1.110290399,
                        "remaining_time": 35.89938956,
                        "test": [
                          0.3267021531
                        ]
                      },
                      {
                        "learn": [
                          0.2870715496
                        ],
                        "iteration": 90,
                        "passed_time": 1.120383165,
                        "remaining_time": 35.81532557,
                        "test": [
                          0.3259996678
                        ]
                      },
                      {
                        "learn": [
                          0.2860561986
                        ],
                        "iteration": 91,
                        "passed_time": 1.130376226,
                        "remaining_time": 35.72971811,
                        "test": [
                          0.3254198389
                        ]
                      },
                      {
                        "learn": [
                          0.2847760711
                        ],
                        "iteration": 92,
                        "passed_time": 1.142693032,
                        "remaining_time": 35.71837252,
                        "test": [
                          0.324909629
                        ]
                      },
                      {
                        "learn": [
                          0.2829838059
                        ],
                        "iteration": 93,
                        "passed_time": 1.164973699,
                        "remaining_time": 36.01503797,
                        "test": [
                          0.3233905816
                        ]
                      },
                      {
                        "learn": [
                          0.2821895668
                        ],
                        "iteration": 94,
                        "passed_time": 1.17775146,
                        "remaining_time": 36.01439991,
                        "test": [
                          0.3229454375
                        ]
                      },
                      {
                        "learn": [
                          0.2815105323
                        ],
                        "iteration": 95,
                        "passed_time": 1.190030688,
                        "remaining_time": 35.99842831,
                        "test": [
                          0.3226319086
                        ]
                      },
                      {
                        "learn": [
                          0.2802394469
                        ],
                        "iteration": 96,
                        "passed_time": 1.224966075,
                        "remaining_time": 36.66058264,
                        "test": [
                          0.3216696141
                        ]
                      },
                      {
                        "learn": [
                          0.27912849
                        ],
                        "iteration": 97,
                        "passed_time": 1.240376129,
                        "remaining_time": 36.7303217,
                        "test": [
                          0.3211758744
                        ]
                      },
                      {
                        "learn": [
                          0.2785399084
                        ],
                        "iteration": 98,
                        "passed_time": 1.258228527,
                        "remaining_time": 36.86990866,
                        "test": [
                          0.3210839636
                        ]
                      },
                      {
                        "learn": [
                          0.2770782431
                        ],
                        "iteration": 99,
                        "passed_time": 1.279322987,
                        "remaining_time": 37.10036662,
                        "test": [
                          0.3201335872
                        ]
                      },
                      {
                        "learn": [
                          0.2762318645
                        ],
                        "iteration": 100,
                        "passed_time": 1.306783934,
                        "remaining_time": 37.50858044,
                        "test": [
                          0.3197549205
                        ]
                      },
                      {
                        "learn": [
                          0.2745924516
                        ],
                        "iteration": 101,
                        "passed_time": 1.326741982,
                        "remaining_time": 37.69508101,
                        "test": [
                          0.3187127776
                        ]
                      },
                      {
                        "learn": [
                          0.273032174
                        ],
                        "iteration": 102,
                        "passed_time": 1.3506385,
                        "remaining_time": 37.98834694,
                        "test": [
                          0.3177759765
                        ]
                      },
                      {
                        "learn": [
                          0.271956358
                        ],
                        "iteration": 103,
                        "passed_time": 1.369767145,
                        "remaining_time": 38.14274666,
                        "test": [
                          0.3175831705
                        ]
                      },
                      {
                        "learn": [
                          0.2709905358
                        ],
                        "iteration": 104,
                        "passed_time": 1.392298182,
                        "remaining_time": 38.38764988,
                        "test": [
                          0.3173127081
                        ]
                      },
                      {
                        "learn": [
                          0.2702879734
                        ],
                        "iteration": 105,
                        "passed_time": 1.435262388,
                        "remaining_time": 39.18537123,
                        "test": [
                          0.3168380848
                        ]
                      },
                      {
                        "learn": [
                          0.2696271853
                        ],
                        "iteration": 106,
                        "passed_time": 1.475369346,
                        "remaining_time": 39.89012633,
                        "test": [
                          0.3168023251
                        ]
                      },
                      {
                        "learn": [
                          0.2686090776
                        ],
                        "iteration": 107,
                        "passed_time": 1.517858247,
                        "remaining_time": 40.64487084,
                        "test": [
                          0.3166203283
                        ]
                      },
                      {
                        "learn": [
                          0.2675598784
                        ],
                        "iteration": 108,
                        "passed_time": 1.546669577,
                        "remaining_time": 41.02221787,
                        "test": [
                          0.3168551813
                        ]
                      },
                      {
                        "learn": [
                          0.2669187352
                        ],
                        "iteration": 109,
                        "passed_time": 1.572612835,
                        "remaining_time": 41.31682811,
                        "test": [
                          0.3168758098
                        ]
                      },
                      {
                        "learn": [
                          0.2659225427
                        ],
                        "iteration": 110,
                        "passed_time": 1.602336203,
                        "remaining_time": 41.70404766,
                        "test": [
                          0.3162623441
                        ]
                      },
                      {
                        "learn": [
                          0.2652386317
                        ],
                        "iteration": 111,
                        "passed_time": 1.622988032,
                        "remaining_time": 41.84990567,
                        "test": [
                          0.3163707001
                        ]
                      },
                      {
                        "learn": [
                          0.2637038341
                        ],
                        "iteration": 112,
                        "passed_time": 1.647604048,
                        "remaining_time": 42.09409634,
                        "test": [
                          0.3152221054
                        ]
                      },
                      {
                        "learn": [
                          0.2624562487
                        ],
                        "iteration": 113,
                        "passed_time": 1.657708923,
                        "remaining_time": 41.96621011,
                        "test": [
                          0.3144073664
                        ]
                      },
                      {
                        "learn": [
                          0.2618854724
                        ],
                        "iteration": 114,
                        "passed_time": 1.667838959,
                        "remaining_time": 41.84100346,
                        "test": [
                          0.3144375611
                        ]
                      },
                      {
                        "learn": [
                          0.2610182312
                        ],
                        "iteration": 115,
                        "passed_time": 1.678286253,
                        "remaining_time": 41.72566857,
                        "test": [
                          0.3142263408
                        ]
                      },
                      {
                        "learn": [
                          0.260095209
                        ],
                        "iteration": 116,
                        "passed_time": 1.688290522,
                        "remaining_time": 41.60121005,
                        "test": [
                          0.3141332699
                        ]
                      },
                      {
                        "learn": [
                          0.2587483124
                        ],
                        "iteration": 117,
                        "passed_time": 1.702655636,
                        "remaining_time": 41.58519951,
                        "test": [
                          0.3134689513
                        ]
                      },
                      {
                        "learn": [
                          0.2576216642
                        ],
                        "iteration": 118,
                        "passed_time": 1.713426529,
                        "remaining_time": 41.48220025,
                        "test": [
                          0.3134406993
                        ]
                      },
                      {
                        "learn": [
                          0.2563917307
                        ],
                        "iteration": 119,
                        "passed_time": 1.723883031,
                        "remaining_time": 41.37319273,
                        "test": [
                          0.3129462991
                        ]
                      },
                      {
                        "learn": [
                          0.25563308
                        ],
                        "iteration": 120,
                        "passed_time": 1.734130545,
                        "remaining_time": 41.26084163,
                        "test": [
                          0.3128475464
                        ]
                      },
                      {
                        "learn": [
                          0.2548170714
                        ],
                        "iteration": 121,
                        "passed_time": 1.746281608,
                        "remaining_time": 41.19506942,
                        "test": [
                          0.3122173243
                        ]
                      },
                      {
                        "learn": [
                          0.2541041327
                        ],
                        "iteration": 122,
                        "passed_time": 1.756291744,
                        "remaining_time": 41.08009225,
                        "test": [
                          0.3122545658
                        ]
                      },
                      {
                        "learn": [
                          0.2531813019
                        ],
                        "iteration": 123,
                        "passed_time": 1.76640952,
                        "remaining_time": 40.96930467,
                        "test": [
                          0.3119944912
                        ]
                      },
                      {
                        "learn": [
                          0.2525971784
                        ],
                        "iteration": 124,
                        "passed_time": 1.77637264,
                        "remaining_time": 40.85657073,
                        "test": [
                          0.3122905476
                        ]
                      },
                      {
                        "learn": [
                          0.2520103019
                        ],
                        "iteration": 125,
                        "passed_time": 1.786812764,
                        "remaining_time": 40.75634828,
                        "test": [
                          0.3121802342
                        ]
                      },
                      {
                        "learn": [
                          0.2510706901
                        ],
                        "iteration": 126,
                        "passed_time": 1.797223211,
                        "remaining_time": 40.65686838,
                        "test": [
                          0.311999332
                        ]
                      },
                      {
                        "learn": [
                          0.2502978226
                        ],
                        "iteration": 127,
                        "passed_time": 1.807694047,
                        "remaining_time": 40.56013519,
                        "test": [
                          0.31163118
                        ]
                      },
                      {
                        "learn": [
                          0.2493176119
                        ],
                        "iteration": 128,
                        "passed_time": 1.818201859,
                        "remaining_time": 40.4655623,
                        "test": [
                          0.3107646931
                        ]
                      },
                      {
                        "learn": [
                          0.2484526556
                        ],
                        "iteration": 129,
                        "passed_time": 1.828524018,
                        "remaining_time": 40.36818408,
                        "test": [
                          0.3105587237
                        ]
                      },
                      {
                        "learn": [
                          0.2465937876
                        ],
                        "iteration": 130,
                        "passed_time": 1.839390437,
                        "remaining_time": 40.28405468,
                        "test": [
                          0.3089540909
                        ]
                      },
                      {
                        "learn": [
                          0.2455359114
                        ],
                        "iteration": 131,
                        "passed_time": 1.850474353,
                        "remaining_time": 40.20576095,
                        "test": [
                          0.3079635512
                        ]
                      },
                      {
                        "learn": [
                          0.2449031586
                        ],
                        "iteration": 132,
                        "passed_time": 1.861294574,
                        "remaining_time": 40.12279357,
                        "test": [
                          0.3078236665
                        ]
                      },
                      {
                        "learn": [
                          0.2443776756
                        ],
                        "iteration": 133,
                        "passed_time": 1.871598711,
                        "remaining_time": 40.02986497,
                        "test": [
                          0.3077309431
                        ]
                      },
                      {
                        "learn": [
                          0.2436689945
                        ],
                        "iteration": 134,
                        "passed_time": 1.887104501,
                        "remaining_time": 40.04855107,
                        "test": [
                          0.3074578363
                        ]
                      },
                      {
                        "learn": [
                          0.2431601752
                        ],
                        "iteration": 135,
                        "passed_time": 1.897992301,
                        "remaining_time": 39.96948492,
                        "test": [
                          0.3075367596
                        ]
                      },
                      {
                        "learn": [
                          0.2419514581
                        ],
                        "iteration": 136,
                        "passed_time": 1.908251145,
                        "remaining_time": 39.87827027,
                        "test": [
                          0.3067780112
                        ]
                      },
                      {
                        "learn": [
                          0.2404162746
                        ],
                        "iteration": 137,
                        "passed_time": 1.919077635,
                        "remaining_time": 39.80000138,
                        "test": [
                          0.3049858288
                        ]
                      },
                      {
                        "learn": [
                          0.2399919256
                        ],
                        "iteration": 138,
                        "passed_time": 1.929754864,
                        "remaining_time": 39.71963069,
                        "test": [
                          0.3048086312
                        ]
                      },
                      {
                        "learn": [
                          0.2393427043
                        ],
                        "iteration": 139,
                        "passed_time": 1.952587285,
                        "remaining_time": 39.88856883,
                        "test": [
                          0.304738639
                        ]
                      },
                      {
                        "learn": [
                          0.2388239575
                        ],
                        "iteration": 140,
                        "passed_time": 1.971372793,
                        "remaining_time": 39.97272918,
                        "test": [
                          0.304800867
                        ]
                      },
                      {
                        "learn": [
                          0.2384097418
                        ],
                        "iteration": 141,
                        "passed_time": 2.005369295,
                        "remaining_time": 40.36158763,
                        "test": [
                          0.3046569877
                        ]
                      },
                      {
                        "learn": [
                          0.2375494805
                        ],
                        "iteration": 142,
                        "passed_time": 2.026831189,
                        "remaining_time": 40.49410285,
                        "test": [
                          0.3045194545
                        ]
                      },
                      {
                        "learn": [
                          0.2368691933
                        ],
                        "iteration": 143,
                        "passed_time": 2.045535979,
                        "remaining_time": 40.56979691,
                        "test": [
                          0.3043908322
                        ]
                      },
                      {
                        "learn": [
                          0.2361331824
                        ],
                        "iteration": 144,
                        "passed_time": 2.063095439,
                        "remaining_time": 40.62163779,
                        "test": [
                          0.3039124322
                        ]
                      },
                      {
                        "learn": [
                          0.235442871
                        ],
                        "iteration": 145,
                        "passed_time": 2.076857818,
                        "remaining_time": 40.59830282,
                        "test": [
                          0.3040493484
                        ]
                      },
                      {
                        "learn": [
                          0.2350008711
                        ],
                        "iteration": 146,
                        "passed_time": 2.086854085,
                        "remaining_time": 40.50200479,
                        "test": [
                          0.3037816016
                        ]
                      },
                      {
                        "learn": [
                          0.2346925302
                        ],
                        "iteration": 147,
                        "passed_time": 2.096457302,
                        "remaining_time": 40.39929882,
                        "test": [
                          0.3035241656
                        ]
                      },
                      {
                        "learn": [
                          0.2341670522
                        ],
                        "iteration": 148,
                        "passed_time": 2.106763472,
                        "remaining_time": 40.31129301,
                        "test": [
                          0.3034444995
                        ]
                      },
                      {
                        "learn": [
                          0.2338401757
                        ],
                        "iteration": 149,
                        "passed_time": 2.116661438,
                        "remaining_time": 40.21656733,
                        "test": [
                          0.3035812924
                        ]
                      },
                      {
                        "learn": [
                          0.2333130604
                        ],
                        "iteration": 150,
                        "passed_time": 2.12693683,
                        "remaining_time": 40.13008629,
                        "test": [
                          0.3031494379
                        ]
                      },
                      {
                        "learn": [
                          0.2328950514
                        ],
                        "iteration": 151,
                        "passed_time": 2.147653919,
                        "remaining_time": 40.24025237,
                        "test": [
                          0.302844965
                        ]
                      },
                      {
                        "learn": [
                          0.232276113
                        ],
                        "iteration": 152,
                        "passed_time": 2.160614072,
                        "remaining_time": 40.20436774,
                        "test": [
                          0.302706589
                        ]
                      },
                      {
                        "learn": [
                          0.2317741021
                        ],
                        "iteration": 153,
                        "passed_time": 2.180330898,
                        "remaining_time": 40.29364763,
                        "test": [
                          0.3026665963
                        ]
                      },
                      {
                        "learn": [
                          0.2309490164
                        ],
                        "iteration": 154,
                        "passed_time": 2.201990315,
                        "remaining_time": 40.41717707,
                        "test": [
                          0.301941607
                        ]
                      },
                      {
                        "learn": [
                          0.2304466796
                        ],
                        "iteration": 155,
                        "passed_time": 2.220264525,
                        "remaining_time": 40.47713019,
                        "test": [
                          0.302090498
                        ]
                      },
                      {
                        "learn": [
                          0.2299198661
                        ],
                        "iteration": 156,
                        "passed_time": 2.237964755,
                        "remaining_time": 40.52569299,
                        "test": [
                          0.3017322266
                        ]
                      },
                      {
                        "learn": [
                          0.2291450061
                        ],
                        "iteration": 157,
                        "passed_time": 2.251354839,
                        "remaining_time": 40.49588894,
                        "test": [
                          0.301519542
                        ]
                      },
                      {
                        "learn": [
                          0.2287641265
                        ],
                        "iteration": 158,
                        "passed_time": 2.264763462,
                        "remaining_time": 40.46662262,
                        "test": [
                          0.3014333549
                        ]
                      },
                      {
                        "learn": [
                          0.2283151017
                        ],
                        "iteration": 159,
                        "passed_time": 2.276672741,
                        "remaining_time": 40.41094115,
                        "test": [
                          0.3013294137
                        ]
                      },
                      {
                        "learn": [
                          0.22767181
                        ],
                        "iteration": 160,
                        "passed_time": 2.288894697,
                        "remaining_time": 40.36131706,
                        "test": [
                          0.3011050919
                        ]
                      },
                      {
                        "learn": [
                          0.2271566462
                        ],
                        "iteration": 161,
                        "passed_time": 2.30215644,
                        "remaining_time": 40.33037022,
                        "test": [
                          0.300869617
                        ]
                      },
                      {
                        "learn": [
                          0.2261234691
                        ],
                        "iteration": 162,
                        "passed_time": 2.316526604,
                        "remaining_time": 40.31893237,
                        "test": [
                          0.2997980859
                        ]
                      },
                      {
                        "learn": [
                          0.2256423412
                        ],
                        "iteration": 163,
                        "passed_time": 2.332167358,
                        "remaining_time": 40.32943065,
                        "test": [
                          0.2994870798
                        ]
                      },
                      {
                        "learn": [
                          0.2250675958
                        ],
                        "iteration": 164,
                        "passed_time": 2.354484853,
                        "remaining_time": 40.45433065,
                        "test": [
                          0.298946832
                        ]
                      },
                      {
                        "learn": [
                          0.224352359
                        ],
                        "iteration": 165,
                        "passed_time": 2.374333791,
                        "remaining_time": 40.53531303,
                        "test": [
                          0.2982639868
                        ]
                      },
                      {
                        "learn": [
                          0.2238294226
                        ],
                        "iteration": 166,
                        "passed_time": 2.397459716,
                        "remaining_time": 40.6706789,
                        "test": [
                          0.2981817336
                        ]
                      },
                      {
                        "learn": [
                          0.2230455885
                        ],
                        "iteration": 167,
                        "passed_time": 2.416820876,
                        "remaining_time": 40.74069477,
                        "test": [
                          0.2980082626
                        ]
                      },
                      {
                        "learn": [
                          0.2226098574
                        ],
                        "iteration": 168,
                        "passed_time": 2.436672317,
                        "remaining_time": 40.81786585,
                        "test": [
                          0.2977419558
                        ]
                      },
                      {
                        "learn": [
                          0.2218756126
                        ],
                        "iteration": 169,
                        "passed_time": 2.46008953,
                        "remaining_time": 40.95325512,
                        "test": [
                          0.2978685817
                        ]
                      },
                      {
                        "learn": [
                          0.2208614873
                        ],
                        "iteration": 170,
                        "passed_time": 2.485489468,
                        "remaining_time": 41.11958891,
                        "test": [
                          0.297220778
                        ]
                      },
                      {
                        "learn": [
                          0.2199539507
                        ],
                        "iteration": 171,
                        "passed_time": 2.506772955,
                        "remaining_time": 41.21601115,
                        "test": [
                          0.297109889
                        ]
                      },
                      {
                        "learn": [
                          0.2194909025
                        ],
                        "iteration": 172,
                        "passed_time": 2.526003988,
                        "remaining_time": 41.27753338,
                        "test": [
                          0.2970532219
                        ]
                      },
                      {
                        "learn": [
                          0.2189066537
                        ],
                        "iteration": 173,
                        "passed_time": 2.545832847,
                        "remaining_time": 41.34783693,
                        "test": [
                          0.2968374421
                        ]
                      },
                      {
                        "learn": [
                          0.2181262461
                        ],
                        "iteration": 174,
                        "passed_time": 2.558673783,
                        "remaining_time": 41.30430535,
                        "test": [
                          0.2965160659
                        ]
                      },
                      {
                        "learn": [
                          0.2176300094
                        ],
                        "iteration": 175,
                        "passed_time": 2.569071227,
                        "remaining_time": 41.22191559,
                        "test": [
                          0.2968750073
                        ]
                      },
                      {
                        "learn": [
                          0.2171467396
                        ],
                        "iteration": 176,
                        "passed_time": 2.579745452,
                        "remaining_time": 41.14475373,
                        "test": [
                          0.2967607256
                        ]
                      },
                      {
                        "learn": [
                          0.2167285607
                        ],
                        "iteration": 177,
                        "passed_time": 2.590665109,
                        "remaining_time": 41.07222998,
                        "test": [
                          0.2967072343
                        ]
                      },
                      {
                        "learn": [
                          0.2156775361
                        ],
                        "iteration": 178,
                        "passed_time": 2.601244575,
                        "remaining_time": 40.99503322,
                        "test": [
                          0.2961972214
                        ]
                      },
                      {
                        "learn": [
                          0.2153541247
                        ],
                        "iteration": 179,
                        "passed_time": 2.611468163,
                        "remaining_time": 40.91300122,
                        "test": [
                          0.2964053225
                        ]
                      },
                      {
                        "learn": [
                          0.2149077733
                        ],
                        "iteration": 180,
                        "passed_time": 2.621273198,
                        "remaining_time": 40.82524389,
                        "test": [
                          0.296630266
                        ]
                      },
                      {
                        "learn": [
                          0.2145589266
                        ],
                        "iteration": 181,
                        "passed_time": 2.631111078,
                        "remaining_time": 40.73885175,
                        "test": [
                          0.2962227342
                        ]
                      },
                      {
                        "learn": [
                          0.2141151679
                        ],
                        "iteration": 182,
                        "passed_time": 2.640939901,
                        "remaining_time": 40.65315684,
                        "test": [
                          0.2962650357
                        ]
                      },
                      {
                        "learn": [
                          0.2135563938
                        ],
                        "iteration": 183,
                        "passed_time": 2.650494815,
                        "remaining_time": 40.56409456,
                        "test": [
                          0.2961254032
                        ]
                      },
                      {
                        "learn": [
                          0.213192831
                        ],
                        "iteration": 184,
                        "passed_time": 2.659960975,
                        "remaining_time": 40.47454133,
                        "test": [
                          0.2962097939
                        ]
                      },
                      {
                        "learn": [
                          0.212055413
                        ],
                        "iteration": 185,
                        "passed_time": 2.677852875,
                        "remaining_time": 40.51332253,
                        "test": [
                          0.2954213508
                        ]
                      },
                      {
                        "learn": [
                          0.2116425831
                        ],
                        "iteration": 186,
                        "passed_time": 2.687980283,
                        "remaining_time": 40.43469806,
                        "test": [
                          0.2950699821
                        ]
                      },
                      {
                        "learn": [
                          0.210949635
                        ],
                        "iteration": 187,
                        "passed_time": 2.698032331,
                        "remaining_time": 40.35567507,
                        "test": [
                          0.2949341394
                        ]
                      },
                      {
                        "learn": [
                          0.2103296411
                        ],
                        "iteration": 188,
                        "passed_time": 2.70841987,
                        "remaining_time": 40.28237172,
                        "test": [
                          0.2949738418
                        ]
                      },
                      {
                        "learn": [
                          0.2098063657
                        ],
                        "iteration": 189,
                        "passed_time": 2.718372155,
                        "remaining_time": 40.20329345,
                        "test": [
                          0.2950375738
                        ]
                      },
                      {
                        "learn": [
                          0.2092885783
                        ],
                        "iteration": 190,
                        "passed_time": 2.729271649,
                        "remaining_time": 40.13886943,
                        "test": [
                          0.2951963598
                        ]
                      },
                      {
                        "learn": [
                          0.2086438442
                        ],
                        "iteration": 191,
                        "passed_time": 2.741464414,
                        "remaining_time": 40.09391705,
                        "test": [
                          0.2948642397
                        ]
                      },
                      {
                        "learn": [
                          0.2078245899
                        ],
                        "iteration": 192,
                        "passed_time": 2.751342626,
                        "remaining_time": 40.0156412,
                        "test": [
                          0.2947142957
                        ]
                      },
                      {
                        "learn": [
                          0.2072952855
                        ],
                        "iteration": 193,
                        "passed_time": 2.761215401,
                        "remaining_time": 39.93799183,
                        "test": [
                          0.2947384058
                        ]
                      },
                      {
                        "learn": [
                          0.2067208909
                        ],
                        "iteration": 194,
                        "passed_time": 2.770997598,
                        "remaining_time": 39.85973468,
                        "test": [
                          0.2943855828
                        ]
                      },
                      {
                        "learn": [
                          0.2062489128
                        ],
                        "iteration": 195,
                        "passed_time": 2.780716243,
                        "remaining_time": 39.78126707,
                        "test": [
                          0.2943750609
                        ]
                      },
                      {
                        "learn": [
                          0.2056903667
                        ],
                        "iteration": 196,
                        "passed_time": 2.790275284,
                        "remaining_time": 39.7012265,
                        "test": [
                          0.294380947
                        ]
                      },
                      {
                        "learn": [
                          0.2052015801
                        ],
                        "iteration": 197,
                        "passed_time": 2.799876902,
                        "remaining_time": 39.6225004,
                        "test": [
                          0.2940630152
                        ]
                      },
                      {
                        "learn": [
                          0.2048011835
                        ],
                        "iteration": 198,
                        "passed_time": 2.809934068,
                        "remaining_time": 39.55088103,
                        "test": [
                          0.294007104
                        ]
                      },
                      {
                        "learn": [
                          0.2038807499
                        ],
                        "iteration": 199,
                        "passed_time": 2.819698695,
                        "remaining_time": 39.47578173,
                        "test": [
                          0.2935980015
                        ]
                      },
                      {
                        "learn": [
                          0.2034405485
                        ],
                        "iteration": 200,
                        "passed_time": 2.829388517,
                        "remaining_time": 39.40029084,
                        "test": [
                          0.2933274828
                        ]
                      },
                      {
                        "learn": [
                          0.2030589546
                        ],
                        "iteration": 201,
                        "passed_time": 2.840600415,
                        "remaining_time": 39.34653446,
                        "test": [
                          0.2934448226
                        ]
                      },
                      {
                        "learn": [
                          0.2028282268
                        ],
                        "iteration": 202,
                        "passed_time": 2.8510349,
                        "remaining_time": 39.28248579,
                        "test": [
                          0.2935949984
                        ]
                      },
                      {
                        "learn": [
                          0.2022149417
                        ],
                        "iteration": 203,
                        "passed_time": 2.861479219,
                        "remaining_time": 39.21909752,
                        "test": [
                          0.29365033
                        ]
                      },
                      {
                        "learn": [
                          0.2016762673
                        ],
                        "iteration": 204,
                        "passed_time": 2.871794216,
                        "remaining_time": 39.15446261,
                        "test": [
                          0.2936360505
                        ]
                      },
                      {
                        "learn": [
                          0.2015396506
                        ],
                        "iteration": 205,
                        "passed_time": 2.881793341,
                        "remaining_time": 39.08607084,
                        "test": [
                          0.2936635823
                        ]
                      },
                      {
                        "learn": [
                          0.2012082275
                        ],
                        "iteration": 206,
                        "passed_time": 2.89237156,
                        "remaining_time": 39.02605685,
                        "test": [
                          0.2936624812
                        ]
                      },
                      {
                        "learn": [
                          0.2007494261
                        ],
                        "iteration": 207,
                        "passed_time": 2.903975844,
                        "remaining_time": 38.98029114,
                        "test": [
                          0.2939675523
                        ]
                      },
                      {
                        "learn": [
                          0.2004710152
                        ],
                        "iteration": 208,
                        "passed_time": 2.919813346,
                        "remaining_time": 38.99138301,
                        "test": [
                          0.2939069512
                        ]
                      },
                      {
                        "learn": [
                          0.1998595131
                        ],
                        "iteration": 209,
                        "passed_time": 2.930368851,
                        "remaining_time": 38.9320433,
                        "test": [
                          0.2939146241
                        ]
                      },
                      {
                        "learn": [
                          0.1991311347
                        ],
                        "iteration": 210,
                        "passed_time": 2.941920399,
                        "remaining_time": 38.88633171,
                        "test": [
                          0.2941452064
                        ]
                      },
                      {
                        "learn": [
                          0.1987341225
                        ],
                        "iteration": 211,
                        "passed_time": 2.95187857,
                        "remaining_time": 38.81998799,
                        "test": [
                          0.2943501664
                        ]
                      },
                      {
                        "learn": [
                          0.1984168243
                        ],
                        "iteration": 212,
                        "passed_time": 2.961657603,
                        "remaining_time": 38.75182976,
                        "test": [
                          0.2941906182
                        ]
                      },
                      {
                        "learn": [
                          0.1978394495
                        ],
                        "iteration": 213,
                        "passed_time": 2.971903962,
                        "remaining_time": 38.69030111,
                        "test": [
                          0.2939576616
                        ]
                      },
                      {
                        "learn": [
                          0.1971872404
                        ],
                        "iteration": 214,
                        "passed_time": 2.990128068,
                        "remaining_time": 38.73258916,
                        "test": [
                          0.2939715922
                        ]
                      },
                      {
                        "learn": [
                          0.1968876672
                        ],
                        "iteration": 215,
                        "passed_time": 3.007740771,
                        "remaining_time": 38.76643661,
                        "test": [
                          0.293833752
                        ]
                      },
                      {
                        "learn": [
                          0.1963963868
                        ],
                        "iteration": 216,
                        "passed_time": 3.018345645,
                        "remaining_time": 38.70993516,
                        "test": [
                          0.2938389997
                        ]
                      },
                      {
                        "learn": [
                          0.1960987785
                        ],
                        "iteration": 217,
                        "passed_time": 3.029868297,
                        "remaining_time": 38.66556698,
                        "test": [
                          0.2937436265
                        ]
                      },
                      {
                        "learn": [
                          0.195934358
                        ],
                        "iteration": 218,
                        "passed_time": 3.041492125,
                        "remaining_time": 38.62278355,
                        "test": [
                          0.2937621698
                        ]
                      },
                      {
                        "learn": [
                          0.1951585637
                        ],
                        "iteration": 219,
                        "passed_time": 3.053366564,
                        "remaining_time": 38.58345022,
                        "test": [
                          0.2938116871
                        ]
                      },
                      {
                        "learn": [
                          0.1943880026
                        ],
                        "iteration": 220,
                        "passed_time": 3.064009994,
                        "remaining_time": 38.52888586,
                        "test": [
                          0.2931756578
                        ]
                      },
                      {
                        "learn": [
                          0.1940671484
                        ],
                        "iteration": 221,
                        "passed_time": 3.073938154,
                        "remaining_time": 38.46576663,
                        "test": [
                          0.2930015707
                        ]
                      },
                      {
                        "learn": [
                          0.1937310791
                        ],
                        "iteration": 222,
                        "passed_time": 3.083924371,
                        "remaining_time": 38.40384744,
                        "test": [
                          0.2930269134
                        ]
                      },
                      {
                        "learn": [
                          0.1935115906
                        ],
                        "iteration": 223,
                        "passed_time": 3.094015919,
                        "remaining_time": 38.34369729,
                        "test": [
                          0.2930586931
                        ]
                      },
                      {
                        "learn": [
                          0.1933284124
                        ],
                        "iteration": 224,
                        "passed_time": 3.10413127,
                        "remaining_time": 38.28428567,
                        "test": [
                          0.2931398341
                        ]
                      },
                      {
                        "learn": [
                          0.1926258961
                        ],
                        "iteration": 225,
                        "passed_time": 3.115095131,
                        "remaining_time": 38.2357252,
                        "test": [
                          0.2935186051
                        ]
                      },
                      {
                        "learn": [
                          0.1921752918
                        ],
                        "iteration": 226,
                        "passed_time": 3.125717906,
                        "remaining_time": 38.18332931,
                        "test": [
                          0.293433228
                        ]
                      },
                      {
                        "learn": [
                          0.1917435889
                        ],
                        "iteration": 227,
                        "passed_time": 3.135847027,
                        "remaining_time": 38.12529806,
                        "test": [
                          0.2933846161
                        ]
                      },
                      {
                        "learn": [
                          0.1914008533
                        ],
                        "iteration": 228,
                        "passed_time": 3.146306455,
                        "remaining_time": 38.07168204,
                        "test": [
                          0.2935188211
                        ]
                      },
                      {
                        "learn": [
                          0.1910698904
                        ],
                        "iteration": 229,
                        "passed_time": 3.156462938,
                        "remaining_time": 38.01479278,
                        "test": [
                          0.2935940582
                        ]
                      },
                      {
                        "learn": [
                          0.1906124994
                        ],
                        "iteration": 230,
                        "passed_time": 3.167187888,
                        "remaining_time": 37.96512234,
                        "test": [
                          0.2934060214
                        ]
                      },
                      {
                        "learn": [
                          0.1901419348
                        ],
                        "iteration": 231,
                        "passed_time": 3.180120831,
                        "remaining_time": 37.9421313,
                        "test": [
                          0.29350502
                        ]
                      },
                      {
                        "learn": [
                          0.1898077366
                        ],
                        "iteration": 232,
                        "passed_time": 3.192430396,
                        "remaining_time": 37.91182363,
                        "test": [
                          0.293644299
                        ]
                      },
                      {
                        "learn": [
                          0.1894048345
                        ],
                        "iteration": 233,
                        "passed_time": 3.213604278,
                        "remaining_time": 37.98645057,
                        "test": [
                          0.2936296307
                        ]
                      },
                      {
                        "learn": [
                          0.1888349071
                        ],
                        "iteration": 234,
                        "passed_time": 3.231824944,
                        "remaining_time": 38.02551477,
                        "test": [
                          0.2936597321
                        ]
                      },
                      {
                        "learn": [
                          0.1884521912
                        ],
                        "iteration": 235,
                        "passed_time": 3.242153809,
                        "remaining_time": 37.9716658,
                        "test": [
                          0.293564372
                        ]
                      },
                      {
                        "learn": [
                          0.1879852217
                        ],
                        "iteration": 236,
                        "passed_time": 3.251809563,
                        "remaining_time": 37.91033681,
                        "test": [
                          0.2936780975
                        ]
                      },
                      {
                        "learn": [
                          0.1876485955
                        ],
                        "iteration": 237,
                        "passed_time": 3.261687883,
                        "remaining_time": 37.85202492,
                        "test": [
                          0.293868861
                        ]
                      },
                      {
                        "learn": [
                          0.1870701487
                        ],
                        "iteration": 238,
                        "passed_time": 3.275389784,
                        "remaining_time": 37.83828952,
                        "test": [
                          0.2934618643
                        ]
                      },
                      {
                        "learn": [
                          0.1866645885
                        ],
                        "iteration": 239,
                        "passed_time": 3.285717659,
                        "remaining_time": 37.78575308,
                        "test": [
                          0.2935340604
                        ]
                      },
                      {
                        "learn": [
                          0.1863850634
                        ],
                        "iteration": 240,
                        "passed_time": 3.295964044,
                        "remaining_time": 37.73263401,
                        "test": [
                          0.2932102477
                        ]
                      },
                      {
                        "learn": [
                          0.1857228745
                        ],
                        "iteration": 241,
                        "passed_time": 3.306548849,
                        "remaining_time": 37.68372614,
                        "test": [
                          0.2931180387
                        ]
                      },
                      {
                        "learn": [
                          0.1851350348
                        ],
                        "iteration": 242,
                        "passed_time": 3.317175559,
                        "remaining_time": 37.63560912,
                        "test": [
                          0.2934722377
                        ]
                      },
                      {
                        "learn": [
                          0.1846707606
                        ],
                        "iteration": 243,
                        "passed_time": 3.327820466,
                        "remaining_time": 37.58800494,
                        "test": [
                          0.2936466344
                        ]
                      },
                      {
                        "learn": [
                          0.1842971323
                        ],
                        "iteration": 244,
                        "passed_time": 3.33859916,
                        "remaining_time": 37.54220688,
                        "test": [
                          0.2937987134
                        ]
                      },
                      {
                        "learn": [
                          0.1837993994
                        ],
                        "iteration": 245,
                        "passed_time": 3.348937119,
                        "remaining_time": 37.49175945,
                        "test": [
                          0.2937114042
                        ]
                      },
                      {
                        "learn": [
                          0.1834738415
                        ],
                        "iteration": 246,
                        "passed_time": 3.358834504,
                        "remaining_time": 37.43672628,
                        "test": [
                          0.2937318761
                        ]
                      },
                      {
                        "learn": [
                          0.1832114889
                        ],
                        "iteration": 247,
                        "passed_time": 3.369045205,
                        "remaining_time": 37.38553389,
                        "test": [
                          0.2937268091
                        ]
                      },
                      {
                        "learn": [
                          0.1828020708
                        ],
                        "iteration": 248,
                        "passed_time": 3.379031103,
                        "remaining_time": 37.332187,
                        "test": [
                          0.2935820342
                        ]
                      },
                      {
                        "learn": [
                          0.1822713481
                        ],
                        "iteration": 249,
                        "passed_time": 3.389411734,
                        "remaining_time": 37.28352907,
                        "test": [
                          0.2933793231
                        ]
                      },
                      {
                        "learn": [
                          0.1817581129
                        ],
                        "iteration": 250,
                        "passed_time": 3.399987424,
                        "remaining_time": 37.23731246,
                        "test": [
                          0.293030044
                        ]
                      },
                      {
                        "learn": [
                          0.1814002308
                        ],
                        "iteration": 251,
                        "passed_time": 3.410173534,
                        "remaining_time": 37.18713044,
                        "test": [
                          0.2935880302
                        ]
                      },
                      {
                        "learn": [
                          0.1809885156
                        ],
                        "iteration": 252,
                        "passed_time": 3.420517567,
                        "remaining_time": 37.13897927,
                        "test": [
                          0.2936627651
                        ]
                      },
                      {
                        "learn": [
                          0.1804357482
                        ],
                        "iteration": 253,
                        "passed_time": 3.431086613,
                        "remaining_time": 37.09355843,
                        "test": [
                          0.2937908326
                        ]
                      },
                      {
                        "learn": [
                          0.1800882831
                        ],
                        "iteration": 254,
                        "passed_time": 3.441526679,
                        "remaining_time": 37.04702248,
                        "test": [
                          0.2938246764
                        ]
                      },
                      {
                        "learn": [
                          0.1797072647
                        ],
                        "iteration": 255,
                        "passed_time": 3.45162089,
                        "remaining_time": 36.99706142,
                        "test": [
                          0.2937880808
                        ]
                      },
                      {
                        "learn": [
                          0.1793682467
                        ],
                        "iteration": 256,
                        "passed_time": 3.462219477,
                        "remaining_time": 36.95279387,
                        "test": [
                          0.2938526581
                        ]
                      },
                      {
                        "learn": [
                          0.1788591067
                        ],
                        "iteration": 257,
                        "passed_time": 3.472607862,
                        "remaining_time": 36.90655333,
                        "test": [
                          0.2937372184
                        ]
                      },
                      {
                        "learn": [
                          0.1783070476
                        ],
                        "iteration": 258,
                        "passed_time": 3.482923696,
                        "remaining_time": 36.85982182,
                        "test": [
                          0.2933222572
                        ]
                      },
                      {
                        "learn": [
                          0.1779201665
                        ],
                        "iteration": 259,
                        "passed_time": 3.494246858,
                        "remaining_time": 36.82398612,
                        "test": [
                          0.2934051672
                        ]
                      },
                      {
                        "learn": [
                          0.1772146718
                        ],
                        "iteration": 260,
                        "passed_time": 3.506713504,
                        "remaining_time": 36.80033826,
                        "test": [
                          0.2938818832
                        ]
                      },
                      {
                        "learn": [
                          0.176949496
                        ],
                        "iteration": 261,
                        "passed_time": 3.528538856,
                        "remaining_time": 36.87457781,
                        "test": [
                          0.2941131098
                        ]
                      },
                      {
                        "learn": [
                          0.1765904682
                        ],
                        "iteration": 262,
                        "passed_time": 3.545376626,
                        "remaining_time": 36.89618185,
                        "test": [
                          0.2939865245
                        ]
                      },
                      {
                        "learn": [
                          0.1763435631
                        ],
                        "iteration": 263,
                        "passed_time": 3.555716266,
                        "remaining_time": 36.85015039,
                        "test": [
                          0.2941729943
                        ]
                      },
                      {
                        "learn": [
                          0.1758923136
                        ],
                        "iteration": 264,
                        "passed_time": 3.56561616,
                        "remaining_time": 36.7998498,
                        "test": [
                          0.2941426036
                        ]
                      },
                      {
                        "learn": [
                          0.1755028771
                        ],
                        "iteration": 265,
                        "passed_time": 3.575298211,
                        "remaining_time": 36.74761395,
                        "test": [
                          0.2938215761
                        ]
                      },
                      {
                        "learn": [
                          0.1752459109
                        ],
                        "iteration": 266,
                        "passed_time": 3.585064179,
                        "remaining_time": 36.69655581,
                        "test": [
                          0.2936619285
                        ]
                      },
                      {
                        "learn": [
                          0.1749024542
                        ],
                        "iteration": 267,
                        "passed_time": 3.59540891,
                        "remaining_time": 36.65170575,
                        "test": [
                          0.2937771267
                        ]
                      },
                      {
                        "learn": [
                          0.1744122665
                        ],
                        "iteration": 268,
                        "passed_time": 3.605474153,
                        "remaining_time": 36.60427477,
                        "test": [
                          0.2942060633
                        ]
                      },
                      {
                        "learn": [
                          0.1741243947
                        ],
                        "iteration": 269,
                        "passed_time": 3.615686586,
                        "remaining_time": 36.55860882,
                        "test": [
                          0.2941835522
                        ]
                      },
                      {
                        "learn": [
                          0.1737667573
                        ],
                        "iteration": 270,
                        "passed_time": 3.625778423,
                        "remaining_time": 36.5119901,
                        "test": [
                          0.2942295293
                        ]
                      },
                      {
                        "learn": [
                          0.1734544792
                        ],
                        "iteration": 271,
                        "passed_time": 3.635745506,
                        "remaining_time": 36.46438875,
                        "test": [
                          0.2943593263
                        ]
                      },
                      {
                        "learn": [
                          0.1727281156
                        ],
                        "iteration": 272,
                        "passed_time": 3.645891715,
                        "remaining_time": 36.4188524,
                        "test": [
                          0.294484444
                        ]
                      },
                      {
                        "learn": [
                          0.1724009615
                        ],
                        "iteration": 273,
                        "passed_time": 3.656188273,
                        "remaining_time": 36.37507019,
                        "test": [
                          0.2943895094
                        ]
                      },
                      {
                        "learn": [
                          0.1719784685
                        ],
                        "iteration": 274,
                        "passed_time": 3.666143377,
                        "remaining_time": 36.32814801,
                        "test": [
                          0.2944471159
                        ]
                      },
                      {
                        "learn": [
                          0.1718047227
                        ],
                        "iteration": 275,
                        "passed_time": 3.676005052,
                        "remaining_time": 36.2805716,
                        "test": [
                          0.2943736723
                        ]
                      },
                      {
                        "learn": [
                          0.1714551442
                        ],
                        "iteration": 276,
                        "passed_time": 3.686412963,
                        "remaining_time": 36.23863718,
                        "test": [
                          0.2941888477
                        ]
                      },
                      {
                        "learn": [
                          0.1711778949
                        ],
                        "iteration": 277,
                        "passed_time": 3.696796598,
                        "remaining_time": 36.19669187,
                        "test": [
                          0.2942891935
                        ]
                      },
                      {
                        "learn": [
                          0.1708009435
                        ],
                        "iteration": 278,
                        "passed_time": 3.706776589,
                        "remaining_time": 36.1510362,
                        "test": [
                          0.2943786334
                        ]
                      },
                      {
                        "learn": [
                          0.1703060568
                        ],
                        "iteration": 279,
                        "passed_time": 3.717310295,
                        "remaining_time": 36.11101429,
                        "test": [
                          0.2941494379
                        ]
                      },
                      {
                        "learn": [
                          0.169874208
                        ],
                        "iteration": 280,
                        "passed_time": 3.72787477,
                        "remaining_time": 36.0715,
                        "test": [
                          0.2940141725
                        ]
                      },
                      {
                        "learn": [
                          0.1695186107
                        ],
                        "iteration": 281,
                        "passed_time": 3.737938459,
                        "remaining_time": 36.02736429,
                        "test": [
                          0.2941027747
                        ]
                      },
                      {
                        "learn": [
                          0.1690085132
                        ],
                        "iteration": 282,
                        "passed_time": 3.748279533,
                        "remaining_time": 35.98613248,
                        "test": [
                          0.2936341623
                        ]
                      },
                      {
                        "learn": [
                          0.1683638227
                        ],
                        "iteration": 283,
                        "passed_time": 3.758697616,
                        "remaining_time": 35.94585467,
                        "test": [
                          0.2937325372
                        ]
                      },
                      {
                        "learn": [
                          0.1680653089
                        ],
                        "iteration": 284,
                        "passed_time": 3.768889627,
                        "remaining_time": 35.90363276,
                        "test": [
                          0.2939986311
                        ]
                      },
                      {
                        "learn": [
                          0.1677778253
                        ],
                        "iteration": 285,
                        "passed_time": 3.781860519,
                        "remaining_time": 35.88800506,
                        "test": [
                          0.2939334558
                        ]
                      },
                      {
                        "learn": [
                          0.1674020533
                        ],
                        "iteration": 286,
                        "passed_time": 3.792521816,
                        "remaining_time": 35.85056337,
                        "test": [
                          0.2935680933
                        ]
                      },
                      {
                        "learn": [
                          0.1669985851
                        ],
                        "iteration": 287,
                        "passed_time": 3.803242098,
                        "remaining_time": 35.81386309,
                        "test": [
                          0.293523646
                        ]
                      },
                      {
                        "learn": [
                          0.1667762251
                        ],
                        "iteration": 288,
                        "passed_time": 3.813779063,
                        "remaining_time": 35.77562297,
                        "test": [
                          0.2934791096
                        ]
                      },
                      {
                        "learn": [
                          0.1664697427
                        ],
                        "iteration": 289,
                        "passed_time": 3.8244716,
                        "remaining_time": 35.73902771,
                        "test": [
                          0.2935802767
                        ]
                      },
                      {
                        "learn": [
                          0.1661885043
                        ],
                        "iteration": 290,
                        "passed_time": 3.835764088,
                        "remaining_time": 35.70819559,
                        "test": [
                          0.2938853881
                        ]
                      },
                      {
                        "learn": [
                          0.1658402753
                        ],
                        "iteration": 291,
                        "passed_time": 3.846501856,
                        "remaining_time": 35.67235282,
                        "test": [
                          0.2938513201
                        ]
                      },
                      {
                        "learn": [
                          0.1655480631
                        ],
                        "iteration": 292,
                        "passed_time": 3.857512052,
                        "remaining_time": 35.63919838,
                        "test": [
                          0.2938769893
                        ]
                      },
                      {
                        "learn": [
                          0.1652377496
                        ],
                        "iteration": 293,
                        "passed_time": 3.868875917,
                        "remaining_time": 35.60944977,
                        "test": [
                          0.2939041889
                        ]
                      },
                      {
                        "learn": [
                          0.1649480188
                        ],
                        "iteration": 294,
                        "passed_time": 3.879858965,
                        "remaining_time": 35.5763339,
                        "test": [
                          0.2939627445
                        ]
                      },
                      {
                        "learn": [
                          0.1646921529
                        ],
                        "iteration": 295,
                        "passed_time": 3.891381375,
                        "remaining_time": 35.54829473,
                        "test": [
                          0.2940420004
                        ]
                      },
                      {
                        "learn": [
                          0.1642966469
                        ],
                        "iteration": 296,
                        "passed_time": 3.902414852,
                        "remaining_time": 35.51591699,
                        "test": [
                          0.2941131407
                        ]
                      },
                      {
                        "learn": [
                          0.163920346
                        ],
                        "iteration": 297,
                        "passed_time": 3.91316034,
                        "remaining_time": 35.48107127,
                        "test": [
                          0.2941432561
                        ]
                      },
                      {
                        "learn": [
                          0.1635300802
                        ],
                        "iteration": 298,
                        "passed_time": 3.924336167,
                        "remaining_time": 35.4502742,
                        "test": [
                          0.294055988
                        ]
                      },
                      {
                        "learn": [
                          0.1632236754
                        ],
                        "iteration": 299,
                        "passed_time": 3.935590231,
                        "remaining_time": 35.42031208,
                        "test": [
                          0.2939885478
                        ]
                      },
                      {
                        "learn": [
                          0.1628750871
                        ],
                        "iteration": 300,
                        "passed_time": 3.949825462,
                        "remaining_time": 35.41720572,
                        "test": [
                          0.2941726928
                        ]
                      },
                      {
                        "learn": [
                          0.1624523789
                        ],
                        "iteration": 301,
                        "passed_time": 3.961408542,
                        "remaining_time": 35.39033194,
                        "test": [
                          0.2945471352
                        ]
                      },
                      {
                        "learn": [
                          0.1622577248
                        ],
                        "iteration": 302,
                        "passed_time": 3.972692754,
                        "remaining_time": 35.36089887,
                        "test": [
                          0.2944134589
                        ]
                      },
                      {
                        "learn": [
                          0.1618760918
                        ],
                        "iteration": 303,
                        "passed_time": 3.984068261,
                        "remaining_time": 35.33239484,
                        "test": [
                          0.2943662524
                        ]
                      },
                      {
                        "learn": [
                          0.1616016358
                        ],
                        "iteration": 304,
                        "passed_time": 4.010148378,
                        "remaining_time": 35.43393403,
                        "test": [
                          0.2943439744
                        ]
                      },
                      {
                        "learn": [
                          0.1614610933
                        ],
                        "iteration": 305,
                        "passed_time": 4.020931924,
                        "remaining_time": 35.39996929,
                        "test": [
                          0.2941977123
                        ]
                      },
                      {
                        "learn": [
                          0.1608203034
                        ],
                        "iteration": 306,
                        "passed_time": 4.031987682,
                        "remaining_time": 35.36854341,
                        "test": [
                          0.2941233086
                        ]
                      },
                      {
                        "learn": [
                          0.1604867129
                        ],
                        "iteration": 307,
                        "passed_time": 4.043686246,
                        "remaining_time": 35.3428681,
                        "test": [
                          0.2936562237
                        ]
                      },
                      {
                        "learn": [
                          0.160294582
                        ],
                        "iteration": 308,
                        "passed_time": 4.055956301,
                        "remaining_time": 35.32226022,
                        "test": [
                          0.2938587618
                        ]
                      },
                      {
                        "learn": [
                          0.1598832062
                        ],
                        "iteration": 309,
                        "passed_time": 4.0671052,
                        "remaining_time": 35.29197738,
                        "test": [
                          0.293989722
                        ]
                      },
                      {
                        "learn": [
                          0.1591777742
                        ],
                        "iteration": 310,
                        "passed_time": 4.077665688,
                        "remaining_time": 35.25673002,
                        "test": [
                          0.2939979417
                        ]
                      },
                      {
                        "learn": [
                          0.1589919492
                        ],
                        "iteration": 311,
                        "passed_time": 4.088177512,
                        "remaining_time": 35.22122164,
                        "test": [
                          0.2940212475
                        ]
                      },
                      {
                        "learn": [
                          0.1586475602
                        ],
                        "iteration": 312,
                        "passed_time": 4.099330382,
                        "remaining_time": 35.19137616,
                        "test": [
                          0.2940070088
                        ]
                      },
                      {
                        "learn": [
                          0.1584316391
                        ],
                        "iteration": 313,
                        "passed_time": 4.109194256,
                        "remaining_time": 35.15062348,
                        "test": [
                          0.2940111529
                        ]
                      },
                      {
                        "learn": [
                          0.1580218948
                        ],
                        "iteration": 314,
                        "passed_time": 4.118990572,
                        "remaining_time": 35.10949106,
                        "test": [
                          0.2941137951
                        ]
                      },
                      {
                        "learn": [
                          0.1577876264
                        ],
                        "iteration": 315,
                        "passed_time": 4.129650301,
                        "remaining_time": 35.07589053,
                        "test": [
                          0.2940506859
                        ]
                      },
                      {
                        "learn": [
                          0.1575127562
                        ],
                        "iteration": 316,
                        "passed_time": 4.141742929,
                        "remaining_time": 35.05456239,
                        "test": [
                          0.2944424989
                        ]
                      },
                      {
                        "learn": [
                          0.1570750698
                        ],
                        "iteration": 317,
                        "passed_time": 4.154374093,
                        "remaining_time": 35.03783433,
                        "test": [
                          0.2946156401
                        ]
                      },
                      {
                        "learn": [
                          0.1567328156
                        ],
                        "iteration": 318,
                        "passed_time": 4.164966662,
                        "remaining_time": 35.00399881,
                        "test": [
                          0.294593784
                        ]
                      },
                      {
                        "learn": [
                          0.156251865
                        ],
                        "iteration": 319,
                        "passed_time": 4.177338077,
                        "remaining_time": 34.9852064,
                        "test": [
                          0.2946579396
                        ]
                      },
                      {
                        "learn": [
                          0.1559171703
                        ],
                        "iteration": 320,
                        "passed_time": 4.187662744,
                        "remaining_time": 34.94937225,
                        "test": [
                          0.2944300938
                        ]
                      },
                      {
                        "learn": [
                          0.1555914268
                        ],
                        "iteration": 321,
                        "passed_time": 4.197715234,
                        "remaining_time": 34.91143291,
                        "test": [
                          0.2944126256
                        ]
                      }
                    ],
                    "meta": {
                      "test_sets": [
                        "test"
                      ],
                      "test_metrics": [
                        {
                          "best_value": "Min",
                          "name": "MultiClass"
                        }
                      ],
                      "learn_metrics": [
                        {
                          "best_value": "Min",
                          "name": "MultiClass"
                        }
                      ],
                      "launch_mode": "Train",
                      "parameters": "",
                      "iteration_count": 3000,
                      "learn_sets": [
                        "learn"
                      ],
                      "name": "experiment"
                    }
                  }
                }
              }
            },
            "layout": "IPY_MODEL_fdf27d5f0f484cb3b82871a023cb1464"
          }
        }
      }
    }
  },
  "nbformat": 4,
  "nbformat_minor": 0
}